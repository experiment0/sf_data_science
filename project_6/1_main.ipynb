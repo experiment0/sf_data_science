{
 "cells": [
  {
   "cell_type": "markdown",
   "metadata": {},
   "source": [
    "# Решение задачи классификации"
   ]
  },
  {
   "cell_type": "markdown",
   "metadata": {},
   "source": [
    "## Оглавление\n",
    "\n",
    "- [Постановка задачи](#item_intro)\n",
    "- [Описание и загрузка данных](#item_load)\n",
    "- [Первичная обработка данных](#item_prepare)\n",
    "- [Разведывательный анализ данных (EDA)](#item_eda)\n",
    "    - [Исследование данных таблиц `data_newbies` и `data_participated`](#item_eda_detalis)\n",
    "- [Отбор и преобразование признаков](#item_fi)\n",
    "    - [План создания новых признаков](#item_fi_scheme)\n",
    "    - [Создание и исследование новых признаков](#item_fi_create)\n",
    "    - [Выводы по новым признакам](#item_fi_conclusion)\n",
    "    - [Кодирование оставшихся признаков](#item_fi_encode)\n",
    "    - [Отбор лучших признаков и их нормализация](#item_fi_normalize)\n",
    "- [Решение задачи классификации](#item_classifier)\n",
    "- [Вывод](#item_conclusion)"
   ]
  },
  {
   "cell_type": "markdown",
   "metadata": {},
   "source": [
    "## Постановка задачи <a id=\"item_intro\"></a>\n",
    "\n",
    "**Бизнес-задача:** определить характеристики, по которым можно выявить клиентов, \\\n",
    "более склонных к открытию депозита в банке, \\\n",
    "и за счёт этого повысить результативность маркетинговой кампании.\n",
    "\n",
    "**Техническая задача для специалиста Data Science**: \\\n",
    "построить модель машинного обучения, которая на основе предложенных характеристик клиента \\\n",
    "будет предсказывать, воспользуется он предложением об открытии депозита или нет."
   ]
  },
  {
   "cell_type": "markdown",
   "metadata": {},
   "source": [
    "## Описание и загрузка данных <a id=\"item_load\"></a>"
   ]
  },
  {
   "cell_type": "markdown",
   "metadata": {},
   "source": [
    "Исходные данные можно скачать [здесь](https://disk.yandex.ru/d/agA97zeCmGdpuw).\n",
    "\n",
    "Признаки в данных можно разделить на следующие группы.\n",
    "\n",
    "**Данные о клиентах банка:**\n",
    "\n",
    "- `age` - возраст;\n",
    "- `job` - сфера занятости;\n",
    "- `marital` - семейное положение;\n",
    "- `education` - уровень образования;\n",
    "- `default` - имеется ли просроченный кредит;\n",
    "- `housing` - имеется ли кредит на жильё;\n",
    "- `loan` - имеется ли кредит на личные нужды;\n",
    "- `balance` -  баланс.\n",
    "\n",
    "**Данные, связанные с последним контактом в контексте текущей маркетинговой кампании:**\n",
    "\n",
    "- `contact` - тип контакта с клиентом;\n",
    "- `month` - месяц, в котором был последний контакт;\n",
    "- `day` - день, в который был последний контакт;\n",
    "- `duration` - продолжительность контакта в секундах.\n",
    "\n",
    "**Прочие признаки:**\n",
    "\n",
    "- `campaign` - количество контактов с этим клиентом в течение текущей кампании;\n",
    "- `pdays` - количество пропущенных дней с момента последней маркетинговой кампании до контакта в текущей кампании;\n",
    "- `previous` - количество контактов до текущей кампании;\n",
    "- `poutcome` - результат прошлой маркетинговой кампании.\n",
    "\n",
    "И целевая переменная `deposit`, \\\n",
    "которая определяет, согласился ли клиент открыть депозит в банке.\\\n",
    "Её нужно предсказать."
   ]
  },
  {
   "cell_type": "markdown",
   "metadata": {},
   "source": [
    "Загрузим необходимые библиотеки и данные."
   ]
  },
  {
   "cell_type": "code",
   "execution_count": 1,
   "metadata": {},
   "outputs": [],
   "source": [
    "import pandas as pd\n",
    "\n",
    "from classes.PrepareDataNewbies import columns_to_drop as columns_to_drop_from_newbies\n",
    "from classes.PrepareDataParticipated import columns_to_drop as columns_to_drop_from_participated\n",
    "\n",
    "from functions.display_content import display_field_descriptions"
   ]
  },
  {
   "cell_type": "code",
   "execution_count": 2,
   "metadata": {},
   "outputs": [
    {
     "data": {
      "text/html": [
       "<div>\n",
       "<style scoped>\n",
       "    .dataframe tbody tr th:only-of-type {\n",
       "        vertical-align: middle;\n",
       "    }\n",
       "\n",
       "    .dataframe tbody tr th {\n",
       "        vertical-align: top;\n",
       "    }\n",
       "\n",
       "    .dataframe thead th {\n",
       "        text-align: right;\n",
       "    }\n",
       "</style>\n",
       "<table border=\"1\" class=\"dataframe\">\n",
       "  <thead>\n",
       "    <tr style=\"text-align: right;\">\n",
       "      <th></th>\n",
       "      <th>age</th>\n",
       "      <th>job</th>\n",
       "      <th>marital</th>\n",
       "      <th>education</th>\n",
       "      <th>default</th>\n",
       "      <th>balance</th>\n",
       "      <th>housing</th>\n",
       "      <th>loan</th>\n",
       "      <th>contact</th>\n",
       "      <th>day</th>\n",
       "      <th>month</th>\n",
       "      <th>duration</th>\n",
       "      <th>campaign</th>\n",
       "      <th>pdays</th>\n",
       "      <th>previous</th>\n",
       "      <th>poutcome</th>\n",
       "      <th>deposit</th>\n",
       "    </tr>\n",
       "  </thead>\n",
       "  <tbody>\n",
       "    <tr>\n",
       "      <th>0</th>\n",
       "      <td>59</td>\n",
       "      <td>admin.</td>\n",
       "      <td>married</td>\n",
       "      <td>secondary</td>\n",
       "      <td>no</td>\n",
       "      <td>2 343,00 $</td>\n",
       "      <td>yes</td>\n",
       "      <td>no</td>\n",
       "      <td>unknown</td>\n",
       "      <td>5</td>\n",
       "      <td>may</td>\n",
       "      <td>1042</td>\n",
       "      <td>1</td>\n",
       "      <td>-1</td>\n",
       "      <td>0</td>\n",
       "      <td>unknown</td>\n",
       "      <td>yes</td>\n",
       "    </tr>\n",
       "    <tr>\n",
       "      <th>1</th>\n",
       "      <td>56</td>\n",
       "      <td>admin.</td>\n",
       "      <td>married</td>\n",
       "      <td>secondary</td>\n",
       "      <td>no</td>\n",
       "      <td>45,00 $</td>\n",
       "      <td>no</td>\n",
       "      <td>no</td>\n",
       "      <td>unknown</td>\n",
       "      <td>5</td>\n",
       "      <td>may</td>\n",
       "      <td>1467</td>\n",
       "      <td>1</td>\n",
       "      <td>-1</td>\n",
       "      <td>0</td>\n",
       "      <td>unknown</td>\n",
       "      <td>yes</td>\n",
       "    </tr>\n",
       "    <tr>\n",
       "      <th>2</th>\n",
       "      <td>41</td>\n",
       "      <td>technician</td>\n",
       "      <td>married</td>\n",
       "      <td>secondary</td>\n",
       "      <td>no</td>\n",
       "      <td>1 270,00 $</td>\n",
       "      <td>yes</td>\n",
       "      <td>no</td>\n",
       "      <td>unknown</td>\n",
       "      <td>5</td>\n",
       "      <td>may</td>\n",
       "      <td>1389</td>\n",
       "      <td>1</td>\n",
       "      <td>-1</td>\n",
       "      <td>0</td>\n",
       "      <td>unknown</td>\n",
       "      <td>yes</td>\n",
       "    </tr>\n",
       "    <tr>\n",
       "      <th>3</th>\n",
       "      <td>55</td>\n",
       "      <td>services</td>\n",
       "      <td>married</td>\n",
       "      <td>secondary</td>\n",
       "      <td>no</td>\n",
       "      <td>2 476,00 $</td>\n",
       "      <td>yes</td>\n",
       "      <td>no</td>\n",
       "      <td>unknown</td>\n",
       "      <td>5</td>\n",
       "      <td>may</td>\n",
       "      <td>579</td>\n",
       "      <td>1</td>\n",
       "      <td>-1</td>\n",
       "      <td>0</td>\n",
       "      <td>unknown</td>\n",
       "      <td>yes</td>\n",
       "    </tr>\n",
       "    <tr>\n",
       "      <th>4</th>\n",
       "      <td>54</td>\n",
       "      <td>admin.</td>\n",
       "      <td>married</td>\n",
       "      <td>tertiary</td>\n",
       "      <td>no</td>\n",
       "      <td>184,00 $</td>\n",
       "      <td>no</td>\n",
       "      <td>no</td>\n",
       "      <td>unknown</td>\n",
       "      <td>5</td>\n",
       "      <td>may</td>\n",
       "      <td>673</td>\n",
       "      <td>2</td>\n",
       "      <td>-1</td>\n",
       "      <td>0</td>\n",
       "      <td>unknown</td>\n",
       "      <td>yes</td>\n",
       "    </tr>\n",
       "  </tbody>\n",
       "</table>\n",
       "</div>"
      ],
      "text/plain": [
       "   age         job  marital  education default       balance housing loan  \\\n",
       "0   59      admin.  married  secondary      no   2 343,00 $      yes   no   \n",
       "1   56      admin.  married  secondary      no      45,00 $       no   no   \n",
       "2   41  technician  married  secondary      no   1 270,00 $      yes   no   \n",
       "3   55    services  married  secondary      no   2 476,00 $      yes   no   \n",
       "4   54      admin.  married   tertiary      no     184,00 $       no   no   \n",
       "\n",
       "   contact  day month  duration  campaign  pdays  previous poutcome deposit  \n",
       "0  unknown    5   may      1042         1     -1         0  unknown     yes  \n",
       "1  unknown    5   may      1467         1     -1         0  unknown     yes  \n",
       "2  unknown    5   may      1389         1     -1         0  unknown     yes  \n",
       "3  unknown    5   may       579         1     -1         0  unknown     yes  \n",
       "4  unknown    5   may       673         2     -1         0  unknown     yes  "
      ]
     },
     "execution_count": 2,
     "metadata": {},
     "output_type": "execute_result"
    }
   ],
   "source": [
    "# Загрузим данные\n",
    "data_source = pd.read_csv('./data/bank_fin.csv', sep=';')\n",
    "\n",
    "# Сделаем копию таблицы\n",
    "data = data_source.copy()\n",
    "\n",
    "# Выведем первые строки\n",
    "data.head()"
   ]
  },
  {
   "cell_type": "markdown",
   "metadata": {},
   "source": [
    "## Первичная обработка данных <a id=\"item_prepare\"></a>"
   ]
  },
  {
   "cell_type": "markdown",
   "metadata": {},
   "source": [
    "Описание первичной обработки данных для удобства чтения вынесено в файл [2_1_prepare_data.ipynb](./2_1_prepare_data.ipynb).\n",
    "\n",
    "Исследования показывают, что данные лучше разделить на две таблицы.\n",
    "\n",
    "- В одной оставить только данные клиентов, которые не участвовали ранее в кампаниях банка, \\\n",
    "назовем ее `data_newbies`.\n",
    "- В другую поместить данные клиентов, которые уже участвовали в кампаниях банка,\\\n",
    "назовем ее `data_participated`.\n",
    "\n",
    "В таблице `data_newbies` (с новыми клиентами) удалены поля `pdays`, `previous`, `poutcome`.\\\n",
    "Так как они содержат информацию об участии клиентов в прошлых кампаниях банка,\\\n",
    "и не информативны для новых клиентов.\n",
    "\n",
    "Операции по обработке данных по результатам исследования вынесены методы классов:\n",
    "- [classes.PrepareData](./classes/PrepareData.py) - содержит общие для обеих таблиц операции;\n",
    "- [classes.PrepareDataNewbies](./classes/PrepareDataNewbies.py) - содержит операции, специфические для таблицы `data_newbies`;\n",
    "- [classes.PrepareDataParticipated](./classes/PrepareDataParticipated.py) - содержит операции, специфические для таблицы `data_participated`.\n",
    "\n",
    "Первичную обработку данных производит метод `specific_prepare_data`."
   ]
  },
  {
   "cell_type": "markdown",
   "metadata": {},
   "source": [
    "## Разведывательный анализ данных (EDA) <a id=\"item_eda\"></a>"
   ]
  },
  {
   "cell_type": "markdown",
   "metadata": {},
   "source": [
    "<h3>Исследование данных таблиц<br /> <code>data_newbies</code> и <code>data_participated</code> <a id=\"item_eda_detalis\"></a></h3>"
   ]
  },
  {
   "cell_type": "markdown",
   "metadata": {},
   "source": [
    "- Исследование данных таблицы `data_newbies` \\\n",
    "вынесено в файл [3_2_eda_newbies.ipynb](./3_2_eda_newbies.ipynb)\n",
    "\n",
    "- Исследование данных таблицы `data_participated` \\\n",
    "вынесено в файл [3_2_eda_participated.ipynb](./3_2_eda_participated.ipynb)"
   ]
  },
  {
   "cell_type": "markdown",
   "metadata": {},
   "source": [
    "Исследование показывает, что для **обеих таблиц**\n",
    "\n",
    "*Можно выделить следующие признаки клиентов, которые более склонны открывать депозит.*\n",
    "\n",
    "- Чем больше баланс, тем более склонны клиенты открывать депозит (признак `balance`).\n",
    "- Клиенты в возрасте до 24 лет и после 60 (признак `age`).\\\n",
    "По сферам занятости возраст до 24 лет можно предположительно отнести к студентам,\\\n",
    "после 60 - к пенсионерам.\n",
    "- Клиенты с высшим образованием (признак `education`).\n",
    "- Клиенты, которые не брали кредита на жилье или личные нужды и у которых нет просроченного кредита \\\n",
    "(признаки `housing`, `loan`, `default`).\n",
    "- Чем дольше длился разговор с клиентом, тем более склонен он к открытию депозита (признак `duration`).\n",
    "\n",
    "*Малозначимые признаки*\n",
    "\n",
    "- Зависимости от признака `campaign` (количество контактов с клиентов в рамках текущей кампании) практически не заметно.\n",
    "\n",
    "*Также наблюдается взаимосвязь признаков*\n",
    "\n",
    "- `age` (возраст) и `marital` (семейное положение).\\\n",
    "Причем в двух таблицах характер их распределения немного разный.\n",
    "- `job` (сфера занятости) и `education` (уровень образования).\\\n",
    "Среди менеджеров больше клиентов с высшим образованием, \\\n",
    "а среди \"синих воротничков\" - с начальным."
   ]
  },
  {
   "cell_type": "markdown",
   "metadata": {},
   "source": [
    "**Для таблицы `data_newbies`**\n",
    "\n",
    "*Можно выделить следующие признаки клиентов, которые более склонны открывать депозит.*\n",
    "\n",
    "- Одинокие и разведенные клиенты (признак `marital`).\n",
    "- Студенты, пенсионеры, безработные (признак `job`).\n",
    "- Клиенты, которым в последний раз звонили в апреле, марте, сентябре, октябре и декабре (признак `month`).\n",
    "- Клиенты, способ контакта с которыми известен (звонок на сотовый или стационарный телефон) (признак `contact`).\n",
    "\n",
    "*Наиболее значимые признаки*\n",
    "\n",
    "- Наиболее значимым признаком является `duration` (длительность последнего общения с клиентом).\\\n",
    "Коэффициент корреляции с `deposit` равен `0.57`.\n",
    "\n",
    "*Наблюдается взаимосвязь следующих признаков*\n",
    "\n",
    "-  `month` (месяц последнего контакта) и `housing` (наличие кредита на жилье).\\\n",
    "Подоавляющее большинство клиентов, с которыми связывались с мае, взяли кредит на жилье.\\\n",
    "Возможно, в мае была какая-то акция, связанная с выгодным кредитом на жилье.\n",
    "\n",
    "- `month` (месяц последнего контакта) и `contact` (тип контакта с клиентом)\\\n",
    "Наибольшее количество контактов с типом `unknown` (неизвестный) наблюдается в мае и июне.\\\n",
    "Возможно, это связано с особенностями работы банка в эти месяцы."
   ]
  },
  {
   "cell_type": "markdown",
   "metadata": {},
   "source": [
    "**Для таблицы `data_participated`**\n",
    "\n",
    "*Можно выделить следующие признаки клиентов, которые более склонны открывать депозит.*\n",
    "\n",
    "- Студенты, пенсионеры, безработные, а также менеджеры (признак `job`).\n",
    "- Клиенты, которым последний раз звонили \\\n",
    "в марте, июне, июле, августе, сентябре, октябре и декабре (признак `month`).\n",
    "- Клиенты, которым звонили на сотовый (признак `contact`).\n",
    "- Клиенты, у для которых результат прошлой кампании банка был успешным (признак `poutcome`).\n",
    "- Клиенты, с которыми времени общения с момента прошлой кампании прошло меньше (признак `pdays`).\n",
    "\n",
    "*Малозначимые признаки*\n",
    "\n",
    "- Доля не открывших депозит среди женатых, одиноких и разведенных клиентов примерно одинакова.\\\n",
    "Для данной таблицы этот признак (`marital`) малозначим.\n",
    "- Зависимости от признака `previous` (количество контактов до текущей кампании) практически не заметно.\n",
    "\n",
    "*Наиболее значимые признаки*\n",
    "\n",
    "- Три наиболее значимых признака  \n",
    "    - `poutcome` (успех предыдущей кампании)\n",
    "    - `housing` (наличие кредита на жилье)\n",
    "    - `duration` (длительность последнего общения с клиентом)\n",
    "    \n",
    "Характер их влияния на открытие депозита описан выше.\n",
    "\n",
    "*Наблюдается взаимосвязь признаков*\n",
    "\n",
    "- `month` (месяц последнего контакта) и `housing` (наличие кредита на жилье).\\\n",
    "Подавляющее большинство клиентов, с которыми связывались с мае и апреле, взяли кредит на жилье.\\\n",
    "Возможно, в мае-апреле была какая-то акция, связанная с выгодным кредитом на жилье."
   ]
  },
  {
   "cell_type": "markdown",
   "metadata": {},
   "source": [
    "В рамках исследования изменения в таблицы не вносились."
   ]
  },
  {
   "cell_type": "markdown",
   "metadata": {},
   "source": [
    "## Отбор и преобразование признаков <a id=\"item_fi\"></a>"
   ]
  },
  {
   "cell_type": "markdown",
   "metadata": {},
   "source": [
    "### План создания новых признаков <a id=\"item_fi_scheme\"></a>\n",
    "\n",
    "На основе исследования данных есть предположение, что имеет смысл создать следующие новые признаки.\n",
    "\n",
    "**Для обеих таблиц:**\n",
    "\n",
    "- На основе признака `job` сделать признак `has_income`, в который выделить 2 категории клиентов:\n",
    "    - без дохода (студенты, пенсионеры, безработные);\n",
    "    - с доходом (все остальные).\n",
    "\n",
    "- На основе признака `job` создать порядковый признак `job_loyal`.\\\n",
    "И в каждой группе собрать сферы занятости, где процентное соотношение открывших и не открывших депозит примерно одинаково.\n",
    "\n",
    "- На основе признаков `housing`, `loan`, `default` сделать признак `has_credit`, \\\n",
    "который говорит о том, есть ли у клиента кредит.\n",
    "\n",
    "- На основе признака `balance` создать признак `is_debtor`, \\\n",
    "который будет содержать информацию о том, отрицательный у клиента баланс или нет.\n",
    "\n",
    "- Разделить признак `age` по группам в 10 лет (создать новый признак `age_scale`). \\\n",
    "И посмотреть, даст ли он бОльшую корреляцию с признаком `deposit`.\n",
    "\n",
    "- На основе признака `age` создать признак `is_working_age` (является ли возраст рабочим),\\\n",
    "который будет принимать `1`, если возраст клиента от `25` до `60` лет.\\\n",
    "И `0` в противном случае.\n",
    "\n",
    "- Разделить признак `duration` по группам в 10 минут (создать новый признак `duration_scale`). \\\n",
    "И посмотреть, даст ли он бОльшую корреляцию с признаком `deposit`.\n",
    "\n",
    "- На основе признака `month` сделать признак `season` с временем года, когда был последний контакт.\n",
    "\n",
    "- Объединить признаки `month` и `day` в признак `contact_date` с календарными датами и посмотреть, \\\n",
    "есть ли периоды, в которые клиенты более склонны открывать депозит.\n",
    "\n",
    "- При исследовании распределения признака `contact_date` можно заметить, что в определенные промежутки\n",
    "клиентам звонили явно чаще, а в другие явно реже.\\\n",
    "Также в одни промежутки клиенты явно больше брали кредит на жилье, в другие открывали депозит.\\\n",
    "Можно предположить, что в течение года (к сожалению, не известно, имеем ли мы дело с данными за один год или за несколько) в разные даты есть прозвоны разных типов:\\\n",
    "    - по кредиту на жилье\n",
    "    - по открытию депозита\n",
    "    - общий прозвон (и кредит на жилье и депозит)\n",
    "    - отсутствие прозвона (спокойное время)\\    \n",
    "Назовем этот признак `ringing_type`.\\\n",
    "Если данные представлены за один год, то в другой год могут быть другие типы прозвонов, и этот признак будет бесполезен, нужно будет искать другие закономерности."
   ]
  },
  {
   "cell_type": "markdown",
   "metadata": {},
   "source": [
    "### Создание и исследование новых признаков <a id=\"item_fi_create\"></a>"
   ]
  },
  {
   "cell_type": "markdown",
   "metadata": {},
   "source": [
    "Код создания новых признаков вынесен в метод `add_new_specific_features` \\\n",
    "классов [PrepareDataNewbies](./classes/PrepareDataNewbies.py) и [PrepareDataParticipated](./classes/PrepareDataParticipated.py).\n",
    "\n",
    "Список новых признаков находится в переменной `new_features` в общем классе [PrepareData](./classes/PrepareData.py).\n",
    "\n",
    "Создание новых признаков и исследование их корреляции с целевой переменной `deposit` вынесено в файлы:\n",
    "\n",
    "- Для таблицы `data_newbies` \\\n",
    "в файл [4_2_feature_inginiring_newbies.ipynb](./4_2_feature_inginiring_newbies.ipynb)\n",
    "- Для таблицы `data_participated` \\\n",
    "в файл [4_2_feature_inginiring_participated.ipynb](./4_2_feature_inginiring_participated.ipynb)"
   ]
  },
  {
   "cell_type": "markdown",
   "metadata": {},
   "source": [
    "### Выводы по новым признакам <a id=\"item_fi_conclusion\"></a>"
   ]
  },
  {
   "cell_type": "markdown",
   "metadata": {},
   "source": [
    "По результатам исследования можно сделать вывод, что эффективными для обеих таблиц оказались признаки:"
   ]
  },
  {
   "cell_type": "markdown",
   "metadata": {},
   "source": [
    "- `has_credit` (есть ли кредит у клиента). \\\n",
    "Он имеет корреляцию с `deposit` больше, чем исходные `housing`, `loan`, `default`.\\\n",
    "По распределению видно, что клиенты, у которых есть кредит, менее склонны открывать депозит.\n",
    "\n",
    "- `is_working_age` (является ли возраст клиента рабочим).\\\n",
    "Имеет бОльшую корреляцию с `deposit`, чем исходный `age`.\\\n",
    "По распределению видно, что клиенты в нерабочем возрасте более склонны открывать депозит.\n",
    "\n",
    "- `ringing_type` (тип прозвона).\\\n",
    "Также имеет бОльшую корреляцию с `deposit`, чем исходный `contact_date`.\\\n",
    "При типах прозвона `weak` и `deposit` клиенты открывают депозит чаще.\n",
    "\n",
    "- `has_income` (имеется ли доход у клиента).\\\n",
    "Имеет бОльшую корреляцию с `deposit`, чем исходный `job`.\\\n",
    "По распределению видно, что клиенты, у которых нет дохода, открывают депозит чаще.\n",
    "\n",
    "- `job_loyal` (уровень лояльности к предложению открыть депозит в зависимости от сферы занятости).\\\n",
    "Также имеет корреляцию с `deposit` больше, чем исходный `job`.\\\n",
    "И в общем включает в себя информацию из признака `has_income`."
   ]
  },
  {
   "cell_type": "markdown",
   "metadata": {},
   "source": [
    "Перед кодированием признаков из обеих таблиц удалим менее значимые признаки,\\\n",
    "которые коррелируют с существующими и по сути повторяют информацию в них.\\\n",
    "Список их для каждой таблицы определен эксперементально."
   ]
  },
  {
   "cell_type": "markdown",
   "metadata": {},
   "source": [
    "Из таблицы `data_newbies` удалим признаки:"
   ]
  },
  {
   "cell_type": "code",
   "execution_count": 3,
   "metadata": {},
   "outputs": [
    {
     "data": {
      "text/markdown": [
       "- `duration_scale` - шкала длительности последнего контакта"
      ],
      "text/plain": [
       "<IPython.core.display.Markdown object>"
      ]
     },
     "metadata": {},
     "output_type": "display_data"
    },
    {
     "data": {
      "text/markdown": [
       "- `age_scale` - шкала возраста"
      ],
      "text/plain": [
       "<IPython.core.display.Markdown object>"
      ]
     },
     "metadata": {},
     "output_type": "display_data"
    },
    {
     "data": {
      "text/markdown": [
       "- `housing` - имеется ли кредит на жильё"
      ],
      "text/plain": [
       "<IPython.core.display.Markdown object>"
      ]
     },
     "metadata": {},
     "output_type": "display_data"
    },
    {
     "data": {
      "text/markdown": [
       "- `loan` - имеется ли кредит на личные нужды"
      ],
      "text/plain": [
       "<IPython.core.display.Markdown object>"
      ]
     },
     "metadata": {},
     "output_type": "display_data"
    },
    {
     "data": {
      "text/markdown": [
       "- `default` - имеется ли просроченный кредит"
      ],
      "text/plain": [
       "<IPython.core.display.Markdown object>"
      ]
     },
     "metadata": {},
     "output_type": "display_data"
    },
    {
     "data": {
      "text/markdown": [
       "- `season` - время года последнего контакта с клиентом"
      ],
      "text/plain": [
       "<IPython.core.display.Markdown object>"
      ]
     },
     "metadata": {},
     "output_type": "display_data"
    },
    {
     "data": {
      "text/markdown": [
       "- `job` - сфера занятости"
      ],
      "text/plain": [
       "<IPython.core.display.Markdown object>"
      ]
     },
     "metadata": {},
     "output_type": "display_data"
    },
    {
     "data": {
      "text/markdown": [
       "- `month` - месяц, в котором был последний контакт"
      ],
      "text/plain": [
       "<IPython.core.display.Markdown object>"
      ]
     },
     "metadata": {},
     "output_type": "display_data"
    },
    {
     "data": {
      "text/markdown": [
       "- `day` - день, в который был последний контакт"
      ],
      "text/plain": [
       "<IPython.core.display.Markdown object>"
      ]
     },
     "metadata": {},
     "output_type": "display_data"
    },
    {
     "data": {
      "text/markdown": [
       "- `age` - возраст"
      ],
      "text/plain": [
       "<IPython.core.display.Markdown object>"
      ]
     },
     "metadata": {},
     "output_type": "display_data"
    }
   ],
   "source": [
    "display_field_descriptions(columns_to_drop_from_newbies)"
   ]
  },
  {
   "cell_type": "markdown",
   "metadata": {},
   "source": [
    "Из таблицы `data_participated` удалим признаки:"
   ]
  },
  {
   "cell_type": "code",
   "execution_count": 4,
   "metadata": {},
   "outputs": [
    {
     "data": {
      "text/markdown": [
       "- `age` - возраст"
      ],
      "text/plain": [
       "<IPython.core.display.Markdown object>"
      ]
     },
     "metadata": {},
     "output_type": "display_data"
    },
    {
     "data": {
      "text/markdown": [
       "- `housing` - имеется ли кредит на жильё"
      ],
      "text/plain": [
       "<IPython.core.display.Markdown object>"
      ]
     },
     "metadata": {},
     "output_type": "display_data"
    },
    {
     "data": {
      "text/markdown": [
       "- `loan` - имеется ли кредит на личные нужды"
      ],
      "text/plain": [
       "<IPython.core.display.Markdown object>"
      ]
     },
     "metadata": {},
     "output_type": "display_data"
    },
    {
     "data": {
      "text/markdown": [
       "- `default` - имеется ли просроченный кредит"
      ],
      "text/plain": [
       "<IPython.core.display.Markdown object>"
      ]
     },
     "metadata": {},
     "output_type": "display_data"
    },
    {
     "data": {
      "text/markdown": [
       "- `duration_scale` - шкала длительности последнего контакта"
      ],
      "text/plain": [
       "<IPython.core.display.Markdown object>"
      ]
     },
     "metadata": {},
     "output_type": "display_data"
    },
    {
     "data": {
      "text/markdown": [
       "- `season` - время года последнего контакта с клиентом"
      ],
      "text/plain": [
       "<IPython.core.display.Markdown object>"
      ]
     },
     "metadata": {},
     "output_type": "display_data"
    },
    {
     "data": {
      "text/markdown": [
       "- `month` - месяц, в котором был последний контакт"
      ],
      "text/plain": [
       "<IPython.core.display.Markdown object>"
      ]
     },
     "metadata": {},
     "output_type": "display_data"
    },
    {
     "data": {
      "text/markdown": [
       "- `has_income` - имеется ли доход у клиента"
      ],
      "text/plain": [
       "<IPython.core.display.Markdown object>"
      ]
     },
     "metadata": {},
     "output_type": "display_data"
    },
    {
     "data": {
      "text/markdown": [
       "- `job` - сфера занятости"
      ],
      "text/plain": [
       "<IPython.core.display.Markdown object>"
      ]
     },
     "metadata": {},
     "output_type": "display_data"
    },
    {
     "data": {
      "text/markdown": [
       "- `contact_date` - дата, когда был последний контакт"
      ],
      "text/plain": [
       "<IPython.core.display.Markdown object>"
      ]
     },
     "metadata": {},
     "output_type": "display_data"
    }
   ],
   "source": [
    "display_field_descriptions(columns_to_drop_from_participated)"
   ]
  },
  {
   "cell_type": "markdown",
   "metadata": {},
   "source": [
    "### Кодирование оставшихся признаков <a id=\"item_fi_encode\"></a>"
   ]
  },
  {
   "cell_type": "markdown",
   "metadata": {},
   "source": [
    "В обеих таблицах все признаки с типом `object` подходят для однократного кодирования.\n",
    "\n",
    "Признак `education` сделаем порядковым, а признак `marital` бинарным.\n",
    "\n",
    "Столбцы `contact_date` и `day` являются по сути категориальными.\\\n",
    "Поскольку они имеют больше 15 уникальных значений, закодируем их с помощью бинарного кодирования.\n",
    "\n",
    "Итоговый код кодирования признаков реализован в методе `encoded_specific_columns` \\\n",
    "классов [PrepareDataNewbies](./classes/PrepareDataNewbies.py) и [PrepareDataParticipated](./classes/PrepareDataParticipated.py).\n",
    "\n",
    "Кодирование признаков и их дальнейшее исследование находится в тех же файлах.\n",
    "\n",
    "- Для таблицы `data_newbies` \n",
    "в [4_2_feature_inginiring_newbies.ipynb](./4_2_feature_inginiring_newbies.ipynb)\n",
    "\n",
    "- Для таблицы `data_participated` \n",
    "в [4_2_feature_inginiring_participated.ipynb](./4_2_feature_inginiring_participated.ipynb)"
   ]
  },
  {
   "cell_type": "markdown",
   "metadata": {},
   "source": [
    "### Отбор лучших признаков и их нормализация <a id=\"item_fi_normalize\"></a>"
   ]
  },
  {
   "cell_type": "markdown",
   "metadata": {},
   "source": [
    "Отбор лучших признаков реализован с помощью `SelectKBest`.\n",
    "\n",
    "Количество оставляемых признаков определено эксперементально и вынесено в поле `best_features_count` \\\n",
    "классов [PrepareDataNewbies](./classes/PrepareDataNewbies.py) и [PrepareDataParticipated](./classes/PrepareDataParticipated.py).\n",
    "\n",
    "Нормализация реализована  с помощью `MinMaxScaler`\n",
    "\n",
    "Итоговый код для подготовки данных для модели реализован в методе `get_specific_data_for_model` упомянутых выше классов."
   ]
  },
  {
   "cell_type": "markdown",
   "metadata": {},
   "source": [
    "## Решение задачи классификации <a id=\"item_classifier\"></a>"
   ]
  },
  {
   "cell_type": "markdown",
   "metadata": {},
   "source": [
    "> Для оценки качества моделей выберем метрику $F_1$, так как выборка для `data_participated` несбалансирована."
   ]
  },
  {
   "cell_type": "markdown",
   "metadata": {},
   "source": [
    "Для обеих таблиц (`data_newbies` и `data_participated`) реализована классификацию с помощью моделей:\n",
    "- Логистическая регрессия\n",
    "- Дерево решений\n",
    "- Случайный лес\n",
    "- Градиентный бустинг\n",
    "- И стекинг на основе полученных моделей\n",
    "\n",
    "Гиперпараметры моделей подобраны 2-мя способами:\n",
    "- визуально с помощью графика;\n",
    "- с помощью библиотеки `optuna`.\n",
    "\n",
    "Сделано сравнение, какие модели дают лучший результат.\n",
    "\n",
    "Для таблицы `data_newbies` решение задачи классификации вынесено  в файл [5_2_classification_newbies.ipynb](./5_2_classification_newbies.ipynb).\\\n",
    "А для таблицы `data_participated` в файл [5_2_classification_participated.ipynb](./5_2_classification_participated.ipynb)."
   ]
  },
  {
   "cell_type": "markdown",
   "metadata": {},
   "source": [
    "## Вывод <a id=\"item_conclusion\"></a>"
   ]
  },
  {
   "cell_type": "markdown",
   "metadata": {},
   "source": [
    "**Для таблицы `data_newbies`** лучший результат показала модель `StackingClassifier`.\\\n",
    "Значение метрики $F_1$ на тестовой выборке равно `0.8392`.\n",
    "\n",
    "**Для таблицы `data_participated`** лучший результат показала модель `RandomForestClassifier`.\\\n",
    "Значение метрики $F_1$ на тестовой выборке равно `0.8703`.\n",
    "\n",
    "**Для обеих таблиц** можно заметить, что поиск оптимального значения гиперпараметров\\\n",
    "с помощью графика дает сравнимый, а иногда и более лучший результат, \\\n",
    "чем получение параметров с помощью `optuna`.\n",
    "\n",
    "Чтобы получить больше пользы от `optuna`, нужно поэтапно корректировать область поиска параметров."
   ]
  }
 ],
 "metadata": {
  "kernelspec": {
   "display_name": "Python 3",
   "language": "python",
   "name": "python3"
  },
  "language_info": {
   "codemirror_mode": {
    "name": "ipython",
    "version": 3
   },
   "file_extension": ".py",
   "mimetype": "text/x-python",
   "name": "python",
   "nbconvert_exporter": "python",
   "pygments_lexer": "ipython3",
   "version": "3.9.10"
  }
 },
 "nbformat": 4,
 "nbformat_minor": 2
}
