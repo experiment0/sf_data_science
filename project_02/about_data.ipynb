{
 "cells": [
  {
   "attachments": {},
   "cell_type": "markdown",
   "metadata": {},
   "source": [
    "[< Вернуться к оглавлению](https://github.com/experiment0/sf_data_science/blob/main/project_2/README.md#Краткая-информация-о-данных)\n",
    "\n",
    "# Описание таблиц"
   ]
  },
  {
   "attachments": {},
   "cell_type": "markdown",
   "metadata": {},
   "source": [
    "## Схема таблиц"
   ]
  },
  {
   "attachments": {},
   "cell_type": "markdown",
   "metadata": {},
   "source": [
    "![](./images/SQL_pj2_2_1.png)"
   ]
  },
  {
   "attachments": {},
   "cell_type": "markdown",
   "metadata": {},
   "source": [
    "Далее рассмотрим каждую таблицу подробнее\n",
    "\n",
    "## vacancies\n",
    "\n",
    "Таблица хранит в себе данные по вакансиям и содержит следующие столбцы:\n",
    "\n",
    "![](./images/SQL_pj2_2_2.png)\n",
    "\n",
    "Зарплатная вилка — это верхняя и нижняя граница оплаты труда в рублях \\\n",
    "(зарплаты в других валютах уже переведены в рубли). \\\n",
    "Соискателям она показывает, в каком диапазоне компания готова платить сотруднику на этой должности."
   ]
  },
  {
   "attachments": {},
   "cell_type": "markdown",
   "metadata": {},
   "source": [
    "## areas\n",
    "\n",
    "Таблица-справочник, которая хранит код города и его название.\n",
    "\n",
    "![](./images/SQL_pj2_2_3.png)"
   ]
  },
  {
   "attachments": {},
   "cell_type": "markdown",
   "metadata": {},
   "source": [
    "## employers\n",
    "\n",
    "Таблица-справочник со списком работодателей.\n",
    "\n",
    "![](./images/SQL_pj2_2_4.png)"
   ]
  },
  {
   "attachments": {},
   "cell_type": "markdown",
   "metadata": {},
   "source": [
    "## industries\n",
    "\n",
    "Таблица-справочник вариантов сфер деятельности работодателей.\n",
    "\n",
    "![](./images/SQL_pj2_2_5.png)"
   ]
  },
  {
   "attachments": {},
   "cell_type": "markdown",
   "metadata": {},
   "source": [
    "## employers_industries\n",
    "\n",
    "Таблица для организации связи между работодателями и сферами их деятельности.\n",
    "\n",
    "![](./images/SQL_pj2_2_6.png)"
   ]
  },
  {
   "attachments": {},
   "cell_type": "markdown",
   "metadata": {},
   "source": [
    "[< Вернуться к оглавлению](https://github.com/experiment0/sf_data_science/blob/main/project_2/README.md#Краткая-информация-о-данных)"
   ]
  }
 ],
 "metadata": {
  "kernelspec": {
   "display_name": "Python 3",
   "language": "python",
   "name": "python3"
  },
  "language_info": {
   "name": "python",
   "version": "3.9.10"
  },
  "orig_nbformat": 4,
  "vscode": {
   "interpreter": {
    "hash": "dd0490222fa5208b9f9573ea05f0eb034a7bd50cc6705748ecc842d2122e00b3"
   }
  }
 },
 "nbformat": 4,
 "nbformat_minor": 2
}
