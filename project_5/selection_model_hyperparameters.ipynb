{
 "cells": [
  {
   "cell_type": "markdown",
   "metadata": {},
   "source": [
    "# Подбор гиперпараметров для моделей логистическая регрессия и случайный лес"
   ]
  },
  {
   "cell_type": "markdown",
   "metadata": {},
   "source": [
    "> Для корректной работы ссылок оглавления лучше смотреть проект здесь \\\n",
    "> https://nbviewer.org/github/experiment0/sf_data_science/blob/main/project_5/selection_model_hyperparameters.ipynb"
   ]
  },
  {
   "cell_type": "markdown",
   "metadata": {},
   "source": [
    "## Оглавление\n",
    "- [1. Описание задачи](#item_1)\n",
    "- [2. Знакомство с данными](#item_2)\n",
    "- [3. Подготовка данных](#item_3)\n",
    "- [4. Использование логистической регрессии (LogisticRegression)](#item_4)\n",
    "    - [4.1. Использование гиперпараметров по умолчанию](#item_4_1)\n",
    "    - [4.2. Поиск гиперпараметров с помощью GridSearchCV](#item_4_2)\n",
    "    - [4.3. Поиск гиперпараметров с помощью RandomizedSearchCV](#item_4_3)\n",
    "    - [4.4. Поиск гиперпараметров с помощью Hyperopt](#item_4_4)\n",
    "    - [4.5. Поиск гиперпараметров с помощью Optuna](#item_4_5)\n",
    "- [5. Использование случайного леса (RandomForestClassifier)](#item_5)\n",
    "    - [5.1. Использование гиперпараметров по умолчанию](#item_5_1)\n",
    "    - [5.2. Поиск гиперпараметров с помощью GridSearchCV](#item_5_2)\n",
    "    - [5.3. Поиск гиперпараметров с помощью RandomizedSearchCV](#item_5_3)\n",
    "    - [5.4. Поиск гиперпараметров с помощью Hyperopt](#item_5_4)\n",
    "    - [5.5. Поиск гиперпараметров с помощью Optuna](#item_5_5)\n",
    "- [6. Выводы](#item_6)"
   ]
  },
  {
   "cell_type": "markdown",
   "metadata": {},
   "source": [
    "## 1. Описание задачи <a id=\"item_1\"></a>"
   ]
  },
  {
   "cell_type": "markdown",
   "metadata": {},
   "source": [
    "Работа основана на данных из соревнования Kaggle: \\\n",
    "[Predicting a Biological Response](https://www.kaggle.com/c/bioresponse) (Прогнозирование биологического ответа).\n",
    "\n",
    "Необходимо предсказать биологический ответ молекул (столбец '**Activity**') \\\n",
    "по их химическому составу (столбцы **D1-D1776**).\n",
    "\n",
    "Каждая строка представляет молекулу. \n",
    "\n",
    "- Первый столбец **Activity** содержит экспериментальные данные, \\\n",
    "описывающие фактический биологический ответ `[0, 1]`; \n",
    "- Остальные столбцы **D1-D1776** представляют собой молекулярные дескрипторы — \\\n",
    "это вычисляемые свойства, которые могут фиксировать некоторые характеристики молекулы, \\\n",
    "например размер, форму или состав элементов.\n",
    "\n",
    "Предварительная обработка не требуется, данные уже закодированы и нормализованы.\n",
    "\n",
    "В качестве метрики будем использовать $F_1$-score.\n",
    "\n",
    "Обучим две модели: **логистическую регрессию** и **случайный лес**. \\\n",
    "И сделаем подбор гиперпараметров с помощью базовых и продвинутых методов оптимизации \\\n",
    "(**GridSeachCV**, **RandomizedSearchCV**, **Hyperopt**, **Optuna**).\\\n",
    "Сделаем вывод по полученным результатам."
   ]
  },
  {
   "cell_type": "markdown",
   "metadata": {},
   "source": [
    "## 2. Знакомство с данными <a id=\"item_2\"></a>"
   ]
  },
  {
   "cell_type": "code",
   "execution_count": 1,
   "metadata": {},
   "outputs": [],
   "source": [
    "# Импорт библиотек\n",
    "import numpy as np # для матричных вычислений\n",
    "import pandas as pd # для анализа и предобработки данных\n",
    "import matplotlib.pyplot as plt # для визуализации\n",
    "import seaborn as sns # для визуализации\n",
    "\n",
    "from sklearn.model_selection import (\n",
    "    train_test_split, # сплитование выборки\n",
    "    cross_validate, # для кроссвалидации\n",
    "    cross_val_score, # для кроссвалидации\n",
    "    StratifiedKFold, # для кроссвалидации\n",
    "    GridSearchCV, # подбор гиперпараметров по сетке\n",
    "    RandomizedSearchCV, # случайный подбор гиперпараметров\n",
    ")    \n",
    "\n",
    "from sklearn.linear_model import LogisticRegression # логистическая регрессия\n",
    "from sklearn.ensemble import RandomForestClassifier # случайный лес\n",
    "from sklearn import metrics # метрики\n",
    "\n",
    "# hp - включает набор методов для объявления пространства поиска гиперпараметров\n",
    "# fmin - основная функция, она будет минимизировать наш функционал\n",
    "# tpe - алгоритм оптимизации\n",
    "# Trials - используется для логирования результатов\n",
    "from hyperopt import hp, fmin, tpe, Trials\n",
    "\n",
    "import optuna\n",
    "\n",
    "from comet_ml import Experiment # логирование экспериментов\n",
    "\n",
    "%matplotlib inline"
   ]
  },
  {
   "cell_type": "code",
   "execution_count": 2,
   "metadata": {},
   "outputs": [
    {
     "name": "stderr",
     "output_type": "stream",
     "text": [
      "\u001b[1;38;5;214mCOMET WARNING:\u001b[0m To get all data logged automatically, import comet_ml before the following modules: sklearn.\n",
      "\u001b[1;38;5;214mCOMET WARNING:\u001b[0m As you are running in a Jupyter environment, you will need to call `experiment.end()` when finished to ensure all metrics and code are logged before exiting.\n",
      "\u001b[1;38;5;39mCOMET INFO:\u001b[0m Experiment is live on comet.com https://www.comet.com/experiment0/predicting-biological-response/74718b66e9ad4415a2e1ba68b63f2c59\n",
      "\n"
     ]
    }
   ],
   "source": [
    "# Объект класса Experiment для логирования результатов эксперимента\n",
    "experiment = Experiment(\n",
    "    api_key='HqXoBmU5CDGw1F2dJlB5w2Vdv',\n",
    "    project_name='predicting-biological-response',\n",
    "    workspace='experiment0',\n",
    "    log_code=True\n",
    ")"
   ]
  },
  {
   "cell_type": "code",
   "execution_count": 3,
   "metadata": {},
   "outputs": [
    {
     "data": {
      "text/html": [
       "<div>\n",
       "<style scoped>\n",
       "    .dataframe tbody tr th:only-of-type {\n",
       "        vertical-align: middle;\n",
       "    }\n",
       "\n",
       "    .dataframe tbody tr th {\n",
       "        vertical-align: top;\n",
       "    }\n",
       "\n",
       "    .dataframe thead th {\n",
       "        text-align: right;\n",
       "    }\n",
       "</style>\n",
       "<table border=\"1\" class=\"dataframe\">\n",
       "  <thead>\n",
       "    <tr style=\"text-align: right;\">\n",
       "      <th></th>\n",
       "      <th>Activity</th>\n",
       "      <th>D1</th>\n",
       "      <th>D2</th>\n",
       "      <th>D3</th>\n",
       "      <th>D4</th>\n",
       "      <th>D5</th>\n",
       "      <th>D6</th>\n",
       "      <th>D7</th>\n",
       "      <th>D8</th>\n",
       "      <th>D9</th>\n",
       "      <th>...</th>\n",
       "      <th>D1767</th>\n",
       "      <th>D1768</th>\n",
       "      <th>D1769</th>\n",
       "      <th>D1770</th>\n",
       "      <th>D1771</th>\n",
       "      <th>D1772</th>\n",
       "      <th>D1773</th>\n",
       "      <th>D1774</th>\n",
       "      <th>D1775</th>\n",
       "      <th>D1776</th>\n",
       "    </tr>\n",
       "  </thead>\n",
       "  <tbody>\n",
       "    <tr>\n",
       "      <th>0</th>\n",
       "      <td>1</td>\n",
       "      <td>0.000000</td>\n",
       "      <td>0.497009</td>\n",
       "      <td>0.10</td>\n",
       "      <td>0.0</td>\n",
       "      <td>0.132956</td>\n",
       "      <td>0.678031</td>\n",
       "      <td>0.273166</td>\n",
       "      <td>0.585445</td>\n",
       "      <td>0.743663</td>\n",
       "      <td>...</td>\n",
       "      <td>0</td>\n",
       "      <td>0</td>\n",
       "      <td>0</td>\n",
       "      <td>0</td>\n",
       "      <td>0</td>\n",
       "      <td>0</td>\n",
       "      <td>0</td>\n",
       "      <td>0</td>\n",
       "      <td>0</td>\n",
       "      <td>0</td>\n",
       "    </tr>\n",
       "    <tr>\n",
       "      <th>1</th>\n",
       "      <td>1</td>\n",
       "      <td>0.366667</td>\n",
       "      <td>0.606291</td>\n",
       "      <td>0.05</td>\n",
       "      <td>0.0</td>\n",
       "      <td>0.111209</td>\n",
       "      <td>0.803455</td>\n",
       "      <td>0.106105</td>\n",
       "      <td>0.411754</td>\n",
       "      <td>0.836582</td>\n",
       "      <td>...</td>\n",
       "      <td>1</td>\n",
       "      <td>1</td>\n",
       "      <td>1</td>\n",
       "      <td>1</td>\n",
       "      <td>0</td>\n",
       "      <td>1</td>\n",
       "      <td>0</td>\n",
       "      <td>0</td>\n",
       "      <td>1</td>\n",
       "      <td>0</td>\n",
       "    </tr>\n",
       "    <tr>\n",
       "      <th>2</th>\n",
       "      <td>1</td>\n",
       "      <td>0.033300</td>\n",
       "      <td>0.480124</td>\n",
       "      <td>0.00</td>\n",
       "      <td>0.0</td>\n",
       "      <td>0.209791</td>\n",
       "      <td>0.610350</td>\n",
       "      <td>0.356453</td>\n",
       "      <td>0.517720</td>\n",
       "      <td>0.679051</td>\n",
       "      <td>...</td>\n",
       "      <td>0</td>\n",
       "      <td>0</td>\n",
       "      <td>0</td>\n",
       "      <td>0</td>\n",
       "      <td>0</td>\n",
       "      <td>0</td>\n",
       "      <td>0</td>\n",
       "      <td>0</td>\n",
       "      <td>0</td>\n",
       "      <td>0</td>\n",
       "    </tr>\n",
       "    <tr>\n",
       "      <th>3</th>\n",
       "      <td>1</td>\n",
       "      <td>0.000000</td>\n",
       "      <td>0.538825</td>\n",
       "      <td>0.00</td>\n",
       "      <td>0.5</td>\n",
       "      <td>0.196344</td>\n",
       "      <td>0.724230</td>\n",
       "      <td>0.235606</td>\n",
       "      <td>0.288764</td>\n",
       "      <td>0.805110</td>\n",
       "      <td>...</td>\n",
       "      <td>0</td>\n",
       "      <td>0</td>\n",
       "      <td>0</td>\n",
       "      <td>0</td>\n",
       "      <td>0</td>\n",
       "      <td>0</td>\n",
       "      <td>0</td>\n",
       "      <td>0</td>\n",
       "      <td>0</td>\n",
       "      <td>0</td>\n",
       "    </tr>\n",
       "    <tr>\n",
       "      <th>4</th>\n",
       "      <td>0</td>\n",
       "      <td>0.100000</td>\n",
       "      <td>0.517794</td>\n",
       "      <td>0.00</td>\n",
       "      <td>0.0</td>\n",
       "      <td>0.494734</td>\n",
       "      <td>0.781422</td>\n",
       "      <td>0.154361</td>\n",
       "      <td>0.303809</td>\n",
       "      <td>0.812646</td>\n",
       "      <td>...</td>\n",
       "      <td>0</td>\n",
       "      <td>0</td>\n",
       "      <td>0</td>\n",
       "      <td>0</td>\n",
       "      <td>0</td>\n",
       "      <td>0</td>\n",
       "      <td>0</td>\n",
       "      <td>0</td>\n",
       "      <td>0</td>\n",
       "      <td>0</td>\n",
       "    </tr>\n",
       "  </tbody>\n",
       "</table>\n",
       "<p>5 rows × 1777 columns</p>\n",
       "</div>"
      ],
      "text/plain": [
       "   Activity        D1        D2    D3   D4        D5        D6        D7  \\\n",
       "0         1  0.000000  0.497009  0.10  0.0  0.132956  0.678031  0.273166   \n",
       "1         1  0.366667  0.606291  0.05  0.0  0.111209  0.803455  0.106105   \n",
       "2         1  0.033300  0.480124  0.00  0.0  0.209791  0.610350  0.356453   \n",
       "3         1  0.000000  0.538825  0.00  0.5  0.196344  0.724230  0.235606   \n",
       "4         0  0.100000  0.517794  0.00  0.0  0.494734  0.781422  0.154361   \n",
       "\n",
       "         D8        D9  ...  D1767  D1768  D1769  D1770  D1771  D1772  D1773  \\\n",
       "0  0.585445  0.743663  ...      0      0      0      0      0      0      0   \n",
       "1  0.411754  0.836582  ...      1      1      1      1      0      1      0   \n",
       "2  0.517720  0.679051  ...      0      0      0      0      0      0      0   \n",
       "3  0.288764  0.805110  ...      0      0      0      0      0      0      0   \n",
       "4  0.303809  0.812646  ...      0      0      0      0      0      0      0   \n",
       "\n",
       "   D1774  D1775  D1776  \n",
       "0      0      0      0  \n",
       "1      0      1      0  \n",
       "2      0      0      0  \n",
       "3      0      0      0  \n",
       "4      0      0      0  \n",
       "\n",
       "[5 rows x 1777 columns]"
      ]
     },
     "execution_count": 3,
     "metadata": {},
     "output_type": "execute_result"
    }
   ],
   "source": [
    "# Загрузим данные\n",
    "data = pd.read_csv('./data/train_sem_09_1.csv')\n",
    "data.head()"
   ]
  },
  {
   "cell_type": "code",
   "execution_count": 4,
   "metadata": {},
   "outputs": [
    {
     "data": {
      "text/plain": [
       "(3751, 1777)"
      ]
     },
     "execution_count": 4,
     "metadata": {},
     "output_type": "execute_result"
    }
   ],
   "source": [
    "data.shape"
   ]
  },
  {
   "cell_type": "markdown",
   "metadata": {},
   "source": [
    "> Таблица содержит 1777 признаков (включая целевой) и 3751 строку."
   ]
  },
  {
   "cell_type": "code",
   "execution_count": 5,
   "metadata": {},
   "outputs": [
    {
     "name": "stdout",
     "output_type": "stream",
     "text": [
      "<class 'pandas.core.frame.DataFrame'>\n",
      "RangeIndex: 3751 entries, 0 to 3750\n",
      "Columns: 1777 entries, Activity to D1776\n",
      "dtypes: float64(942), int64(835)\n",
      "memory usage: 50.9 MB\n"
     ]
    }
   ],
   "source": [
    "data.info()"
   ]
  },
  {
   "cell_type": "markdown",
   "metadata": {},
   "source": [
    "> Все столбцы числовые."
   ]
  },
  {
   "cell_type": "code",
   "execution_count": 6,
   "metadata": {},
   "outputs": [
    {
     "data": {
      "text/plain": [
       "Activity    0\n",
       "D1181       0\n",
       "D1192       0\n",
       "D1191       0\n",
       "D1190       0\n",
       "           ..\n",
       "D589        0\n",
       "D588        0\n",
       "D587        0\n",
       "D586        0\n",
       "D1776       0\n",
       "Length: 1777, dtype: int64"
      ]
     },
     "execution_count": 6,
     "metadata": {},
     "output_type": "execute_result"
    }
   ],
   "source": [
    "# Проверим наличие пропусков\n",
    "data.isnull().sum().sort_values(ascending=False)"
   ]
  },
  {
   "cell_type": "markdown",
   "metadata": {},
   "source": [
    "> Пропусков в данных нет."
   ]
  },
  {
   "cell_type": "code",
   "execution_count": 7,
   "metadata": {},
   "outputs": [
    {
     "data": {
      "text/plain": [
       "Activity    1.000000\n",
       "D1185       1.000000\n",
       "D1196       1.000000\n",
       "D1195       1.000000\n",
       "D1194       1.000000\n",
       "              ...   \n",
       "D630        0.235294\n",
       "D632        0.200000\n",
       "D631        0.181818\n",
       "D823        0.166667\n",
       "D801        0.142857\n",
       "Length: 1777, dtype: float64"
      ]
     },
     "execution_count": 7,
     "metadata": {},
     "output_type": "execute_result"
    }
   ],
   "source": [
    "# Посмотрим на максимальные значения по столбцам\n",
    "data.max().sort_values(ascending=False)"
   ]
  },
  {
   "cell_type": "code",
   "execution_count": 8,
   "metadata": {},
   "outputs": [
    {
     "data": {
      "text/plain": [
       "Activity    0.000000\n",
       "D1190       0.000000\n",
       "D1189       0.000000\n",
       "D1188       0.000000\n",
       "D1187       0.000000\n",
       "              ...   \n",
       "D189        0.190762\n",
       "D201        0.257565\n",
       "D9          0.275590\n",
       "D2          0.282128\n",
       "D181        0.354010\n",
       "Length: 1777, dtype: float64"
      ]
     },
     "execution_count": 8,
     "metadata": {},
     "output_type": "execute_result"
    }
   ],
   "source": [
    "# Посмотрим на минимальные значения по столбцам\n",
    "data.min().sort_values()"
   ]
  },
  {
   "cell_type": "markdown",
   "metadata": {},
   "source": [
    "> Значения всех стобцов находятся в промежутке `[0, 1]` \\\n",
    "Данные нормализованы."
   ]
  },
  {
   "cell_type": "code",
   "execution_count": 9,
   "metadata": {},
   "outputs": [
    {
     "data": {
      "text/plain": [
       "1    0.542255\n",
       "0    0.457745\n",
       "Name: Activity, dtype: float64"
      ]
     },
     "execution_count": 9,
     "metadata": {},
     "output_type": "execute_result"
    }
   ],
   "source": [
    "# Посмотрим на распределение целевого признака\n",
    "data['Activity'].value_counts(True)"
   ]
  },
  {
   "cell_type": "code",
   "execution_count": 10,
   "metadata": {},
   "outputs": [
    {
     "data": {
      "image/png": "[encoded data removed]",
      "text/plain": [
       "<Figure size 432x288 with 1 Axes>"
      ]
     },
     "metadata": {
      "needs_background": "light"
     },
     "output_type": "display_data"
    }
   ],
   "source": [
    "sns.countplot(data=data, x='Activity');"
   ]
  },
  {
   "cell_type": "markdown",
   "metadata": {},
   "source": [
    "> Дисбаланс в целевой переменной не очень большой."
   ]
  },
  {
   "cell_type": "markdown",
   "metadata": {},
   "source": [
    "## 3. Подготовка данных <a id=\"item_3\"></a>"
   ]
  },
  {
   "cell_type": "markdown",
   "metadata": {},
   "source": [
    "Определим константы для дальнейшего использования."
   ]
  },
  {
   "cell_type": "code",
   "execution_count": 11,
   "metadata": {},
   "outputs": [],
   "source": [
    "# Имя колонки с целевой переменной\n",
    "TARGET_NAME = 'Activity'\n",
    "# Количество попыток для поиска лучших гиперпараметров\n",
    "ATTEMPTS_COUNT = 20\n",
    "# Для воспроизводимости результатов случайных вычислений\n",
    "RANDOM_STATE = 42\n",
    "# Максимальное количество итераций, выделенное на сходимость\n",
    "MAX_ITER = 1000\n",
    "# Количество фолдов для кросс-валидации\n",
    "CV = 5\n",
    "# Количество параллельных процессов (задаем -1, чтобы использовать все доступные ядра)\n",
    "N_JOBS = -1"
   ]
  },
  {
   "cell_type": "markdown",
   "metadata": {},
   "source": [
    "Создадим словарь, в который будем добавлять итоговые метрики."
   ]
  },
  {
   "cell_type": "code",
   "execution_count": 12,
   "metadata": {},
   "outputs": [],
   "source": [
    "metrics_results = {\n",
    "    'model': ['LogisticRegression', 'RandomForestClassifier'],\n",
    "    'defaultParams': [],\n",
    "    'GridSearchCV': [],\n",
    "    'RandomizedSearchCV': [],\n",
    "    'Hyperopt': [],\n",
    "    'Optuna': [],\n",
    "}"
   ]
  },
  {
   "cell_type": "markdown",
   "metadata": {},
   "source": [
    "Функции для дальнейшего использования."
   ]
  },
  {
   "cell_type": "code",
   "execution_count": 13,
   "metadata": {},
   "outputs": [],
   "source": [
    "def print_f1_score(f1_score, type='test'):\n",
    "    \"\"\"Печатает вывод метрики F1\n",
    "    Args:\n",
    "        f1_score (float): Значение метрики\n",
    "        type (string): Тип выборки ('train' - тренировочная, 'test' - тестовая)\n",
    "    \"\"\"\n",
    "    if (type == 'test'):\n",
    "        print('f1_score на тестовом наборе: {:.2f}'.format(f1_score))\n",
    "    elif (type == 'train'):\n",
    "        print('f1_score на тренировочном наборе: {:.2f}'.format(f1_score))\n",
    "\n",
    "\n",
    "def print_best_hyperparameters(best_params):\n",
    "    \"\"\"Печатает вывод лучших гиперпараметров\n",
    "    Args:\n",
    "        best_params (dict): Словарь с лучшими найденными гиперпараметрами модели\n",
    "    \"\"\"\n",
    "    print('Наилучшие значения гиперпараметров {}'.format(best_params))"
   ]
  },
  {
   "cell_type": "markdown",
   "metadata": {},
   "source": [
    "Создаем матрицу наблюдений $X$ и вектор ответов $y$"
   ]
  },
  {
   "cell_type": "code",
   "execution_count": 14,
   "metadata": {},
   "outputs": [],
   "source": [
    "X = data.drop([TARGET_NAME], axis=1)\n",
    "y = data[TARGET_NAME]"
   ]
  },
  {
   "cell_type": "markdown",
   "metadata": {},
   "source": [
    "Разделяем выборку на тренировочную и тестовую в соотношении 80/20. \\\n",
    "Для сохранения соотношений целевого признака используем параметр `stratify` (стратифицированное разбиение). "
   ]
  },
  {
   "cell_type": "code",
   "execution_count": 15,
   "metadata": {},
   "outputs": [],
   "source": [
    "X_train, X_test, y_train, y_test = \\\n",
    "    train_test_split(X, y, stratify=y, random_state=RANDOM_STATE, test_size=0.2)"
   ]
  },
  {
   "cell_type": "markdown",
   "metadata": {},
   "source": [
    "## 4. Использование логистической регрессии (LogisticRegression) <a id=\"item_4\"></a>"
   ]
  },
  {
   "cell_type": "markdown",
   "metadata": {},
   "source": [
    "### 4.1. Использование гиперпараметров по умолчанию <a id=\"item_4_1\"></a>"
   ]
  },
  {
   "cell_type": "code",
   "execution_count": 16,
   "metadata": {},
   "outputs": [
    {
     "name": "stdout",
     "output_type": "stream",
     "text": [
      "f1_score на тренировочном наборе: 0.89\n",
      "f1_score на тестовом наборе: 0.78\n"
     ]
    }
   ],
   "source": [
    "# Создаем объект класса логистическая регрессия\n",
    "model_lr = LogisticRegression(random_state=RANDOM_STATE, max_iter=MAX_ITER)\n",
    "\n",
    "# Создаем объект кросс-валидатора k-fold со стратификацией\n",
    "skf = StratifiedKFold(n_splits=CV, shuffle=False)\n",
    "\n",
    "# Считаем метрики на кросс-валидации k-fold со стратификацией\n",
    "cv_metrics = cross_validate(\n",
    "    estimator=model_lr, # модель\n",
    "    X=X, # матрица наблюдений X\n",
    "    y=y, # вектор ответов y\n",
    "    cv=skf, # кросс-валидатор\n",
    "    scoring='f1', # метрика\n",
    "    return_train_score=True # подсчёт метрики на тренировочных фолдах\n",
    ")\n",
    "\n",
    "# Считаем средние метрики\n",
    "f1_score_train = np.mean(cv_metrics['train_score'])\n",
    "f1_score_test = np.mean(cv_metrics['test_score'])\n",
    "\n",
    "# Выводим метрики\n",
    "print_f1_score(f1_score_train, 'train')\n",
    "print_f1_score(f1_score_test, 'test')"
   ]
  },
  {
   "cell_type": "code",
   "execution_count": 17,
   "metadata": {},
   "outputs": [],
   "source": [
    "# Добавим значение метрики в словарь\n",
    "metrics_results['defaultParams'].append(f1_score_test)\n",
    "\n",
    "# Логируем метрику\n",
    "experiment.log_metric('F1 LogisticRegression defaultParams', f1_score_test)"
   ]
  },
  {
   "cell_type": "markdown",
   "metadata": {},
   "source": [
    "### 4.2. Поиск гиперпараметров с помощью GridSearchCV <a id=\"item_4_2\"></a>"
   ]
  },
  {
   "cell_type": "code",
   "execution_count": 18,
   "metadata": {},
   "outputs": [],
   "source": [
    "# Зададим сетку параметров\n",
    "param_grid_lr = [\n",
    "    {\n",
    "        'penalty': ['l2', 'none'] , # тип регуляризации\n",
    "        'solver': ['newton-cg', 'lbfgs', 'sag'], # алгоритм оптимизации\n",
    "        'C': [0.01, 0.1, 0.3, 0.5, 0.7, 0.9, 1, 5, 10, 50, 100, 200] # уровень силы регуляризации\n",
    "    }, \n",
    "    {\n",
    "        'penalty': ['l1', 'l2'] ,\n",
    "        'solver': ['liblinear', 'saga'],\n",
    "        'C': [0.01, 0.1, 0.3, 0.5, 0.7, 0.9, 1, 5, 10, 50, 100, 200]\n",
    "    }\n",
    "]\n",
    "\n",
    "# Создаем объект класса GridSearchCV\n",
    "grid_search_lr = GridSearchCV(\n",
    "    estimator=LogisticRegression(\n",
    "        random_state=RANDOM_STATE, # генератор случайных чисел\n",
    "        max_iter=MAX_ITER # количество итераций на сходимость\n",
    "    ), \n",
    "    param_grid=param_grid_lr, # сетка параметров\n",
    "    scoring=metrics.make_scorer(metrics.f1_score), # метрика, которую улучшаем\n",
    "    cv=CV, # количество фолдов для кросс валидации\n",
    "    n_jobs=N_JOBS\n",
    ")"
   ]
  },
  {
   "cell_type": "code",
   "execution_count": 19,
   "metadata": {},
   "outputs": [
    {
     "name": "stdout",
     "output_type": "stream",
     "text": [
      "CPU times: total: 0 ns\n",
      "Wall time: 0 ns\n"
     ]
    },
    {
     "data": {
      "text/html": [
       "<style>#sk-container-id-1 {color: black;background-color: white;}#sk-container-id-1 pre{padding: 0;}#sk-container-id-1 div.sk-toggleable {background-color: white;}#sk-container-id-1 label.sk-toggleable__label {cursor: pointer;display: block;width: 100%;margin-bottom: 0;padding: 0.3em;box-sizing: border-box;text-align: center;}#sk-container-id-1 label.sk-toggleable__label-arrow:before {content: \"▸\";float: left;margin-right: 0.25em;color: #696969;}#sk-container-id-1 label.sk-toggleable__label-arrow:hover:before {color: black;}#sk-container-id-1 div.sk-estimator:hover label.sk-toggleable__label-arrow:before {color: black;}#sk-container-id-1 div.sk-toggleable__content {max-height: 0;max-width: 0;overflow: hidden;text-align: left;background-color: #f0f8ff;}#sk-container-id-1 div.sk-toggleable__content pre {margin: 0.2em;color: black;border-radius: 0.25em;background-color: #f0f8ff;}#sk-container-id-1 input.sk-toggleable__control:checked~div.sk-toggleable__content {max-height: 200px;max-width: 100%;overflow: auto;}#sk-container-id-1 input.sk-toggleable__control:checked~label.sk-toggleable__label-arrow:before {content: \"▾\";}#sk-container-id-1 div.sk-estimator input.sk-toggleable__control:checked~label.sk-toggleable__label {background-color: #d4ebff;}#sk-container-id-1 div.sk-label input.sk-toggleable__control:checked~label.sk-toggleable__label {background-color: #d4ebff;}#sk-container-id-1 input.sk-hidden--visually {border: 0;clip: rect(1px 1px 1px 1px);clip: rect(1px, 1px, 1px, 1px);height: 1px;margin: -1px;overflow: hidden;padding: 0;position: absolute;width: 1px;}#sk-container-id-1 div.sk-estimator {font-family: monospace;background-color: #f0f8ff;border: 1px dotted black;border-radius: 0.25em;box-sizing: border-box;margin-bottom: 0.5em;}#sk-container-id-1 div.sk-estimator:hover {background-color: #d4ebff;}#sk-container-id-1 div.sk-parallel-item::after {content: \"\";width: 100%;border-bottom: 1px solid gray;flex-grow: 1;}#sk-container-id-1 div.sk-label:hover label.sk-toggleable__label {background-color: #d4ebff;}#sk-container-id-1 div.sk-serial::before {content: \"\";position: absolute;border-left: 1px solid gray;box-sizing: border-box;top: 0;bottom: 0;left: 50%;z-index: 0;}#sk-container-id-1 div.sk-serial {display: flex;flex-direction: column;align-items: center;background-color: white;padding-right: 0.2em;padding-left: 0.2em;position: relative;}#sk-container-id-1 div.sk-item {position: relative;z-index: 1;}#sk-container-id-1 div.sk-parallel {display: flex;align-items: stretch;justify-content: center;background-color: white;position: relative;}#sk-container-id-1 div.sk-item::before, #sk-container-id-1 div.sk-parallel-item::before {content: \"\";position: absolute;border-left: 1px solid gray;box-sizing: border-box;top: 0;bottom: 0;left: 50%;z-index: -1;}#sk-container-id-1 div.sk-parallel-item {display: flex;flex-direction: column;z-index: 1;position: relative;background-color: white;}#sk-container-id-1 div.sk-parallel-item:first-child::after {align-self: flex-end;width: 50%;}#sk-container-id-1 div.sk-parallel-item:last-child::after {align-self: flex-start;width: 50%;}#sk-container-id-1 div.sk-parallel-item:only-child::after {width: 0;}#sk-container-id-1 div.sk-dashed-wrapped {border: 1px dashed gray;margin: 0 0.4em 0.5em 0.4em;box-sizing: border-box;padding-bottom: 0.4em;background-color: white;}#sk-container-id-1 div.sk-label label {font-family: monospace;font-weight: bold;display: inline-block;line-height: 1.2em;}#sk-container-id-1 div.sk-label-container {text-align: center;}#sk-container-id-1 div.sk-container {/* jupyter's `normalize.less` sets `[hidden] { display: none; }` but bootstrap.min.css set `[hidden] { display: none !important; }` so we also need the `!important` here to be able to override the default hidden behavior on the sphinx rendered scikit-learn.org. See: https://github.com/scikit-learn/scikit-learn/issues/21755 */display: inline-block !important;position: relative;}#sk-container-id-1 div.sk-text-repr-fallback {display: none;}</style><div id=\"sk-container-id-1\" class=\"sk-top-container\"><div class=\"sk-text-repr-fallback\"><pre>GridSearchCV(cv=5, estimator=LogisticRegression(max_iter=1000, random_state=42),\n",
       "             n_jobs=-1,\n",
       "             param_grid=[{&#x27;C&#x27;: [0.01, 0.1, 0.3, 0.5, 0.7, 0.9, 1, 5, 10, 50,\n",
       "                                100, 200],\n",
       "                          &#x27;penalty&#x27;: [&#x27;l2&#x27;, &#x27;none&#x27;],\n",
       "                          &#x27;solver&#x27;: [&#x27;newton-cg&#x27;, &#x27;lbfgs&#x27;, &#x27;sag&#x27;]},\n",
       "                         {&#x27;C&#x27;: [0.01, 0.1, 0.3, 0.5, 0.7, 0.9, 1, 5, 10, 50,\n",
       "                                100, 200],\n",
       "                          &#x27;penalty&#x27;: [&#x27;l1&#x27;, &#x27;l2&#x27;],\n",
       "                          &#x27;solver&#x27;: [&#x27;liblinear&#x27;, &#x27;saga&#x27;]}],\n",
       "             scoring=make_scorer(f1_score))</pre><b>In a Jupyter environment, please rerun this cell to show the HTML representation or trust the notebook. <br />On GitHub, the HTML representation is unable to render, please try loading this page with nbviewer.org.</b></div><div class=\"sk-container\" hidden><div class=\"sk-item sk-dashed-wrapped\"><div class=\"sk-label-container\"><div class=\"sk-label sk-toggleable\"><input class=\"sk-toggleable__control sk-hidden--visually\" id=\"sk-estimator-id-1\" type=\"checkbox\" ><label for=\"sk-estimator-id-1\" class=\"sk-toggleable__label sk-toggleable__label-arrow\">GridSearchCV</label><div class=\"sk-toggleable__content\"><pre>GridSearchCV(cv=5, estimator=LogisticRegression(max_iter=1000, random_state=42),\n",
       "             n_jobs=-1,\n",
       "             param_grid=[{&#x27;C&#x27;: [0.01, 0.1, 0.3, 0.5, 0.7, 0.9, 1, 5, 10, 50,\n",
       "                                100, 200],\n",
       "                          &#x27;penalty&#x27;: [&#x27;l2&#x27;, &#x27;none&#x27;],\n",
       "                          &#x27;solver&#x27;: [&#x27;newton-cg&#x27;, &#x27;lbfgs&#x27;, &#x27;sag&#x27;]},\n",
       "                         {&#x27;C&#x27;: [0.01, 0.1, 0.3, 0.5, 0.7, 0.9, 1, 5, 10, 50,\n",
       "                                100, 200],\n",
       "                          &#x27;penalty&#x27;: [&#x27;l1&#x27;, &#x27;l2&#x27;],\n",
       "                          &#x27;solver&#x27;: [&#x27;liblinear&#x27;, &#x27;saga&#x27;]}],\n",
       "             scoring=make_scorer(f1_score))</pre></div></div></div><div class=\"sk-parallel\"><div class=\"sk-parallel-item\"><div class=\"sk-item\"><div class=\"sk-label-container\"><div class=\"sk-label sk-toggleable\"><input class=\"sk-toggleable__control sk-hidden--visually\" id=\"sk-estimator-id-2\" type=\"checkbox\" ><label for=\"sk-estimator-id-2\" class=\"sk-toggleable__label sk-toggleable__label-arrow\">estimator: LogisticRegression</label><div class=\"sk-toggleable__content\"><pre>LogisticRegression(max_iter=1000, random_state=42)</pre></div></div></div><div class=\"sk-serial\"><div class=\"sk-item\"><div class=\"sk-estimator sk-toggleable\"><input class=\"sk-toggleable__control sk-hidden--visually\" id=\"sk-estimator-id-3\" type=\"checkbox\" ><label for=\"sk-estimator-id-3\" class=\"sk-toggleable__label sk-toggleable__label-arrow\">LogisticRegression</label><div class=\"sk-toggleable__content\"><pre>LogisticRegression(max_iter=1000, random_state=42)</pre></div></div></div></div></div></div></div></div></div></div>"
      ],
      "text/plain": [
       "GridSearchCV(cv=5, estimator=LogisticRegression(max_iter=1000, random_state=42),\n",
       "             n_jobs=-1,\n",
       "             param_grid=[{'C': [0.01, 0.1, 0.3, 0.5, 0.7, 0.9, 1, 5, 10, 50,\n",
       "                                100, 200],\n",
       "                          'penalty': ['l2', 'none'],\n",
       "                          'solver': ['newton-cg', 'lbfgs', 'sag']},\n",
       "                         {'C': [0.01, 0.1, 0.3, 0.5, 0.7, 0.9, 1, 5, 10, 50,\n",
       "                                100, 200],\n",
       "                          'penalty': ['l1', 'l2'],\n",
       "                          'solver': ['liblinear', 'saga']}],\n",
       "             scoring=make_scorer(f1_score))"
      ]
     },
     "execution_count": 19,
     "metadata": {},
     "output_type": "execute_result"
    }
   ],
   "source": [
    "# %time - замеряет время выполнения\n",
    "%time \n",
    "\n",
    "# Обучаем\n",
    "grid_search_lr.fit(X_train, y_train) "
   ]
  },
  {
   "cell_type": "code",
   "execution_count": 20,
   "metadata": {},
   "outputs": [
    {
     "name": "stdout",
     "output_type": "stream",
     "text": [
      "Наилучшие значения гиперпараметров {'C': 0.3, 'penalty': 'l1', 'solver': 'liblinear'}\n"
     ]
    }
   ],
   "source": [
    "print_best_hyperparameters(grid_search_lr.best_params_)"
   ]
  },
  {
   "cell_type": "code",
   "execution_count": 21,
   "metadata": {},
   "outputs": [
    {
     "name": "stdout",
     "output_type": "stream",
     "text": [
      "f1_score на тренировочном наборе: 0.79\n",
      "f1_score на тестовом наборе: 0.78\n"
     ]
    }
   ],
   "source": [
    "# Метрика F1 на тренировочной выборке\n",
    "f1_score_train = grid_search_lr.best_score_\n",
    "\n",
    "# Считаем метрику F1 для тестовой выборки\n",
    "f1_score_test = grid_search_lr.score(X_test, y_test)\n",
    "\n",
    "# Выводим метрики\n",
    "print_f1_score(f1_score_train, 'train')\n",
    "print_f1_score(f1_score_test, 'test')"
   ]
  },
  {
   "cell_type": "code",
   "execution_count": 22,
   "metadata": {},
   "outputs": [],
   "source": [
    "# Добавим значение метрики в словарь\n",
    "metrics_results['GridSearchCV'].append(f1_score_test)\n",
    "\n",
    "# Логируем метрику\n",
    "experiment.log_metric('F1 LogisticRegression GridSearchCV', f1_score_test)"
   ]
  },
  {
   "cell_type": "markdown",
   "metadata": {},
   "source": [
    "Посмотрим, как менялась метрика при различных гиперпараметрах."
   ]
  },
  {
   "cell_type": "code",
   "execution_count": 23,
   "metadata": {},
   "outputs": [
    {
     "data": {
      "text/plain": [
       "{'web': 'https://www.comet.com/api/image/download?imageId=6a4add4b798a432cad0f67fd4ad3992d&experimentKey=74718b66e9ad4415a2e1ba68b63f2c59',\n",
       " 'api': 'https://www.comet.com/api/rest/v1/image/get-image?imageId=6a4add4b798a432cad0f67fd4ad3992d&experimentKey=74718b66e9ad4415a2e1ba68b63f2c59',\n",
       " 'imageId': '6a4add4b798a432cad0f67fd4ad3992d'}"
      ]
     },
     "execution_count": 23,
     "metadata": {},
     "output_type": "execute_result"
    },
    {
     "data": {
      "image/png": "[encoded data removed]",
      "text/plain": [
       "<Figure size 432x288 with 2 Axes>"
      ]
     },
     "metadata": {
      "needs_background": "light"
     },
     "output_type": "display_data"
    }
   ],
   "source": [
    "visual = pd.pivot_table(\n",
    "        pd.DataFrame(grid_search_lr.cv_results_),\n",
    "        values='mean_test_score',\n",
    "        index='param_C',\n",
    "        columns='param_solver'\n",
    "    )\n",
    "\n",
    "sns.heatmap(visual, annot=True, cmap='coolwarm')\n",
    "\n",
    "# Подпись графика\n",
    "plt.title('Тепловая карта зависимости метрики F1 от solver и С') \n",
    "\n",
    "# Размер графика\n",
    "sns.set(rc={'figure.figsize': (18, 8)}) \n",
    "\n",
    "experiment.log_figure('F1 LogisticRegression GridSearchCV', plt)"
   ]
  },
  {
   "cell_type": "markdown",
   "metadata": {},
   "source": [
    "> Можно сделать вывод, что наилучшие значения метрики $F_1$ наблюдались при \\\n",
    "`solver` равным  '`liblinear`' или '`saga`' и значениях `C` в промежутке `[0.1, 1]`."
   ]
  },
  {
   "cell_type": "markdown",
   "metadata": {},
   "source": [
    "### 4.3. Поиск гиперпараметров с помощью RandomizedSearchCV <a id=\"item_4_3\"></a>"
   ]
  },
  {
   "cell_type": "code",
   "execution_count": 24,
   "metadata": {},
   "outputs": [],
   "source": [
    "# Зададим варианты параметров\n",
    "param_distributions_lr = [\n",
    "    {\n",
    "        'penalty': ['l2', 'none'] , # тип регуляризации\n",
    "        'solver': ['newton-cg', 'lbfgs', 'sag'], # алгоритм оптимизации\n",
    "        'C': list(np.linspace(0.01, 1, 10, dtype=float)), # уровень силы регуляризации\n",
    "    }, \n",
    "    {\n",
    "        'penalty': ['l1', 'l2'] ,\n",
    "        'solver': ['liblinear', 'saga'],\n",
    "        'C': list(np.linspace(0.01, 1, 10, dtype=float))\n",
    "    }\n",
    "]\n",
    "\n",
    "# Создаем объект класса RandomizedSearchCV\n",
    "random_search_lr = RandomizedSearchCV(\n",
    "    estimator=LogisticRegression(\n",
    "        random_state=RANDOM_STATE, # генератор случайных чисел \n",
    "        max_iter=MAX_ITER # количество итераций на сходимость\n",
    "    ), \n",
    "    param_distributions=param_distributions_lr, # варианты параметров\n",
    "    scoring=metrics.make_scorer(metrics.f1_score), # метрика, которую улучшаем\n",
    "    cv=CV, # количество фолдов для кросс валидации\n",
    "    n_iter=ATTEMPTS_COUNT, # количество комбинаций на расчет\n",
    "    n_jobs=N_JOBS\n",
    ")"
   ]
  },
  {
   "cell_type": "code",
   "execution_count": 25,
   "metadata": {},
   "outputs": [
    {
     "name": "stdout",
     "output_type": "stream",
     "text": [
      "CPU times: total: 0 ns\n",
      "Wall time: 0 ns\n"
     ]
    },
    {
     "name": "stderr",
     "output_type": "stream",
     "text": [
      "c:\\Users\\exper\\AppData\\Local\\Programs\\Python\\Python39\\lib\\site-packages\\sklearn\\linear_model\\_sag.py:350: ConvergenceWarning: The max_iter was reached which means the coef_ did not converge\n",
      "  warnings.warn(\n"
     ]
    },
    {
     "data": {
      "text/html": [
       "<style>#sk-container-id-2 {color: black;background-color: white;}#sk-container-id-2 pre{padding: 0;}#sk-container-id-2 div.sk-toggleable {background-color: white;}#sk-container-id-2 label.sk-toggleable__label {cursor: pointer;display: block;width: 100%;margin-bottom: 0;padding: 0.3em;box-sizing: border-box;text-align: center;}#sk-container-id-2 label.sk-toggleable__label-arrow:before {content: \"▸\";float: left;margin-right: 0.25em;color: #696969;}#sk-container-id-2 label.sk-toggleable__label-arrow:hover:before {color: black;}#sk-container-id-2 div.sk-estimator:hover label.sk-toggleable__label-arrow:before {color: black;}#sk-container-id-2 div.sk-toggleable__content {max-height: 0;max-width: 0;overflow: hidden;text-align: left;background-color: #f0f8ff;}#sk-container-id-2 div.sk-toggleable__content pre {margin: 0.2em;color: black;border-radius: 0.25em;background-color: #f0f8ff;}#sk-container-id-2 input.sk-toggleable__control:checked~div.sk-toggleable__content {max-height: 200px;max-width: 100%;overflow: auto;}#sk-container-id-2 input.sk-toggleable__control:checked~label.sk-toggleable__label-arrow:before {content: \"▾\";}#sk-container-id-2 div.sk-estimator input.sk-toggleable__control:checked~label.sk-toggleable__label {background-color: #d4ebff;}#sk-container-id-2 div.sk-label input.sk-toggleable__control:checked~label.sk-toggleable__label {background-color: #d4ebff;}#sk-container-id-2 input.sk-hidden--visually {border: 0;clip: rect(1px 1px 1px 1px);clip: rect(1px, 1px, 1px, 1px);height: 1px;margin: -1px;overflow: hidden;padding: 0;position: absolute;width: 1px;}#sk-container-id-2 div.sk-estimator {font-family: monospace;background-color: #f0f8ff;border: 1px dotted black;border-radius: 0.25em;box-sizing: border-box;margin-bottom: 0.5em;}#sk-container-id-2 div.sk-estimator:hover {background-color: #d4ebff;}#sk-container-id-2 div.sk-parallel-item::after {content: \"\";width: 100%;border-bottom: 1px solid gray;flex-grow: 1;}#sk-container-id-2 div.sk-label:hover label.sk-toggleable__label {background-color: #d4ebff;}#sk-container-id-2 div.sk-serial::before {content: \"\";position: absolute;border-left: 1px solid gray;box-sizing: border-box;top: 0;bottom: 0;left: 50%;z-index: 0;}#sk-container-id-2 div.sk-serial {display: flex;flex-direction: column;align-items: center;background-color: white;padding-right: 0.2em;padding-left: 0.2em;position: relative;}#sk-container-id-2 div.sk-item {position: relative;z-index: 1;}#sk-container-id-2 div.sk-parallel {display: flex;align-items: stretch;justify-content: center;background-color: white;position: relative;}#sk-container-id-2 div.sk-item::before, #sk-container-id-2 div.sk-parallel-item::before {content: \"\";position: absolute;border-left: 1px solid gray;box-sizing: border-box;top: 0;bottom: 0;left: 50%;z-index: -1;}#sk-container-id-2 div.sk-parallel-item {display: flex;flex-direction: column;z-index: 1;position: relative;background-color: white;}#sk-container-id-2 div.sk-parallel-item:first-child::after {align-self: flex-end;width: 50%;}#sk-container-id-2 div.sk-parallel-item:last-child::after {align-self: flex-start;width: 50%;}#sk-container-id-2 div.sk-parallel-item:only-child::after {width: 0;}#sk-container-id-2 div.sk-dashed-wrapped {border: 1px dashed gray;margin: 0 0.4em 0.5em 0.4em;box-sizing: border-box;padding-bottom: 0.4em;background-color: white;}#sk-container-id-2 div.sk-label label {font-family: monospace;font-weight: bold;display: inline-block;line-height: 1.2em;}#sk-container-id-2 div.sk-label-container {text-align: center;}#sk-container-id-2 div.sk-container {/* jupyter's `normalize.less` sets `[hidden] { display: none; }` but bootstrap.min.css set `[hidden] { display: none !important; }` so we also need the `!important` here to be able to override the default hidden behavior on the sphinx rendered scikit-learn.org. See: https://github.com/scikit-learn/scikit-learn/issues/21755 */display: inline-block !important;position: relative;}#sk-container-id-2 div.sk-text-repr-fallback {display: none;}</style><div id=\"sk-container-id-2\" class=\"sk-top-container\"><div class=\"sk-text-repr-fallback\"><pre>RandomizedSearchCV(cv=5,\n",
       "                   estimator=LogisticRegression(max_iter=1000, random_state=42),\n",
       "                   n_iter=20, n_jobs=-1,\n",
       "                   param_distributions=[{&#x27;C&#x27;: [0.01, 0.12, 0.23, 0.34, 0.45,\n",
       "                                               0.56, 0.67, 0.78, 0.89, 1.0],\n",
       "                                         &#x27;penalty&#x27;: [&#x27;l2&#x27;, &#x27;none&#x27;],\n",
       "                                         &#x27;solver&#x27;: [&#x27;newton-cg&#x27;, &#x27;lbfgs&#x27;,\n",
       "                                                    &#x27;sag&#x27;]},\n",
       "                                        {&#x27;C&#x27;: [0.01, 0.12, 0.23, 0.34, 0.45,\n",
       "                                               0.56, 0.67, 0.78, 0.89, 1.0],\n",
       "                                         &#x27;penalty&#x27;: [&#x27;l1&#x27;, &#x27;l2&#x27;],\n",
       "                                         &#x27;solver&#x27;: [&#x27;liblinear&#x27;, &#x27;saga&#x27;]}],\n",
       "                   scoring=make_scorer(f1_score))</pre><b>In a Jupyter environment, please rerun this cell to show the HTML representation or trust the notebook. <br />On GitHub, the HTML representation is unable to render, please try loading this page with nbviewer.org.</b></div><div class=\"sk-container\" hidden><div class=\"sk-item sk-dashed-wrapped\"><div class=\"sk-label-container\"><div class=\"sk-label sk-toggleable\"><input class=\"sk-toggleable__control sk-hidden--visually\" id=\"sk-estimator-id-4\" type=\"checkbox\" ><label for=\"sk-estimator-id-4\" class=\"sk-toggleable__label sk-toggleable__label-arrow\">RandomizedSearchCV</label><div class=\"sk-toggleable__content\"><pre>RandomizedSearchCV(cv=5,\n",
       "                   estimator=LogisticRegression(max_iter=1000, random_state=42),\n",
       "                   n_iter=20, n_jobs=-1,\n",
       "                   param_distributions=[{&#x27;C&#x27;: [0.01, 0.12, 0.23, 0.34, 0.45,\n",
       "                                               0.56, 0.67, 0.78, 0.89, 1.0],\n",
       "                                         &#x27;penalty&#x27;: [&#x27;l2&#x27;, &#x27;none&#x27;],\n",
       "                                         &#x27;solver&#x27;: [&#x27;newton-cg&#x27;, &#x27;lbfgs&#x27;,\n",
       "                                                    &#x27;sag&#x27;]},\n",
       "                                        {&#x27;C&#x27;: [0.01, 0.12, 0.23, 0.34, 0.45,\n",
       "                                               0.56, 0.67, 0.78, 0.89, 1.0],\n",
       "                                         &#x27;penalty&#x27;: [&#x27;l1&#x27;, &#x27;l2&#x27;],\n",
       "                                         &#x27;solver&#x27;: [&#x27;liblinear&#x27;, &#x27;saga&#x27;]}],\n",
       "                   scoring=make_scorer(f1_score))</pre></div></div></div><div class=\"sk-parallel\"><div class=\"sk-parallel-item\"><div class=\"sk-item\"><div class=\"sk-label-container\"><div class=\"sk-label sk-toggleable\"><input class=\"sk-toggleable__control sk-hidden--visually\" id=\"sk-estimator-id-5\" type=\"checkbox\" ><label for=\"sk-estimator-id-5\" class=\"sk-toggleable__label sk-toggleable__label-arrow\">estimator: LogisticRegression</label><div class=\"sk-toggleable__content\"><pre>LogisticRegression(max_iter=1000, random_state=42)</pre></div></div></div><div class=\"sk-serial\"><div class=\"sk-item\"><div class=\"sk-estimator sk-toggleable\"><input class=\"sk-toggleable__control sk-hidden--visually\" id=\"sk-estimator-id-6\" type=\"checkbox\" ><label for=\"sk-estimator-id-6\" class=\"sk-toggleable__label sk-toggleable__label-arrow\">LogisticRegression</label><div class=\"sk-toggleable__content\"><pre>LogisticRegression(max_iter=1000, random_state=42)</pre></div></div></div></div></div></div></div></div></div></div>"
      ],
      "text/plain": [
       "RandomizedSearchCV(cv=5,\n",
       "                   estimator=LogisticRegression(max_iter=1000, random_state=42),\n",
       "                   n_iter=20, n_jobs=-1,\n",
       "                   param_distributions=[{'C': [0.01, 0.12, 0.23, 0.34, 0.45,\n",
       "                                               0.56, 0.67, 0.78, 0.89, 1.0],\n",
       "                                         'penalty': ['l2', 'none'],\n",
       "                                         'solver': ['newton-cg', 'lbfgs',\n",
       "                                                    'sag']},\n",
       "                                        {'C': [0.01, 0.12, 0.23, 0.34, 0.45,\n",
       "                                               0.56, 0.67, 0.78, 0.89, 1.0],\n",
       "                                         'penalty': ['l1', 'l2'],\n",
       "                                         'solver': ['liblinear', 'saga']}],\n",
       "                   scoring=make_scorer(f1_score))"
      ]
     },
     "execution_count": 25,
     "metadata": {},
     "output_type": "execute_result"
    }
   ],
   "source": [
    "# %time - замеряет время выполнения\n",
    "%time \n",
    "\n",
    "# Обучаем\n",
    "random_search_lr.fit(X_train, y_train) "
   ]
  },
  {
   "cell_type": "code",
   "execution_count": 26,
   "metadata": {},
   "outputs": [
    {
     "name": "stdout",
     "output_type": "stream",
     "text": [
      "Наилучшие значения гиперпараметров {'solver': 'saga', 'penalty': 'l1', 'C': 0.23}\n"
     ]
    }
   ],
   "source": [
    "print_best_hyperparameters(random_search_lr.best_params_)"
   ]
  },
  {
   "cell_type": "code",
   "execution_count": 27,
   "metadata": {},
   "outputs": [
    {
     "name": "stdout",
     "output_type": "stream",
     "text": [
      "f1_score на тренировочном наборе: 0.79\n",
      "f1_score на тестовом наборе: 0.78\n"
     ]
    }
   ],
   "source": [
    "# Считаем метрику на тренировочной и тестовой выборках F1 \n",
    "f1_score_train = random_search_lr.best_score_\n",
    "f1_score_test = random_search_lr.score(X_test, y_test)\n",
    "\n",
    "# Выводим метрику\n",
    "print_f1_score(f1_score_train, 'train')\n",
    "print_f1_score(f1_score_test, 'test')"
   ]
  },
  {
   "cell_type": "code",
   "execution_count": 28,
   "metadata": {},
   "outputs": [],
   "source": [
    "# Добавим значение метрики в словарь\n",
    "metrics_results['RandomizedSearchCV'].append(f1_score_test)\n",
    "\n",
    "# Логируем метрику\n",
    "experiment.log_metric('F1 LogisticRegression RandomizedSearchCV', f1_score_test)"
   ]
  },
  {
   "cell_type": "markdown",
   "metadata": {},
   "source": [
    "### 4.4. Поиск гиперпараметров с помощью Hyperopt <a id=\"item_4_4\"></a>"
   ]
  },
  {
   "cell_type": "code",
   "execution_count": 29,
   "metadata": {},
   "outputs": [],
   "source": [
    "# Зададим пространство поиска гиперпараметров\n",
    "space_lr = {\n",
    "    'C': hp.loguniform('x_C', -10, 1),\n",
    "    'solver': hp.choice('x_solver', [\n",
    "        {'solver': 'newton-cg', 'penalty': hp.choice('p_newton', ['none', 'l2'])},\n",
    "        {'solver': 'lbfgs', 'penalty': hp.choice('p_lbfgs', ['none', 'l2'])},\n",
    "        {'solver': 'liblinear', 'penalty': hp.choice('p_lib', ['l1', 'l2'])}, \n",
    "        {'solver': 'sag', 'penalty': hp.choice('p_sag', ['l2', 'none'])},\n",
    "        {'solver': 'saga', 'penalty': hp.choice('p_saga', ['elasticnet', 'l1', 'l2', 'none'])}\n",
    "    ]),\n",
    "    'l1_ratio': hp.uniform('x_l1', 0, 1),\n",
    "}"
   ]
  },
  {
   "cell_type": "code",
   "execution_count": 30,
   "metadata": {},
   "outputs": [],
   "source": [
    "def hyperopt_lr(space, cv=CV, X=X_train, y=y_train, random_state=RANDOM_STATE):   \n",
    "    model = LogisticRegression(\n",
    "        C=space['C'],\n",
    "        solver=space['solver']['solver'],\n",
    "        penalty=space['solver']['penalty'],        \n",
    "        l1_ratio=space['l1_ratio'],\n",
    "        max_iter=MAX_ITER,\n",
    "        random_state=random_state,\n",
    "    )  \n",
    "\n",
    "    # Применим cross validation\n",
    "    score = cross_val_score(model, X, y, cv=cv, scoring='f1', n_jobs=N_JOBS).mean()\n",
    "\n",
    "    # Метрику необходимо минимизировать, поэтому ставим знак минус\n",
    "    return -score"
   ]
  },
  {
   "cell_type": "code",
   "execution_count": 31,
   "metadata": {},
   "outputs": [
    {
     "name": "stdout",
     "output_type": "stream",
     "text": [
      "  0%|          | 0/20 [00:00<?, ?trial/s, best loss=?]"
     ]
    },
    {
     "name": "stdout",
     "output_type": "stream",
     "text": [
      "100%|██████████| 20/20 [06:47<00:00, 20.35s/trial, best loss: -0.7927695982474858]\n",
      "CPU times: total: 812 ms\n",
      "Wall time: 6min 47s\n"
     ]
    }
   ],
   "source": [
    "%%time\n",
    "\n",
    "# Используется для логирования результатов\n",
    "trials_lr = Trials() \n",
    "\n",
    "best_lr = fmin(\n",
    "    # функция получения метрики\n",
    "    hyperopt_lr, \n",
    "    # пространство гиперпараметров\n",
    "    space=space_lr, \n",
    "    # алгоритм оптимизации, установлен по умолчанию, задавать необязательно\n",
    "    algo=tpe.suggest, \n",
    "    # максимальное количество итераций\n",
    "    max_evals=ATTEMPTS_COUNT, \n",
    "    # логирование результатов\n",
    "    trials=trials_lr, \n",
    "    # фиксируем для повторяемости результата\n",
    "    rstate=np.random.default_rng(RANDOM_STATE)\n",
    ")"
   ]
  },
  {
   "cell_type": "code",
   "execution_count": 32,
   "metadata": {},
   "outputs": [
    {
     "name": "stdout",
     "output_type": "stream",
     "text": [
      "Наилучшие значения гиперпараметров {'p_sag': 0, 'x_C': 0.030714744788593488, 'x_l1': 0.21221711699333523, 'x_solver': 3}\n"
     ]
    }
   ],
   "source": [
    "print_best_hyperparameters(best_lr)"
   ]
  },
  {
   "cell_type": "markdown",
   "metadata": {},
   "source": [
    "`'x_solver': 3`\\\n",
    "соответствует 3-му объекту в списке:\\\n",
    "`{'solver': 'sag', 'penalty': hp.choice('p_sag', ['l2', 'none'])},`\\\n",
    "То есть, значение `solver='sag'`\n",
    "\n",
    "`'p_sag': 0`\\\n",
    "соответствует 0-му объекту в списке `['l2', 'none']`\\\n",
    "То есть значение `penalty='l2'`"
   ]
  },
  {
   "cell_type": "code",
   "execution_count": 33,
   "metadata": {},
   "outputs": [
    {
     "name": "stderr",
     "output_type": "stream",
     "text": [
      "c:\\Users\\exper\\AppData\\Local\\Programs\\Python\\Python39\\lib\\site-packages\\sklearn\\linear_model\\_logistic.py:1165: UserWarning: l1_ratio parameter is only used when penalty is 'elasticnet'. Got (penalty=l2)\n",
      "  warnings.warn(\n"
     ]
    },
    {
     "name": "stdout",
     "output_type": "stream",
     "text": [
      "f1_score на тренировочном наборе: 0.84\n",
      "f1_score на тестовом наборе: 0.79\n"
     ]
    }
   ],
   "source": [
    "# Создадим модель с лучшими найденными параметрами\n",
    "model_lr_hyperopt = LogisticRegression(\n",
    "    solver='sag',\n",
    "    penalty='l2',    \n",
    "    C=best_lr['x_C'],   \n",
    "    l1_ratio=best_lr['x_l1'],\n",
    "    random_state=RANDOM_STATE, \n",
    "    max_iter=MAX_ITER,\n",
    ")\n",
    "\n",
    "# Обучаем модель\n",
    "model_lr_hyperopt.fit(X_train, y_train)\n",
    "\n",
    "# Делаем предсказание для тренировочной выборки\n",
    "y_train_pred = model_lr_hyperopt.predict(X_train)\n",
    "# Считаем метрику F1 \n",
    "f1_score_train = metrics.f1_score(y_train, y_train_pred)\n",
    "\n",
    "# Делаем предсказание для тестовой выборки\n",
    "y_test_pred = model_lr_hyperopt.predict(X_test)\n",
    "# Считаем метрику F1 \n",
    "f1_score_test = metrics.f1_score(y_test, y_test_pred)\n",
    "\n",
    "# Выводим метрики\n",
    "print_f1_score(f1_score_train, 'train')\n",
    "print_f1_score(f1_score_test, 'test')"
   ]
  },
  {
   "cell_type": "code",
   "execution_count": 34,
   "metadata": {},
   "outputs": [],
   "source": [
    "# Добавим значение метрики в словарь\n",
    "metrics_results['Hyperopt'].append(f1_score_test)\n",
    "\n",
    "# Логируем метрику\n",
    "experiment.log_metric('F1 LogisticRegression Hyperopt', f1_score_test)"
   ]
  },
  {
   "cell_type": "markdown",
   "metadata": {},
   "source": [
    "### 4.5. Поиск гиперпараметров с помощью Optuna <a id=\"item_4_5\"></a>"
   ]
  },
  {
   "cell_type": "code",
   "execution_count": 35,
   "metadata": {},
   "outputs": [],
   "source": [
    "# Настроим оптимизацию гиперпараметров для логистической регрессии\n",
    "def optuna_lr(trial):\n",
    "  # Задаем пространства поиска гиперпараметров\n",
    "  solver = trial.suggest_categorical('solver', ['newton-cg', 'lbfgs', 'liblinear', 'sag', 'saga'])\n",
    "\n",
    "  if (solver in ['newton-cg', 'lbfgs', 'sag'] ):\n",
    "    penalty = trial.suggest_categorical('penalty_other', ['none', 'l2'])\n",
    "  elif (solver == 'liblinear'):\n",
    "    penalty = trial.suggest_categorical('penalty_liblinear', ['l1', 'l2'])\n",
    "  elif (solver == 'saga'):\n",
    "    penalty = trial.suggest_categorical('penalty_saga', ['elasticnet', 'l1', 'l2', 'none'])\n",
    "\n",
    "  C = trial.suggest_uniform('C', 0.01, 1)\n",
    "  l1_ratio = trial.suggest_uniform('l1_ratio', 0, 1)    \n",
    "\n",
    "  # Создаем модель\n",
    "  model = LogisticRegression(\n",
    "      C=C,\n",
    "      solver=solver,\n",
    "      penalty=penalty,        \n",
    "      l1_ratio=l1_ratio,\n",
    "      max_iter=MAX_ITER,\n",
    "      random_state=RANDOM_STATE,\n",
    "  )\n",
    "\n",
    "  # Применим cross validation\n",
    "  score = cross_val_score(model, X_train, y_train, cv=CV, scoring='f1', n_jobs=N_JOBS).mean()\n",
    "\n",
    "  return score"
   ]
  },
  {
   "cell_type": "code",
   "execution_count": 36,
   "metadata": {},
   "outputs": [
    {
     "name": "stderr",
     "output_type": "stream",
     "text": [
      "[I 2023-11-06 22:57:02,611] A new study created in memory with name: LogisticRegression\n",
      "C:\\Users\\exper\\AppData\\Local\\Temp\\ipykernel_22692\\975921110.py:13: FutureWarning: suggest_uniform has been deprecated in v3.0.0. This feature will be removed in v6.0.0. See https://github.com/optuna/optuna/releases/tag/v3.0.0. Use suggest_float instead.\n",
      "  C = trial.suggest_uniform('C', 0.01, 1)\n",
      "C:\\Users\\exper\\AppData\\Local\\Temp\\ipykernel_22692\\975921110.py:14: FutureWarning: suggest_uniform has been deprecated in v3.0.0. This feature will be removed in v6.0.0. See https://github.com/optuna/optuna/releases/tag/v3.0.0. Use suggest_float instead.\n",
      "  l1_ratio = trial.suggest_uniform('l1_ratio', 0, 1)\n",
      "[I 2023-11-06 22:57:32,697] Trial 0 finished with value: 0.7762643307978156 and parameters: {'solver': 'saga', 'penalty_saga': 'l2', 'C': 0.7921286906784208, 'l1_ratio': 0.6198077110818607}. Best is trial 0 with value: 0.7762643307978156.\n",
      "C:\\Users\\exper\\AppData\\Local\\Temp\\ipykernel_22692\\975921110.py:13: FutureWarning: suggest_uniform has been deprecated in v3.0.0. This feature will be removed in v6.0.0. See https://github.com/optuna/optuna/releases/tag/v3.0.0. Use suggest_float instead.\n",
      "  C = trial.suggest_uniform('C', 0.01, 1)\n",
      "C:\\Users\\exper\\AppData\\Local\\Temp\\ipykernel_22692\\975921110.py:14: FutureWarning: suggest_uniform has been deprecated in v3.0.0. This feature will be removed in v6.0.0. See https://github.com/optuna/optuna/releases/tag/v3.0.0. Use suggest_float instead.\n",
      "  l1_ratio = trial.suggest_uniform('l1_ratio', 0, 1)\n",
      "[I 2023-11-06 22:58:15,408] Trial 1 finished with value: 0.7127612076011095 and parameters: {'solver': 'newton-cg', 'penalty_other': 'none', 'C': 0.829595622708894, 'l1_ratio': 0.9213823001786732}. Best is trial 0 with value: 0.7762643307978156.\n",
      "C:\\Users\\exper\\AppData\\Local\\Temp\\ipykernel_22692\\975921110.py:13: FutureWarning: suggest_uniform has been deprecated in v3.0.0. This feature will be removed in v6.0.0. See https://github.com/optuna/optuna/releases/tag/v3.0.0. Use suggest_float instead.\n",
      "  C = trial.suggest_uniform('C', 0.01, 1)\n",
      "C:\\Users\\exper\\AppData\\Local\\Temp\\ipykernel_22692\\975921110.py:14: FutureWarning: suggest_uniform has been deprecated in v3.0.0. This feature will be removed in v6.0.0. See https://github.com/optuna/optuna/releases/tag/v3.0.0. Use suggest_float instead.\n",
      "  l1_ratio = trial.suggest_uniform('l1_ratio', 0, 1)\n",
      "[I 2023-11-06 22:58:20,924] Trial 2 finished with value: 0.7770102607563261 and parameters: {'solver': 'lbfgs', 'penalty_other': 'l2', 'C': 0.7343860941109566, 'l1_ratio': 0.6013519657061369}. Best is trial 2 with value: 0.7770102607563261.\n",
      "C:\\Users\\exper\\AppData\\Local\\Temp\\ipykernel_22692\\975921110.py:13: FutureWarning: suggest_uniform has been deprecated in v3.0.0. This feature will be removed in v6.0.0. See https://github.com/optuna/optuna/releases/tag/v3.0.0. Use suggest_float instead.\n",
      "  C = trial.suggest_uniform('C', 0.01, 1)\n",
      "C:\\Users\\exper\\AppData\\Local\\Temp\\ipykernel_22692\\975921110.py:14: FutureWarning: suggest_uniform has been deprecated in v3.0.0. This feature will be removed in v6.0.0. See https://github.com/optuna/optuna/releases/tag/v3.0.0. Use suggest_float instead.\n",
      "  l1_ratio = trial.suggest_uniform('l1_ratio', 0, 1)\n",
      "[I 2023-11-06 22:58:53,136] Trial 3 finished with value: 0.7735198461201666 and parameters: {'solver': 'saga', 'penalty_saga': 'l2', 'C': 0.9705152523089702, 'l1_ratio': 0.7570018106308329}. Best is trial 2 with value: 0.7770102607563261.\n",
      "C:\\Users\\exper\\AppData\\Local\\Temp\\ipykernel_22692\\975921110.py:13: FutureWarning: suggest_uniform has been deprecated in v3.0.0. This feature will be removed in v6.0.0. See https://github.com/optuna/optuna/releases/tag/v3.0.0. Use suggest_float instead.\n",
      "  C = trial.suggest_uniform('C', 0.01, 1)\n",
      "C:\\Users\\exper\\AppData\\Local\\Temp\\ipykernel_22692\\975921110.py:14: FutureWarning: suggest_uniform has been deprecated in v3.0.0. This feature will be removed in v6.0.0. See https://github.com/optuna/optuna/releases/tag/v3.0.0. Use suggest_float instead.\n",
      "  l1_ratio = trial.suggest_uniform('l1_ratio', 0, 1)\n",
      "[I 2023-11-06 22:58:54,437] Trial 4 finished with value: 0.7873970334725482 and parameters: {'solver': 'liblinear', 'penalty_liblinear': 'l1', 'C': 0.5699899193073297, 'l1_ratio': 0.1327423491127402}. Best is trial 4 with value: 0.7873970334725482.\n",
      "C:\\Users\\exper\\AppData\\Local\\Temp\\ipykernel_22692\\975921110.py:13: FutureWarning: suggest_uniform has been deprecated in v3.0.0. This feature will be removed in v6.0.0. See https://github.com/optuna/optuna/releases/tag/v3.0.0. Use suggest_float instead.\n",
      "  C = trial.suggest_uniform('C', 0.01, 1)\n",
      "C:\\Users\\exper\\AppData\\Local\\Temp\\ipykernel_22692\\975921110.py:14: FutureWarning: suggest_uniform has been deprecated in v3.0.0. This feature will be removed in v6.0.0. See https://github.com/optuna/optuna/releases/tag/v3.0.0. Use suggest_float instead.\n",
      "  l1_ratio = trial.suggest_uniform('l1_ratio', 0, 1)\n",
      "[I 2023-11-06 22:59:35,930] Trial 5 finished with value: 0.7597800660015992 and parameters: {'solver': 'sag', 'penalty_other': 'none', 'C': 0.8855126419935755, 'l1_ratio': 0.8962145312528623}. Best is trial 4 with value: 0.7873970334725482.\n",
      "C:\\Users\\exper\\AppData\\Local\\Temp\\ipykernel_22692\\975921110.py:13: FutureWarning: suggest_uniform has been deprecated in v3.0.0. This feature will be removed in v6.0.0. See https://github.com/optuna/optuna/releases/tag/v3.0.0. Use suggest_float instead.\n",
      "  C = trial.suggest_uniform('C', 0.01, 1)\n",
      "C:\\Users\\exper\\AppData\\Local\\Temp\\ipykernel_22692\\975921110.py:14: FutureWarning: suggest_uniform has been deprecated in v3.0.0. This feature will be removed in v6.0.0. See https://github.com/optuna/optuna/releases/tag/v3.0.0. Use suggest_float instead.\n",
      "  l1_ratio = trial.suggest_uniform('l1_ratio', 0, 1)\n",
      "[I 2023-11-06 22:59:54,428] Trial 6 finished with value: 0.7750198093469802 and parameters: {'solver': 'sag', 'penalty_other': 'l2', 'C': 0.9559417337071606, 'l1_ratio': 0.36297730190260524}. Best is trial 4 with value: 0.7873970334725482.\n",
      "C:\\Users\\exper\\AppData\\Local\\Temp\\ipykernel_22692\\975921110.py:13: FutureWarning: suggest_uniform has been deprecated in v3.0.0. This feature will be removed in v6.0.0. See https://github.com/optuna/optuna/releases/tag/v3.0.0. Use suggest_float instead.\n",
      "  C = trial.suggest_uniform('C', 0.01, 1)\n",
      "C:\\Users\\exper\\AppData\\Local\\Temp\\ipykernel_22692\\975921110.py:14: FutureWarning: suggest_uniform has been deprecated in v3.0.0. This feature will be removed in v6.0.0. See https://github.com/optuna/optuna/releases/tag/v3.0.0. Use suggest_float instead.\n",
      "  l1_ratio = trial.suggest_uniform('l1_ratio', 0, 1)\n",
      "[I 2023-11-06 22:59:59,126] Trial 7 finished with value: 0.7842526841848427 and parameters: {'solver': 'newton-cg', 'penalty_other': 'l2', 'C': 0.12821322863730178, 'l1_ratio': 0.9620838302823403}. Best is trial 4 with value: 0.7873970334725482.\n",
      "C:\\Users\\exper\\AppData\\Local\\Temp\\ipykernel_22692\\975921110.py:13: FutureWarning: suggest_uniform has been deprecated in v3.0.0. This feature will be removed in v6.0.0. See https://github.com/optuna/optuna/releases/tag/v3.0.0. Use suggest_float instead.\n",
      "  C = trial.suggest_uniform('C', 0.01, 1)\n",
      "C:\\Users\\exper\\AppData\\Local\\Temp\\ipykernel_22692\\975921110.py:14: FutureWarning: suggest_uniform has been deprecated in v3.0.0. This feature will be removed in v6.0.0. See https://github.com/optuna/optuna/releases/tag/v3.0.0. Use suggest_float instead.\n",
      "  l1_ratio = trial.suggest_uniform('l1_ratio', 0, 1)\n",
      "[I 2023-11-06 23:00:40,843] Trial 8 finished with value: 0.7597800660015992 and parameters: {'solver': 'sag', 'penalty_other': 'none', 'C': 0.3935004562511634, 'l1_ratio': 0.5270387154192588}. Best is trial 4 with value: 0.7873970334725482.\n",
      "C:\\Users\\exper\\AppData\\Local\\Temp\\ipykernel_22692\\975921110.py:13: FutureWarning: suggest_uniform has been deprecated in v3.0.0. This feature will be removed in v6.0.0. See https://github.com/optuna/optuna/releases/tag/v3.0.0. Use suggest_float instead.\n",
      "  C = trial.suggest_uniform('C', 0.01, 1)\n",
      "C:\\Users\\exper\\AppData\\Local\\Temp\\ipykernel_22692\\975921110.py:14: FutureWarning: suggest_uniform has been deprecated in v3.0.0. This feature will be removed in v6.0.0. See https://github.com/optuna/optuna/releases/tag/v3.0.0. Use suggest_float instead.\n",
      "  l1_ratio = trial.suggest_uniform('l1_ratio', 0, 1)\n",
      "[I 2023-11-06 23:01:23,533] Trial 9 finished with value: 0.7127612076011095 and parameters: {'solver': 'newton-cg', 'penalty_other': 'none', 'C': 0.7922846595148647, 'l1_ratio': 0.007084788860295843}. Best is trial 4 with value: 0.7873970334725482.\n",
      "C:\\Users\\exper\\AppData\\Local\\Temp\\ipykernel_22692\\975921110.py:13: FutureWarning: suggest_uniform has been deprecated in v3.0.0. This feature will be removed in v6.0.0. See https://github.com/optuna/optuna/releases/tag/v3.0.0. Use suggest_float instead.\n",
      "  C = trial.suggest_uniform('C', 0.01, 1)\n",
      "C:\\Users\\exper\\AppData\\Local\\Temp\\ipykernel_22692\\975921110.py:14: FutureWarning: suggest_uniform has been deprecated in v3.0.0. This feature will be removed in v6.0.0. See https://github.com/optuna/optuna/releases/tag/v3.0.0. Use suggest_float instead.\n",
      "  l1_ratio = trial.suggest_uniform('l1_ratio', 0, 1)\n",
      "[I 2023-11-06 23:01:24,521] Trial 10 finished with value: 0.7878623778896395 and parameters: {'solver': 'liblinear', 'penalty_liblinear': 'l1', 'C': 0.5573742958388763, 'l1_ratio': 0.20802274250600555}. Best is trial 10 with value: 0.7878623778896395.\n",
      "C:\\Users\\exper\\AppData\\Local\\Temp\\ipykernel_22692\\975921110.py:13: FutureWarning: suggest_uniform has been deprecated in v3.0.0. This feature will be removed in v6.0.0. See https://github.com/optuna/optuna/releases/tag/v3.0.0. Use suggest_float instead.\n",
      "  C = trial.suggest_uniform('C', 0.01, 1)\n",
      "C:\\Users\\exper\\AppData\\Local\\Temp\\ipykernel_22692\\975921110.py:14: FutureWarning: suggest_uniform has been deprecated in v3.0.0. This feature will be removed in v6.0.0. See https://github.com/optuna/optuna/releases/tag/v3.0.0. Use suggest_float instead.\n",
      "  l1_ratio = trial.suggest_uniform('l1_ratio', 0, 1)\n",
      "[I 2023-11-06 23:01:25,385] Trial 11 finished with value: 0.7874017169688321 and parameters: {'solver': 'liblinear', 'penalty_liblinear': 'l1', 'C': 0.5591868077956849, 'l1_ratio': 0.18237725264621052}. Best is trial 10 with value: 0.7878623778896395.\n",
      "C:\\Users\\exper\\AppData\\Local\\Temp\\ipykernel_22692\\975921110.py:13: FutureWarning: suggest_uniform has been deprecated in v3.0.0. This feature will be removed in v6.0.0. See https://github.com/optuna/optuna/releases/tag/v3.0.0. Use suggest_float instead.\n",
      "  C = trial.suggest_uniform('C', 0.01, 1)\n",
      "C:\\Users\\exper\\AppData\\Local\\Temp\\ipykernel_22692\\975921110.py:14: FutureWarning: suggest_uniform has been deprecated in v3.0.0. This feature will be removed in v6.0.0. See https://github.com/optuna/optuna/releases/tag/v3.0.0. Use suggest_float instead.\n",
      "  l1_ratio = trial.suggest_uniform('l1_ratio', 0, 1)\n",
      "[I 2023-11-06 23:01:26,316] Trial 12 finished with value: 0.7873833736302428 and parameters: {'solver': 'liblinear', 'penalty_liblinear': 'l1', 'C': 0.5642044584072934, 'l1_ratio': 0.28473272880587647}. Best is trial 10 with value: 0.7878623778896395.\n",
      "C:\\Users\\exper\\AppData\\Local\\Temp\\ipykernel_22692\\975921110.py:13: FutureWarning: suggest_uniform has been deprecated in v3.0.0. This feature will be removed in v6.0.0. See https://github.com/optuna/optuna/releases/tag/v3.0.0. Use suggest_float instead.\n",
      "  C = trial.suggest_uniform('C', 0.01, 1)\n",
      "C:\\Users\\exper\\AppData\\Local\\Temp\\ipykernel_22692\\975921110.py:14: FutureWarning: suggest_uniform has been deprecated in v3.0.0. This feature will be removed in v6.0.0. See https://github.com/optuna/optuna/releases/tag/v3.0.0. Use suggest_float instead.\n",
      "  l1_ratio = trial.suggest_uniform('l1_ratio', 0, 1)\n",
      "[I 2023-11-06 23:01:27,281] Trial 13 finished with value: 0.7887725892391461 and parameters: {'solver': 'liblinear', 'penalty_liblinear': 'l1', 'C': 0.42387892928190907, 'l1_ratio': 0.2633567502367789}. Best is trial 13 with value: 0.7887725892391461.\n",
      "C:\\Users\\exper\\AppData\\Local\\Temp\\ipykernel_22692\\975921110.py:13: FutureWarning: suggest_uniform has been deprecated in v3.0.0. This feature will be removed in v6.0.0. See https://github.com/optuna/optuna/releases/tag/v3.0.0. Use suggest_float instead.\n",
      "  C = trial.suggest_uniform('C', 0.01, 1)\n",
      "C:\\Users\\exper\\AppData\\Local\\Temp\\ipykernel_22692\\975921110.py:14: FutureWarning: suggest_uniform has been deprecated in v3.0.0. This feature will be removed in v6.0.0. See https://github.com/optuna/optuna/releases/tag/v3.0.0. Use suggest_float instead.\n",
      "  l1_ratio = trial.suggest_uniform('l1_ratio', 0, 1)\n",
      "[I 2023-11-06 23:01:28,298] Trial 14 finished with value: 0.777385227646687 and parameters: {'solver': 'liblinear', 'penalty_liblinear': 'l2', 'C': 0.38251118096970027, 'l1_ratio': 0.3916067192031036}. Best is trial 13 with value: 0.7887725892391461.\n",
      "C:\\Users\\exper\\AppData\\Local\\Temp\\ipykernel_22692\\975921110.py:13: FutureWarning: suggest_uniform has been deprecated in v3.0.0. This feature will be removed in v6.0.0. See https://github.com/optuna/optuna/releases/tag/v3.0.0. Use suggest_float instead.\n",
      "  C = trial.suggest_uniform('C', 0.01, 1)\n",
      "C:\\Users\\exper\\AppData\\Local\\Temp\\ipykernel_22692\\975921110.py:14: FutureWarning: suggest_uniform has been deprecated in v3.0.0. This feature will be removed in v6.0.0. See https://github.com/optuna/optuna/releases/tag/v3.0.0. Use suggest_float instead.\n",
      "  l1_ratio = trial.suggest_uniform('l1_ratio', 0, 1)\n",
      "[I 2023-11-06 23:01:29,002] Trial 15 finished with value: 0.7892237335423316 and parameters: {'solver': 'liblinear', 'penalty_liblinear': 'l1', 'C': 0.26988178140868335, 'l1_ratio': 0.23883601769766327}. Best is trial 15 with value: 0.7892237335423316.\n",
      "C:\\Users\\exper\\AppData\\Local\\Temp\\ipykernel_22692\\975921110.py:13: FutureWarning: suggest_uniform has been deprecated in v3.0.0. This feature will be removed in v6.0.0. See https://github.com/optuna/optuna/releases/tag/v3.0.0. Use suggest_float instead.\n",
      "  C = trial.suggest_uniform('C', 0.01, 1)\n",
      "C:\\Users\\exper\\AppData\\Local\\Temp\\ipykernel_22692\\975921110.py:14: FutureWarning: suggest_uniform has been deprecated in v3.0.0. This feature will be removed in v6.0.0. See https://github.com/optuna/optuna/releases/tag/v3.0.0. Use suggest_float instead.\n",
      "  l1_ratio = trial.suggest_uniform('l1_ratio', 0, 1)\n",
      "[I 2023-11-06 23:01:32,365] Trial 16 finished with value: 0.7825531018728628 and parameters: {'solver': 'lbfgs', 'penalty_other': 'l2', 'C': 0.17452698796426191, 'l1_ratio': 0.4032547820619346}. Best is trial 15 with value: 0.7892237335423316.\n",
      "C:\\Users\\exper\\AppData\\Local\\Temp\\ipykernel_22692\\975921110.py:13: FutureWarning: suggest_uniform has been deprecated in v3.0.0. This feature will be removed in v6.0.0. See https://github.com/optuna/optuna/releases/tag/v3.0.0. Use suggest_float instead.\n",
      "  C = trial.suggest_uniform('C', 0.01, 1)\n",
      "C:\\Users\\exper\\AppData\\Local\\Temp\\ipykernel_22692\\975921110.py:14: FutureWarning: suggest_uniform has been deprecated in v3.0.0. This feature will be removed in v6.0.0. See https://github.com/optuna/optuna/releases/tag/v3.0.0. Use suggest_float instead.\n",
      "  l1_ratio = trial.suggest_uniform('l1_ratio', 0, 1)\n",
      "[I 2023-11-06 23:01:32,903] Trial 17 finished with value: 0.7577274583182511 and parameters: {'solver': 'liblinear', 'penalty_liblinear': 'l1', 'C': 0.014123197040510405, 'l1_ratio': 0.05520764590645416}. Best is trial 15 with value: 0.7892237335423316.\n",
      "C:\\Users\\exper\\AppData\\Local\\Temp\\ipykernel_22692\\975921110.py:13: FutureWarning: suggest_uniform has been deprecated in v3.0.0. This feature will be removed in v6.0.0. See https://github.com/optuna/optuna/releases/tag/v3.0.0. Use suggest_float instead.\n",
      "  C = trial.suggest_uniform('C', 0.01, 1)\n",
      "C:\\Users\\exper\\AppData\\Local\\Temp\\ipykernel_22692\\975921110.py:14: FutureWarning: suggest_uniform has been deprecated in v3.0.0. This feature will be removed in v6.0.0. See https://github.com/optuna/optuna/releases/tag/v3.0.0. Use suggest_float instead.\n",
      "  l1_ratio = trial.suggest_uniform('l1_ratio', 0, 1)\n",
      "[I 2023-11-06 23:01:33,865] Trial 18 finished with value: 0.7776229148701315 and parameters: {'solver': 'liblinear', 'penalty_liblinear': 'l2', 'C': 0.35552266776334507, 'l1_ratio': 0.29080243109077175}. Best is trial 15 with value: 0.7892237335423316.\n",
      "C:\\Users\\exper\\AppData\\Local\\Temp\\ipykernel_22692\\975921110.py:13: FutureWarning: suggest_uniform has been deprecated in v3.0.0. This feature will be removed in v6.0.0. See https://github.com/optuna/optuna/releases/tag/v3.0.0. Use suggest_float instead.\n",
      "  C = trial.suggest_uniform('C', 0.01, 1)\n",
      "C:\\Users\\exper\\AppData\\Local\\Temp\\ipykernel_22692\\975921110.py:14: FutureWarning: suggest_uniform has been deprecated in v3.0.0. This feature will be removed in v6.0.0. See https://github.com/optuna/optuna/releases/tag/v3.0.0. Use suggest_float instead.\n",
      "  l1_ratio = trial.suggest_uniform('l1_ratio', 0, 1)\n",
      "[I 2023-11-06 23:01:34,682] Trial 19 finished with value: 0.7882168196107964 and parameters: {'solver': 'liblinear', 'penalty_liblinear': 'l1', 'C': 0.2401933480383816, 'l1_ratio': 0.11397593242245246}. Best is trial 15 with value: 0.7892237335423316.\n"
     ]
    },
    {
     "name": "stdout",
     "output_type": "stream",
     "text": [
      "CPU times: total: 797 ms\n",
      "Wall time: 4min 32s\n"
     ]
    }
   ],
   "source": [
    "%%time\n",
    "# Создаем объект исследования\n",
    "study_lr = optuna.create_study(study_name=\"LogisticRegression\", direction=\"maximize\")\n",
    "\n",
    "# Ищем лучшую комбинацию гиперпараметров n_trials раз\n",
    "study_lr.optimize(optuna_lr, n_trials=ATTEMPTS_COUNT)"
   ]
  },
  {
   "cell_type": "code",
   "execution_count": 37,
   "metadata": {},
   "outputs": [
    {
     "name": "stdout",
     "output_type": "stream",
     "text": [
      "Наилучшие значения гиперпараметров {'solver': 'liblinear', 'penalty_liblinear': 'l1', 'C': 0.26988178140868335, 'l1_ratio': 0.23883601769766327}\n"
     ]
    }
   ],
   "source": [
    "print_best_hyperparameters(study_lr.best_params)"
   ]
  },
  {
   "cell_type": "code",
   "execution_count": 38,
   "metadata": {},
   "outputs": [
    {
     "name": "stderr",
     "output_type": "stream",
     "text": [
      "c:\\Users\\exper\\AppData\\Local\\Programs\\Python\\Python39\\lib\\site-packages\\sklearn\\linear_model\\_logistic.py:1165: UserWarning: l1_ratio parameter is only used when penalty is 'elasticnet'. Got (penalty=l1)\n",
      "  warnings.warn(\n"
     ]
    },
    {
     "name": "stdout",
     "output_type": "stream",
     "text": [
      "f1_score на тренировочном наборе: 0.83\n",
      "f1_score на тестовом наборе: 0.78\n"
     ]
    }
   ],
   "source": [
    "# Построим модель с лучшими параметрами\n",
    "model_lr_optuna = LogisticRegression(\n",
    "    solver=study_lr.best_params['solver'],\n",
    "    penalty=study_lr.best_params['penalty_liblinear'],\n",
    "    C=study_lr.best_params['C'],\n",
    "    l1_ratio=study_lr.best_params['l1_ratio'],\n",
    "    random_state=RANDOM_STATE, \n",
    "    max_iter=MAX_ITER\n",
    ")\n",
    "\n",
    "# Обучаем\n",
    "model_lr_optuna.fit(X_train, y_train)\n",
    "\n",
    "# Предсказываем значение для тренировочной выборки\n",
    "y_train_pred = model_lr_optuna.predict(X_train)\n",
    "# Считаем метрику F1 \n",
    "f1_score_train =  metrics.f1_score(y_train, y_train_pred)\n",
    "\n",
    "# Предсказываем значения для тестовой выборки\n",
    "y_test_pred = model_lr_optuna.predict(X_test)\n",
    "# Считаем метрику F1 \n",
    "f1_score_test = metrics.f1_score(y_test, y_test_pred)\n",
    "\n",
    "# Выводим метрики\n",
    "print_f1_score(f1_score_train, 'train')\n",
    "print_f1_score(f1_score_test, 'test')"
   ]
  },
  {
   "cell_type": "code",
   "execution_count": 39,
   "metadata": {},
   "outputs": [],
   "source": [
    "# Добавим значение метрики в словарь\n",
    "metrics_results['Optuna'].append(f1_score_test)\n",
    "\n",
    "# Логируем метрику\n",
    "experiment.log_metric('F1 LogisticRegression Optuna', f1_score_test)"
   ]
  },
  {
   "cell_type": "markdown",
   "metadata": {},
   "source": [
    "## 5. Использование случайного леса (RandomForestClassifier)  <a id=\"item_5\"></a>"
   ]
  },
  {
   "cell_type": "markdown",
   "metadata": {},
   "source": [
    "### 5.1. Использование гиперпараметров по умолчанию <a id=\"item_5_1\"></a>"
   ]
  },
  {
   "cell_type": "code",
   "execution_count": 40,
   "metadata": {},
   "outputs": [
    {
     "name": "stdout",
     "output_type": "stream",
     "text": [
      "f1_score на тренировочном наборе: 1.00\n",
      "f1_score на тестовом наборе: 0.81\n"
     ]
    }
   ],
   "source": [
    "# Создаем модель класса RandomForestClassifier\n",
    "model_rf = RandomForestClassifier(\n",
    "    random_state=RANDOM_STATE,\n",
    ")\n",
    "\n",
    "# Создаем объект кросс-валидатора k-fold со стратификацией\n",
    "skf = StratifiedKFold(n_splits=CV, shuffle=False)\n",
    "\n",
    "# Считаем метрики на кросс-валидации k-fold со стратификацией\n",
    "cv_metrics = cross_validate(\n",
    "    estimator=model_rf, # модель\n",
    "    X=X, # матрица наблюдений X\n",
    "    y=y, # вектор ответов y\n",
    "    cv=skf, # кросс-валидатор\n",
    "    scoring='f1', # метрика\n",
    "    return_train_score=True # подсчёт метрики на тренировочных фолдах\n",
    ")\n",
    "\n",
    "# Считаем средние метрики\n",
    "f1_score_train = np.mean(cv_metrics['train_score'])\n",
    "f1_score_test = np.mean(cv_metrics['test_score'])\n",
    "\n",
    "# Выводим метрики\n",
    "print_f1_score(f1_score_train, 'train')\n",
    "print_f1_score(f1_score_test, 'test')"
   ]
  },
  {
   "cell_type": "markdown",
   "metadata": {},
   "source": [
    "> Модель можно считать переобученной (метрика $F_1$ = 1 на тренировочной выборке и 0.81 на тестовой).\\\n",
    "Но тем не менее метрика $F_1$ на тестовой выборке лучше, чем при использовании логистической регрессии."
   ]
  },
  {
   "cell_type": "code",
   "execution_count": 41,
   "metadata": {},
   "outputs": [],
   "source": [
    "# Добавим значение метрики в словарь\n",
    "metrics_results['defaultParams'].append(f1_score_test)\n",
    "\n",
    "# Логируем метрику\n",
    "experiment.log_metric('F1 RandomForestClassifier defaultParams', f1_score_test)"
   ]
  },
  {
   "cell_type": "markdown",
   "metadata": {},
   "source": [
    "### 5.2. Поиск гиперпараметров с помощью GridSearchCV <a id=\"item_5_2\"></a>"
   ]
  },
  {
   "cell_type": "code",
   "execution_count": 42,
   "metadata": {},
   "outputs": [],
   "source": [
    "# Зададим сетку параметров\n",
    "param_grid_rf = {\n",
    "    'n_estimators': [100, 200, 300],\n",
    "    'max_depth': [5, 8, 10], \n",
    "    'min_samples_leaf': [5, 10, 15]\n",
    "}\n",
    "\n",
    "# Создаем объект класса GridSearchCV\n",
    "grid_search_rf = GridSearchCV(\n",
    "    estimator=RandomForestClassifier(\n",
    "        random_state=RANDOM_STATE, # генератор случайных чисел\n",
    "    ), \n",
    "    param_grid=param_grid_rf, # сетка параметров\n",
    "    scoring=metrics.make_scorer(metrics.f1_score), # метрика, которую улучшаем\n",
    "    cv=CV, # количество фолдов для кросс валидации\n",
    "    n_jobs=N_JOBS\n",
    ")"
   ]
  },
  {
   "cell_type": "code",
   "execution_count": 43,
   "metadata": {},
   "outputs": [
    {
     "name": "stdout",
     "output_type": "stream",
     "text": [
      "CPU times: total: 0 ns\n",
      "Wall time: 0 ns\n"
     ]
    },
    {
     "data": {
      "text/html": [
       "<style>#sk-container-id-3 {color: black;background-color: white;}#sk-container-id-3 pre{padding: 0;}#sk-container-id-3 div.sk-toggleable {background-color: white;}#sk-container-id-3 label.sk-toggleable__label {cursor: pointer;display: block;width: 100%;margin-bottom: 0;padding: 0.3em;box-sizing: border-box;text-align: center;}#sk-container-id-3 label.sk-toggleable__label-arrow:before {content: \"▸\";float: left;margin-right: 0.25em;color: #696969;}#sk-container-id-3 label.sk-toggleable__label-arrow:hover:before {color: black;}#sk-container-id-3 div.sk-estimator:hover label.sk-toggleable__label-arrow:before {color: black;}#sk-container-id-3 div.sk-toggleable__content {max-height: 0;max-width: 0;overflow: hidden;text-align: left;background-color: #f0f8ff;}#sk-container-id-3 div.sk-toggleable__content pre {margin: 0.2em;color: black;border-radius: 0.25em;background-color: #f0f8ff;}#sk-container-id-3 input.sk-toggleable__control:checked~div.sk-toggleable__content {max-height: 200px;max-width: 100%;overflow: auto;}#sk-container-id-3 input.sk-toggleable__control:checked~label.sk-toggleable__label-arrow:before {content: \"▾\";}#sk-container-id-3 div.sk-estimator input.sk-toggleable__control:checked~label.sk-toggleable__label {background-color: #d4ebff;}#sk-container-id-3 div.sk-label input.sk-toggleable__control:checked~label.sk-toggleable__label {background-color: #d4ebff;}#sk-container-id-3 input.sk-hidden--visually {border: 0;clip: rect(1px 1px 1px 1px);clip: rect(1px, 1px, 1px, 1px);height: 1px;margin: -1px;overflow: hidden;padding: 0;position: absolute;width: 1px;}#sk-container-id-3 div.sk-estimator {font-family: monospace;background-color: #f0f8ff;border: 1px dotted black;border-radius: 0.25em;box-sizing: border-box;margin-bottom: 0.5em;}#sk-container-id-3 div.sk-estimator:hover {background-color: #d4ebff;}#sk-container-id-3 div.sk-parallel-item::after {content: \"\";width: 100%;border-bottom: 1px solid gray;flex-grow: 1;}#sk-container-id-3 div.sk-label:hover label.sk-toggleable__label {background-color: #d4ebff;}#sk-container-id-3 div.sk-serial::before {content: \"\";position: absolute;border-left: 1px solid gray;box-sizing: border-box;top: 0;bottom: 0;left: 50%;z-index: 0;}#sk-container-id-3 div.sk-serial {display: flex;flex-direction: column;align-items: center;background-color: white;padding-right: 0.2em;padding-left: 0.2em;position: relative;}#sk-container-id-3 div.sk-item {position: relative;z-index: 1;}#sk-container-id-3 div.sk-parallel {display: flex;align-items: stretch;justify-content: center;background-color: white;position: relative;}#sk-container-id-3 div.sk-item::before, #sk-container-id-3 div.sk-parallel-item::before {content: \"\";position: absolute;border-left: 1px solid gray;box-sizing: border-box;top: 0;bottom: 0;left: 50%;z-index: -1;}#sk-container-id-3 div.sk-parallel-item {display: flex;flex-direction: column;z-index: 1;position: relative;background-color: white;}#sk-container-id-3 div.sk-parallel-item:first-child::after {align-self: flex-end;width: 50%;}#sk-container-id-3 div.sk-parallel-item:last-child::after {align-self: flex-start;width: 50%;}#sk-container-id-3 div.sk-parallel-item:only-child::after {width: 0;}#sk-container-id-3 div.sk-dashed-wrapped {border: 1px dashed gray;margin: 0 0.4em 0.5em 0.4em;box-sizing: border-box;padding-bottom: 0.4em;background-color: white;}#sk-container-id-3 div.sk-label label {font-family: monospace;font-weight: bold;display: inline-block;line-height: 1.2em;}#sk-container-id-3 div.sk-label-container {text-align: center;}#sk-container-id-3 div.sk-container {/* jupyter's `normalize.less` sets `[hidden] { display: none; }` but bootstrap.min.css set `[hidden] { display: none !important; }` so we also need the `!important` here to be able to override the default hidden behavior on the sphinx rendered scikit-learn.org. See: https://github.com/scikit-learn/scikit-learn/issues/21755 */display: inline-block !important;position: relative;}#sk-container-id-3 div.sk-text-repr-fallback {display: none;}</style><div id=\"sk-container-id-3\" class=\"sk-top-container\"><div class=\"sk-text-repr-fallback\"><pre>GridSearchCV(cv=5, estimator=RandomForestClassifier(random_state=42), n_jobs=-1,\n",
       "             param_grid={&#x27;max_depth&#x27;: [5, 8, 10],\n",
       "                         &#x27;min_samples_leaf&#x27;: [5, 10, 15],\n",
       "                         &#x27;n_estimators&#x27;: [100, 200, 300]},\n",
       "             scoring=make_scorer(f1_score))</pre><b>In a Jupyter environment, please rerun this cell to show the HTML representation or trust the notebook. <br />On GitHub, the HTML representation is unable to render, please try loading this page with nbviewer.org.</b></div><div class=\"sk-container\" hidden><div class=\"sk-item sk-dashed-wrapped\"><div class=\"sk-label-container\"><div class=\"sk-label sk-toggleable\"><input class=\"sk-toggleable__control sk-hidden--visually\" id=\"sk-estimator-id-7\" type=\"checkbox\" ><label for=\"sk-estimator-id-7\" class=\"sk-toggleable__label sk-toggleable__label-arrow\">GridSearchCV</label><div class=\"sk-toggleable__content\"><pre>GridSearchCV(cv=5, estimator=RandomForestClassifier(random_state=42), n_jobs=-1,\n",
       "             param_grid={&#x27;max_depth&#x27;: [5, 8, 10],\n",
       "                         &#x27;min_samples_leaf&#x27;: [5, 10, 15],\n",
       "                         &#x27;n_estimators&#x27;: [100, 200, 300]},\n",
       "             scoring=make_scorer(f1_score))</pre></div></div></div><div class=\"sk-parallel\"><div class=\"sk-parallel-item\"><div class=\"sk-item\"><div class=\"sk-label-container\"><div class=\"sk-label sk-toggleable\"><input class=\"sk-toggleable__control sk-hidden--visually\" id=\"sk-estimator-id-8\" type=\"checkbox\" ><label for=\"sk-estimator-id-8\" class=\"sk-toggleable__label sk-toggleable__label-arrow\">estimator: RandomForestClassifier</label><div class=\"sk-toggleable__content\"><pre>RandomForestClassifier(random_state=42)</pre></div></div></div><div class=\"sk-serial\"><div class=\"sk-item\"><div class=\"sk-estimator sk-toggleable\"><input class=\"sk-toggleable__control sk-hidden--visually\" id=\"sk-estimator-id-9\" type=\"checkbox\" ><label for=\"sk-estimator-id-9\" class=\"sk-toggleable__label sk-toggleable__label-arrow\">RandomForestClassifier</label><div class=\"sk-toggleable__content\"><pre>RandomForestClassifier(random_state=42)</pre></div></div></div></div></div></div></div></div></div></div>"
      ],
      "text/plain": [
       "GridSearchCV(cv=5, estimator=RandomForestClassifier(random_state=42), n_jobs=-1,\n",
       "             param_grid={'max_depth': [5, 8, 10],\n",
       "                         'min_samples_leaf': [5, 10, 15],\n",
       "                         'n_estimators': [100, 200, 300]},\n",
       "             scoring=make_scorer(f1_score))"
      ]
     },
     "execution_count": 43,
     "metadata": {},
     "output_type": "execute_result"
    }
   ],
   "source": [
    "# %time - замеряет время выполнения\n",
    "%time \n",
    "\n",
    "# Обучаем\n",
    "grid_search_rf.fit(X_train, y_train) "
   ]
  },
  {
   "cell_type": "code",
   "execution_count": 44,
   "metadata": {},
   "outputs": [
    {
     "name": "stdout",
     "output_type": "stream",
     "text": [
      "Наилучшие значения гиперпараметров {'max_depth': 10, 'min_samples_leaf': 5, 'n_estimators': 300}\n"
     ]
    }
   ],
   "source": [
    "print_best_hyperparameters(grid_search_rf.best_params_)"
   ]
  },
  {
   "cell_type": "code",
   "execution_count": 45,
   "metadata": {},
   "outputs": [
    {
     "name": "stdout",
     "output_type": "stream",
     "text": [
      "f1_score на тренировочном наборе: 0.81\n",
      "f1_score на тестовом наборе: 0.80\n"
     ]
    }
   ],
   "source": [
    "# Запоминаем метрику F1 на тренировочной выборке\n",
    "f1_score_train = grid_search_rf.best_score_\n",
    "\n",
    "# Считаем метрику F1 на тестовой выборке\n",
    "f1_score_test = grid_search_rf.score(X_test, y_test)\n",
    "\n",
    "# Выводим метрики\n",
    "print_f1_score(f1_score_train, 'train')\n",
    "print_f1_score(f1_score_test, 'test')"
   ]
  },
  {
   "cell_type": "code",
   "execution_count": 46,
   "metadata": {},
   "outputs": [],
   "source": [
    "# Добавим значение метрики в словарь\n",
    "metrics_results['GridSearchCV'].append(f1_score_test)\n",
    "\n",
    "# Логируем метрику\n",
    "experiment.log_metric('F1 RandomForestClassifier GridSearchCV', f1_score_test)"
   ]
  },
  {
   "cell_type": "markdown",
   "metadata": {},
   "source": [
    "### 5.3. Поиск гиперпараметров с помощью RandomizedSearchCV <a id=\"item_5_3\"></a>"
   ]
  },
  {
   "cell_type": "code",
   "execution_count": 47,
   "metadata": {},
   "outputs": [],
   "source": [
    "# Зададим варианты параметров\n",
    "param_distributions_rf = {\n",
    "    'n_estimators': np.linspace(100, 500, 5, dtype=int), # количество деревьев\n",
    "    'max_depth': np.linspace(5, 25, 5, dtype=int), # максимальная глубина дерева\n",
    "    'min_samples_leaf': np.linspace(1, 20, 20, dtype=int), # минимальное количество элементов в листе\n",
    "}\n",
    "\n",
    "# Создаем объект класса RandomizedSearchCV\n",
    "random_search_rf = RandomizedSearchCV(\n",
    "    estimator=RandomForestClassifier(\n",
    "        random_state=RANDOM_STATE, # генератор случайных чисел \n",
    "    ), \n",
    "    param_distributions=param_distributions_rf, # варианты параметров\n",
    "    scoring=metrics.make_scorer(metrics.f1_score), # метрика, которую улучшаем\n",
    "    cv=CV, # количество фолдов для кросс валидации\n",
    "    n_iter=ATTEMPTS_COUNT, # количество комбинаций \n",
    "    n_jobs=N_JOBS\n",
    ")"
   ]
  },
  {
   "cell_type": "code",
   "execution_count": 48,
   "metadata": {},
   "outputs": [
    {
     "name": "stdout",
     "output_type": "stream",
     "text": [
      "CPU times: total: 0 ns\n",
      "Wall time: 0 ns\n"
     ]
    },
    {
     "data": {
      "text/html": [
       "<style>#sk-container-id-4 {color: black;background-color: white;}#sk-container-id-4 pre{padding: 0;}#sk-container-id-4 div.sk-toggleable {background-color: white;}#sk-container-id-4 label.sk-toggleable__label {cursor: pointer;display: block;width: 100%;margin-bottom: 0;padding: 0.3em;box-sizing: border-box;text-align: center;}#sk-container-id-4 label.sk-toggleable__label-arrow:before {content: \"▸\";float: left;margin-right: 0.25em;color: #696969;}#sk-container-id-4 label.sk-toggleable__label-arrow:hover:before {color: black;}#sk-container-id-4 div.sk-estimator:hover label.sk-toggleable__label-arrow:before {color: black;}#sk-container-id-4 div.sk-toggleable__content {max-height: 0;max-width: 0;overflow: hidden;text-align: left;background-color: #f0f8ff;}#sk-container-id-4 div.sk-toggleable__content pre {margin: 0.2em;color: black;border-radius: 0.25em;background-color: #f0f8ff;}#sk-container-id-4 input.sk-toggleable__control:checked~div.sk-toggleable__content {max-height: 200px;max-width: 100%;overflow: auto;}#sk-container-id-4 input.sk-toggleable__control:checked~label.sk-toggleable__label-arrow:before {content: \"▾\";}#sk-container-id-4 div.sk-estimator input.sk-toggleable__control:checked~label.sk-toggleable__label {background-color: #d4ebff;}#sk-container-id-4 div.sk-label input.sk-toggleable__control:checked~label.sk-toggleable__label {background-color: #d4ebff;}#sk-container-id-4 input.sk-hidden--visually {border: 0;clip: rect(1px 1px 1px 1px);clip: rect(1px, 1px, 1px, 1px);height: 1px;margin: -1px;overflow: hidden;padding: 0;position: absolute;width: 1px;}#sk-container-id-4 div.sk-estimator {font-family: monospace;background-color: #f0f8ff;border: 1px dotted black;border-radius: 0.25em;box-sizing: border-box;margin-bottom: 0.5em;}#sk-container-id-4 div.sk-estimator:hover {background-color: #d4ebff;}#sk-container-id-4 div.sk-parallel-item::after {content: \"\";width: 100%;border-bottom: 1px solid gray;flex-grow: 1;}#sk-container-id-4 div.sk-label:hover label.sk-toggleable__label {background-color: #d4ebff;}#sk-container-id-4 div.sk-serial::before {content: \"\";position: absolute;border-left: 1px solid gray;box-sizing: border-box;top: 0;bottom: 0;left: 50%;z-index: 0;}#sk-container-id-4 div.sk-serial {display: flex;flex-direction: column;align-items: center;background-color: white;padding-right: 0.2em;padding-left: 0.2em;position: relative;}#sk-container-id-4 div.sk-item {position: relative;z-index: 1;}#sk-container-id-4 div.sk-parallel {display: flex;align-items: stretch;justify-content: center;background-color: white;position: relative;}#sk-container-id-4 div.sk-item::before, #sk-container-id-4 div.sk-parallel-item::before {content: \"\";position: absolute;border-left: 1px solid gray;box-sizing: border-box;top: 0;bottom: 0;left: 50%;z-index: -1;}#sk-container-id-4 div.sk-parallel-item {display: flex;flex-direction: column;z-index: 1;position: relative;background-color: white;}#sk-container-id-4 div.sk-parallel-item:first-child::after {align-self: flex-end;width: 50%;}#sk-container-id-4 div.sk-parallel-item:last-child::after {align-self: flex-start;width: 50%;}#sk-container-id-4 div.sk-parallel-item:only-child::after {width: 0;}#sk-container-id-4 div.sk-dashed-wrapped {border: 1px dashed gray;margin: 0 0.4em 0.5em 0.4em;box-sizing: border-box;padding-bottom: 0.4em;background-color: white;}#sk-container-id-4 div.sk-label label {font-family: monospace;font-weight: bold;display: inline-block;line-height: 1.2em;}#sk-container-id-4 div.sk-label-container {text-align: center;}#sk-container-id-4 div.sk-container {/* jupyter's `normalize.less` sets `[hidden] { display: none; }` but bootstrap.min.css set `[hidden] { display: none !important; }` so we also need the `!important` here to be able to override the default hidden behavior on the sphinx rendered scikit-learn.org. See: https://github.com/scikit-learn/scikit-learn/issues/21755 */display: inline-block !important;position: relative;}#sk-container-id-4 div.sk-text-repr-fallback {display: none;}</style><div id=\"sk-container-id-4\" class=\"sk-top-container\"><div class=\"sk-text-repr-fallback\"><pre>RandomizedSearchCV(cv=5, estimator=RandomForestClassifier(random_state=42),\n",
       "                   n_iter=20, n_jobs=-1,\n",
       "                   param_distributions={&#x27;max_depth&#x27;: array([ 5, 10, 15, 20, 25]),\n",
       "                                        &#x27;min_samples_leaf&#x27;: array([ 1,  2,  3,  4,  5,  6,  7,  8,  9, 10, 11, 12, 13, 14, 15, 16, 17,\n",
       "       18, 19, 20]),\n",
       "                                        &#x27;n_estimators&#x27;: array([100, 200, 300, 400, 500])},\n",
       "                   scoring=make_scorer(f1_score))</pre><b>In a Jupyter environment, please rerun this cell to show the HTML representation or trust the notebook. <br />On GitHub, the HTML representation is unable to render, please try loading this page with nbviewer.org.</b></div><div class=\"sk-container\" hidden><div class=\"sk-item sk-dashed-wrapped\"><div class=\"sk-label-container\"><div class=\"sk-label sk-toggleable\"><input class=\"sk-toggleable__control sk-hidden--visually\" id=\"sk-estimator-id-10\" type=\"checkbox\" ><label for=\"sk-estimator-id-10\" class=\"sk-toggleable__label sk-toggleable__label-arrow\">RandomizedSearchCV</label><div class=\"sk-toggleable__content\"><pre>RandomizedSearchCV(cv=5, estimator=RandomForestClassifier(random_state=42),\n",
       "                   n_iter=20, n_jobs=-1,\n",
       "                   param_distributions={&#x27;max_depth&#x27;: array([ 5, 10, 15, 20, 25]),\n",
       "                                        &#x27;min_samples_leaf&#x27;: array([ 1,  2,  3,  4,  5,  6,  7,  8,  9, 10, 11, 12, 13, 14, 15, 16, 17,\n",
       "       18, 19, 20]),\n",
       "                                        &#x27;n_estimators&#x27;: array([100, 200, 300, 400, 500])},\n",
       "                   scoring=make_scorer(f1_score))</pre></div></div></div><div class=\"sk-parallel\"><div class=\"sk-parallel-item\"><div class=\"sk-item\"><div class=\"sk-label-container\"><div class=\"sk-label sk-toggleable\"><input class=\"sk-toggleable__control sk-hidden--visually\" id=\"sk-estimator-id-11\" type=\"checkbox\" ><label for=\"sk-estimator-id-11\" class=\"sk-toggleable__label sk-toggleable__label-arrow\">estimator: RandomForestClassifier</label><div class=\"sk-toggleable__content\"><pre>RandomForestClassifier(random_state=42)</pre></div></div></div><div class=\"sk-serial\"><div class=\"sk-item\"><div class=\"sk-estimator sk-toggleable\"><input class=\"sk-toggleable__control sk-hidden--visually\" id=\"sk-estimator-id-12\" type=\"checkbox\" ><label for=\"sk-estimator-id-12\" class=\"sk-toggleable__label sk-toggleable__label-arrow\">RandomForestClassifier</label><div class=\"sk-toggleable__content\"><pre>RandomForestClassifier(random_state=42)</pre></div></div></div></div></div></div></div></div></div></div>"
      ],
      "text/plain": [
       "RandomizedSearchCV(cv=5, estimator=RandomForestClassifier(random_state=42),\n",
       "                   n_iter=20, n_jobs=-1,\n",
       "                   param_distributions={'max_depth': array([ 5, 10, 15, 20, 25]),\n",
       "                                        'min_samples_leaf': array([ 1,  2,  3,  4,  5,  6,  7,  8,  9, 10, 11, 12, 13, 14, 15, 16, 17,\n",
       "       18, 19, 20]),\n",
       "                                        'n_estimators': array([100, 200, 300, 400, 500])},\n",
       "                   scoring=make_scorer(f1_score))"
      ]
     },
     "execution_count": 48,
     "metadata": {},
     "output_type": "execute_result"
    }
   ],
   "source": [
    "# %time - замеряет время выполнения\n",
    "%time \n",
    "\n",
    "# Обучаем\n",
    "random_search_rf.fit(X_train, y_train) "
   ]
  },
  {
   "cell_type": "code",
   "execution_count": 49,
   "metadata": {},
   "outputs": [
    {
     "name": "stdout",
     "output_type": "stream",
     "text": [
      "Наилучшие значения гиперпараметров {'n_estimators': 300, 'min_samples_leaf': 2, 'max_depth': 25}\n"
     ]
    }
   ],
   "source": [
    "print_best_hyperparameters(random_search_rf.best_params_)"
   ]
  },
  {
   "cell_type": "code",
   "execution_count": 50,
   "metadata": {},
   "outputs": [
    {
     "name": "stdout",
     "output_type": "stream",
     "text": [
      "f1_score на тренировочном наборе: 0.82\n",
      "f1_score на тестовом наборе: 0.81\n"
     ]
    }
   ],
   "source": [
    "# Считаем метрики F1 на тренировочной и тестовой выборках\n",
    "f1_score_train = random_search_rf.best_score_\n",
    "f1_score_test = random_search_rf.score(X_test, y_test)\n",
    "\n",
    "# Выводим метрики\n",
    "print_f1_score(f1_score_train, 'train')\n",
    "print_f1_score(f1_score_test, 'test')"
   ]
  },
  {
   "cell_type": "code",
   "execution_count": 51,
   "metadata": {},
   "outputs": [],
   "source": [
    "# Добавим значение метрики в словарь\n",
    "metrics_results['RandomizedSearchCV'].append(f1_score_test)\n",
    "\n",
    "# Логируем метрику\n",
    "experiment.log_metric('F1 RandomForestClassifier RandomizedSearchCV', f1_score_test)"
   ]
  },
  {
   "cell_type": "markdown",
   "metadata": {},
   "source": [
    "### 5.4. Поиск гиперпараметров с помощью Hyperopt <a id=\"item_5_4\"></a>"
   ]
  },
  {
   "cell_type": "code",
   "execution_count": 52,
   "metadata": {},
   "outputs": [],
   "source": [
    "# Зададим пространство поиска гиперпараметров\n",
    "space_rf = {\n",
    "    'n_estimators': hp.quniform('n_estimators', 100, 500, 100),\n",
    "    'max_depth' : hp.quniform('max_depth', 5, 30, 1),\n",
    "    'min_samples_leaf': hp.quniform('min_samples_leaf', 1, 20, 1)\n",
    "}"
   ]
  },
  {
   "cell_type": "code",
   "execution_count": 53,
   "metadata": {},
   "outputs": [],
   "source": [
    "def hyperopt_rf(space, cv=CV, X=X_train, y=y_train, random_state=RANDOM_STATE):   \n",
    "    model = RandomForestClassifier(\n",
    "        n_estimators=int(space['n_estimators']), \n",
    "        max_depth=int(space['max_depth']), \n",
    "        min_samples_leaf=int(space['min_samples_leaf']),\n",
    "        random_state=random_state,\n",
    "    )  \n",
    "\n",
    "    # Применим cross validation\n",
    "    score = cross_val_score(model, X, y, cv=cv, scoring='f1', n_jobs=N_JOBS).mean()\n",
    "\n",
    "    # Метрику необходимо минимизировать, поэтому ставим знак минус\n",
    "    return -score"
   ]
  },
  {
   "cell_type": "code",
   "execution_count": 54,
   "metadata": {},
   "outputs": [
    {
     "name": "stdout",
     "output_type": "stream",
     "text": [
      "100%|██████████| 20/20 [01:13<00:00,  3.69s/trial, best loss: -0.8165382578441086]\n",
      "CPU times: total: 266 ms\n",
      "Wall time: 1min 13s\n"
     ]
    }
   ],
   "source": [
    "%%time\n",
    "\n",
    "# Используется для логирования результатов\n",
    "trials_rf = Trials() \n",
    "\n",
    "best_rf = fmin(\n",
    "    # функция для определения метрики\n",
    "    hyperopt_rf, \n",
    "    # пространство гиперпараметров\n",
    "    space=space_rf, \n",
    "    # алгоритм оптимизации, установлен по умолчанию, задавать необязательно\n",
    "    algo=tpe.suggest, \n",
    "    # максимальное количество итераций\n",
    "    max_evals=ATTEMPTS_COUNT, \n",
    "    # логирование результатов\n",
    "    trials=trials_rf, \n",
    "    # фиксируем для повторяемости результата\n",
    "    rstate=np.random.default_rng(RANDOM_STATE)\n",
    ")"
   ]
  },
  {
   "cell_type": "code",
   "execution_count": 55,
   "metadata": {},
   "outputs": [
    {
     "name": "stdout",
     "output_type": "stream",
     "text": [
      "Наилучшие значения гиперпараметров {'max_depth': 20.0, 'min_samples_leaf': 2.0, 'n_estimators': 200.0}\n"
     ]
    }
   ],
   "source": [
    "print_best_hyperparameters(best_rf)"
   ]
  },
  {
   "cell_type": "code",
   "execution_count": 56,
   "metadata": {},
   "outputs": [
    {
     "name": "stdout",
     "output_type": "stream",
     "text": [
      "f1_score на тренировочном наборе: 0.99\n",
      "f1_score на тестовом наборе: 0.80\n"
     ]
    }
   ],
   "source": [
    "# Создадим модель с лучшими найденными параметрами\n",
    "model_rf_hyperopt = RandomForestClassifier(\n",
    "    n_estimators=int(best_rf['n_estimators']),\n",
    "    max_depth=int(best_rf['max_depth']),\n",
    "    min_samples_leaf=int(best_rf['min_samples_leaf']),\n",
    "    random_state=RANDOM_STATE, \n",
    ")\n",
    "\n",
    "# Обучаем модель\n",
    "model_rf_hyperopt.fit(X_train, y_train)\n",
    "\n",
    "# Делаем предсказание для тренировочной выборки\n",
    "y_train_pred = model_rf_hyperopt.predict(X_train)\n",
    "# Считаем метрику F1 \n",
    "f1_score_train = metrics.f1_score(y_train, y_train_pred)\n",
    "\n",
    "# Делаем предсказание для тестовой выборки\n",
    "y_test_pred = model_rf_hyperopt.predict(X_test)\n",
    "# Считаем метрику F1 \n",
    "f1_score_test = metrics.f1_score(y_test, y_test_pred)\n",
    "\n",
    "# Выводим метрики\n",
    "print_f1_score(f1_score_train, 'train')\n",
    "print_f1_score(f1_score_test, 'test')"
   ]
  },
  {
   "cell_type": "code",
   "execution_count": 57,
   "metadata": {},
   "outputs": [],
   "source": [
    "# Добавим значение метрики в словарь\n",
    "metrics_results['Hyperopt'].append(f1_score_test)\n",
    "\n",
    "# Логируем метрику\n",
    "experiment.log_metric('F1 RandomForestClassifier Hyperopt', f1_score_test)"
   ]
  },
  {
   "cell_type": "markdown",
   "metadata": {},
   "source": [
    "### 5.5. Поиск гиперпараметров с помощью Optuna <a id=\"item_5_5\"></a>"
   ]
  },
  {
   "cell_type": "code",
   "execution_count": 58,
   "metadata": {},
   "outputs": [],
   "source": [
    "# Настроим оптимизацию гиперпараметров для случайного леса\n",
    "def optuna_rf(trial):\n",
    "  # Задаем пространства поиска гиперпараметров\n",
    "  n_estimators = trial.suggest_int('n_estimators', 100, 500, 100)\n",
    "  max_depth = trial.suggest_int('max_depth', 5, 30, 1)\n",
    "  min_samples_leaf = trial.suggest_int('min_samples_leaf', 1, 20, 1)\n",
    "\n",
    "  # Создаем модель\n",
    "  model = RandomForestClassifier(\n",
    "      n_estimators=n_estimators,\n",
    "      max_depth=max_depth,\n",
    "      min_samples_leaf=min_samples_leaf,\n",
    "      random_state=RANDOM_STATE,\n",
    "  )\n",
    " \n",
    "  # Применим cross validation\n",
    "  score = cross_val_score(model, X_train, y_train, cv=CV, scoring='f1', n_jobs=N_JOBS).mean()\n",
    "\n",
    "  return score"
   ]
  },
  {
   "cell_type": "code",
   "execution_count": 59,
   "metadata": {},
   "outputs": [
    {
     "name": "stderr",
     "output_type": "stream",
     "text": [
      "[I 2023-11-06 23:15:49,129] A new study created in memory with name: RandomForestClassifier\n",
      "[I 2023-11-06 23:15:51,287] Trial 0 finished with value: 0.8120276871913491 and parameters: {'n_estimators': 100, 'max_depth': 26, 'min_samples_leaf': 4}. Best is trial 0 with value: 0.8120276871913491.\n",
      "[I 2023-11-06 23:15:54,170] Trial 1 finished with value: 0.8026019357319024 and parameters: {'n_estimators': 200, 'max_depth': 11, 'min_samples_leaf': 7}. Best is trial 0 with value: 0.8120276871913491.\n",
      "[I 2023-11-06 23:15:59,537] Trial 2 finished with value: 0.7916132674949898 and parameters: {'n_estimators': 500, 'max_depth': 10, 'min_samples_leaf': 17}. Best is trial 0 with value: 0.8120276871913491.\n",
      "[I 2023-11-06 23:16:05,535] Trial 3 finished with value: 0.7947840864228173 and parameters: {'n_estimators': 500, 'max_depth': 15, 'min_samples_leaf': 14}. Best is trial 0 with value: 0.8120276871913491.\n",
      "[I 2023-11-06 23:16:11,251] Trial 4 finished with value: 0.8064928019284707 and parameters: {'n_estimators': 400, 'max_depth': 18, 'min_samples_leaf': 8}. Best is trial 0 with value: 0.8120276871913491.\n",
      "[I 2023-11-06 23:16:13,434] Trial 5 finished with value: 0.7784859660539298 and parameters: {'n_estimators': 200, 'max_depth': 6, 'min_samples_leaf': 4}. Best is trial 0 with value: 0.8120276871913491.\n",
      "[I 2023-11-06 23:16:15,484] Trial 6 finished with value: 0.8082242717456628 and parameters: {'n_estimators': 100, 'max_depth': 21, 'min_samples_leaf': 3}. Best is trial 0 with value: 0.8120276871913491.\n",
      "[I 2023-11-06 23:16:18,183] Trial 7 finished with value: 0.7954929134091353 and parameters: {'n_estimators': 200, 'max_depth': 17, 'min_samples_leaf': 15}. Best is trial 0 with value: 0.8120276871913491.\n",
      "[I 2023-11-06 23:16:19,867] Trial 8 finished with value: 0.7902141862416907 and parameters: {'n_estimators': 100, 'max_depth': 19, 'min_samples_leaf': 17}. Best is trial 0 with value: 0.8120276871913491.\n",
      "[I 2023-11-06 23:16:26,749] Trial 9 finished with value: 0.8062555287756867 and parameters: {'n_estimators': 500, 'max_depth': 11, 'min_samples_leaf': 6}. Best is trial 0 with value: 0.8120276871913491.\n",
      "[I 2023-11-06 23:16:30,932] Trial 10 finished with value: 0.8005310439029378 and parameters: {'n_estimators': 300, 'max_depth': 29, 'min_samples_leaf': 11}. Best is trial 0 with value: 0.8120276871913491.\n",
      "[I 2023-11-06 23:16:33,382] Trial 11 finished with value: 0.8135134694476113 and parameters: {'n_estimators': 100, 'max_depth': 26, 'min_samples_leaf': 1}. Best is trial 11 with value: 0.8135134694476113.\n",
      "[I 2023-11-06 23:16:35,881] Trial 12 finished with value: 0.8117707294864239 and parameters: {'n_estimators': 100, 'max_depth': 27, 'min_samples_leaf': 1}. Best is trial 11 with value: 0.8135134694476113.\n",
      "[I 2023-11-06 23:16:42,231] Trial 13 finished with value: 0.8161958317559496 and parameters: {'n_estimators': 300, 'max_depth': 24, 'min_samples_leaf': 1}. Best is trial 13 with value: 0.8161958317559496.\n",
      "[I 2023-11-06 23:16:48,062] Trial 14 finished with value: 0.8168700723669445 and parameters: {'n_estimators': 300, 'max_depth': 23, 'min_samples_leaf': 2}. Best is trial 14 with value: 0.8168700723669445.\n",
      "[I 2023-11-06 23:16:52,379] Trial 15 finished with value: 0.8037829516767557 and parameters: {'n_estimators': 300, 'max_depth': 23, 'min_samples_leaf': 10}. Best is trial 14 with value: 0.8168700723669445.\n",
      "[I 2023-11-06 23:16:56,946] Trial 16 finished with value: 0.7895076861705533 and parameters: {'n_estimators': 400, 'max_depth': 23, 'min_samples_leaf': 20}. Best is trial 14 with value: 0.8168700723669445.\n",
      "[I 2023-11-06 23:17:05,027] Trial 17 finished with value: 0.8186704413855168 and parameters: {'n_estimators': 400, 'max_depth': 23, 'min_samples_leaf': 1}. Best is trial 17 with value: 0.8186704413855168.\n",
      "[I 2023-11-06 23:17:11,547] Trial 18 finished with value: 0.8129659926056483 and parameters: {'n_estimators': 400, 'max_depth': 29, 'min_samples_leaf': 5}. Best is trial 17 with value: 0.8186704413855168.\n",
      "[I 2023-11-06 23:17:17,126] Trial 19 finished with value: 0.8030367800047331 and parameters: {'n_estimators': 400, 'max_depth': 15, 'min_samples_leaf': 9}. Best is trial 17 with value: 0.8186704413855168.\n"
     ]
    },
    {
     "name": "stdout",
     "output_type": "stream",
     "text": [
      "CPU times: total: 359 ms\n",
      "Wall time: 1min 27s\n"
     ]
    }
   ],
   "source": [
    "%%time\n",
    "# Создаем объект исследования\n",
    "study_rf = optuna.create_study(study_name='RandomForestClassifier', direction='maximize')\n",
    "\n",
    "# Ищем лучшую комбинацию гиперпараметров n_trials раз\n",
    "study_rf.optimize(optuna_rf, n_trials=ATTEMPTS_COUNT)"
   ]
  },
  {
   "cell_type": "code",
   "execution_count": 60,
   "metadata": {},
   "outputs": [
    {
     "name": "stdout",
     "output_type": "stream",
     "text": [
      "Наилучшие значения гиперпараметров {'n_estimators': 400, 'max_depth': 23, 'min_samples_leaf': 1}\n"
     ]
    }
   ],
   "source": [
    "print_best_hyperparameters(study_rf.best_params)"
   ]
  },
  {
   "cell_type": "code",
   "execution_count": 61,
   "metadata": {},
   "outputs": [
    {
     "name": "stdout",
     "output_type": "stream",
     "text": [
      "f1_score на тренировочном наборе: 0.82\n",
      "f1_score на тестовом наборе: 0.80\n"
     ]
    }
   ],
   "source": [
    "# Построим модель с лучшими параметрами\n",
    "model_rf_optuna = RandomForestClassifier(\n",
    "    **study_rf.best_params,\n",
    "    random_state=RANDOM_STATE, \n",
    ")\n",
    "\n",
    "# Обучаем\n",
    "model_rf_optuna.fit(X_train, y_train)\n",
    "\n",
    "# Метрика F1 на тренировочном наборе\n",
    "f1_score_train = study_rf.best_value\n",
    "\n",
    "# Предсказываем значения для тестовой выборки\n",
    "y_test_pred = model_rf_optuna.predict(X_test)\n",
    "# Считаем метрику F1 \n",
    "f1_score_test = metrics.f1_score(y_test, y_test_pred)\n",
    "\n",
    "# Выводим метрики\n",
    "print_f1_score(f1_score_train, 'train')\n",
    "print_f1_score(f1_score_test, 'test')"
   ]
  },
  {
   "cell_type": "code",
   "execution_count": 62,
   "metadata": {},
   "outputs": [],
   "source": [
    "# Добавим значение метрики в словарь\n",
    "metrics_results['Optuna'].append(f1_score_test)\n",
    "\n",
    "# Логируем метрику\n",
    "experiment.log_metric('F1 RandomForestClassifier Optuna', f1_score_test)"
   ]
  },
  {
   "cell_type": "markdown",
   "metadata": {},
   "source": [
    "## 6. Выводы  <a id=\"item_6\"></a>"
   ]
  },
  {
   "cell_type": "code",
   "execution_count": 74,
   "metadata": {},
   "outputs": [
    {
     "data": {
      "text/plain": [
       "Text(138.453125, 0.5, 'Модель')"
      ]
     },
     "execution_count": 74,
     "metadata": {},
     "output_type": "execute_result"
    },
    {
     "data": {
      "image/png": "[encoded data removed]",
      "text/plain": [
       "<Figure size 1296x576 with 2 Axes>"
      ]
     },
     "metadata": {},
     "output_type": "display_data"
    }
   ],
   "source": [
    "# Построим тепловую карту с сохраненными метриками\n",
    "metrics_results_df = pd.DataFrame(metrics_results)\n",
    "metrics_results_df = metrics_results_df.set_index('model')\n",
    "sns.heatmap(metrics_results_df, annot=True, cmap='coolwarm', fmt ='.4g')\n",
    "plt.title('Тепловая карта зависимости метрики F1 от модели и способа подбора гиперпараметров')\n",
    "plt.xlabel('Cпособ подбора гиперпараметров')\n",
    "plt.ylabel('Модель')"
   ]
  },
  {
   "cell_type": "markdown",
   "metadata": {},
   "source": [
    "По графику видно, что модель случайный лес показывает более хорошие результаты, чем логигистическая регрессия.\n",
    "\n",
    "Наилучший результат показала модель случайный лес с параметрами по умолчанию.\\\n",
    "Но эта модель была переобучена (на тренировочной выборке $F_1$ = 1).\n",
    "\n",
    "Следующий результат у модели случайный лес со способом подбора гиперпараметров через **RandomizedSearchCV**.\\\n",
    "Там у тренировочной выборки метрика $F_1$ была равна 0.82\\\n",
    "То есть, практически равна $F_1$ на тестовой выборке.\n",
    "\n",
    "Поэтому лучшим результатом тут можно считать модель случайный лес и способ подбора гиперпараметров через **RandomizedSearchCV**."
   ]
  },
  {
   "cell_type": "code",
   "execution_count": 63,
   "metadata": {},
   "outputs": [
    {
     "name": "stderr",
     "output_type": "stream",
     "text": [
      "\u001b[1;38;5;39mCOMET INFO:\u001b[0m ---------------------------------------------------------------------------------------\n",
      "\u001b[1;38;5;39mCOMET INFO:\u001b[0m Comet.ml Experiment Summary\n",
      "\u001b[1;38;5;39mCOMET INFO:\u001b[0m ---------------------------------------------------------------------------------------\n",
      "\u001b[1;38;5;39mCOMET INFO:\u001b[0m   Data:\n",
      "\u001b[1;38;5;39mCOMET INFO:\u001b[0m     display_summary_level : 1\n",
      "\u001b[1;38;5;39mCOMET INFO:\u001b[0m     url                   : https://www.comet.com/experiment0/predicting-biological-response/74718b66e9ad4415a2e1ba68b63f2c59\n",
      "\u001b[1;38;5;39mCOMET INFO:\u001b[0m   Metrics:\n",
      "\u001b[1;38;5;39mCOMET INFO:\u001b[0m     F1 LogisticRegression GridSearchCV           : 0.7781731909845789\n",
      "\u001b[1;38;5;39mCOMET INFO:\u001b[0m     F1 LogisticRegression Hyperopt               : 0.7867298578199051\n",
      "\u001b[1;38;5;39mCOMET INFO:\u001b[0m     F1 LogisticRegression Optuna                 : 0.7825059101654847\n",
      "\u001b[1;38;5;39mCOMET INFO:\u001b[0m     F1 LogisticRegression RandomizedSearchCV     : 0.7810650887573964\n",
      "\u001b[1;38;5;39mCOMET INFO:\u001b[0m     F1 LogisticRegression defaultParams          : 0.7759125571008845\n",
      "\u001b[1;38;5;39mCOMET INFO:\u001b[0m     F1 RandomForestClassifier GridSearchCV       : 0.796116504854369\n",
      "\u001b[1;38;5;39mCOMET INFO:\u001b[0m     F1 RandomForestClassifier Hyperopt           : 0.8043478260869567\n",
      "\u001b[1;38;5;39mCOMET INFO:\u001b[0m     F1 RandomForestClassifier Optuna             : 0.8038740920096853\n",
      "\u001b[1;38;5;39mCOMET INFO:\u001b[0m     F1 RandomForestClassifier RandomizedSearchCV : 0.8058252427184466\n",
      "\u001b[1;38;5;39mCOMET INFO:\u001b[0m     F1 RandomForestClassifier defaultParams      : 0.8131634988766651\n",
      "\u001b[1;38;5;39mCOMET INFO:\u001b[0m   Uploads:\n",
      "\u001b[1;38;5;39mCOMET INFO:\u001b[0m     environment details      : 1\n",
      "\u001b[1;38;5;39mCOMET INFO:\u001b[0m     figures                  : 1\n",
      "\u001b[1;38;5;39mCOMET INFO:\u001b[0m     filename                 : 1\n",
      "\u001b[1;38;5;39mCOMET INFO:\u001b[0m     git metadata             : 1\n",
      "\u001b[1;38;5;39mCOMET INFO:\u001b[0m     git-patch (uncompressed) : 1 (6.66 MB)\n",
      "\u001b[1;38;5;39mCOMET INFO:\u001b[0m     installed packages       : 1\n",
      "\u001b[1;38;5;39mCOMET INFO:\u001b[0m     notebook                 : 1\n",
      "\u001b[1;38;5;39mCOMET INFO:\u001b[0m     source_code              : 1\n",
      "\u001b[1;38;5;39mCOMET INFO:\u001b[0m \n",
      "\u001b[1;38;5;214mCOMET WARNING:\u001b[0m To get all data logged automatically, import comet_ml before the following modules: sklearn.\n",
      "\u001b[1;38;5;39mCOMET INFO:\u001b[0m Please wait for metadata to finish uploading (timeout is 3600 seconds)\n"
     ]
    }
   ],
   "source": [
    "# Завершим эксперимент\n",
    "experiment.end()"
   ]
  }
 ],
 "metadata": {
  "kernelspec": {
   "display_name": "Python 3",
   "language": "python",
   "name": "python3"
  },
  "language_info": {
   "codemirror_mode": {
    "name": "ipython",
    "version": 3
   },
   "file_extension": ".py",
   "mimetype": "text/x-python",
   "name": "python",
   "nbconvert_exporter": "python",
   "pygments_lexer": "ipython3",
   "version": "3.9.10"
  }
 },
 "nbformat": 4,
 "nbformat_minor": 2
}
