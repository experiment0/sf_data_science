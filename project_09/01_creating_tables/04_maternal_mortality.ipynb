{
 "cells": [
  {
   "cell_type": "markdown",
   "metadata": {},
   "source": [
    "# Коэффициент материнской смертности (на 100 000 живорождений)"
   ]
  },
  {
   "cell_type": "code",
   "execution_count": 1,
   "metadata": {},
   "outputs": [],
   "source": [
    "import pandas as pd\n",
    "\n",
    "from warnings import simplefilter\n",
    "simplefilter('ignore')"
   ]
  },
  {
   "cell_type": "markdown",
   "metadata": {},
   "source": [
    "Эти данные можно найти на сайте ВОЗ по ссылке\n",
    "\n",
    "https://www.who.int/data/gho/gho-redirect-pages/indicator-resources/maternal-mortality-ratio-(per-100-000-live-births)"
   ]
  },
  {
   "cell_type": "code",
   "execution_count": 2,
   "metadata": {},
   "outputs": [
    {
     "data": {
      "text/html": [
       "<div>\n",
       "<style scoped>\n",
       "    .dataframe tbody tr th:only-of-type {\n",
       "        vertical-align: middle;\n",
       "    }\n",
       "\n",
       "    .dataframe tbody tr th {\n",
       "        vertical-align: top;\n",
       "    }\n",
       "\n",
       "    .dataframe thead th {\n",
       "        text-align: right;\n",
       "    }\n",
       "</style>\n",
       "<table border=\"1\" class=\"dataframe\">\n",
       "  <thead>\n",
       "    <tr style=\"text-align: right;\">\n",
       "      <th></th>\n",
       "      <th>IND_ID</th>\n",
       "      <th>IND_CODE</th>\n",
       "      <th>IND_UUID</th>\n",
       "      <th>IND_PER_CODE</th>\n",
       "      <th>DIM_TIME</th>\n",
       "      <th>DIM_TIME_TYPE</th>\n",
       "      <th>DIM_GEO_CODE_M49</th>\n",
       "      <th>DIM_GEO_CODE_TYPE</th>\n",
       "      <th>DIM_PUBLISH_STATE_CODE</th>\n",
       "      <th>IND_NAME</th>\n",
       "      <th>GEO_NAME_SHORT</th>\n",
       "      <th>RATE_PER_100000_N</th>\n",
       "      <th>RATE_PER_100000_NL</th>\n",
       "      <th>RATE_PER_100000_NU</th>\n",
       "    </tr>\n",
       "  </thead>\n",
       "  <tbody>\n",
       "    <tr>\n",
       "      <th>0</th>\n",
       "      <td>AC597B1MDG_0000000026</td>\n",
       "      <td>MDG_0000000026</td>\n",
       "      <td>AC597B1</td>\n",
       "      <td>MDG_0000000026</td>\n",
       "      <td>2003</td>\n",
       "      <td>YEAR</td>\n",
       "      <td>882</td>\n",
       "      <td>COUNTRY</td>\n",
       "      <td>PUBLISHED</td>\n",
       "      <td>Maternal mortality ratio</td>\n",
       "      <td>Samoa</td>\n",
       "      <td>63.63342</td>\n",
       "      <td>32.7925</td>\n",
       "      <td>120.05662</td>\n",
       "    </tr>\n",
       "    <tr>\n",
       "      <th>1</th>\n",
       "      <td>AC597B1MDG_0000000026</td>\n",
       "      <td>MDG_0000000026</td>\n",
       "      <td>AC597B1</td>\n",
       "      <td>MDG_0000000026</td>\n",
       "      <td>1992</td>\n",
       "      <td>YEAR</td>\n",
       "      <td>953</td>\n",
       "      <td>WHOREGION</td>\n",
       "      <td>PUBLISHED</td>\n",
       "      <td>Maternal mortality ratio</td>\n",
       "      <td>Africa</td>\n",
       "      <td>952.69319</td>\n",
       "      <td>867.5550</td>\n",
       "      <td>1046.78252</td>\n",
       "    </tr>\n",
       "  </tbody>\n",
       "</table>\n",
       "</div>"
      ],
      "text/plain": [
       "                  IND_ID        IND_CODE IND_UUID    IND_PER_CODE  DIM_TIME  \\\n",
       "0  AC597B1MDG_0000000026  MDG_0000000026  AC597B1  MDG_0000000026      2003   \n",
       "1  AC597B1MDG_0000000026  MDG_0000000026  AC597B1  MDG_0000000026      1992   \n",
       "\n",
       "  DIM_TIME_TYPE  DIM_GEO_CODE_M49 DIM_GEO_CODE_TYPE DIM_PUBLISH_STATE_CODE  \\\n",
       "0          YEAR               882           COUNTRY              PUBLISHED   \n",
       "1          YEAR               953         WHOREGION              PUBLISHED   \n",
       "\n",
       "                   IND_NAME GEO_NAME_SHORT  RATE_PER_100000_N  \\\n",
       "0  Maternal mortality ratio          Samoa           63.63342   \n",
       "1  Maternal mortality ratio         Africa          952.69319   \n",
       "\n",
       "   RATE_PER_100000_NL  RATE_PER_100000_NU  \n",
       "0             32.7925           120.05662  \n",
       "1            867.5550          1046.78252  "
      ]
     },
     "execution_count": 2,
     "metadata": {},
     "output_type": "execute_result"
    }
   ],
   "source": [
    "who_maternal_mortality_data = pd.read_csv('../data/who_maternal_mortality.csv')\n",
    "\n",
    "who_maternal_mortality_data.head(2)"
   ]
  },
  {
   "cell_type": "markdown",
   "metadata": {},
   "source": [
    "Проверим наличие пропусков."
   ]
  },
  {
   "cell_type": "code",
   "execution_count": 3,
   "metadata": {},
   "outputs": [
    {
     "data": {
      "text/plain": [
       "0"
      ]
     },
     "execution_count": 3,
     "metadata": {},
     "output_type": "execute_result"
    }
   ],
   "source": [
    "who_maternal_mortality_data.isna().sum().sum()"
   ]
  },
  {
   "cell_type": "markdown",
   "metadata": {},
   "source": [
    "Пропусков нет."
   ]
  },
  {
   "cell_type": "markdown",
   "metadata": {},
   "source": [
    "В этом наборе даных нам нужны 3 столбца:\n",
    "\n",
    "- `DIM_TIME` - год\n",
    "- `GEO_NAME_SHORT` - название страны\n",
    "- `RATE_PER_100000_N` - коэффициент материнской смертности (на 100 000 живорождений)"
   ]
  },
  {
   "cell_type": "code",
   "execution_count": 4,
   "metadata": {},
   "outputs": [
    {
     "name": "stdout",
     "output_type": "stream",
     "text": [
      "Диапазон лет: 1985 - 2020 гг.\n"
     ]
    }
   ],
   "source": [
    "# Оставим только нужные столбцы\n",
    "who_maternal_mortality_data = who_maternal_mortality_data[[\n",
    "    'DIM_TIME', 'GEO_NAME_SHORT', 'RATE_PER_100000_N',\n",
    "]]\n",
    "\n",
    "# Переименуем столбцы в подходящие нам названия\n",
    "who_maternal_mortality_data.rename(\n",
    "    columns={\n",
    "        'DIM_TIME': 'Period',\n",
    "        'GEO_NAME_SHORT': 'Location',\n",
    "        'RATE_PER_100000_N': 'MaternalMortality',\n",
    "    },\n",
    "    inplace=True\n",
    ")\n",
    "\n",
    "# Посмотрим на диапазон дат\n",
    "print(f\"Диапазон лет: \\\n",
    "{who_maternal_mortality_data['Period'].min()} - \\\n",
    "{who_maternal_mortality_data['Period'].max()} гг.\")\n"
   ]
  },
  {
   "cell_type": "code",
   "execution_count": 5,
   "metadata": {},
   "outputs": [],
   "source": [
    "# Оставим только данные с 2000-го года\n",
    "drop_mask = who_maternal_mortality_data['Period'] < 2000\n",
    "who_maternal_mortality_data.drop(who_maternal_mortality_data[drop_mask].index, inplace=True)\n",
    "\n",
    "# А также переименуем название страны \"Côte d'Ivoire\" в \"Cote d'Ivoire\"\n",
    "# Чтобы не было пропусков при объединении данной таблицы с основной\n",
    "who_maternal_mortality_data['Location'] = who_maternal_mortality_data['Location'].apply(\n",
    "    lambda name: \"Cote d'Ivoire\" if name == \"Côte d'Ivoire\" else name\n",
    ")"
   ]
  },
  {
   "cell_type": "code",
   "execution_count": 6,
   "metadata": {},
   "outputs": [
    {
     "data": {
      "text/html": [
       "<div>\n",
       "<style scoped>\n",
       "    .dataframe tbody tr th:only-of-type {\n",
       "        vertical-align: middle;\n",
       "    }\n",
       "\n",
       "    .dataframe tbody tr th {\n",
       "        vertical-align: top;\n",
       "    }\n",
       "\n",
       "    .dataframe thead th {\n",
       "        text-align: right;\n",
       "    }\n",
       "</style>\n",
       "<table border=\"1\" class=\"dataframe\">\n",
       "  <thead>\n",
       "    <tr style=\"text-align: right;\">\n",
       "      <th></th>\n",
       "      <th>Period</th>\n",
       "      <th>Location</th>\n",
       "      <th>MaternalMortality</th>\n",
       "    </tr>\n",
       "  </thead>\n",
       "  <tbody>\n",
       "    <tr>\n",
       "      <th>0</th>\n",
       "      <td>2003</td>\n",
       "      <td>Samoa</td>\n",
       "      <td>63.63342</td>\n",
       "    </tr>\n",
       "    <tr>\n",
       "      <th>3</th>\n",
       "      <td>2019</td>\n",
       "      <td>Montenegro</td>\n",
       "      <td>5.81691</td>\n",
       "    </tr>\n",
       "    <tr>\n",
       "      <th>4</th>\n",
       "      <td>2020</td>\n",
       "      <td>Montenegro</td>\n",
       "      <td>6.17443</td>\n",
       "    </tr>\n",
       "    <tr>\n",
       "      <th>5</th>\n",
       "      <td>2005</td>\n",
       "      <td>Oman</td>\n",
       "      <td>19.72671</td>\n",
       "    </tr>\n",
       "    <tr>\n",
       "      <th>8</th>\n",
       "      <td>2018</td>\n",
       "      <td>Serbia</td>\n",
       "      <td>11.46952</td>\n",
       "    </tr>\n",
       "  </tbody>\n",
       "</table>\n",
       "</div>"
      ],
      "text/plain": [
       "   Period    Location  MaternalMortality\n",
       "0    2003       Samoa           63.63342\n",
       "3    2019  Montenegro            5.81691\n",
       "4    2020  Montenegro            6.17443\n",
       "5    2005        Oman           19.72671\n",
       "8    2018      Serbia           11.46952"
      ]
     },
     "execution_count": 6,
     "metadata": {},
     "output_type": "execute_result"
    }
   ],
   "source": [
    "# Посмотрим на таблицу\n",
    "who_maternal_mortality_data.head()"
   ]
  },
  {
   "cell_type": "code",
   "execution_count": 7,
   "metadata": {},
   "outputs": [
    {
     "data": {
      "text/plain": [
       "0"
      ]
     },
     "execution_count": 7,
     "metadata": {},
     "output_type": "execute_result"
    }
   ],
   "source": [
    "# Убедимся, что в таблице нет пропусков\n",
    "who_maternal_mortality_data.isna().sum().sum()"
   ]
  },
  {
   "cell_type": "code",
   "execution_count": 8,
   "metadata": {},
   "outputs": [],
   "source": [
    "# Сохраним таблицу для дальнейшего использования\n",
    "who_maternal_mortality_data.to_csv('../data/who_maternal_mortality_prepared.csv', index=False)"
   ]
  }
 ],
 "metadata": {
  "kernelspec": {
   "display_name": "Python 3",
   "language": "python",
   "name": "python3"
  },
  "language_info": {
   "codemirror_mode": {
    "name": "ipython",
    "version": 3
   },
   "file_extension": ".py",
   "mimetype": "text/x-python",
   "name": "python",
   "nbconvert_exporter": "python",
   "pygments_lexer": "ipython3",
   "version": "3.9.10"
  }
 },
 "nbformat": 4,
 "nbformat_minor": 2
}
