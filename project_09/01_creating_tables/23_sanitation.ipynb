{
 "cells": [
  {
   "cell_type": "markdown",
   "metadata": {},
   "source": [
    "# Население, пользующееся как минимум базовыми услугами санитарии (%)"
   ]
  },
  {
   "cell_type": "code",
   "execution_count": 1,
   "metadata": {},
   "outputs": [],
   "source": [
    "import pandas as pd\n",
    "\n",
    "from helpers import (\n",
    "    get_data_with_full_locations_and_years, \n",
    "    get_omissions,\n",
    ")\n",
    "\n",
    "from warnings import simplefilter\n",
    "simplefilter('ignore')"
   ]
  },
  {
   "cell_type": "markdown",
   "metadata": {},
   "source": [
    "Эти данные можно найти на сайте ВОЗ по ссылке\n",
    "\n",
    "https://www.who.int/data/gho/data/indicators/indicator-details/GHO/population-using-at-least-basic-sanitation-services-(-)"
   ]
  },
  {
   "cell_type": "code",
   "execution_count": 2,
   "metadata": {},
   "outputs": [
    {
     "data": {
      "text/html": [
       "<div>\n",
       "<style scoped>\n",
       "    .dataframe tbody tr th:only-of-type {\n",
       "        vertical-align: middle;\n",
       "    }\n",
       "\n",
       "    .dataframe tbody tr th {\n",
       "        vertical-align: top;\n",
       "    }\n",
       "\n",
       "    .dataframe thead th {\n",
       "        text-align: right;\n",
       "    }\n",
       "</style>\n",
       "<table border=\"1\" class=\"dataframe\">\n",
       "  <thead>\n",
       "    <tr style=\"text-align: right;\">\n",
       "      <th></th>\n",
       "      <th>IndicatorCode</th>\n",
       "      <th>Indicator</th>\n",
       "      <th>ValueType</th>\n",
       "      <th>ParentLocationCode</th>\n",
       "      <th>ParentLocation</th>\n",
       "      <th>Location type</th>\n",
       "      <th>SpatialDimValueCode</th>\n",
       "      <th>Location</th>\n",
       "      <th>Period type</th>\n",
       "      <th>Period</th>\n",
       "      <th>...</th>\n",
       "      <th>FactValueUoM</th>\n",
       "      <th>FactValueNumericLowPrefix</th>\n",
       "      <th>FactValueNumericLow</th>\n",
       "      <th>FactValueNumericHighPrefix</th>\n",
       "      <th>FactValueNumericHigh</th>\n",
       "      <th>Value</th>\n",
       "      <th>FactValueTranslationID</th>\n",
       "      <th>FactComments</th>\n",
       "      <th>Language</th>\n",
       "      <th>DateModified</th>\n",
       "    </tr>\n",
       "  </thead>\n",
       "  <tbody>\n",
       "    <tr>\n",
       "      <th>0</th>\n",
       "      <td>WSH_SANITATION_BASIC</td>\n",
       "      <td>Population using at least basic sanitation ser...</td>\n",
       "      <td>text</td>\n",
       "      <td>EUR</td>\n",
       "      <td>Europe</td>\n",
       "      <td>Country</td>\n",
       "      <td>AND</td>\n",
       "      <td>Andorra</td>\n",
       "      <td>Year</td>\n",
       "      <td>2020</td>\n",
       "      <td>...</td>\n",
       "      <td>NaN</td>\n",
       "      <td>NaN</td>\n",
       "      <td>NaN</td>\n",
       "      <td>NaN</td>\n",
       "      <td>NaN</td>\n",
       "      <td>100</td>\n",
       "      <td>NaN</td>\n",
       "      <td>NaN</td>\n",
       "      <td>EN</td>\n",
       "      <td>2023-07-09T21:00:00.000Z</td>\n",
       "    </tr>\n",
       "    <tr>\n",
       "      <th>1</th>\n",
       "      <td>WSH_SANITATION_BASIC</td>\n",
       "      <td>Population using at least basic sanitation ser...</td>\n",
       "      <td>text</td>\n",
       "      <td>WPR</td>\n",
       "      <td>Western Pacific</td>\n",
       "      <td>Country</td>\n",
       "      <td>AUS</td>\n",
       "      <td>Australia</td>\n",
       "      <td>Year</td>\n",
       "      <td>2020</td>\n",
       "      <td>...</td>\n",
       "      <td>NaN</td>\n",
       "      <td>NaN</td>\n",
       "      <td>NaN</td>\n",
       "      <td>NaN</td>\n",
       "      <td>NaN</td>\n",
       "      <td>100</td>\n",
       "      <td>NaN</td>\n",
       "      <td>NaN</td>\n",
       "      <td>EN</td>\n",
       "      <td>2023-07-09T21:00:00.000Z</td>\n",
       "    </tr>\n",
       "  </tbody>\n",
       "</table>\n",
       "<p>2 rows × 34 columns</p>\n",
       "</div>"
      ],
      "text/plain": [
       "          IndicatorCode                                          Indicator  \\\n",
       "0  WSH_SANITATION_BASIC  Population using at least basic sanitation ser...   \n",
       "1  WSH_SANITATION_BASIC  Population using at least basic sanitation ser...   \n",
       "\n",
       "  ValueType ParentLocationCode   ParentLocation Location type  \\\n",
       "0      text                EUR           Europe       Country   \n",
       "1      text                WPR  Western Pacific       Country   \n",
       "\n",
       "  SpatialDimValueCode   Location Period type  Period  ...  FactValueUoM  \\\n",
       "0                 AND    Andorra        Year    2020  ...           NaN   \n",
       "1                 AUS  Australia        Year    2020  ...           NaN   \n",
       "\n",
       "  FactValueNumericLowPrefix FactValueNumericLow FactValueNumericHighPrefix  \\\n",
       "0                       NaN                 NaN                        NaN   \n",
       "1                       NaN                 NaN                        NaN   \n",
       "\n",
       "   FactValueNumericHigh  Value  FactValueTranslationID  FactComments  \\\n",
       "0                   NaN    100                     NaN           NaN   \n",
       "1                   NaN    100                     NaN           NaN   \n",
       "\n",
       "   Language              DateModified  \n",
       "0        EN  2023-07-09T21:00:00.000Z  \n",
       "1        EN  2023-07-09T21:00:00.000Z  \n",
       "\n",
       "[2 rows x 34 columns]"
      ]
     },
     "execution_count": 2,
     "metadata": {},
     "output_type": "execute_result"
    }
   ],
   "source": [
    "# Загрузим таблицу\n",
    "data = pd.read_csv('../data/who_sanitation.csv')\n",
    "\n",
    "data.head(2)"
   ]
  },
  {
   "cell_type": "markdown",
   "metadata": {},
   "source": [
    "Описание нужных нам столбцов.\n",
    "\n",
    "- `ParentLocationCode` - код региона\n",
    "- `SpatialDimValueCode` - код страны\n",
    "- `Period` - год\n",
    "- `FactValueNumeric` - население, пользующееся как минимум базовыми услугами санитарии (%)\n",
    "\n",
    "Оставим только их."
   ]
  },
  {
   "cell_type": "code",
   "execution_count": 3,
   "metadata": {},
   "outputs": [
    {
     "data": {
      "text/html": [
       "<div>\n",
       "<style scoped>\n",
       "    .dataframe tbody tr th:only-of-type {\n",
       "        vertical-align: middle;\n",
       "    }\n",
       "\n",
       "    .dataframe tbody tr th {\n",
       "        vertical-align: top;\n",
       "    }\n",
       "\n",
       "    .dataframe thead th {\n",
       "        text-align: right;\n",
       "    }\n",
       "</style>\n",
       "<table border=\"1\" class=\"dataframe\">\n",
       "  <thead>\n",
       "    <tr style=\"text-align: right;\">\n",
       "      <th></th>\n",
       "      <th>ParentLocationCode</th>\n",
       "      <th>SpatialDimValueCode</th>\n",
       "      <th>Period</th>\n",
       "      <th>Sanitation</th>\n",
       "    </tr>\n",
       "  </thead>\n",
       "  <tbody>\n",
       "    <tr>\n",
       "      <th>0</th>\n",
       "      <td>EUR</td>\n",
       "      <td>AND</td>\n",
       "      <td>2020</td>\n",
       "      <td>100.00</td>\n",
       "    </tr>\n",
       "    <tr>\n",
       "      <th>1</th>\n",
       "      <td>WPR</td>\n",
       "      <td>AUS</td>\n",
       "      <td>2020</td>\n",
       "      <td>100.00</td>\n",
       "    </tr>\n",
       "    <tr>\n",
       "      <th>2</th>\n",
       "      <td>EUR</td>\n",
       "      <td>AUT</td>\n",
       "      <td>2020</td>\n",
       "      <td>99.97</td>\n",
       "    </tr>\n",
       "    <tr>\n",
       "      <th>3</th>\n",
       "      <td>EMR</td>\n",
       "      <td>BHR</td>\n",
       "      <td>2020</td>\n",
       "      <td>100.00</td>\n",
       "    </tr>\n",
       "    <tr>\n",
       "      <th>4</th>\n",
       "      <td>AMR</td>\n",
       "      <td>CHL</td>\n",
       "      <td>2020</td>\n",
       "      <td>100.00</td>\n",
       "    </tr>\n",
       "  </tbody>\n",
       "</table>\n",
       "</div>"
      ],
      "text/plain": [
       "  ParentLocationCode SpatialDimValueCode  Period  Sanitation\n",
       "0                EUR                 AND    2020      100.00\n",
       "1                WPR                 AUS    2020      100.00\n",
       "2                EUR                 AUT    2020       99.97\n",
       "3                EMR                 BHR    2020      100.00\n",
       "4                AMR                 CHL    2020      100.00"
      ]
     },
     "execution_count": 3,
     "metadata": {},
     "output_type": "execute_result"
    }
   ],
   "source": [
    "data = data[[\n",
    "    'ParentLocationCode', 'SpatialDimValueCode', 'Period', 'FactValueNumeric',\n",
    "]]\n",
    "\n",
    "data.rename(columns={'FactValueNumeric': 'Sanitation'}, inplace=True)\n",
    "\n",
    "data.head()"
   ]
  },
  {
   "cell_type": "markdown",
   "metadata": {},
   "source": [
    "В данной таблице для некоторых стран данные заполнены не за все года.\\\n",
    "Добавим строки с отсутствующими годами, чтобы явно увидеть пропуски."
   ]
  },
  {
   "cell_type": "code",
   "execution_count": 4,
   "metadata": {},
   "outputs": [
    {
     "data": {
      "text/plain": [
       "ParentLocationCode      0\n",
       "SpatialDimValueCode     0\n",
       "Period                  0\n",
       "Sanitation             77\n",
       "dtype: int64"
      ]
     },
     "execution_count": 4,
     "metadata": {},
     "output_type": "execute_result"
    }
   ],
   "source": [
    "data = get_data_with_full_locations_and_years(\n",
    "    data,\n",
    "    {\n",
    "        'region_code': 'ParentLocationCode',\n",
    "        'location_code': 'SpatialDimValueCode',\n",
    "        'year': 'Period',\n",
    "    }\n",
    ")\n",
    "\n",
    "# Посмотрим на количество пропусков\n",
    "data.isna().sum()"
   ]
  },
  {
   "cell_type": "code",
   "execution_count": 5,
   "metadata": {},
   "outputs": [
    {
     "data": {
      "text/html": [
       "<div>\n",
       "<style scoped>\n",
       "    .dataframe tbody tr th:only-of-type {\n",
       "        vertical-align: middle;\n",
       "    }\n",
       "\n",
       "    .dataframe tbody tr th {\n",
       "        vertical-align: top;\n",
       "    }\n",
       "\n",
       "    .dataframe thead th {\n",
       "        text-align: right;\n",
       "    }\n",
       "</style>\n",
       "<table border=\"1\" class=\"dataframe\">\n",
       "  <thead>\n",
       "    <tr style=\"text-align: right;\">\n",
       "      <th></th>\n",
       "      <th>ParentLocationCode</th>\n",
       "      <th>SpatialDimValueCode</th>\n",
       "      <th>Period</th>\n",
       "      <th>Sanitation</th>\n",
       "    </tr>\n",
       "  </thead>\n",
       "  <tbody>\n",
       "    <tr>\n",
       "      <th>974</th>\n",
       "      <td>AMR</td>\n",
       "      <td>ARG</td>\n",
       "      <td>2016</td>\n",
       "      <td>NaN</td>\n",
       "    </tr>\n",
       "    <tr>\n",
       "      <th>779</th>\n",
       "      <td>AMR</td>\n",
       "      <td>ARG</td>\n",
       "      <td>2017</td>\n",
       "      <td>NaN</td>\n",
       "    </tr>\n",
       "    <tr>\n",
       "      <th>584</th>\n",
       "      <td>AMR</td>\n",
       "      <td>ARG</td>\n",
       "      <td>2018</td>\n",
       "      <td>NaN</td>\n",
       "    </tr>\n",
       "    <tr>\n",
       "      <th>389</th>\n",
       "      <td>AMR</td>\n",
       "      <td>ARG</td>\n",
       "      <td>2019</td>\n",
       "      <td>NaN</td>\n",
       "    </tr>\n",
       "    <tr>\n",
       "      <th>194</th>\n",
       "      <td>AMR</td>\n",
       "      <td>ARG</td>\n",
       "      <td>2020</td>\n",
       "      <td>NaN</td>\n",
       "    </tr>\n",
       "    <tr>\n",
       "      <th>...</th>\n",
       "      <td>...</td>\n",
       "      <td>...</td>\n",
       "      <td>...</td>\n",
       "      <td>...</td>\n",
       "    </tr>\n",
       "    <tr>\n",
       "      <th>3965</th>\n",
       "      <td>SEAR</td>\n",
       "      <td>TLS</td>\n",
       "      <td>2000</td>\n",
       "      <td>NaN</td>\n",
       "    </tr>\n",
       "    <tr>\n",
       "      <th>3770</th>\n",
       "      <td>SEAR</td>\n",
       "      <td>TLS</td>\n",
       "      <td>2001</td>\n",
       "      <td>NaN</td>\n",
       "    </tr>\n",
       "    <tr>\n",
       "      <th>576</th>\n",
       "      <td>AMR</td>\n",
       "      <td>VCT</td>\n",
       "      <td>2018</td>\n",
       "      <td>NaN</td>\n",
       "    </tr>\n",
       "    <tr>\n",
       "      <th>381</th>\n",
       "      <td>AMR</td>\n",
       "      <td>VCT</td>\n",
       "      <td>2019</td>\n",
       "      <td>NaN</td>\n",
       "    </tr>\n",
       "    <tr>\n",
       "      <th>186</th>\n",
       "      <td>AMR</td>\n",
       "      <td>VCT</td>\n",
       "      <td>2020</td>\n",
       "      <td>NaN</td>\n",
       "    </tr>\n",
       "  </tbody>\n",
       "</table>\n",
       "<p>77 rows × 4 columns</p>\n",
       "</div>"
      ],
      "text/plain": [
       "     ParentLocationCode SpatialDimValueCode Period  Sanitation\n",
       "974                 AMR                 ARG   2016         NaN\n",
       "779                 AMR                 ARG   2017         NaN\n",
       "584                 AMR                 ARG   2018         NaN\n",
       "389                 AMR                 ARG   2019         NaN\n",
       "194                 AMR                 ARG   2020         NaN\n",
       "...                 ...                 ...    ...         ...\n",
       "3965               SEAR                 TLS   2000         NaN\n",
       "3770               SEAR                 TLS   2001         NaN\n",
       "576                 AMR                 VCT   2018         NaN\n",
       "381                 AMR                 VCT   2019         NaN\n",
       "186                 AMR                 VCT   2020         NaN\n",
       "\n",
       "[77 rows x 4 columns]"
      ]
     },
     "execution_count": 5,
     "metadata": {},
     "output_type": "execute_result"
    }
   ],
   "source": [
    "# Посмотрим на пропущенные данные\n",
    "omissions_data = get_omissions(data)\n",
    "\n",
    "omissions_data.sort_values(by=['SpatialDimValueCode', 'Period'])"
   ]
  },
  {
   "cell_type": "markdown",
   "metadata": {},
   "source": [
    "Заполним их средним по региону."
   ]
  },
  {
   "cell_type": "code",
   "execution_count": 6,
   "metadata": {},
   "outputs": [
    {
     "data": {
      "text/plain": [
       "0"
      ]
     },
     "execution_count": 6,
     "metadata": {},
     "output_type": "execute_result"
    }
   ],
   "source": [
    "data['Sanitation'] = \\\n",
    "    data.groupby(['ParentLocationCode', 'Period'])['Sanitation'] \\\n",
    "    .transform(lambda x: x.fillna(x.mean()));\n",
    "\n",
    "# Убедимся, что пропусков нет\n",
    "data.isna().sum().sum()"
   ]
  },
  {
   "cell_type": "code",
   "execution_count": 7,
   "metadata": {},
   "outputs": [],
   "source": [
    "# Удалим столбцы, которые больше не нужны\n",
    "data.drop(columns=['ParentLocationCode'], inplace=True)"
   ]
  },
  {
   "cell_type": "code",
   "execution_count": 8,
   "metadata": {},
   "outputs": [],
   "source": [
    "# Сохраним полученную таблицу для дальнейшего использования\n",
    "data.to_csv('../data/who_sanitation_prepared.csv', index=False)"
   ]
  }
 ],
 "metadata": {
  "kernelspec": {
   "display_name": "Python 3",
   "language": "python",
   "name": "python3"
  },
  "language_info": {
   "codemirror_mode": {
    "name": "ipython",
    "version": 3
   },
   "file_extension": ".py",
   "mimetype": "text/x-python",
   "name": "python",
   "nbconvert_exporter": "python",
   "pygments_lexer": "ipython3",
   "version": "3.9.10"
  }
 },
 "nbformat": 4,
 "nbformat_minor": 2
}
