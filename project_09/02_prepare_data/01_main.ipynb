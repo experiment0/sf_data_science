{
 "cells": [
  {
   "cell_type": "markdown",
   "metadata": {},
   "source": [
    "# Преобразование данных"
   ]
  },
  {
   "cell_type": "markdown",
   "metadata": {},
   "source": [
    "**Оглавление**<a id='toc0_'></a>    \n",
    "- [Загрузка и описание данных](#toc1_)    \n",
    "- [Приведение признаков к единому масштабу](#toc2_)    \n",
    "\n",
    "<!-- vscode-jupyter-toc-config\n",
    "\tnumbering=false\n",
    "\tanchor=true\n",
    "\tflat=false\n",
    "\tminLevel=2\n",
    "\tmaxLevel=6\n",
    "\t/vscode-jupyter-toc-config -->\n",
    "<!-- THIS CELL WILL BE REPLACED ON TOC UPDATE. DO NOT WRITE YOUR TEXT IN THIS CELL -->"
   ]
  },
  {
   "cell_type": "markdown",
   "metadata": {},
   "source": [
    "## <a id='toc1_'></a>[Загрузка и описание данных](#toc0_)"
   ]
  },
  {
   "cell_type": "code",
   "execution_count": null,
   "metadata": {},
   "outputs": [],
   "source": [
    "import sys\n",
    "# Добавим папку проекта в список системных директорий, чтобы Python видел путь к папке utils\n",
    "sys.path.append('..')"
   ]
  },
  {
   "cell_type": "code",
   "execution_count": 3,
   "metadata": {},
   "outputs": [],
   "source": [
    "import pandas as pd\n",
    "\n",
    "from utils.constants import (\n",
    "    F,\n",
    ")\n",
    "from utils.display_content import (\n",
    "    display_base_fields_description,\n",
    "    dislay_some_fields_description,\n",
    "    display_field_description,\n",
    ")\n",
    "\n",
    "from warnings import simplefilter\n",
    "simplefilter('ignore')"
   ]
  },
  {
   "cell_type": "code",
   "execution_count": 4,
   "metadata": {},
   "outputs": [
    {
     "data": {
      "text/html": [
       "<div>\n",
       "<style scoped>\n",
       "    .dataframe tbody tr th:only-of-type {\n",
       "        vertical-align: middle;\n",
       "    }\n",
       "\n",
       "    .dataframe tbody tr th {\n",
       "        vertical-align: top;\n",
       "    }\n",
       "\n",
       "    .dataframe thead th {\n",
       "        text-align: right;\n",
       "    }\n",
       "</style>\n",
       "<table border=\"1\" class=\"dataframe\">\n",
       "  <thead>\n",
       "    <tr style=\"text-align: right;\">\n",
       "      <th></th>\n",
       "      <th>ParentLocationCode</th>\n",
       "      <th>ParentLocation</th>\n",
       "      <th>SpatialDimValueCode</th>\n",
       "      <th>Location</th>\n",
       "      <th>Period</th>\n",
       "      <th>AdultMortality</th>\n",
       "      <th>Homicides</th>\n",
       "      <th>MaternalMortality</th>\n",
       "      <th>AdultNcdMortality</th>\n",
       "      <th>AdultNcdMortality117</th>\n",
       "      <th>...</th>\n",
       "      <th>BmiTeenagerOverweight2</th>\n",
       "      <th>Sanitation</th>\n",
       "      <th>DrinkingWater</th>\n",
       "      <th>HealthCareCosts</th>\n",
       "      <th>HealthCareCostsGdp</th>\n",
       "      <th>HealthCareCostsPerCapita</th>\n",
       "      <th>GdpPerCapita</th>\n",
       "      <th>Population</th>\n",
       "      <th>Schooling</th>\n",
       "      <th>LifeExpectancy</th>\n",
       "    </tr>\n",
       "  </thead>\n",
       "  <tbody>\n",
       "    <tr>\n",
       "      <th>0</th>\n",
       "      <td>AFR</td>\n",
       "      <td>Africa</td>\n",
       "      <td>AGO</td>\n",
       "      <td>Angola</td>\n",
       "      <td>2000</td>\n",
       "      <td>345.6</td>\n",
       "      <td>13.31</td>\n",
       "      <td>859.92091</td>\n",
       "      <td>30.5</td>\n",
       "      <td>4555.0</td>\n",
       "      <td>...</td>\n",
       "      <td>0.99</td>\n",
       "      <td>27.56</td>\n",
       "      <td>41.14</td>\n",
       "      <td>2.74</td>\n",
       "      <td>1.11</td>\n",
       "      <td>7.66</td>\n",
       "      <td>563.733796</td>\n",
       "      <td>16194869.0</td>\n",
       "      <td>5.027188</td>\n",
       "      <td>49.37</td>\n",
       "    </tr>\n",
       "    <tr>\n",
       "      <th>1</th>\n",
       "      <td>AFR</td>\n",
       "      <td>Africa</td>\n",
       "      <td>AGO</td>\n",
       "      <td>Angola</td>\n",
       "      <td>2001</td>\n",
       "      <td>338.6</td>\n",
       "      <td>13.10</td>\n",
       "      <td>799.64079</td>\n",
       "      <td>29.7</td>\n",
       "      <td>4606.0</td>\n",
       "      <td>...</td>\n",
       "      <td>1.07</td>\n",
       "      <td>28.99</td>\n",
       "      <td>42.25</td>\n",
       "      <td>5.97</td>\n",
       "      <td>2.05</td>\n",
       "      <td>13.35</td>\n",
       "      <td>533.586202</td>\n",
       "      <td>16747208.0</td>\n",
       "      <td>5.092250</td>\n",
       "      <td>50.06</td>\n",
       "    </tr>\n",
       "    <tr>\n",
       "      <th>2</th>\n",
       "      <td>AFR</td>\n",
       "      <td>Africa</td>\n",
       "      <td>AGO</td>\n",
       "      <td>Angola</td>\n",
       "      <td>2002</td>\n",
       "      <td>325.1</td>\n",
       "      <td>12.88</td>\n",
       "      <td>758.27183</td>\n",
       "      <td>29.4</td>\n",
       "      <td>4687.0</td>\n",
       "      <td>...</td>\n",
       "      <td>1.14</td>\n",
       "      <td>30.42</td>\n",
       "      <td>43.38</td>\n",
       "      <td>4.19</td>\n",
       "      <td>1.31</td>\n",
       "      <td>11.54</td>\n",
       "      <td>882.147847</td>\n",
       "      <td>17327699.0</td>\n",
       "      <td>5.157312</td>\n",
       "      <td>51.06</td>\n",
       "    </tr>\n",
       "    <tr>\n",
       "      <th>3</th>\n",
       "      <td>AFR</td>\n",
       "      <td>Africa</td>\n",
       "      <td>AGO</td>\n",
       "      <td>Angola</td>\n",
       "      <td>2003</td>\n",
       "      <td>321.6</td>\n",
       "      <td>12.65</td>\n",
       "      <td>676.49647</td>\n",
       "      <td>29.3</td>\n",
       "      <td>4838.0</td>\n",
       "      <td>...</td>\n",
       "      <td>1.22</td>\n",
       "      <td>31.86</td>\n",
       "      <td>44.36</td>\n",
       "      <td>4.26</td>\n",
       "      <td>1.47</td>\n",
       "      <td>14.55</td>\n",
       "      <td>992.698979</td>\n",
       "      <td>17943712.0</td>\n",
       "      <td>5.222375</td>\n",
       "      <td>51.74</td>\n",
       "    </tr>\n",
       "    <tr>\n",
       "      <th>4</th>\n",
       "      <td>AFR</td>\n",
       "      <td>Africa</td>\n",
       "      <td>AGO</td>\n",
       "      <td>Angola</td>\n",
       "      <td>2004</td>\n",
       "      <td>322.4</td>\n",
       "      <td>12.29</td>\n",
       "      <td>594.19216</td>\n",
       "      <td>29.0</td>\n",
       "      <td>4892.0</td>\n",
       "      <td>...</td>\n",
       "      <td>1.31</td>\n",
       "      <td>33.29</td>\n",
       "      <td>45.35</td>\n",
       "      <td>5.66</td>\n",
       "      <td>1.69</td>\n",
       "      <td>21.36</td>\n",
       "      <td>1266.210864</td>\n",
       "      <td>18600423.0</td>\n",
       "      <td>5.287437</td>\n",
       "      <td>52.36</td>\n",
       "    </tr>\n",
       "  </tbody>\n",
       "</table>\n",
       "<p>5 rows × 39 columns</p>\n",
       "</div>"
      ],
      "text/plain": [
       "  ParentLocationCode ParentLocation SpatialDimValueCode Location  Period  \\\n",
       "0                AFR         Africa                 AGO   Angola    2000   \n",
       "1                AFR         Africa                 AGO   Angola    2001   \n",
       "2                AFR         Africa                 AGO   Angola    2002   \n",
       "3                AFR         Africa                 AGO   Angola    2003   \n",
       "4                AFR         Africa                 AGO   Angola    2004   \n",
       "\n",
       "   AdultMortality  Homicides  MaternalMortality  AdultNcdMortality  \\\n",
       "0           345.6      13.31          859.92091               30.5   \n",
       "1           338.6      13.10          799.64079               29.7   \n",
       "2           325.1      12.88          758.27183               29.4   \n",
       "3           321.6      12.65          676.49647               29.3   \n",
       "4           322.4      12.29          594.19216               29.0   \n",
       "\n",
       "   AdultNcdMortality117  ...  BmiTeenagerOverweight2  Sanitation  \\\n",
       "0                4555.0  ...                    0.99       27.56   \n",
       "1                4606.0  ...                    1.07       28.99   \n",
       "2                4687.0  ...                    1.14       30.42   \n",
       "3                4838.0  ...                    1.22       31.86   \n",
       "4                4892.0  ...                    1.31       33.29   \n",
       "\n",
       "   DrinkingWater  HealthCareCosts  HealthCareCostsGdp  \\\n",
       "0          41.14             2.74                1.11   \n",
       "1          42.25             5.97                2.05   \n",
       "2          43.38             4.19                1.31   \n",
       "3          44.36             4.26                1.47   \n",
       "4          45.35             5.66                1.69   \n",
       "\n",
       "   HealthCareCostsPerCapita  GdpPerCapita  Population  Schooling  \\\n",
       "0                      7.66    563.733796  16194869.0   5.027188   \n",
       "1                     13.35    533.586202  16747208.0   5.092250   \n",
       "2                     11.54    882.147847  17327699.0   5.157312   \n",
       "3                     14.55    992.698979  17943712.0   5.222375   \n",
       "4                     21.36   1266.210864  18600423.0   5.287437   \n",
       "\n",
       "   LifeExpectancy  \n",
       "0           49.37  \n",
       "1           50.06  \n",
       "2           51.06  \n",
       "3           51.74  \n",
       "4           52.36  \n",
       "\n",
       "[5 rows x 39 columns]"
      ]
     },
     "execution_count": 4,
     "metadata": {},
     "output_type": "execute_result"
    }
   ],
   "source": [
    "# Загрузим таблицу\n",
    "data = pd.read_csv('../data/cumulative_life_expectancy.csv')\n",
    "\n",
    "data.head()"
   ]
  },
  {
   "cell_type": "markdown",
   "metadata": {},
   "source": [
    "Пропуски в данных заполнены на этапе формирования таблицы."
   ]
  },
  {
   "cell_type": "code",
   "execution_count": 5,
   "metadata": {},
   "outputs": [
    {
     "data": {
      "text/plain": [
       "0"
      ]
     },
     "execution_count": 5,
     "metadata": {},
     "output_type": "execute_result"
    }
   ],
   "source": [
    "# Убедимся, что нет пропусков\n",
    "data.isna().sum().sum()"
   ]
  },
  {
   "cell_type": "code",
   "execution_count": null,
   "metadata": {},
   "outputs": [
    {
     "data": {
      "text/markdown": [
       "### Описание полей таблицы"
      ],
      "text/plain": [
       "<IPython.core.display.Markdown object>"
      ]
     },
     "metadata": {},
     "output_type": "display_data"
    },
    {
     "data": {
      "text/html": [
       "<strong>Средняя продолжительность жизни в стране (целевая переменная)</strong>"
      ],
      "text/plain": [
       "<IPython.core.display.HTML object>"
      ]
     },
     "metadata": {},
     "output_type": "display_data"
    },
    {
     "data": {
      "text/html": [
       "<ul><li><code>LifeExpectancy</code> - Ожидаемая продоложительность жизни</li></ul>"
      ],
      "text/plain": [
       "<IPython.core.display.HTML object>"
      ]
     },
     "metadata": {},
     "output_type": "display_data"
    },
    {
     "data": {
      "text/html": [
       "<strong>Время измерений</strong>"
      ],
      "text/plain": [
       "<IPython.core.display.HTML object>"
      ]
     },
     "metadata": {},
     "output_type": "display_data"
    },
    {
     "data": {
      "text/html": [
       "<ul><li><code>Period</code> - Год</li></ul>"
      ],
      "text/plain": [
       "<IPython.core.display.HTML object>"
      ]
     },
     "metadata": {},
     "output_type": "display_data"
    },
    {
     "data": {
      "text/html": [
       "<strong>Названия и коды страны и ее региона</strong>"
      ],
      "text/plain": [
       "<IPython.core.display.HTML object>"
      ]
     },
     "metadata": {},
     "output_type": "display_data"
    },
    {
     "data": {
      "text/html": [
       "<ul><li><code>ParentLocationCode</code> - Код региона</li><li><code>ParentLocation</code> - Название региона</li><li><code>SpatialDimValueCode</code> - Код страны</li><li><code>Location</code> - Название страны</li></ul>"
      ],
      "text/plain": [
       "<IPython.core.display.HTML object>"
      ]
     },
     "metadata": {},
     "output_type": "display_data"
    },
    {
     "data": {
      "text/html": [
       "<strong>Основные показатели страны (ВВП, численность населения и пр.)</strong>"
      ],
      "text/plain": [
       "<IPython.core.display.HTML object>"
      ]
     },
     "metadata": {},
     "output_type": "display_data"
    },
    {
     "data": {
      "text/html": [
       "<ul><li><code>GdpPerCapita</code> - ВВП на душу населения (в долл. США)</li><li><code>Population</code> - Общая численность населения</li><li><code>Schooling</code> - Средняя продолжительность формального образования для лиц в возрасте 15–64 лет</li></ul>"
      ],
      "text/plain": [
       "<IPython.core.display.HTML object>"
      ]
     },
     "metadata": {},
     "output_type": "display_data"
    },
    {
     "data": {
      "text/html": [
       "<strong>Факторы, связанные с медициной и санитарией в стране</strong>"
      ],
      "text/plain": [
       "<IPython.core.display.HTML object>"
      ]
     },
     "metadata": {},
     "output_type": "display_data"
    },
    {
     "data": {
      "text/html": [
       "<ul><li><code>Sanitation</code> - Население, пользующееся как минимум базовыми услугами санитарии (%)</li><li><code>DrinkingWater</code> - Население, пользующееся по крайней мере базовыми услугами питьевого водоснабжения (%)</li><li><code>HealthCareCosts</code> - Общие внутренние государственные расходы на здравоохранение в процентах от общих государственных расходов (%)</li><li><code>HealthCareCostsGdp</code> - Общие внутренние государственные расходы на здравоохранение в процентах от валового внутреннего продукта (ВВП) (%)</li><li><code>HealthCareCostsPerCapita</code> - Общие внутренние государственные расходы на здравоохранение на душу населения в долларах США</li></ul>"
      ],
      "text/plain": [
       "<IPython.core.display.HTML object>"
      ]
     },
     "metadata": {},
     "output_type": "display_data"
    },
    {
     "data": {
      "text/html": [
       "<strong>Иммунизация населения различными способами</strong>"
      ],
      "text/plain": [
       "<IPython.core.display.HTML object>"
      ]
     },
     "metadata": {},
     "output_type": "display_data"
    },
    {
     "data": {
      "text/html": [
       "<ul><li><code>HepatitisBImmunization</code> - Охват иммунизацией детей в возрасте 1 года против гепатита В (ГепВ3) (%)</li><li><code>MeaslesImmunization</code> - Охват первой дозой вакцины, содержащей коревой компонент (MCV1), среди детей в возрасте 1 года (%)</li><li><code>PolioImmunization</code> - Охват иммунизацией от полиомиелита (Pol3) среди детей в возрасте 1 года (%)</li><li><code>DiphtheriaImmunization</code> - Охват иммунизацией детей в возрасте 1 года дифтерийно-столбнячным анатоксином и коклюшем (АКДС3) (%)</li></ul>"
      ],
      "text/plain": [
       "<IPython.core.display.HTML object>"
      ]
     },
     "metadata": {},
     "output_type": "display_data"
    },
    {
     "data": {
      "text/html": [
       "<strong>Коэффициенты взрослой смертности от разных причин</strong>"
      ],
      "text/plain": [
       "<IPython.core.display.HTML object>"
      ]
     },
     "metadata": {},
     "output_type": "display_data"
    },
    {
     "data": {
      "text/html": [
       "<ul><li><code>AdultMortality</code> - Коэффициент смертности среди взрослого населения (вероятность смерти в возрасте от 15 до 60 лет на 1000 человек населения).</li><li><code>Homicides</code> - Оценка уровня убийств (на 100 000 населения)</li><li><code>MaternalMortality</code> - Коэффициент материнской смертности (на 100 000 живорождений)</li><li><code>AdultNcdMortality</code> - Вероятность (в %) смерти в возрасте от 30 до 70 лет от сердечно-сосудистых заболеваний, рака, диабета или хронических респираторных заболеваний</li><li><code>AdultNcdMortality061</code> - Причина смертности взрослых от неинфекционных заболеваний. Злокачественные новообразования</li><li><code>AdultNcdMortality080</code> - Причина смертности взрослых от неинфекционных заболеваний. Сахарный диабет</li><li><code>AdultNcdMortality110</code> - Причина смертности взрослых от неинфекционных заболеваний. Сердечно-сосудистые заболевания</li><li><code>AdultNcdMortality117</code> - Причина смертности взрослых от неинфекционных заболеваний. Респираторные заболевания</li><li><code>AdultNcdMortalitySum</code> - Сумма причин смертности взрослых от неинфекционных заболеваний.</li><li><code>PoisoningMortality</code> - Уровень смертности от непреднамеренного отравления (на 100 000 населения)</li><li><code>SuicideMortality</code> - Стандартизированные по возрасту показатели самоубийств (на 100 000 населения)</li></ul>"
      ],
      "text/plain": [
       "<IPython.core.display.HTML object>"
      ]
     },
     "metadata": {},
     "output_type": "display_data"
    },
    {
     "data": {
      "text/html": [
       "<strong>Показатели здорового (или нет) образа жизни населения</strong>"
      ],
      "text/plain": [
       "<IPython.core.display.HTML object>"
      ]
     },
     "metadata": {},
     "output_type": "display_data"
    },
    {
     "data": {
      "text/html": [
       "<ul><li><code>AlcoholСonsumption</code> - Потребление алкоголя на душу населения (15+) (в литрах чистого алкоголя)</li><li><code>BmiAdultUnderweight</code> - Распространенность недостаточного веса среди взрослых, ИМТ < 18,5 (стандартизированная по возрасту оценка) (%)</li><li><code>BmiAdultOverweight25</code> - Распространенность избыточного веса среди взрослых, ИМТ >= 25 (стандартизированная по возрасту оценка) (%)</li><li><code>BmiAdultOverweight30</code> - Распространенность ожирения среди взрослых, ИМТ >= 30 (стандартизированная по возрасту оценка) (%)</li><li><code>BmiChildThinness</code> - Распространенность худобы среди детей 5-9 лет, ИМТ < -2 стандартных отклонений ниже медианы (грубая оценка) (%)</li><li><code>BmiTeenagerThinness</code> - Распространенность худобы среди подростков 10-19 лет, ИМТ < -2 стандартных отклонений ниже медианы (грубая оценка) (%)</li><li><code>BmiChildOverweight1</code> - Распространенность избыточного веса среди детей 5-9 лет, ИМТ > +1 стандартного отклонения выше медианы (грубая оценка) (%)</li><li><code>BmiTeenagerOverweight1</code> - Распространенность избыточного веса среди подростков 10-19 лет, ИМТ > +1 стандартного отклонения выше медианы (грубая оценка) (%)</li><li><code>BmiChildOverweight2</code> - Распространенность ожирения среди детей 5-9 лет, ИМТ > +2 стандартных отклонений выше медианы (грубая оценка) (%)</li><li><code>BmiTeenagerOverweight2</code> - Распространенность ожирения среди подростков 10-19 лет, ИМТ > +2 стандартных отклонений выше медианы (грубая оценка) (%)</li></ul>"
      ],
      "text/plain": [
       "<IPython.core.display.HTML object>"
      ]
     },
     "metadata": {},
     "output_type": "display_data"
    }
   ],
   "source": [
    "# Выведем описание полей таблицы\n",
    "display_base_fields_description(True)"
   ]
  },
  {
   "cell_type": "markdown",
   "metadata": {},
   "source": [
    "## <a id='toc2_'></a>[Приведение признаков к единому масштабу](#toc0_)"
   ]
  },
  {
   "cell_type": "markdown",
   "metadata": {},
   "source": [
    "В данных показатели, связанные с количеством человек, представлены в разных изменениях:\n",
    "- количество случаев на 1000 человек населения;\n",
    "- количество случаев на 100 000 человек населения;\n",
    "- количество случаев как таковое (на все население);\n",
    "- процент количества случаев.\n",
    "\n",
    "Переведем все показатели в проценты."
   ]
  },
  {
   "cell_type": "markdown",
   "metadata": {},
   "source": [
    "**В измерении на 1000 человек населения у нас представлен только один признак:**"
   ]
  },
  {
   "cell_type": "code",
   "execution_count": 7,
   "metadata": {},
   "outputs": [
    {
     "data": {
      "text/markdown": [
       "`AdultMortality` - Коэффициент смертности среди взрослого населения (вероятность смерти в возрасте от 15 до 60 лет на 1000 человек населения)."
      ],
      "text/plain": [
       "<IPython.core.display.Markdown object>"
      ]
     },
     "metadata": {},
     "output_type": "display_data"
    }
   ],
   "source": [
    "display_field_description(F.AdultMortality.value, True)"
   ]
  },
  {
   "cell_type": "markdown",
   "metadata": {},
   "source": [
    "Переведем его в проценты от численности населения."
   ]
  },
  {
   "cell_type": "code",
   "execution_count": 8,
   "metadata": {},
   "outputs": [],
   "source": [
    "data[F.AdultMortality.value] = data[F.AdultMortality.value] / 10"
   ]
  },
  {
   "cell_type": "markdown",
   "metadata": {},
   "source": [
    "**В измерении на 100 000 населения у нас представлены следующие признаки:**"
   ]
  },
  {
   "cell_type": "code",
   "execution_count": 9,
   "metadata": {},
   "outputs": [
    {
     "data": {
      "text/markdown": [
       "**Описание полей:**"
      ],
      "text/plain": [
       "<IPython.core.display.Markdown object>"
      ]
     },
     "metadata": {},
     "output_type": "display_data"
    },
    {
     "data": {
      "text/markdown": [
       "- `Homicides` - Оценка уровня убийств (на 100 000 населения)"
      ],
      "text/plain": [
       "<IPython.core.display.Markdown object>"
      ]
     },
     "metadata": {},
     "output_type": "display_data"
    },
    {
     "data": {
      "text/markdown": [
       "- `MaternalMortality` - Коэффициент материнской смертности (на 100 000 живорождений)"
      ],
      "text/plain": [
       "<IPython.core.display.Markdown object>"
      ]
     },
     "metadata": {},
     "output_type": "display_data"
    },
    {
     "data": {
      "text/markdown": [
       "- `PoisoningMortality` - Уровень смертности от непреднамеренного отравления (на 100 000 населения)"
      ],
      "text/plain": [
       "<IPython.core.display.Markdown object>"
      ]
     },
     "metadata": {},
     "output_type": "display_data"
    },
    {
     "data": {
      "text/markdown": [
       "- `SuicideMortality` - Стандартизированные по возрасту показатели самоубийств (на 100 000 населения)"
      ],
      "text/plain": [
       "<IPython.core.display.Markdown object>"
      ]
     },
     "metadata": {},
     "output_type": "display_data"
    }
   ],
   "source": [
    "fields = [\n",
    "    F.Homicides.value, F.MaternalMortality.value,\n",
    "    F.PoisoningMortality.value, F.SuicideMortality.value,\n",
    "]\n",
    "dislay_some_fields_description(fields, True)"
   ]
  },
  {
   "cell_type": "markdown",
   "metadata": {},
   "source": [
    "Переведем их в проценты от численности населения."
   ]
  },
  {
   "cell_type": "code",
   "execution_count": 10,
   "metadata": {},
   "outputs": [],
   "source": [
    "for field in fields:\n",
    "    data[field] = data[field] / 1000"
   ]
  },
  {
   "cell_type": "markdown",
   "metadata": {},
   "source": [
    "**В непосредственном количестве человек у нас представлены следующие признаки:**"
   ]
  },
  {
   "cell_type": "code",
   "execution_count": 11,
   "metadata": {},
   "outputs": [
    {
     "data": {
      "text/markdown": [
       "**Описание полей:**"
      ],
      "text/plain": [
       "<IPython.core.display.Markdown object>"
      ]
     },
     "metadata": {},
     "output_type": "display_data"
    },
    {
     "data": {
      "text/markdown": [
       "- `AdultNcdMortality061` - Причина смертности взрослых от неинфекционных заболеваний. Злокачественные новообразования"
      ],
      "text/plain": [
       "<IPython.core.display.Markdown object>"
      ]
     },
     "metadata": {},
     "output_type": "display_data"
    },
    {
     "data": {
      "text/markdown": [
       "- `AdultNcdMortality080` - Причина смертности взрослых от неинфекционных заболеваний. Сахарный диабет"
      ],
      "text/plain": [
       "<IPython.core.display.Markdown object>"
      ]
     },
     "metadata": {},
     "output_type": "display_data"
    },
    {
     "data": {
      "text/markdown": [
       "- `AdultNcdMortality110` - Причина смертности взрослых от неинфекционных заболеваний. Сердечно-сосудистые заболевания"
      ],
      "text/plain": [
       "<IPython.core.display.Markdown object>"
      ]
     },
     "metadata": {},
     "output_type": "display_data"
    },
    {
     "data": {
      "text/markdown": [
       "- `AdultNcdMortality117` - Причина смертности взрослых от неинфекционных заболеваний. Респираторные заболевания"
      ],
      "text/plain": [
       "<IPython.core.display.Markdown object>"
      ]
     },
     "metadata": {},
     "output_type": "display_data"
    },
    {
     "data": {
      "text/markdown": [
       "- `AdultNcdMortalitySum` - Сумма причин смертности взрослых от неинфекционных заболеваний."
      ],
      "text/plain": [
       "<IPython.core.display.Markdown object>"
      ]
     },
     "metadata": {},
     "output_type": "display_data"
    }
   ],
   "source": [
    "fields = [\n",
    "    F.AdultNcdMortality061.value,\n",
    "    F.AdultNcdMortality080.value,\n",
    "    F.AdultNcdMortality110.value,\n",
    "    F.AdultNcdMortality117.value,\n",
    "    F.AdultNcdMortalitySum.value,\n",
    "]\n",
    "\n",
    "dislay_some_fields_description(fields, True)"
   ]
  },
  {
   "cell_type": "markdown",
   "metadata": {},
   "source": [
    "Переведем их в проценты от численности населения."
   ]
  },
  {
   "cell_type": "code",
   "execution_count": 12,
   "metadata": {},
   "outputs": [],
   "source": [
    "def get_percent(count, population):\n",
    "    return 100 * count / population\n",
    "\n",
    "for field in fields:\n",
    "    data[field] = data.apply(\n",
    "        lambda row: get_percent(row[field], row[F.Population.value]), \n",
    "        axis=1\n",
    "    )"
   ]
  },
  {
   "cell_type": "code",
   "execution_count": 13,
   "metadata": {},
   "outputs": [],
   "source": [
    "# Сохраним полученную таблицу для дальнейшего использования\n",
    "data.to_csv('../data/cumulative_life_expectancy_prepared.csv', index=False)"
   ]
  }
 ],
 "metadata": {
  "kernelspec": {
   "display_name": "Python 3",
   "language": "python",
   "name": "python3"
  },
  "language_info": {
   "codemirror_mode": {
    "name": "ipython",
    "version": 3
   },
   "file_extension": ".py",
   "mimetype": "text/x-python",
   "name": "python",
   "nbconvert_exporter": "python",
   "pygments_lexer": "ipython3",
   "version": "3.9.10"
  }
 },
 "nbformat": 4,
 "nbformat_minor": 2
}
