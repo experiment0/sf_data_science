{
 "cells": [
  {
   "cell_type": "markdown",
   "metadata": {},
   "source": [
    "# Создание новых признаков"
   ]
  },
  {
   "cell_type": "markdown",
   "metadata": {},
   "source": [
    "**Оглавление**<a id='toc0_'></a>    \n",
    "- [Создание признака кластера стран](#toc1_)    \n",
    "- [Создание коэффициентов благополучия стран](#toc2_)    \n",
    "- [Среднее значение по факторам иммунизации](#toc3_)    \n",
    "- [Экспоненциальное сглаживание временных рядов ожидаемой продолжительности жизни по странам](#toc4_)    \n",
    "\n",
    "<!-- vscode-jupyter-toc-config\n",
    "\tnumbering=false\n",
    "\tanchor=true\n",
    "\tflat=false\n",
    "\tminLevel=2\n",
    "\tmaxLevel=6\n",
    "\t/vscode-jupyter-toc-config -->\n",
    "<!-- THIS CELL WILL BE REPLACED ON TOC UPDATE. DO NOT WRITE YOUR TEXT IN THIS CELL -->"
   ]
  },
  {
   "cell_type": "code",
   "execution_count": 2,
   "metadata": {},
   "outputs": [],
   "source": [
    "import sys\n",
    "# Добавим папку проекта в список системных директорий, чтобы Python видел путь к папке utils\n",
    "sys.path.append('..')"
   ]
  },
  {
   "cell_type": "code",
   "execution_count": 3,
   "metadata": {},
   "outputs": [],
   "source": [
    "from utils.constants import (\n",
    "    F, \n",
    ")\n",
    "from utils.display_content import (\n",
    "    dislay_some_fields_description,\n",
    ")"
   ]
  },
  {
   "cell_type": "markdown",
   "metadata": {},
   "source": [
    "Попробуем создать несколько новых признаков и посмотрим на их корреляцию с целевой переменной."
   ]
  },
  {
   "cell_type": "markdown",
   "metadata": {},
   "source": [
    "## <a id='toc1_'></a>[Создание признака кластера стран](#toc0_)"
   ]
  },
  {
   "cell_type": "markdown",
   "metadata": {},
   "source": [
    "Создадим новый признак кластера без учета данных о детской смертности (так как их нет за 2018-2020гг.) \\\n",
    "Создание признака вынесено в файл [02_cluster.ipynb](./02_cluster.ipynb) \\\n",
    "Новый признак имеет корреляцию с целевым близкую к 0.8."
   ]
  },
  {
   "cell_type": "markdown",
   "metadata": {},
   "source": [
    "## <a id='toc2_'></a>[Создание коэффициентов благополучия стран](#toc0_)"
   ]
  },
  {
   "cell_type": "markdown",
   "metadata": {},
   "source": [
    "Процесс создания признаков вынесен в файл [03_coef.ipynb](./03_coef.ipynb).\\\n",
    "В итоге реализован алгоритм для добавления двух коэффициентов."
   ]
  },
  {
   "cell_type": "code",
   "execution_count": 4,
   "metadata": {},
   "outputs": [
    {
     "data": {
      "text/markdown": [
       "**Коэффициенты:**"
      ],
      "text/plain": [
       "<IPython.core.display.Markdown object>"
      ]
     },
     "metadata": {},
     "output_type": "display_data"
    },
    {
     "data": {
      "text/markdown": [
       "- `PositiveCoef` - Коэффициент благополучия страны"
      ],
      "text/plain": [
       "<IPython.core.display.Markdown object>"
      ]
     },
     "metadata": {},
     "output_type": "display_data"
    },
    {
     "data": {
      "text/markdown": [
       "- `NegativeCoef` - Коэффициент неблагополучия страны"
      ],
      "text/plain": [
       "<IPython.core.display.Markdown object>"
      ]
     },
     "metadata": {},
     "output_type": "display_data"
    }
   ],
   "source": [
    "dislay_some_fields_description(\n",
    "    [F.PositiveCoef.value, F.NegativeCoef.value],\n",
    "    title='Коэффициенты'\n",
    ")"
   ]
  },
  {
   "cell_type": "markdown",
   "metadata": {},
   "source": [
    "`PositiveCoef` имеет положительную корреляцию с целевой переменной, близкую к 0.8. \\\n",
    "А  `NegativeCoef` - отрицательную корреляцию, близкую к 0.5."
   ]
  },
  {
   "cell_type": "markdown",
   "metadata": {},
   "source": [
    "## <a id='toc3_'></a>[Среднее значение по факторам иммунизации](#toc0_)"
   ]
  },
  {
   "cell_type": "markdown",
   "metadata": {},
   "source": [
    "Из трех признаков иммунизации, которые имеют между собой сильную корреляцию, возьмем среднее.\\\n",
    "И удалим исходные признаки.\n",
    "\n",
    "Создание нового признака вынесено в файл [04_immunization_mean.ipynb](./04_immunization_mean.ipynb).\n",
    "\n",
    "Новый признак `ImmunizationMean` имеет бОльшую корреляцию с целевым, чем первоначальные три.\\\n",
    "Она близка к 0.6."
   ]
  },
  {
   "cell_type": "markdown",
   "metadata": {},
   "source": [
    "## <a id='toc4_'></a>[Экспоненциальное сглаживание временных рядов ожидаемой продолжительности жизни по странам](#toc0_)"
   ]
  },
  {
   "cell_type": "markdown",
   "metadata": {},
   "source": [
    "Поскольку для каждой страны значения ожидаемой продолжительности жизни по годам является временным рядом,\n",
    "то можно посчитать сглаженные значение за известное время и спрогнозитьвать сглаженные значения на будущее.\\\n",
    "Поэтому можно создать признак со сглаженными значениями целевой переменной.\\\n",
    "Создание и исследование данного признака вынесено в файл [05_exp_smoothing.ipynb](./05_exp_smoothing.ipynb)\n",
    "\n",
    "Признак не внесен в общую таблицу, а будет создаваться с помощью функции для тренировочной и тестовой таблиц.\\\n",
    "В тренировочную таблицу попадут сглаженные значения имеющихся значений целевой переменной,\\\n",
    "а в тестовую - сглаженные значения прогноза.\n",
    "\n",
    "Новый признак `SmoothingLifeExpectancy` имеет корреляцию с целевой переменной, близкую к 1."
   ]
  }
 ],
 "metadata": {
  "kernelspec": {
   "display_name": "Python 3",
   "language": "python",
   "name": "python3"
  },
  "language_info": {
   "codemirror_mode": {
    "name": "ipython",
    "version": 3
   },
   "file_extension": ".py",
   "mimetype": "text/x-python",
   "name": "python",
   "nbconvert_exporter": "python",
   "pygments_lexer": "ipython3",
   "version": "3.9.10"
  }
 },
 "nbformat": 4,
 "nbformat_minor": 2
}
