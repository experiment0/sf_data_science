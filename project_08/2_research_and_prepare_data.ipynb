{
 "cells": [
  {
   "cell_type": "markdown",
   "metadata": {},
   "source": [
    "# Предварительный анализ и обработка данных"
   ]
  },
  {
   "cell_type": "markdown",
   "metadata": {},
   "source": [
    "> Для корректной работы ссылок оглавления лучше смотреть проект здесь \\\n",
    "> https://nbviewer.org/github/experiment0/sf_data_science/blob/main/project_08/2_research_and_prepare_data.ipynb"
   ]
  },
  {
   "cell_type": "markdown",
   "metadata": {},
   "source": [
    "## Оглавление\n",
    "\n",
    "- [Загрузка данных](#load) \n",
    "- [Анализ распределения основных характеристик признаков](#research_dist) \n",
    "- [Удаление пропусков и дубликатов](#clear) \n",
    "- [Изучение видов транзакций](#research_invoice_no) \n",
    "- [Исследование транзакций с отрицательным количеством товаров](#research_neq_quantity)\n",
    "- [Исследование транзакций с нулевой стоимостью товаров](#research_zero_price)\n",
    "- [Добавление признака TotalPrice (общая стоимость покупки)](#total_price)"
   ]
  },
  {
   "cell_type": "markdown",
   "metadata": {},
   "source": [
    "## Загрузка данных <a id=\"load\"></a>"
   ]
  },
  {
   "cell_type": "markdown",
   "metadata": {},
   "source": [
    "Загрузим необходимые библиотеки и вспомогательные функции."
   ]
  },
  {
   "cell_type": "code",
   "execution_count": 1,
   "metadata": {},
   "outputs": [],
   "source": [
    "import pandas as pd\n",
    "\n",
    "from helpers.prepare_data import (\n",
    "    F, FT,\n",
    "    get_splited_data,\n",
    "    get_str_prefix,\n",
    "    get_str_postfix,\n",
    "    get_quantity_canceled,\n",
    "    get_total_price,\n",
    ")\n",
    "\n",
    "from warnings import simplefilter\n",
    "simplefilter('ignore')"
   ]
  },
  {
   "cell_type": "markdown",
   "metadata": {},
   "source": [
    "Загрузим данные."
   ]
  },
  {
   "cell_type": "code",
   "execution_count": 2,
   "metadata": {},
   "outputs": [
    {
     "data": {
      "text/html": [
       "<div>\n",
       "<style scoped>\n",
       "    .dataframe tbody tr th:only-of-type {\n",
       "        vertical-align: middle;\n",
       "    }\n",
       "\n",
       "    .dataframe tbody tr th {\n",
       "        vertical-align: top;\n",
       "    }\n",
       "\n",
       "    .dataframe thead th {\n",
       "        text-align: right;\n",
       "    }\n",
       "</style>\n",
       "<table border=\"1\" class=\"dataframe\">\n",
       "  <thead>\n",
       "    <tr style=\"text-align: right;\">\n",
       "      <th></th>\n",
       "      <th>InvoiceNo</th>\n",
       "      <th>StockCode</th>\n",
       "      <th>Description</th>\n",
       "      <th>Quantity</th>\n",
       "      <th>InvoiceDate</th>\n",
       "      <th>UnitPrice</th>\n",
       "      <th>CustomerID</th>\n",
       "      <th>Country</th>\n",
       "    </tr>\n",
       "  </thead>\n",
       "  <tbody>\n",
       "    <tr>\n",
       "      <th>0</th>\n",
       "      <td>536365</td>\n",
       "      <td>85123A</td>\n",
       "      <td>WHITE HANGING HEART T-LIGHT HOLDER</td>\n",
       "      <td>6</td>\n",
       "      <td>12/1/2010 8:26</td>\n",
       "      <td>2.55</td>\n",
       "      <td>17850</td>\n",
       "      <td>United Kingdom</td>\n",
       "    </tr>\n",
       "    <tr>\n",
       "      <th>1</th>\n",
       "      <td>536365</td>\n",
       "      <td>71053</td>\n",
       "      <td>WHITE METAL LANTERN</td>\n",
       "      <td>6</td>\n",
       "      <td>12/1/2010 8:26</td>\n",
       "      <td>3.39</td>\n",
       "      <td>17850</td>\n",
       "      <td>United Kingdom</td>\n",
       "    </tr>\n",
       "    <tr>\n",
       "      <th>2</th>\n",
       "      <td>536365</td>\n",
       "      <td>84406B</td>\n",
       "      <td>CREAM CUPID HEARTS COAT HANGER</td>\n",
       "      <td>8</td>\n",
       "      <td>12/1/2010 8:26</td>\n",
       "      <td>2.75</td>\n",
       "      <td>17850</td>\n",
       "      <td>United Kingdom</td>\n",
       "    </tr>\n",
       "    <tr>\n",
       "      <th>3</th>\n",
       "      <td>536365</td>\n",
       "      <td>84029G</td>\n",
       "      <td>KNITTED UNION FLAG HOT WATER BOTTLE</td>\n",
       "      <td>6</td>\n",
       "      <td>12/1/2010 8:26</td>\n",
       "      <td>3.39</td>\n",
       "      <td>17850</td>\n",
       "      <td>United Kingdom</td>\n",
       "    </tr>\n",
       "    <tr>\n",
       "      <th>4</th>\n",
       "      <td>536365</td>\n",
       "      <td>84029E</td>\n",
       "      <td>RED WOOLLY HOTTIE WHITE HEART.</td>\n",
       "      <td>6</td>\n",
       "      <td>12/1/2010 8:26</td>\n",
       "      <td>3.39</td>\n",
       "      <td>17850</td>\n",
       "      <td>United Kingdom</td>\n",
       "    </tr>\n",
       "  </tbody>\n",
       "</table>\n",
       "</div>"
      ],
      "text/plain": [
       "  InvoiceNo StockCode                          Description  Quantity  \\\n",
       "0    536365    85123A   WHITE HANGING HEART T-LIGHT HOLDER         6   \n",
       "1    536365     71053                  WHITE METAL LANTERN         6   \n",
       "2    536365    84406B       CREAM CUPID HEARTS COAT HANGER         8   \n",
       "3    536365    84029G  KNITTED UNION FLAG HOT WATER BOTTLE         6   \n",
       "4    536365    84029E       RED WOOLLY HOTTIE WHITE HEART.         6   \n",
       "\n",
       "      InvoiceDate  UnitPrice CustomerID         Country  \n",
       "0  12/1/2010 8:26       2.55      17850  United Kingdom  \n",
       "1  12/1/2010 8:26       3.39      17850  United Kingdom  \n",
       "2  12/1/2010 8:26       2.75      17850  United Kingdom  \n",
       "3  12/1/2010 8:26       3.39      17850  United Kingdom  \n",
       "4  12/1/2010 8:26       3.39      17850  United Kingdom  "
      ]
     },
     "execution_count": 2,
     "metadata": {},
     "output_type": "execute_result"
    }
   ],
   "source": [
    "source_data = pd.read_csv(\n",
    "    './data/customer_segmentation_project.csv',\n",
    "    encoding='ISO-8859-1', \n",
    "    dtype={F.CUSTOMER_ID.value: str, F.INVOICE_NO.value: str}\n",
    ")\n",
    "\n",
    "# выделим тренировочную часть с помощью подготовленной функции\n",
    "data, sample_data = get_splited_data(source_data)\n",
    "\n",
    "data.head()"
   ]
  },
  {
   "cell_type": "markdown",
   "metadata": {},
   "source": [
    "**Описание столбцов:**\n",
    "\n",
    "- `InvoiceNo` — номер счёта-фактуры \\\n",
    "(уникальный шестизначный номер, присваиваемый каждой транзакции; \\\n",
    "буква \"C\" в начале кода указывает на отмену транзакции);\n",
    "- `StockCode` — код товара \\\n",
    "(уникальное пятизначное целое число, присваиваемое каждому отдельному товару);\n",
    "- `Description` — название товара;\n",
    "- `Quantity` — количество каждого товара за транзакцию;\n",
    "- `InvoiceDate` — дата и время выставления счёта/проведения транзакции;\n",
    "- `UnitPrice` — цена за единицу товара в фунтах стерлингов;\n",
    "- `CustomerID` — идентификатор клиента \\\n",
    "(уникальный пятизначный номер, однозначно присваиваемый каждому клиенту);\n",
    "- `Country` — название страны, в которой проживает клиент."
   ]
  },
  {
   "cell_type": "markdown",
   "metadata": {},
   "source": [
    "## Анализ распределения основных характеристик признаков <a id=\"research_dist\"></a>"
   ]
  },
  {
   "cell_type": "code",
   "execution_count": 3,
   "metadata": {},
   "outputs": [
    {
     "name": "stdout",
     "output_type": "stream",
     "text": [
      "Размерность данных:  (500380, 8)\n"
     ]
    }
   ],
   "source": [
    "print('Размерность данных: ', data.shape)"
   ]
  },
  {
   "cell_type": "markdown",
   "metadata": {},
   "source": [
    "Посмотрим на типы данных в столбцах."
   ]
  },
  {
   "cell_type": "code",
   "execution_count": 4,
   "metadata": {},
   "outputs": [
    {
     "name": "stdout",
     "output_type": "stream",
     "text": [
      "<class 'pandas.core.frame.DataFrame'>\n",
      "Int64Index: 500380 entries, 0 to 541908\n",
      "Data columns (total 8 columns):\n",
      " #   Column       Non-Null Count   Dtype  \n",
      "---  ------       --------------   -----  \n",
      " 0   InvoiceNo    500380 non-null  object \n",
      " 1   StockCode    500380 non-null  object \n",
      " 2   Description  498926 non-null  object \n",
      " 3   Quantity     500380 non-null  int64  \n",
      " 4   InvoiceDate  500380 non-null  object \n",
      " 5   UnitPrice    500380 non-null  float64\n",
      " 6   CustomerID   365300 non-null  object \n",
      " 7   Country      500380 non-null  object \n",
      "dtypes: float64(1), int64(1), object(6)\n",
      "memory usage: 34.4+ MB\n"
     ]
    }
   ],
   "source": [
    "data.info()"
   ]
  },
  {
   "cell_type": "markdown",
   "metadata": {},
   "source": [
    "Столбец `InvoiceDate` далее переведем в тип `datetime`.\\\n",
    "Типы остальных столбцов соответствуют характеру данных, которые в них содержатся."
   ]
  },
  {
   "cell_type": "markdown",
   "metadata": {},
   "source": [
    "Проверим наличие пропусков."
   ]
  },
  {
   "cell_type": "code",
   "execution_count": 5,
   "metadata": {},
   "outputs": [
    {
     "data": {
      "text/plain": [
       "InvoiceNo           0\n",
       "StockCode           0\n",
       "Description      1454\n",
       "Quantity            0\n",
       "InvoiceDate         0\n",
       "UnitPrice           0\n",
       "CustomerID     135080\n",
       "Country             0\n",
       "dtype: int64"
      ]
     },
     "execution_count": 5,
     "metadata": {},
     "output_type": "execute_result"
    }
   ],
   "source": [
    "data.isna().sum()"
   ]
  },
  {
   "cell_type": "markdown",
   "metadata": {},
   "source": [
    "Есть пропуски в столбцах с описанием товара и идентификатором клиента.\\\n",
    "Позже разберемся с ними."
   ]
  },
  {
   "cell_type": "markdown",
   "metadata": {},
   "source": [
    "Посмотрим, за какой период представлены данные."
   ]
  },
  {
   "cell_type": "code",
   "execution_count": 6,
   "metadata": {},
   "outputs": [
    {
     "name": "stdout",
     "output_type": "stream",
     "text": [
      "Начальная дата:  2010-12-01 08:26:00\n",
      "Конечная дата:  2011-12-09 12:50:00\n"
     ]
    }
   ],
   "source": [
    "data[F.INVOICE_DATE.value] = pd.to_datetime(data[F.INVOICE_DATE.value])\n",
    "\n",
    "print('Начальная дата: ', data[F.INVOICE_DATE.value].min())\n",
    "print('Конечная дата: ', data[F.INVOICE_DATE.value].max())"
   ]
  },
  {
   "cell_type": "markdown",
   "metadata": {},
   "source": [
    "Далее изучим основные описательные характеристики числовых признаков транзакций."
   ]
  },
  {
   "cell_type": "code",
   "execution_count": 7,
   "metadata": {},
   "outputs": [
    {
     "data": {
      "text/html": [
       "<div>\n",
       "<style scoped>\n",
       "    .dataframe tbody tr th:only-of-type {\n",
       "        vertical-align: middle;\n",
       "    }\n",
       "\n",
       "    .dataframe tbody tr th {\n",
       "        vertical-align: top;\n",
       "    }\n",
       "\n",
       "    .dataframe thead th {\n",
       "        text-align: right;\n",
       "    }\n",
       "</style>\n",
       "<table border=\"1\" class=\"dataframe\">\n",
       "  <thead>\n",
       "    <tr style=\"text-align: right;\">\n",
       "      <th></th>\n",
       "      <th>Quantity</th>\n",
       "      <th>UnitPrice</th>\n",
       "    </tr>\n",
       "  </thead>\n",
       "  <tbody>\n",
       "    <tr>\n",
       "      <th>count</th>\n",
       "      <td>500380.000000</td>\n",
       "      <td>500380.000000</td>\n",
       "    </tr>\n",
       "    <tr>\n",
       "      <th>mean</th>\n",
       "      <td>9.442338</td>\n",
       "      <td>4.608206</td>\n",
       "    </tr>\n",
       "    <tr>\n",
       "      <th>std</th>\n",
       "      <td>171.289884</td>\n",
       "      <td>97.823992</td>\n",
       "    </tr>\n",
       "    <tr>\n",
       "      <th>min</th>\n",
       "      <td>-80995.000000</td>\n",
       "      <td>-11062.060000</td>\n",
       "    </tr>\n",
       "    <tr>\n",
       "      <th>25%</th>\n",
       "      <td>1.000000</td>\n",
       "      <td>1.250000</td>\n",
       "    </tr>\n",
       "    <tr>\n",
       "      <th>50%</th>\n",
       "      <td>3.000000</td>\n",
       "      <td>2.100000</td>\n",
       "    </tr>\n",
       "    <tr>\n",
       "      <th>75%</th>\n",
       "      <td>10.000000</td>\n",
       "      <td>4.130000</td>\n",
       "    </tr>\n",
       "    <tr>\n",
       "      <th>max</th>\n",
       "      <td>80995.000000</td>\n",
       "      <td>38970.000000</td>\n",
       "    </tr>\n",
       "  </tbody>\n",
       "</table>\n",
       "</div>"
      ],
      "text/plain": [
       "            Quantity      UnitPrice\n",
       "count  500380.000000  500380.000000\n",
       "mean        9.442338       4.608206\n",
       "std       171.289884      97.823992\n",
       "min    -80995.000000  -11062.060000\n",
       "25%         1.000000       1.250000\n",
       "50%         3.000000       2.100000\n",
       "75%        10.000000       4.130000\n",
       "max     80995.000000   38970.000000"
      ]
     },
     "execution_count": 7,
     "metadata": {},
     "output_type": "execute_result"
    }
   ],
   "source": [
    "data.describe()"
   ]
  },
  {
   "cell_type": "markdown",
   "metadata": {},
   "source": [
    "Как видим, в транзакциях есть отрицательное количество товаров и отрицательная цена.\\\n",
    "Видимо, это возвраты ранее купленных товаров.\\\n",
    "Учтем это при обработке данных."
   ]
  },
  {
   "cell_type": "markdown",
   "metadata": {},
   "source": [
    "Посмотрим, есть ли нулевые значения этих признаков."
   ]
  },
  {
   "cell_type": "code",
   "execution_count": 8,
   "metadata": {},
   "outputs": [
    {
     "name": "stdout",
     "output_type": "stream",
     "text": [
      "Количество транзакций с нулевым количеством товаров:  0\n"
     ]
    }
   ],
   "source": [
    "mask = data[F.QUANTITY.value] == 0\n",
    "\n",
    "print('Количество транзакций с нулевым количеством товаров: ', data[mask].shape[0])"
   ]
  },
  {
   "cell_type": "code",
   "execution_count": 9,
   "metadata": {},
   "outputs": [
    {
     "name": "stdout",
     "output_type": "stream",
     "text": [
      "Количество транзакций с нулевой стоимостью товаров:  2513\n"
     ]
    }
   ],
   "source": [
    "mask = data[F.UNIT_PRICE.value] == 0\n",
    "\n",
    "print('Количество транзакций с нулевой стоимостью товаров: ', data[mask].shape[0])"
   ]
  },
  {
   "cell_type": "markdown",
   "metadata": {},
   "source": [
    "Посмотрим на характеристики этих же признаков с положительным значением."
   ]
  },
  {
   "cell_type": "code",
   "execution_count": 10,
   "metadata": {},
   "outputs": [
    {
     "data": {
      "text/html": [
       "<div>\n",
       "<style scoped>\n",
       "    .dataframe tbody tr th:only-of-type {\n",
       "        vertical-align: middle;\n",
       "    }\n",
       "\n",
       "    .dataframe tbody tr th {\n",
       "        vertical-align: top;\n",
       "    }\n",
       "\n",
       "    .dataframe thead th {\n",
       "        text-align: right;\n",
       "    }\n",
       "</style>\n",
       "<table border=\"1\" class=\"dataframe\">\n",
       "  <thead>\n",
       "    <tr style=\"text-align: right;\">\n",
       "      <th></th>\n",
       "      <th>Quantity</th>\n",
       "      <th>UnitPrice</th>\n",
       "    </tr>\n",
       "  </thead>\n",
       "  <tbody>\n",
       "    <tr>\n",
       "      <th>count</th>\n",
       "      <td>489610.000000</td>\n",
       "      <td>489610.000000</td>\n",
       "    </tr>\n",
       "    <tr>\n",
       "      <th>mean</th>\n",
       "      <td>10.308374</td>\n",
       "      <td>3.926352</td>\n",
       "    </tr>\n",
       "    <tr>\n",
       "      <th>std</th>\n",
       "      <td>121.658445</td>\n",
       "      <td>34.238457</td>\n",
       "    </tr>\n",
       "    <tr>\n",
       "      <th>min</th>\n",
       "      <td>1.000000</td>\n",
       "      <td>0.001000</td>\n",
       "    </tr>\n",
       "    <tr>\n",
       "      <th>25%</th>\n",
       "      <td>1.000000</td>\n",
       "      <td>1.250000</td>\n",
       "    </tr>\n",
       "    <tr>\n",
       "      <th>50%</th>\n",
       "      <td>3.000000</td>\n",
       "      <td>2.100000</td>\n",
       "    </tr>\n",
       "    <tr>\n",
       "      <th>75%</th>\n",
       "      <td>10.000000</td>\n",
       "      <td>4.130000</td>\n",
       "    </tr>\n",
       "    <tr>\n",
       "      <th>max</th>\n",
       "      <td>80995.000000</td>\n",
       "      <td>13541.330000</td>\n",
       "    </tr>\n",
       "  </tbody>\n",
       "</table>\n",
       "</div>"
      ],
      "text/plain": [
       "            Quantity      UnitPrice\n",
       "count  489610.000000  489610.000000\n",
       "mean       10.308374       3.926352\n",
       "std       121.658445      34.238457\n",
       "min         1.000000       0.001000\n",
       "25%         1.000000       1.250000\n",
       "50%         3.000000       2.100000\n",
       "75%        10.000000       4.130000\n",
       "max     80995.000000   13541.330000"
      ]
     },
     "execution_count": 10,
     "metadata": {},
     "output_type": "execute_result"
    }
   ],
   "source": [
    "mask = (data[F.QUANTITY.value] > 0) & (data[F.UNIT_PRICE.value] > 0)\n",
    "\n",
    "data[mask].describe()"
   ]
  },
  {
   "cell_type": "markdown",
   "metadata": {},
   "source": [
    "Посмотрим на характеристики распределения признаков с типом `object`."
   ]
  },
  {
   "cell_type": "code",
   "execution_count": 11,
   "metadata": {},
   "outputs": [
    {
     "data": {
      "text/html": [
       "<div>\n",
       "<style scoped>\n",
       "    .dataframe tbody tr th:only-of-type {\n",
       "        vertical-align: middle;\n",
       "    }\n",
       "\n",
       "    .dataframe tbody tr th {\n",
       "        vertical-align: top;\n",
       "    }\n",
       "\n",
       "    .dataframe thead th {\n",
       "        text-align: right;\n",
       "    }\n",
       "</style>\n",
       "<table border=\"1\" class=\"dataframe\">\n",
       "  <thead>\n",
       "    <tr style=\"text-align: right;\">\n",
       "      <th></th>\n",
       "      <th>InvoiceNo</th>\n",
       "      <th>StockCode</th>\n",
       "      <th>Description</th>\n",
       "      <th>CustomerID</th>\n",
       "      <th>Country</th>\n",
       "    </tr>\n",
       "  </thead>\n",
       "  <tbody>\n",
       "    <tr>\n",
       "      <th>count</th>\n",
       "      <td>500380</td>\n",
       "      <td>500380</td>\n",
       "      <td>498926</td>\n",
       "      <td>365300</td>\n",
       "      <td>500380</td>\n",
       "    </tr>\n",
       "    <tr>\n",
       "      <th>unique</th>\n",
       "      <td>23553</td>\n",
       "      <td>4060</td>\n",
       "      <td>4206</td>\n",
       "      <td>3935</td>\n",
       "      <td>36</td>\n",
       "    </tr>\n",
       "    <tr>\n",
       "      <th>top</th>\n",
       "      <td>573585</td>\n",
       "      <td>85123A</td>\n",
       "      <td>WHITE HANGING HEART T-LIGHT HOLDER</td>\n",
       "      <td>17841</td>\n",
       "      <td>United Kingdom</td>\n",
       "    </tr>\n",
       "    <tr>\n",
       "      <th>freq</th>\n",
       "      <td>1114</td>\n",
       "      <td>2125</td>\n",
       "      <td>2181</td>\n",
       "      <td>7983</td>\n",
       "      <td>456980</td>\n",
       "    </tr>\n",
       "  </tbody>\n",
       "</table>\n",
       "</div>"
      ],
      "text/plain": [
       "       InvoiceNo StockCode                         Description CustomerID  \\\n",
       "count     500380    500380                              498926     365300   \n",
       "unique     23553      4060                                4206       3935   \n",
       "top       573585    85123A  WHITE HANGING HEART T-LIGHT HOLDER      17841   \n",
       "freq        1114      2125                                2181       7983   \n",
       "\n",
       "               Country  \n",
       "count           500380  \n",
       "unique              36  \n",
       "top     United Kingdom  \n",
       "freq            456980  "
      ]
     },
     "execution_count": 11,
     "metadata": {},
     "output_type": "execute_result"
    }
   ],
   "source": [
    "data.describe(include='object')"
   ]
  },
  {
   "cell_type": "markdown",
   "metadata": {},
   "source": [
    "Итого, у нас"
   ]
  },
  {
   "cell_type": "code",
   "execution_count": 12,
   "metadata": {},
   "outputs": [
    {
     "name": "stdout",
     "output_type": "stream",
     "text": [
      "Количество уникальных товаров: 4060\n",
      "Количество уникальных покупателей: 3935\n"
     ]
    }
   ],
   "source": [
    "print('Количество уникальных товаров:', data[F.STOCK_CODE.value].nunique())\n",
    "print('Количество уникальных покупателей:', data[F.CUSTOMER_ID.value].nunique())"
   ]
  },
  {
   "cell_type": "code",
   "execution_count": 13,
   "metadata": {},
   "outputs": [
    {
     "name": "stdout",
     "output_type": "stream",
     "text": [
      "Идентификатор самого популярного товара: 85123A\n"
     ]
    }
   ],
   "source": [
    "print('Идентификатор самого популярного товара:', data[F.STOCK_CODE.value].mode()[0])"
   ]
  },
  {
   "cell_type": "markdown",
   "metadata": {},
   "source": [
    "Посмотрим описания этого популярного товара."
   ]
  },
  {
   "cell_type": "code",
   "execution_count": 14,
   "metadata": {},
   "outputs": [
    {
     "data": {
      "text/plain": [
       "WHITE HANGING HEART T-LIGHT HOLDER    2114\n",
       "CREAM HANGING HEART T-LIGHT HOLDER       9\n",
       "?                                        1\n",
       "wrongly marked carton 22804              1\n",
       "Name: Description, dtype: int64"
      ]
     },
     "execution_count": 14,
     "metadata": {},
     "output_type": "execute_result"
    }
   ],
   "source": [
    "mask = data[F.STOCK_CODE.value] == '85123A'\n",
    "data[mask][F.DESCRIPTION.value].value_counts()"
   ]
  },
  {
   "cell_type": "markdown",
   "metadata": {},
   "source": [
    "В переводе \"Подвесной держатель для свечи в форме сердца кремового цвета\"."
   ]
  },
  {
   "cell_type": "markdown",
   "metadata": {},
   "source": [
    "Посмотрим на названия стран."
   ]
  },
  {
   "cell_type": "code",
   "execution_count": 15,
   "metadata": {},
   "outputs": [
    {
     "data": {
      "text/plain": [
       "array(['United Kingdom', 'France', 'Australia', 'Germany', 'Norway',\n",
       "       'EIRE', 'Poland', 'Portugal', 'Italy', 'Belgium', 'Lithuania',\n",
       "       'Japan', 'Iceland', 'Channel Islands', 'Spain', 'Cyprus', 'Sweden',\n",
       "       'Austria', 'Israel', 'Finland', 'Switzerland', 'Netherlands',\n",
       "       'Bahrain', 'Greece', 'Hong Kong', 'United Arab Emirates',\n",
       "       'Denmark', 'Saudi Arabia', 'Czech Republic', 'Unspecified',\n",
       "       'Brazil', 'USA', 'European Community', 'Canada', 'Malta', 'RSA'],\n",
       "      dtype=object)"
      ]
     },
     "execution_count": 15,
     "metadata": {},
     "output_type": "execute_result"
    }
   ],
   "source": [
    "data[F.COUNTRY.value].unique()"
   ]
  },
  {
   "cell_type": "markdown",
   "metadata": {},
   "source": [
    "Есть страна с названием `Unspecified`, что можно расценивать как пропуск в данных.\\\n",
    "Посчитаем количество стран."
   ]
  },
  {
   "cell_type": "code",
   "execution_count": 16,
   "metadata": {},
   "outputs": [
    {
     "name": "stdout",
     "output_type": "stream",
     "text": [
      "Количество уникальных стран: 35\n"
     ]
    }
   ],
   "source": [
    "mask = data[F.COUNTRY.value] != 'Unspecified'\n",
    "\n",
    "print('Количество уникальных стран:', data[mask][F.COUNTRY.value].nunique())"
   ]
  },
  {
   "cell_type": "markdown",
   "metadata": {},
   "source": [
    "## Удаление пропусков и дубликатов <a id=\"clear\"></a>"
   ]
  },
  {
   "cell_type": "markdown",
   "metadata": {},
   "source": [
    "Посмотрим на строки с пропуском в столбце `CustomerID`."
   ]
  },
  {
   "cell_type": "code",
   "execution_count": 17,
   "metadata": {},
   "outputs": [
    {
     "data": {
      "text/html": [
       "<div>\n",
       "<style scoped>\n",
       "    .dataframe tbody tr th:only-of-type {\n",
       "        vertical-align: middle;\n",
       "    }\n",
       "\n",
       "    .dataframe tbody tr th {\n",
       "        vertical-align: top;\n",
       "    }\n",
       "\n",
       "    .dataframe thead th {\n",
       "        text-align: right;\n",
       "    }\n",
       "</style>\n",
       "<table border=\"1\" class=\"dataframe\">\n",
       "  <thead>\n",
       "    <tr style=\"text-align: right;\">\n",
       "      <th></th>\n",
       "      <th>InvoiceNo</th>\n",
       "      <th>StockCode</th>\n",
       "      <th>Description</th>\n",
       "      <th>Quantity</th>\n",
       "      <th>InvoiceDate</th>\n",
       "      <th>UnitPrice</th>\n",
       "      <th>CustomerID</th>\n",
       "      <th>Country</th>\n",
       "    </tr>\n",
       "  </thead>\n",
       "  <tbody>\n",
       "    <tr>\n",
       "      <th>622</th>\n",
       "      <td>536414</td>\n",
       "      <td>22139</td>\n",
       "      <td>NaN</td>\n",
       "      <td>56</td>\n",
       "      <td>2010-12-01 11:52:00</td>\n",
       "      <td>0.00</td>\n",
       "      <td>NaN</td>\n",
       "      <td>United Kingdom</td>\n",
       "    </tr>\n",
       "    <tr>\n",
       "      <th>1443</th>\n",
       "      <td>536544</td>\n",
       "      <td>21773</td>\n",
       "      <td>DECORATIVE ROSE BATHROOM BOTTLE</td>\n",
       "      <td>1</td>\n",
       "      <td>2010-12-01 14:32:00</td>\n",
       "      <td>2.51</td>\n",
       "      <td>NaN</td>\n",
       "      <td>United Kingdom</td>\n",
       "    </tr>\n",
       "    <tr>\n",
       "      <th>1444</th>\n",
       "      <td>536544</td>\n",
       "      <td>21774</td>\n",
       "      <td>DECORATIVE CATS BATHROOM BOTTLE</td>\n",
       "      <td>2</td>\n",
       "      <td>2010-12-01 14:32:00</td>\n",
       "      <td>2.51</td>\n",
       "      <td>NaN</td>\n",
       "      <td>United Kingdom</td>\n",
       "    </tr>\n",
       "    <tr>\n",
       "      <th>1445</th>\n",
       "      <td>536544</td>\n",
       "      <td>21786</td>\n",
       "      <td>POLKADOT RAIN HAT</td>\n",
       "      <td>4</td>\n",
       "      <td>2010-12-01 14:32:00</td>\n",
       "      <td>0.85</td>\n",
       "      <td>NaN</td>\n",
       "      <td>United Kingdom</td>\n",
       "    </tr>\n",
       "    <tr>\n",
       "      <th>1446</th>\n",
       "      <td>536544</td>\n",
       "      <td>21787</td>\n",
       "      <td>RAIN PONCHO RETROSPOT</td>\n",
       "      <td>2</td>\n",
       "      <td>2010-12-01 14:32:00</td>\n",
       "      <td>1.66</td>\n",
       "      <td>NaN</td>\n",
       "      <td>United Kingdom</td>\n",
       "    </tr>\n",
       "  </tbody>\n",
       "</table>\n",
       "</div>"
      ],
      "text/plain": [
       "     InvoiceNo StockCode                      Description  Quantity  \\\n",
       "622     536414     22139                              NaN        56   \n",
       "1443    536544     21773  DECORATIVE ROSE BATHROOM BOTTLE         1   \n",
       "1444    536544     21774  DECORATIVE CATS BATHROOM BOTTLE         2   \n",
       "1445    536544     21786               POLKADOT RAIN HAT          4   \n",
       "1446    536544     21787            RAIN PONCHO RETROSPOT         2   \n",
       "\n",
       "             InvoiceDate  UnitPrice CustomerID         Country  \n",
       "622  2010-12-01 11:52:00       0.00        NaN  United Kingdom  \n",
       "1443 2010-12-01 14:32:00       2.51        NaN  United Kingdom  \n",
       "1444 2010-12-01 14:32:00       2.51        NaN  United Kingdom  \n",
       "1445 2010-12-01 14:32:00       0.85        NaN  United Kingdom  \n",
       "1446 2010-12-01 14:32:00       1.66        NaN  United Kingdom  "
      ]
     },
     "execution_count": 17,
     "metadata": {},
     "output_type": "execute_result"
    }
   ],
   "source": [
    "mask = data[F.CUSTOMER_ID.value].isna()\n",
    "\n",
    "data[mask].head()"
   ]
  },
  {
   "cell_type": "code",
   "execution_count": 18,
   "metadata": {},
   "outputs": [
    {
     "name": "stdout",
     "output_type": "stream",
     "text": [
      "Количество строк: 135080\n"
     ]
    }
   ],
   "source": [
    "print('Количество строк:', data[mask].shape[0])"
   ]
  },
  {
   "cell_type": "markdown",
   "metadata": {},
   "source": [
    "Посмотрим на распределение характеристик в этих строках с признаком типа `object`."
   ]
  },
  {
   "cell_type": "code",
   "execution_count": 19,
   "metadata": {},
   "outputs": [
    {
     "data": {
      "text/html": [
       "<div>\n",
       "<style scoped>\n",
       "    .dataframe tbody tr th:only-of-type {\n",
       "        vertical-align: middle;\n",
       "    }\n",
       "\n",
       "    .dataframe tbody tr th {\n",
       "        vertical-align: top;\n",
       "    }\n",
       "\n",
       "    .dataframe thead th {\n",
       "        text-align: right;\n",
       "    }\n",
       "</style>\n",
       "<table border=\"1\" class=\"dataframe\">\n",
       "  <thead>\n",
       "    <tr style=\"text-align: right;\">\n",
       "      <th></th>\n",
       "      <th>InvoiceNo</th>\n",
       "      <th>StockCode</th>\n",
       "      <th>Description</th>\n",
       "      <th>CustomerID</th>\n",
       "      <th>Country</th>\n",
       "    </tr>\n",
       "  </thead>\n",
       "  <tbody>\n",
       "    <tr>\n",
       "      <th>count</th>\n",
       "      <td>135080</td>\n",
       "      <td>135080</td>\n",
       "      <td>133626</td>\n",
       "      <td>0</td>\n",
       "      <td>135080</td>\n",
       "    </tr>\n",
       "    <tr>\n",
       "      <th>unique</th>\n",
       "      <td>3710</td>\n",
       "      <td>3810</td>\n",
       "      <td>3554</td>\n",
       "      <td>0</td>\n",
       "      <td>9</td>\n",
       "    </tr>\n",
       "    <tr>\n",
       "      <th>top</th>\n",
       "      <td>573585</td>\n",
       "      <td>DOT</td>\n",
       "      <td>DOTCOM POSTAGE</td>\n",
       "      <td>NaN</td>\n",
       "      <td>United Kingdom</td>\n",
       "    </tr>\n",
       "    <tr>\n",
       "      <th>freq</th>\n",
       "      <td>1114</td>\n",
       "      <td>694</td>\n",
       "      <td>693</td>\n",
       "      <td>NaN</td>\n",
       "      <td>133600</td>\n",
       "    </tr>\n",
       "  </tbody>\n",
       "</table>\n",
       "</div>"
      ],
      "text/plain": [
       "       InvoiceNo StockCode     Description CustomerID         Country\n",
       "count     135080    135080          133626          0          135080\n",
       "unique      3710      3810            3554          0               9\n",
       "top       573585       DOT  DOTCOM POSTAGE        NaN  United Kingdom\n",
       "freq        1114       694             693        NaN          133600"
      ]
     },
     "execution_count": 19,
     "metadata": {},
     "output_type": "execute_result"
    }
   ],
   "source": [
    "data[mask].describe(include='object')"
   ]
  },
  {
   "cell_type": "markdown",
   "metadata": {},
   "source": [
    "Большинство транзакций здесь - это почтовые расходы (DOTCOM POSTAGE)."
   ]
  },
  {
   "cell_type": "markdown",
   "metadata": {},
   "source": [
    "Посмотрим на пропуски."
   ]
  },
  {
   "cell_type": "code",
   "execution_count": 20,
   "metadata": {},
   "outputs": [
    {
     "data": {
      "text/plain": [
       "InvoiceNo           0\n",
       "StockCode           0\n",
       "Description      1454\n",
       "Quantity            0\n",
       "InvoiceDate         0\n",
       "UnitPrice           0\n",
       "CustomerID     135080\n",
       "Country             0\n",
       "dtype: int64"
      ]
     },
     "execution_count": 20,
     "metadata": {},
     "output_type": "execute_result"
    }
   ],
   "source": [
    "data[mask].isna().sum()"
   ]
  },
  {
   "cell_type": "markdown",
   "metadata": {},
   "source": [
    "Видим, что все пропуски `Description` (1454 из исходных данных) попадают в данную выборку."
   ]
  },
  {
   "cell_type": "code",
   "execution_count": 21,
   "metadata": {},
   "outputs": [
    {
     "name": "stdout",
     "output_type": "stream",
     "text": [
      "Строки с пропуском значения CustomerID составляют 27.0% от общего количества данных.\n"
     ]
    }
   ],
   "source": [
    "percent_of_absences = round(data[mask].shape[0] * 100 / data.shape[0], 2)\n",
    "\n",
    "print(f'Строки с пропуском значения CustomerID составляют {percent_of_absences}% от общего количества данных.')"
   ]
  },
  {
   "cell_type": "markdown",
   "metadata": {},
   "source": [
    "Пропуски в столбце `CustomerID` говорят о незавершенных или некорректных транзакциях.\\\n",
    "Удалим их."
   ]
  },
  {
   "cell_type": "code",
   "execution_count": 22,
   "metadata": {},
   "outputs": [],
   "source": [
    "data.dropna(subset=[F.CUSTOMER_ID.value], inplace=True)"
   ]
  },
  {
   "cell_type": "code",
   "execution_count": 23,
   "metadata": {},
   "outputs": [
    {
     "name": "stdout",
     "output_type": "stream",
     "text": [
      "Оставшееся количество пропусков в данных: 0\n"
     ]
    }
   ],
   "source": [
    "print('Оставшееся количество пропусков в данных:', data.isna().sum().sum())"
   ]
  },
  {
   "cell_type": "markdown",
   "metadata": {},
   "source": [
    "Теперь посмотрим, сколько в данных дубликатов."
   ]
  },
  {
   "cell_type": "code",
   "execution_count": 24,
   "metadata": {},
   "outputs": [
    {
     "name": "stdout",
     "output_type": "stream",
     "text": [
      "Количество дубликатов:  4722\n"
     ]
    }
   ],
   "source": [
    "duplicated_mask = data.duplicated()\n",
    "duplicated_count = data[duplicated_mask].shape[0]\n",
    "\n",
    "print('Количество дубликатов: ', duplicated_count)"
   ]
  },
  {
   "cell_type": "markdown",
   "metadata": {},
   "source": [
    "Удалим дубликаты."
   ]
  },
  {
   "cell_type": "code",
   "execution_count": 25,
   "metadata": {},
   "outputs": [],
   "source": [
    "data.drop_duplicates(ignore_index=True, inplace=True)"
   ]
  },
  {
   "cell_type": "markdown",
   "metadata": {},
   "source": [
    "## Изучение видов транзакций <a id=\"research_invoice_no\"></a>"
   ]
  },
  {
   "cell_type": "markdown",
   "metadata": {},
   "source": [
    "Посмотрим, с каким видом значений `InvoiceNo` и `StockCode` мы можем встретиться.\\\n",
    "Посмотрим, какие у них могут быть буквенные префиксы и окончания."
   ]
  },
  {
   "cell_type": "code",
   "execution_count": 26,
   "metadata": {},
   "outputs": [
    {
     "name": "stdout",
     "output_type": "stream",
     "text": [
      "Уникальные префиксы InvoiceNo: \n",
      "['' 'C']\n",
      "\n",
      "Уникальные окончания InvoiceNo: \n",
      "['']\n"
     ]
    }
   ],
   "source": [
    "# Определим префикс и постфикс у номера счета-фактуры (InvoiceNo)\n",
    "data[FT.INVOICE_NO_PREFIX.value] = data[F.INVOICE_NO.value].apply(get_str_prefix)\n",
    "data[FT.INVOICE_NO_POSTFIX.value] = data[F.INVOICE_NO.value].apply(get_str_postfix)\n",
    "\n",
    "print('Уникальные префиксы InvoiceNo: ')\n",
    "print(data[FT.INVOICE_NO_PREFIX.value].unique())\n",
    "print()\n",
    "print('Уникальные окончания InvoiceNo: ')\n",
    "print(data[FT.INVOICE_NO_POSTFIX.value].unique())"
   ]
  },
  {
   "cell_type": "markdown",
   "metadata": {},
   "source": [
    "То есть, для счетов-фактур у нас может быть только префикс `C`,\\\n",
    "который обозначает отмену транзации."
   ]
  },
  {
   "cell_type": "code",
   "execution_count": 27,
   "metadata": {},
   "outputs": [
    {
     "name": "stdout",
     "output_type": "stream",
     "text": [
      "Количество транзакций, которые являются отменами:  7842\n"
     ]
    }
   ],
   "source": [
    "mask = data[FT.INVOICE_NO_PREFIX.value] == 'C'\n",
    "print('Количество транзакций, которые являются отменами: ', data[mask].shape[0])"
   ]
  },
  {
   "cell_type": "code",
   "execution_count": 28,
   "metadata": {},
   "outputs": [
    {
     "name": "stdout",
     "output_type": "stream",
     "text": [
      "Уникальные префиксы StockCode: \n",
      "['' 'POST' 'D' 'C' 'M' 'BANK CHARGES' 'PADS' 'DOT' 'CRUK']\n",
      "\n",
      "Уникальные окончания StockCode: \n",
      "['A' '' 'B' 'G' 'E' 'POST' 'L' 'C' 'S' 'BL' 'N' 'D' 'F' 'T' 'H' 'M' 'R'\n",
      " 'K' 'P' 'W' 'BANK CHARGES' 'J' 'U' 'V' 'PADS' 'I' 'DOT' 'CRUK' 'Y']\n"
     ]
    }
   ],
   "source": [
    "# Определим префикс и постфикс у кода товара (StockCode)\n",
    "data[FT.STOCK_CODE_PREFIX.value] = data[F.STOCK_CODE.value].apply(get_str_prefix)\n",
    "data[FT.STOCK_CODE_POSTFIX.value] = data[F.STOCK_CODE.value].apply(get_str_postfix)\n",
    "\n",
    "print('Уникальные префиксы StockCode: ')\n",
    "print(data[FT.STOCK_CODE_PREFIX.value].unique())\n",
    "print()\n",
    "print('Уникальные окончания StockCode: ')\n",
    "print(data[FT.STOCK_CODE_POSTFIX.value].unique())"
   ]
  },
  {
   "cell_type": "markdown",
   "metadata": {},
   "source": [
    "Некоторые префиксы и окончания совпадают.\\\n",
    "Скорее всего `StockCode` в этих случаях состоит полностью из букв (соответствующих префиксу).\\\n",
    "Выделим такие случаи."
   ]
  },
  {
   "cell_type": "code",
   "execution_count": 29,
   "metadata": {},
   "outputs": [
    {
     "data": {
      "text/plain": [
       "POST            1095\n",
       "M                389\n",
       "D                 70\n",
       "DOT               16\n",
       "CRUK              16\n",
       "BANK CHARGES       8\n",
       "PADS               4\n",
       "Name: StockCodePrefix, dtype: int64"
      ]
     },
     "execution_count": 29,
     "metadata": {},
     "output_type": "execute_result"
    }
   ],
   "source": [
    "mask = (data[FT.STOCK_CODE_PREFIX.value] != '') & \\\n",
    "       (data[FT.STOCK_CODE_PREFIX.value] == data[FT.STOCK_CODE_POSTFIX.value])\n",
    "\n",
    "data[mask][FT.STOCK_CODE_PREFIX.value].value_counts()"
   ]
  },
  {
   "cell_type": "markdown",
   "metadata": {},
   "source": [
    "Посмотрим сами эти транзакции и их описания."
   ]
  },
  {
   "cell_type": "markdown",
   "metadata": {},
   "source": [
    "### Почтовые расходы (StockCode == POST)"
   ]
  },
  {
   "cell_type": "code",
   "execution_count": 30,
   "metadata": {},
   "outputs": [
    {
     "data": {
      "text/html": [
       "<div>\n",
       "<style scoped>\n",
       "    .dataframe tbody tr th:only-of-type {\n",
       "        vertical-align: middle;\n",
       "    }\n",
       "\n",
       "    .dataframe tbody tr th {\n",
       "        vertical-align: top;\n",
       "    }\n",
       "\n",
       "    .dataframe thead th {\n",
       "        text-align: right;\n",
       "    }\n",
       "</style>\n",
       "<table border=\"1\" class=\"dataframe\">\n",
       "  <thead>\n",
       "    <tr style=\"text-align: right;\">\n",
       "      <th></th>\n",
       "      <th>InvoiceNo</th>\n",
       "      <th>StockCode</th>\n",
       "      <th>Description</th>\n",
       "      <th>Quantity</th>\n",
       "      <th>InvoiceDate</th>\n",
       "      <th>UnitPrice</th>\n",
       "      <th>CustomerID</th>\n",
       "      <th>Country</th>\n",
       "      <th>InvoiceNoPrefix</th>\n",
       "      <th>InvoiceNoPostfix</th>\n",
       "      <th>StockCodePrefix</th>\n",
       "      <th>StockCodePostfix</th>\n",
       "    </tr>\n",
       "  </thead>\n",
       "  <tbody>\n",
       "    <tr>\n",
       "      <th>45</th>\n",
       "      <td>536370</td>\n",
       "      <td>POST</td>\n",
       "      <td>POSTAGE</td>\n",
       "      <td>3</td>\n",
       "      <td>2010-12-01 08:45:00</td>\n",
       "      <td>18.0</td>\n",
       "      <td>12583</td>\n",
       "      <td>France</td>\n",
       "      <td></td>\n",
       "      <td></td>\n",
       "      <td>POST</td>\n",
       "      <td>POST</td>\n",
       "    </tr>\n",
       "    <tr>\n",
       "      <th>1012</th>\n",
       "      <td>536527</td>\n",
       "      <td>POST</td>\n",
       "      <td>POSTAGE</td>\n",
       "      <td>1</td>\n",
       "      <td>2010-12-01 13:04:00</td>\n",
       "      <td>18.0</td>\n",
       "      <td>12662</td>\n",
       "      <td>Germany</td>\n",
       "      <td></td>\n",
       "      <td></td>\n",
       "      <td>POST</td>\n",
       "      <td>POST</td>\n",
       "    </tr>\n",
       "    <tr>\n",
       "      <th>3532</th>\n",
       "      <td>536840</td>\n",
       "      <td>POST</td>\n",
       "      <td>POSTAGE</td>\n",
       "      <td>1</td>\n",
       "      <td>2010-12-02 18:27:00</td>\n",
       "      <td>18.0</td>\n",
       "      <td>12738</td>\n",
       "      <td>Germany</td>\n",
       "      <td></td>\n",
       "      <td></td>\n",
       "      <td>POST</td>\n",
       "      <td>POST</td>\n",
       "    </tr>\n",
       "    <tr>\n",
       "      <th>3695</th>\n",
       "      <td>536852</td>\n",
       "      <td>POST</td>\n",
       "      <td>POSTAGE</td>\n",
       "      <td>1</td>\n",
       "      <td>2010-12-03 09:51:00</td>\n",
       "      <td>18.0</td>\n",
       "      <td>12686</td>\n",
       "      <td>France</td>\n",
       "      <td></td>\n",
       "      <td></td>\n",
       "      <td>POST</td>\n",
       "      <td>POST</td>\n",
       "    </tr>\n",
       "    <tr>\n",
       "      <th>3800</th>\n",
       "      <td>536861</td>\n",
       "      <td>POST</td>\n",
       "      <td>POSTAGE</td>\n",
       "      <td>3</td>\n",
       "      <td>2010-12-03 10:44:00</td>\n",
       "      <td>18.0</td>\n",
       "      <td>12427</td>\n",
       "      <td>Germany</td>\n",
       "      <td></td>\n",
       "      <td></td>\n",
       "      <td>POST</td>\n",
       "      <td>POST</td>\n",
       "    </tr>\n",
       "  </tbody>\n",
       "</table>\n",
       "</div>"
      ],
      "text/plain": [
       "     InvoiceNo StockCode Description  Quantity         InvoiceDate  UnitPrice  \\\n",
       "45      536370      POST     POSTAGE         3 2010-12-01 08:45:00       18.0   \n",
       "1012    536527      POST     POSTAGE         1 2010-12-01 13:04:00       18.0   \n",
       "3532    536840      POST     POSTAGE         1 2010-12-02 18:27:00       18.0   \n",
       "3695    536852      POST     POSTAGE         1 2010-12-03 09:51:00       18.0   \n",
       "3800    536861      POST     POSTAGE         3 2010-12-03 10:44:00       18.0   \n",
       "\n",
       "     CustomerID  Country InvoiceNoPrefix InvoiceNoPostfix StockCodePrefix  \\\n",
       "45        12583   France                                             POST   \n",
       "1012      12662  Germany                                             POST   \n",
       "3532      12738  Germany                                             POST   \n",
       "3695      12686   France                                             POST   \n",
       "3800      12427  Germany                                             POST   \n",
       "\n",
       "     StockCodePostfix  \n",
       "45               POST  \n",
       "1012             POST  \n",
       "3532             POST  \n",
       "3695             POST  \n",
       "3800             POST  "
      ]
     },
     "execution_count": 30,
     "metadata": {},
     "output_type": "execute_result"
    }
   ],
   "source": [
    "mask = data[FT.STOCK_CODE_PREFIX.value] == 'POST'\n",
    "data[mask].head()"
   ]
  },
  {
   "cell_type": "markdown",
   "metadata": {},
   "source": [
    "Посмотрим на их описания."
   ]
  },
  {
   "cell_type": "code",
   "execution_count": 31,
   "metadata": {},
   "outputs": [
    {
     "data": {
      "text/plain": [
       "POSTAGE    1095\n",
       "Name: Description, dtype: int64"
      ]
     },
     "execution_count": 31,
     "metadata": {},
     "output_type": "execute_result"
    }
   ],
   "source": [
    "data[mask][F.DESCRIPTION.value].value_counts()"
   ]
  },
  {
   "cell_type": "markdown",
   "metadata": {},
   "source": [
    "Все описания имеют значение \"POSTAGE\" - \"ПОЧТОВЫЕ РАСХОДЫ\".\\\n",
    "Пожалуй, подобные транзакции не характеризуют клиентов (разве что в том плане, что они живут в другой стране и им нужно доставлять товар).\\\n",
    "Поэтому удалим эти записи из таблицы."
   ]
  },
  {
   "cell_type": "code",
   "execution_count": 32,
   "metadata": {},
   "outputs": [],
   "source": [
    "data.drop(data[mask].index, inplace=True)"
   ]
  },
  {
   "cell_type": "markdown",
   "metadata": {},
   "source": [
    "### Руководство к товару (StockCode == M)"
   ]
  },
  {
   "cell_type": "code",
   "execution_count": 33,
   "metadata": {},
   "outputs": [
    {
     "data": {
      "text/html": [
       "<div>\n",
       "<style scoped>\n",
       "    .dataframe tbody tr th:only-of-type {\n",
       "        vertical-align: middle;\n",
       "    }\n",
       "\n",
       "    .dataframe tbody tr th {\n",
       "        vertical-align: top;\n",
       "    }\n",
       "\n",
       "    .dataframe thead th {\n",
       "        text-align: right;\n",
       "    }\n",
       "</style>\n",
       "<table border=\"1\" class=\"dataframe\">\n",
       "  <thead>\n",
       "    <tr style=\"text-align: right;\">\n",
       "      <th></th>\n",
       "      <th>InvoiceNo</th>\n",
       "      <th>StockCode</th>\n",
       "      <th>Description</th>\n",
       "      <th>Quantity</th>\n",
       "      <th>InvoiceDate</th>\n",
       "      <th>UnitPrice</th>\n",
       "      <th>CustomerID</th>\n",
       "      <th>Country</th>\n",
       "      <th>InvoiceNoPrefix</th>\n",
       "      <th>InvoiceNoPostfix</th>\n",
       "      <th>StockCodePrefix</th>\n",
       "      <th>StockCodePostfix</th>\n",
       "    </tr>\n",
       "  </thead>\n",
       "  <tbody>\n",
       "    <tr>\n",
       "      <th>1523</th>\n",
       "      <td>536569</td>\n",
       "      <td>M</td>\n",
       "      <td>Manual</td>\n",
       "      <td>1</td>\n",
       "      <td>2010-12-01 15:35:00</td>\n",
       "      <td>1.25</td>\n",
       "      <td>16274</td>\n",
       "      <td>United Kingdom</td>\n",
       "      <td></td>\n",
       "      <td></td>\n",
       "      <td>M</td>\n",
       "      <td>M</td>\n",
       "    </tr>\n",
       "    <tr>\n",
       "      <th>1534</th>\n",
       "      <td>536569</td>\n",
       "      <td>M</td>\n",
       "      <td>Manual</td>\n",
       "      <td>1</td>\n",
       "      <td>2010-12-01 15:35:00</td>\n",
       "      <td>18.95</td>\n",
       "      <td>16274</td>\n",
       "      <td>United Kingdom</td>\n",
       "      <td></td>\n",
       "      <td></td>\n",
       "      <td>M</td>\n",
       "      <td>M</td>\n",
       "    </tr>\n",
       "    <tr>\n",
       "      <th>4322</th>\n",
       "      <td>536981</td>\n",
       "      <td>M</td>\n",
       "      <td>Manual</td>\n",
       "      <td>2</td>\n",
       "      <td>2010-12-03 14:26:00</td>\n",
       "      <td>0.85</td>\n",
       "      <td>14723</td>\n",
       "      <td>United Kingdom</td>\n",
       "      <td></td>\n",
       "      <td></td>\n",
       "      <td>M</td>\n",
       "      <td>M</td>\n",
       "    </tr>\n",
       "    <tr>\n",
       "      <th>5149</th>\n",
       "      <td>537077</td>\n",
       "      <td>M</td>\n",
       "      <td>Manual</td>\n",
       "      <td>12</td>\n",
       "      <td>2010-12-05 11:59:00</td>\n",
       "      <td>0.42</td>\n",
       "      <td>17062</td>\n",
       "      <td>United Kingdom</td>\n",
       "      <td></td>\n",
       "      <td></td>\n",
       "      <td>M</td>\n",
       "      <td>M</td>\n",
       "    </tr>\n",
       "    <tr>\n",
       "      <th>5692</th>\n",
       "      <td>537137</td>\n",
       "      <td>M</td>\n",
       "      <td>Manual</td>\n",
       "      <td>36</td>\n",
       "      <td>2010-12-05 12:43:00</td>\n",
       "      <td>0.85</td>\n",
       "      <td>16327</td>\n",
       "      <td>United Kingdom</td>\n",
       "      <td></td>\n",
       "      <td></td>\n",
       "      <td>M</td>\n",
       "      <td>M</td>\n",
       "    </tr>\n",
       "  </tbody>\n",
       "</table>\n",
       "</div>"
      ],
      "text/plain": [
       "     InvoiceNo StockCode Description  Quantity         InvoiceDate  UnitPrice  \\\n",
       "1523    536569         M      Manual         1 2010-12-01 15:35:00       1.25   \n",
       "1534    536569         M      Manual         1 2010-12-01 15:35:00      18.95   \n",
       "4322    536981         M      Manual         2 2010-12-03 14:26:00       0.85   \n",
       "5149    537077         M      Manual        12 2010-12-05 11:59:00       0.42   \n",
       "5692    537137         M      Manual        36 2010-12-05 12:43:00       0.85   \n",
       "\n",
       "     CustomerID         Country InvoiceNoPrefix InvoiceNoPostfix  \\\n",
       "1523      16274  United Kingdom                                    \n",
       "1534      16274  United Kingdom                                    \n",
       "4322      14723  United Kingdom                                    \n",
       "5149      17062  United Kingdom                                    \n",
       "5692      16327  United Kingdom                                    \n",
       "\n",
       "     StockCodePrefix StockCodePostfix  \n",
       "1523               M                M  \n",
       "1534               M                M  \n",
       "4322               M                M  \n",
       "5149               M                M  \n",
       "5692               M                M  "
      ]
     },
     "execution_count": 33,
     "metadata": {},
     "output_type": "execute_result"
    }
   ],
   "source": [
    "mask = data[FT.STOCK_CODE_PREFIX.value] == 'M'\n",
    "data[mask].head()"
   ]
  },
  {
   "cell_type": "markdown",
   "metadata": {},
   "source": [
    "Посмотрим на описания."
   ]
  },
  {
   "cell_type": "code",
   "execution_count": 34,
   "metadata": {},
   "outputs": [
    {
     "data": {
      "text/plain": [
       "Manual    389\n",
       "Name: Description, dtype: int64"
      ]
     },
     "execution_count": 34,
     "metadata": {},
     "output_type": "execute_result"
    }
   ],
   "source": [
    "data[mask][F.DESCRIPTION.value].value_counts()"
   ]
  },
  {
   "cell_type": "markdown",
   "metadata": {},
   "source": [
    "Все описания имеют значение \"Manual\" - \"Руководство\".\\\n",
    "Более подробное исследование данного значения приводит к мысли о том, что это руководство к товарам.\\\n",
    "Удалим эти значения, потому как самостоятельным товаром они не являются."
   ]
  },
  {
   "cell_type": "code",
   "execution_count": 35,
   "metadata": {},
   "outputs": [],
   "source": [
    "data.drop(data[mask].index, inplace=True)"
   ]
  },
  {
   "cell_type": "markdown",
   "metadata": {},
   "source": [
    "### Скидки (StockCode == D)"
   ]
  },
  {
   "cell_type": "code",
   "execution_count": 36,
   "metadata": {},
   "outputs": [
    {
     "data": {
      "text/html": [
       "<div>\n",
       "<style scoped>\n",
       "    .dataframe tbody tr th:only-of-type {\n",
       "        vertical-align: middle;\n",
       "    }\n",
       "\n",
       "    .dataframe tbody tr th {\n",
       "        vertical-align: top;\n",
       "    }\n",
       "\n",
       "    .dataframe thead th {\n",
       "        text-align: right;\n",
       "    }\n",
       "</style>\n",
       "<table border=\"1\" class=\"dataframe\">\n",
       "  <thead>\n",
       "    <tr style=\"text-align: right;\">\n",
       "      <th></th>\n",
       "      <th>InvoiceNo</th>\n",
       "      <th>StockCode</th>\n",
       "      <th>Description</th>\n",
       "      <th>Quantity</th>\n",
       "      <th>InvoiceDate</th>\n",
       "      <th>UnitPrice</th>\n",
       "      <th>CustomerID</th>\n",
       "      <th>Country</th>\n",
       "      <th>InvoiceNoPrefix</th>\n",
       "      <th>InvoiceNoPostfix</th>\n",
       "      <th>StockCodePrefix</th>\n",
       "      <th>StockCodePostfix</th>\n",
       "    </tr>\n",
       "  </thead>\n",
       "  <tbody>\n",
       "    <tr>\n",
       "      <th>139</th>\n",
       "      <td>C536379</td>\n",
       "      <td>D</td>\n",
       "      <td>Discount</td>\n",
       "      <td>-1</td>\n",
       "      <td>2010-12-01 09:41:00</td>\n",
       "      <td>27.50</td>\n",
       "      <td>14527</td>\n",
       "      <td>United Kingdom</td>\n",
       "      <td>C</td>\n",
       "      <td></td>\n",
       "      <td>D</td>\n",
       "      <td>D</td>\n",
       "    </tr>\n",
       "    <tr>\n",
       "      <th>6118</th>\n",
       "      <td>C537164</td>\n",
       "      <td>D</td>\n",
       "      <td>Discount</td>\n",
       "      <td>-1</td>\n",
       "      <td>2010-12-05 13:21:00</td>\n",
       "      <td>29.29</td>\n",
       "      <td>14527</td>\n",
       "      <td>United Kingdom</td>\n",
       "      <td>C</td>\n",
       "      <td></td>\n",
       "      <td>D</td>\n",
       "      <td>D</td>\n",
       "    </tr>\n",
       "    <tr>\n",
       "      <th>9120</th>\n",
       "      <td>C537597</td>\n",
       "      <td>D</td>\n",
       "      <td>Discount</td>\n",
       "      <td>-1</td>\n",
       "      <td>2010-12-07 12:34:00</td>\n",
       "      <td>281.00</td>\n",
       "      <td>15498</td>\n",
       "      <td>United Kingdom</td>\n",
       "      <td>C</td>\n",
       "      <td></td>\n",
       "      <td>D</td>\n",
       "      <td>D</td>\n",
       "    </tr>\n",
       "    <tr>\n",
       "      <th>11356</th>\n",
       "      <td>C537857</td>\n",
       "      <td>D</td>\n",
       "      <td>Discount</td>\n",
       "      <td>-1</td>\n",
       "      <td>2010-12-08 16:00:00</td>\n",
       "      <td>267.12</td>\n",
       "      <td>17340</td>\n",
       "      <td>United Kingdom</td>\n",
       "      <td>C</td>\n",
       "      <td></td>\n",
       "      <td>D</td>\n",
       "      <td>D</td>\n",
       "    </tr>\n",
       "    <tr>\n",
       "      <th>18236</th>\n",
       "      <td>C538897</td>\n",
       "      <td>D</td>\n",
       "      <td>Discount</td>\n",
       "      <td>-1</td>\n",
       "      <td>2010-12-15 09:14:00</td>\n",
       "      <td>5.76</td>\n",
       "      <td>16422</td>\n",
       "      <td>United Kingdom</td>\n",
       "      <td>C</td>\n",
       "      <td></td>\n",
       "      <td>D</td>\n",
       "      <td>D</td>\n",
       "    </tr>\n",
       "  </tbody>\n",
       "</table>\n",
       "</div>"
      ],
      "text/plain": [
       "      InvoiceNo StockCode Description  Quantity         InvoiceDate  \\\n",
       "139     C536379         D    Discount        -1 2010-12-01 09:41:00   \n",
       "6118    C537164         D    Discount        -1 2010-12-05 13:21:00   \n",
       "9120    C537597         D    Discount        -1 2010-12-07 12:34:00   \n",
       "11356   C537857         D    Discount        -1 2010-12-08 16:00:00   \n",
       "18236   C538897         D    Discount        -1 2010-12-15 09:14:00   \n",
       "\n",
       "       UnitPrice CustomerID         Country InvoiceNoPrefix InvoiceNoPostfix  \\\n",
       "139        27.50      14527  United Kingdom               C                    \n",
       "6118       29.29      14527  United Kingdom               C                    \n",
       "9120      281.00      15498  United Kingdom               C                    \n",
       "11356     267.12      17340  United Kingdom               C                    \n",
       "18236       5.76      16422  United Kingdom               C                    \n",
       "\n",
       "      StockCodePrefix StockCodePostfix  \n",
       "139                 D                D  \n",
       "6118                D                D  \n",
       "9120                D                D  \n",
       "11356               D                D  \n",
       "18236               D                D  "
      ]
     },
     "execution_count": 36,
     "metadata": {},
     "output_type": "execute_result"
    }
   ],
   "source": [
    "mask = data[FT.STOCK_CODE_PREFIX.value] == 'D'\n",
    "data[mask].head()"
   ]
  },
  {
   "cell_type": "markdown",
   "metadata": {},
   "source": [
    "Посмотрим на описания."
   ]
  },
  {
   "cell_type": "code",
   "execution_count": 37,
   "metadata": {},
   "outputs": [
    {
     "data": {
      "text/plain": [
       "Discount    70\n",
       "Name: Description, dtype: int64"
      ]
     },
     "execution_count": 37,
     "metadata": {},
     "output_type": "execute_result"
    }
   ],
   "source": [
    "data[mask][F.DESCRIPTION.value].value_counts()"
   ]
  },
  {
   "cell_type": "markdown",
   "metadata": {},
   "source": [
    "Все транзакции имеют описание \"Discount\" - \"Скидка\".\\\n",
    "Посмотрим на распределение числовых признаков в таких транзакциях."
   ]
  },
  {
   "cell_type": "code",
   "execution_count": 38,
   "metadata": {},
   "outputs": [
    {
     "data": {
      "text/html": [
       "<div>\n",
       "<style scoped>\n",
       "    .dataframe tbody tr th:only-of-type {\n",
       "        vertical-align: middle;\n",
       "    }\n",
       "\n",
       "    .dataframe tbody tr th {\n",
       "        vertical-align: top;\n",
       "    }\n",
       "\n",
       "    .dataframe thead th {\n",
       "        text-align: right;\n",
       "    }\n",
       "</style>\n",
       "<table border=\"1\" class=\"dataframe\">\n",
       "  <thead>\n",
       "    <tr style=\"text-align: right;\">\n",
       "      <th></th>\n",
       "      <th>Quantity</th>\n",
       "      <th>UnitPrice</th>\n",
       "    </tr>\n",
       "  </thead>\n",
       "  <tbody>\n",
       "    <tr>\n",
       "      <th>count</th>\n",
       "      <td>70.000000</td>\n",
       "      <td>70.000000</td>\n",
       "    </tr>\n",
       "    <tr>\n",
       "      <th>mean</th>\n",
       "      <td>-16.285714</td>\n",
       "      <td>74.806143</td>\n",
       "    </tr>\n",
       "    <tr>\n",
       "      <th>std</th>\n",
       "      <td>90.653048</td>\n",
       "      <td>229.291132</td>\n",
       "    </tr>\n",
       "    <tr>\n",
       "      <th>min</th>\n",
       "      <td>-720.000000</td>\n",
       "      <td>0.010000</td>\n",
       "    </tr>\n",
       "    <tr>\n",
       "      <th>25%</th>\n",
       "      <td>-1.000000</td>\n",
       "      <td>13.907500</td>\n",
       "    </tr>\n",
       "    <tr>\n",
       "      <th>50%</th>\n",
       "      <td>-1.000000</td>\n",
       "      <td>23.120000</td>\n",
       "    </tr>\n",
       "    <tr>\n",
       "      <th>75%</th>\n",
       "      <td>-1.000000</td>\n",
       "      <td>54.532500</td>\n",
       "    </tr>\n",
       "    <tr>\n",
       "      <th>max</th>\n",
       "      <td>-1.000000</td>\n",
       "      <td>1867.860000</td>\n",
       "    </tr>\n",
       "  </tbody>\n",
       "</table>\n",
       "</div>"
      ],
      "text/plain": [
       "         Quantity    UnitPrice\n",
       "count   70.000000    70.000000\n",
       "mean   -16.285714    74.806143\n",
       "std     90.653048   229.291132\n",
       "min   -720.000000     0.010000\n",
       "25%     -1.000000    13.907500\n",
       "50%     -1.000000    23.120000\n",
       "75%     -1.000000    54.532500\n",
       "max     -1.000000  1867.860000"
      ]
     },
     "execution_count": 38,
     "metadata": {},
     "output_type": "execute_result"
    }
   ],
   "source": [
    "data[mask].describe()"
   ]
  },
  {
   "cell_type": "markdown",
   "metadata": {},
   "source": [
    "`Quantity` (количество) в них всегда имеет отрицательное значение.\\\n",
    "Также удалим их, потому что они не являются самостоятельно покупаемыми товарами, \\\n",
    "а являются скидками на товары из заказа."
   ]
  },
  {
   "cell_type": "code",
   "execution_count": 39,
   "metadata": {},
   "outputs": [],
   "source": [
    "data.drop(data[mask].index, inplace=True)"
   ]
  },
  {
   "cell_type": "markdown",
   "metadata": {},
   "source": [
    "### Почтовые расходы 2 (StockCode == DOT)"
   ]
  },
  {
   "cell_type": "code",
   "execution_count": 40,
   "metadata": {},
   "outputs": [
    {
     "data": {
      "text/html": [
       "<div>\n",
       "<style scoped>\n",
       "    .dataframe tbody tr th:only-of-type {\n",
       "        vertical-align: middle;\n",
       "    }\n",
       "\n",
       "    .dataframe tbody tr th {\n",
       "        vertical-align: top;\n",
       "    }\n",
       "\n",
       "    .dataframe thead th {\n",
       "        text-align: right;\n",
       "    }\n",
       "</style>\n",
       "<table border=\"1\" class=\"dataframe\">\n",
       "  <thead>\n",
       "    <tr style=\"text-align: right;\">\n",
       "      <th></th>\n",
       "      <th>InvoiceNo</th>\n",
       "      <th>StockCode</th>\n",
       "      <th>Description</th>\n",
       "      <th>Quantity</th>\n",
       "      <th>InvoiceDate</th>\n",
       "      <th>UnitPrice</th>\n",
       "      <th>CustomerID</th>\n",
       "      <th>Country</th>\n",
       "      <th>InvoiceNoPrefix</th>\n",
       "      <th>InvoiceNoPostfix</th>\n",
       "      <th>StockCodePrefix</th>\n",
       "      <th>StockCodePostfix</th>\n",
       "    </tr>\n",
       "  </thead>\n",
       "  <tbody>\n",
       "    <tr>\n",
       "      <th>202403</th>\n",
       "      <td>564764</td>\n",
       "      <td>DOT</td>\n",
       "      <td>DOTCOM POSTAGE</td>\n",
       "      <td>1</td>\n",
       "      <td>2011-08-30 10:49:00</td>\n",
       "      <td>11.17</td>\n",
       "      <td>14096</td>\n",
       "      <td>United Kingdom</td>\n",
       "      <td></td>\n",
       "      <td></td>\n",
       "      <td>DOT</td>\n",
       "      <td>DOT</td>\n",
       "    </tr>\n",
       "    <tr>\n",
       "      <th>205367</th>\n",
       "      <td>565383</td>\n",
       "      <td>DOT</td>\n",
       "      <td>DOTCOM POSTAGE</td>\n",
       "      <td>1</td>\n",
       "      <td>2011-09-02 15:45:00</td>\n",
       "      <td>16.46</td>\n",
       "      <td>14096</td>\n",
       "      <td>United Kingdom</td>\n",
       "      <td></td>\n",
       "      <td></td>\n",
       "      <td>DOT</td>\n",
       "      <td>DOT</td>\n",
       "    </tr>\n",
       "    <tr>\n",
       "      <th>212531</th>\n",
       "      <td>566217</td>\n",
       "      <td>DOT</td>\n",
       "      <td>DOTCOM POSTAGE</td>\n",
       "      <td>1</td>\n",
       "      <td>2011-09-09 15:17:00</td>\n",
       "      <td>13.16</td>\n",
       "      <td>14096</td>\n",
       "      <td>United Kingdom</td>\n",
       "      <td></td>\n",
       "      <td></td>\n",
       "      <td>DOT</td>\n",
       "      <td>DOT</td>\n",
       "    </tr>\n",
       "    <tr>\n",
       "      <th>216613</th>\n",
       "      <td>566566</td>\n",
       "      <td>DOT</td>\n",
       "      <td>DOTCOM POSTAGE</td>\n",
       "      <td>1</td>\n",
       "      <td>2011-09-13 12:32:00</td>\n",
       "      <td>85.58</td>\n",
       "      <td>14096</td>\n",
       "      <td>United Kingdom</td>\n",
       "      <td></td>\n",
       "      <td></td>\n",
       "      <td>DOT</td>\n",
       "      <td>DOT</td>\n",
       "    </tr>\n",
       "    <tr>\n",
       "      <th>225445</th>\n",
       "      <td>567656</td>\n",
       "      <td>DOT</td>\n",
       "      <td>DOTCOM POSTAGE</td>\n",
       "      <td>1</td>\n",
       "      <td>2011-09-21 14:40:00</td>\n",
       "      <td>878.55</td>\n",
       "      <td>14096</td>\n",
       "      <td>United Kingdom</td>\n",
       "      <td></td>\n",
       "      <td></td>\n",
       "      <td>DOT</td>\n",
       "      <td>DOT</td>\n",
       "    </tr>\n",
       "  </tbody>\n",
       "</table>\n",
       "</div>"
      ],
      "text/plain": [
       "       InvoiceNo StockCode     Description  Quantity         InvoiceDate  \\\n",
       "202403    564764       DOT  DOTCOM POSTAGE         1 2011-08-30 10:49:00   \n",
       "205367    565383       DOT  DOTCOM POSTAGE         1 2011-09-02 15:45:00   \n",
       "212531    566217       DOT  DOTCOM POSTAGE         1 2011-09-09 15:17:00   \n",
       "216613    566566       DOT  DOTCOM POSTAGE         1 2011-09-13 12:32:00   \n",
       "225445    567656       DOT  DOTCOM POSTAGE         1 2011-09-21 14:40:00   \n",
       "\n",
       "        UnitPrice CustomerID         Country InvoiceNoPrefix InvoiceNoPostfix  \\\n",
       "202403      11.17      14096  United Kingdom                                    \n",
       "205367      16.46      14096  United Kingdom                                    \n",
       "212531      13.16      14096  United Kingdom                                    \n",
       "216613      85.58      14096  United Kingdom                                    \n",
       "225445     878.55      14096  United Kingdom                                    \n",
       "\n",
       "       StockCodePrefix StockCodePostfix  \n",
       "202403             DOT              DOT  \n",
       "205367             DOT              DOT  \n",
       "212531             DOT              DOT  \n",
       "216613             DOT              DOT  \n",
       "225445             DOT              DOT  "
      ]
     },
     "execution_count": 40,
     "metadata": {},
     "output_type": "execute_result"
    }
   ],
   "source": [
    "mask = data[FT.STOCK_CODE_PREFIX.value] == 'DOT'\n",
    "data[mask].head()"
   ]
  },
  {
   "cell_type": "markdown",
   "metadata": {},
   "source": [
    "Посмотрим на описания."
   ]
  },
  {
   "cell_type": "code",
   "execution_count": 41,
   "metadata": {},
   "outputs": [
    {
     "data": {
      "text/plain": [
       "DOTCOM POSTAGE    16\n",
       "Name: Description, dtype: int64"
      ]
     },
     "execution_count": 41,
     "metadata": {},
     "output_type": "execute_result"
    }
   ],
   "source": [
    "data[mask][F.DESCRIPTION.value].value_counts()"
   ]
  },
  {
   "cell_type": "markdown",
   "metadata": {},
   "source": [
    "Все описания имеют значение \"DOTCOM POSTAGE\" - \"ДОТКОМ ПОЧТОВЫЕ РАСХОДЫ\".\\\n",
    "Также удалим эти транзакции."
   ]
  },
  {
   "cell_type": "code",
   "execution_count": 42,
   "metadata": {},
   "outputs": [],
   "source": [
    "data.drop(data[mask].index, inplace=True)"
   ]
  },
  {
   "cell_type": "markdown",
   "metadata": {},
   "source": [
    "### Комиссия (StockCode == CRUK)"
   ]
  },
  {
   "cell_type": "code",
   "execution_count": 43,
   "metadata": {},
   "outputs": [
    {
     "data": {
      "text/html": [
       "<div>\n",
       "<style scoped>\n",
       "    .dataframe tbody tr th:only-of-type {\n",
       "        vertical-align: middle;\n",
       "    }\n",
       "\n",
       "    .dataframe tbody tr th {\n",
       "        vertical-align: top;\n",
       "    }\n",
       "\n",
       "    .dataframe thead th {\n",
       "        text-align: right;\n",
       "    }\n",
       "</style>\n",
       "<table border=\"1\" class=\"dataframe\">\n",
       "  <thead>\n",
       "    <tr style=\"text-align: right;\">\n",
       "      <th></th>\n",
       "      <th>InvoiceNo</th>\n",
       "      <th>StockCode</th>\n",
       "      <th>Description</th>\n",
       "      <th>Quantity</th>\n",
       "      <th>InvoiceDate</th>\n",
       "      <th>UnitPrice</th>\n",
       "      <th>CustomerID</th>\n",
       "      <th>Country</th>\n",
       "      <th>InvoiceNoPrefix</th>\n",
       "      <th>InvoiceNoPostfix</th>\n",
       "      <th>StockCodePrefix</th>\n",
       "      <th>StockCodePostfix</th>\n",
       "    </tr>\n",
       "  </thead>\n",
       "  <tbody>\n",
       "    <tr>\n",
       "      <th>202404</th>\n",
       "      <td>C564763</td>\n",
       "      <td>CRUK</td>\n",
       "      <td>CRUK Commission</td>\n",
       "      <td>-1</td>\n",
       "      <td>2011-08-30 10:49:00</td>\n",
       "      <td>1.60</td>\n",
       "      <td>14096</td>\n",
       "      <td>United Kingdom</td>\n",
       "      <td>C</td>\n",
       "      <td></td>\n",
       "      <td>CRUK</td>\n",
       "      <td>CRUK</td>\n",
       "    </tr>\n",
       "    <tr>\n",
       "      <th>205388</th>\n",
       "      <td>C565382</td>\n",
       "      <td>CRUK</td>\n",
       "      <td>CRUK Commission</td>\n",
       "      <td>-1</td>\n",
       "      <td>2011-09-02 15:45:00</td>\n",
       "      <td>13.01</td>\n",
       "      <td>14096</td>\n",
       "      <td>United Kingdom</td>\n",
       "      <td>C</td>\n",
       "      <td></td>\n",
       "      <td>CRUK</td>\n",
       "      <td>CRUK</td>\n",
       "    </tr>\n",
       "    <tr>\n",
       "      <th>212555</th>\n",
       "      <td>C566216</td>\n",
       "      <td>CRUK</td>\n",
       "      <td>CRUK Commission</td>\n",
       "      <td>-1</td>\n",
       "      <td>2011-09-09 15:17:00</td>\n",
       "      <td>15.96</td>\n",
       "      <td>14096</td>\n",
       "      <td>United Kingdom</td>\n",
       "      <td>C</td>\n",
       "      <td></td>\n",
       "      <td>CRUK</td>\n",
       "      <td>CRUK</td>\n",
       "    </tr>\n",
       "    <tr>\n",
       "      <th>216632</th>\n",
       "      <td>C566565</td>\n",
       "      <td>CRUK</td>\n",
       "      <td>CRUK Commission</td>\n",
       "      <td>-1</td>\n",
       "      <td>2011-09-13 12:32:00</td>\n",
       "      <td>52.24</td>\n",
       "      <td>14096</td>\n",
       "      <td>United Kingdom</td>\n",
       "      <td>C</td>\n",
       "      <td></td>\n",
       "      <td>CRUK</td>\n",
       "      <td>CRUK</td>\n",
       "    </tr>\n",
       "    <tr>\n",
       "      <th>225849</th>\n",
       "      <td>C567655</td>\n",
       "      <td>CRUK</td>\n",
       "      <td>CRUK Commission</td>\n",
       "      <td>-1</td>\n",
       "      <td>2011-09-21 14:40:00</td>\n",
       "      <td>608.66</td>\n",
       "      <td>14096</td>\n",
       "      <td>United Kingdom</td>\n",
       "      <td>C</td>\n",
       "      <td></td>\n",
       "      <td>CRUK</td>\n",
       "      <td>CRUK</td>\n",
       "    </tr>\n",
       "  </tbody>\n",
       "</table>\n",
       "</div>"
      ],
      "text/plain": [
       "       InvoiceNo StockCode      Description  Quantity         InvoiceDate  \\\n",
       "202404   C564763      CRUK  CRUK Commission        -1 2011-08-30 10:49:00   \n",
       "205388   C565382      CRUK  CRUK Commission        -1 2011-09-02 15:45:00   \n",
       "212555   C566216      CRUK  CRUK Commission        -1 2011-09-09 15:17:00   \n",
       "216632   C566565      CRUK  CRUK Commission        -1 2011-09-13 12:32:00   \n",
       "225849   C567655      CRUK  CRUK Commission        -1 2011-09-21 14:40:00   \n",
       "\n",
       "        UnitPrice CustomerID         Country InvoiceNoPrefix InvoiceNoPostfix  \\\n",
       "202404       1.60      14096  United Kingdom               C                    \n",
       "205388      13.01      14096  United Kingdom               C                    \n",
       "212555      15.96      14096  United Kingdom               C                    \n",
       "216632      52.24      14096  United Kingdom               C                    \n",
       "225849     608.66      14096  United Kingdom               C                    \n",
       "\n",
       "       StockCodePrefix StockCodePostfix  \n",
       "202404            CRUK             CRUK  \n",
       "205388            CRUK             CRUK  \n",
       "212555            CRUK             CRUK  \n",
       "216632            CRUK             CRUK  \n",
       "225849            CRUK             CRUK  "
      ]
     },
     "execution_count": 43,
     "metadata": {},
     "output_type": "execute_result"
    }
   ],
   "source": [
    "mask = data[FT.STOCK_CODE_PREFIX.value] == 'CRUK'\n",
    "data[mask].head()"
   ]
  },
  {
   "cell_type": "markdown",
   "metadata": {},
   "source": [
    "Посмотрим на описания."
   ]
  },
  {
   "cell_type": "code",
   "execution_count": 44,
   "metadata": {},
   "outputs": [
    {
     "data": {
      "text/plain": [
       "CRUK Commission    16\n",
       "Name: Description, dtype: int64"
      ]
     },
     "execution_count": 44,
     "metadata": {},
     "output_type": "execute_result"
    }
   ],
   "source": [
    "data[mask][F.DESCRIPTION.value].value_counts()"
   ]
  },
  {
   "cell_type": "markdown",
   "metadata": {},
   "source": [
    "Все описания имеют значение \"CRUK Commission\" - \"Комиссия\".\\\n",
    "Посмотрим на распределение числовых значений в данных транзакциях."
   ]
  },
  {
   "cell_type": "code",
   "execution_count": 45,
   "metadata": {},
   "outputs": [
    {
     "data": {
      "text/html": [
       "<div>\n",
       "<style scoped>\n",
       "    .dataframe tbody tr th:only-of-type {\n",
       "        vertical-align: middle;\n",
       "    }\n",
       "\n",
       "    .dataframe tbody tr th {\n",
       "        vertical-align: top;\n",
       "    }\n",
       "\n",
       "    .dataframe thead th {\n",
       "        text-align: right;\n",
       "    }\n",
       "</style>\n",
       "<table border=\"1\" class=\"dataframe\">\n",
       "  <thead>\n",
       "    <tr style=\"text-align: right;\">\n",
       "      <th></th>\n",
       "      <th>Quantity</th>\n",
       "      <th>UnitPrice</th>\n",
       "    </tr>\n",
       "  </thead>\n",
       "  <tbody>\n",
       "    <tr>\n",
       "      <th>count</th>\n",
       "      <td>16.0</td>\n",
       "      <td>16.000000</td>\n",
       "    </tr>\n",
       "    <tr>\n",
       "      <th>mean</th>\n",
       "      <td>-1.0</td>\n",
       "      <td>495.839375</td>\n",
       "    </tr>\n",
       "    <tr>\n",
       "      <th>std</th>\n",
       "      <td>0.0</td>\n",
       "      <td>364.164786</td>\n",
       "    </tr>\n",
       "    <tr>\n",
       "      <th>min</th>\n",
       "      <td>-1.0</td>\n",
       "      <td>1.600000</td>\n",
       "    </tr>\n",
       "    <tr>\n",
       "      <th>25%</th>\n",
       "      <td>-1.0</td>\n",
       "      <td>284.252500</td>\n",
       "    </tr>\n",
       "    <tr>\n",
       "      <th>50%</th>\n",
       "      <td>-1.0</td>\n",
       "      <td>471.770000</td>\n",
       "    </tr>\n",
       "    <tr>\n",
       "      <th>75%</th>\n",
       "      <td>-1.0</td>\n",
       "      <td>668.977500</td>\n",
       "    </tr>\n",
       "    <tr>\n",
       "      <th>max</th>\n",
       "      <td>-1.0</td>\n",
       "      <td>1100.440000</td>\n",
       "    </tr>\n",
       "  </tbody>\n",
       "</table>\n",
       "</div>"
      ],
      "text/plain": [
       "       Quantity    UnitPrice\n",
       "count      16.0    16.000000\n",
       "mean       -1.0   495.839375\n",
       "std         0.0   364.164786\n",
       "min        -1.0     1.600000\n",
       "25%        -1.0   284.252500\n",
       "50%        -1.0   471.770000\n",
       "75%        -1.0   668.977500\n",
       "max        -1.0  1100.440000"
      ]
     },
     "execution_count": 45,
     "metadata": {},
     "output_type": "execute_result"
    }
   ],
   "source": [
    "data[mask].describe()"
   ]
  },
  {
   "cell_type": "markdown",
   "metadata": {},
   "source": [
    "Значение `Quantity` везде равно `-1`.\\\n",
    "Похоже, что это общая комиссия к каждому заказу.\\\n",
    "Также удалим эти транзакции."
   ]
  },
  {
   "cell_type": "code",
   "execution_count": 46,
   "metadata": {},
   "outputs": [],
   "source": [
    "data.drop(data[mask].index, inplace=True)"
   ]
  },
  {
   "cell_type": "markdown",
   "metadata": {},
   "source": [
    "### Банковские сборы (StockCode == BANK CHARGES)"
   ]
  },
  {
   "cell_type": "code",
   "execution_count": 47,
   "metadata": {},
   "outputs": [
    {
     "data": {
      "text/html": [
       "<div>\n",
       "<style scoped>\n",
       "    .dataframe tbody tr th:only-of-type {\n",
       "        vertical-align: middle;\n",
       "    }\n",
       "\n",
       "    .dataframe tbody tr th {\n",
       "        vertical-align: top;\n",
       "    }\n",
       "\n",
       "    .dataframe thead th {\n",
       "        text-align: right;\n",
       "    }\n",
       "</style>\n",
       "<table border=\"1\" class=\"dataframe\">\n",
       "  <thead>\n",
       "    <tr style=\"text-align: right;\">\n",
       "      <th></th>\n",
       "      <th>InvoiceNo</th>\n",
       "      <th>StockCode</th>\n",
       "      <th>Description</th>\n",
       "      <th>Quantity</th>\n",
       "      <th>InvoiceDate</th>\n",
       "      <th>UnitPrice</th>\n",
       "      <th>CustomerID</th>\n",
       "      <th>Country</th>\n",
       "      <th>InvoiceNoPrefix</th>\n",
       "      <th>InvoiceNoPostfix</th>\n",
       "      <th>StockCodePrefix</th>\n",
       "      <th>StockCodePostfix</th>\n",
       "    </tr>\n",
       "  </thead>\n",
       "  <tbody>\n",
       "    <tr>\n",
       "      <th>2931</th>\n",
       "      <td>536779</td>\n",
       "      <td>BANK CHARGES</td>\n",
       "      <td>Bank Charges</td>\n",
       "      <td>1</td>\n",
       "      <td>2010-12-02 15:08:00</td>\n",
       "      <td>15.000</td>\n",
       "      <td>15823</td>\n",
       "      <td>United Kingdom</td>\n",
       "      <td></td>\n",
       "      <td></td>\n",
       "      <td>BANK CHARGES</td>\n",
       "      <td>BANK CHARGES</td>\n",
       "    </tr>\n",
       "    <tr>\n",
       "      <th>33701</th>\n",
       "      <td>541505</td>\n",
       "      <td>BANK CHARGES</td>\n",
       "      <td>Bank Charges</td>\n",
       "      <td>1</td>\n",
       "      <td>2011-01-18 15:58:00</td>\n",
       "      <td>15.000</td>\n",
       "      <td>15939</td>\n",
       "      <td>United Kingdom</td>\n",
       "      <td></td>\n",
       "      <td></td>\n",
       "      <td>BANK CHARGES</td>\n",
       "      <td>BANK CHARGES</td>\n",
       "    </tr>\n",
       "    <tr>\n",
       "      <th>208690</th>\n",
       "      <td>565735</td>\n",
       "      <td>BANK CHARGES</td>\n",
       "      <td>Bank Charges</td>\n",
       "      <td>1</td>\n",
       "      <td>2011-09-06 12:25:00</td>\n",
       "      <td>15.000</td>\n",
       "      <td>16904</td>\n",
       "      <td>United Kingdom</td>\n",
       "      <td></td>\n",
       "      <td></td>\n",
       "      <td>BANK CHARGES</td>\n",
       "      <td>BANK CHARGES</td>\n",
       "    </tr>\n",
       "    <tr>\n",
       "      <th>233494</th>\n",
       "      <td>568375</td>\n",
       "      <td>BANK CHARGES</td>\n",
       "      <td>Bank Charges</td>\n",
       "      <td>1</td>\n",
       "      <td>2011-09-26 17:01:00</td>\n",
       "      <td>15.000</td>\n",
       "      <td>13405</td>\n",
       "      <td>United Kingdom</td>\n",
       "      <td></td>\n",
       "      <td></td>\n",
       "      <td>BANK CHARGES</td>\n",
       "      <td>BANK CHARGES</td>\n",
       "    </tr>\n",
       "    <tr>\n",
       "      <th>233495</th>\n",
       "      <td>568375</td>\n",
       "      <td>BANK CHARGES</td>\n",
       "      <td>Bank Charges</td>\n",
       "      <td>1</td>\n",
       "      <td>2011-09-26 17:01:00</td>\n",
       "      <td>0.001</td>\n",
       "      <td>13405</td>\n",
       "      <td>United Kingdom</td>\n",
       "      <td></td>\n",
       "      <td></td>\n",
       "      <td>BANK CHARGES</td>\n",
       "      <td>BANK CHARGES</td>\n",
       "    </tr>\n",
       "    <tr>\n",
       "      <th>267272</th>\n",
       "      <td>571900</td>\n",
       "      <td>BANK CHARGES</td>\n",
       "      <td>Bank Charges</td>\n",
       "      <td>1</td>\n",
       "      <td>2011-10-19 14:26:00</td>\n",
       "      <td>15.000</td>\n",
       "      <td>13263</td>\n",
       "      <td>United Kingdom</td>\n",
       "      <td></td>\n",
       "      <td></td>\n",
       "      <td>BANK CHARGES</td>\n",
       "      <td>BANK CHARGES</td>\n",
       "    </tr>\n",
       "    <tr>\n",
       "      <th>292581</th>\n",
       "      <td>574546</td>\n",
       "      <td>BANK CHARGES</td>\n",
       "      <td>Bank Charges</td>\n",
       "      <td>1</td>\n",
       "      <td>2011-11-04 14:59:00</td>\n",
       "      <td>15.000</td>\n",
       "      <td>13651</td>\n",
       "      <td>United Kingdom</td>\n",
       "      <td></td>\n",
       "      <td></td>\n",
       "      <td>BANK CHARGES</td>\n",
       "      <td>BANK CHARGES</td>\n",
       "    </tr>\n",
       "    <tr>\n",
       "      <th>356444</th>\n",
       "      <td>581127</td>\n",
       "      <td>BANK CHARGES</td>\n",
       "      <td>Bank Charges</td>\n",
       "      <td>1</td>\n",
       "      <td>2011-12-07 12:45:00</td>\n",
       "      <td>15.000</td>\n",
       "      <td>16271</td>\n",
       "      <td>United Kingdom</td>\n",
       "      <td></td>\n",
       "      <td></td>\n",
       "      <td>BANK CHARGES</td>\n",
       "      <td>BANK CHARGES</td>\n",
       "    </tr>\n",
       "  </tbody>\n",
       "</table>\n",
       "</div>"
      ],
      "text/plain": [
       "       InvoiceNo     StockCode   Description  Quantity         InvoiceDate  \\\n",
       "2931      536779  BANK CHARGES  Bank Charges         1 2010-12-02 15:08:00   \n",
       "33701     541505  BANK CHARGES  Bank Charges         1 2011-01-18 15:58:00   \n",
       "208690    565735  BANK CHARGES  Bank Charges         1 2011-09-06 12:25:00   \n",
       "233494    568375  BANK CHARGES  Bank Charges         1 2011-09-26 17:01:00   \n",
       "233495    568375  BANK CHARGES  Bank Charges         1 2011-09-26 17:01:00   \n",
       "267272    571900  BANK CHARGES  Bank Charges         1 2011-10-19 14:26:00   \n",
       "292581    574546  BANK CHARGES  Bank Charges         1 2011-11-04 14:59:00   \n",
       "356444    581127  BANK CHARGES  Bank Charges         1 2011-12-07 12:45:00   \n",
       "\n",
       "        UnitPrice CustomerID         Country InvoiceNoPrefix InvoiceNoPostfix  \\\n",
       "2931       15.000      15823  United Kingdom                                    \n",
       "33701      15.000      15939  United Kingdom                                    \n",
       "208690     15.000      16904  United Kingdom                                    \n",
       "233494     15.000      13405  United Kingdom                                    \n",
       "233495      0.001      13405  United Kingdom                                    \n",
       "267272     15.000      13263  United Kingdom                                    \n",
       "292581     15.000      13651  United Kingdom                                    \n",
       "356444     15.000      16271  United Kingdom                                    \n",
       "\n",
       "       StockCodePrefix StockCodePostfix  \n",
       "2931      BANK CHARGES     BANK CHARGES  \n",
       "33701     BANK CHARGES     BANK CHARGES  \n",
       "208690    BANK CHARGES     BANK CHARGES  \n",
       "233494    BANK CHARGES     BANK CHARGES  \n",
       "233495    BANK CHARGES     BANK CHARGES  \n",
       "267272    BANK CHARGES     BANK CHARGES  \n",
       "292581    BANK CHARGES     BANK CHARGES  \n",
       "356444    BANK CHARGES     BANK CHARGES  "
      ]
     },
     "execution_count": 47,
     "metadata": {},
     "output_type": "execute_result"
    }
   ],
   "source": [
    "mask = data[FT.STOCK_CODE_PREFIX.value] == 'BANK CHARGES'\n",
    "data[mask]"
   ]
  },
  {
   "cell_type": "markdown",
   "metadata": {},
   "source": [
    "Описание везде имеет значение \"Bank Charges\" - \"Банковские сборы\".\\\n",
    "Также удалим эти транзации."
   ]
  },
  {
   "cell_type": "code",
   "execution_count": 48,
   "metadata": {},
   "outputs": [],
   "source": [
    "data.drop(data[mask].index, inplace=True)"
   ]
  },
  {
   "cell_type": "markdown",
   "metadata": {},
   "source": [
    "### Подушки (StockCode == PADS)"
   ]
  },
  {
   "cell_type": "code",
   "execution_count": 49,
   "metadata": {},
   "outputs": [
    {
     "data": {
      "text/html": [
       "<div>\n",
       "<style scoped>\n",
       "    .dataframe tbody tr th:only-of-type {\n",
       "        vertical-align: middle;\n",
       "    }\n",
       "\n",
       "    .dataframe tbody tr th {\n",
       "        vertical-align: top;\n",
       "    }\n",
       "\n",
       "    .dataframe thead th {\n",
       "        text-align: right;\n",
       "    }\n",
       "</style>\n",
       "<table border=\"1\" class=\"dataframe\">\n",
       "  <thead>\n",
       "    <tr style=\"text-align: right;\">\n",
       "      <th></th>\n",
       "      <th>InvoiceNo</th>\n",
       "      <th>StockCode</th>\n",
       "      <th>Description</th>\n",
       "      <th>Quantity</th>\n",
       "      <th>InvoiceDate</th>\n",
       "      <th>UnitPrice</th>\n",
       "      <th>CustomerID</th>\n",
       "      <th>Country</th>\n",
       "      <th>InvoiceNoPrefix</th>\n",
       "      <th>InvoiceNoPostfix</th>\n",
       "      <th>StockCodePrefix</th>\n",
       "      <th>StockCodePostfix</th>\n",
       "    </tr>\n",
       "  </thead>\n",
       "  <tbody>\n",
       "    <tr>\n",
       "      <th>96504</th>\n",
       "      <td>550193</td>\n",
       "      <td>PADS</td>\n",
       "      <td>PADS TO MATCH ALL CUSHIONS</td>\n",
       "      <td>1</td>\n",
       "      <td>2011-04-15 09:27:00</td>\n",
       "      <td>0.001</td>\n",
       "      <td>13952</td>\n",
       "      <td>United Kingdom</td>\n",
       "      <td></td>\n",
       "      <td></td>\n",
       "      <td>PADS</td>\n",
       "      <td>PADS</td>\n",
       "    </tr>\n",
       "    <tr>\n",
       "      <th>174753</th>\n",
       "      <td>561226</td>\n",
       "      <td>PADS</td>\n",
       "      <td>PADS TO MATCH ALL CUSHIONS</td>\n",
       "      <td>1</td>\n",
       "      <td>2011-07-26 10:13:00</td>\n",
       "      <td>0.001</td>\n",
       "      <td>15618</td>\n",
       "      <td>United Kingdom</td>\n",
       "      <td></td>\n",
       "      <td></td>\n",
       "      <td>PADS</td>\n",
       "      <td>PADS</td>\n",
       "    </tr>\n",
       "    <tr>\n",
       "      <th>230589</th>\n",
       "      <td>568158</td>\n",
       "      <td>PADS</td>\n",
       "      <td>PADS TO MATCH ALL CUSHIONS</td>\n",
       "      <td>1</td>\n",
       "      <td>2011-09-25 12:22:00</td>\n",
       "      <td>0.000</td>\n",
       "      <td>16133</td>\n",
       "      <td>United Kingdom</td>\n",
       "      <td></td>\n",
       "      <td></td>\n",
       "      <td>PADS</td>\n",
       "      <td>PADS</td>\n",
       "    </tr>\n",
       "    <tr>\n",
       "      <th>231748</th>\n",
       "      <td>568200</td>\n",
       "      <td>PADS</td>\n",
       "      <td>PADS TO MATCH ALL CUSHIONS</td>\n",
       "      <td>1</td>\n",
       "      <td>2011-09-25 14:58:00</td>\n",
       "      <td>0.001</td>\n",
       "      <td>16198</td>\n",
       "      <td>United Kingdom</td>\n",
       "      <td></td>\n",
       "      <td></td>\n",
       "      <td>PADS</td>\n",
       "      <td>PADS</td>\n",
       "    </tr>\n",
       "  </tbody>\n",
       "</table>\n",
       "</div>"
      ],
      "text/plain": [
       "       InvoiceNo StockCode                 Description  Quantity  \\\n",
       "96504     550193      PADS  PADS TO MATCH ALL CUSHIONS         1   \n",
       "174753    561226      PADS  PADS TO MATCH ALL CUSHIONS         1   \n",
       "230589    568158      PADS  PADS TO MATCH ALL CUSHIONS         1   \n",
       "231748    568200      PADS  PADS TO MATCH ALL CUSHIONS         1   \n",
       "\n",
       "               InvoiceDate  UnitPrice CustomerID         Country  \\\n",
       "96504  2011-04-15 09:27:00      0.001      13952  United Kingdom   \n",
       "174753 2011-07-26 10:13:00      0.001      15618  United Kingdom   \n",
       "230589 2011-09-25 12:22:00      0.000      16133  United Kingdom   \n",
       "231748 2011-09-25 14:58:00      0.001      16198  United Kingdom   \n",
       "\n",
       "       InvoiceNoPrefix InvoiceNoPostfix StockCodePrefix StockCodePostfix  \n",
       "96504                                              PADS             PADS  \n",
       "174753                                             PADS             PADS  \n",
       "230589                                             PADS             PADS  \n",
       "231748                                             PADS             PADS  "
      ]
     },
     "execution_count": 49,
     "metadata": {},
     "output_type": "execute_result"
    }
   ],
   "source": [
    "mask = data[FT.STOCK_CODE_PREFIX.value] == 'PADS'\n",
    "data[mask]"
   ]
  },
  {
   "cell_type": "markdown",
   "metadata": {},
   "source": [
    "Описание везде \"PADS TO MATCH ALL CUSHIONS\" - \"ПОДУШКИ, ПОДХОДЯЩИЕ КО ВСЕМ ПОДУШКАМ\".\\\n",
    "Пользователи разные, цена практически нулевая.\\\n",
    "Оставим эти транзакции. \\\n",
    "Возможно, это какой-то приз или подарок, что все-же говорит об активности пользователя."
   ]
  },
  {
   "cell_type": "markdown",
   "metadata": {},
   "source": [
    "Посмотрим, какие значения префиксов и окончаний для `StockCode` у нас остались."
   ]
  },
  {
   "cell_type": "code",
   "execution_count": 50,
   "metadata": {},
   "outputs": [
    {
     "name": "stdout",
     "output_type": "stream",
     "text": [
      "Уникальные префиксы StockCode: \n",
      "['' 'C' 'PADS']\n",
      "\n",
      "Уникальные окончания StockCode: \n",
      "['A' '' 'B' 'G' 'E' 'L' 'C' 'S' 'BL' 'N' 'D' 'F' 'T' 'H' 'M' 'R' 'K' 'P'\n",
      " 'W' 'J' 'U' 'V' 'PADS' 'I' 'Y']\n"
     ]
    }
   ],
   "source": [
    "print('Уникальные префиксы StockCode: ')\n",
    "print(data[FT.STOCK_CODE_PREFIX.value].unique())\n",
    "print()\n",
    "print('Уникальные окончания StockCode: ')\n",
    "print(data[FT.STOCK_CODE_POSTFIX.value].unique())"
   ]
  },
  {
   "cell_type": "markdown",
   "metadata": {},
   "source": [
    "### Перевозка (StockCode == C2)"
   ]
  },
  {
   "cell_type": "code",
   "execution_count": 51,
   "metadata": {},
   "outputs": [
    {
     "data": {
      "text/html": [
       "<div>\n",
       "<style scoped>\n",
       "    .dataframe tbody tr th:only-of-type {\n",
       "        vertical-align: middle;\n",
       "    }\n",
       "\n",
       "    .dataframe tbody tr th {\n",
       "        vertical-align: top;\n",
       "    }\n",
       "\n",
       "    .dataframe thead th {\n",
       "        text-align: right;\n",
       "    }\n",
       "</style>\n",
       "<table border=\"1\" class=\"dataframe\">\n",
       "  <thead>\n",
       "    <tr style=\"text-align: right;\">\n",
       "      <th></th>\n",
       "      <th>InvoiceNo</th>\n",
       "      <th>StockCode</th>\n",
       "      <th>Description</th>\n",
       "      <th>Quantity</th>\n",
       "      <th>InvoiceDate</th>\n",
       "      <th>UnitPrice</th>\n",
       "      <th>CustomerID</th>\n",
       "      <th>Country</th>\n",
       "      <th>InvoiceNoPrefix</th>\n",
       "      <th>InvoiceNoPostfix</th>\n",
       "      <th>StockCodePrefix</th>\n",
       "      <th>StockCodePostfix</th>\n",
       "    </tr>\n",
       "  </thead>\n",
       "  <tbody>\n",
       "    <tr>\n",
       "      <th>1276</th>\n",
       "      <td>536540</td>\n",
       "      <td>C2</td>\n",
       "      <td>CARRIAGE</td>\n",
       "      <td>1</td>\n",
       "      <td>2010-12-01 14:05:00</td>\n",
       "      <td>50.0</td>\n",
       "      <td>14911</td>\n",
       "      <td>EIRE</td>\n",
       "      <td></td>\n",
       "      <td></td>\n",
       "      <td>C</td>\n",
       "      <td></td>\n",
       "    </tr>\n",
       "    <tr>\n",
       "      <th>7755</th>\n",
       "      <td>537368</td>\n",
       "      <td>C2</td>\n",
       "      <td>CARRIAGE</td>\n",
       "      <td>1</td>\n",
       "      <td>2010-12-06 12:40:00</td>\n",
       "      <td>50.0</td>\n",
       "      <td>14911</td>\n",
       "      <td>EIRE</td>\n",
       "      <td></td>\n",
       "      <td></td>\n",
       "      <td>C</td>\n",
       "      <td></td>\n",
       "    </tr>\n",
       "    <tr>\n",
       "      <th>8025</th>\n",
       "      <td>537378</td>\n",
       "      <td>C2</td>\n",
       "      <td>CARRIAGE</td>\n",
       "      <td>1</td>\n",
       "      <td>2010-12-06 13:06:00</td>\n",
       "      <td>50.0</td>\n",
       "      <td>14911</td>\n",
       "      <td>EIRE</td>\n",
       "      <td></td>\n",
       "      <td></td>\n",
       "      <td>C</td>\n",
       "      <td></td>\n",
       "    </tr>\n",
       "    <tr>\n",
       "      <th>11924</th>\n",
       "      <td>538002</td>\n",
       "      <td>C2</td>\n",
       "      <td>CARRIAGE</td>\n",
       "      <td>1</td>\n",
       "      <td>2010-12-09 11:48:00</td>\n",
       "      <td>50.0</td>\n",
       "      <td>14932</td>\n",
       "      <td>Channel Islands</td>\n",
       "      <td></td>\n",
       "      <td></td>\n",
       "      <td>C</td>\n",
       "      <td></td>\n",
       "    </tr>\n",
       "    <tr>\n",
       "      <th>21223</th>\n",
       "      <td>539421</td>\n",
       "      <td>C2</td>\n",
       "      <td>CARRIAGE</td>\n",
       "      <td>1</td>\n",
       "      <td>2010-12-17 14:21:00</td>\n",
       "      <td>50.0</td>\n",
       "      <td>14016</td>\n",
       "      <td>EIRE</td>\n",
       "      <td></td>\n",
       "      <td></td>\n",
       "      <td>C</td>\n",
       "      <td></td>\n",
       "    </tr>\n",
       "  </tbody>\n",
       "</table>\n",
       "</div>"
      ],
      "text/plain": [
       "      InvoiceNo StockCode Description  Quantity         InvoiceDate  \\\n",
       "1276     536540        C2    CARRIAGE         1 2010-12-01 14:05:00   \n",
       "7755     537368        C2    CARRIAGE         1 2010-12-06 12:40:00   \n",
       "8025     537378        C2    CARRIAGE         1 2010-12-06 13:06:00   \n",
       "11924    538002        C2    CARRIAGE         1 2010-12-09 11:48:00   \n",
       "21223    539421        C2    CARRIAGE         1 2010-12-17 14:21:00   \n",
       "\n",
       "       UnitPrice CustomerID          Country InvoiceNoPrefix InvoiceNoPostfix  \\\n",
       "1276        50.0      14911             EIRE                                    \n",
       "7755        50.0      14911             EIRE                                    \n",
       "8025        50.0      14911             EIRE                                    \n",
       "11924       50.0      14932  Channel Islands                                    \n",
       "21223       50.0      14016             EIRE                                    \n",
       "\n",
       "      StockCodePrefix StockCodePostfix  \n",
       "1276                C                   \n",
       "7755                C                   \n",
       "8025                C                   \n",
       "11924               C                   \n",
       "21223               C                   "
      ]
     },
     "execution_count": 51,
     "metadata": {},
     "output_type": "execute_result"
    }
   ],
   "source": [
    "mask = data[FT.STOCK_CODE_PREFIX.value] == 'C'\n",
    "data[mask].head()"
   ]
  },
  {
   "cell_type": "code",
   "execution_count": 52,
   "metadata": {},
   "outputs": [
    {
     "data": {
      "text/plain": [
       "CARRIAGE    133\n",
       "Name: Description, dtype: int64"
      ]
     },
     "execution_count": 52,
     "metadata": {},
     "output_type": "execute_result"
    }
   ],
   "source": [
    "data[mask][F.DESCRIPTION.value].value_counts()"
   ]
  },
  {
   "cell_type": "markdown",
   "metadata": {},
   "source": [
    "Все описания имеют значение \"CARRIAGE\" - \"Перевозка\".\\\n",
    "Удалим эти транзакции."
   ]
  },
  {
   "cell_type": "code",
   "execution_count": 53,
   "metadata": {},
   "outputs": [],
   "source": [
    "data.drop(data[mask].index, inplace=True)"
   ]
  },
  {
   "cell_type": "markdown",
   "metadata": {},
   "source": [
    "Исследование показывает, что остальные окончания у поля `StockCode` принадлежат идентификаторам товаров."
   ]
  },
  {
   "cell_type": "markdown",
   "metadata": {},
   "source": [
    "Удалим поля `StockCodePrefix`, `StockCodePostfix` и `InvoiceNoPostfix`.\\\n",
    "Они нам больше не понадобятся."
   ]
  },
  {
   "cell_type": "code",
   "execution_count": 54,
   "metadata": {},
   "outputs": [],
   "source": [
    "columns_to_drop = [\n",
    "    FT.STOCK_CODE_PREFIX.value, \n",
    "    FT.STOCK_CODE_POSTFIX.value, \n",
    "    FT.INVOICE_NO_POSTFIX.value,\n",
    "]\n",
    "data.drop(columns=columns_to_drop, inplace=True)"
   ]
  },
  {
   "cell_type": "markdown",
   "metadata": {},
   "source": [
    "## Исследование транзакций с отрицательным количеством товаров  <a id=\"research_neq_quantity\"></a>"
   ]
  },
  {
   "cell_type": "markdown",
   "metadata": {},
   "source": [
    "Посмотрим подробнее на транзакции с отрицательным количеством товара."
   ]
  },
  {
   "cell_type": "code",
   "execution_count": 55,
   "metadata": {},
   "outputs": [
    {
     "data": {
      "text/html": [
       "<div>\n",
       "<style scoped>\n",
       "    .dataframe tbody tr th:only-of-type {\n",
       "        vertical-align: middle;\n",
       "    }\n",
       "\n",
       "    .dataframe tbody tr th {\n",
       "        vertical-align: top;\n",
       "    }\n",
       "\n",
       "    .dataframe thead th {\n",
       "        text-align: right;\n",
       "    }\n",
       "</style>\n",
       "<table border=\"1\" class=\"dataframe\">\n",
       "  <thead>\n",
       "    <tr style=\"text-align: right;\">\n",
       "      <th></th>\n",
       "      <th>InvoiceNo</th>\n",
       "      <th>StockCode</th>\n",
       "      <th>Description</th>\n",
       "      <th>Quantity</th>\n",
       "      <th>InvoiceDate</th>\n",
       "      <th>UnitPrice</th>\n",
       "      <th>CustomerID</th>\n",
       "      <th>Country</th>\n",
       "      <th>InvoiceNoPrefix</th>\n",
       "    </tr>\n",
       "  </thead>\n",
       "  <tbody>\n",
       "    <tr>\n",
       "      <th>152</th>\n",
       "      <td>C536383</td>\n",
       "      <td>35004C</td>\n",
       "      <td>SET OF 3 COLOURED  FLYING DUCKS</td>\n",
       "      <td>-1</td>\n",
       "      <td>2010-12-01 09:49:00</td>\n",
       "      <td>4.65</td>\n",
       "      <td>15311</td>\n",
       "      <td>United Kingdom</td>\n",
       "      <td>C</td>\n",
       "    </tr>\n",
       "    <tr>\n",
       "      <th>843</th>\n",
       "      <td>C536506</td>\n",
       "      <td>22960</td>\n",
       "      <td>JAM MAKING SET WITH JARS</td>\n",
       "      <td>-6</td>\n",
       "      <td>2010-12-01 12:38:00</td>\n",
       "      <td>4.25</td>\n",
       "      <td>17897</td>\n",
       "      <td>United Kingdom</td>\n",
       "      <td>C</td>\n",
       "    </tr>\n",
       "    <tr>\n",
       "      <th>1294</th>\n",
       "      <td>C536543</td>\n",
       "      <td>22632</td>\n",
       "      <td>HAND WARMER RED RETROSPOT</td>\n",
       "      <td>-1</td>\n",
       "      <td>2010-12-01 14:30:00</td>\n",
       "      <td>2.10</td>\n",
       "      <td>17841</td>\n",
       "      <td>United Kingdom</td>\n",
       "      <td>C</td>\n",
       "    </tr>\n",
       "    <tr>\n",
       "      <th>1295</th>\n",
       "      <td>C536543</td>\n",
       "      <td>22355</td>\n",
       "      <td>CHARLOTTE BAG SUKI DESIGN</td>\n",
       "      <td>-2</td>\n",
       "      <td>2010-12-01 14:30:00</td>\n",
       "      <td>0.85</td>\n",
       "      <td>17841</td>\n",
       "      <td>United Kingdom</td>\n",
       "      <td>C</td>\n",
       "    </tr>\n",
       "    <tr>\n",
       "      <th>1296</th>\n",
       "      <td>C536548</td>\n",
       "      <td>22244</td>\n",
       "      <td>3 HOOK HANGER MAGIC GARDEN</td>\n",
       "      <td>-4</td>\n",
       "      <td>2010-12-01 14:33:00</td>\n",
       "      <td>1.95</td>\n",
       "      <td>12472</td>\n",
       "      <td>Germany</td>\n",
       "      <td>C</td>\n",
       "    </tr>\n",
       "  </tbody>\n",
       "</table>\n",
       "</div>"
      ],
      "text/plain": [
       "     InvoiceNo StockCode                      Description  Quantity  \\\n",
       "152    C536383    35004C  SET OF 3 COLOURED  FLYING DUCKS        -1   \n",
       "843    C536506     22960         JAM MAKING SET WITH JARS        -6   \n",
       "1294   C536543     22632        HAND WARMER RED RETROSPOT        -1   \n",
       "1295   C536543     22355        CHARLOTTE BAG SUKI DESIGN        -2   \n",
       "1296   C536548     22244       3 HOOK HANGER MAGIC GARDEN        -4   \n",
       "\n",
       "             InvoiceDate  UnitPrice CustomerID         Country InvoiceNoPrefix  \n",
       "152  2010-12-01 09:49:00       4.65      15311  United Kingdom               C  \n",
       "843  2010-12-01 12:38:00       4.25      17897  United Kingdom               C  \n",
       "1294 2010-12-01 14:30:00       2.10      17841  United Kingdom               C  \n",
       "1295 2010-12-01 14:30:00       0.85      17841  United Kingdom               C  \n",
       "1296 2010-12-01 14:33:00       1.95      12472         Germany               C  "
      ]
     },
     "execution_count": 55,
     "metadata": {},
     "output_type": "execute_result"
    }
   ],
   "source": [
    "mask = data[F.QUANTITY.value] < 0\n",
    "\n",
    "# Выделим строки с отрицательным количеством товара в отдельную таблицу для дальнейших исследований\n",
    "negative_quantity_data = data[mask]\n",
    "\n",
    "negative_quantity_data.head()"
   ]
  },
  {
   "cell_type": "code",
   "execution_count": 56,
   "metadata": {},
   "outputs": [
    {
     "name": "stdout",
     "output_type": "stream",
     "text": [
      "Количество транзакций с отрицательным количеством товаров:  7524\n"
     ]
    }
   ],
   "source": [
    "print('Количество транзакций с отрицательным количеством товаров: ', negative_quantity_data.shape[0])"
   ]
  },
  {
   "cell_type": "markdown",
   "metadata": {},
   "source": [
    "Как видим, для таких транзаций значение столбца с номером счета-фактуры `InvoiceNo` начинается с `C`,\\\n",
    "что указывает на возврат товара.\n",
    "\n",
    "Проверим, для всех ли строк это так."
   ]
  },
  {
   "cell_type": "code",
   "execution_count": 57,
   "metadata": {},
   "outputs": [
    {
     "name": "stdout",
     "output_type": "stream",
     "text": [
      "Количество строк, которых InvoiceNo начинается с \"C\":  7524\n"
     ]
    }
   ],
   "source": [
    "# Проверка, что первой буквой в значении столбца InvoiceNo является \"C\"\n",
    "mask = negative_quantity_data[FT.INVOICE_NO_PREFIX.value] == 'C'\n",
    "\n",
    "print(\n",
    "    'Количество строк, которых InvoiceNo начинается с \"C\": ', \n",
    "    negative_quantity_data[mask].shape[0]\n",
    ")"
   ]
  },
  {
   "cell_type": "markdown",
   "metadata": {},
   "source": [
    "Количество строк совпадает с общим количеством транзакций с отрицательным количеством товара.\\\n",
    "Поэтому можно сделать вывод, что это общее правило."
   ]
  },
  {
   "cell_type": "markdown",
   "metadata": {},
   "source": [
    "Проверим, что для транзакций с возвратом существуют транзации с покупкой.\n",
    "\n",
    "У транзакций с покупкой должны совпадать:\n",
    "- `StockCode` - код товара\n",
    "- `CustomerID` - идентификатор клиента"
   ]
  },
  {
   "cell_type": "markdown",
   "metadata": {},
   "source": [
    "Посмотрим, что происходит при совпадении этих данных у одного клиента.\\\n",
    "Для примера возьмем данные из первой строки."
   ]
  },
  {
   "cell_type": "code",
   "execution_count": 58,
   "metadata": {},
   "outputs": [
    {
     "data": {
      "text/html": [
       "<div>\n",
       "<style scoped>\n",
       "    .dataframe tbody tr th:only-of-type {\n",
       "        vertical-align: middle;\n",
       "    }\n",
       "\n",
       "    .dataframe tbody tr th {\n",
       "        vertical-align: top;\n",
       "    }\n",
       "\n",
       "    .dataframe thead th {\n",
       "        text-align: right;\n",
       "    }\n",
       "</style>\n",
       "<table border=\"1\" class=\"dataframe\">\n",
       "  <thead>\n",
       "    <tr style=\"text-align: right;\">\n",
       "      <th></th>\n",
       "      <th>InvoiceNo</th>\n",
       "      <th>StockCode</th>\n",
       "      <th>Description</th>\n",
       "      <th>Quantity</th>\n",
       "      <th>InvoiceDate</th>\n",
       "      <th>UnitPrice</th>\n",
       "      <th>CustomerID</th>\n",
       "      <th>Country</th>\n",
       "      <th>InvoiceNoPrefix</th>\n",
       "    </tr>\n",
       "  </thead>\n",
       "  <tbody>\n",
       "    <tr>\n",
       "      <th>152</th>\n",
       "      <td>C536383</td>\n",
       "      <td>35004C</td>\n",
       "      <td>SET OF 3 COLOURED  FLYING DUCKS</td>\n",
       "      <td>-1</td>\n",
       "      <td>2010-12-01 09:49:00</td>\n",
       "      <td>4.65</td>\n",
       "      <td>15311</td>\n",
       "      <td>United Kingdom</td>\n",
       "      <td>C</td>\n",
       "    </tr>\n",
       "    <tr>\n",
       "      <th>6272</th>\n",
       "      <td>537195</td>\n",
       "      <td>35004C</td>\n",
       "      <td>SET OF 3 COLOURED  FLYING DUCKS</td>\n",
       "      <td>12</td>\n",
       "      <td>2010-12-05 13:55:00</td>\n",
       "      <td>4.65</td>\n",
       "      <td>15311</td>\n",
       "      <td>United Kingdom</td>\n",
       "      <td></td>\n",
       "    </tr>\n",
       "    <tr>\n",
       "      <th>10788</th>\n",
       "      <td>C537805</td>\n",
       "      <td>35004C</td>\n",
       "      <td>SET OF 3 COLOURED  FLYING DUCKS</td>\n",
       "      <td>-1</td>\n",
       "      <td>2010-12-08 13:18:00</td>\n",
       "      <td>4.65</td>\n",
       "      <td>15311</td>\n",
       "      <td>United Kingdom</td>\n",
       "      <td>C</td>\n",
       "    </tr>\n",
       "    <tr>\n",
       "      <th>16517</th>\n",
       "      <td>538651</td>\n",
       "      <td>35004C</td>\n",
       "      <td>SET OF 3 COLOURED  FLYING DUCKS</td>\n",
       "      <td>12</td>\n",
       "      <td>2010-12-13 15:07:00</td>\n",
       "      <td>4.65</td>\n",
       "      <td>15311</td>\n",
       "      <td>United Kingdom</td>\n",
       "      <td></td>\n",
       "    </tr>\n",
       "    <tr>\n",
       "      <th>22467</th>\n",
       "      <td>C539640</td>\n",
       "      <td>35004C</td>\n",
       "      <td>SET OF 3 COLOURED  FLYING DUCKS</td>\n",
       "      <td>-3</td>\n",
       "      <td>2010-12-20 15:27:00</td>\n",
       "      <td>4.65</td>\n",
       "      <td>15311</td>\n",
       "      <td>United Kingdom</td>\n",
       "      <td>C</td>\n",
       "    </tr>\n",
       "    <tr>\n",
       "      <th>24352</th>\n",
       "      <td>540157</td>\n",
       "      <td>35004C</td>\n",
       "      <td>SET OF 3 COLOURED  FLYING DUCKS</td>\n",
       "      <td>12</td>\n",
       "      <td>2011-01-05 11:41:00</td>\n",
       "      <td>4.65</td>\n",
       "      <td>15311</td>\n",
       "      <td>United Kingdom</td>\n",
       "      <td></td>\n",
       "    </tr>\n",
       "    <tr>\n",
       "      <th>32915</th>\n",
       "      <td>541293</td>\n",
       "      <td>35004C</td>\n",
       "      <td>SET OF 3 COLOURED  FLYING DUCKS</td>\n",
       "      <td>12</td>\n",
       "      <td>2011-01-17 13:39:00</td>\n",
       "      <td>4.65</td>\n",
       "      <td>15311</td>\n",
       "      <td>United Kingdom</td>\n",
       "      <td></td>\n",
       "    </tr>\n",
       "    <tr>\n",
       "      <th>43185</th>\n",
       "      <td>C542866</td>\n",
       "      <td>35004C</td>\n",
       "      <td>SET OF 3 COLOURED  FLYING DUCKS</td>\n",
       "      <td>-2</td>\n",
       "      <td>2011-02-01 12:14:00</td>\n",
       "      <td>4.65</td>\n",
       "      <td>15311</td>\n",
       "      <td>United Kingdom</td>\n",
       "      <td>C</td>\n",
       "    </tr>\n",
       "  </tbody>\n",
       "</table>\n",
       "</div>"
      ],
      "text/plain": [
       "      InvoiceNo StockCode                      Description  Quantity  \\\n",
       "152     C536383    35004C  SET OF 3 COLOURED  FLYING DUCKS        -1   \n",
       "6272     537195    35004C  SET OF 3 COLOURED  FLYING DUCKS        12   \n",
       "10788   C537805    35004C  SET OF 3 COLOURED  FLYING DUCKS        -1   \n",
       "16517    538651    35004C  SET OF 3 COLOURED  FLYING DUCKS        12   \n",
       "22467   C539640    35004C  SET OF 3 COLOURED  FLYING DUCKS        -3   \n",
       "24352    540157    35004C  SET OF 3 COLOURED  FLYING DUCKS        12   \n",
       "32915    541293    35004C  SET OF 3 COLOURED  FLYING DUCKS        12   \n",
       "43185   C542866    35004C  SET OF 3 COLOURED  FLYING DUCKS        -2   \n",
       "\n",
       "              InvoiceDate  UnitPrice CustomerID         Country  \\\n",
       "152   2010-12-01 09:49:00       4.65      15311  United Kingdom   \n",
       "6272  2010-12-05 13:55:00       4.65      15311  United Kingdom   \n",
       "10788 2010-12-08 13:18:00       4.65      15311  United Kingdom   \n",
       "16517 2010-12-13 15:07:00       4.65      15311  United Kingdom   \n",
       "22467 2010-12-20 15:27:00       4.65      15311  United Kingdom   \n",
       "24352 2011-01-05 11:41:00       4.65      15311  United Kingdom   \n",
       "32915 2011-01-17 13:39:00       4.65      15311  United Kingdom   \n",
       "43185 2011-02-01 12:14:00       4.65      15311  United Kingdom   \n",
       "\n",
       "      InvoiceNoPrefix  \n",
       "152                 C  \n",
       "6272                   \n",
       "10788               C  \n",
       "16517                  \n",
       "22467               C  \n",
       "24352                  \n",
       "32915                  \n",
       "43185               C  "
      ]
     },
     "execution_count": 58,
     "metadata": {},
     "output_type": "execute_result"
    }
   ],
   "source": [
    "mask = (data[F.CUSTOMER_ID.value] == '15311') & (data[F.STOCK_CODE.value] == '35004C')\n",
    "data[mask]"
   ]
  },
  {
   "cell_type": "markdown",
   "metadata": {},
   "source": [
    "Видим, что клиент периодически покупает по 12 единиц товара.\\\n",
    "И через несколько дней делает возврат на меньшее количество единиц, чем изначально купил.\\\n",
    "При этом первой найденной транзацией является возврат.\\\n",
    "То есть, можно предположить, что перед этим была совершена покупка, но данные о ней в таблицу не попали.\n",
    "\n",
    "> Можно поступить следующим образом.\\\n",
    "Создать в таблице столбец `QuantityCanceled` и занести в него количество отмененных товаров, \\\n",
    "которые относятся к предыдущей покупке.\\\n",
    "Затем удалить из таблицы данные о возвратах."
   ]
  },
  {
   "cell_type": "markdown",
   "metadata": {},
   "source": [
    "Создадим функцию `get_quantity_canceled`, которая будет возвращать столбец `Series` \\\n",
    "с количеством возвращенных для каждой транзакции товаров.\n",
    "\n",
    "Функция вынесена в файл [./helpers/prepare_data.py](./helpers/prepare_data.py)"
   ]
  },
  {
   "cell_type": "code",
   "execution_count": 59,
   "metadata": {},
   "outputs": [],
   "source": [
    "data['QuantityCanceled'] = get_quantity_canceled(data)"
   ]
  },
  {
   "cell_type": "markdown",
   "metadata": {},
   "source": [
    "Посмотрим на данные того же покупателя."
   ]
  },
  {
   "cell_type": "code",
   "execution_count": 60,
   "metadata": {},
   "outputs": [
    {
     "data": {
      "text/html": [
       "<div>\n",
       "<style scoped>\n",
       "    .dataframe tbody tr th:only-of-type {\n",
       "        vertical-align: middle;\n",
       "    }\n",
       "\n",
       "    .dataframe tbody tr th {\n",
       "        vertical-align: top;\n",
       "    }\n",
       "\n",
       "    .dataframe thead th {\n",
       "        text-align: right;\n",
       "    }\n",
       "</style>\n",
       "<table border=\"1\" class=\"dataframe\">\n",
       "  <thead>\n",
       "    <tr style=\"text-align: right;\">\n",
       "      <th></th>\n",
       "      <th>InvoiceNo</th>\n",
       "      <th>StockCode</th>\n",
       "      <th>Description</th>\n",
       "      <th>Quantity</th>\n",
       "      <th>InvoiceDate</th>\n",
       "      <th>UnitPrice</th>\n",
       "      <th>CustomerID</th>\n",
       "      <th>Country</th>\n",
       "      <th>InvoiceNoPrefix</th>\n",
       "      <th>QuantityCanceled</th>\n",
       "    </tr>\n",
       "  </thead>\n",
       "  <tbody>\n",
       "    <tr>\n",
       "      <th>152</th>\n",
       "      <td>C536383</td>\n",
       "      <td>35004C</td>\n",
       "      <td>SET OF 3 COLOURED  FLYING DUCKS</td>\n",
       "      <td>-1</td>\n",
       "      <td>2010-12-01 09:49:00</td>\n",
       "      <td>4.65</td>\n",
       "      <td>15311</td>\n",
       "      <td>United Kingdom</td>\n",
       "      <td>C</td>\n",
       "      <td>0.0</td>\n",
       "    </tr>\n",
       "    <tr>\n",
       "      <th>6272</th>\n",
       "      <td>537195</td>\n",
       "      <td>35004C</td>\n",
       "      <td>SET OF 3 COLOURED  FLYING DUCKS</td>\n",
       "      <td>12</td>\n",
       "      <td>2010-12-05 13:55:00</td>\n",
       "      <td>4.65</td>\n",
       "      <td>15311</td>\n",
       "      <td>United Kingdom</td>\n",
       "      <td></td>\n",
       "      <td>1.0</td>\n",
       "    </tr>\n",
       "    <tr>\n",
       "      <th>10788</th>\n",
       "      <td>C537805</td>\n",
       "      <td>35004C</td>\n",
       "      <td>SET OF 3 COLOURED  FLYING DUCKS</td>\n",
       "      <td>-1</td>\n",
       "      <td>2010-12-08 13:18:00</td>\n",
       "      <td>4.65</td>\n",
       "      <td>15311</td>\n",
       "      <td>United Kingdom</td>\n",
       "      <td>C</td>\n",
       "      <td>0.0</td>\n",
       "    </tr>\n",
       "    <tr>\n",
       "      <th>16517</th>\n",
       "      <td>538651</td>\n",
       "      <td>35004C</td>\n",
       "      <td>SET OF 3 COLOURED  FLYING DUCKS</td>\n",
       "      <td>12</td>\n",
       "      <td>2010-12-13 15:07:00</td>\n",
       "      <td>4.65</td>\n",
       "      <td>15311</td>\n",
       "      <td>United Kingdom</td>\n",
       "      <td></td>\n",
       "      <td>3.0</td>\n",
       "    </tr>\n",
       "    <tr>\n",
       "      <th>22467</th>\n",
       "      <td>C539640</td>\n",
       "      <td>35004C</td>\n",
       "      <td>SET OF 3 COLOURED  FLYING DUCKS</td>\n",
       "      <td>-3</td>\n",
       "      <td>2010-12-20 15:27:00</td>\n",
       "      <td>4.65</td>\n",
       "      <td>15311</td>\n",
       "      <td>United Kingdom</td>\n",
       "      <td>C</td>\n",
       "      <td>0.0</td>\n",
       "    </tr>\n",
       "    <tr>\n",
       "      <th>24352</th>\n",
       "      <td>540157</td>\n",
       "      <td>35004C</td>\n",
       "      <td>SET OF 3 COLOURED  FLYING DUCKS</td>\n",
       "      <td>12</td>\n",
       "      <td>2011-01-05 11:41:00</td>\n",
       "      <td>4.65</td>\n",
       "      <td>15311</td>\n",
       "      <td>United Kingdom</td>\n",
       "      <td></td>\n",
       "      <td>0.0</td>\n",
       "    </tr>\n",
       "    <tr>\n",
       "      <th>32915</th>\n",
       "      <td>541293</td>\n",
       "      <td>35004C</td>\n",
       "      <td>SET OF 3 COLOURED  FLYING DUCKS</td>\n",
       "      <td>12</td>\n",
       "      <td>2011-01-17 13:39:00</td>\n",
       "      <td>4.65</td>\n",
       "      <td>15311</td>\n",
       "      <td>United Kingdom</td>\n",
       "      <td></td>\n",
       "      <td>2.0</td>\n",
       "    </tr>\n",
       "    <tr>\n",
       "      <th>43185</th>\n",
       "      <td>C542866</td>\n",
       "      <td>35004C</td>\n",
       "      <td>SET OF 3 COLOURED  FLYING DUCKS</td>\n",
       "      <td>-2</td>\n",
       "      <td>2011-02-01 12:14:00</td>\n",
       "      <td>4.65</td>\n",
       "      <td>15311</td>\n",
       "      <td>United Kingdom</td>\n",
       "      <td>C</td>\n",
       "      <td>0.0</td>\n",
       "    </tr>\n",
       "  </tbody>\n",
       "</table>\n",
       "</div>"
      ],
      "text/plain": [
       "      InvoiceNo StockCode                      Description  Quantity  \\\n",
       "152     C536383    35004C  SET OF 3 COLOURED  FLYING DUCKS        -1   \n",
       "6272     537195    35004C  SET OF 3 COLOURED  FLYING DUCKS        12   \n",
       "10788   C537805    35004C  SET OF 3 COLOURED  FLYING DUCKS        -1   \n",
       "16517    538651    35004C  SET OF 3 COLOURED  FLYING DUCKS        12   \n",
       "22467   C539640    35004C  SET OF 3 COLOURED  FLYING DUCKS        -3   \n",
       "24352    540157    35004C  SET OF 3 COLOURED  FLYING DUCKS        12   \n",
       "32915    541293    35004C  SET OF 3 COLOURED  FLYING DUCKS        12   \n",
       "43185   C542866    35004C  SET OF 3 COLOURED  FLYING DUCKS        -2   \n",
       "\n",
       "              InvoiceDate  UnitPrice CustomerID         Country  \\\n",
       "152   2010-12-01 09:49:00       4.65      15311  United Kingdom   \n",
       "6272  2010-12-05 13:55:00       4.65      15311  United Kingdom   \n",
       "10788 2010-12-08 13:18:00       4.65      15311  United Kingdom   \n",
       "16517 2010-12-13 15:07:00       4.65      15311  United Kingdom   \n",
       "22467 2010-12-20 15:27:00       4.65      15311  United Kingdom   \n",
       "24352 2011-01-05 11:41:00       4.65      15311  United Kingdom   \n",
       "32915 2011-01-17 13:39:00       4.65      15311  United Kingdom   \n",
       "43185 2011-02-01 12:14:00       4.65      15311  United Kingdom   \n",
       "\n",
       "      InvoiceNoPrefix  QuantityCanceled  \n",
       "152                 C               0.0  \n",
       "6272                                1.0  \n",
       "10788               C               0.0  \n",
       "16517                               3.0  \n",
       "22467               C               0.0  \n",
       "24352                               0.0  \n",
       "32915                               2.0  \n",
       "43185               C               0.0  "
      ]
     },
     "execution_count": 60,
     "metadata": {},
     "output_type": "execute_result"
    }
   ],
   "source": [
    "mask = (data[F.CUSTOMER_ID.value] == '15311') & (data[F.STOCK_CODE.value] == '35004C')\n",
    "data[mask]"
   ]
  },
  {
   "cell_type": "markdown",
   "metadata": {},
   "source": [
    "Видим, что в столбце `QuantityCanceled` корректно отображается количество возвращенных товаров.\n",
    "\n",
    "Теперь удалим строки с отрицательным количеством товаров."
   ]
  },
  {
   "cell_type": "code",
   "execution_count": 61,
   "metadata": {},
   "outputs": [],
   "source": [
    "mask = data[F.QUANTITY.value] < 0\n",
    "data.drop(data[mask].index, inplace=True)"
   ]
  },
  {
   "cell_type": "markdown",
   "metadata": {},
   "source": [
    "И также удалим столбец `InvoiceNoPrefix`, потому что он больше не содержит уникальных значений."
   ]
  },
  {
   "cell_type": "code",
   "execution_count": 62,
   "metadata": {},
   "outputs": [],
   "source": [
    "data.drop(columns=[FT.INVOICE_NO_PREFIX.value], inplace=True)"
   ]
  },
  {
   "cell_type": "markdown",
   "metadata": {},
   "source": [
    "Посмотрим на общий процент возвращенных товаров."
   ]
  },
  {
   "cell_type": "code",
   "execution_count": 63,
   "metadata": {},
   "outputs": [
    {
     "name": "stdout",
     "output_type": "stream",
     "text": [
      "Из общего количества купленных товаров 3.43% вернули.\n"
     ]
    }
   ],
   "source": [
    "return_percentage = round(data[F.QUANTITY_CANCELED.value].sum() * 100 / data[F.QUANTITY.value].sum(), 2)\n",
    "\n",
    "print(f'Из общего количества купленных товаров {return_percentage}% вернули.')"
   ]
  },
  {
   "cell_type": "markdown",
   "metadata": {},
   "source": [
    "Посмотрим, сколько процентов заказов прошло с возвратами."
   ]
  },
  {
   "cell_type": "code",
   "execution_count": 64,
   "metadata": {},
   "outputs": [
    {
     "data": {
      "text/plain": [
       "False    0.832011\n",
       "True     0.167989\n",
       "Name: isOrderWithCanceled, dtype: float64"
      ]
     },
     "execution_count": 64,
     "metadata": {},
     "output_type": "execute_result"
    }
   ],
   "source": [
    "orders_canceled_data = data.groupby(by=[F.CUSTOMER_ID.value, F.INVOICE_NO.value]).agg(\n",
    "    QuantityCanceledSum=(F.QUANTITY_CANCELED.value, 'sum'),\n",
    ")\n",
    "orders_canceled_data['isOrderWithCanceled'] = orders_canceled_data['QuantityCanceledSum'] > 0\n",
    "orders_canceled_data['isOrderWithCanceled'].value_counts(normalize=True)"
   ]
  },
  {
   "cell_type": "markdown",
   "metadata": {},
   "source": [
    "С возвратом прошло около 17% заказов."
   ]
  },
  {
   "cell_type": "markdown",
   "metadata": {},
   "source": [
    "## Исследование транзакций с нулевой стоимостью товаров  <a id=\"research_zero_price\"></a>"
   ]
  },
  {
   "cell_type": "markdown",
   "metadata": {},
   "source": [
    "Посмотрим на характеристики распределения числовых признаков."
   ]
  },
  {
   "cell_type": "code",
   "execution_count": 65,
   "metadata": {},
   "outputs": [
    {
     "data": {
      "text/html": [
       "<div>\n",
       "<style scoped>\n",
       "    .dataframe tbody tr th:only-of-type {\n",
       "        vertical-align: middle;\n",
       "    }\n",
       "\n",
       "    .dataframe tbody tr th {\n",
       "        vertical-align: top;\n",
       "    }\n",
       "\n",
       "    .dataframe thead th {\n",
       "        text-align: right;\n",
       "    }\n",
       "</style>\n",
       "<table border=\"1\" class=\"dataframe\">\n",
       "  <thead>\n",
       "    <tr style=\"text-align: right;\">\n",
       "      <th></th>\n",
       "      <th>Quantity</th>\n",
       "      <th>UnitPrice</th>\n",
       "      <th>QuantityCanceled</th>\n",
       "    </tr>\n",
       "  </thead>\n",
       "  <tbody>\n",
       "    <tr>\n",
       "      <th>count</th>\n",
       "      <td>351327.000000</td>\n",
       "      <td>351327.000000</td>\n",
       "      <td>351327.000000</td>\n",
       "    </tr>\n",
       "    <tr>\n",
       "      <th>mean</th>\n",
       "      <td>13.144079</td>\n",
       "      <td>2.860003</td>\n",
       "      <td>0.450620</td>\n",
       "    </tr>\n",
       "    <tr>\n",
       "      <th>std</th>\n",
       "      <td>144.850461</td>\n",
       "      <td>4.159425</td>\n",
       "      <td>136.978729</td>\n",
       "    </tr>\n",
       "    <tr>\n",
       "      <th>min</th>\n",
       "      <td>1.000000</td>\n",
       "      <td>0.000000</td>\n",
       "      <td>0.000000</td>\n",
       "    </tr>\n",
       "    <tr>\n",
       "      <th>25%</th>\n",
       "      <td>2.000000</td>\n",
       "      <td>1.250000</td>\n",
       "      <td>0.000000</td>\n",
       "    </tr>\n",
       "    <tr>\n",
       "      <th>50%</th>\n",
       "      <td>6.000000</td>\n",
       "      <td>1.950000</td>\n",
       "      <td>0.000000</td>\n",
       "    </tr>\n",
       "    <tr>\n",
       "      <th>75%</th>\n",
       "      <td>12.000000</td>\n",
       "      <td>3.750000</td>\n",
       "      <td>0.000000</td>\n",
       "    </tr>\n",
       "    <tr>\n",
       "      <th>max</th>\n",
       "      <td>80995.000000</td>\n",
       "      <td>649.500000</td>\n",
       "      <td>80995.000000</td>\n",
       "    </tr>\n",
       "  </tbody>\n",
       "</table>\n",
       "</div>"
      ],
      "text/plain": [
       "            Quantity      UnitPrice  QuantityCanceled\n",
       "count  351327.000000  351327.000000     351327.000000\n",
       "mean       13.144079       2.860003          0.450620\n",
       "std       144.850461       4.159425        136.978729\n",
       "min         1.000000       0.000000          0.000000\n",
       "25%         2.000000       1.250000          0.000000\n",
       "50%         6.000000       1.950000          0.000000\n",
       "75%        12.000000       3.750000          0.000000\n",
       "max     80995.000000     649.500000      80995.000000"
      ]
     },
     "execution_count": 65,
     "metadata": {},
     "output_type": "execute_result"
    }
   ],
   "source": [
    "data.describe()"
   ]
  },
  {
   "cell_type": "markdown",
   "metadata": {},
   "source": [
    "Посмотрим на товары с нулевой ценой"
   ]
  },
  {
   "cell_type": "code",
   "execution_count": 66,
   "metadata": {},
   "outputs": [
    {
     "data": {
      "text/html": [
       "<div>\n",
       "<style scoped>\n",
       "    .dataframe tbody tr th:only-of-type {\n",
       "        vertical-align: middle;\n",
       "    }\n",
       "\n",
       "    .dataframe tbody tr th {\n",
       "        vertical-align: top;\n",
       "    }\n",
       "\n",
       "    .dataframe thead th {\n",
       "        text-align: right;\n",
       "    }\n",
       "</style>\n",
       "<table border=\"1\" class=\"dataframe\">\n",
       "  <thead>\n",
       "    <tr style=\"text-align: right;\">\n",
       "      <th></th>\n",
       "      <th>InvoiceNo</th>\n",
       "      <th>StockCode</th>\n",
       "      <th>Description</th>\n",
       "      <th>Quantity</th>\n",
       "      <th>InvoiceDate</th>\n",
       "      <th>UnitPrice</th>\n",
       "      <th>CustomerID</th>\n",
       "      <th>Country</th>\n",
       "      <th>QuantityCanceled</th>\n",
       "    </tr>\n",
       "  </thead>\n",
       "  <tbody>\n",
       "    <tr>\n",
       "      <th>6364</th>\n",
       "      <td>537197</td>\n",
       "      <td>22841</td>\n",
       "      <td>ROUND CAKE TIN VINTAGE GREEN</td>\n",
       "      <td>1</td>\n",
       "      <td>2010-12-05 14:02:00</td>\n",
       "      <td>0.0</td>\n",
       "      <td>12647</td>\n",
       "      <td>Germany</td>\n",
       "      <td>0.0</td>\n",
       "    </tr>\n",
       "    <tr>\n",
       "      <th>20276</th>\n",
       "      <td>539263</td>\n",
       "      <td>22580</td>\n",
       "      <td>ADVENT CALENDAR GINGHAM SACK</td>\n",
       "      <td>4</td>\n",
       "      <td>2010-12-16 14:36:00</td>\n",
       "      <td>0.0</td>\n",
       "      <td>16560</td>\n",
       "      <td>United Kingdom</td>\n",
       "      <td>0.0</td>\n",
       "    </tr>\n",
       "    <tr>\n",
       "      <th>22862</th>\n",
       "      <td>539722</td>\n",
       "      <td>22423</td>\n",
       "      <td>REGENCY CAKESTAND 3 TIER</td>\n",
       "      <td>10</td>\n",
       "      <td>2010-12-21 13:45:00</td>\n",
       "      <td>0.0</td>\n",
       "      <td>14911</td>\n",
       "      <td>EIRE</td>\n",
       "      <td>0.0</td>\n",
       "    </tr>\n",
       "    <tr>\n",
       "      <th>26150</th>\n",
       "      <td>540372</td>\n",
       "      <td>22090</td>\n",
       "      <td>PAPER BUNTING RETROSPOT</td>\n",
       "      <td>24</td>\n",
       "      <td>2011-01-06 16:41:00</td>\n",
       "      <td>0.0</td>\n",
       "      <td>13081</td>\n",
       "      <td>United Kingdom</td>\n",
       "      <td>0.0</td>\n",
       "    </tr>\n",
       "    <tr>\n",
       "      <th>26152</th>\n",
       "      <td>540372</td>\n",
       "      <td>22553</td>\n",
       "      <td>PLASTERS IN TIN SKULLS</td>\n",
       "      <td>24</td>\n",
       "      <td>2011-01-06 16:41:00</td>\n",
       "      <td>0.0</td>\n",
       "      <td>13081</td>\n",
       "      <td>United Kingdom</td>\n",
       "      <td>0.0</td>\n",
       "    </tr>\n",
       "  </tbody>\n",
       "</table>\n",
       "</div>"
      ],
      "text/plain": [
       "      InvoiceNo StockCode                   Description  Quantity  \\\n",
       "6364     537197     22841  ROUND CAKE TIN VINTAGE GREEN         1   \n",
       "20276    539263     22580  ADVENT CALENDAR GINGHAM SACK         4   \n",
       "22862    539722     22423      REGENCY CAKESTAND 3 TIER        10   \n",
       "26150    540372     22090       PAPER BUNTING RETROSPOT        24   \n",
       "26152    540372     22553        PLASTERS IN TIN SKULLS        24   \n",
       "\n",
       "              InvoiceDate  UnitPrice CustomerID         Country  \\\n",
       "6364  2010-12-05 14:02:00        0.0      12647         Germany   \n",
       "20276 2010-12-16 14:36:00        0.0      16560  United Kingdom   \n",
       "22862 2010-12-21 13:45:00        0.0      14911            EIRE   \n",
       "26150 2011-01-06 16:41:00        0.0      13081  United Kingdom   \n",
       "26152 2011-01-06 16:41:00        0.0      13081  United Kingdom   \n",
       "\n",
       "       QuantityCanceled  \n",
       "6364                0.0  \n",
       "20276               0.0  \n",
       "22862               0.0  \n",
       "26150               0.0  \n",
       "26152               0.0  "
      ]
     },
     "execution_count": 66,
     "metadata": {},
     "output_type": "execute_result"
    }
   ],
   "source": [
    "mask = data[F.UNIT_PRICE.value] == 0\n",
    "data[mask].head()"
   ]
  },
  {
   "cell_type": "code",
   "execution_count": 67,
   "metadata": {},
   "outputs": [
    {
     "name": "stdout",
     "output_type": "stream",
     "text": [
      "Количество товаров с нулевой ценой:  33\n"
     ]
    }
   ],
   "source": [
    "print('Количество товаров с нулевой ценой: ', data[mask].shape[0])"
   ]
  },
  {
   "cell_type": "markdown",
   "metadata": {},
   "source": [
    "Похоже, что это подарки, которые добавляются к заказу при выполнении пользователями каких-то условий.\\\n",
    "Оставим их."
   ]
  },
  {
   "cell_type": "markdown",
   "metadata": {},
   "source": [
    "## Добавление признака TotalPrice (общая стоимость покупки)  <a id=\"total_price\"></a>"
   ]
  },
  {
   "cell_type": "markdown",
   "metadata": {},
   "source": [
    "Добавим в датасет поле `TotalPrice` с общей ценой покупки.\\\n",
    "Рассчитаем ее как:\n",
    "\n",
    "$$ общая \\ цена = цена \\ за \\ единицу \\ товара \\times (количество \\ товаров \\ в \\ покупке - количество \\ возвращённых \\ товаров) $$"
   ]
  },
  {
   "cell_type": "code",
   "execution_count": 68,
   "metadata": {},
   "outputs": [],
   "source": [
    "data[F.TOTAL_PRICE.value] = data.apply(\n",
    "    lambda row: get_total_price(\n",
    "        row[F.UNIT_PRICE.value], \n",
    "        row[F.QUANTITY.value], \n",
    "        row[F.QUANTITY_CANCELED.value],\n",
    "    ), axis=1\n",
    ")"
   ]
  },
  {
   "cell_type": "markdown",
   "metadata": {},
   "source": [
    "Посмотрим на характеристики распределения стоимости покупок."
   ]
  },
  {
   "cell_type": "code",
   "execution_count": 69,
   "metadata": {},
   "outputs": [
    {
     "data": {
      "text/plain": [
       "count    351327.000000\n",
       "mean         21.265839\n",
       "std          69.434418\n",
       "min           0.000000\n",
       "25%           4.680000\n",
       "50%          11.700000\n",
       "75%          19.620000\n",
       "max        7144.720000\n",
       "Name: TotalPrice, dtype: float64"
      ]
     },
     "execution_count": 69,
     "metadata": {},
     "output_type": "execute_result"
    }
   ],
   "source": [
    "data[F.TOTAL_PRICE.value].describe()"
   ]
  },
  {
   "cell_type": "markdown",
   "metadata": {},
   "source": [
    "> Код выполненных преобразований продублирован в функции `get_prepared_data` \\\n",
    "в файле [./helpers/prepare_data.py](./helpers/prepare_data.py)"
   ]
  }
 ],
 "metadata": {
  "kernelspec": {
   "display_name": "Python 3",
   "language": "python",
   "name": "python3"
  },
  "language_info": {
   "codemirror_mode": {
    "name": "ipython",
    "version": 3
   },
   "file_extension": ".py",
   "mimetype": "text/x-python",
   "name": "python",
   "nbconvert_exporter": "python",
   "pygments_lexer": "ipython3",
   "version": "3.9.10"
  }
 },
 "nbformat": 4,
 "nbformat_minor": 2
}
