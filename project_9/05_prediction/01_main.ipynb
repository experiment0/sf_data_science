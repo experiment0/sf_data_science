{
 "cells": [
  {
   "cell_type": "markdown",
   "metadata": {},
   "source": [
    "Посчитаем среднюю абсолютную ошибку для полученного прогноза — MAE (Mean Absolute Error),\n",
    "\n",
    "$$ MAE = \\frac{\\sum_{i=1}^{n}\\left | y_{i} - \\hat{y_{i}} \\right |}{n} $$"
   ]
  },
  {
   "cell_type": "markdown",
   "metadata": {},
   "source": [
    "> TODO - написать общую функцию для подсчета этой ошибки"
   ]
  },
  {
   "cell_type": "code",
   "execution_count": null,
   "metadata": {},
   "outputs": [],
   "source": [
    "# Поля для сортировки\n",
    "sort_fields = [F.SpatialDimValueCode.value, F.Period.value]\n",
    "# Тестовые значения\n",
    "test_values = test_data.sort_values(by=sort_fields)[F.LifeExpectancy.value]\n",
    "# Значения прогноза\n",
    "forecast_values = forecast_data.sort_values(by=sort_fields)[F.LifeExpectancy.value]\n",
    "\n",
    "# Посчитаем и выведем метрику\n",
    "mae_score = mean_absolute_error(test_values, forecast_values)\n",
    "\n",
    "print(f'Mean Absolute Error: {round(mae_score, 3)}')"
   ]
  },
  {
   "cell_type": "markdown",
   "metadata": {},
   "source": [
    "То есть, в среднем полученный прогноз ошибается на 0.554 года."
   ]
  }
 ],
 "metadata": {
  "language_info": {
   "name": "python"
  }
 },
 "nbformat": 4,
 "nbformat_minor": 2
}
