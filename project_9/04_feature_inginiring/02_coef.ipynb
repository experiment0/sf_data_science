{
 "cells": [
  {
   "cell_type": "markdown",
   "metadata": {},
   "source": [
    "# Создание коэффициентов благополучия стран"
   ]
  },
  {
   "cell_type": "code",
   "execution_count": 1,
   "metadata": {},
   "outputs": [],
   "source": [
    "import sys\n",
    "# Добавим папку проекта в список системных директорий, чтобы Python видел путь к папке utils\n",
    "sys.path.append('..')"
   ]
  },
  {
   "cell_type": "code",
   "execution_count": null,
   "metadata": {},
   "outputs": [],
   "source": [
    "from typing import Tuple\n",
    "import numpy as np \n",
    "from numpy.linalg import norm\n",
    "import pandas as pd\n",
    "\n",
    "from sklearn.preprocessing import MinMaxScaler\n",
    "\n",
    "import plotly.express as px\n",
    "\n",
    "from utils.constants import (\n",
    "    F, \n",
    "    TARGET_FEATURE,\n",
    ")\n",
    "from utils.graphics import (\n",
    "    display_corellation_by_target,\n",
    ")\n",
    "from utils.display_content import (\n",
    "    dislay_some_fields_description,\n",
    ")\n",
    "from utils.prepare_data import (\n",
    "    move_column_to_end_table,\n",
    "    add_child_mortality_data,\n",
    "    move_column_to_end_table,\n",
    ")\n",
    "from utils.helpers import get_cosine\n",
    "\n",
    "from warnings import simplefilter\n",
    "simplefilter('ignore')"
   ]
  },
  {
   "cell_type": "code",
   "execution_count": 3,
   "metadata": {},
   "outputs": [
    {
     "data": {
      "text/html": [
       "<div>\n",
       "<style scoped>\n",
       "    .dataframe tbody tr th:only-of-type {\n",
       "        vertical-align: middle;\n",
       "    }\n",
       "\n",
       "    .dataframe tbody tr th {\n",
       "        vertical-align: top;\n",
       "    }\n",
       "\n",
       "    .dataframe thead th {\n",
       "        text-align: right;\n",
       "    }\n",
       "</style>\n",
       "<table border=\"1\" class=\"dataframe\">\n",
       "  <thead>\n",
       "    <tr style=\"text-align: right;\">\n",
       "      <th></th>\n",
       "      <th>ParentLocationCode</th>\n",
       "      <th>ParentLocation</th>\n",
       "      <th>SpatialDimValueCode</th>\n",
       "      <th>Location</th>\n",
       "      <th>Period</th>\n",
       "      <th>AdultMortality</th>\n",
       "      <th>Homicides</th>\n",
       "      <th>MaternalMortality</th>\n",
       "      <th>AdultNcdMortality</th>\n",
       "      <th>AdultNcdMortality117</th>\n",
       "      <th>...</th>\n",
       "      <th>Sanitation</th>\n",
       "      <th>DrinkingWater</th>\n",
       "      <th>HealthCareCosts</th>\n",
       "      <th>HealthCareCostsGdp</th>\n",
       "      <th>HealthCareCostsPerCapita</th>\n",
       "      <th>GdpPerCapita</th>\n",
       "      <th>Population</th>\n",
       "      <th>Schooling</th>\n",
       "      <th>ClusterKMeans</th>\n",
       "      <th>LifeExpectancy</th>\n",
       "    </tr>\n",
       "  </thead>\n",
       "  <tbody>\n",
       "    <tr>\n",
       "      <th>0</th>\n",
       "      <td>AFR</td>\n",
       "      <td>Africa</td>\n",
       "      <td>AGO</td>\n",
       "      <td>Angola</td>\n",
       "      <td>2000</td>\n",
       "      <td>34.56</td>\n",
       "      <td>0.01331</td>\n",
       "      <td>0.859921</td>\n",
       "      <td>30.5</td>\n",
       "      <td>0.028126</td>\n",
       "      <td>...</td>\n",
       "      <td>27.56</td>\n",
       "      <td>41.14</td>\n",
       "      <td>2.74</td>\n",
       "      <td>1.11</td>\n",
       "      <td>7.66</td>\n",
       "      <td>563.733796</td>\n",
       "      <td>16194869.0</td>\n",
       "      <td>5.027188</td>\n",
       "      <td>1</td>\n",
       "      <td>49.37</td>\n",
       "    </tr>\n",
       "    <tr>\n",
       "      <th>1</th>\n",
       "      <td>AFR</td>\n",
       "      <td>Africa</td>\n",
       "      <td>AGO</td>\n",
       "      <td>Angola</td>\n",
       "      <td>2001</td>\n",
       "      <td>33.86</td>\n",
       "      <td>0.01310</td>\n",
       "      <td>0.799641</td>\n",
       "      <td>29.7</td>\n",
       "      <td>0.027503</td>\n",
       "      <td>...</td>\n",
       "      <td>28.99</td>\n",
       "      <td>42.25</td>\n",
       "      <td>5.97</td>\n",
       "      <td>2.05</td>\n",
       "      <td>13.35</td>\n",
       "      <td>533.586202</td>\n",
       "      <td>16747208.0</td>\n",
       "      <td>5.092250</td>\n",
       "      <td>1</td>\n",
       "      <td>50.06</td>\n",
       "    </tr>\n",
       "    <tr>\n",
       "      <th>2</th>\n",
       "      <td>AFR</td>\n",
       "      <td>Africa</td>\n",
       "      <td>AGO</td>\n",
       "      <td>Angola</td>\n",
       "      <td>2002</td>\n",
       "      <td>32.51</td>\n",
       "      <td>0.01288</td>\n",
       "      <td>0.758272</td>\n",
       "      <td>29.4</td>\n",
       "      <td>0.027049</td>\n",
       "      <td>...</td>\n",
       "      <td>30.42</td>\n",
       "      <td>43.38</td>\n",
       "      <td>4.19</td>\n",
       "      <td>1.31</td>\n",
       "      <td>11.54</td>\n",
       "      <td>882.147847</td>\n",
       "      <td>17327699.0</td>\n",
       "      <td>5.157312</td>\n",
       "      <td>1</td>\n",
       "      <td>51.06</td>\n",
       "    </tr>\n",
       "    <tr>\n",
       "      <th>3</th>\n",
       "      <td>AFR</td>\n",
       "      <td>Africa</td>\n",
       "      <td>AGO</td>\n",
       "      <td>Angola</td>\n",
       "      <td>2003</td>\n",
       "      <td>32.16</td>\n",
       "      <td>0.01265</td>\n",
       "      <td>0.676496</td>\n",
       "      <td>29.3</td>\n",
       "      <td>0.026962</td>\n",
       "      <td>...</td>\n",
       "      <td>31.86</td>\n",
       "      <td>44.36</td>\n",
       "      <td>4.26</td>\n",
       "      <td>1.47</td>\n",
       "      <td>14.55</td>\n",
       "      <td>992.698979</td>\n",
       "      <td>17943712.0</td>\n",
       "      <td>5.222375</td>\n",
       "      <td>1</td>\n",
       "      <td>51.74</td>\n",
       "    </tr>\n",
       "    <tr>\n",
       "      <th>4</th>\n",
       "      <td>AFR</td>\n",
       "      <td>Africa</td>\n",
       "      <td>AGO</td>\n",
       "      <td>Angola</td>\n",
       "      <td>2004</td>\n",
       "      <td>32.24</td>\n",
       "      <td>0.01229</td>\n",
       "      <td>0.594192</td>\n",
       "      <td>29.0</td>\n",
       "      <td>0.026300</td>\n",
       "      <td>...</td>\n",
       "      <td>33.29</td>\n",
       "      <td>45.35</td>\n",
       "      <td>5.66</td>\n",
       "      <td>1.69</td>\n",
       "      <td>21.36</td>\n",
       "      <td>1266.210864</td>\n",
       "      <td>18600423.0</td>\n",
       "      <td>5.287437</td>\n",
       "      <td>1</td>\n",
       "      <td>52.36</td>\n",
       "    </tr>\n",
       "  </tbody>\n",
       "</table>\n",
       "<p>5 rows × 40 columns</p>\n",
       "</div>"
      ],
      "text/plain": [
       "  ParentLocationCode ParentLocation SpatialDimValueCode Location  Period  \\\n",
       "0                AFR         Africa                 AGO   Angola    2000   \n",
       "1                AFR         Africa                 AGO   Angola    2001   \n",
       "2                AFR         Africa                 AGO   Angola    2002   \n",
       "3                AFR         Africa                 AGO   Angola    2003   \n",
       "4                AFR         Africa                 AGO   Angola    2004   \n",
       "\n",
       "   AdultMortality  Homicides  MaternalMortality  AdultNcdMortality  \\\n",
       "0           34.56    0.01331           0.859921               30.5   \n",
       "1           33.86    0.01310           0.799641               29.7   \n",
       "2           32.51    0.01288           0.758272               29.4   \n",
       "3           32.16    0.01265           0.676496               29.3   \n",
       "4           32.24    0.01229           0.594192               29.0   \n",
       "\n",
       "   AdultNcdMortality117  ...  Sanitation  DrinkingWater  HealthCareCosts  \\\n",
       "0              0.028126  ...       27.56          41.14             2.74   \n",
       "1              0.027503  ...       28.99          42.25             5.97   \n",
       "2              0.027049  ...       30.42          43.38             4.19   \n",
       "3              0.026962  ...       31.86          44.36             4.26   \n",
       "4              0.026300  ...       33.29          45.35             5.66   \n",
       "\n",
       "   HealthCareCostsGdp  HealthCareCostsPerCapita  GdpPerCapita  Population  \\\n",
       "0                1.11                      7.66    563.733796  16194869.0   \n",
       "1                2.05                     13.35    533.586202  16747208.0   \n",
       "2                1.31                     11.54    882.147847  17327699.0   \n",
       "3                1.47                     14.55    992.698979  17943712.0   \n",
       "4                1.69                     21.36   1266.210864  18600423.0   \n",
       "\n",
       "   Schooling  ClusterKMeans  LifeExpectancy  \n",
       "0   5.027188              1           49.37  \n",
       "1   5.092250              1           50.06  \n",
       "2   5.157312              1           51.06  \n",
       "3   5.222375              1           51.74  \n",
       "4   5.287437              1           52.36  \n",
       "\n",
       "[5 rows x 40 columns]"
      ]
     },
     "execution_count": 3,
     "metadata": {},
     "output_type": "execute_result"
    }
   ],
   "source": [
    "# Загрузим таблицу\n",
    "data = pd.read_csv('../data/cumulative_life_expectancy_prepared.csv')\n",
    "\n",
    "# Для случая, если запускаем файл повторно после добавления коэффициентов, удалим поля с ними\n",
    "columns = list(data.columns)\n",
    "\n",
    "if (F.PositiveCoef.value in columns):\n",
    "    data.drop(columns=[F.PositiveCoef.value], inplace=True)\n",
    "if (F.NegativeCoef.value in columns):\n",
    "    data.drop(columns=[F.NegativeCoef.value], inplace=True)\n",
    "\n",
    "data.head()"
   ]
  },
  {
   "cell_type": "markdown",
   "metadata": {},
   "source": [
    "Добавим в таблицу данные о детской смертности.\\\n",
    "Поскольку данные эти есть только до 2017 года, после добавления в таблице остануться данные за 2000-2017 гг."
   ]
  },
  {
   "cell_type": "code",
   "execution_count": 4,
   "metadata": {},
   "outputs": [
    {
     "data": {
      "text/html": [
       "<div>\n",
       "<style scoped>\n",
       "    .dataframe tbody tr th:only-of-type {\n",
       "        vertical-align: middle;\n",
       "    }\n",
       "\n",
       "    .dataframe tbody tr th {\n",
       "        vertical-align: top;\n",
       "    }\n",
       "\n",
       "    .dataframe thead th {\n",
       "        text-align: right;\n",
       "    }\n",
       "</style>\n",
       "<table border=\"1\" class=\"dataframe\">\n",
       "  <thead>\n",
       "    <tr style=\"text-align: right;\">\n",
       "      <th></th>\n",
       "      <th>ParentLocationCode</th>\n",
       "      <th>ParentLocation</th>\n",
       "      <th>SpatialDimValueCode</th>\n",
       "      <th>Location</th>\n",
       "      <th>Period</th>\n",
       "      <th>AdultMortality</th>\n",
       "      <th>Homicides</th>\n",
       "      <th>MaternalMortality</th>\n",
       "      <th>AdultNcdMortality</th>\n",
       "      <th>AdultNcdMortality117</th>\n",
       "      <th>...</th>\n",
       "      <th>ChildUnder5Mortality12</th>\n",
       "      <th>ChildUnder5Mortality3</th>\n",
       "      <th>ChildUnder5Mortality11</th>\n",
       "      <th>ChildUnder5Mortality13</th>\n",
       "      <th>ChildUnder5Mortality17</th>\n",
       "      <th>ChildUnder5Mortality9</th>\n",
       "      <th>ChildUnder5Mortality16</th>\n",
       "      <th>ChildUnder5Mortality15</th>\n",
       "      <th>ChildUnder5Mortality10</th>\n",
       "      <th>LifeExpectancy</th>\n",
       "    </tr>\n",
       "  </thead>\n",
       "  <tbody>\n",
       "    <tr>\n",
       "      <th>0</th>\n",
       "      <td>AFR</td>\n",
       "      <td>Africa</td>\n",
       "      <td>AGO</td>\n",
       "      <td>Angola</td>\n",
       "      <td>2000</td>\n",
       "      <td>34.56</td>\n",
       "      <td>0.01331</td>\n",
       "      <td>0.859921</td>\n",
       "      <td>30.5</td>\n",
       "      <td>0.028126</td>\n",
       "      <td>...</td>\n",
       "      <td>0.029</td>\n",
       "      <td>0.20</td>\n",
       "      <td>0.095</td>\n",
       "      <td>0.091</td>\n",
       "      <td>0.036</td>\n",
       "      <td>0.21</td>\n",
       "      <td>0.027</td>\n",
       "      <td>0.038</td>\n",
       "      <td>0.087</td>\n",
       "      <td>49.37</td>\n",
       "    </tr>\n",
       "    <tr>\n",
       "      <th>1</th>\n",
       "      <td>AFR</td>\n",
       "      <td>Africa</td>\n",
       "      <td>AGO</td>\n",
       "      <td>Angola</td>\n",
       "      <td>2001</td>\n",
       "      <td>33.86</td>\n",
       "      <td>0.01310</td>\n",
       "      <td>0.799641</td>\n",
       "      <td>29.7</td>\n",
       "      <td>0.027503</td>\n",
       "      <td>...</td>\n",
       "      <td>0.030</td>\n",
       "      <td>0.19</td>\n",
       "      <td>0.093</td>\n",
       "      <td>0.090</td>\n",
       "      <td>0.035</td>\n",
       "      <td>0.20</td>\n",
       "      <td>0.027</td>\n",
       "      <td>0.037</td>\n",
       "      <td>0.087</td>\n",
       "      <td>50.06</td>\n",
       "    </tr>\n",
       "    <tr>\n",
       "      <th>2</th>\n",
       "      <td>AFR</td>\n",
       "      <td>Africa</td>\n",
       "      <td>AGO</td>\n",
       "      <td>Angola</td>\n",
       "      <td>2002</td>\n",
       "      <td>32.51</td>\n",
       "      <td>0.01288</td>\n",
       "      <td>0.758272</td>\n",
       "      <td>29.4</td>\n",
       "      <td>0.027049</td>\n",
       "      <td>...</td>\n",
       "      <td>0.032</td>\n",
       "      <td>0.18</td>\n",
       "      <td>0.093</td>\n",
       "      <td>0.092</td>\n",
       "      <td>0.037</td>\n",
       "      <td>0.21</td>\n",
       "      <td>0.028</td>\n",
       "      <td>0.037</td>\n",
       "      <td>0.087</td>\n",
       "      <td>51.06</td>\n",
       "    </tr>\n",
       "    <tr>\n",
       "      <th>3</th>\n",
       "      <td>AFR</td>\n",
       "      <td>Africa</td>\n",
       "      <td>AGO</td>\n",
       "      <td>Angola</td>\n",
       "      <td>2003</td>\n",
       "      <td>32.16</td>\n",
       "      <td>0.01265</td>\n",
       "      <td>0.676496</td>\n",
       "      <td>29.3</td>\n",
       "      <td>0.026962</td>\n",
       "      <td>...</td>\n",
       "      <td>0.034</td>\n",
       "      <td>0.18</td>\n",
       "      <td>0.099</td>\n",
       "      <td>0.097</td>\n",
       "      <td>0.039</td>\n",
       "      <td>0.21</td>\n",
       "      <td>0.029</td>\n",
       "      <td>0.039</td>\n",
       "      <td>0.091</td>\n",
       "      <td>51.74</td>\n",
       "    </tr>\n",
       "    <tr>\n",
       "      <th>4</th>\n",
       "      <td>AFR</td>\n",
       "      <td>Africa</td>\n",
       "      <td>AGO</td>\n",
       "      <td>Angola</td>\n",
       "      <td>2004</td>\n",
       "      <td>32.24</td>\n",
       "      <td>0.01229</td>\n",
       "      <td>0.594192</td>\n",
       "      <td>29.0</td>\n",
       "      <td>0.026300</td>\n",
       "      <td>...</td>\n",
       "      <td>0.036</td>\n",
       "      <td>0.18</td>\n",
       "      <td>0.100</td>\n",
       "      <td>0.100</td>\n",
       "      <td>0.041</td>\n",
       "      <td>0.22</td>\n",
       "      <td>0.030</td>\n",
       "      <td>0.040</td>\n",
       "      <td>0.094</td>\n",
       "      <td>52.36</td>\n",
       "    </tr>\n",
       "  </tbody>\n",
       "</table>\n",
       "<p>5 rows × 54 columns</p>\n",
       "</div>"
      ],
      "text/plain": [
       "  ParentLocationCode ParentLocation SpatialDimValueCode Location  Period  \\\n",
       "0                AFR         Africa                 AGO   Angola    2000   \n",
       "1                AFR         Africa                 AGO   Angola    2001   \n",
       "2                AFR         Africa                 AGO   Angola    2002   \n",
       "3                AFR         Africa                 AGO   Angola    2003   \n",
       "4                AFR         Africa                 AGO   Angola    2004   \n",
       "\n",
       "   AdultMortality  Homicides  MaternalMortality  AdultNcdMortality  \\\n",
       "0           34.56    0.01331           0.859921               30.5   \n",
       "1           33.86    0.01310           0.799641               29.7   \n",
       "2           32.51    0.01288           0.758272               29.4   \n",
       "3           32.16    0.01265           0.676496               29.3   \n",
       "4           32.24    0.01229           0.594192               29.0   \n",
       "\n",
       "   AdultNcdMortality117  ...  ChildUnder5Mortality12  ChildUnder5Mortality3  \\\n",
       "0              0.028126  ...                   0.029                   0.20   \n",
       "1              0.027503  ...                   0.030                   0.19   \n",
       "2              0.027049  ...                   0.032                   0.18   \n",
       "3              0.026962  ...                   0.034                   0.18   \n",
       "4              0.026300  ...                   0.036                   0.18   \n",
       "\n",
       "   ChildUnder5Mortality11  ChildUnder5Mortality13  ChildUnder5Mortality17  \\\n",
       "0                   0.095                   0.091                   0.036   \n",
       "1                   0.093                   0.090                   0.035   \n",
       "2                   0.093                   0.092                   0.037   \n",
       "3                   0.099                   0.097                   0.039   \n",
       "4                   0.100                   0.100                   0.041   \n",
       "\n",
       "   ChildUnder5Mortality9  ChildUnder5Mortality16  ChildUnder5Mortality15  \\\n",
       "0                   0.21                   0.027                   0.038   \n",
       "1                   0.20                   0.027                   0.037   \n",
       "2                   0.21                   0.028                   0.037   \n",
       "3                   0.21                   0.029                   0.039   \n",
       "4                   0.22                   0.030                   0.040   \n",
       "\n",
       "   ChildUnder5Mortality10  LifeExpectancy  \n",
       "0                   0.087           49.37  \n",
       "1                   0.087           50.06  \n",
       "2                   0.087           51.06  \n",
       "3                   0.091           51.74  \n",
       "4                   0.094           52.36  \n",
       "\n",
       "[5 rows x 54 columns]"
      ]
     },
     "execution_count": 4,
     "metadata": {},
     "output_type": "execute_result"
    }
   ],
   "source": [
    "cumulative_data = add_child_mortality_data(data)\n",
    "\n",
    "# Переставим столбец с таргетом в конец таблицы\n",
    "cumulative_data = move_column_to_end_table(cumulative_data, F.LifeExpectancy.value)\n",
    "cumulative_data.head()"
   ]
  },
  {
   "cell_type": "code",
   "execution_count": 5,
   "metadata": {},
   "outputs": [
    {
     "data": {
      "text/markdown": [
       "**Описание полей:**"
      ],
      "text/plain": [
       "<IPython.core.display.Markdown object>"
      ]
     },
     "metadata": {},
     "output_type": "display_data"
    },
    {
     "data": {
      "text/markdown": [
       "- `ParentLocationCode` - Код региона"
      ],
      "text/plain": [
       "<IPython.core.display.Markdown object>"
      ]
     },
     "metadata": {},
     "output_type": "display_data"
    },
    {
     "data": {
      "text/markdown": [
       "- `ParentLocation` - Название региона"
      ],
      "text/plain": [
       "<IPython.core.display.Markdown object>"
      ]
     },
     "metadata": {},
     "output_type": "display_data"
    },
    {
     "data": {
      "text/markdown": [
       "- `SpatialDimValueCode` - Код страны"
      ],
      "text/plain": [
       "<IPython.core.display.Markdown object>"
      ]
     },
     "metadata": {},
     "output_type": "display_data"
    },
    {
     "data": {
      "text/markdown": [
       "- `Location` - Название страны"
      ],
      "text/plain": [
       "<IPython.core.display.Markdown object>"
      ]
     },
     "metadata": {},
     "output_type": "display_data"
    },
    {
     "data": {
      "text/markdown": [
       "- `Period` - Год"
      ],
      "text/plain": [
       "<IPython.core.display.Markdown object>"
      ]
     },
     "metadata": {},
     "output_type": "display_data"
    },
    {
     "data": {
      "text/markdown": [
       "- `AdultMortality` - Смертность среди взрослого населения от 15 до 60 лет (в % от численности населения)"
      ],
      "text/plain": [
       "<IPython.core.display.Markdown object>"
      ]
     },
     "metadata": {},
     "output_type": "display_data"
    },
    {
     "data": {
      "text/markdown": [
       "- `Homicides` - Оценка уровня убийств (%)"
      ],
      "text/plain": [
       "<IPython.core.display.Markdown object>"
      ]
     },
     "metadata": {},
     "output_type": "display_data"
    },
    {
     "data": {
      "text/markdown": [
       "- `MaternalMortality` - Коэффициент материнской смертности (%)"
      ],
      "text/plain": [
       "<IPython.core.display.Markdown object>"
      ]
     },
     "metadata": {},
     "output_type": "display_data"
    },
    {
     "data": {
      "text/markdown": [
       "- `AdultNcdMortality` - Вероятность (в %) смерти в возрасте от 30 до 70 лет от сердечно-сосудистых заболеваний, рака, диабета или хронических респираторных заболеваний"
      ],
      "text/plain": [
       "<IPython.core.display.Markdown object>"
      ]
     },
     "metadata": {},
     "output_type": "display_data"
    },
    {
     "data": {
      "text/markdown": [
       "- `AdultNcdMortality117` - Смертность взрослых от неинфекционных заболеваний (%). Респираторные заболевания"
      ],
      "text/plain": [
       "<IPython.core.display.Markdown object>"
      ]
     },
     "metadata": {},
     "output_type": "display_data"
    },
    {
     "data": {
      "text/markdown": [
       "- `AdultNcdMortality110` - Смертность взрослых от неинфекционных заболеваний (%). Сердечно-сосудистые заболевания"
      ],
      "text/plain": [
       "<IPython.core.display.Markdown object>"
      ]
     },
     "metadata": {},
     "output_type": "display_data"
    },
    {
     "data": {
      "text/markdown": [
       "- `AdultNcdMortality080` - Смертность взрослых от неинфекционных заболеваний (%). Сахарный диабет"
      ],
      "text/plain": [
       "<IPython.core.display.Markdown object>"
      ]
     },
     "metadata": {},
     "output_type": "display_data"
    },
    {
     "data": {
      "text/markdown": [
       "- `AdultNcdMortality061` - Смертность взрослых от неинфекционных заболеваний (%). Злокачественные новообразования"
      ],
      "text/plain": [
       "<IPython.core.display.Markdown object>"
      ]
     },
     "metadata": {},
     "output_type": "display_data"
    },
    {
     "data": {
      "text/markdown": [
       "- `AdultNcdMortalitySum` - Сумма причин (в %) смертности взрослых от неинфекционных заболеваний."
      ],
      "text/plain": [
       "<IPython.core.display.Markdown object>"
      ]
     },
     "metadata": {},
     "output_type": "display_data"
    },
    {
     "data": {
      "text/markdown": [
       "- `PoisoningMortality` - Уровень смертности от непреднамеренного отравления (%)"
      ],
      "text/plain": [
       "<IPython.core.display.Markdown object>"
      ]
     },
     "metadata": {},
     "output_type": "display_data"
    },
    {
     "data": {
      "text/markdown": [
       "- `SuicideMortality` - Стандартизированные по возрасту показатели самоубийств (%)"
      ],
      "text/plain": [
       "<IPython.core.display.Markdown object>"
      ]
     },
     "metadata": {},
     "output_type": "display_data"
    },
    {
     "data": {
      "text/markdown": [
       "- `AlcoholСonsumption` - Потребление алкоголя на душу населения (15+) (в литрах чистого алкоголя)"
      ],
      "text/plain": [
       "<IPython.core.display.Markdown object>"
      ]
     },
     "metadata": {},
     "output_type": "display_data"
    },
    {
     "data": {
      "text/markdown": [
       "- `HepatitisBImmunization` - Охват иммунизацией детей в возрасте 1 года против гепатита В (ГепВ3) (%)"
      ],
      "text/plain": [
       "<IPython.core.display.Markdown object>"
      ]
     },
     "metadata": {},
     "output_type": "display_data"
    },
    {
     "data": {
      "text/markdown": [
       "- `MeaslesImmunization` - Охват первой дозой вакцины, содержащей коревой компонент (MCV1), среди детей в возрасте 1 года (%)"
      ],
      "text/plain": [
       "<IPython.core.display.Markdown object>"
      ]
     },
     "metadata": {},
     "output_type": "display_data"
    },
    {
     "data": {
      "text/markdown": [
       "- `PolioImmunization` - Охват иммунизацией от полиомиелита (Pol3) среди детей в возрасте 1 года (%)"
      ],
      "text/plain": [
       "<IPython.core.display.Markdown object>"
      ]
     },
     "metadata": {},
     "output_type": "display_data"
    },
    {
     "data": {
      "text/markdown": [
       "- `DiphtheriaImmunization` - Охват иммунизацией детей в возрасте 1 года дифтерийно-столбнячным анатоксином и коклюшем (АКДС3) (%)"
      ],
      "text/plain": [
       "<IPython.core.display.Markdown object>"
      ]
     },
     "metadata": {},
     "output_type": "display_data"
    },
    {
     "data": {
      "text/markdown": [
       "- `BmiAdultUnderweight` - Распространенность недостаточного веса среди взрослых, ИМТ < 18,5 (стандартизированная по возрасту оценка) (%)"
      ],
      "text/plain": [
       "<IPython.core.display.Markdown object>"
      ]
     },
     "metadata": {},
     "output_type": "display_data"
    },
    {
     "data": {
      "text/markdown": [
       "- `BmiAdultOverweight25` - Распространенность избыточного веса среди взрослых, ИМТ >= 25 (стандартизированная по возрасту оценка) (%)"
      ],
      "text/plain": [
       "<IPython.core.display.Markdown object>"
      ]
     },
     "metadata": {},
     "output_type": "display_data"
    },
    {
     "data": {
      "text/markdown": [
       "- `BmiAdultOverweight30` - Распространенность ожирения среди взрослых, ИМТ >= 30 (стандартизированная по возрасту оценка) (%)"
      ],
      "text/plain": [
       "<IPython.core.display.Markdown object>"
      ]
     },
     "metadata": {},
     "output_type": "display_data"
    },
    {
     "data": {
      "text/markdown": [
       "- `BmiChildThinness` - Распространенность худобы среди детей 5-9 лет, ИМТ < -2 стандартных отклонений ниже медианы (грубая оценка) (%)"
      ],
      "text/plain": [
       "<IPython.core.display.Markdown object>"
      ]
     },
     "metadata": {},
     "output_type": "display_data"
    },
    {
     "data": {
      "text/markdown": [
       "- `BmiTeenagerThinness` - Распространенность худобы среди подростков 10-19 лет, ИМТ < -2 стандартных отклонений ниже медианы (грубая оценка) (%)"
      ],
      "text/plain": [
       "<IPython.core.display.Markdown object>"
      ]
     },
     "metadata": {},
     "output_type": "display_data"
    },
    {
     "data": {
      "text/markdown": [
       "- `BmiChildOverweight1` - Распространенность избыточного веса среди детей 5-9 лет, ИМТ > +1 стандартного отклонения выше медианы (грубая оценка) (%)"
      ],
      "text/plain": [
       "<IPython.core.display.Markdown object>"
      ]
     },
     "metadata": {},
     "output_type": "display_data"
    },
    {
     "data": {
      "text/markdown": [
       "- `BmiTeenagerOverweight1` - Распространенность избыточного веса среди подростков 10-19 лет, ИМТ > +1 стандартного отклонения выше медианы (грубая оценка) (%)"
      ],
      "text/plain": [
       "<IPython.core.display.Markdown object>"
      ]
     },
     "metadata": {},
     "output_type": "display_data"
    },
    {
     "data": {
      "text/markdown": [
       "- `BmiChildOverweight2` - Распространенность ожирения среди детей 5-9 лет, ИМТ > +2 стандартных отклонений выше медианы (грубая оценка) (%)"
      ],
      "text/plain": [
       "<IPython.core.display.Markdown object>"
      ]
     },
     "metadata": {},
     "output_type": "display_data"
    },
    {
     "data": {
      "text/markdown": [
       "- `BmiTeenagerOverweight2` - Распространенность ожирения среди подростков 10-19 лет, ИМТ > +2 стандартных отклонений выше медианы (грубая оценка) (%)"
      ],
      "text/plain": [
       "<IPython.core.display.Markdown object>"
      ]
     },
     "metadata": {},
     "output_type": "display_data"
    },
    {
     "data": {
      "text/markdown": [
       "- `Sanitation` - Население, пользующееся как минимум базовыми услугами санитарии (%)"
      ],
      "text/plain": [
       "<IPython.core.display.Markdown object>"
      ]
     },
     "metadata": {},
     "output_type": "display_data"
    },
    {
     "data": {
      "text/markdown": [
       "- `DrinkingWater` - Население, пользующееся по крайней мере базовыми услугами питьевого водоснабжения (%)"
      ],
      "text/plain": [
       "<IPython.core.display.Markdown object>"
      ]
     },
     "metadata": {},
     "output_type": "display_data"
    },
    {
     "data": {
      "text/markdown": [
       "- `HealthCareCosts` - Общие внутренние государственные расходы на здравоохранение в процентах от общих государственных расходов (%)"
      ],
      "text/plain": [
       "<IPython.core.display.Markdown object>"
      ]
     },
     "metadata": {},
     "output_type": "display_data"
    },
    {
     "data": {
      "text/markdown": [
       "- `HealthCareCostsGdp` - Общие внутренние государственные расходы на здравоохранение в процентах от валового внутреннего продукта (ВВП) (%)"
      ],
      "text/plain": [
       "<IPython.core.display.Markdown object>"
      ]
     },
     "metadata": {},
     "output_type": "display_data"
    },
    {
     "data": {
      "text/markdown": [
       "- `HealthCareCostsPerCapita` - Общие внутренние государственные расходы на здравоохранение на душу населения в долларах США"
      ],
      "text/plain": [
       "<IPython.core.display.Markdown object>"
      ]
     },
     "metadata": {},
     "output_type": "display_data"
    },
    {
     "data": {
      "text/markdown": [
       "- `GdpPerCapita` - ВВП на душу населения (в долл. США)"
      ],
      "text/plain": [
       "<IPython.core.display.Markdown object>"
      ]
     },
     "metadata": {},
     "output_type": "display_data"
    },
    {
     "data": {
      "text/markdown": [
       "- `Population` - Общая численность населения"
      ],
      "text/plain": [
       "<IPython.core.display.Markdown object>"
      ]
     },
     "metadata": {},
     "output_type": "display_data"
    },
    {
     "data": {
      "text/markdown": [
       "- `Schooling` - Средняя продолжительность формального образования для лиц в возрасте 15–64 лет"
      ],
      "text/plain": [
       "<IPython.core.display.Markdown object>"
      ]
     },
     "metadata": {},
     "output_type": "display_data"
    },
    {
     "data": {
      "text/markdown": [
       "- `ClusterKMeans` - Кластер страны, определенный с помощью k-means"
      ],
      "text/plain": [
       "<IPython.core.display.Markdown object>"
      ]
     },
     "metadata": {},
     "output_type": "display_data"
    },
    {
     "data": {
      "text/markdown": [
       "- `ChildUnder5Mortality2` - Распределение причин смерти среди детей в возрасте до 5 лет (%). ВИЧ/СПИД."
      ],
      "text/plain": [
       "<IPython.core.display.Markdown object>"
      ]
     },
     "metadata": {},
     "output_type": "display_data"
    },
    {
     "data": {
      "text/markdown": [
       "- `ChildUnder5Mortality5` - Распределение причин смерти среди детей в возрасте до 5 лет (%). Столбняк."
      ],
      "text/plain": [
       "<IPython.core.display.Markdown object>"
      ]
     },
     "metadata": {},
     "output_type": "display_data"
    },
    {
     "data": {
      "text/markdown": [
       "- `ChildUnder5Mortality6` - Распределение причин смерти среди детей в возрасте до 5 лет (%). Корь."
      ],
      "text/plain": [
       "<IPython.core.display.Markdown object>"
      ]
     },
     "metadata": {},
     "output_type": "display_data"
    },
    {
     "data": {
      "text/markdown": [
       "- `ChildUnder5Mortality7` - Распределение причин смерти среди детей в возрасте до 5 лет (%). Менингит/энцефалит."
      ],
      "text/plain": [
       "<IPython.core.display.Markdown object>"
      ]
     },
     "metadata": {},
     "output_type": "display_data"
    },
    {
     "data": {
      "text/markdown": [
       "- `ChildUnder5Mortality8` - Распределение причин смерти среди детей в возрасте до 5 лет (%). Малярия."
      ],
      "text/plain": [
       "<IPython.core.display.Markdown object>"
      ]
     },
     "metadata": {},
     "output_type": "display_data"
    },
    {
     "data": {
      "text/markdown": [
       "- `ChildUnder5Mortality12` - Распределение причин смерти среди детей в возрасте до 5 лет (%). Сепсис и другие инфекционные состояния новорожденных."
      ],
      "text/plain": [
       "<IPython.core.display.Markdown object>"
      ]
     },
     "metadata": {},
     "output_type": "display_data"
    },
    {
     "data": {
      "text/markdown": [
       "- `ChildUnder5Mortality3` - Распределение причин смерти среди детей в возрасте до 5 лет (%). Диарейные заболевания."
      ],
      "text/plain": [
       "<IPython.core.display.Markdown object>"
      ]
     },
     "metadata": {},
     "output_type": "display_data"
    },
    {
     "data": {
      "text/markdown": [
       "- `ChildUnder5Mortality11` - Распределение причин смерти среди детей в возрасте до 5 лет (%). Родовая асфиксия и родовая травма."
      ],
      "text/plain": [
       "<IPython.core.display.Markdown object>"
      ]
     },
     "metadata": {},
     "output_type": "display_data"
    },
    {
     "data": {
      "text/markdown": [
       "- `ChildUnder5Mortality13` - Распределение причин смерти среди детей в возрасте до 5 лет (%). Другие инфекционные, перинатальные и алиментарные состояния."
      ],
      "text/plain": [
       "<IPython.core.display.Markdown object>"
      ]
     },
     "metadata": {},
     "output_type": "display_data"
    },
    {
     "data": {
      "text/markdown": [
       "- `ChildUnder5Mortality17` - Распределение причин смерти среди детей в возрасте до 5 лет (%). Травмы."
      ],
      "text/plain": [
       "<IPython.core.display.Markdown object>"
      ]
     },
     "metadata": {},
     "output_type": "display_data"
    },
    {
     "data": {
      "text/markdown": [
       "- `ChildUnder5Mortality9` - Распределение причин смерти среди детей в возрасте до 5 лет (%). Острые инфекции нижних дыхательных путей."
      ],
      "text/plain": [
       "<IPython.core.display.Markdown object>"
      ]
     },
     "metadata": {},
     "output_type": "display_data"
    },
    {
     "data": {
      "text/markdown": [
       "- `ChildUnder5Mortality16` - Распределение причин смерти среди детей в возрасте до 5 лет (%). Другие неинфекционные заболевания."
      ],
      "text/plain": [
       "<IPython.core.display.Markdown object>"
      ]
     },
     "metadata": {},
     "output_type": "display_data"
    },
    {
     "data": {
      "text/markdown": [
       "- `ChildUnder5Mortality15` - Распределение причин смерти среди детей в возрасте до 5 лет (%). Врожденные аномалии."
      ],
      "text/plain": [
       "<IPython.core.display.Markdown object>"
      ]
     },
     "metadata": {},
     "output_type": "display_data"
    },
    {
     "data": {
      "text/markdown": [
       "- `ChildUnder5Mortality10` - Распределение причин смерти среди детей в возрасте до 5 лет (%). Недоношенность."
      ],
      "text/plain": [
       "<IPython.core.display.Markdown object>"
      ]
     },
     "metadata": {},
     "output_type": "display_data"
    },
    {
     "data": {
      "text/markdown": [
       "- `LifeExpectancy` - Ожидаемая продоложительность жизни"
      ],
      "text/plain": [
       "<IPython.core.display.Markdown object>"
      ]
     },
     "metadata": {},
     "output_type": "display_data"
    }
   ],
   "source": [
    "# Выведем описание полей\n",
    "dislay_some_fields_description(list(cumulative_data.columns))"
   ]
  },
  {
   "cell_type": "markdown",
   "metadata": {},
   "source": [
    "Посмотрим на корреляцию признаков с целевой переменной."
   ]
  },
  {
   "cell_type": "code",
   "execution_count": 6,
   "metadata": {},
   "outputs": [
    {
     "data": {
      "image/png": "[encoded data removed]",
      "text/plain": [
       "<Figure size 1440x576 with 1 Axes>"
      ]
     },
     "metadata": {
      "needs_background": "light"
     },
     "output_type": "display_data"
    },
    {
     "data": {
      "text/html": [
       "<div style=\"margin-left: 45px\"}><font color=\"LightCoral\"><strong>Положительная корреляция</strong></font><br /><font color=\"DodgerBlue\"><strong>Отрицательная корреляция</strong></font></div>"
      ],
      "text/plain": [
       "<IPython.core.display.HTML object>"
      ]
     },
     "metadata": {},
     "output_type": "display_data"
    }
   ],
   "source": [
    "display_corellation_by_target(cumulative_data, figsize=(20, 8))"
   ]
  },
  {
   "cell_type": "markdown",
   "metadata": {},
   "source": [
    "## Описание алгоритма формирования коэффициентов\n",
    "\n",
    "Создадим два коэффициента.\n",
    "\n",
    "- Коэффициент благополучия страны.\n",
    "- Коэффициент неблагополучия страны.\n",
    "\n",
    "Идея формирования коэффициентов состоит в следующем.\n",
    "\n",
    "Часть признаков положительно коррелируют с ожидаемой продолжительностью жизни, часть отрицательно.\n",
    "\n",
    "То есть, часть факторов способствуют/положительно сочетаются с высокой продолжительностью жизни и являются признаками благополучной страны.\\\n",
    "А часть фаторов отрицательно влияют на продолжительность жизни и являются признаками неблагополучной страны.\n",
    "\n",
    "**Разделим все признаки на 2 группы.**\n",
    "\n",
    "- Признаки, положительно коррелирующие с целевой переменной\n",
    "- Признаки, отрицательно коррелирующие с целевой переменной\n",
    "\n",
    "Из этих признаков исключим те, которые прямого отношения к благополучию (или не благополучию) не имеют.\\\n",
    "Список их соберем ниже.\n",
    "\n",
    "**Далее из этих двух групп соберем два вектора.**\n",
    "\n",
    "Первый вектор будем собирать из данных стран с кластером `ClusterKMeans == 0`, \\\n",
    "в который ранее вошли благополучные страны.\\\n",
    "Второй вектор будем собирать из данных стран с кластером `ClusterKMeans == 1`, \\\n",
    "в который ранее вошли неблагополучные страны.\n",
    "\n",
    "Условно, составим идеальный вектор благополучной страны.\\\n",
    "По признакам, положительно коррелирующим с целевым, \\\n",
    "возьмем в группе стран с `ClusterKMeans == 0` максимальные средние по годам значения.\n",
    "\n",
    "И составим вектор максимально неблагополучной страны.\\\n",
    "По признакам, отрицательно коррелирующим с целевым, \\\n",
    "возьмем по группе стран с `ClusterKMeans == 1` максимальные средние по годам значения.\n",
    "\n",
    "Далее **коэффициент благополучия** посчитаем как косинус угла вектора средних данных по каждой стране с полученным идеальным вектором.\\\n",
    "Косинус угла будет означать степень сонаправленности вектра данной страны с вектором идеальной страны.\\\n",
    "Чем косинус больше, тем угол меньше, соответственно сонаправленность больше.\n",
    "\n",
    "**Коэффициент неблагополучия** страны посчитаем как косинус угла вектора средних данных по каждой стране с полученным вектором максимально неблагополучной страны.\\\n",
    "Косинус угла будет означать степень сонаправленности вектора данной страны с вектором максимально неблагополучной страны."
   ]
  },
  {
   "cell_type": "markdown",
   "metadata": {},
   "source": [
    "## Формирование коэффициентов"
   ]
  },
  {
   "cell_type": "markdown",
   "metadata": {},
   "source": [
    "Напишем функцию, которая будет делить признаки на две группы.\\\n",
    "С положительной и отрицательной корреляцией с целевой переменной."
   ]
  },
  {
   "cell_type": "code",
   "execution_count": 7,
   "metadata": {},
   "outputs": [],
   "source": [
    "def get_split_correlation_fields(\n",
    "    data: pd.DataFrame, \n",
    "    method: str = 'pearson',\n",
    "    target_feature_name: str = TARGET_FEATURE,\n",
    ") -> Tuple[pd.DataFrame, pd.DataFrame]:\n",
    "    \"\"\"Формирует две таблицы. \n",
    "    Одну с признаками, положительно коррелирующими с целевой переменной \n",
    "    (в формате: индекс - имя признака, значение - коэффициент корреляции).\n",
    "    И вторую аналогичную с отрицательно коррелирующими признаками\n",
    "\n",
    "    Args:\n",
    "        data (pd.DataFrame): Данные, которые проверяем на корреляцию с целевой переменной\n",
    "        method (str, optional): Метод, с помощью которого считается коэффициент корреляции. \n",
    "            По умолчанию 'pearson'.\n",
    "        target_feature_name (str, optional): Имя целевой переменной. \n",
    "            По умолчанию - константа TARGET_FEATURE.\n",
    "\n",
    "    Returns:\n",
    "        Tuple[pd.DataFrame, pd.DataFrame]: таблицы данными признаков корреляции\n",
    "    \"\"\"\n",
    "    # Матрица корреляции\n",
    "    data_corr = data.select_dtypes(include=np.number).corr(method=method)\n",
    "\n",
    "    # Оставим в таблице только целевую переменную\n",
    "    data_corr = data_corr[[target_feature_name]]\n",
    "    \n",
    "    # Имя поля для значений коэффициента корреляции\n",
    "    corr_field_name = 'Correlation'\n",
    "    # Переименуем\n",
    "    data_corr.rename(columns={ target_feature_name: corr_field_name }, inplace=True)\n",
    "    \n",
    "    # Маски для положительной и отрицательной корреляции\n",
    "    mask_positive = data_corr[corr_field_name] >= 0\n",
    "    mask_negative = data_corr[corr_field_name] < 0\n",
    "\n",
    "    # Строки с положительной корреляцией\n",
    "    positive_data = data_corr[mask_positive]\n",
    "    positive_data.sort_values(by=corr_field_name, ascending=False, inplace=True)\n",
    "    \n",
    "    # Строки с отрицательной корреляцией\n",
    "    negative_data = data_corr[mask_negative]\n",
    "    negative_data.sort_values(by=corr_field_name, inplace=True)    \n",
    "    \n",
    "    return positive_data, negative_data"
   ]
  },
  {
   "cell_type": "code",
   "execution_count": 8,
   "metadata": {},
   "outputs": [
    {
     "data": {
      "text/markdown": [
       "**Описание полей:**"
      ],
      "text/plain": [
       "<IPython.core.display.Markdown object>"
      ]
     },
     "metadata": {},
     "output_type": "display_data"
    },
    {
     "data": {
      "text/markdown": [
       "- `Period` - Год"
      ],
      "text/plain": [
       "<IPython.core.display.Markdown object>"
      ]
     },
     "metadata": {},
     "output_type": "display_data"
    },
    {
     "data": {
      "text/markdown": [
       "- `Population` - Общая численность населения"
      ],
      "text/plain": [
       "<IPython.core.display.Markdown object>"
      ]
     },
     "metadata": {},
     "output_type": "display_data"
    },
    {
     "data": {
      "text/markdown": [
       "- `AlcoholСonsumption` - Потребление алкоголя на душу населения (15+) (в литрах чистого алкоголя)"
      ],
      "text/plain": [
       "<IPython.core.display.Markdown object>"
      ]
     },
     "metadata": {},
     "output_type": "display_data"
    },
    {
     "data": {
      "text/markdown": [
       "- `BmiAdultOverweight25` - Распространенность избыточного веса среди взрослых, ИМТ >= 25 (стандартизированная по возрасту оценка) (%)"
      ],
      "text/plain": [
       "<IPython.core.display.Markdown object>"
      ]
     },
     "metadata": {},
     "output_type": "display_data"
    },
    {
     "data": {
      "text/markdown": [
       "- `BmiAdultOverweight30` - Распространенность ожирения среди взрослых, ИМТ >= 30 (стандартизированная по возрасту оценка) (%)"
      ],
      "text/plain": [
       "<IPython.core.display.Markdown object>"
      ]
     },
     "metadata": {},
     "output_type": "display_data"
    },
    {
     "data": {
      "text/markdown": [
       "- `BmiChildOverweight1` - Распространенность избыточного веса среди детей 5-9 лет, ИМТ > +1 стандартного отклонения выше медианы (грубая оценка) (%)"
      ],
      "text/plain": [
       "<IPython.core.display.Markdown object>"
      ]
     },
     "metadata": {},
     "output_type": "display_data"
    },
    {
     "data": {
      "text/markdown": [
       "- `BmiTeenagerOverweight1` - Распространенность избыточного веса среди подростков 10-19 лет, ИМТ > +1 стандартного отклонения выше медианы (грубая оценка) (%)"
      ],
      "text/plain": [
       "<IPython.core.display.Markdown object>"
      ]
     },
     "metadata": {},
     "output_type": "display_data"
    },
    {
     "data": {
      "text/markdown": [
       "- `BmiChildOverweight2` - Распространенность ожирения среди детей 5-9 лет, ИМТ > +2 стандартных отклонений выше медианы (грубая оценка) (%)"
      ],
      "text/plain": [
       "<IPython.core.display.Markdown object>"
      ]
     },
     "metadata": {},
     "output_type": "display_data"
    },
    {
     "data": {
      "text/markdown": [
       "- `BmiTeenagerOverweight2` - Распространенность ожирения среди подростков 10-19 лет, ИМТ > +2 стандартных отклонений выше медианы (грубая оценка) (%)"
      ],
      "text/plain": [
       "<IPython.core.display.Markdown object>"
      ]
     },
     "metadata": {},
     "output_type": "display_data"
    },
    {
     "data": {
      "text/markdown": [
       "- `AdultNcdMortality061` - Смертность взрослых от неинфекционных заболеваний (%). Злокачественные новообразования"
      ],
      "text/plain": [
       "<IPython.core.display.Markdown object>"
      ]
     },
     "metadata": {},
     "output_type": "display_data"
    },
    {
     "data": {
      "text/markdown": [
       "- `AdultNcdMortality080` - Смертность взрослых от неинфекционных заболеваний (%). Сахарный диабет"
      ],
      "text/plain": [
       "<IPython.core.display.Markdown object>"
      ]
     },
     "metadata": {},
     "output_type": "display_data"
    },
    {
     "data": {
      "text/markdown": [
       "- `AdultNcdMortalitySum` - Сумма причин (в %) смертности взрослых от неинфекционных заболеваний."
      ],
      "text/plain": [
       "<IPython.core.display.Markdown object>"
      ]
     },
     "metadata": {},
     "output_type": "display_data"
    },
    {
     "data": {
      "text/markdown": [
       "- `AdultNcdMortality110` - Смертность взрослых от неинфекционных заболеваний (%). Сердечно-сосудистые заболевания"
      ],
      "text/plain": [
       "<IPython.core.display.Markdown object>"
      ]
     },
     "metadata": {},
     "output_type": "display_data"
    },
    {
     "data": {
      "text/markdown": [
       "- `AdultNcdMortality117` - Смертность взрослых от неинфекционных заболеваний (%). Респираторные заболевания"
      ],
      "text/plain": [
       "<IPython.core.display.Markdown object>"
      ]
     },
     "metadata": {},
     "output_type": "display_data"
    },
    {
     "data": {
      "text/markdown": [
       "- `ChildUnder5Mortality15` - Распределение причин смерти среди детей в возрасте до 5 лет (%). Врожденные аномалии."
      ],
      "text/plain": [
       "<IPython.core.display.Markdown object>"
      ]
     },
     "metadata": {},
     "output_type": "display_data"
    },
    {
     "data": {
      "text/markdown": [
       "- `ChildUnder5Mortality16` - Распределение причин смерти среди детей в возрасте до 5 лет (%). Другие неинфекционные заболевания."
      ],
      "text/plain": [
       "<IPython.core.display.Markdown object>"
      ]
     },
     "metadata": {},
     "output_type": "display_data"
    },
    {
     "data": {
      "text/markdown": [
       "- `ChildUnder5Mortality10` - Распределение причин смерти среди детей в возрасте до 5 лет (%). Недоношенность."
      ],
      "text/plain": [
       "<IPython.core.display.Markdown object>"
      ]
     },
     "metadata": {},
     "output_type": "display_data"
    },
    {
     "data": {
      "text/markdown": [
       "- `ChildUnder5Mortality17` - Распределение причин смерти среди детей в возрасте до 5 лет (%). Травмы."
      ],
      "text/plain": [
       "<IPython.core.display.Markdown object>"
      ]
     },
     "metadata": {},
     "output_type": "display_data"
    }
   ],
   "source": [
    "# Список столбцов, которые не будут участвовать в формировании групп\n",
    "columns_to_exclude = [\n",
    "    F.Period.value,\n",
    "    F.Population.value, \n",
    "    F.AlcoholСonsumption.value,\n",
    "    F.BmiAdultOverweight25.value,\n",
    "    F.BmiAdultOverweight30.value,\n",
    "    F.BmiChildOverweight1.value,\n",
    "    F.BmiTeenagerOverweight1.value,\n",
    "    F.BmiChildOverweight2.value,\n",
    "    F.BmiTeenagerOverweight2.value,\n",
    "    F.AdultNcdMortality061.value,\n",
    "    F.AdultNcdMortality080.value,#\n",
    "    F.AdultNcdMortalitySum.value,\n",
    "    F.AdultNcdMortality110.value,\n",
    "    F.AdultNcdMortality117.value,\n",
    "    F.ChildUnder5Mortality15.value,\n",
    "    F.ChildUnder5Mortality16.value,\n",
    "    F.ChildUnder5Mortality10.value,\n",
    "    F.ChildUnder5Mortality17.value,\n",
    "]\n",
    "# Выведем их описание\n",
    "dislay_some_fields_description(columns_to_exclude)"
   ]
  },
  {
   "cell_type": "markdown",
   "metadata": {},
   "source": [
    "Большинство этих признаков положительно коррелируют с целевым признаком продолжительности жизни.\\\n",
    "Но не являются факторами, которые можно отнести  к признакам благополучия.\n",
    "\n",
    "Признак `AdultNcdMortality080` имеет отрицательную коореляцию с целевым, но у него низкий коэффициент и он не вносит большого вклада."
   ]
  },
  {
   "cell_type": "code",
   "execution_count": 9,
   "metadata": {},
   "outputs": [
    {
     "name": "stdout",
     "output_type": "stream",
     "text": [
      "Признаки, положительно коррелирующие с целевой переменной\n"
     ]
    },
    {
     "data": {
      "text/html": [
       "<div>\n",
       "<style scoped>\n",
       "    .dataframe tbody tr th:only-of-type {\n",
       "        vertical-align: middle;\n",
       "    }\n",
       "\n",
       "    .dataframe tbody tr th {\n",
       "        vertical-align: top;\n",
       "    }\n",
       "\n",
       "    .dataframe thead th {\n",
       "        text-align: right;\n",
       "    }\n",
       "</style>\n",
       "<table border=\"1\" class=\"dataframe\">\n",
       "  <thead>\n",
       "    <tr style=\"text-align: right;\">\n",
       "      <th></th>\n",
       "      <th>Correlation</th>\n",
       "    </tr>\n",
       "  </thead>\n",
       "  <tbody>\n",
       "    <tr>\n",
       "      <th>LifeExpectancy</th>\n",
       "      <td>1.000000</td>\n",
       "    </tr>\n",
       "    <tr>\n",
       "      <th>Sanitation</th>\n",
       "      <td>0.829635</td>\n",
       "    </tr>\n",
       "    <tr>\n",
       "      <th>DrinkingWater</th>\n",
       "      <td>0.814079</td>\n",
       "    </tr>\n",
       "    <tr>\n",
       "      <th>Schooling</th>\n",
       "      <td>0.679624</td>\n",
       "    </tr>\n",
       "    <tr>\n",
       "      <th>PolioImmunization</th>\n",
       "      <td>0.622975</td>\n",
       "    </tr>\n",
       "    <tr>\n",
       "      <th>MeaslesImmunization</th>\n",
       "      <td>0.619378</td>\n",
       "    </tr>\n",
       "    <tr>\n",
       "      <th>DiphtheriaImmunization</th>\n",
       "      <td>0.615419</td>\n",
       "    </tr>\n",
       "    <tr>\n",
       "      <th>HealthCareCostsGdp</th>\n",
       "      <td>0.591971</td>\n",
       "    </tr>\n",
       "    <tr>\n",
       "      <th>GdpPerCapita</th>\n",
       "      <td>0.575106</td>\n",
       "    </tr>\n",
       "    <tr>\n",
       "      <th>HealthCareCosts</th>\n",
       "      <td>0.539448</td>\n",
       "    </tr>\n",
       "    <tr>\n",
       "      <th>HealthCareCostsPerCapita</th>\n",
       "      <td>0.523614</td>\n",
       "    </tr>\n",
       "    <tr>\n",
       "      <th>HepatitisBImmunization</th>\n",
       "      <td>0.327583</td>\n",
       "    </tr>\n",
       "  </tbody>\n",
       "</table>\n",
       "</div>"
      ],
      "text/plain": [
       "                          Correlation\n",
       "LifeExpectancy               1.000000\n",
       "Sanitation                   0.829635\n",
       "DrinkingWater                0.814079\n",
       "Schooling                    0.679624\n",
       "PolioImmunization            0.622975\n",
       "MeaslesImmunization          0.619378\n",
       "DiphtheriaImmunization       0.615419\n",
       "HealthCareCostsGdp           0.591971\n",
       "GdpPerCapita                 0.575106\n",
       "HealthCareCosts              0.539448\n",
       "HealthCareCostsPerCapita     0.523614\n",
       "HepatitisBImmunization       0.327583"
      ]
     },
     "execution_count": 9,
     "metadata": {},
     "output_type": "execute_result"
    }
   ],
   "source": [
    "# Разделим данные с помощью нашей функции\n",
    "positive_data, negative_data = get_split_correlation_fields(\n",
    "    cumulative_data.drop(columns=columns_to_exclude)\n",
    ")\n",
    "\n",
    "print('Признаки, положительно коррелирующие с целевой переменной')\n",
    "positive_data"
   ]
  },
  {
   "cell_type": "code",
   "execution_count": 10,
   "metadata": {},
   "outputs": [
    {
     "name": "stdout",
     "output_type": "stream",
     "text": [
      "Признаки, отрицательно коррелирующие с целевой переменной\n"
     ]
    },
    {
     "data": {
      "text/html": [
       "<div>\n",
       "<style scoped>\n",
       "    .dataframe tbody tr th:only-of-type {\n",
       "        vertical-align: middle;\n",
       "    }\n",
       "\n",
       "    .dataframe tbody tr th {\n",
       "        vertical-align: top;\n",
       "    }\n",
       "\n",
       "    .dataframe thead th {\n",
       "        text-align: right;\n",
       "    }\n",
       "</style>\n",
       "<table border=\"1\" class=\"dataframe\">\n",
       "  <thead>\n",
       "    <tr style=\"text-align: right;\">\n",
       "      <th></th>\n",
       "      <th>Correlation</th>\n",
       "    </tr>\n",
       "  </thead>\n",
       "  <tbody>\n",
       "    <tr>\n",
       "      <th>AdultMortality</th>\n",
       "      <td>-0.937774</td>\n",
       "    </tr>\n",
       "    <tr>\n",
       "      <th>MaternalMortality</th>\n",
       "      <td>-0.805433</td>\n",
       "    </tr>\n",
       "    <tr>\n",
       "      <th>ClusterKMeans</th>\n",
       "      <td>-0.792140</td>\n",
       "    </tr>\n",
       "    <tr>\n",
       "      <th>ChildUnder5Mortality3</th>\n",
       "      <td>-0.791491</td>\n",
       "    </tr>\n",
       "    <tr>\n",
       "      <th>AdultNcdMortality</th>\n",
       "      <td>-0.683089</td>\n",
       "    </tr>\n",
       "    <tr>\n",
       "      <th>PoisoningMortality</th>\n",
       "      <td>-0.682984</td>\n",
       "    </tr>\n",
       "    <tr>\n",
       "      <th>ChildUnder5Mortality9</th>\n",
       "      <td>-0.635524</td>\n",
       "    </tr>\n",
       "    <tr>\n",
       "      <th>BmiAdultUnderweight</th>\n",
       "      <td>-0.607281</td>\n",
       "    </tr>\n",
       "    <tr>\n",
       "      <th>ChildUnder5Mortality8</th>\n",
       "      <td>-0.596774</td>\n",
       "    </tr>\n",
       "    <tr>\n",
       "      <th>ChildUnder5Mortality7</th>\n",
       "      <td>-0.593839</td>\n",
       "    </tr>\n",
       "    <tr>\n",
       "      <th>ChildUnder5Mortality2</th>\n",
       "      <td>-0.548161</td>\n",
       "    </tr>\n",
       "    <tr>\n",
       "      <th>ChildUnder5Mortality5</th>\n",
       "      <td>-0.496458</td>\n",
       "    </tr>\n",
       "    <tr>\n",
       "      <th>BmiTeenagerThinness</th>\n",
       "      <td>-0.492884</td>\n",
       "    </tr>\n",
       "    <tr>\n",
       "      <th>SuicideMortality</th>\n",
       "      <td>-0.447190</td>\n",
       "    </tr>\n",
       "    <tr>\n",
       "      <th>ChildUnder5Mortality6</th>\n",
       "      <td>-0.406961</td>\n",
       "    </tr>\n",
       "    <tr>\n",
       "      <th>BmiChildThinness</th>\n",
       "      <td>-0.390253</td>\n",
       "    </tr>\n",
       "    <tr>\n",
       "      <th>ChildUnder5Mortality11</th>\n",
       "      <td>-0.243852</td>\n",
       "    </tr>\n",
       "    <tr>\n",
       "      <th>Homicides</th>\n",
       "      <td>-0.231450</td>\n",
       "    </tr>\n",
       "    <tr>\n",
       "      <th>ChildUnder5Mortality12</th>\n",
       "      <td>-0.199756</td>\n",
       "    </tr>\n",
       "    <tr>\n",
       "      <th>ChildUnder5Mortality13</th>\n",
       "      <td>-0.091568</td>\n",
       "    </tr>\n",
       "  </tbody>\n",
       "</table>\n",
       "</div>"
      ],
      "text/plain": [
       "                        Correlation\n",
       "AdultMortality            -0.937774\n",
       "MaternalMortality         -0.805433\n",
       "ClusterKMeans             -0.792140\n",
       "ChildUnder5Mortality3     -0.791491\n",
       "AdultNcdMortality         -0.683089\n",
       "PoisoningMortality        -0.682984\n",
       "ChildUnder5Mortality9     -0.635524\n",
       "BmiAdultUnderweight       -0.607281\n",
       "ChildUnder5Mortality8     -0.596774\n",
       "ChildUnder5Mortality7     -0.593839\n",
       "ChildUnder5Mortality2     -0.548161\n",
       "ChildUnder5Mortality5     -0.496458\n",
       "BmiTeenagerThinness       -0.492884\n",
       "SuicideMortality          -0.447190\n",
       "ChildUnder5Mortality6     -0.406961\n",
       "BmiChildThinness          -0.390253\n",
       "ChildUnder5Mortality11    -0.243852\n",
       "Homicides                 -0.231450\n",
       "ChildUnder5Mortality12    -0.199756\n",
       "ChildUnder5Mortality13    -0.091568"
      ]
     },
     "execution_count": 10,
     "metadata": {},
     "output_type": "execute_result"
    }
   ],
   "source": [
    "print('Признаки, отрицательно коррелирующие с целевой переменной')\n",
    "negative_data"
   ]
  },
  {
   "cell_type": "code",
   "execution_count": 11,
   "metadata": {},
   "outputs": [],
   "source": [
    "# Составим список с именами положительных признаков\n",
    "positive_fields = list(positive_data.index)\n",
    "\n",
    "# Составим список с именами отрицательных признаков\n",
    "negative_fields = list(negative_data.index)"
   ]
  },
  {
   "cell_type": "code",
   "execution_count": 12,
   "metadata": {},
   "outputs": [
    {
     "data": {
      "text/html": [
       "<div>\n",
       "<style scoped>\n",
       "    .dataframe tbody tr th:only-of-type {\n",
       "        vertical-align: middle;\n",
       "    }\n",
       "\n",
       "    .dataframe tbody tr th {\n",
       "        vertical-align: top;\n",
       "    }\n",
       "\n",
       "    .dataframe thead th {\n",
       "        text-align: right;\n",
       "    }\n",
       "</style>\n",
       "<table border=\"1\" class=\"dataframe\">\n",
       "  <thead>\n",
       "    <tr style=\"text-align: right;\">\n",
       "      <th></th>\n",
       "      <th>SpatialDimValueCode</th>\n",
       "      <th>AdultMortality</th>\n",
       "      <th>Homicides</th>\n",
       "      <th>MaternalMortality</th>\n",
       "      <th>AdultNcdMortality</th>\n",
       "      <th>PoisoningMortality</th>\n",
       "      <th>SuicideMortality</th>\n",
       "      <th>HepatitisBImmunization</th>\n",
       "      <th>MeaslesImmunization</th>\n",
       "      <th>PolioImmunization</th>\n",
       "      <th>...</th>\n",
       "      <th>ChildUnder5Mortality5</th>\n",
       "      <th>ChildUnder5Mortality6</th>\n",
       "      <th>ChildUnder5Mortality7</th>\n",
       "      <th>ChildUnder5Mortality8</th>\n",
       "      <th>ChildUnder5Mortality12</th>\n",
       "      <th>ChildUnder5Mortality3</th>\n",
       "      <th>ChildUnder5Mortality11</th>\n",
       "      <th>ChildUnder5Mortality13</th>\n",
       "      <th>ChildUnder5Mortality9</th>\n",
       "      <th>LifeExpectancy</th>\n",
       "    </tr>\n",
       "  </thead>\n",
       "  <tbody>\n",
       "    <tr>\n",
       "      <th>0</th>\n",
       "      <td>AFG</td>\n",
       "      <td>0.460669</td>\n",
       "      <td>0.125335</td>\n",
       "      <td>0.790629</td>\n",
       "      <td>0.897069</td>\n",
       "      <td>0.251004</td>\n",
       "      <td>0.082924</td>\n",
       "      <td>0.476848</td>\n",
       "      <td>0.260947</td>\n",
       "      <td>0.312102</td>\n",
       "      <td>...</td>\n",
       "      <td>1.000000</td>\n",
       "      <td>0.216538</td>\n",
       "      <td>0.789168</td>\n",
       "      <td>0.002637</td>\n",
       "      <td>0.640462</td>\n",
       "      <td>0.679851</td>\n",
       "      <td>0.394213</td>\n",
       "      <td>0.218182</td>\n",
       "      <td>0.582483</td>\n",
       "      <td>0.311479</td>\n",
       "    </tr>\n",
       "    <tr>\n",
       "      <th>1</th>\n",
       "      <td>AGO</td>\n",
       "      <td>0.399811</td>\n",
       "      <td>0.154990</td>\n",
       "      <td>0.375455</td>\n",
       "      <td>0.511326</td>\n",
       "      <td>0.439943</td>\n",
       "      <td>0.191101</td>\n",
       "      <td>0.241808</td>\n",
       "      <td>0.184093</td>\n",
       "      <td>0.000000</td>\n",
       "      <td>...</td>\n",
       "      <td>0.231884</td>\n",
       "      <td>0.111269</td>\n",
       "      <td>0.523211</td>\n",
       "      <td>0.231672</td>\n",
       "      <td>0.380979</td>\n",
       "      <td>0.989179</td>\n",
       "      <td>0.264014</td>\n",
       "      <td>0.329293</td>\n",
       "      <td>0.654852</td>\n",
       "      <td>0.265493</td>\n",
       "    </tr>\n",
       "    <tr>\n",
       "      <th>2</th>\n",
       "      <td>ALB</td>\n",
       "      <td>0.063786</td>\n",
       "      <td>0.064135</td>\n",
       "      <td>0.004763</td>\n",
       "      <td>0.220520</td>\n",
       "      <td>0.067698</td>\n",
       "      <td>0.069004</td>\n",
       "      <td>0.984155</td>\n",
       "      <td>0.963360</td>\n",
       "      <td>0.987261</td>\n",
       "      <td>...</td>\n",
       "      <td>0.152979</td>\n",
       "      <td>0.000385</td>\n",
       "      <td>0.521277</td>\n",
       "      <td>0.000000</td>\n",
       "      <td>0.152281</td>\n",
       "      <td>0.099627</td>\n",
       "      <td>0.128391</td>\n",
       "      <td>0.154343</td>\n",
       "      <td>0.455558</td>\n",
       "      <td>0.809799</td>\n",
       "    </tr>\n",
       "    <tr>\n",
       "      <th>3</th>\n",
       "      <td>ARE</td>\n",
       "      <td>0.000000</td>\n",
       "      <td>0.009856</td>\n",
       "      <td>0.006569</td>\n",
       "      <td>0.000000</td>\n",
       "      <td>0.065847</td>\n",
       "      <td>0.076233</td>\n",
       "      <td>0.909455</td>\n",
       "      <td>0.935657</td>\n",
       "      <td>0.940855</td>\n",
       "      <td>...</td>\n",
       "      <td>0.000000</td>\n",
       "      <td>0.000000</td>\n",
       "      <td>0.222437</td>\n",
       "      <td>0.000000</td>\n",
       "      <td>0.158329</td>\n",
       "      <td>0.048881</td>\n",
       "      <td>0.170344</td>\n",
       "      <td>0.235354</td>\n",
       "      <td>0.142513</td>\n",
       "      <td>0.916975</td>\n",
       "    </tr>\n",
       "    <tr>\n",
       "      <th>4</th>\n",
       "      <td>ARG</td>\n",
       "      <td>0.114403</td>\n",
       "      <td>0.085793</td>\n",
       "      <td>0.042959</td>\n",
       "      <td>0.256995</td>\n",
       "      <td>0.080170</td>\n",
       "      <td>0.107639</td>\n",
       "      <td>0.748312</td>\n",
       "      <td>0.920465</td>\n",
       "      <td>0.878071</td>\n",
       "      <td>...</td>\n",
       "      <td>0.000000</td>\n",
       "      <td>0.000000</td>\n",
       "      <td>0.239845</td>\n",
       "      <td>0.000000</td>\n",
       "      <td>0.518966</td>\n",
       "      <td>0.102612</td>\n",
       "      <td>0.056058</td>\n",
       "      <td>0.183636</td>\n",
       "      <td>0.233624</td>\n",
       "      <td>0.795483</td>\n",
       "    </tr>\n",
       "  </tbody>\n",
       "</table>\n",
       "<p>5 rows × 32 columns</p>\n",
       "</div>"
      ],
      "text/plain": [
       "  SpatialDimValueCode  AdultMortality  Homicides  MaternalMortality  \\\n",
       "0                 AFG        0.460669   0.125335           0.790629   \n",
       "1                 AGO        0.399811   0.154990           0.375455   \n",
       "2                 ALB        0.063786   0.064135           0.004763   \n",
       "3                 ARE        0.000000   0.009856           0.006569   \n",
       "4                 ARG        0.114403   0.085793           0.042959   \n",
       "\n",
       "   AdultNcdMortality  PoisoningMortality  SuicideMortality  \\\n",
       "0           0.897069            0.251004          0.082924   \n",
       "1           0.511326            0.439943          0.191101   \n",
       "2           0.220520            0.067698          0.069004   \n",
       "3           0.000000            0.065847          0.076233   \n",
       "4           0.256995            0.080170          0.107639   \n",
       "\n",
       "   HepatitisBImmunization  MeaslesImmunization  PolioImmunization  ...  \\\n",
       "0                0.476848             0.260947           0.312102  ...   \n",
       "1                0.241808             0.184093           0.000000  ...   \n",
       "2                0.984155             0.963360           0.987261  ...   \n",
       "3                0.909455             0.935657           0.940855  ...   \n",
       "4                0.748312             0.920465           0.878071  ...   \n",
       "\n",
       "   ChildUnder5Mortality5  ChildUnder5Mortality6  ChildUnder5Mortality7  \\\n",
       "0               1.000000               0.216538               0.789168   \n",
       "1               0.231884               0.111269               0.523211   \n",
       "2               0.152979               0.000385               0.521277   \n",
       "3               0.000000               0.000000               0.222437   \n",
       "4               0.000000               0.000000               0.239845   \n",
       "\n",
       "   ChildUnder5Mortality8  ChildUnder5Mortality12  ChildUnder5Mortality3  \\\n",
       "0               0.002637                0.640462               0.679851   \n",
       "1               0.231672                0.380979               0.989179   \n",
       "2               0.000000                0.152281               0.099627   \n",
       "3               0.000000                0.158329               0.048881   \n",
       "4               0.000000                0.518966               0.102612   \n",
       "\n",
       "   ChildUnder5Mortality11  ChildUnder5Mortality13  ChildUnder5Mortality9  \\\n",
       "0                0.394213                0.218182               0.582483   \n",
       "1                0.264014                0.329293               0.654852   \n",
       "2                0.128391                0.154343               0.455558   \n",
       "3                0.170344                0.235354               0.142513   \n",
       "4                0.056058                0.183636               0.233624   \n",
       "\n",
       "   LifeExpectancy  \n",
       "0        0.311479  \n",
       "1        0.265493  \n",
       "2        0.809799  \n",
       "3        0.916975  \n",
       "4        0.795483  \n",
       "\n",
       "[5 rows x 32 columns]"
      ]
     },
     "execution_count": 12,
     "metadata": {},
     "output_type": "execute_result"
    }
   ],
   "source": [
    "object_columns = [\n",
    "    F.ParentLocationCode.value,\n",
    "    F.ParentLocation.value,\n",
    "    F.Location.value,\n",
    "]\n",
    "# Сформируем таблицу со средними значениями по каждой стране\n",
    "# Исключим признак с кластером, так как среднее по нему не имеет смысла\n",
    "cumulative_mean_data = cumulative_data \\\n",
    "    .drop(columns=columns_to_exclude + object_columns + [F.ClusterKMeans.value]) \\\n",
    "    .groupby(F.SpatialDimValueCode.value) \\\n",
    "    .agg('mean') \n",
    "    \n",
    "# Запомним индексы и названия колонок перед масштабированием данных\n",
    "index = list(cumulative_mean_data.index)\n",
    "columns = list(cumulative_mean_data.columns)\n",
    "\n",
    "# Инициализируем нормализатор MinMaxScaler\n",
    "mm_scaler = MinMaxScaler()\n",
    "\n",
    "# Кодируем исходный датасет\n",
    "cumulative_scaled_data = mm_scaler.fit_transform(cumulative_mean_data)\n",
    "\n",
    "# Добавим имена столбцов и индекс, которые потерялись при преобразовании\n",
    "cumulative_scaled_data = pd.DataFrame(cumulative_scaled_data, columns=columns, index=index)\n",
    "\n",
    "# Переименуем индексный столбец с кодами стран\n",
    "cumulative_scaled_data = cumulative_scaled_data \\\n",
    "    .reset_index().rename(columns={'index': F.SpatialDimValueCode.value})\n",
    "    \n",
    "cumulative_scaled_data.head()"
   ]
  },
  {
   "cell_type": "code",
   "execution_count": 13,
   "metadata": {},
   "outputs": [
    {
     "data": {
      "text/plain": [
       "(181, 32)"
      ]
     },
     "execution_count": 13,
     "metadata": {},
     "output_type": "execute_result"
    }
   ],
   "source": [
    "# Посмотрим на размерность полученных данных\n",
    "cumulative_scaled_data.shape"
   ]
  },
  {
   "cell_type": "markdown",
   "metadata": {},
   "source": [
    "Все верно, у нас 181 страна и 33 признака."
   ]
  },
  {
   "cell_type": "code",
   "execution_count": 14,
   "metadata": {},
   "outputs": [
    {
     "data": {
      "text/html": [
       "<div>\n",
       "<style scoped>\n",
       "    .dataframe tbody tr th:only-of-type {\n",
       "        vertical-align: middle;\n",
       "    }\n",
       "\n",
       "    .dataframe tbody tr th {\n",
       "        vertical-align: top;\n",
       "    }\n",
       "\n",
       "    .dataframe thead th {\n",
       "        text-align: right;\n",
       "    }\n",
       "</style>\n",
       "<table border=\"1\" class=\"dataframe\">\n",
       "  <thead>\n",
       "    <tr style=\"text-align: right;\">\n",
       "      <th></th>\n",
       "      <th>SpatialDimValueCode</th>\n",
       "      <th>ClusterKMeans</th>\n",
       "    </tr>\n",
       "  </thead>\n",
       "  <tbody>\n",
       "    <tr>\n",
       "      <th>0</th>\n",
       "      <td>AFG</td>\n",
       "      <td>1</td>\n",
       "    </tr>\n",
       "    <tr>\n",
       "      <th>1</th>\n",
       "      <td>AGO</td>\n",
       "      <td>1</td>\n",
       "    </tr>\n",
       "    <tr>\n",
       "      <th>2</th>\n",
       "      <td>ALB</td>\n",
       "      <td>0</td>\n",
       "    </tr>\n",
       "    <tr>\n",
       "      <th>3</th>\n",
       "      <td>ARE</td>\n",
       "      <td>0</td>\n",
       "    </tr>\n",
       "    <tr>\n",
       "      <th>4</th>\n",
       "      <td>ARG</td>\n",
       "      <td>0</td>\n",
       "    </tr>\n",
       "  </tbody>\n",
       "</table>\n",
       "</div>"
      ],
      "text/plain": [
       "  SpatialDimValueCode  ClusterKMeans\n",
       "0                 AFG              1\n",
       "1                 AGO              1\n",
       "2                 ALB              0\n",
       "3                 ARE              0\n",
       "4                 ARG              0"
      ]
     },
     "execution_count": 14,
     "metadata": {},
     "output_type": "execute_result"
    }
   ],
   "source": [
    "# Сформируем таблицу с признаками кода региона и кластера\n",
    "# Чтобы добавить столбец с кластером к cumulative_scaled_data\n",
    "clusters = data.groupby(F.SpatialDimValueCode.value).agg(\n",
    "    ClusterKMeans=(F.ClusterKMeans.value, 'first')\n",
    ")\n",
    "clusters = clusters.reset_index().rename(columns={'index': F.SpatialDimValueCode.value})\n",
    "clusters.head()"
   ]
  },
  {
   "cell_type": "code",
   "execution_count": 15,
   "metadata": {},
   "outputs": [
    {
     "data": {
      "text/html": [
       "<div>\n",
       "<style scoped>\n",
       "    .dataframe tbody tr th:only-of-type {\n",
       "        vertical-align: middle;\n",
       "    }\n",
       "\n",
       "    .dataframe tbody tr th {\n",
       "        vertical-align: top;\n",
       "    }\n",
       "\n",
       "    .dataframe thead th {\n",
       "        text-align: right;\n",
       "    }\n",
       "</style>\n",
       "<table border=\"1\" class=\"dataframe\">\n",
       "  <thead>\n",
       "    <tr style=\"text-align: right;\">\n",
       "      <th></th>\n",
       "      <th>SpatialDimValueCode</th>\n",
       "      <th>AdultMortality</th>\n",
       "      <th>Homicides</th>\n",
       "      <th>MaternalMortality</th>\n",
       "      <th>AdultNcdMortality</th>\n",
       "      <th>PoisoningMortality</th>\n",
       "      <th>SuicideMortality</th>\n",
       "      <th>HepatitisBImmunization</th>\n",
       "      <th>MeaslesImmunization</th>\n",
       "      <th>PolioImmunization</th>\n",
       "      <th>...</th>\n",
       "      <th>ChildUnder5Mortality6</th>\n",
       "      <th>ChildUnder5Mortality7</th>\n",
       "      <th>ChildUnder5Mortality8</th>\n",
       "      <th>ChildUnder5Mortality12</th>\n",
       "      <th>ChildUnder5Mortality3</th>\n",
       "      <th>ChildUnder5Mortality11</th>\n",
       "      <th>ChildUnder5Mortality13</th>\n",
       "      <th>ChildUnder5Mortality9</th>\n",
       "      <th>LifeExpectancy</th>\n",
       "      <th>ClusterKMeans</th>\n",
       "    </tr>\n",
       "  </thead>\n",
       "  <tbody>\n",
       "    <tr>\n",
       "      <th>0</th>\n",
       "      <td>AFG</td>\n",
       "      <td>0.460669</td>\n",
       "      <td>0.125335</td>\n",
       "      <td>0.790629</td>\n",
       "      <td>0.897069</td>\n",
       "      <td>0.251004</td>\n",
       "      <td>0.082924</td>\n",
       "      <td>0.476848</td>\n",
       "      <td>0.260947</td>\n",
       "      <td>0.312102</td>\n",
       "      <td>...</td>\n",
       "      <td>0.216538</td>\n",
       "      <td>0.789168</td>\n",
       "      <td>0.002637</td>\n",
       "      <td>0.640462</td>\n",
       "      <td>0.679851</td>\n",
       "      <td>0.394213</td>\n",
       "      <td>0.218182</td>\n",
       "      <td>0.582483</td>\n",
       "      <td>0.311479</td>\n",
       "      <td>1</td>\n",
       "    </tr>\n",
       "    <tr>\n",
       "      <th>1</th>\n",
       "      <td>AGO</td>\n",
       "      <td>0.399811</td>\n",
       "      <td>0.154990</td>\n",
       "      <td>0.375455</td>\n",
       "      <td>0.511326</td>\n",
       "      <td>0.439943</td>\n",
       "      <td>0.191101</td>\n",
       "      <td>0.241808</td>\n",
       "      <td>0.184093</td>\n",
       "      <td>0.000000</td>\n",
       "      <td>...</td>\n",
       "      <td>0.111269</td>\n",
       "      <td>0.523211</td>\n",
       "      <td>0.231672</td>\n",
       "      <td>0.380979</td>\n",
       "      <td>0.989179</td>\n",
       "      <td>0.264014</td>\n",
       "      <td>0.329293</td>\n",
       "      <td>0.654852</td>\n",
       "      <td>0.265493</td>\n",
       "      <td>1</td>\n",
       "    </tr>\n",
       "    <tr>\n",
       "      <th>2</th>\n",
       "      <td>ALB</td>\n",
       "      <td>0.063786</td>\n",
       "      <td>0.064135</td>\n",
       "      <td>0.004763</td>\n",
       "      <td>0.220520</td>\n",
       "      <td>0.067698</td>\n",
       "      <td>0.069004</td>\n",
       "      <td>0.984155</td>\n",
       "      <td>0.963360</td>\n",
       "      <td>0.987261</td>\n",
       "      <td>...</td>\n",
       "      <td>0.000385</td>\n",
       "      <td>0.521277</td>\n",
       "      <td>0.000000</td>\n",
       "      <td>0.152281</td>\n",
       "      <td>0.099627</td>\n",
       "      <td>0.128391</td>\n",
       "      <td>0.154343</td>\n",
       "      <td>0.455558</td>\n",
       "      <td>0.809799</td>\n",
       "      <td>0</td>\n",
       "    </tr>\n",
       "    <tr>\n",
       "      <th>3</th>\n",
       "      <td>ARE</td>\n",
       "      <td>0.000000</td>\n",
       "      <td>0.009856</td>\n",
       "      <td>0.006569</td>\n",
       "      <td>0.000000</td>\n",
       "      <td>0.065847</td>\n",
       "      <td>0.076233</td>\n",
       "      <td>0.909455</td>\n",
       "      <td>0.935657</td>\n",
       "      <td>0.940855</td>\n",
       "      <td>...</td>\n",
       "      <td>0.000000</td>\n",
       "      <td>0.222437</td>\n",
       "      <td>0.000000</td>\n",
       "      <td>0.158329</td>\n",
       "      <td>0.048881</td>\n",
       "      <td>0.170344</td>\n",
       "      <td>0.235354</td>\n",
       "      <td>0.142513</td>\n",
       "      <td>0.916975</td>\n",
       "      <td>0</td>\n",
       "    </tr>\n",
       "    <tr>\n",
       "      <th>4</th>\n",
       "      <td>ARG</td>\n",
       "      <td>0.114403</td>\n",
       "      <td>0.085793</td>\n",
       "      <td>0.042959</td>\n",
       "      <td>0.256995</td>\n",
       "      <td>0.080170</td>\n",
       "      <td>0.107639</td>\n",
       "      <td>0.748312</td>\n",
       "      <td>0.920465</td>\n",
       "      <td>0.878071</td>\n",
       "      <td>...</td>\n",
       "      <td>0.000000</td>\n",
       "      <td>0.239845</td>\n",
       "      <td>0.000000</td>\n",
       "      <td>0.518966</td>\n",
       "      <td>0.102612</td>\n",
       "      <td>0.056058</td>\n",
       "      <td>0.183636</td>\n",
       "      <td>0.233624</td>\n",
       "      <td>0.795483</td>\n",
       "      <td>0</td>\n",
       "    </tr>\n",
       "  </tbody>\n",
       "</table>\n",
       "<p>5 rows × 33 columns</p>\n",
       "</div>"
      ],
      "text/plain": [
       "  SpatialDimValueCode  AdultMortality  Homicides  MaternalMortality  \\\n",
       "0                 AFG        0.460669   0.125335           0.790629   \n",
       "1                 AGO        0.399811   0.154990           0.375455   \n",
       "2                 ALB        0.063786   0.064135           0.004763   \n",
       "3                 ARE        0.000000   0.009856           0.006569   \n",
       "4                 ARG        0.114403   0.085793           0.042959   \n",
       "\n",
       "   AdultNcdMortality  PoisoningMortality  SuicideMortality  \\\n",
       "0           0.897069            0.251004          0.082924   \n",
       "1           0.511326            0.439943          0.191101   \n",
       "2           0.220520            0.067698          0.069004   \n",
       "3           0.000000            0.065847          0.076233   \n",
       "4           0.256995            0.080170          0.107639   \n",
       "\n",
       "   HepatitisBImmunization  MeaslesImmunization  PolioImmunization  ...  \\\n",
       "0                0.476848             0.260947           0.312102  ...   \n",
       "1                0.241808             0.184093           0.000000  ...   \n",
       "2                0.984155             0.963360           0.987261  ...   \n",
       "3                0.909455             0.935657           0.940855  ...   \n",
       "4                0.748312             0.920465           0.878071  ...   \n",
       "\n",
       "   ChildUnder5Mortality6  ChildUnder5Mortality7  ChildUnder5Mortality8  \\\n",
       "0               0.216538               0.789168               0.002637   \n",
       "1               0.111269               0.523211               0.231672   \n",
       "2               0.000385               0.521277               0.000000   \n",
       "3               0.000000               0.222437               0.000000   \n",
       "4               0.000000               0.239845               0.000000   \n",
       "\n",
       "   ChildUnder5Mortality12  ChildUnder5Mortality3  ChildUnder5Mortality11  \\\n",
       "0                0.640462               0.679851                0.394213   \n",
       "1                0.380979               0.989179                0.264014   \n",
       "2                0.152281               0.099627                0.128391   \n",
       "3                0.158329               0.048881                0.170344   \n",
       "4                0.518966               0.102612                0.056058   \n",
       "\n",
       "   ChildUnder5Mortality13  ChildUnder5Mortality9  LifeExpectancy  \\\n",
       "0                0.218182               0.582483        0.311479   \n",
       "1                0.329293               0.654852        0.265493   \n",
       "2                0.154343               0.455558        0.809799   \n",
       "3                0.235354               0.142513        0.916975   \n",
       "4                0.183636               0.233624        0.795483   \n",
       "\n",
       "   ClusterKMeans  \n",
       "0              1  \n",
       "1              1  \n",
       "2              0  \n",
       "3              0  \n",
       "4              0  \n",
       "\n",
       "[5 rows x 33 columns]"
      ]
     },
     "execution_count": 15,
     "metadata": {},
     "output_type": "execute_result"
    }
   ],
   "source": [
    "# Добавим столбец с кластером\n",
    "cumulative_scaled_data = cumulative_scaled_data.merge(\n",
    "    clusters,\n",
    "    on=F.SpatialDimValueCode.value,\n",
    "    how='inner',\n",
    ")\n",
    "cumulative_scaled_data.head()"
   ]
  },
  {
   "cell_type": "code",
   "execution_count": 16,
   "metadata": {},
   "outputs": [
    {
     "data": {
      "text/plain": [
       "(181, 33)"
      ]
     },
     "execution_count": 16,
     "metadata": {},
     "output_type": "execute_result"
    }
   ],
   "source": [
    "# Посмотрим на размерность данных\n",
    "cumulative_scaled_data.shape"
   ]
  },
  {
   "cell_type": "markdown",
   "metadata": {},
   "source": [
    "Все верно, по-прежнему 181 страна и прибавился 1 признак."
   ]
  },
  {
   "cell_type": "markdown",
   "metadata": {},
   "source": [
    "Теперь составим векторы признаков условно идеальной страны и максимально неблагополучной страны."
   ]
  },
  {
   "cell_type": "code",
   "execution_count": 17,
   "metadata": {},
   "outputs": [
    {
     "name": "stdout",
     "output_type": "stream",
     "text": [
      "positive_vector {'LifeExpectancy': 0.9999999999999998, 'Sanitation': 1.0, 'DrinkingWater': 1.0, 'Schooling': 1.0, 'PolioImmunization': 1.0, 'MeaslesImmunization': 0.9999999999999999, 'DiphtheriaImmunization': 1.0, 'HealthCareCostsGdp': 1.0, 'GdpPerCapita': 1.0, 'HealthCareCosts': 1.0000000000000002, 'HealthCareCostsPerCapita': 1.0000000000000002, 'HepatitisBImmunization': 1.0}\n",
      "negative_vector {'AdultMortality': 1.0, 'MaternalMortality': 0.9999999999999999, 'ClusterKMeans': 1, 'ChildUnder5Mortality3': 1.0, 'AdultNcdMortality': 0.8970686209193872, 'PoisoningMortality': 0.7819317148535896, 'ChildUnder5Mortality9': 0.7680460196696975, 'BmiAdultUnderweight': 0.9999999999999998, 'ChildUnder5Mortality8': 1.0, 'ChildUnder5Mortality7': 1.0, 'ChildUnder5Mortality2': 1.0, 'ChildUnder5Mortality5': 1.0, 'BmiTeenagerThinness': 0.9999999999999999, 'SuicideMortality': 1.0000000000000002, 'ChildUnder5Mortality6': 1.0, 'BmiChildThinness': 0.9999999999999999, 'ChildUnder5Mortality11': 0.39421338155515373, 'Homicides': 0.6212812744718041, 'ChildUnder5Mortality12': 1.0, 'ChildUnder5Mortality13': 0.3856565656565657}\n"
     ]
    }
   ],
   "source": [
    "# Вектор максимально благополучной страны\n",
    "positive_vector = dict()\n",
    "# Вектор максимально неблагополучной страны\n",
    "negative_vector = dict()\n",
    "\n",
    "# Страны из благополучного кластера\n",
    "good_cluster_data = cumulative_scaled_data[cumulative_scaled_data[F.ClusterKMeans.value] == 0]\n",
    "# Страны из неблагополучного кластера\n",
    "bad_cluster_data = cumulative_scaled_data[cumulative_scaled_data[F.ClusterKMeans.value] == 1]\n",
    "\n",
    "# Заполним данные вектора максимально благополучной страны\n",
    "for field in positive_fields:\n",
    "    max_value = good_cluster_data[field].max()\n",
    "    positive_vector[field] = max_value\n",
    "\n",
    "# Заполним данные вектора максимально неблагополучной страны\n",
    "for field in negative_fields:\n",
    "    max_value = bad_cluster_data[field].max()\n",
    "    negative_vector[field] = max_value\n",
    "\n",
    "print('positive_vector', positive_vector)\n",
    "print('negative_vector', negative_vector)"
   ]
  },
  {
   "cell_type": "code",
   "execution_count": 19,
   "metadata": {},
   "outputs": [],
   "source": [
    "# Переведем данные вектора идеальной страны в массив\n",
    "positive_values = np.array(list(positive_vector.values()))\n",
    "\n",
    "def get_positive_coef(row: pd.Series) -> float:\n",
    "    \"\"\"Подсчитывает косинус угла между вектором данных переданной страны и вектором идеальной страны\n",
    "\n",
    "    Args:\n",
    "        row (pd.Series): средние данные по стране \n",
    "            (строка таблицы со средними показателями по странам)\n",
    "\n",
    "    Returns:\n",
    "        float: косинус угла между вектором данных страны и вектором идеальной страны\n",
    "    \"\"\"\n",
    "    # Данные вектора страны, которые будем отбирать из переданной строки\n",
    "    row_values = []\n",
    "    \n",
    "    for field in positive_vector.keys():\n",
    "        row_values.append(row[field])\n",
    "        \n",
    "    return get_cosine(positive_values, np.array(row_values))"
   ]
  },
  {
   "cell_type": "code",
   "execution_count": 20,
   "metadata": {},
   "outputs": [],
   "source": [
    "# Посчитаем для каждой страны значение коэффициента благополучия\n",
    "cumulative_scaled_data[F.PositiveCoef.value] = \\\n",
    "    cumulative_scaled_data.apply(lambda row: get_positive_coef(row), axis=1)"
   ]
  },
  {
   "cell_type": "code",
   "execution_count": 21,
   "metadata": {},
   "outputs": [],
   "source": [
    "# Переведем данные вектора максимально неблагополучной страны в массив\n",
    "negative_values = np.array(list(negative_vector.values()))\n",
    "\n",
    "def get_negative_coef(row: pd.Series) -> float:\n",
    "    \"\"\"Подсчитывает косинус угла между вектором данных переданной страны \n",
    "        и вектором максимально неблагополучной страны\n",
    "\n",
    "    Args:\n",
    "        row (pd.Series): средние данные по стране \n",
    "            (строка таблицы со средними показателями по странам)\n",
    "\n",
    "    Returns:\n",
    "        float: косинус угла между вектором данных страны и максимально неблагополучной страны\n",
    "    \"\"\"\n",
    "    # Данные вектора страны, которые будем отбирать из переданной строки\n",
    "    row_values = []\n",
    "    \n",
    "    for field in negative_vector.keys():\n",
    "        row_values.append(row[field])\n",
    "        \n",
    "    return get_cosine(negative_values, np.array(row_values))"
   ]
  },
  {
   "cell_type": "code",
   "execution_count": 22,
   "metadata": {},
   "outputs": [],
   "source": [
    "# Посчитаем для каждой страны значение коэффициент неблагополучия\n",
    "cumulative_scaled_data[F.NegativeCoef.value] = \\\n",
    "    cumulative_scaled_data.apply(lambda row: get_negative_coef(row), axis=1)"
   ]
  },
  {
   "cell_type": "markdown",
   "metadata": {},
   "source": [
    "## Отображение коэффициентов на графиках"
   ]
  },
  {
   "cell_type": "markdown",
   "metadata": {},
   "source": [
    "Добавим в таблицу названия стран для удобства просмотра графиков."
   ]
  },
  {
   "cell_type": "code",
   "execution_count": 23,
   "metadata": {},
   "outputs": [
    {
     "data": {
      "text/html": [
       "<div>\n",
       "<style scoped>\n",
       "    .dataframe tbody tr th:only-of-type {\n",
       "        vertical-align: middle;\n",
       "    }\n",
       "\n",
       "    .dataframe tbody tr th {\n",
       "        vertical-align: top;\n",
       "    }\n",
       "\n",
       "    .dataframe thead th {\n",
       "        text-align: right;\n",
       "    }\n",
       "</style>\n",
       "<table border=\"1\" class=\"dataframe\">\n",
       "  <thead>\n",
       "    <tr style=\"text-align: right;\">\n",
       "      <th></th>\n",
       "      <th>ParentLocationCode</th>\n",
       "      <th>ParentLocation</th>\n",
       "      <th>SpatialDimValueCode</th>\n",
       "      <th>Location</th>\n",
       "    </tr>\n",
       "  </thead>\n",
       "  <tbody>\n",
       "    <tr>\n",
       "      <th>0</th>\n",
       "      <td>AFR</td>\n",
       "      <td>Africa</td>\n",
       "      <td>AGO</td>\n",
       "      <td>Angola</td>\n",
       "    </tr>\n",
       "    <tr>\n",
       "      <th>1</th>\n",
       "      <td>AFR</td>\n",
       "      <td>Africa</td>\n",
       "      <td>BDI</td>\n",
       "      <td>Burundi</td>\n",
       "    </tr>\n",
       "    <tr>\n",
       "      <th>2</th>\n",
       "      <td>AFR</td>\n",
       "      <td>Africa</td>\n",
       "      <td>BEN</td>\n",
       "      <td>Benin</td>\n",
       "    </tr>\n",
       "  </tbody>\n",
       "</table>\n",
       "</div>"
      ],
      "text/plain": [
       "  ParentLocationCode ParentLocation SpatialDimValueCode Location\n",
       "0                AFR         Africa                 AGO   Angola\n",
       "1                AFR         Africa                 BDI  Burundi\n",
       "2                AFR         Africa                 BEN    Benin"
      ]
     },
     "execution_count": 23,
     "metadata": {},
     "output_type": "execute_result"
    }
   ],
   "source": [
    "# Загрузим таблицу с данными стран\n",
    "regions_and_locations_data = pd.read_csv('../data/regions_and_locations.csv')\n",
    "regions_and_locations_data.head(3)"
   ]
  },
  {
   "cell_type": "code",
   "execution_count": 24,
   "metadata": {},
   "outputs": [],
   "source": [
    "# Добавим столбец с названием страны в cumulative_scaled_data\n",
    "cumulative_scaled_data = cumulative_scaled_data.merge(\n",
    "    regions_and_locations_data[[F.SpatialDimValueCode.value, F.Location.value]],\n",
    "    on=F.SpatialDimValueCode.value,\n",
    "    how='left',\n",
    ")"
   ]
  },
  {
   "cell_type": "markdown",
   "metadata": {},
   "source": [
    "Отобразим на графике значения коэффициента благополучия стран."
   ]
  },
  {
   "cell_type": "code",
   "execution_count": 25,
   "metadata": {},
   "outputs": [
    {
     "data": {
      "application/vnd.plotly.v1+json": {
       "config": {
        "plotlyServerURL": "https://plot.ly"
       },
       "data": [
        {
         "coloraxis": "coloraxis",
         "geo": "geo",
         "hovertemplate": "<b>%{hovertext}</b><br><br>SpatialDimValueCode=%{location}<br>PositiveCoef=%{z}<extra></extra>",
         "hovertext": [
          "Afghanistan",
          "Angola",
          "Albania",
          "United Arab Emirates",
          "Argentina",
          "Armenia",
          "Antigua and Barbuda",
          "Australia",
          "Austria",
          "Azerbaijan",
          "Burundi",
          "Belgium",
          "Benin",
          "Burkina Faso",
          "Bangladesh",
          "Bulgaria",
          "Bahrain",
          "Bahamas",
          "Bosnia and Herzegovina",
          "Belarus",
          "Belize",
          "Bolivia (Plurinational State of)",
          "Brazil",
          "Barbados",
          "Brunei Darussalam",
          "Bhutan",
          "Botswana",
          "Central African Republic",
          "Canada",
          "Switzerland",
          "Chile",
          "China",
          "Cote d'Ivoire",
          "Cameroon",
          "Democratic Republic of the Congo",
          "Congo",
          "Colombia",
          "Comoros",
          "Cabo Verde",
          "Costa Rica",
          "Cuba",
          "Cyprus",
          "Czechia",
          "Germany",
          "Djibouti",
          "Denmark",
          "Dominican Republic",
          "Algeria",
          "Ecuador",
          "Egypt",
          "Eritrea",
          "Spain",
          "Estonia",
          "Ethiopia",
          "Finland",
          "Fiji",
          "France",
          "Micronesia (Federated States of)",
          "Gabon",
          "United Kingdom of Great Britain and Northern Ireland",
          "Georgia",
          "Ghana",
          "Guinea",
          "Gambia",
          "Guinea-Bissau",
          "Equatorial Guinea",
          "Greece",
          "Grenada",
          "Guatemala",
          "Guyana",
          "Honduras",
          "Croatia",
          "Haiti",
          "Hungary",
          "Indonesia",
          "India",
          "Ireland",
          "Iran (Islamic Republic of)",
          "Iraq",
          "Iceland",
          "Israel",
          "Italy",
          "Jamaica",
          "Jordan",
          "Japan",
          "Kazakhstan",
          "Kenya",
          "Kyrgyzstan",
          "Cambodia",
          "Kiribati",
          "Republic of Korea",
          "Kuwait",
          "Lao People's Democratic Republic",
          "Lebanon",
          "Liberia",
          "Libya",
          "Saint Lucia",
          "Sri Lanka",
          "Lesotho",
          "Lithuania",
          "Luxembourg",
          "Latvia",
          "Morocco",
          "Republic of Moldova",
          "Madagascar",
          "Maldives",
          "Mexico",
          "North Macedonia",
          "Mali",
          "Malta",
          "Myanmar",
          "Montenegro",
          "Mongolia",
          "Mozambique",
          "Mauritania",
          "Mauritius",
          "Malawi",
          "Malaysia",
          "Namibia",
          "Niger",
          "Nigeria",
          "Nicaragua",
          "Netherlands (Kingdom of the)",
          "Norway",
          "Nepal",
          "New Zealand",
          "Oman",
          "Pakistan",
          "Panama",
          "Peru",
          "Philippines",
          "Papua New Guinea",
          "Poland",
          "Portugal",
          "Paraguay",
          "Qatar",
          "Romania",
          "Russian Federation",
          "Rwanda",
          "Saudi Arabia",
          "Sudan",
          "Senegal",
          "Singapore",
          "Solomon Islands",
          "Sierra Leone",
          "El Salvador",
          "Somalia",
          "Serbia",
          "Sao Tome and Principe",
          "Suriname",
          "Slovakia",
          "Slovenia",
          "Sweden",
          "Eswatini",
          "Seychelles",
          "Syrian Arab Republic",
          "Chad",
          "Togo",
          "Thailand",
          "Tajikistan",
          "Turkmenistan",
          "Timor-Leste",
          "Tonga",
          "Trinidad and Tobago",
          "Tunisia",
          "Türkiye",
          "United Republic of Tanzania",
          "Uganda",
          "Ukraine",
          "Uruguay",
          "United States of America",
          "Uzbekistan",
          "Saint Vincent and the Grenadines",
          "Venezuela (Bolivarian Republic of)",
          "Viet Nam",
          "Vanuatu",
          "Samoa",
          "Yemen",
          "South Africa",
          "Zambia",
          "Zimbabwe"
         ],
         "locations": [
          "AFG",
          "AGO",
          "ALB",
          "ARE",
          "ARG",
          "ARM",
          "ATG",
          "AUS",
          "AUT",
          "AZE",
          "BDI",
          "BEL",
          "BEN",
          "BFA",
          "BGD",
          "BGR",
          "BHR",
          "BHS",
          "BIH",
          "BLR",
          "BLZ",
          "BOL",
          "BRA",
          "BRB",
          "BRN",
          "BTN",
          "BWA",
          "CAF",
          "CAN",
          "CHE",
          "CHL",
          "CHN",
          "CIV",
          "CMR",
          "COD",
          "COG",
          "COL",
          "COM",
          "CPV",
          "CRI",
          "CUB",
          "CYP",
          "CZE",
          "DEU",
          "DJI",
          "DNK",
          "DOM",
          "DZA",
          "ECU",
          "EGY",
          "ERI",
          "ESP",
          "EST",
          "ETH",
          "FIN",
          "FJI",
          "FRA",
          "FSM",
          "GAB",
          "GBR",
          "GEO",
          "GHA",
          "GIN",
          "GMB",
          "GNB",
          "GNQ",
          "GRC",
          "GRD",
          "GTM",
          "GUY",
          "HND",
          "HRV",
          "HTI",
          "HUN",
          "IDN",
          "IND",
          "IRL",
          "IRN",
          "IRQ",
          "ISL",
          "ISR",
          "ITA",
          "JAM",
          "JOR",
          "JPN",
          "KAZ",
          "KEN",
          "KGZ",
          "KHM",
          "KIR",
          "KOR",
          "KWT",
          "LAO",
          "LBN",
          "LBR",
          "LBY",
          "LCA",
          "LKA",
          "LSO",
          "LTU",
          "LUX",
          "LVA",
          "MAR",
          "MDA",
          "MDG",
          "MDV",
          "MEX",
          "MKD",
          "MLI",
          "MLT",
          "MMR",
          "MNE",
          "MNG",
          "MOZ",
          "MRT",
          "MUS",
          "MWI",
          "MYS",
          "NAM",
          "NER",
          "NGA",
          "NIC",
          "NLD",
          "NOR",
          "NPL",
          "NZL",
          "OMN",
          "PAK",
          "PAN",
          "PER",
          "PHL",
          "PNG",
          "POL",
          "PRT",
          "PRY",
          "QAT",
          "ROU",
          "RUS",
          "RWA",
          "SAU",
          "SDN",
          "SEN",
          "SGP",
          "SLB",
          "SLE",
          "SLV",
          "SOM",
          "SRB",
          "STP",
          "SUR",
          "SVK",
          "SVN",
          "SWE",
          "SWZ",
          "SYC",
          "SYR",
          "TCD",
          "TGO",
          "THA",
          "TJK",
          "TKM",
          "TLS",
          "TON",
          "TTO",
          "TUN",
          "TUR",
          "TZA",
          "UGA",
          "UKR",
          "URY",
          "USA",
          "UZB",
          "VCT",
          "VEN",
          "VNM",
          "VUT",
          "WSM",
          "YEM",
          "ZAF",
          "ZMB",
          "ZWE"
         ],
         "name": "",
         "type": "choropleth",
         "z": [
          0.8147752140128799,
          0.8395855546329696,
          0.8679115006616686,
          0.9066399485709746,
          0.918198311783028,
          0.8487244097873747,
          0.8937754824720299,
          0.9734903788441462,
          0.9709850016239255,
          0.8339954752217962,
          0.7958467799571146,
          0.9679250942083872,
          0.7936912696372275,
          0.7836625308173775,
          0.7921117389505337,
          0.8904077513135314,
          0.8836533955988538,
          0.908972869965997,
          0.9027574185247863,
          0.881487753351635,
          0.8782596671299338,
          0.8730497449743887,
          0.8782310769282531,
          0.907045691143989,
          0.88669646621197,
          0.8502855521063397,
          0.862010124494162,
          0.8469820601250215,
          0.9307339654596053,
          0.9501701310401828,
          0.8999794615903138,
          0.8612085022536042,
          0.8039354962275733,
          0.8128865910180714,
          0.7594849719188136,
          0.803303856294013,
          0.9088238516804842,
          0.8120519981111003,
          0.8587842971900734,
          0.9147253613632401,
          0.9120429908908922,
          0.8946770678302557,
          0.9257975455142488,
          0.974847689713971,
          0.8594349186131887,
          0.9831032591508947,
          0.8798052393781897,
          0.8740457418321851,
          0.8727784500104901,
          0.8315225200368543,
          0.7333986805538115,
          0.9450519393986712,
          0.9102157723227254,
          0.7659529564759554,
          0.9665377258264048,
          0.8602866734406758,
          0.9342847150649094,
          0.8351948529904197,
          0.857523639584183,
          0.9753479841619133,
          0.8528767663696354,
          0.8111452484717934,
          0.8085049238857498,
          0.7854806734197002,
          0.7527979900989685,
          0.7969316386840164,
          0.9248781767182974,
          0.8648267323259813,
          0.8662401639464179,
          0.8551483881189517,
          0.8674117018241873,
          0.9181134127634828,
          0.8258751714955964,
          0.9035085892519964,
          0.8398075930714529,
          0.7802908664404302,
          0.9829725007214891,
          0.8761608519766233,
          0.8426473655228306,
          0.9780682712286954,
          0.9280081783896451,
          0.9540493278241543,
          0.8794767191235604,
          0.891309381148102,
          0.9738861851936574,
          0.8666611628711052,
          0.8144053400452317,
          0.866995186328493,
          0.8183714860878528,
          0.8699726178421603,
          0.9050400384133529,
          0.8805533167059836,
          0.8442386130805127,
          0.8858125933892023,
          0.7996606335192313,
          0.8651045140019076,
          0.8655167325075096,
          0.859539254972557,
          0.8108784629549775,
          0.9050770801642931,
          0.9785499922649002,
          0.8877936083261158,
          0.8213236548036872,
          0.8899329037395026,
          0.8245367929604205,
          0.8905362085592805,
          0.8840780755262329,
          0.8963796931221374,
          0.7909985183450171,
          0.9324545527921986,
          0.7871390521349563,
          0.9114488332762567,
          0.8525659984808734,
          0.7108406045341982,
          0.8207226660738426,
          0.8609651092946681,
          0.7662926523605581,
          0.8581857599149417,
          0.8808537950935567,
          0.7630494638905952,
          0.7799990106166945,
          0.8773778068047323,
          0.96792032231415,
          0.9905408751838672,
          0.8025851797676321,
          0.9635938918109573,
          0.8675231406596616,
          0.8002773620534391,
          0.9167465980863022,
          0.8848384608509898,
          0.8423937924579344,
          0.8127840570910979,
          0.8987062661040811,
          0.9295610317920423,
          0.8812066890450249,
          0.9071275077560182,
          0.8936373494928757,
          0.8804170031743479,
          0.7976744334999788,
          0.8964382040364426,
          0.8070886173641708,
          0.8108009427562567,
          0.9004614456744044,
          0.8768865816234931,
          0.75660233190422,
          0.8994299031763513,
          0.7199612230501938,
          0.9054097035683071,
          0.8322370840193578,
          0.8838524112539297,
          0.9139654032076535,
          0.9322016469028798,
          0.9680617088282681,
          0.8104996643979089,
          0.8690118897539161,
          0.8421062887970024,
          0.6843300261739406,
          0.7860912979197853,
          0.8679920363225119,
          0.8367818675209068,
          0.8534911098201201,
          0.8695515798424067,
          0.8731099209004036,
          0.8843834331834245,
          0.8753647948404326,
          0.8867925092011273,
          0.7695678764470025,
          0.790937184213538,
          0.8328850808786593,
          0.9157851011971836,
          0.9836690529553397,
          0.850533121770499,
          0.8701938244427366,
          0.8941929338444186,
          0.8550983125054944,
          0.8720247629446906,
          0.8841541211637389,
          0.8098776124742928,
          0.896165339895318,
          0.8027134669200835,
          0.8290071058114642
         ]
        }
       ],
       "layout": {
        "coloraxis": {
         "colorbar": {
          "title": {
           "text": "PositiveCoef"
          }
         },
         "colorscale": [
          [
           0,
           "#0d0887"
          ],
          [
           0.1111111111111111,
           "#46039f"
          ],
          [
           0.2222222222222222,
           "#7201a8"
          ],
          [
           0.3333333333333333,
           "#9c179e"
          ],
          [
           0.4444444444444444,
           "#bd3786"
          ],
          [
           0.5555555555555556,
           "#d8576b"
          ],
          [
           0.6666666666666666,
           "#ed7953"
          ],
          [
           0.7777777777777778,
           "#fb9f3a"
          ],
          [
           0.8888888888888888,
           "#fdca26"
          ],
          [
           1,
           "#f0f921"
          ]
         ]
        },
        "geo": {
         "center": {},
         "domain": {
          "x": [
           0,
           1
          ],
          "y": [
           0,
           1
          ]
         },
         "projection": {
          "type": "natural earth"
         }
        },
        "height": 700,
        "legend": {
         "tracegroupgap": 0
        },
        "template": {
         "data": {
          "bar": [
           {
            "error_x": {
             "color": "#2a3f5f"
            },
            "error_y": {
             "color": "#2a3f5f"
            },
            "marker": {
             "line": {
              "color": "#E5ECF6",
              "width": 0.5
             },
             "pattern": {
              "fillmode": "overlay",
              "size": 10,
              "solidity": 0.2
             }
            },
            "type": "bar"
           }
          ],
          "barpolar": [
           {
            "marker": {
             "line": {
              "color": "#E5ECF6",
              "width": 0.5
             },
             "pattern": {
              "fillmode": "overlay",
              "size": 10,
              "solidity": 0.2
             }
            },
            "type": "barpolar"
           }
          ],
          "carpet": [
           {
            "aaxis": {
             "endlinecolor": "#2a3f5f",
             "gridcolor": "white",
             "linecolor": "white",
             "minorgridcolor": "white",
             "startlinecolor": "#2a3f5f"
            },
            "baxis": {
             "endlinecolor": "#2a3f5f",
             "gridcolor": "white",
             "linecolor": "white",
             "minorgridcolor": "white",
             "startlinecolor": "#2a3f5f"
            },
            "type": "carpet"
           }
          ],
          "choropleth": [
           {
            "colorbar": {
             "outlinewidth": 0,
             "ticks": ""
            },
            "type": "choropleth"
           }
          ],
          "contour": [
           {
            "colorbar": {
             "outlinewidth": 0,
             "ticks": ""
            },
            "colorscale": [
             [
              0,
              "#0d0887"
             ],
             [
              0.1111111111111111,
              "#46039f"
             ],
             [
              0.2222222222222222,
              "#7201a8"
             ],
             [
              0.3333333333333333,
              "#9c179e"
             ],
             [
              0.4444444444444444,
              "#bd3786"
             ],
             [
              0.5555555555555556,
              "#d8576b"
             ],
             [
              0.6666666666666666,
              "#ed7953"
             ],
             [
              0.7777777777777778,
              "#fb9f3a"
             ],
             [
              0.8888888888888888,
              "#fdca26"
             ],
             [
              1,
              "#f0f921"
             ]
            ],
            "type": "contour"
           }
          ],
          "contourcarpet": [
           {
            "colorbar": {
             "outlinewidth": 0,
             "ticks": ""
            },
            "type": "contourcarpet"
           }
          ],
          "heatmap": [
           {
            "colorbar": {
             "outlinewidth": 0,
             "ticks": ""
            },
            "colorscale": [
             [
              0,
              "#0d0887"
             ],
             [
              0.1111111111111111,
              "#46039f"
             ],
             [
              0.2222222222222222,
              "#7201a8"
             ],
             [
              0.3333333333333333,
              "#9c179e"
             ],
             [
              0.4444444444444444,
              "#bd3786"
             ],
             [
              0.5555555555555556,
              "#d8576b"
             ],
             [
              0.6666666666666666,
              "#ed7953"
             ],
             [
              0.7777777777777778,
              "#fb9f3a"
             ],
             [
              0.8888888888888888,
              "#fdca26"
             ],
             [
              1,
              "#f0f921"
             ]
            ],
            "type": "heatmap"
           }
          ],
          "heatmapgl": [
           {
            "colorbar": {
             "outlinewidth": 0,
             "ticks": ""
            },
            "colorscale": [
             [
              0,
              "#0d0887"
             ],
             [
              0.1111111111111111,
              "#46039f"
             ],
             [
              0.2222222222222222,
              "#7201a8"
             ],
             [
              0.3333333333333333,
              "#9c179e"
             ],
             [
              0.4444444444444444,
              "#bd3786"
             ],
             [
              0.5555555555555556,
              "#d8576b"
             ],
             [
              0.6666666666666666,
              "#ed7953"
             ],
             [
              0.7777777777777778,
              "#fb9f3a"
             ],
             [
              0.8888888888888888,
              "#fdca26"
             ],
             [
              1,
              "#f0f921"
             ]
            ],
            "type": "heatmapgl"
           }
          ],
          "histogram": [
           {
            "marker": {
             "pattern": {
              "fillmode": "overlay",
              "size": 10,
              "solidity": 0.2
             }
            },
            "type": "histogram"
           }
          ],
          "histogram2d": [
           {
            "colorbar": {
             "outlinewidth": 0,
             "ticks": ""
            },
            "colorscale": [
             [
              0,
              "#0d0887"
             ],
             [
              0.1111111111111111,
              "#46039f"
             ],
             [
              0.2222222222222222,
              "#7201a8"
             ],
             [
              0.3333333333333333,
              "#9c179e"
             ],
             [
              0.4444444444444444,
              "#bd3786"
             ],
             [
              0.5555555555555556,
              "#d8576b"
             ],
             [
              0.6666666666666666,
              "#ed7953"
             ],
             [
              0.7777777777777778,
              "#fb9f3a"
             ],
             [
              0.8888888888888888,
              "#fdca26"
             ],
             [
              1,
              "#f0f921"
             ]
            ],
            "type": "histogram2d"
           }
          ],
          "histogram2dcontour": [
           {
            "colorbar": {
             "outlinewidth": 0,
             "ticks": ""
            },
            "colorscale": [
             [
              0,
              "#0d0887"
             ],
             [
              0.1111111111111111,
              "#46039f"
             ],
             [
              0.2222222222222222,
              "#7201a8"
             ],
             [
              0.3333333333333333,
              "#9c179e"
             ],
             [
              0.4444444444444444,
              "#bd3786"
             ],
             [
              0.5555555555555556,
              "#d8576b"
             ],
             [
              0.6666666666666666,
              "#ed7953"
             ],
             [
              0.7777777777777778,
              "#fb9f3a"
             ],
             [
              0.8888888888888888,
              "#fdca26"
             ],
             [
              1,
              "#f0f921"
             ]
            ],
            "type": "histogram2dcontour"
           }
          ],
          "mesh3d": [
           {
            "colorbar": {
             "outlinewidth": 0,
             "ticks": ""
            },
            "type": "mesh3d"
           }
          ],
          "parcoords": [
           {
            "line": {
             "colorbar": {
              "outlinewidth": 0,
              "ticks": ""
             }
            },
            "type": "parcoords"
           }
          ],
          "pie": [
           {
            "automargin": true,
            "type": "pie"
           }
          ],
          "scatter": [
           {
            "fillpattern": {
             "fillmode": "overlay",
             "size": 10,
             "solidity": 0.2
            },
            "type": "scatter"
           }
          ],
          "scatter3d": [
           {
            "line": {
             "colorbar": {
              "outlinewidth": 0,
              "ticks": ""
             }
            },
            "marker": {
             "colorbar": {
              "outlinewidth": 0,
              "ticks": ""
             }
            },
            "type": "scatter3d"
           }
          ],
          "scattercarpet": [
           {
            "marker": {
             "colorbar": {
              "outlinewidth": 0,
              "ticks": ""
             }
            },
            "type": "scattercarpet"
           }
          ],
          "scattergeo": [
           {
            "marker": {
             "colorbar": {
              "outlinewidth": 0,
              "ticks": ""
             }
            },
            "type": "scattergeo"
           }
          ],
          "scattergl": [
           {
            "marker": {
             "colorbar": {
              "outlinewidth": 0,
              "ticks": ""
             }
            },
            "type": "scattergl"
           }
          ],
          "scattermapbox": [
           {
            "marker": {
             "colorbar": {
              "outlinewidth": 0,
              "ticks": ""
             }
            },
            "type": "scattermapbox"
           }
          ],
          "scatterpolar": [
           {
            "marker": {
             "colorbar": {
              "outlinewidth": 0,
              "ticks": ""
             }
            },
            "type": "scatterpolar"
           }
          ],
          "scatterpolargl": [
           {
            "marker": {
             "colorbar": {
              "outlinewidth": 0,
              "ticks": ""
             }
            },
            "type": "scatterpolargl"
           }
          ],
          "scatterternary": [
           {
            "marker": {
             "colorbar": {
              "outlinewidth": 0,
              "ticks": ""
             }
            },
            "type": "scatterternary"
           }
          ],
          "surface": [
           {
            "colorbar": {
             "outlinewidth": 0,
             "ticks": ""
            },
            "colorscale": [
             [
              0,
              "#0d0887"
             ],
             [
              0.1111111111111111,
              "#46039f"
             ],
             [
              0.2222222222222222,
              "#7201a8"
             ],
             [
              0.3333333333333333,
              "#9c179e"
             ],
             [
              0.4444444444444444,
              "#bd3786"
             ],
             [
              0.5555555555555556,
              "#d8576b"
             ],
             [
              0.6666666666666666,
              "#ed7953"
             ],
             [
              0.7777777777777778,
              "#fb9f3a"
             ],
             [
              0.8888888888888888,
              "#fdca26"
             ],
             [
              1,
              "#f0f921"
             ]
            ],
            "type": "surface"
           }
          ],
          "table": [
           {
            "cells": {
             "fill": {
              "color": "#EBF0F8"
             },
             "line": {
              "color": "white"
             }
            },
            "header": {
             "fill": {
              "color": "#C8D4E3"
             },
             "line": {
              "color": "white"
             }
            },
            "type": "table"
           }
          ]
         },
         "layout": {
          "annotationdefaults": {
           "arrowcolor": "#2a3f5f",
           "arrowhead": 0,
           "arrowwidth": 1
          },
          "autotypenumbers": "strict",
          "coloraxis": {
           "colorbar": {
            "outlinewidth": 0,
            "ticks": ""
           }
          },
          "colorscale": {
           "diverging": [
            [
             0,
             "#8e0152"
            ],
            [
             0.1,
             "#c51b7d"
            ],
            [
             0.2,
             "#de77ae"
            ],
            [
             0.3,
             "#f1b6da"
            ],
            [
             0.4,
             "#fde0ef"
            ],
            [
             0.5,
             "#f7f7f7"
            ],
            [
             0.6,
             "#e6f5d0"
            ],
            [
             0.7,
             "#b8e186"
            ],
            [
             0.8,
             "#7fbc41"
            ],
            [
             0.9,
             "#4d9221"
            ],
            [
             1,
             "#276419"
            ]
           ],
           "sequential": [
            [
             0,
             "#0d0887"
            ],
            [
             0.1111111111111111,
             "#46039f"
            ],
            [
             0.2222222222222222,
             "#7201a8"
            ],
            [
             0.3333333333333333,
             "#9c179e"
            ],
            [
             0.4444444444444444,
             "#bd3786"
            ],
            [
             0.5555555555555556,
             "#d8576b"
            ],
            [
             0.6666666666666666,
             "#ed7953"
            ],
            [
             0.7777777777777778,
             "#fb9f3a"
            ],
            [
             0.8888888888888888,
             "#fdca26"
            ],
            [
             1,
             "#f0f921"
            ]
           ],
           "sequentialminus": [
            [
             0,
             "#0d0887"
            ],
            [
             0.1111111111111111,
             "#46039f"
            ],
            [
             0.2222222222222222,
             "#7201a8"
            ],
            [
             0.3333333333333333,
             "#9c179e"
            ],
            [
             0.4444444444444444,
             "#bd3786"
            ],
            [
             0.5555555555555556,
             "#d8576b"
            ],
            [
             0.6666666666666666,
             "#ed7953"
            ],
            [
             0.7777777777777778,
             "#fb9f3a"
            ],
            [
             0.8888888888888888,
             "#fdca26"
            ],
            [
             1,
             "#f0f921"
            ]
           ]
          },
          "colorway": [
           "#636efa",
           "#EF553B",
           "#00cc96",
           "#ab63fa",
           "#FFA15A",
           "#19d3f3",
           "#FF6692",
           "#B6E880",
           "#FF97FF",
           "#FECB52"
          ],
          "font": {
           "color": "#2a3f5f"
          },
          "geo": {
           "bgcolor": "white",
           "lakecolor": "white",
           "landcolor": "#E5ECF6",
           "showlakes": true,
           "showland": true,
           "subunitcolor": "white"
          },
          "hoverlabel": {
           "align": "left"
          },
          "hovermode": "closest",
          "mapbox": {
           "style": "light"
          },
          "paper_bgcolor": "white",
          "plot_bgcolor": "#E5ECF6",
          "polar": {
           "angularaxis": {
            "gridcolor": "white",
            "linecolor": "white",
            "ticks": ""
           },
           "bgcolor": "#E5ECF6",
           "radialaxis": {
            "gridcolor": "white",
            "linecolor": "white",
            "ticks": ""
           }
          },
          "scene": {
           "xaxis": {
            "backgroundcolor": "#E5ECF6",
            "gridcolor": "white",
            "gridwidth": 2,
            "linecolor": "white",
            "showbackground": true,
            "ticks": "",
            "zerolinecolor": "white"
           },
           "yaxis": {
            "backgroundcolor": "#E5ECF6",
            "gridcolor": "white",
            "gridwidth": 2,
            "linecolor": "white",
            "showbackground": true,
            "ticks": "",
            "zerolinecolor": "white"
           },
           "zaxis": {
            "backgroundcolor": "#E5ECF6",
            "gridcolor": "white",
            "gridwidth": 2,
            "linecolor": "white",
            "showbackground": true,
            "ticks": "",
            "zerolinecolor": "white"
           }
          },
          "shapedefaults": {
           "line": {
            "color": "#2a3f5f"
           }
          },
          "ternary": {
           "aaxis": {
            "gridcolor": "white",
            "linecolor": "white",
            "ticks": ""
           },
           "baxis": {
            "gridcolor": "white",
            "linecolor": "white",
            "ticks": ""
           },
           "bgcolor": "#E5ECF6",
           "caxis": {
            "gridcolor": "white",
            "linecolor": "white",
            "ticks": ""
           }
          },
          "title": {
           "x": 0.05
          },
          "xaxis": {
           "automargin": true,
           "gridcolor": "white",
           "linecolor": "white",
           "ticks": "",
           "title": {
            "standoff": 15
           },
           "zerolinecolor": "white",
           "zerolinewidth": 2
          },
          "yaxis": {
           "automargin": true,
           "gridcolor": "white",
           "linecolor": "white",
           "ticks": "",
           "title": {
            "standoff": 15
           },
           "zerolinecolor": "white",
           "zerolinewidth": 2
          }
         }
        },
        "title": {
         "text": "Значения коэффициента благополучия стран"
        },
        "width": 1000
       }
      }
     },
     "metadata": {},
     "output_type": "display_data"
    }
   ],
   "source": [
    "# Отобразим график \n",
    "fig = px.choropleth(\n",
    "    cumulative_scaled_data, \n",
    "    locations=F.SpatialDimValueCode.value, \n",
    "    color=F.PositiveCoef.value,\n",
    "    hover_name=F.Location.value,\n",
    "    projection='natural earth',\n",
    "    width=1000,\n",
    "    height=700,\n",
    "    title='Значения коэффициента благополучия стран',\n",
    ")\n",
    "\n",
    "fig.show()"
   ]
  },
  {
   "cell_type": "markdown",
   "metadata": {},
   "source": [
    "Визуально график похож на ранее построенный график со значениями ожидаемой продолжительности жизни.\\\n",
    "Неблагоприятная ситуаця в странах Африки, благоприятная в Японии и Европе.\\\n",
    "И средняя в России.\n",
    "\n",
    "Теперь отобразим на графике значения коэффициента неблагополучия стран."
   ]
  },
  {
   "cell_type": "code",
   "execution_count": 26,
   "metadata": {},
   "outputs": [
    {
     "data": {
      "application/vnd.plotly.v1+json": {
       "config": {
        "plotlyServerURL": "https://plot.ly"
       },
       "data": [
        {
         "coloraxis": "coloraxis",
         "geo": "geo",
         "hovertemplate": "<b>%{hovertext}</b><br><br>SpatialDimValueCode=%{location}<br>NegativeCoef=%{z}<extra></extra>",
         "hovertext": [
          "Afghanistan",
          "Angola",
          "Albania",
          "United Arab Emirates",
          "Argentina",
          "Armenia",
          "Antigua and Barbuda",
          "Australia",
          "Austria",
          "Azerbaijan",
          "Burundi",
          "Belgium",
          "Benin",
          "Burkina Faso",
          "Bangladesh",
          "Bulgaria",
          "Bahrain",
          "Bahamas",
          "Bosnia and Herzegovina",
          "Belarus",
          "Belize",
          "Bolivia (Plurinational State of)",
          "Brazil",
          "Barbados",
          "Brunei Darussalam",
          "Bhutan",
          "Botswana",
          "Central African Republic",
          "Canada",
          "Switzerland",
          "Chile",
          "China",
          "Cote d'Ivoire",
          "Cameroon",
          "Democratic Republic of the Congo",
          "Congo",
          "Colombia",
          "Comoros",
          "Cabo Verde",
          "Costa Rica",
          "Cuba",
          "Cyprus",
          "Czechia",
          "Germany",
          "Djibouti",
          "Denmark",
          "Dominican Republic",
          "Algeria",
          "Ecuador",
          "Egypt",
          "Eritrea",
          "Spain",
          "Estonia",
          "Ethiopia",
          "Finland",
          "Fiji",
          "France",
          "Micronesia (Federated States of)",
          "Gabon",
          "United Kingdom of Great Britain and Northern Ireland",
          "Georgia",
          "Ghana",
          "Guinea",
          "Gambia",
          "Guinea-Bissau",
          "Equatorial Guinea",
          "Greece",
          "Grenada",
          "Guatemala",
          "Guyana",
          "Honduras",
          "Croatia",
          "Haiti",
          "Hungary",
          "Indonesia",
          "India",
          "Ireland",
          "Iran (Islamic Republic of)",
          "Iraq",
          "Iceland",
          "Israel",
          "Italy",
          "Jamaica",
          "Jordan",
          "Japan",
          "Kazakhstan",
          "Kenya",
          "Kyrgyzstan",
          "Cambodia",
          "Kiribati",
          "Republic of Korea",
          "Kuwait",
          "Lao People's Democratic Republic",
          "Lebanon",
          "Liberia",
          "Libya",
          "Saint Lucia",
          "Sri Lanka",
          "Lesotho",
          "Lithuania",
          "Luxembourg",
          "Latvia",
          "Morocco",
          "Republic of Moldova",
          "Madagascar",
          "Maldives",
          "Mexico",
          "North Macedonia",
          "Mali",
          "Malta",
          "Myanmar",
          "Montenegro",
          "Mongolia",
          "Mozambique",
          "Mauritania",
          "Mauritius",
          "Malawi",
          "Malaysia",
          "Namibia",
          "Niger",
          "Nigeria",
          "Nicaragua",
          "Netherlands (Kingdom of the)",
          "Norway",
          "Nepal",
          "New Zealand",
          "Oman",
          "Pakistan",
          "Panama",
          "Peru",
          "Philippines",
          "Papua New Guinea",
          "Poland",
          "Portugal",
          "Paraguay",
          "Qatar",
          "Romania",
          "Russian Federation",
          "Rwanda",
          "Saudi Arabia",
          "Sudan",
          "Senegal",
          "Singapore",
          "Solomon Islands",
          "Sierra Leone",
          "El Salvador",
          "Somalia",
          "Serbia",
          "Sao Tome and Principe",
          "Suriname",
          "Slovakia",
          "Slovenia",
          "Sweden",
          "Eswatini",
          "Seychelles",
          "Syrian Arab Republic",
          "Chad",
          "Togo",
          "Thailand",
          "Tajikistan",
          "Turkmenistan",
          "Timor-Leste",
          "Tonga",
          "Trinidad and Tobago",
          "Tunisia",
          "Türkiye",
          "United Republic of Tanzania",
          "Uganda",
          "Ukraine",
          "Uruguay",
          "United States of America",
          "Uzbekistan",
          "Saint Vincent and the Grenadines",
          "Venezuela (Bolivarian Republic of)",
          "Viet Nam",
          "Vanuatu",
          "Samoa",
          "Yemen",
          "South Africa",
          "Zambia",
          "Zimbabwe"
         ],
         "locations": [
          "AFG",
          "AGO",
          "ALB",
          "ARE",
          "ARG",
          "ARM",
          "ATG",
          "AUS",
          "AUT",
          "AZE",
          "BDI",
          "BEL",
          "BEN",
          "BFA",
          "BGD",
          "BGR",
          "BHR",
          "BHS",
          "BIH",
          "BLR",
          "BLZ",
          "BOL",
          "BRA",
          "BRB",
          "BRN",
          "BTN",
          "BWA",
          "CAF",
          "CAN",
          "CHE",
          "CHL",
          "CHN",
          "CIV",
          "CMR",
          "COD",
          "COG",
          "COL",
          "COM",
          "CPV",
          "CRI",
          "CUB",
          "CYP",
          "CZE",
          "DEU",
          "DJI",
          "DNK",
          "DOM",
          "DZA",
          "ECU",
          "EGY",
          "ERI",
          "ESP",
          "EST",
          "ETH",
          "FIN",
          "FJI",
          "FRA",
          "FSM",
          "GAB",
          "GBR",
          "GEO",
          "GHA",
          "GIN",
          "GMB",
          "GNB",
          "GNQ",
          "GRC",
          "GRD",
          "GTM",
          "GUY",
          "HND",
          "HRV",
          "HTI",
          "HUN",
          "IDN",
          "IND",
          "IRL",
          "IRN",
          "IRQ",
          "ISL",
          "ISR",
          "ITA",
          "JAM",
          "JOR",
          "JPN",
          "KAZ",
          "KEN",
          "KGZ",
          "KHM",
          "KIR",
          "KOR",
          "KWT",
          "LAO",
          "LBN",
          "LBR",
          "LBY",
          "LCA",
          "LKA",
          "LSO",
          "LTU",
          "LUX",
          "LVA",
          "MAR",
          "MDA",
          "MDG",
          "MDV",
          "MEX",
          "MKD",
          "MLI",
          "MLT",
          "MMR",
          "MNE",
          "MNG",
          "MOZ",
          "MRT",
          "MUS",
          "MWI",
          "MYS",
          "NAM",
          "NER",
          "NGA",
          "NIC",
          "NLD",
          "NOR",
          "NPL",
          "NZL",
          "OMN",
          "PAK",
          "PAN",
          "PER",
          "PHL",
          "PNG",
          "POL",
          "PRT",
          "PRY",
          "QAT",
          "ROU",
          "RUS",
          "RWA",
          "SAU",
          "SDN",
          "SEN",
          "SGP",
          "SLB",
          "SLE",
          "SLV",
          "SOM",
          "SRB",
          "STP",
          "SUR",
          "SVK",
          "SVN",
          "SWE",
          "SWZ",
          "SYC",
          "SYR",
          "TCD",
          "TGO",
          "THA",
          "TJK",
          "TKM",
          "TLS",
          "TON",
          "TTO",
          "TUN",
          "TUR",
          "TZA",
          "UGA",
          "UKR",
          "URY",
          "USA",
          "UZB",
          "VCT",
          "VEN",
          "VNM",
          "VUT",
          "WSM",
          "YEM",
          "ZAF",
          "ZMB",
          "ZWE"
         ],
         "name": "",
         "type": "choropleth",
         "z": [
          0.8459130545365946,
          0.8371264564243244,
          0.5930194866546995,
          0.5974716656469253,
          0.6319218887516802,
          0.6324977422654218,
          0.6102834563339886,
          0.4134091987101108,
          0.5616837794952749,
          0.6625143822130536,
          0.8579121550706399,
          0.519641086519556,
          0.8486418935282792,
          0.8610749385506977,
          0.7822581856211801,
          0.5905747149967017,
          0.6511734606670936,
          0.6056005866731607,
          0.684089748635645,
          0.594007021212392,
          0.6641168764115334,
          0.6523362055793036,
          0.6002538269122321,
          0.5108859745259817,
          0.6470719916042411,
          0.7268841868535297,
          0.8282547987465791,
          0.9151703450266592,
          0.4429647877155408,
          0.5555321484982136,
          0.6197138894454249,
          0.6765338675543461,
          0.8876955349537471,
          0.843313714676757,
          0.898516580489308,
          0.8882342159740059,
          0.5144377740482357,
          0.7730871418121013,
          0.8240638116456903,
          0.6777655028096227,
          0.6754080848584562,
          0.27011524293209543,
          0.6287697046342156,
          0.5636683071593755,
          0.8419318076568163,
          0.5791664817007407,
          0.6559974057830735,
          0.6647843325047917,
          0.6261564797438514,
          0.6636093034707988,
          0.8607861352143561,
          0.4873454130780254,
          0.6485272290209237,
          0.8760135579417551,
          0.5781059855332848,
          0.670414977174034,
          0.547424697968085,
          0.6409986985467688,
          0.8483469740566536,
          0.5526592530816535,
          0.6366220019302821,
          0.8603111833370032,
          0.876572970353124,
          0.8347319148040893,
          0.8892192892826416,
          0.8726137805536667,
          0.5797177778431595,
          0.5219702090262405,
          0.6267486156690045,
          0.7398918301155505,
          0.5972220894782643,
          0.5434837828643184,
          0.7790582836598945,
          0.6198103806393419,
          0.7888561622118797,
          0.811428163094434,
          0.5358120494764449,
          0.688348181054251,
          0.6776223461954556,
          0.5491623064863984,
          0.5869300919306872,
          0.43853400519042635,
          0.5230555396955494,
          0.6826966018392233,
          0.6368449546236529,
          0.7008262343532516,
          0.8544198298841956,
          0.6247248167602287,
          0.7856458007779283,
          0.656857395764036,
          0.6363655028872928,
          0.6626675176933332,
          0.8003634223831531,
          0.6532661416286729,
          0.8565705508524378,
          0.7105354611505998,
          0.5919121507501124,
          0.6978629433609366,
          0.8426078207987481,
          0.6172917005155554,
          0.5312965088891283,
          0.5908696526924937,
          0.6809673495626941,
          0.5681762923430208,
          0.8154228930099261,
          0.6935427078347077,
          0.6162115537631992,
          0.6770654085195442,
          0.8649777732742983,
          0.5200884581082554,
          0.8165550285762477,
          0.4010787981375897,
          0.6937892870021151,
          0.867526947318611,
          0.8322866237241127,
          0.7069134207051665,
          0.8418120018102755,
          0.7360616255019354,
          0.8585403434869465,
          0.8615478545633025,
          0.876471266371019,
          0.5940248099565544,
          0.5016081852289985,
          0.4027638291345445,
          0.825284289012648,
          0.5615465954119244,
          0.6863924722567216,
          0.8332995212502927,
          0.5838406962974166,
          0.609921851950754,
          0.7409073780345304,
          0.7742401846524702,
          0.6531707903768825,
          0.5099130493381662,
          0.6765128378334213,
          0.6396557711436254,
          0.526027533774686,
          0.6209241089884944,
          0.8131701070519262,
          0.6833554673888232,
          0.8270744642711859,
          0.8608667966409052,
          0.5716863290010076,
          0.7150876103548588,
          0.8453245110442692,
          0.5566366861668935,
          0.8484045670307458,
          0.5954885730149869,
          0.7556357411484906,
          0.7225862336322786,
          0.6083798233967943,
          0.5707913655025437,
          0.4765213143705661,
          0.7902370246495042,
          0.7046645226985806,
          0.6674736930541599,
          0.8529031075245588,
          0.8752623930973024,
          0.8146960544825398,
          0.6882761314473266,
          0.6766794172914635,
          0.7826131352649797,
          0.6171095679871303,
          0.6973586956233435,
          0.7030193304687913,
          0.5938992149879477,
          0.8391469381048244,
          0.8717160272275972,
          0.6788071054801114,
          0.6311887229688649,
          0.6072929277547408,
          0.6446852764145583,
          0.5578178059734936,
          0.5704076584908542,
          0.7644570717922635,
          0.6924897738697379,
          0.6625676191487935,
          0.8129998552805918,
          0.7664014518382574,
          0.8480697567253281,
          0.8496131243413927
         ]
        }
       ],
       "layout": {
        "coloraxis": {
         "colorbar": {
          "title": {
           "text": "NegativeCoef"
          }
         },
         "colorscale": [
          [
           0,
           "#0d0887"
          ],
          [
           0.1111111111111111,
           "#46039f"
          ],
          [
           0.2222222222222222,
           "#7201a8"
          ],
          [
           0.3333333333333333,
           "#9c179e"
          ],
          [
           0.4444444444444444,
           "#bd3786"
          ],
          [
           0.5555555555555556,
           "#d8576b"
          ],
          [
           0.6666666666666666,
           "#ed7953"
          ],
          [
           0.7777777777777778,
           "#fb9f3a"
          ],
          [
           0.8888888888888888,
           "#fdca26"
          ],
          [
           1,
           "#f0f921"
          ]
         ]
        },
        "geo": {
         "center": {},
         "domain": {
          "x": [
           0,
           1
          ],
          "y": [
           0,
           1
          ]
         },
         "projection": {
          "type": "natural earth"
         }
        },
        "height": 700,
        "legend": {
         "tracegroupgap": 0
        },
        "template": {
         "data": {
          "bar": [
           {
            "error_x": {
             "color": "#2a3f5f"
            },
            "error_y": {
             "color": "#2a3f5f"
            },
            "marker": {
             "line": {
              "color": "#E5ECF6",
              "width": 0.5
             },
             "pattern": {
              "fillmode": "overlay",
              "size": 10,
              "solidity": 0.2
             }
            },
            "type": "bar"
           }
          ],
          "barpolar": [
           {
            "marker": {
             "line": {
              "color": "#E5ECF6",
              "width": 0.5
             },
             "pattern": {
              "fillmode": "overlay",
              "size": 10,
              "solidity": 0.2
             }
            },
            "type": "barpolar"
           }
          ],
          "carpet": [
           {
            "aaxis": {
             "endlinecolor": "#2a3f5f",
             "gridcolor": "white",
             "linecolor": "white",
             "minorgridcolor": "white",
             "startlinecolor": "#2a3f5f"
            },
            "baxis": {
             "endlinecolor": "#2a3f5f",
             "gridcolor": "white",
             "linecolor": "white",
             "minorgridcolor": "white",
             "startlinecolor": "#2a3f5f"
            },
            "type": "carpet"
           }
          ],
          "choropleth": [
           {
            "colorbar": {
             "outlinewidth": 0,
             "ticks": ""
            },
            "type": "choropleth"
           }
          ],
          "contour": [
           {
            "colorbar": {
             "outlinewidth": 0,
             "ticks": ""
            },
            "colorscale": [
             [
              0,
              "#0d0887"
             ],
             [
              0.1111111111111111,
              "#46039f"
             ],
             [
              0.2222222222222222,
              "#7201a8"
             ],
             [
              0.3333333333333333,
              "#9c179e"
             ],
             [
              0.4444444444444444,
              "#bd3786"
             ],
             [
              0.5555555555555556,
              "#d8576b"
             ],
             [
              0.6666666666666666,
              "#ed7953"
             ],
             [
              0.7777777777777778,
              "#fb9f3a"
             ],
             [
              0.8888888888888888,
              "#fdca26"
             ],
             [
              1,
              "#f0f921"
             ]
            ],
            "type": "contour"
           }
          ],
          "contourcarpet": [
           {
            "colorbar": {
             "outlinewidth": 0,
             "ticks": ""
            },
            "type": "contourcarpet"
           }
          ],
          "heatmap": [
           {
            "colorbar": {
             "outlinewidth": 0,
             "ticks": ""
            },
            "colorscale": [
             [
              0,
              "#0d0887"
             ],
             [
              0.1111111111111111,
              "#46039f"
             ],
             [
              0.2222222222222222,
              "#7201a8"
             ],
             [
              0.3333333333333333,
              "#9c179e"
             ],
             [
              0.4444444444444444,
              "#bd3786"
             ],
             [
              0.5555555555555556,
              "#d8576b"
             ],
             [
              0.6666666666666666,
              "#ed7953"
             ],
             [
              0.7777777777777778,
              "#fb9f3a"
             ],
             [
              0.8888888888888888,
              "#fdca26"
             ],
             [
              1,
              "#f0f921"
             ]
            ],
            "type": "heatmap"
           }
          ],
          "heatmapgl": [
           {
            "colorbar": {
             "outlinewidth": 0,
             "ticks": ""
            },
            "colorscale": [
             [
              0,
              "#0d0887"
             ],
             [
              0.1111111111111111,
              "#46039f"
             ],
             [
              0.2222222222222222,
              "#7201a8"
             ],
             [
              0.3333333333333333,
              "#9c179e"
             ],
             [
              0.4444444444444444,
              "#bd3786"
             ],
             [
              0.5555555555555556,
              "#d8576b"
             ],
             [
              0.6666666666666666,
              "#ed7953"
             ],
             [
              0.7777777777777778,
              "#fb9f3a"
             ],
             [
              0.8888888888888888,
              "#fdca26"
             ],
             [
              1,
              "#f0f921"
             ]
            ],
            "type": "heatmapgl"
           }
          ],
          "histogram": [
           {
            "marker": {
             "pattern": {
              "fillmode": "overlay",
              "size": 10,
              "solidity": 0.2
             }
            },
            "type": "histogram"
           }
          ],
          "histogram2d": [
           {
            "colorbar": {
             "outlinewidth": 0,
             "ticks": ""
            },
            "colorscale": [
             [
              0,
              "#0d0887"
             ],
             [
              0.1111111111111111,
              "#46039f"
             ],
             [
              0.2222222222222222,
              "#7201a8"
             ],
             [
              0.3333333333333333,
              "#9c179e"
             ],
             [
              0.4444444444444444,
              "#bd3786"
             ],
             [
              0.5555555555555556,
              "#d8576b"
             ],
             [
              0.6666666666666666,
              "#ed7953"
             ],
             [
              0.7777777777777778,
              "#fb9f3a"
             ],
             [
              0.8888888888888888,
              "#fdca26"
             ],
             [
              1,
              "#f0f921"
             ]
            ],
            "type": "histogram2d"
           }
          ],
          "histogram2dcontour": [
           {
            "colorbar": {
             "outlinewidth": 0,
             "ticks": ""
            },
            "colorscale": [
             [
              0,
              "#0d0887"
             ],
             [
              0.1111111111111111,
              "#46039f"
             ],
             [
              0.2222222222222222,
              "#7201a8"
             ],
             [
              0.3333333333333333,
              "#9c179e"
             ],
             [
              0.4444444444444444,
              "#bd3786"
             ],
             [
              0.5555555555555556,
              "#d8576b"
             ],
             [
              0.6666666666666666,
              "#ed7953"
             ],
             [
              0.7777777777777778,
              "#fb9f3a"
             ],
             [
              0.8888888888888888,
              "#fdca26"
             ],
             [
              1,
              "#f0f921"
             ]
            ],
            "type": "histogram2dcontour"
           }
          ],
          "mesh3d": [
           {
            "colorbar": {
             "outlinewidth": 0,
             "ticks": ""
            },
            "type": "mesh3d"
           }
          ],
          "parcoords": [
           {
            "line": {
             "colorbar": {
              "outlinewidth": 0,
              "ticks": ""
             }
            },
            "type": "parcoords"
           }
          ],
          "pie": [
           {
            "automargin": true,
            "type": "pie"
           }
          ],
          "scatter": [
           {
            "fillpattern": {
             "fillmode": "overlay",
             "size": 10,
             "solidity": 0.2
            },
            "type": "scatter"
           }
          ],
          "scatter3d": [
           {
            "line": {
             "colorbar": {
              "outlinewidth": 0,
              "ticks": ""
             }
            },
            "marker": {
             "colorbar": {
              "outlinewidth": 0,
              "ticks": ""
             }
            },
            "type": "scatter3d"
           }
          ],
          "scattercarpet": [
           {
            "marker": {
             "colorbar": {
              "outlinewidth": 0,
              "ticks": ""
             }
            },
            "type": "scattercarpet"
           }
          ],
          "scattergeo": [
           {
            "marker": {
             "colorbar": {
              "outlinewidth": 0,
              "ticks": ""
             }
            },
            "type": "scattergeo"
           }
          ],
          "scattergl": [
           {
            "marker": {
             "colorbar": {
              "outlinewidth": 0,
              "ticks": ""
             }
            },
            "type": "scattergl"
           }
          ],
          "scattermapbox": [
           {
            "marker": {
             "colorbar": {
              "outlinewidth": 0,
              "ticks": ""
             }
            },
            "type": "scattermapbox"
           }
          ],
          "scatterpolar": [
           {
            "marker": {
             "colorbar": {
              "outlinewidth": 0,
              "ticks": ""
             }
            },
            "type": "scatterpolar"
           }
          ],
          "scatterpolargl": [
           {
            "marker": {
             "colorbar": {
              "outlinewidth": 0,
              "ticks": ""
             }
            },
            "type": "scatterpolargl"
           }
          ],
          "scatterternary": [
           {
            "marker": {
             "colorbar": {
              "outlinewidth": 0,
              "ticks": ""
             }
            },
            "type": "scatterternary"
           }
          ],
          "surface": [
           {
            "colorbar": {
             "outlinewidth": 0,
             "ticks": ""
            },
            "colorscale": [
             [
              0,
              "#0d0887"
             ],
             [
              0.1111111111111111,
              "#46039f"
             ],
             [
              0.2222222222222222,
              "#7201a8"
             ],
             [
              0.3333333333333333,
              "#9c179e"
             ],
             [
              0.4444444444444444,
              "#bd3786"
             ],
             [
              0.5555555555555556,
              "#d8576b"
             ],
             [
              0.6666666666666666,
              "#ed7953"
             ],
             [
              0.7777777777777778,
              "#fb9f3a"
             ],
             [
              0.8888888888888888,
              "#fdca26"
             ],
             [
              1,
              "#f0f921"
             ]
            ],
            "type": "surface"
           }
          ],
          "table": [
           {
            "cells": {
             "fill": {
              "color": "#EBF0F8"
             },
             "line": {
              "color": "white"
             }
            },
            "header": {
             "fill": {
              "color": "#C8D4E3"
             },
             "line": {
              "color": "white"
             }
            },
            "type": "table"
           }
          ]
         },
         "layout": {
          "annotationdefaults": {
           "arrowcolor": "#2a3f5f",
           "arrowhead": 0,
           "arrowwidth": 1
          },
          "autotypenumbers": "strict",
          "coloraxis": {
           "colorbar": {
            "outlinewidth": 0,
            "ticks": ""
           }
          },
          "colorscale": {
           "diverging": [
            [
             0,
             "#8e0152"
            ],
            [
             0.1,
             "#c51b7d"
            ],
            [
             0.2,
             "#de77ae"
            ],
            [
             0.3,
             "#f1b6da"
            ],
            [
             0.4,
             "#fde0ef"
            ],
            [
             0.5,
             "#f7f7f7"
            ],
            [
             0.6,
             "#e6f5d0"
            ],
            [
             0.7,
             "#b8e186"
            ],
            [
             0.8,
             "#7fbc41"
            ],
            [
             0.9,
             "#4d9221"
            ],
            [
             1,
             "#276419"
            ]
           ],
           "sequential": [
            [
             0,
             "#0d0887"
            ],
            [
             0.1111111111111111,
             "#46039f"
            ],
            [
             0.2222222222222222,
             "#7201a8"
            ],
            [
             0.3333333333333333,
             "#9c179e"
            ],
            [
             0.4444444444444444,
             "#bd3786"
            ],
            [
             0.5555555555555556,
             "#d8576b"
            ],
            [
             0.6666666666666666,
             "#ed7953"
            ],
            [
             0.7777777777777778,
             "#fb9f3a"
            ],
            [
             0.8888888888888888,
             "#fdca26"
            ],
            [
             1,
             "#f0f921"
            ]
           ],
           "sequentialminus": [
            [
             0,
             "#0d0887"
            ],
            [
             0.1111111111111111,
             "#46039f"
            ],
            [
             0.2222222222222222,
             "#7201a8"
            ],
            [
             0.3333333333333333,
             "#9c179e"
            ],
            [
             0.4444444444444444,
             "#bd3786"
            ],
            [
             0.5555555555555556,
             "#d8576b"
            ],
            [
             0.6666666666666666,
             "#ed7953"
            ],
            [
             0.7777777777777778,
             "#fb9f3a"
            ],
            [
             0.8888888888888888,
             "#fdca26"
            ],
            [
             1,
             "#f0f921"
            ]
           ]
          },
          "colorway": [
           "#636efa",
           "#EF553B",
           "#00cc96",
           "#ab63fa",
           "#FFA15A",
           "#19d3f3",
           "#FF6692",
           "#B6E880",
           "#FF97FF",
           "#FECB52"
          ],
          "font": {
           "color": "#2a3f5f"
          },
          "geo": {
           "bgcolor": "white",
           "lakecolor": "white",
           "landcolor": "#E5ECF6",
           "showlakes": true,
           "showland": true,
           "subunitcolor": "white"
          },
          "hoverlabel": {
           "align": "left"
          },
          "hovermode": "closest",
          "mapbox": {
           "style": "light"
          },
          "paper_bgcolor": "white",
          "plot_bgcolor": "#E5ECF6",
          "polar": {
           "angularaxis": {
            "gridcolor": "white",
            "linecolor": "white",
            "ticks": ""
           },
           "bgcolor": "#E5ECF6",
           "radialaxis": {
            "gridcolor": "white",
            "linecolor": "white",
            "ticks": ""
           }
          },
          "scene": {
           "xaxis": {
            "backgroundcolor": "#E5ECF6",
            "gridcolor": "white",
            "gridwidth": 2,
            "linecolor": "white",
            "showbackground": true,
            "ticks": "",
            "zerolinecolor": "white"
           },
           "yaxis": {
            "backgroundcolor": "#E5ECF6",
            "gridcolor": "white",
            "gridwidth": 2,
            "linecolor": "white",
            "showbackground": true,
            "ticks": "",
            "zerolinecolor": "white"
           },
           "zaxis": {
            "backgroundcolor": "#E5ECF6",
            "gridcolor": "white",
            "gridwidth": 2,
            "linecolor": "white",
            "showbackground": true,
            "ticks": "",
            "zerolinecolor": "white"
           }
          },
          "shapedefaults": {
           "line": {
            "color": "#2a3f5f"
           }
          },
          "ternary": {
           "aaxis": {
            "gridcolor": "white",
            "linecolor": "white",
            "ticks": ""
           },
           "baxis": {
            "gridcolor": "white",
            "linecolor": "white",
            "ticks": ""
           },
           "bgcolor": "#E5ECF6",
           "caxis": {
            "gridcolor": "white",
            "linecolor": "white",
            "ticks": ""
           }
          },
          "title": {
           "x": 0.05
          },
          "xaxis": {
           "automargin": true,
           "gridcolor": "white",
           "linecolor": "white",
           "ticks": "",
           "title": {
            "standoff": 15
           },
           "zerolinecolor": "white",
           "zerolinewidth": 2
          },
          "yaxis": {
           "automargin": true,
           "gridcolor": "white",
           "linecolor": "white",
           "ticks": "",
           "title": {
            "standoff": 15
           },
           "zerolinecolor": "white",
           "zerolinewidth": 2
          }
         }
        },
        "title": {
         "text": "Значения коэффициента неблагополучия стран"
        },
        "width": 1000
       }
      }
     },
     "metadata": {},
     "output_type": "display_data"
    }
   ],
   "source": [
    "# Отобразим график \n",
    "fig = px.choropleth(\n",
    "    cumulative_scaled_data, \n",
    "    locations=F.SpatialDimValueCode.value, \n",
    "    color=F.NegativeCoef.value,\n",
    "    hover_name=F.Location.value,\n",
    "    projection='natural earth',\n",
    "    width=1000,\n",
    "    height=700,\n",
    "    title='Значения коэффициента неблагополучия стран',\n",
    ")\n",
    "\n",
    "fig.show()"
   ]
  },
  {
   "cell_type": "markdown",
   "metadata": {},
   "source": [
    "Наибольшая степень неблагополучия все так же в Африке."
   ]
  },
  {
   "cell_type": "markdown",
   "metadata": {},
   "source": [
    "## Добавление коэффициентов в основную таблицу"
   ]
  },
  {
   "cell_type": "code",
   "execution_count": 27,
   "metadata": {},
   "outputs": [
    {
     "data": {
      "text/html": [
       "<div>\n",
       "<style scoped>\n",
       "    .dataframe tbody tr th:only-of-type {\n",
       "        vertical-align: middle;\n",
       "    }\n",
       "\n",
       "    .dataframe tbody tr th {\n",
       "        vertical-align: top;\n",
       "    }\n",
       "\n",
       "    .dataframe thead th {\n",
       "        text-align: right;\n",
       "    }\n",
       "</style>\n",
       "<table border=\"1\" class=\"dataframe\">\n",
       "  <thead>\n",
       "    <tr style=\"text-align: right;\">\n",
       "      <th></th>\n",
       "      <th>ParentLocationCode</th>\n",
       "      <th>ParentLocation</th>\n",
       "      <th>SpatialDimValueCode</th>\n",
       "      <th>Location</th>\n",
       "      <th>Period</th>\n",
       "      <th>AdultMortality</th>\n",
       "      <th>Homicides</th>\n",
       "      <th>MaternalMortality</th>\n",
       "      <th>AdultNcdMortality</th>\n",
       "      <th>AdultNcdMortality117</th>\n",
       "      <th>...</th>\n",
       "      <th>HealthCareCosts</th>\n",
       "      <th>HealthCareCostsGdp</th>\n",
       "      <th>HealthCareCostsPerCapita</th>\n",
       "      <th>GdpPerCapita</th>\n",
       "      <th>Population</th>\n",
       "      <th>Schooling</th>\n",
       "      <th>ClusterKMeans</th>\n",
       "      <th>PositiveCoef</th>\n",
       "      <th>NegativeCoef</th>\n",
       "      <th>LifeExpectancy</th>\n",
       "    </tr>\n",
       "  </thead>\n",
       "  <tbody>\n",
       "    <tr>\n",
       "      <th>0</th>\n",
       "      <td>AFR</td>\n",
       "      <td>Africa</td>\n",
       "      <td>AGO</td>\n",
       "      <td>Angola</td>\n",
       "      <td>2000</td>\n",
       "      <td>34.56</td>\n",
       "      <td>0.01331</td>\n",
       "      <td>0.859921</td>\n",
       "      <td>30.5</td>\n",
       "      <td>0.028126</td>\n",
       "      <td>...</td>\n",
       "      <td>2.74</td>\n",
       "      <td>1.11</td>\n",
       "      <td>7.66</td>\n",
       "      <td>563.733796</td>\n",
       "      <td>16194869.0</td>\n",
       "      <td>5.027188</td>\n",
       "      <td>1</td>\n",
       "      <td>0.839586</td>\n",
       "      <td>0.837126</td>\n",
       "      <td>49.37</td>\n",
       "    </tr>\n",
       "    <tr>\n",
       "      <th>1</th>\n",
       "      <td>AFR</td>\n",
       "      <td>Africa</td>\n",
       "      <td>AGO</td>\n",
       "      <td>Angola</td>\n",
       "      <td>2001</td>\n",
       "      <td>33.86</td>\n",
       "      <td>0.01310</td>\n",
       "      <td>0.799641</td>\n",
       "      <td>29.7</td>\n",
       "      <td>0.027503</td>\n",
       "      <td>...</td>\n",
       "      <td>5.97</td>\n",
       "      <td>2.05</td>\n",
       "      <td>13.35</td>\n",
       "      <td>533.586202</td>\n",
       "      <td>16747208.0</td>\n",
       "      <td>5.092250</td>\n",
       "      <td>1</td>\n",
       "      <td>0.839586</td>\n",
       "      <td>0.837126</td>\n",
       "      <td>50.06</td>\n",
       "    </tr>\n",
       "    <tr>\n",
       "      <th>2</th>\n",
       "      <td>AFR</td>\n",
       "      <td>Africa</td>\n",
       "      <td>AGO</td>\n",
       "      <td>Angola</td>\n",
       "      <td>2002</td>\n",
       "      <td>32.51</td>\n",
       "      <td>0.01288</td>\n",
       "      <td>0.758272</td>\n",
       "      <td>29.4</td>\n",
       "      <td>0.027049</td>\n",
       "      <td>...</td>\n",
       "      <td>4.19</td>\n",
       "      <td>1.31</td>\n",
       "      <td>11.54</td>\n",
       "      <td>882.147847</td>\n",
       "      <td>17327699.0</td>\n",
       "      <td>5.157312</td>\n",
       "      <td>1</td>\n",
       "      <td>0.839586</td>\n",
       "      <td>0.837126</td>\n",
       "      <td>51.06</td>\n",
       "    </tr>\n",
       "    <tr>\n",
       "      <th>3</th>\n",
       "      <td>AFR</td>\n",
       "      <td>Africa</td>\n",
       "      <td>AGO</td>\n",
       "      <td>Angola</td>\n",
       "      <td>2003</td>\n",
       "      <td>32.16</td>\n",
       "      <td>0.01265</td>\n",
       "      <td>0.676496</td>\n",
       "      <td>29.3</td>\n",
       "      <td>0.026962</td>\n",
       "      <td>...</td>\n",
       "      <td>4.26</td>\n",
       "      <td>1.47</td>\n",
       "      <td>14.55</td>\n",
       "      <td>992.698979</td>\n",
       "      <td>17943712.0</td>\n",
       "      <td>5.222375</td>\n",
       "      <td>1</td>\n",
       "      <td>0.839586</td>\n",
       "      <td>0.837126</td>\n",
       "      <td>51.74</td>\n",
       "    </tr>\n",
       "    <tr>\n",
       "      <th>4</th>\n",
       "      <td>AFR</td>\n",
       "      <td>Africa</td>\n",
       "      <td>AGO</td>\n",
       "      <td>Angola</td>\n",
       "      <td>2004</td>\n",
       "      <td>32.24</td>\n",
       "      <td>0.01229</td>\n",
       "      <td>0.594192</td>\n",
       "      <td>29.0</td>\n",
       "      <td>0.026300</td>\n",
       "      <td>...</td>\n",
       "      <td>5.66</td>\n",
       "      <td>1.69</td>\n",
       "      <td>21.36</td>\n",
       "      <td>1266.210864</td>\n",
       "      <td>18600423.0</td>\n",
       "      <td>5.287437</td>\n",
       "      <td>1</td>\n",
       "      <td>0.839586</td>\n",
       "      <td>0.837126</td>\n",
       "      <td>52.36</td>\n",
       "    </tr>\n",
       "  </tbody>\n",
       "</table>\n",
       "<p>5 rows × 42 columns</p>\n",
       "</div>"
      ],
      "text/plain": [
       "  ParentLocationCode ParentLocation SpatialDimValueCode Location  Period  \\\n",
       "0                AFR         Africa                 AGO   Angola    2000   \n",
       "1                AFR         Africa                 AGO   Angola    2001   \n",
       "2                AFR         Africa                 AGO   Angola    2002   \n",
       "3                AFR         Africa                 AGO   Angola    2003   \n",
       "4                AFR         Africa                 AGO   Angola    2004   \n",
       "\n",
       "   AdultMortality  Homicides  MaternalMortality  AdultNcdMortality  \\\n",
       "0           34.56    0.01331           0.859921               30.5   \n",
       "1           33.86    0.01310           0.799641               29.7   \n",
       "2           32.51    0.01288           0.758272               29.4   \n",
       "3           32.16    0.01265           0.676496               29.3   \n",
       "4           32.24    0.01229           0.594192               29.0   \n",
       "\n",
       "   AdultNcdMortality117  ...  HealthCareCosts  HealthCareCostsGdp  \\\n",
       "0              0.028126  ...             2.74                1.11   \n",
       "1              0.027503  ...             5.97                2.05   \n",
       "2              0.027049  ...             4.19                1.31   \n",
       "3              0.026962  ...             4.26                1.47   \n",
       "4              0.026300  ...             5.66                1.69   \n",
       "\n",
       "   HealthCareCostsPerCapita  GdpPerCapita  Population  Schooling  \\\n",
       "0                      7.66    563.733796  16194869.0   5.027188   \n",
       "1                     13.35    533.586202  16747208.0   5.092250   \n",
       "2                     11.54    882.147847  17327699.0   5.157312   \n",
       "3                     14.55    992.698979  17943712.0   5.222375   \n",
       "4                     21.36   1266.210864  18600423.0   5.287437   \n",
       "\n",
       "   ClusterKMeans  PositiveCoef  NegativeCoef  LifeExpectancy  \n",
       "0              1      0.839586      0.837126           49.37  \n",
       "1              1      0.839586      0.837126           50.06  \n",
       "2              1      0.839586      0.837126           51.06  \n",
       "3              1      0.839586      0.837126           51.74  \n",
       "4              1      0.839586      0.837126           52.36  \n",
       "\n",
       "[5 rows x 42 columns]"
      ]
     },
     "execution_count": 27,
     "metadata": {},
     "output_type": "execute_result"
    }
   ],
   "source": [
    "# Добавим полученные коэффициенты в основную таблицу\n",
    "data = data.merge(\n",
    "    cumulative_scaled_data[[\n",
    "        F.SpatialDimValueCode.value, F.PositiveCoef.value, F.NegativeCoef.value\n",
    "    ]],\n",
    "    on=F.SpatialDimValueCode.value,\n",
    "    how='left',\n",
    ")\n",
    "# Переставим столбец с таргетом в конец таблицы\n",
    "data = move_column_to_end_table(data, F.LifeExpectancy.value)\n",
    "\n",
    "# Сохраним полученную таблицу\n",
    "data.to_csv('../data/cumulative_life_expectancy_prepared.csv', index=False)\n",
    "\n",
    "data.head()"
   ]
  },
  {
   "cell_type": "markdown",
   "metadata": {},
   "source": [
    "## Корреляция коэффициентов с целевой переменной"
   ]
  },
  {
   "cell_type": "markdown",
   "metadata": {},
   "source": [
    "Теперь посмотрим, как созданные коэффициенты коррелируют с целевой переменной."
   ]
  },
  {
   "cell_type": "code",
   "execution_count": 28,
   "metadata": {},
   "outputs": [
    {
     "data": {
      "image/png": "[encoded data removed]",
      "text/plain": [
       "<Figure size 1440x576 with 1 Axes>"
      ]
     },
     "metadata": {
      "needs_background": "light"
     },
     "output_type": "display_data"
    },
    {
     "data": {
      "text/html": [
       "<div style=\"margin-left: 45px\"}><font color=\"LightCoral\"><strong>Положительная корреляция</strong></font><br /><font color=\"DodgerBlue\"><strong>Отрицательная корреляция</strong></font></div>"
      ],
      "text/plain": [
       "<IPython.core.display.HTML object>"
      ]
     },
     "metadata": {},
     "output_type": "display_data"
    }
   ],
   "source": [
    "display_corellation_by_target(data, figsize=(20, 8))"
   ]
  },
  {
   "cell_type": "markdown",
   "metadata": {},
   "source": [
    "Новые признаки имеют коэффициенты корреляции с целевой переменной близкие к 0.8, что неплохо."
   ]
  }
 ],
 "metadata": {
  "kernelspec": {
   "display_name": "Python 3",
   "language": "python",
   "name": "python3"
  },
  "language_info": {
   "codemirror_mode": {
    "name": "ipython",
    "version": 3
   },
   "file_extension": ".py",
   "mimetype": "text/x-python",
   "name": "python",
   "nbconvert_exporter": "python",
   "pygments_lexer": "ipython3",
   "version": "3.9.10"
  }
 },
 "nbformat": 4,
 "nbformat_minor": 2
}
