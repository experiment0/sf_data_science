{
 "cells": [
  {
   "cell_type": "markdown",
   "metadata": {},
   "source": [
    "# Создание коэффициентов благополучия стран"
   ]
  },
  {
   "cell_type": "code",
   "execution_count": 2,
   "metadata": {},
   "outputs": [],
   "source": [
    "import sys\n",
    "# Добавим папку проекта в список системных директорий, чтобы Python видел путь к папке utils\n",
    "sys.path.append('..')"
   ]
  },
  {
   "cell_type": "code",
   "execution_count": 3,
   "metadata": {},
   "outputs": [],
   "source": [
    "from typing import Tuple\n",
    "import numpy as np \n",
    "import pandas as pd\n",
    "\n",
    "from sklearn.preprocessing import MinMaxScaler\n",
    "\n",
    "import plotly.express as px\n",
    "\n",
    "from utils.constants import (\n",
    "    F, \n",
    "    TARGET_FEATURE,\n",
    ")\n",
    "from utils.graphics import (\n",
    "    display_corellation_by_target,\n",
    "    show_and_save_fig,\n",
    ")\n",
    "from utils.display_content import (\n",
    "    dislay_some_fields_description,\n",
    ")\n",
    "from utils.prepare_data import (\n",
    "    move_column_to_end_table,\n",
    "    move_column_to_end_table,\n",
    ")\n",
    "from utils.helpers import get_cosine\n",
    "from classes.LocationCluster import LocationCluster\n",
    "\n",
    "from warnings import simplefilter\n",
    "simplefilter('ignore')"
   ]
  },
  {
   "cell_type": "code",
   "execution_count": 4,
   "metadata": {},
   "outputs": [
    {
     "data": {
      "text/html": [
       "<div>\n",
       "<style scoped>\n",
       "    .dataframe tbody tr th:only-of-type {\n",
       "        vertical-align: middle;\n",
       "    }\n",
       "\n",
       "    .dataframe tbody tr th {\n",
       "        vertical-align: top;\n",
       "    }\n",
       "\n",
       "    .dataframe thead th {\n",
       "        text-align: right;\n",
       "    }\n",
       "</style>\n",
       "<table border=\"1\" class=\"dataframe\">\n",
       "  <thead>\n",
       "    <tr style=\"text-align: right;\">\n",
       "      <th></th>\n",
       "      <th>ParentLocationCode</th>\n",
       "      <th>ParentLocation</th>\n",
       "      <th>SpatialDimValueCode</th>\n",
       "      <th>Location</th>\n",
       "      <th>Period</th>\n",
       "      <th>AdultMortality</th>\n",
       "      <th>Homicides</th>\n",
       "      <th>MaternalMortality</th>\n",
       "      <th>AdultNcdMortality</th>\n",
       "      <th>AdultNcdMortality117</th>\n",
       "      <th>...</th>\n",
       "      <th>Sanitation</th>\n",
       "      <th>DrinkingWater</th>\n",
       "      <th>HealthCareCosts</th>\n",
       "      <th>HealthCareCostsGdp</th>\n",
       "      <th>HealthCareCostsPerCapita</th>\n",
       "      <th>GdpPerCapita</th>\n",
       "      <th>Population</th>\n",
       "      <th>Schooling</th>\n",
       "      <th>ClusterKMeans</th>\n",
       "      <th>LifeExpectancy</th>\n",
       "    </tr>\n",
       "  </thead>\n",
       "  <tbody>\n",
       "    <tr>\n",
       "      <th>0</th>\n",
       "      <td>AFR</td>\n",
       "      <td>Africa</td>\n",
       "      <td>AGO</td>\n",
       "      <td>Angola</td>\n",
       "      <td>2000</td>\n",
       "      <td>34.56</td>\n",
       "      <td>0.01331</td>\n",
       "      <td>0.859921</td>\n",
       "      <td>30.5</td>\n",
       "      <td>0.028126</td>\n",
       "      <td>...</td>\n",
       "      <td>27.56</td>\n",
       "      <td>41.14</td>\n",
       "      <td>2.74</td>\n",
       "      <td>1.11</td>\n",
       "      <td>7.66</td>\n",
       "      <td>563.733796</td>\n",
       "      <td>16194869.0</td>\n",
       "      <td>5.027188</td>\n",
       "      <td>1</td>\n",
       "      <td>49.37</td>\n",
       "    </tr>\n",
       "    <tr>\n",
       "      <th>1</th>\n",
       "      <td>AFR</td>\n",
       "      <td>Africa</td>\n",
       "      <td>AGO</td>\n",
       "      <td>Angola</td>\n",
       "      <td>2001</td>\n",
       "      <td>33.86</td>\n",
       "      <td>0.01310</td>\n",
       "      <td>0.799641</td>\n",
       "      <td>29.7</td>\n",
       "      <td>0.027503</td>\n",
       "      <td>...</td>\n",
       "      <td>28.99</td>\n",
       "      <td>42.25</td>\n",
       "      <td>5.97</td>\n",
       "      <td>2.05</td>\n",
       "      <td>13.35</td>\n",
       "      <td>533.586202</td>\n",
       "      <td>16747208.0</td>\n",
       "      <td>5.092250</td>\n",
       "      <td>1</td>\n",
       "      <td>50.06</td>\n",
       "    </tr>\n",
       "    <tr>\n",
       "      <th>2</th>\n",
       "      <td>AFR</td>\n",
       "      <td>Africa</td>\n",
       "      <td>AGO</td>\n",
       "      <td>Angola</td>\n",
       "      <td>2002</td>\n",
       "      <td>32.51</td>\n",
       "      <td>0.01288</td>\n",
       "      <td>0.758272</td>\n",
       "      <td>29.4</td>\n",
       "      <td>0.027049</td>\n",
       "      <td>...</td>\n",
       "      <td>30.42</td>\n",
       "      <td>43.38</td>\n",
       "      <td>4.19</td>\n",
       "      <td>1.31</td>\n",
       "      <td>11.54</td>\n",
       "      <td>882.147847</td>\n",
       "      <td>17327699.0</td>\n",
       "      <td>5.157312</td>\n",
       "      <td>1</td>\n",
       "      <td>51.06</td>\n",
       "    </tr>\n",
       "    <tr>\n",
       "      <th>3</th>\n",
       "      <td>AFR</td>\n",
       "      <td>Africa</td>\n",
       "      <td>AGO</td>\n",
       "      <td>Angola</td>\n",
       "      <td>2003</td>\n",
       "      <td>32.16</td>\n",
       "      <td>0.01265</td>\n",
       "      <td>0.676496</td>\n",
       "      <td>29.3</td>\n",
       "      <td>0.026962</td>\n",
       "      <td>...</td>\n",
       "      <td>31.86</td>\n",
       "      <td>44.36</td>\n",
       "      <td>4.26</td>\n",
       "      <td>1.47</td>\n",
       "      <td>14.55</td>\n",
       "      <td>992.698979</td>\n",
       "      <td>17943712.0</td>\n",
       "      <td>5.222375</td>\n",
       "      <td>1</td>\n",
       "      <td>51.74</td>\n",
       "    </tr>\n",
       "    <tr>\n",
       "      <th>4</th>\n",
       "      <td>AFR</td>\n",
       "      <td>Africa</td>\n",
       "      <td>AGO</td>\n",
       "      <td>Angola</td>\n",
       "      <td>2004</td>\n",
       "      <td>32.24</td>\n",
       "      <td>0.01229</td>\n",
       "      <td>0.594192</td>\n",
       "      <td>29.0</td>\n",
       "      <td>0.026300</td>\n",
       "      <td>...</td>\n",
       "      <td>33.29</td>\n",
       "      <td>45.35</td>\n",
       "      <td>5.66</td>\n",
       "      <td>1.69</td>\n",
       "      <td>21.36</td>\n",
       "      <td>1266.210864</td>\n",
       "      <td>18600423.0</td>\n",
       "      <td>5.287437</td>\n",
       "      <td>1</td>\n",
       "      <td>52.36</td>\n",
       "    </tr>\n",
       "  </tbody>\n",
       "</table>\n",
       "<p>5 rows × 40 columns</p>\n",
       "</div>"
      ],
      "text/plain": [
       "  ParentLocationCode ParentLocation SpatialDimValueCode Location  Period  \\\n",
       "0                AFR         Africa                 AGO   Angola    2000   \n",
       "1                AFR         Africa                 AGO   Angola    2001   \n",
       "2                AFR         Africa                 AGO   Angola    2002   \n",
       "3                AFR         Africa                 AGO   Angola    2003   \n",
       "4                AFR         Africa                 AGO   Angola    2004   \n",
       "\n",
       "   AdultMortality  Homicides  MaternalMortality  AdultNcdMortality  \\\n",
       "0           34.56    0.01331           0.859921               30.5   \n",
       "1           33.86    0.01310           0.799641               29.7   \n",
       "2           32.51    0.01288           0.758272               29.4   \n",
       "3           32.16    0.01265           0.676496               29.3   \n",
       "4           32.24    0.01229           0.594192               29.0   \n",
       "\n",
       "   AdultNcdMortality117  ...  Sanitation  DrinkingWater  HealthCareCosts  \\\n",
       "0              0.028126  ...       27.56          41.14             2.74   \n",
       "1              0.027503  ...       28.99          42.25             5.97   \n",
       "2              0.027049  ...       30.42          43.38             4.19   \n",
       "3              0.026962  ...       31.86          44.36             4.26   \n",
       "4              0.026300  ...       33.29          45.35             5.66   \n",
       "\n",
       "   HealthCareCostsGdp  HealthCareCostsPerCapita  GdpPerCapita  Population  \\\n",
       "0                1.11                      7.66    563.733796  16194869.0   \n",
       "1                2.05                     13.35    533.586202  16747208.0   \n",
       "2                1.31                     11.54    882.147847  17327699.0   \n",
       "3                1.47                     14.55    992.698979  17943712.0   \n",
       "4                1.69                     21.36   1266.210864  18600423.0   \n",
       "\n",
       "   Schooling  ClusterKMeans  LifeExpectancy  \n",
       "0   5.027188              1           49.37  \n",
       "1   5.092250              1           50.06  \n",
       "2   5.157312              1           51.06  \n",
       "3   5.222375              1           51.74  \n",
       "4   5.287437              1           52.36  \n",
       "\n",
       "[5 rows x 40 columns]"
      ]
     },
     "execution_count": 4,
     "metadata": {},
     "output_type": "execute_result"
    }
   ],
   "source": [
    "# Загрузим таблицу\n",
    "data = pd.read_csv('../data/cumulative_life_expectancy_prepared.csv')\n",
    "\n",
    "# Для случая, если запускаем файл повторно после добавления коэффициентов, удалим поля с ними\n",
    "columns = list(data.columns)\n",
    "\n",
    "if (F.PositiveCoef.value in columns):\n",
    "    data.drop(columns=[F.PositiveCoef.value], inplace=True)\n",
    "if (F.NegativeCoef.value in columns):\n",
    "    data.drop(columns=[F.NegativeCoef.value], inplace=True)\n",
    "    \n",
    "# Добавим в данные признак кластера\n",
    "cluster_creater = LocationCluster(2)\n",
    "cluster_creater.fit(data)\n",
    "data = cluster_creater.transform(data)\n",
    "\n",
    "data.head()"
   ]
  },
  {
   "cell_type": "code",
   "execution_count": 5,
   "metadata": {},
   "outputs": [
    {
     "data": {
      "text/markdown": [
       "**Описание полей:**"
      ],
      "text/plain": [
       "<IPython.core.display.Markdown object>"
      ]
     },
     "metadata": {},
     "output_type": "display_data"
    },
    {
     "data": {
      "text/markdown": [
       "- `ParentLocationCode` - Код региона"
      ],
      "text/plain": [
       "<IPython.core.display.Markdown object>"
      ]
     },
     "metadata": {},
     "output_type": "display_data"
    },
    {
     "data": {
      "text/markdown": [
       "- `ParentLocation` - Название региона"
      ],
      "text/plain": [
       "<IPython.core.display.Markdown object>"
      ]
     },
     "metadata": {},
     "output_type": "display_data"
    },
    {
     "data": {
      "text/markdown": [
       "- `SpatialDimValueCode` - Код страны"
      ],
      "text/plain": [
       "<IPython.core.display.Markdown object>"
      ]
     },
     "metadata": {},
     "output_type": "display_data"
    },
    {
     "data": {
      "text/markdown": [
       "- `Location` - Название страны"
      ],
      "text/plain": [
       "<IPython.core.display.Markdown object>"
      ]
     },
     "metadata": {},
     "output_type": "display_data"
    },
    {
     "data": {
      "text/markdown": [
       "- `Period` - Год"
      ],
      "text/plain": [
       "<IPython.core.display.Markdown object>"
      ]
     },
     "metadata": {},
     "output_type": "display_data"
    },
    {
     "data": {
      "text/markdown": [
       "- `AdultMortality` - Смертность среди взрослого населения от 15 до 60 лет (в % от численности населения)"
      ],
      "text/plain": [
       "<IPython.core.display.Markdown object>"
      ]
     },
     "metadata": {},
     "output_type": "display_data"
    },
    {
     "data": {
      "text/markdown": [
       "- `Homicides` - Оценка уровня убийств (%)"
      ],
      "text/plain": [
       "<IPython.core.display.Markdown object>"
      ]
     },
     "metadata": {},
     "output_type": "display_data"
    },
    {
     "data": {
      "text/markdown": [
       "- `MaternalMortality` - Коэффициент материнской смертности (%)"
      ],
      "text/plain": [
       "<IPython.core.display.Markdown object>"
      ]
     },
     "metadata": {},
     "output_type": "display_data"
    },
    {
     "data": {
      "text/markdown": [
       "- `AdultNcdMortality` - Вероятность (в %) смерти в возрасте от 30 до 70 лет от сердечно-сосудистых заболеваний, рака, диабета или хронических респираторных заболеваний"
      ],
      "text/plain": [
       "<IPython.core.display.Markdown object>"
      ]
     },
     "metadata": {},
     "output_type": "display_data"
    },
    {
     "data": {
      "text/markdown": [
       "- `AdultNcdMortality117` - Смертность взрослых от неинфекционных заболеваний (%). Респираторные заболевания"
      ],
      "text/plain": [
       "<IPython.core.display.Markdown object>"
      ]
     },
     "metadata": {},
     "output_type": "display_data"
    },
    {
     "data": {
      "text/markdown": [
       "- `AdultNcdMortality110` - Смертность взрослых от неинфекционных заболеваний (%). Сердечно-сосудистые заболевания"
      ],
      "text/plain": [
       "<IPython.core.display.Markdown object>"
      ]
     },
     "metadata": {},
     "output_type": "display_data"
    },
    {
     "data": {
      "text/markdown": [
       "- `AdultNcdMortality080` - Смертность взрослых от неинфекционных заболеваний (%). Сахарный диабет"
      ],
      "text/plain": [
       "<IPython.core.display.Markdown object>"
      ]
     },
     "metadata": {},
     "output_type": "display_data"
    },
    {
     "data": {
      "text/markdown": [
       "- `AdultNcdMortality061` - Смертность взрослых от неинфекционных заболеваний (%). Злокачественные новообразования"
      ],
      "text/plain": [
       "<IPython.core.display.Markdown object>"
      ]
     },
     "metadata": {},
     "output_type": "display_data"
    },
    {
     "data": {
      "text/markdown": [
       "- `AdultNcdMortalitySum` - Сумма причин (в %) смертности взрослых от неинфекционных заболеваний."
      ],
      "text/plain": [
       "<IPython.core.display.Markdown object>"
      ]
     },
     "metadata": {},
     "output_type": "display_data"
    },
    {
     "data": {
      "text/markdown": [
       "- `PoisoningMortality` - Уровень смертности от непреднамеренного отравления (%)"
      ],
      "text/plain": [
       "<IPython.core.display.Markdown object>"
      ]
     },
     "metadata": {},
     "output_type": "display_data"
    },
    {
     "data": {
      "text/markdown": [
       "- `SuicideMortality` - Стандартизированные по возрасту показатели самоубийств (%)"
      ],
      "text/plain": [
       "<IPython.core.display.Markdown object>"
      ]
     },
     "metadata": {},
     "output_type": "display_data"
    },
    {
     "data": {
      "text/markdown": [
       "- `AlcoholСonsumption` - Потребление алкоголя на душу населения (15+) (в литрах чистого алкоголя)"
      ],
      "text/plain": [
       "<IPython.core.display.Markdown object>"
      ]
     },
     "metadata": {},
     "output_type": "display_data"
    },
    {
     "data": {
      "text/markdown": [
       "- `HepatitisBImmunization` - Охват иммунизацией детей в возрасте 1 года против гепатита В (ГепВ3) (%)"
      ],
      "text/plain": [
       "<IPython.core.display.Markdown object>"
      ]
     },
     "metadata": {},
     "output_type": "display_data"
    },
    {
     "data": {
      "text/markdown": [
       "- `MeaslesImmunization` - Охват первой дозой вакцины, содержащей коревой компонент (MCV1), среди детей в возрасте 1 года (%)"
      ],
      "text/plain": [
       "<IPython.core.display.Markdown object>"
      ]
     },
     "metadata": {},
     "output_type": "display_data"
    },
    {
     "data": {
      "text/markdown": [
       "- `PolioImmunization` - Охват иммунизацией от полиомиелита (Pol3) среди детей в возрасте 1 года (%)"
      ],
      "text/plain": [
       "<IPython.core.display.Markdown object>"
      ]
     },
     "metadata": {},
     "output_type": "display_data"
    },
    {
     "data": {
      "text/markdown": [
       "- `DiphtheriaImmunization` - Охват иммунизацией детей в возрасте 1 года дифтерийно-столбнячным анатоксином и коклюшем (АКДС3) (%)"
      ],
      "text/plain": [
       "<IPython.core.display.Markdown object>"
      ]
     },
     "metadata": {},
     "output_type": "display_data"
    },
    {
     "data": {
      "text/markdown": [
       "- `BmiAdultUnderweight` - Распространенность недостаточного веса среди взрослых, ИМТ < 18,5 (стандартизированная по возрасту оценка) (%)"
      ],
      "text/plain": [
       "<IPython.core.display.Markdown object>"
      ]
     },
     "metadata": {},
     "output_type": "display_data"
    },
    {
     "data": {
      "text/markdown": [
       "- `BmiAdultOverweight25` - Распространенность избыточного веса среди взрослых, ИМТ >= 25 (стандартизированная по возрасту оценка) (%)"
      ],
      "text/plain": [
       "<IPython.core.display.Markdown object>"
      ]
     },
     "metadata": {},
     "output_type": "display_data"
    },
    {
     "data": {
      "text/markdown": [
       "- `BmiAdultOverweight30` - Распространенность ожирения среди взрослых, ИМТ >= 30 (стандартизированная по возрасту оценка) (%)"
      ],
      "text/plain": [
       "<IPython.core.display.Markdown object>"
      ]
     },
     "metadata": {},
     "output_type": "display_data"
    },
    {
     "data": {
      "text/markdown": [
       "- `BmiChildThinness` - Распространенность худобы среди детей 5-9 лет, ИМТ < -2 стандартных отклонений ниже медианы (грубая оценка) (%)"
      ],
      "text/plain": [
       "<IPython.core.display.Markdown object>"
      ]
     },
     "metadata": {},
     "output_type": "display_data"
    },
    {
     "data": {
      "text/markdown": [
       "- `BmiTeenagerThinness` - Распространенность худобы среди подростков 10-19 лет, ИМТ < -2 стандартных отклонений ниже медианы (грубая оценка) (%)"
      ],
      "text/plain": [
       "<IPython.core.display.Markdown object>"
      ]
     },
     "metadata": {},
     "output_type": "display_data"
    },
    {
     "data": {
      "text/markdown": [
       "- `BmiChildOverweight1` - Распространенность избыточного веса среди детей 5-9 лет, ИМТ > +1 стандартного отклонения выше медианы (грубая оценка) (%)"
      ],
      "text/plain": [
       "<IPython.core.display.Markdown object>"
      ]
     },
     "metadata": {},
     "output_type": "display_data"
    },
    {
     "data": {
      "text/markdown": [
       "- `BmiTeenagerOverweight1` - Распространенность избыточного веса среди подростков 10-19 лет, ИМТ > +1 стандартного отклонения выше медианы (грубая оценка) (%)"
      ],
      "text/plain": [
       "<IPython.core.display.Markdown object>"
      ]
     },
     "metadata": {},
     "output_type": "display_data"
    },
    {
     "data": {
      "text/markdown": [
       "- `BmiChildOverweight2` - Распространенность ожирения среди детей 5-9 лет, ИМТ > +2 стандартных отклонений выше медианы (грубая оценка) (%)"
      ],
      "text/plain": [
       "<IPython.core.display.Markdown object>"
      ]
     },
     "metadata": {},
     "output_type": "display_data"
    },
    {
     "data": {
      "text/markdown": [
       "- `BmiTeenagerOverweight2` - Распространенность ожирения среди подростков 10-19 лет, ИМТ > +2 стандартных отклонений выше медианы (грубая оценка) (%)"
      ],
      "text/plain": [
       "<IPython.core.display.Markdown object>"
      ]
     },
     "metadata": {},
     "output_type": "display_data"
    },
    {
     "data": {
      "text/markdown": [
       "- `Sanitation` - Население, пользующееся как минимум базовыми услугами санитарии (%)"
      ],
      "text/plain": [
       "<IPython.core.display.Markdown object>"
      ]
     },
     "metadata": {},
     "output_type": "display_data"
    },
    {
     "data": {
      "text/markdown": [
       "- `DrinkingWater` - Население, пользующееся по крайней мере базовыми услугами питьевого водоснабжения (%)"
      ],
      "text/plain": [
       "<IPython.core.display.Markdown object>"
      ]
     },
     "metadata": {},
     "output_type": "display_data"
    },
    {
     "data": {
      "text/markdown": [
       "- `HealthCareCosts` - Общие внутренние государственные расходы на здравоохранение в процентах от общих государственных расходов (%)"
      ],
      "text/plain": [
       "<IPython.core.display.Markdown object>"
      ]
     },
     "metadata": {},
     "output_type": "display_data"
    },
    {
     "data": {
      "text/markdown": [
       "- `HealthCareCostsGdp` - Общие внутренние государственные расходы на здравоохранение в процентах от валового внутреннего продукта (ВВП) (%)"
      ],
      "text/plain": [
       "<IPython.core.display.Markdown object>"
      ]
     },
     "metadata": {},
     "output_type": "display_data"
    },
    {
     "data": {
      "text/markdown": [
       "- `HealthCareCostsPerCapita` - Общие внутренние государственные расходы на здравоохранение на душу населения в долларах США"
      ],
      "text/plain": [
       "<IPython.core.display.Markdown object>"
      ]
     },
     "metadata": {},
     "output_type": "display_data"
    },
    {
     "data": {
      "text/markdown": [
       "- `GdpPerCapita` - ВВП на душу населения (в долл. США)"
      ],
      "text/plain": [
       "<IPython.core.display.Markdown object>"
      ]
     },
     "metadata": {},
     "output_type": "display_data"
    },
    {
     "data": {
      "text/markdown": [
       "- `Population` - Общая численность населения"
      ],
      "text/plain": [
       "<IPython.core.display.Markdown object>"
      ]
     },
     "metadata": {},
     "output_type": "display_data"
    },
    {
     "data": {
      "text/markdown": [
       "- `Schooling` - Средняя продолжительность формального образования для лиц в возрасте 15–64 лет"
      ],
      "text/plain": [
       "<IPython.core.display.Markdown object>"
      ]
     },
     "metadata": {},
     "output_type": "display_data"
    },
    {
     "data": {
      "text/markdown": [
       "- `ClusterKMeans` - Кластер страны, определенный с помощью k-means"
      ],
      "text/plain": [
       "<IPython.core.display.Markdown object>"
      ]
     },
     "metadata": {},
     "output_type": "display_data"
    },
    {
     "data": {
      "text/markdown": [
       "- `LifeExpectancy` - Ожидаемая продоложительность жизни"
      ],
      "text/plain": [
       "<IPython.core.display.Markdown object>"
      ]
     },
     "metadata": {},
     "output_type": "display_data"
    }
   ],
   "source": [
    "# Выведем описание полей\n",
    "dislay_some_fields_description(list(data.columns))"
   ]
  },
  {
   "cell_type": "markdown",
   "metadata": {},
   "source": [
    "Посмотрим на корреляцию признаков с целевой переменной."
   ]
  },
  {
   "cell_type": "code",
   "execution_count": 6,
   "metadata": {},
   "outputs": [
    {
     "data": {
      "image/png": "[encoded data removed]",
      "text/plain": [
       "<Figure size 1440x576 with 1 Axes>"
      ]
     },
     "metadata": {
      "needs_background": "light"
     },
     "output_type": "display_data"
    },
    {
     "data": {
      "text/html": [
       "<div style=\"margin-left: 45px\"}><font color=\"LightCoral\"><strong>Положительная корреляция</strong></font><br /><font color=\"DodgerBlue\"><strong>Отрицательная корреляция</strong></font></div>"
      ],
      "text/plain": [
       "<IPython.core.display.HTML object>"
      ]
     },
     "metadata": {},
     "output_type": "display_data"
    }
   ],
   "source": [
    "display_corellation_by_target(data, figsize=(20, 8))"
   ]
  },
  {
   "cell_type": "markdown",
   "metadata": {},
   "source": [
    "## Описание алгоритма формирования коэффициентов\n",
    "\n",
    "Создадим два коэффициента.\n",
    "\n",
    "- Коэффициент благополучия страны.\n",
    "- Коэффициент неблагополучия страны.\n",
    "\n",
    "Идея формирования коэффициентов состоит в следующем.\n",
    "\n",
    "Часть признаков положительно коррелируют с ожидаемой продолжительностью жизни, часть отрицательно.\n",
    "\n",
    "То есть, часть факторов способствуют/положительно сочетаются с высокой продолжительностью жизни и являются признаками благополучной страны.\\\n",
    "А часть фаторов отрицательно влияют на продолжительность жизни и являются признаками неблагополучной страны.\n",
    "\n",
    "**Разделим все признаки на 2 группы.**\n",
    "\n",
    "- Признаки, положительно коррелирующие с целевой переменной\n",
    "- Признаки, отрицательно коррелирующие с целевой переменной\n",
    "\n",
    "Из этих признаков исключим те, которые прямого отношения к благополучию (или не благополучию) не имеют.\\\n",
    "Список их соберем ниже.\n",
    "\n",
    "**Далее из этих двух групп соберем два вектора.**\n",
    "\n",
    "Первый вектор будем собирать из данных стран с кластером `ClusterKMeans == 0`, \\\n",
    "в который ранее вошли благополучные страны.\\\n",
    "Второй вектор будем собирать из данных стран с кластером `ClusterKMeans == 1`, \\\n",
    "в который ранее вошли неблагополучные страны.\n",
    "\n",
    "Условно, составим идеальный вектор благополучной страны.\\\n",
    "По признакам, положительно коррелирующим с целевым, \\\n",
    "возьмем в группе стран с `ClusterKMeans == 0` максимальные средние по годам значения.\n",
    "\n",
    "И составим вектор максимально неблагополучной страны.\\\n",
    "По признакам, отрицательно коррелирующим с целевым, \\\n",
    "возьмем по группе стран с `ClusterKMeans == 1` максимальные средние по годам значения.\n",
    "\n",
    "Далее **коэффициент благополучия** посчитаем как косинус угла вектора средних данных по каждой стране с полученным идеальным вектором.\\\n",
    "Косинус угла будет означать степень сонаправленности вектра данной страны с вектором идеальной страны.\\\n",
    "Чем косинус больше, тем угол меньше, соответственно сонаправленность больше.\n",
    "\n",
    "**Коэффициент неблагополучия** страны посчитаем как косинус угла вектора средних данных по каждой стране с полученным вектором максимально неблагополучной страны.\\\n",
    "Косинус угла будет означать степень сонаправленности вектора данной страны с вектором максимально неблагополучной страны."
   ]
  },
  {
   "cell_type": "markdown",
   "metadata": {},
   "source": [
    "## Формирование коэффициентов"
   ]
  },
  {
   "cell_type": "markdown",
   "metadata": {},
   "source": [
    "Напишем функцию, которая будет делить признаки на две группы.\\\n",
    "С положительной и отрицательной корреляцией с целевой переменной."
   ]
  },
  {
   "cell_type": "code",
   "execution_count": 7,
   "metadata": {},
   "outputs": [],
   "source": [
    "def get_split_correlation_fields(\n",
    "    data: pd.DataFrame, \n",
    "    method: str = 'pearson',\n",
    "    target_feature_name: str = TARGET_FEATURE,\n",
    ") -> Tuple[pd.DataFrame, pd.DataFrame]:\n",
    "    \"\"\"Формирует две таблицы. \n",
    "    Одну с признаками, положительно коррелирующими с целевой переменной \n",
    "    (в формате: индекс - имя признака, значение - коэффициент корреляции).\n",
    "    И вторую аналогичную с отрицательно коррелирующими признаками\n",
    "\n",
    "    Args:\n",
    "        data (pd.DataFrame): Данные, которые проверяем на корреляцию с целевой переменной\n",
    "        method (str, optional): Метод, с помощью которого считается коэффициент корреляции. \n",
    "            По умолчанию 'pearson'.\n",
    "        target_feature_name (str, optional): Имя целевой переменной. \n",
    "            По умолчанию - константа TARGET_FEATURE.\n",
    "\n",
    "    Returns:\n",
    "        Tuple[pd.DataFrame, pd.DataFrame]: таблицы данными признаков корреляции\n",
    "    \"\"\"\n",
    "    # Матрица корреляции\n",
    "    data_corr = data.select_dtypes(include=np.number).corr(method=method)\n",
    "\n",
    "    # Оставим в таблице только целевую переменную\n",
    "    data_corr = data_corr[[target_feature_name]]\n",
    "    \n",
    "    # Имя поля для значений коэффициента корреляции\n",
    "    corr_field_name = 'Correlation'\n",
    "    # Переименуем\n",
    "    data_corr.rename(columns={ target_feature_name: corr_field_name }, inplace=True)\n",
    "    \n",
    "    # Маски для положительной и отрицательной корреляции\n",
    "    mask_positive = data_corr[corr_field_name] >= 0\n",
    "    mask_negative = data_corr[corr_field_name] < 0\n",
    "\n",
    "    # Строки с положительной корреляцией\n",
    "    positive_data = data_corr[mask_positive]\n",
    "    positive_data.sort_values(by=corr_field_name, ascending=False, inplace=True)\n",
    "    \n",
    "    # Строки с отрицательной корреляцией\n",
    "    negative_data = data_corr[mask_negative]\n",
    "    negative_data.sort_values(by=corr_field_name, inplace=True)    \n",
    "    \n",
    "    return positive_data, negative_data"
   ]
  },
  {
   "cell_type": "code",
   "execution_count": 8,
   "metadata": {},
   "outputs": [
    {
     "data": {
      "text/markdown": [
       "**Описание полей:**"
      ],
      "text/plain": [
       "<IPython.core.display.Markdown object>"
      ]
     },
     "metadata": {},
     "output_type": "display_data"
    },
    {
     "data": {
      "text/markdown": [
       "- `Period` - Год"
      ],
      "text/plain": [
       "<IPython.core.display.Markdown object>"
      ]
     },
     "metadata": {},
     "output_type": "display_data"
    },
    {
     "data": {
      "text/markdown": [
       "- `Population` - Общая численность населения"
      ],
      "text/plain": [
       "<IPython.core.display.Markdown object>"
      ]
     },
     "metadata": {},
     "output_type": "display_data"
    },
    {
     "data": {
      "text/markdown": [
       "- `AlcoholСonsumption` - Потребление алкоголя на душу населения (15+) (в литрах чистого алкоголя)"
      ],
      "text/plain": [
       "<IPython.core.display.Markdown object>"
      ]
     },
     "metadata": {},
     "output_type": "display_data"
    },
    {
     "data": {
      "text/markdown": [
       "- `BmiAdultOverweight25` - Распространенность избыточного веса среди взрослых, ИМТ >= 25 (стандартизированная по возрасту оценка) (%)"
      ],
      "text/plain": [
       "<IPython.core.display.Markdown object>"
      ]
     },
     "metadata": {},
     "output_type": "display_data"
    },
    {
     "data": {
      "text/markdown": [
       "- `BmiAdultOverweight30` - Распространенность ожирения среди взрослых, ИМТ >= 30 (стандартизированная по возрасту оценка) (%)"
      ],
      "text/plain": [
       "<IPython.core.display.Markdown object>"
      ]
     },
     "metadata": {},
     "output_type": "display_data"
    },
    {
     "data": {
      "text/markdown": [
       "- `BmiChildOverweight1` - Распространенность избыточного веса среди детей 5-9 лет, ИМТ > +1 стандартного отклонения выше медианы (грубая оценка) (%)"
      ],
      "text/plain": [
       "<IPython.core.display.Markdown object>"
      ]
     },
     "metadata": {},
     "output_type": "display_data"
    },
    {
     "data": {
      "text/markdown": [
       "- `BmiTeenagerOverweight1` - Распространенность избыточного веса среди подростков 10-19 лет, ИМТ > +1 стандартного отклонения выше медианы (грубая оценка) (%)"
      ],
      "text/plain": [
       "<IPython.core.display.Markdown object>"
      ]
     },
     "metadata": {},
     "output_type": "display_data"
    },
    {
     "data": {
      "text/markdown": [
       "- `BmiChildOverweight2` - Распространенность ожирения среди детей 5-9 лет, ИМТ > +2 стандартных отклонений выше медианы (грубая оценка) (%)"
      ],
      "text/plain": [
       "<IPython.core.display.Markdown object>"
      ]
     },
     "metadata": {},
     "output_type": "display_data"
    },
    {
     "data": {
      "text/markdown": [
       "- `BmiTeenagerOverweight2` - Распространенность ожирения среди подростков 10-19 лет, ИМТ > +2 стандартных отклонений выше медианы (грубая оценка) (%)"
      ],
      "text/plain": [
       "<IPython.core.display.Markdown object>"
      ]
     },
     "metadata": {},
     "output_type": "display_data"
    },
    {
     "data": {
      "text/markdown": [
       "- `AdultNcdMortality061` - Смертность взрослых от неинфекционных заболеваний (%). Злокачественные новообразования"
      ],
      "text/plain": [
       "<IPython.core.display.Markdown object>"
      ]
     },
     "metadata": {},
     "output_type": "display_data"
    },
    {
     "data": {
      "text/markdown": [
       "- `AdultNcdMortality080` - Смертность взрослых от неинфекционных заболеваний (%). Сахарный диабет"
      ],
      "text/plain": [
       "<IPython.core.display.Markdown object>"
      ]
     },
     "metadata": {},
     "output_type": "display_data"
    },
    {
     "data": {
      "text/markdown": [
       "- `AdultNcdMortalitySum` - Сумма причин (в %) смертности взрослых от неинфекционных заболеваний."
      ],
      "text/plain": [
       "<IPython.core.display.Markdown object>"
      ]
     },
     "metadata": {},
     "output_type": "display_data"
    },
    {
     "data": {
      "text/markdown": [
       "- `AdultNcdMortality110` - Смертность взрослых от неинфекционных заболеваний (%). Сердечно-сосудистые заболевания"
      ],
      "text/plain": [
       "<IPython.core.display.Markdown object>"
      ]
     },
     "metadata": {},
     "output_type": "display_data"
    },
    {
     "data": {
      "text/markdown": [
       "- `AdultNcdMortality117` - Смертность взрослых от неинфекционных заболеваний (%). Респираторные заболевания"
      ],
      "text/plain": [
       "<IPython.core.display.Markdown object>"
      ]
     },
     "metadata": {},
     "output_type": "display_data"
    }
   ],
   "source": [
    "# Список столбцов, которые не будут участвовать в формировании групп\n",
    "columns_to_exclude = [\n",
    "    F.Period.value,\n",
    "    F.Population.value, \n",
    "    F.AlcoholСonsumption.value,\n",
    "    F.BmiAdultOverweight25.value,\n",
    "    F.BmiAdultOverweight30.value,\n",
    "    F.BmiChildOverweight1.value,\n",
    "    F.BmiTeenagerOverweight1.value,\n",
    "    F.BmiChildOverweight2.value,\n",
    "    F.BmiTeenagerOverweight2.value,\n",
    "    F.AdultNcdMortality061.value,\n",
    "    F.AdultNcdMortality080.value,#\n",
    "    F.AdultNcdMortalitySum.value,\n",
    "    F.AdultNcdMortality110.value,\n",
    "    F.AdultNcdMortality117.value,\n",
    "]\n",
    "# Выведем их описание\n",
    "dislay_some_fields_description(columns_to_exclude)"
   ]
  },
  {
   "cell_type": "markdown",
   "metadata": {},
   "source": [
    "Большинство этих признаков положительно коррелируют с целевым признаком продолжительности жизни.\\\n",
    "Но не являются факторами, которые можно отнести  к признакам благополучия.\n",
    "\n",
    "Признак `AdultNcdMortality080` имеет отрицательную коореляцию с целевым, но у него низкий коэффициент и он не вносит большого вклада."
   ]
  },
  {
   "cell_type": "code",
   "execution_count": 9,
   "metadata": {},
   "outputs": [
    {
     "name": "stdout",
     "output_type": "stream",
     "text": [
      "Признаки, положительно коррелирующие с целевой переменной\n"
     ]
    },
    {
     "data": {
      "text/html": [
       "<div>\n",
       "<style scoped>\n",
       "    .dataframe tbody tr th:only-of-type {\n",
       "        vertical-align: middle;\n",
       "    }\n",
       "\n",
       "    .dataframe tbody tr th {\n",
       "        vertical-align: top;\n",
       "    }\n",
       "\n",
       "    .dataframe thead th {\n",
       "        text-align: right;\n",
       "    }\n",
       "</style>\n",
       "<table border=\"1\" class=\"dataframe\">\n",
       "  <thead>\n",
       "    <tr style=\"text-align: right;\">\n",
       "      <th></th>\n",
       "      <th>Correlation</th>\n",
       "    </tr>\n",
       "  </thead>\n",
       "  <tbody>\n",
       "    <tr>\n",
       "      <th>LifeExpectancy</th>\n",
       "      <td>1.000000</td>\n",
       "    </tr>\n",
       "    <tr>\n",
       "      <th>Sanitation</th>\n",
       "      <td>0.828566</td>\n",
       "    </tr>\n",
       "    <tr>\n",
       "      <th>DrinkingWater</th>\n",
       "      <td>0.813607</td>\n",
       "    </tr>\n",
       "    <tr>\n",
       "      <th>Schooling</th>\n",
       "      <td>0.685996</td>\n",
       "    </tr>\n",
       "    <tr>\n",
       "      <th>PolioImmunization</th>\n",
       "      <td>0.614636</td>\n",
       "    </tr>\n",
       "    <tr>\n",
       "      <th>MeaslesImmunization</th>\n",
       "      <td>0.610315</td>\n",
       "    </tr>\n",
       "    <tr>\n",
       "      <th>DiphtheriaImmunization</th>\n",
       "      <td>0.607454</td>\n",
       "    </tr>\n",
       "    <tr>\n",
       "      <th>HealthCareCostsGdp</th>\n",
       "      <td>0.597258</td>\n",
       "    </tr>\n",
       "    <tr>\n",
       "      <th>GdpPerCapita</th>\n",
       "      <td>0.583647</td>\n",
       "    </tr>\n",
       "    <tr>\n",
       "      <th>HealthCareCosts</th>\n",
       "      <td>0.553571</td>\n",
       "    </tr>\n",
       "    <tr>\n",
       "      <th>HealthCareCostsPerCapita</th>\n",
       "      <td>0.532446</td>\n",
       "    </tr>\n",
       "    <tr>\n",
       "      <th>HepatitisBImmunization</th>\n",
       "      <td>0.346196</td>\n",
       "    </tr>\n",
       "  </tbody>\n",
       "</table>\n",
       "</div>"
      ],
      "text/plain": [
       "                          Correlation\n",
       "LifeExpectancy               1.000000\n",
       "Sanitation                   0.828566\n",
       "DrinkingWater                0.813607\n",
       "Schooling                    0.685996\n",
       "PolioImmunization            0.614636\n",
       "MeaslesImmunization          0.610315\n",
       "DiphtheriaImmunization       0.607454\n",
       "HealthCareCostsGdp           0.597258\n",
       "GdpPerCapita                 0.583647\n",
       "HealthCareCosts              0.553571\n",
       "HealthCareCostsPerCapita     0.532446\n",
       "HepatitisBImmunization       0.346196"
      ]
     },
     "execution_count": 9,
     "metadata": {},
     "output_type": "execute_result"
    }
   ],
   "source": [
    "# Разделим данные с помощью нашей функции\n",
    "positive_data, negative_data = get_split_correlation_fields(\n",
    "    data.drop(columns=columns_to_exclude)\n",
    ")\n",
    "\n",
    "print('Признаки, положительно коррелирующие с целевой переменной')\n",
    "positive_data"
   ]
  },
  {
   "cell_type": "code",
   "execution_count": 10,
   "metadata": {},
   "outputs": [
    {
     "name": "stdout",
     "output_type": "stream",
     "text": [
      "Признаки, отрицательно коррелирующие с целевой переменной\n"
     ]
    },
    {
     "data": {
      "text/html": [
       "<div>\n",
       "<style scoped>\n",
       "    .dataframe tbody tr th:only-of-type {\n",
       "        vertical-align: middle;\n",
       "    }\n",
       "\n",
       "    .dataframe tbody tr th {\n",
       "        vertical-align: top;\n",
       "    }\n",
       "\n",
       "    .dataframe thead th {\n",
       "        text-align: right;\n",
       "    }\n",
       "</style>\n",
       "<table border=\"1\" class=\"dataframe\">\n",
       "  <thead>\n",
       "    <tr style=\"text-align: right;\">\n",
       "      <th></th>\n",
       "      <th>Correlation</th>\n",
       "    </tr>\n",
       "  </thead>\n",
       "  <tbody>\n",
       "    <tr>\n",
       "      <th>AdultMortality</th>\n",
       "      <td>-0.938696</td>\n",
       "    </tr>\n",
       "    <tr>\n",
       "      <th>MaternalMortality</th>\n",
       "      <td>-0.802415</td>\n",
       "    </tr>\n",
       "    <tr>\n",
       "      <th>ClusterKMeans</th>\n",
       "      <td>-0.778903</td>\n",
       "    </tr>\n",
       "    <tr>\n",
       "      <th>AdultNcdMortality</th>\n",
       "      <td>-0.700194</td>\n",
       "    </tr>\n",
       "    <tr>\n",
       "      <th>PoisoningMortality</th>\n",
       "      <td>-0.688961</td>\n",
       "    </tr>\n",
       "    <tr>\n",
       "      <th>BmiAdultUnderweight</th>\n",
       "      <td>-0.607134</td>\n",
       "    </tr>\n",
       "    <tr>\n",
       "      <th>BmiTeenagerThinness</th>\n",
       "      <td>-0.489917</td>\n",
       "    </tr>\n",
       "    <tr>\n",
       "      <th>SuicideMortality</th>\n",
       "      <td>-0.446762</td>\n",
       "    </tr>\n",
       "    <tr>\n",
       "      <th>BmiChildThinness</th>\n",
       "      <td>-0.387950</td>\n",
       "    </tr>\n",
       "    <tr>\n",
       "      <th>Homicides</th>\n",
       "      <td>-0.234521</td>\n",
       "    </tr>\n",
       "  </tbody>\n",
       "</table>\n",
       "</div>"
      ],
      "text/plain": [
       "                     Correlation\n",
       "AdultMortality         -0.938696\n",
       "MaternalMortality      -0.802415\n",
       "ClusterKMeans          -0.778903\n",
       "AdultNcdMortality      -0.700194\n",
       "PoisoningMortality     -0.688961\n",
       "BmiAdultUnderweight    -0.607134\n",
       "BmiTeenagerThinness    -0.489917\n",
       "SuicideMortality       -0.446762\n",
       "BmiChildThinness       -0.387950\n",
       "Homicides              -0.234521"
      ]
     },
     "execution_count": 10,
     "metadata": {},
     "output_type": "execute_result"
    }
   ],
   "source": [
    "print('Признаки, отрицательно коррелирующие с целевой переменной')\n",
    "negative_data"
   ]
  },
  {
   "cell_type": "code",
   "execution_count": 11,
   "metadata": {},
   "outputs": [],
   "source": [
    "# Составим список с именами положительных признаков\n",
    "positive_fields = list(positive_data.index)\n",
    "\n",
    "# Составим список с именами отрицательных признаков\n",
    "negative_fields = list(negative_data.index)"
   ]
  },
  {
   "cell_type": "code",
   "execution_count": 12,
   "metadata": {},
   "outputs": [
    {
     "data": {
      "text/html": [
       "<div>\n",
       "<style scoped>\n",
       "    .dataframe tbody tr th:only-of-type {\n",
       "        vertical-align: middle;\n",
       "    }\n",
       "\n",
       "    .dataframe tbody tr th {\n",
       "        vertical-align: top;\n",
       "    }\n",
       "\n",
       "    .dataframe thead th {\n",
       "        text-align: right;\n",
       "    }\n",
       "</style>\n",
       "<table border=\"1\" class=\"dataframe\">\n",
       "  <thead>\n",
       "    <tr style=\"text-align: right;\">\n",
       "      <th></th>\n",
       "      <th>SpatialDimValueCode</th>\n",
       "      <th>AdultMortality</th>\n",
       "      <th>Homicides</th>\n",
       "      <th>MaternalMortality</th>\n",
       "      <th>AdultNcdMortality</th>\n",
       "      <th>PoisoningMortality</th>\n",
       "      <th>SuicideMortality</th>\n",
       "      <th>HepatitisBImmunization</th>\n",
       "      <th>MeaslesImmunization</th>\n",
       "      <th>PolioImmunization</th>\n",
       "      <th>...</th>\n",
       "      <th>BmiChildThinness</th>\n",
       "      <th>BmiTeenagerThinness</th>\n",
       "      <th>Sanitation</th>\n",
       "      <th>DrinkingWater</th>\n",
       "      <th>HealthCareCosts</th>\n",
       "      <th>HealthCareCostsGdp</th>\n",
       "      <th>HealthCareCostsPerCapita</th>\n",
       "      <th>GdpPerCapita</th>\n",
       "      <th>Schooling</th>\n",
       "      <th>LifeExpectancy</th>\n",
       "    </tr>\n",
       "  </thead>\n",
       "  <tbody>\n",
       "    <tr>\n",
       "      <th>0</th>\n",
       "      <td>AFG</td>\n",
       "      <td>0.475516</td>\n",
       "      <td>0.120975</td>\n",
       "      <td>0.767324</td>\n",
       "      <td>0.882674</td>\n",
       "      <td>0.241892</td>\n",
       "      <td>0.079488</td>\n",
       "      <td>0.407550</td>\n",
       "      <td>0.268217</td>\n",
       "      <td>0.315961</td>\n",
       "      <td>...</td>\n",
       "      <td>0.410408</td>\n",
       "      <td>0.457755</td>\n",
       "      <td>0.317589</td>\n",
       "      <td>0.239711</td>\n",
       "      <td>0.040544</td>\n",
       "      <td>0.039429</td>\n",
       "      <td>0.002442</td>\n",
       "      <td>0.002336</td>\n",
       "      <td>0.184154</td>\n",
       "      <td>0.298942</td>\n",
       "    </tr>\n",
       "    <tr>\n",
       "      <th>1</th>\n",
       "      <td>AGO</td>\n",
       "      <td>0.409660</td>\n",
       "      <td>0.147401</td>\n",
       "      <td>0.355063</td>\n",
       "      <td>0.507602</td>\n",
       "      <td>0.431010</td>\n",
       "      <td>0.181581</td>\n",
       "      <td>0.167246</td>\n",
       "      <td>0.174419</td>\n",
       "      <td>0.000000</td>\n",
       "      <td>...</td>\n",
       "      <td>0.235179</td>\n",
       "      <td>0.310878</td>\n",
       "      <td>0.370847</td>\n",
       "      <td>0.245307</td>\n",
       "      <td>0.107901</td>\n",
       "      <td>0.140356</td>\n",
       "      <td>0.007713</td>\n",
       "      <td>0.025385</td>\n",
       "      <td>0.329831</td>\n",
       "      <td>0.265561</td>\n",
       "    </tr>\n",
       "    <tr>\n",
       "      <th>2</th>\n",
       "      <td>ALB</td>\n",
       "      <td>0.062003</td>\n",
       "      <td>0.060218</td>\n",
       "      <td>0.004578</td>\n",
       "      <td>0.198939</td>\n",
       "      <td>0.065593</td>\n",
       "      <td>0.064070</td>\n",
       "      <td>0.984305</td>\n",
       "      <td>0.955039</td>\n",
       "      <td>0.987785</td>\n",
       "      <td>...</td>\n",
       "      <td>0.056199</td>\n",
       "      <td>0.051718</td>\n",
       "      <td>0.945973</td>\n",
       "      <td>0.865900</td>\n",
       "      <td>0.256700</td>\n",
       "      <td>0.272087</td>\n",
       "      <td>0.016198</td>\n",
       "      <td>0.035227</td>\n",
       "      <td>0.730792</td>\n",
       "      <td>0.804476</td>\n",
       "    </tr>\n",
       "    <tr>\n",
       "      <th>3</th>\n",
       "      <td>ARE</td>\n",
       "      <td>0.000000</td>\n",
       "      <td>0.009248</td>\n",
       "      <td>0.006504</td>\n",
       "      <td>0.000000</td>\n",
       "      <td>0.064811</td>\n",
       "      <td>0.072349</td>\n",
       "      <td>0.906878</td>\n",
       "      <td>0.944186</td>\n",
       "      <td>0.928339</td>\n",
       "      <td>...</td>\n",
       "      <td>0.107180</td>\n",
       "      <td>0.145021</td>\n",
       "      <td>0.990711</td>\n",
       "      <td>0.997163</td>\n",
       "      <td>0.242085</td>\n",
       "      <td>0.213708</td>\n",
       "      <td>0.155650</td>\n",
       "      <td>0.421609</td>\n",
       "      <td>0.657602</td>\n",
       "      <td>0.912531</td>\n",
       "    </tr>\n",
       "    <tr>\n",
       "      <th>4</th>\n",
       "      <td>ARG</td>\n",
       "      <td>0.117947</td>\n",
       "      <td>0.083268</td>\n",
       "      <td>0.041636</td>\n",
       "      <td>0.248566</td>\n",
       "      <td>0.079882</td>\n",
       "      <td>0.104943</td>\n",
       "      <td>0.710824</td>\n",
       "      <td>0.900000</td>\n",
       "      <td>0.845277</td>\n",
       "      <td>...</td>\n",
       "      <td>0.041862</td>\n",
       "      <td>0.061572</td>\n",
       "      <td>0.894629</td>\n",
       "      <td>0.957817</td>\n",
       "      <td>0.536771</td>\n",
       "      <td>0.584731</td>\n",
       "      <td>0.092860</td>\n",
       "      <td>0.091762</td>\n",
       "      <td>0.675418</td>\n",
       "      <td>0.788837</td>\n",
       "    </tr>\n",
       "  </tbody>\n",
       "</table>\n",
       "<p>5 rows × 22 columns</p>\n",
       "</div>"
      ],
      "text/plain": [
       "  SpatialDimValueCode  AdultMortality  Homicides  MaternalMortality  \\\n",
       "0                 AFG        0.475516   0.120975           0.767324   \n",
       "1                 AGO        0.409660   0.147401           0.355063   \n",
       "2                 ALB        0.062003   0.060218           0.004578   \n",
       "3                 ARE        0.000000   0.009248           0.006504   \n",
       "4                 ARG        0.117947   0.083268           0.041636   \n",
       "\n",
       "   AdultNcdMortality  PoisoningMortality  SuicideMortality  \\\n",
       "0           0.882674            0.241892          0.079488   \n",
       "1           0.507602            0.431010          0.181581   \n",
       "2           0.198939            0.065593          0.064070   \n",
       "3           0.000000            0.064811          0.072349   \n",
       "4           0.248566            0.079882          0.104943   \n",
       "\n",
       "   HepatitisBImmunization  MeaslesImmunization  PolioImmunization  ...  \\\n",
       "0                0.407550             0.268217           0.315961  ...   \n",
       "1                0.167246             0.174419           0.000000  ...   \n",
       "2                0.984305             0.955039           0.987785  ...   \n",
       "3                0.906878             0.944186           0.928339  ...   \n",
       "4                0.710824             0.900000           0.845277  ...   \n",
       "\n",
       "   BmiChildThinness  BmiTeenagerThinness  Sanitation  DrinkingWater  \\\n",
       "0          0.410408             0.457755    0.317589       0.239711   \n",
       "1          0.235179             0.310878    0.370847       0.245307   \n",
       "2          0.056199             0.051718    0.945973       0.865900   \n",
       "3          0.107180             0.145021    0.990711       0.997163   \n",
       "4          0.041862             0.061572    0.894629       0.957817   \n",
       "\n",
       "   HealthCareCosts  HealthCareCostsGdp  HealthCareCostsPerCapita  \\\n",
       "0         0.040544            0.039429                  0.002442   \n",
       "1         0.107901            0.140356                  0.007713   \n",
       "2         0.256700            0.272087                  0.016198   \n",
       "3         0.242085            0.213708                  0.155650   \n",
       "4         0.536771            0.584731                  0.092860   \n",
       "\n",
       "   GdpPerCapita  Schooling  LifeExpectancy  \n",
       "0      0.002336   0.184154        0.298942  \n",
       "1      0.025385   0.329831        0.265561  \n",
       "2      0.035227   0.730792        0.804476  \n",
       "3      0.421609   0.657602        0.912531  \n",
       "4      0.091762   0.675418        0.788837  \n",
       "\n",
       "[5 rows x 22 columns]"
      ]
     },
     "execution_count": 12,
     "metadata": {},
     "output_type": "execute_result"
    }
   ],
   "source": [
    "object_columns = [\n",
    "    F.ParentLocationCode.value,\n",
    "    F.ParentLocation.value,\n",
    "    F.Location.value,\n",
    "]\n",
    "# Сформируем таблицу со средними значениями по каждой стране\n",
    "# Исключим признак с кластером, так как среднее по нему не имеет смысла\n",
    "mean_data = data \\\n",
    "    .drop(columns=columns_to_exclude + object_columns + [F.ClusterKMeans.value]) \\\n",
    "    .groupby(F.SpatialDimValueCode.value) \\\n",
    "    .agg('mean') \n",
    "    \n",
    "# Запомним индексы и названия колонок перед масштабированием данных\n",
    "index = list(mean_data.index)\n",
    "columns = list(mean_data.columns)\n",
    "\n",
    "# Инициализируем нормализатор MinMaxScaler\n",
    "mm_scaler = MinMaxScaler()\n",
    "\n",
    "# Кодируем исходный датасет\n",
    "scaled_mean_data = mm_scaler.fit_transform(mean_data)\n",
    "\n",
    "# Добавим имена столбцов и индекс, которые потерялись при преобразовании\n",
    "scaled_mean_data = pd.DataFrame(scaled_mean_data, columns=columns, index=index)\n",
    "\n",
    "# Переименуем индексный столбец с кодами стран\n",
    "scaled_mean_data = scaled_mean_data \\\n",
    "    .reset_index().rename(columns={'index': F.SpatialDimValueCode.value})\n",
    "    \n",
    "scaled_mean_data.head()"
   ]
  },
  {
   "cell_type": "code",
   "execution_count": 13,
   "metadata": {},
   "outputs": [
    {
     "data": {
      "text/plain": [
       "(181, 22)"
      ]
     },
     "execution_count": 13,
     "metadata": {},
     "output_type": "execute_result"
    }
   ],
   "source": [
    "# Посмотрим на размерность полученных данных\n",
    "scaled_mean_data.shape"
   ]
  },
  {
   "cell_type": "markdown",
   "metadata": {},
   "source": [
    "Все верно, у нас 181 страна и 33 признака."
   ]
  },
  {
   "cell_type": "code",
   "execution_count": 14,
   "metadata": {},
   "outputs": [
    {
     "data": {
      "text/html": [
       "<div>\n",
       "<style scoped>\n",
       "    .dataframe tbody tr th:only-of-type {\n",
       "        vertical-align: middle;\n",
       "    }\n",
       "\n",
       "    .dataframe tbody tr th {\n",
       "        vertical-align: top;\n",
       "    }\n",
       "\n",
       "    .dataframe thead th {\n",
       "        text-align: right;\n",
       "    }\n",
       "</style>\n",
       "<table border=\"1\" class=\"dataframe\">\n",
       "  <thead>\n",
       "    <tr style=\"text-align: right;\">\n",
       "      <th></th>\n",
       "      <th>SpatialDimValueCode</th>\n",
       "      <th>ClusterKMeans</th>\n",
       "    </tr>\n",
       "  </thead>\n",
       "  <tbody>\n",
       "    <tr>\n",
       "      <th>0</th>\n",
       "      <td>AFG</td>\n",
       "      <td>1</td>\n",
       "    </tr>\n",
       "    <tr>\n",
       "      <th>1</th>\n",
       "      <td>AGO</td>\n",
       "      <td>1</td>\n",
       "    </tr>\n",
       "    <tr>\n",
       "      <th>2</th>\n",
       "      <td>ALB</td>\n",
       "      <td>0</td>\n",
       "    </tr>\n",
       "    <tr>\n",
       "      <th>3</th>\n",
       "      <td>ARE</td>\n",
       "      <td>0</td>\n",
       "    </tr>\n",
       "    <tr>\n",
       "      <th>4</th>\n",
       "      <td>ARG</td>\n",
       "      <td>0</td>\n",
       "    </tr>\n",
       "  </tbody>\n",
       "</table>\n",
       "</div>"
      ],
      "text/plain": [
       "  SpatialDimValueCode  ClusterKMeans\n",
       "0                 AFG              1\n",
       "1                 AGO              1\n",
       "2                 ALB              0\n",
       "3                 ARE              0\n",
       "4                 ARG              0"
      ]
     },
     "execution_count": 14,
     "metadata": {},
     "output_type": "execute_result"
    }
   ],
   "source": [
    "# Сформируем таблицу с признаками кода региона и кластера\n",
    "# Чтобы добавить столбец с кластером к scaled_mean_data\n",
    "clusters = data.groupby(F.SpatialDimValueCode.value).agg(\n",
    "    ClusterKMeans=(F.ClusterKMeans.value, 'first')\n",
    ")\n",
    "clusters = clusters.reset_index().rename(columns={'index': F.SpatialDimValueCode.value})\n",
    "clusters.head()"
   ]
  },
  {
   "cell_type": "code",
   "execution_count": 15,
   "metadata": {},
   "outputs": [
    {
     "data": {
      "text/html": [
       "<div>\n",
       "<style scoped>\n",
       "    .dataframe tbody tr th:only-of-type {\n",
       "        vertical-align: middle;\n",
       "    }\n",
       "\n",
       "    .dataframe tbody tr th {\n",
       "        vertical-align: top;\n",
       "    }\n",
       "\n",
       "    .dataframe thead th {\n",
       "        text-align: right;\n",
       "    }\n",
       "</style>\n",
       "<table border=\"1\" class=\"dataframe\">\n",
       "  <thead>\n",
       "    <tr style=\"text-align: right;\">\n",
       "      <th></th>\n",
       "      <th>SpatialDimValueCode</th>\n",
       "      <th>AdultMortality</th>\n",
       "      <th>Homicides</th>\n",
       "      <th>MaternalMortality</th>\n",
       "      <th>AdultNcdMortality</th>\n",
       "      <th>PoisoningMortality</th>\n",
       "      <th>SuicideMortality</th>\n",
       "      <th>HepatitisBImmunization</th>\n",
       "      <th>MeaslesImmunization</th>\n",
       "      <th>PolioImmunization</th>\n",
       "      <th>...</th>\n",
       "      <th>BmiTeenagerThinness</th>\n",
       "      <th>Sanitation</th>\n",
       "      <th>DrinkingWater</th>\n",
       "      <th>HealthCareCosts</th>\n",
       "      <th>HealthCareCostsGdp</th>\n",
       "      <th>HealthCareCostsPerCapita</th>\n",
       "      <th>GdpPerCapita</th>\n",
       "      <th>Schooling</th>\n",
       "      <th>LifeExpectancy</th>\n",
       "      <th>ClusterKMeans</th>\n",
       "    </tr>\n",
       "  </thead>\n",
       "  <tbody>\n",
       "    <tr>\n",
       "      <th>0</th>\n",
       "      <td>AFG</td>\n",
       "      <td>0.475516</td>\n",
       "      <td>0.120975</td>\n",
       "      <td>0.767324</td>\n",
       "      <td>0.882674</td>\n",
       "      <td>0.241892</td>\n",
       "      <td>0.079488</td>\n",
       "      <td>0.407550</td>\n",
       "      <td>0.268217</td>\n",
       "      <td>0.315961</td>\n",
       "      <td>...</td>\n",
       "      <td>0.457755</td>\n",
       "      <td>0.317589</td>\n",
       "      <td>0.239711</td>\n",
       "      <td>0.040544</td>\n",
       "      <td>0.039429</td>\n",
       "      <td>0.002442</td>\n",
       "      <td>0.002336</td>\n",
       "      <td>0.184154</td>\n",
       "      <td>0.298942</td>\n",
       "      <td>1</td>\n",
       "    </tr>\n",
       "    <tr>\n",
       "      <th>1</th>\n",
       "      <td>AGO</td>\n",
       "      <td>0.409660</td>\n",
       "      <td>0.147401</td>\n",
       "      <td>0.355063</td>\n",
       "      <td>0.507602</td>\n",
       "      <td>0.431010</td>\n",
       "      <td>0.181581</td>\n",
       "      <td>0.167246</td>\n",
       "      <td>0.174419</td>\n",
       "      <td>0.000000</td>\n",
       "      <td>...</td>\n",
       "      <td>0.310878</td>\n",
       "      <td>0.370847</td>\n",
       "      <td>0.245307</td>\n",
       "      <td>0.107901</td>\n",
       "      <td>0.140356</td>\n",
       "      <td>0.007713</td>\n",
       "      <td>0.025385</td>\n",
       "      <td>0.329831</td>\n",
       "      <td>0.265561</td>\n",
       "      <td>1</td>\n",
       "    </tr>\n",
       "    <tr>\n",
       "      <th>2</th>\n",
       "      <td>ALB</td>\n",
       "      <td>0.062003</td>\n",
       "      <td>0.060218</td>\n",
       "      <td>0.004578</td>\n",
       "      <td>0.198939</td>\n",
       "      <td>0.065593</td>\n",
       "      <td>0.064070</td>\n",
       "      <td>0.984305</td>\n",
       "      <td>0.955039</td>\n",
       "      <td>0.987785</td>\n",
       "      <td>...</td>\n",
       "      <td>0.051718</td>\n",
       "      <td>0.945973</td>\n",
       "      <td>0.865900</td>\n",
       "      <td>0.256700</td>\n",
       "      <td>0.272087</td>\n",
       "      <td>0.016198</td>\n",
       "      <td>0.035227</td>\n",
       "      <td>0.730792</td>\n",
       "      <td>0.804476</td>\n",
       "      <td>0</td>\n",
       "    </tr>\n",
       "    <tr>\n",
       "      <th>3</th>\n",
       "      <td>ARE</td>\n",
       "      <td>0.000000</td>\n",
       "      <td>0.009248</td>\n",
       "      <td>0.006504</td>\n",
       "      <td>0.000000</td>\n",
       "      <td>0.064811</td>\n",
       "      <td>0.072349</td>\n",
       "      <td>0.906878</td>\n",
       "      <td>0.944186</td>\n",
       "      <td>0.928339</td>\n",
       "      <td>...</td>\n",
       "      <td>0.145021</td>\n",
       "      <td>0.990711</td>\n",
       "      <td>0.997163</td>\n",
       "      <td>0.242085</td>\n",
       "      <td>0.213708</td>\n",
       "      <td>0.155650</td>\n",
       "      <td>0.421609</td>\n",
       "      <td>0.657602</td>\n",
       "      <td>0.912531</td>\n",
       "      <td>0</td>\n",
       "    </tr>\n",
       "    <tr>\n",
       "      <th>4</th>\n",
       "      <td>ARG</td>\n",
       "      <td>0.117947</td>\n",
       "      <td>0.083268</td>\n",
       "      <td>0.041636</td>\n",
       "      <td>0.248566</td>\n",
       "      <td>0.079882</td>\n",
       "      <td>0.104943</td>\n",
       "      <td>0.710824</td>\n",
       "      <td>0.900000</td>\n",
       "      <td>0.845277</td>\n",
       "      <td>...</td>\n",
       "      <td>0.061572</td>\n",
       "      <td>0.894629</td>\n",
       "      <td>0.957817</td>\n",
       "      <td>0.536771</td>\n",
       "      <td>0.584731</td>\n",
       "      <td>0.092860</td>\n",
       "      <td>0.091762</td>\n",
       "      <td>0.675418</td>\n",
       "      <td>0.788837</td>\n",
       "      <td>0</td>\n",
       "    </tr>\n",
       "  </tbody>\n",
       "</table>\n",
       "<p>5 rows × 23 columns</p>\n",
       "</div>"
      ],
      "text/plain": [
       "  SpatialDimValueCode  AdultMortality  Homicides  MaternalMortality  \\\n",
       "0                 AFG        0.475516   0.120975           0.767324   \n",
       "1                 AGO        0.409660   0.147401           0.355063   \n",
       "2                 ALB        0.062003   0.060218           0.004578   \n",
       "3                 ARE        0.000000   0.009248           0.006504   \n",
       "4                 ARG        0.117947   0.083268           0.041636   \n",
       "\n",
       "   AdultNcdMortality  PoisoningMortality  SuicideMortality  \\\n",
       "0           0.882674            0.241892          0.079488   \n",
       "1           0.507602            0.431010          0.181581   \n",
       "2           0.198939            0.065593          0.064070   \n",
       "3           0.000000            0.064811          0.072349   \n",
       "4           0.248566            0.079882          0.104943   \n",
       "\n",
       "   HepatitisBImmunization  MeaslesImmunization  PolioImmunization  ...  \\\n",
       "0                0.407550             0.268217           0.315961  ...   \n",
       "1                0.167246             0.174419           0.000000  ...   \n",
       "2                0.984305             0.955039           0.987785  ...   \n",
       "3                0.906878             0.944186           0.928339  ...   \n",
       "4                0.710824             0.900000           0.845277  ...   \n",
       "\n",
       "   BmiTeenagerThinness  Sanitation  DrinkingWater  HealthCareCosts  \\\n",
       "0             0.457755    0.317589       0.239711         0.040544   \n",
       "1             0.310878    0.370847       0.245307         0.107901   \n",
       "2             0.051718    0.945973       0.865900         0.256700   \n",
       "3             0.145021    0.990711       0.997163         0.242085   \n",
       "4             0.061572    0.894629       0.957817         0.536771   \n",
       "\n",
       "   HealthCareCostsGdp  HealthCareCostsPerCapita  GdpPerCapita  Schooling  \\\n",
       "0            0.039429                  0.002442      0.002336   0.184154   \n",
       "1            0.140356                  0.007713      0.025385   0.329831   \n",
       "2            0.272087                  0.016198      0.035227   0.730792   \n",
       "3            0.213708                  0.155650      0.421609   0.657602   \n",
       "4            0.584731                  0.092860      0.091762   0.675418   \n",
       "\n",
       "   LifeExpectancy  ClusterKMeans  \n",
       "0        0.298942              1  \n",
       "1        0.265561              1  \n",
       "2        0.804476              0  \n",
       "3        0.912531              0  \n",
       "4        0.788837              0  \n",
       "\n",
       "[5 rows x 23 columns]"
      ]
     },
     "execution_count": 15,
     "metadata": {},
     "output_type": "execute_result"
    }
   ],
   "source": [
    "# Добавим столбец с кластером\n",
    "scaled_mean_data = scaled_mean_data.merge(\n",
    "    clusters,\n",
    "    on=F.SpatialDimValueCode.value,\n",
    "    how='inner',\n",
    ")\n",
    "scaled_mean_data.head()"
   ]
  },
  {
   "cell_type": "code",
   "execution_count": 16,
   "metadata": {},
   "outputs": [
    {
     "data": {
      "text/plain": [
       "(181, 23)"
      ]
     },
     "execution_count": 16,
     "metadata": {},
     "output_type": "execute_result"
    }
   ],
   "source": [
    "# Посмотрим на размерность данных\n",
    "scaled_mean_data.shape"
   ]
  },
  {
   "cell_type": "markdown",
   "metadata": {},
   "source": [
    "Все верно, по-прежнему 181 страна и прибавился 1 признак."
   ]
  },
  {
   "cell_type": "markdown",
   "metadata": {},
   "source": [
    "Теперь составим векторы признаков условно идеальной страны и максимально неблагополучной страны."
   ]
  },
  {
   "cell_type": "code",
   "execution_count": 17,
   "metadata": {},
   "outputs": [
    {
     "name": "stdout",
     "output_type": "stream",
     "text": [
      "positive_vector {'LifeExpectancy': 0.9999999999999998, 'Sanitation': 1.0, 'DrinkingWater': 1.0, 'Schooling': 1.0, 'PolioImmunization': 1.0, 'MeaslesImmunization': 0.9999999999999999, 'DiphtheriaImmunization': 0.9999999999999999, 'HealthCareCostsGdp': 0.9999999999999999, 'GdpPerCapita': 1.0, 'HealthCareCosts': 1.0, 'HealthCareCostsPerCapita': 1.0, 'HepatitisBImmunization': 1.0}\n",
      "negative_vector {'AdultMortality': 1.0, 'MaternalMortality': 1.0, 'ClusterKMeans': 1, 'AdultNcdMortality': 0.8862593230063107, 'PoisoningMortality': 0.7860956230998728, 'BmiAdultUnderweight': 0.9999999999999999, 'BmiTeenagerThinness': 0.9999999999999999, 'SuicideMortality': 0.9999999999999999, 'BmiChildThinness': 1.0, 'Homicides': 0.6047063380622667}\n"
     ]
    }
   ],
   "source": [
    "# Вектор максимально благополучной страны\n",
    "positive_vector = dict()\n",
    "# Вектор максимально неблагополучной страны\n",
    "negative_vector = dict()\n",
    "\n",
    "# Страны из благополучного кластера\n",
    "good_cluster_data = scaled_mean_data[scaled_mean_data[F.ClusterKMeans.value] == 0]\n",
    "# Страны из неблагополучного кластера\n",
    "bad_cluster_data = scaled_mean_data[scaled_mean_data[F.ClusterKMeans.value] == 1]\n",
    "\n",
    "# Заполним данные вектора максимально благополучной страны\n",
    "for field in positive_fields:\n",
    "    max_value = good_cluster_data[field].max()\n",
    "    positive_vector[field] = max_value\n",
    "\n",
    "# Заполним данные вектора максимально неблагополучной страны\n",
    "for field in negative_fields:\n",
    "    max_value = bad_cluster_data[field].max()\n",
    "    negative_vector[field] = max_value\n",
    "\n",
    "print('positive_vector', positive_vector)\n",
    "print('negative_vector', negative_vector)"
   ]
  },
  {
   "cell_type": "code",
   "execution_count": 18,
   "metadata": {},
   "outputs": [],
   "source": [
    "# Переведем данные вектора идеальной страны в массив\n",
    "positive_values = np.array(list(positive_vector.values()))\n",
    "\n",
    "def get_positive_coef(row: pd.Series) -> float:\n",
    "    \"\"\"Подсчитывает косинус угла между вектором данных переданной страны и вектором идеальной страны\n",
    "\n",
    "    Args:\n",
    "        row (pd.Series): средние данные по стране \n",
    "            (строка таблицы со средними показателями по странам)\n",
    "\n",
    "    Returns:\n",
    "        float: косинус угла между вектором данных страны и вектором идеальной страны\n",
    "    \"\"\"\n",
    "    # Данные вектора страны, которые будем отбирать из переданной строки\n",
    "    row_values = []\n",
    "    \n",
    "    for field in positive_vector.keys():\n",
    "        row_values.append(row[field])\n",
    "        \n",
    "    return get_cosine(positive_values, np.array(row_values))"
   ]
  },
  {
   "cell_type": "code",
   "execution_count": 19,
   "metadata": {},
   "outputs": [],
   "source": [
    "# Посчитаем для каждой страны значение коэффициента благополучия\n",
    "scaled_mean_data[F.PositiveCoef.value] = \\\n",
    "    scaled_mean_data.apply(lambda row: get_positive_coef(row), axis=1)"
   ]
  },
  {
   "cell_type": "code",
   "execution_count": 20,
   "metadata": {},
   "outputs": [],
   "source": [
    "# Переведем данные вектора максимально неблагополучной страны в массив\n",
    "negative_values = np.array(list(negative_vector.values()))\n",
    "\n",
    "def get_negative_coef(row: pd.Series) -> float:\n",
    "    \"\"\"Подсчитывает косинус угла между вектором данных переданной страны \n",
    "        и вектором максимально неблагополучной страны\n",
    "\n",
    "    Args:\n",
    "        row (pd.Series): средние данные по стране \n",
    "            (строка таблицы со средними показателями по странам)\n",
    "\n",
    "    Returns:\n",
    "        float: косинус угла между вектором данных страны и максимально неблагополучной страны\n",
    "    \"\"\"\n",
    "    # Данные вектора страны, которые будем отбирать из переданной строки\n",
    "    row_values = []\n",
    "    \n",
    "    for field in negative_vector.keys():\n",
    "        row_values.append(row[field])\n",
    "        \n",
    "    return get_cosine(negative_values, np.array(row_values))"
   ]
  },
  {
   "cell_type": "code",
   "execution_count": 21,
   "metadata": {},
   "outputs": [],
   "source": [
    "# Посчитаем для каждой страны значение коэффициент неблагополучия\n",
    "scaled_mean_data[F.NegativeCoef.value] = \\\n",
    "    scaled_mean_data.apply(lambda row: get_negative_coef(row), axis=1)"
   ]
  },
  {
   "cell_type": "markdown",
   "metadata": {},
   "source": [
    "## Отображение коэффициентов на графиках"
   ]
  },
  {
   "cell_type": "markdown",
   "metadata": {},
   "source": [
    "Добавим в таблицу названия стран для удобства просмотра графиков."
   ]
  },
  {
   "cell_type": "code",
   "execution_count": 22,
   "metadata": {},
   "outputs": [
    {
     "data": {
      "text/html": [
       "<div>\n",
       "<style scoped>\n",
       "    .dataframe tbody tr th:only-of-type {\n",
       "        vertical-align: middle;\n",
       "    }\n",
       "\n",
       "    .dataframe tbody tr th {\n",
       "        vertical-align: top;\n",
       "    }\n",
       "\n",
       "    .dataframe thead th {\n",
       "        text-align: right;\n",
       "    }\n",
       "</style>\n",
       "<table border=\"1\" class=\"dataframe\">\n",
       "  <thead>\n",
       "    <tr style=\"text-align: right;\">\n",
       "      <th></th>\n",
       "      <th>ParentLocationCode</th>\n",
       "      <th>ParentLocation</th>\n",
       "      <th>SpatialDimValueCode</th>\n",
       "      <th>Location</th>\n",
       "    </tr>\n",
       "  </thead>\n",
       "  <tbody>\n",
       "    <tr>\n",
       "      <th>0</th>\n",
       "      <td>AFR</td>\n",
       "      <td>Africa</td>\n",
       "      <td>AGO</td>\n",
       "      <td>Angola</td>\n",
       "    </tr>\n",
       "    <tr>\n",
       "      <th>1</th>\n",
       "      <td>AFR</td>\n",
       "      <td>Africa</td>\n",
       "      <td>BDI</td>\n",
       "      <td>Burundi</td>\n",
       "    </tr>\n",
       "    <tr>\n",
       "      <th>2</th>\n",
       "      <td>AFR</td>\n",
       "      <td>Africa</td>\n",
       "      <td>BEN</td>\n",
       "      <td>Benin</td>\n",
       "    </tr>\n",
       "  </tbody>\n",
       "</table>\n",
       "</div>"
      ],
      "text/plain": [
       "  ParentLocationCode ParentLocation SpatialDimValueCode Location\n",
       "0                AFR         Africa                 AGO   Angola\n",
       "1                AFR         Africa                 BDI  Burundi\n",
       "2                AFR         Africa                 BEN    Benin"
      ]
     },
     "execution_count": 22,
     "metadata": {},
     "output_type": "execute_result"
    }
   ],
   "source": [
    "# Загрузим таблицу с данными стран\n",
    "regions_and_locations_data = pd.read_csv('../data/regions_and_locations.csv')\n",
    "regions_and_locations_data.head(3)"
   ]
  },
  {
   "cell_type": "code",
   "execution_count": 23,
   "metadata": {},
   "outputs": [],
   "source": [
    "# Добавим столбец с названием страны в cumulative_scaled_data\n",
    "scaled_mean_data = scaled_mean_data.merge(\n",
    "    regions_and_locations_data[[F.SpatialDimValueCode.value, F.Location.value]],\n",
    "    on=F.SpatialDimValueCode.value,\n",
    "    how='left',\n",
    ")"
   ]
  },
  {
   "cell_type": "markdown",
   "metadata": {},
   "source": [
    "Отобразим на графике значения коэффициента благополучия стран."
   ]
  },
  {
   "cell_type": "code",
   "execution_count": 24,
   "metadata": {},
   "outputs": [
    {
     "data": {
      "application/vnd.plotly.v1+json": {
       "config": {
        "plotlyServerURL": "https://plot.ly"
       },
       "data": [
        {
         "coloraxis": "coloraxis",
         "geo": "geo",
         "hovertemplate": "<b>%{hovertext}</b><br><br>SpatialDimValueCode=%{location}<br>PositiveCoef=%{z}<extra></extra>",
         "hovertext": [
          "Afghanistan",
          "Angola",
          "Albania",
          "United Arab Emirates",
          "Argentina",
          "Armenia",
          "Antigua and Barbuda",
          "Australia",
          "Austria",
          "Azerbaijan",
          "Burundi",
          "Belgium",
          "Benin",
          "Burkina Faso",
          "Bangladesh",
          "Bulgaria",
          "Bahrain",
          "Bahamas",
          "Bosnia and Herzegovina",
          "Belarus",
          "Belize",
          "Bolivia (Plurinational State of)",
          "Brazil",
          "Barbados",
          "Brunei Darussalam",
          "Bhutan",
          "Botswana",
          "Central African Republic",
          "Canada",
          "Switzerland",
          "Chile",
          "China",
          "Cote d'Ivoire",
          "Cameroon",
          "Democratic Republic of the Congo",
          "Congo",
          "Colombia",
          "Comoros",
          "Cabo Verde",
          "Costa Rica",
          "Cuba",
          "Cyprus",
          "Czechia",
          "Germany",
          "Djibouti",
          "Denmark",
          "Dominican Republic",
          "Algeria",
          "Ecuador",
          "Egypt",
          "Eritrea",
          "Spain",
          "Estonia",
          "Ethiopia",
          "Finland",
          "Fiji",
          "France",
          "Micronesia (Federated States of)",
          "Gabon",
          "United Kingdom of Great Britain and Northern Ireland",
          "Georgia",
          "Ghana",
          "Guinea",
          "Gambia",
          "Guinea-Bissau",
          "Equatorial Guinea",
          "Greece",
          "Grenada",
          "Guatemala",
          "Guyana",
          "Honduras",
          "Croatia",
          "Haiti",
          "Hungary",
          "Indonesia",
          "India",
          "Ireland",
          "Iran (Islamic Republic of)",
          "Iraq",
          "Iceland",
          "Israel",
          "Italy",
          "Jamaica",
          "Jordan",
          "Japan",
          "Kazakhstan",
          "Kenya",
          "Kyrgyzstan",
          "Cambodia",
          "Kiribati",
          "Republic of Korea",
          "Kuwait",
          "Lao People's Democratic Republic",
          "Lebanon",
          "Liberia",
          "Libya",
          "Saint Lucia",
          "Sri Lanka",
          "Lesotho",
          "Lithuania",
          "Luxembourg",
          "Latvia",
          "Morocco",
          "Republic of Moldova",
          "Madagascar",
          "Maldives",
          "Mexico",
          "North Macedonia",
          "Mali",
          "Malta",
          "Myanmar",
          "Montenegro",
          "Mongolia",
          "Mozambique",
          "Mauritania",
          "Mauritius",
          "Malawi",
          "Malaysia",
          "Namibia",
          "Niger",
          "Nigeria",
          "Nicaragua",
          "Netherlands (Kingdom of the)",
          "Norway",
          "Nepal",
          "New Zealand",
          "Oman",
          "Pakistan",
          "Panama",
          "Peru",
          "Philippines",
          "Papua New Guinea",
          "Poland",
          "Portugal",
          "Paraguay",
          "Qatar",
          "Romania",
          "Russian Federation",
          "Rwanda",
          "Saudi Arabia",
          "Sudan",
          "Senegal",
          "Singapore",
          "Solomon Islands",
          "Sierra Leone",
          "El Salvador",
          "Somalia",
          "Serbia",
          "Sao Tome and Principe",
          "Suriname",
          "Slovakia",
          "Slovenia",
          "Sweden",
          "Eswatini",
          "Seychelles",
          "Syrian Arab Republic",
          "Chad",
          "Togo",
          "Thailand",
          "Tajikistan",
          "Turkmenistan",
          "Timor-Leste",
          "Tonga",
          "Trinidad and Tobago",
          "Tunisia",
          "Türkiye",
          "United Republic of Tanzania",
          "Uganda",
          "Ukraine",
          "Uruguay",
          "United States of America",
          "Uzbekistan",
          "Saint Vincent and the Grenadines",
          "Venezuela (Bolivarian Republic of)",
          "Viet Nam",
          "Vanuatu",
          "Samoa",
          "Yemen",
          "South Africa",
          "Zambia",
          "Zimbabwe"
         ],
         "locations": [
          "AFG",
          "AGO",
          "ALB",
          "ARE",
          "ARG",
          "ARM",
          "ATG",
          "AUS",
          "AUT",
          "AZE",
          "BDI",
          "BEL",
          "BEN",
          "BFA",
          "BGD",
          "BGR",
          "BHR",
          "BHS",
          "BIH",
          "BLR",
          "BLZ",
          "BOL",
          "BRA",
          "BRB",
          "BRN",
          "BTN",
          "BWA",
          "CAF",
          "CAN",
          "CHE",
          "CHL",
          "CHN",
          "CIV",
          "CMR",
          "COD",
          "COG",
          "COL",
          "COM",
          "CPV",
          "CRI",
          "CUB",
          "CYP",
          "CZE",
          "DEU",
          "DJI",
          "DNK",
          "DOM",
          "DZA",
          "ECU",
          "EGY",
          "ERI",
          "ESP",
          "EST",
          "ETH",
          "FIN",
          "FJI",
          "FRA",
          "FSM",
          "GAB",
          "GBR",
          "GEO",
          "GHA",
          "GIN",
          "GMB",
          "GNB",
          "GNQ",
          "GRC",
          "GRD",
          "GTM",
          "GUY",
          "HND",
          "HRV",
          "HTI",
          "HUN",
          "IDN",
          "IND",
          "IRL",
          "IRN",
          "IRQ",
          "ISL",
          "ISR",
          "ITA",
          "JAM",
          "JOR",
          "JPN",
          "KAZ",
          "KEN",
          "KGZ",
          "KHM",
          "KIR",
          "KOR",
          "KWT",
          "LAO",
          "LBN",
          "LBR",
          "LBY",
          "LCA",
          "LKA",
          "LSO",
          "LTU",
          "LUX",
          "LVA",
          "MAR",
          "MDA",
          "MDG",
          "MDV",
          "MEX",
          "MKD",
          "MLI",
          "MLT",
          "MMR",
          "MNE",
          "MNG",
          "MOZ",
          "MRT",
          "MUS",
          "MWI",
          "MYS",
          "NAM",
          "NER",
          "NGA",
          "NIC",
          "NLD",
          "NOR",
          "NPL",
          "NZL",
          "OMN",
          "PAK",
          "PAN",
          "PER",
          "PHL",
          "PNG",
          "POL",
          "PRT",
          "PRY",
          "QAT",
          "ROU",
          "RUS",
          "RWA",
          "SAU",
          "SDN",
          "SEN",
          "SGP",
          "SLB",
          "SLE",
          "SLV",
          "SOM",
          "SRB",
          "STP",
          "SUR",
          "SVK",
          "SVN",
          "SWE",
          "SWZ",
          "SYC",
          "SYR",
          "TCD",
          "TGO",
          "THA",
          "TJK",
          "TKM",
          "TLS",
          "TON",
          "TTO",
          "TUN",
          "TUR",
          "TZA",
          "UGA",
          "UKR",
          "URY",
          "USA",
          "UZB",
          "VCT",
          "VEN",
          "VNM",
          "VUT",
          "WSM",
          "YEM",
          "ZAF",
          "ZMB",
          "ZWE"
         ],
         "name": "",
         "type": "choropleth",
         "z": [
          0.8248482689290315,
          0.8266002753015695,
          0.8681775181076127,
          0.9063181044630373,
          0.9193754417680203,
          0.8479121130814352,
          0.8941560245847802,
          0.9748029127828297,
          0.9713934080418788,
          0.8329165326353964,
          0.7948934180041873,
          0.9686981663014801,
          0.7928206116720815,
          0.7833924679064247,
          0.7917618067983729,
          0.8921688598629639,
          0.8821882043700078,
          0.9123085840155442,
          0.9036793878808557,
          0.8820600491920655,
          0.8798815224629423,
          0.8806462076728311,
          0.8800962239164096,
          0.9056379905625016,
          0.8849031839350724,
          0.8512873610037689,
          0.8650401477729575,
          0.8306531566902717,
          0.9328366008426959,
          0.9505335248201909,
          0.9036954025524992,
          0.8631018445690052,
          0.806750598014409,
          0.8142021138041129,
          0.7514936296204187,
          0.8059878541681333,
          0.9097548438500763,
          0.8141321458119608,
          0.8601685920123548,
          0.915650186095549,
          0.913537743859992,
          0.8982823795812126,
          0.9283758667956417,
          0.9756597652271667,
          0.857679519532165,
          0.9833076098920628,
          0.8813533159406413,
          0.8747711778985797,
          0.8785729866535582,
          0.8297120067676754,
          0.735594213307719,
          0.9453951671139139,
          0.9133197145479816,
          0.7629125194101469,
          0.9671102028254231,
          0.8600134781765454,
          0.9385196748107244,
          0.8344281163229409,
          0.8556557338879549,
          0.975350230365556,
          0.8563053607838076,
          0.811100667347935,
          0.8000946458927519,
          0.7876415021929895,
          0.7548489662062762,
          0.8031546709143609,
          0.921325224465565,
          0.8655466833210984,
          0.8675774281182383,
          0.8574566887871432,
          0.8690566356909278,
          0.9181360483436355,
          0.8364469983598924,
          0.9030000965247119,
          0.8429782300231904,
          0.7864065452076898,
          0.9842090550165604,
          0.8783761862145281,
          0.8407319575154978,
          0.9794035167021081,
          0.9304341173136875,
          0.9532942738139781,
          0.8817991251698578,
          0.8901317058617277,
          0.9741715911183939,
          0.8661219732294417,
          0.8132870027287522,
          0.8650721632338585,
          0.8219646503494412,
          0.8678144507012101,
          0.9092254719685704,
          0.8845604129568299,
          0.8403217592182721,
          0.8865517331237873,
          0.8033777571700492,
          0.8716507575490671,
          0.8664671515639786,
          0.8592774900857064,
          0.8130550958034636,
          0.9075206854077917,
          0.9774179373023087,
          0.8896577328401867,
          0.822796935241434,
          0.8907493578173705,
          0.8230707798704777,
          0.8945711936020605,
          0.8851312912999638,
          0.8971613510412355,
          0.7938398102378489,
          0.9353037127234523,
          0.7878090029491098,
          0.9081684828441123,
          0.8515230965724239,
          0.7189034019623302,
          0.8224719081430367,
          0.8629538248141659,
          0.7700378589566798,
          0.8588790581348692,
          0.8791149632402915,
          0.7624203163986933,
          0.7645136189603783,
          0.8806025353420726,
          0.9689302170141966,
          0.9906741319051154,
          0.8054843477133512,
          0.965077510109144,
          0.8691148416271154,
          0.8022083588906568,
          0.9194638145374722,
          0.8888539347074609,
          0.843268945399151,
          0.7854701911640001,
          0.9003173464722192,
          0.9292383154838545,
          0.8843079537393941,
          0.9088964836075822,
          0.896617173949592,
          0.8824798533410113,
          0.7992839111990704,
          0.9001761083730174,
          0.8049397044024442,
          0.8084864633329806,
          0.9064832204666051,
          0.8751127527968602,
          0.7510952201040161,
          0.9002999814432081,
          0.7190207769152205,
          0.9050735129907049,
          0.8338355131859397,
          0.887574262195261,
          0.9150800511704632,
          0.9332299063572536,
          0.9703286689941711,
          0.8147233168007395,
          0.8698613496897183,
          0.8376093992135375,
          0.6205851843953042,
          0.7878427326700006,
          0.8694525931022322,
          0.837055687228631,
          0.8515547806782133,
          0.8706681821638269,
          0.8716910852823756,
          0.885557816530299,
          0.8758782587951867,
          0.8852555555442071,
          0.7723965725579757,
          0.7824917010989672,
          0.8311690727035964,
          0.91886907856165,
          0.9855585367633669,
          0.8510901650718686,
          0.8706486626656914,
          0.8815746476352121,
          0.8563055644665166,
          0.8692279144333612,
          0.880137360699015,
          0.8012845612847299,
          0.897734009650002,
          0.8055976112441151,
          0.8234498183705126
         ]
        }
       ],
       "layout": {
        "coloraxis": {
         "colorbar": {
          "title": {
           "text": "PositiveCoef"
          }
         },
         "colorscale": [
          [
           0,
           "#0d0887"
          ],
          [
           0.1111111111111111,
           "#46039f"
          ],
          [
           0.2222222222222222,
           "#7201a8"
          ],
          [
           0.3333333333333333,
           "#9c179e"
          ],
          [
           0.4444444444444444,
           "#bd3786"
          ],
          [
           0.5555555555555556,
           "#d8576b"
          ],
          [
           0.6666666666666666,
           "#ed7953"
          ],
          [
           0.7777777777777778,
           "#fb9f3a"
          ],
          [
           0.8888888888888888,
           "#fdca26"
          ],
          [
           1,
           "#f0f921"
          ]
         ]
        },
        "geo": {
         "center": {},
         "domain": {
          "x": [
           0,
           1
          ],
          "y": [
           0,
           1
          ]
         },
         "projection": {
          "type": "natural earth"
         }
        },
        "height": 700,
        "legend": {
         "tracegroupgap": 0
        },
        "template": {
         "data": {
          "bar": [
           {
            "error_x": {
             "color": "#2a3f5f"
            },
            "error_y": {
             "color": "#2a3f5f"
            },
            "marker": {
             "line": {
              "color": "#E5ECF6",
              "width": 0.5
             },
             "pattern": {
              "fillmode": "overlay",
              "size": 10,
              "solidity": 0.2
             }
            },
            "type": "bar"
           }
          ],
          "barpolar": [
           {
            "marker": {
             "line": {
              "color": "#E5ECF6",
              "width": 0.5
             },
             "pattern": {
              "fillmode": "overlay",
              "size": 10,
              "solidity": 0.2
             }
            },
            "type": "barpolar"
           }
          ],
          "carpet": [
           {
            "aaxis": {
             "endlinecolor": "#2a3f5f",
             "gridcolor": "white",
             "linecolor": "white",
             "minorgridcolor": "white",
             "startlinecolor": "#2a3f5f"
            },
            "baxis": {
             "endlinecolor": "#2a3f5f",
             "gridcolor": "white",
             "linecolor": "white",
             "minorgridcolor": "white",
             "startlinecolor": "#2a3f5f"
            },
            "type": "carpet"
           }
          ],
          "choropleth": [
           {
            "colorbar": {
             "outlinewidth": 0,
             "ticks": ""
            },
            "type": "choropleth"
           }
          ],
          "contour": [
           {
            "colorbar": {
             "outlinewidth": 0,
             "ticks": ""
            },
            "colorscale": [
             [
              0,
              "#0d0887"
             ],
             [
              0.1111111111111111,
              "#46039f"
             ],
             [
              0.2222222222222222,
              "#7201a8"
             ],
             [
              0.3333333333333333,
              "#9c179e"
             ],
             [
              0.4444444444444444,
              "#bd3786"
             ],
             [
              0.5555555555555556,
              "#d8576b"
             ],
             [
              0.6666666666666666,
              "#ed7953"
             ],
             [
              0.7777777777777778,
              "#fb9f3a"
             ],
             [
              0.8888888888888888,
              "#fdca26"
             ],
             [
              1,
              "#f0f921"
             ]
            ],
            "type": "contour"
           }
          ],
          "contourcarpet": [
           {
            "colorbar": {
             "outlinewidth": 0,
             "ticks": ""
            },
            "type": "contourcarpet"
           }
          ],
          "heatmap": [
           {
            "colorbar": {
             "outlinewidth": 0,
             "ticks": ""
            },
            "colorscale": [
             [
              0,
              "#0d0887"
             ],
             [
              0.1111111111111111,
              "#46039f"
             ],
             [
              0.2222222222222222,
              "#7201a8"
             ],
             [
              0.3333333333333333,
              "#9c179e"
             ],
             [
              0.4444444444444444,
              "#bd3786"
             ],
             [
              0.5555555555555556,
              "#d8576b"
             ],
             [
              0.6666666666666666,
              "#ed7953"
             ],
             [
              0.7777777777777778,
              "#fb9f3a"
             ],
             [
              0.8888888888888888,
              "#fdca26"
             ],
             [
              1,
              "#f0f921"
             ]
            ],
            "type": "heatmap"
           }
          ],
          "heatmapgl": [
           {
            "colorbar": {
             "outlinewidth": 0,
             "ticks": ""
            },
            "colorscale": [
             [
              0,
              "#0d0887"
             ],
             [
              0.1111111111111111,
              "#46039f"
             ],
             [
              0.2222222222222222,
              "#7201a8"
             ],
             [
              0.3333333333333333,
              "#9c179e"
             ],
             [
              0.4444444444444444,
              "#bd3786"
             ],
             [
              0.5555555555555556,
              "#d8576b"
             ],
             [
              0.6666666666666666,
              "#ed7953"
             ],
             [
              0.7777777777777778,
              "#fb9f3a"
             ],
             [
              0.8888888888888888,
              "#fdca26"
             ],
             [
              1,
              "#f0f921"
             ]
            ],
            "type": "heatmapgl"
           }
          ],
          "histogram": [
           {
            "marker": {
             "pattern": {
              "fillmode": "overlay",
              "size": 10,
              "solidity": 0.2
             }
            },
            "type": "histogram"
           }
          ],
          "histogram2d": [
           {
            "colorbar": {
             "outlinewidth": 0,
             "ticks": ""
            },
            "colorscale": [
             [
              0,
              "#0d0887"
             ],
             [
              0.1111111111111111,
              "#46039f"
             ],
             [
              0.2222222222222222,
              "#7201a8"
             ],
             [
              0.3333333333333333,
              "#9c179e"
             ],
             [
              0.4444444444444444,
              "#bd3786"
             ],
             [
              0.5555555555555556,
              "#d8576b"
             ],
             [
              0.6666666666666666,
              "#ed7953"
             ],
             [
              0.7777777777777778,
              "#fb9f3a"
             ],
             [
              0.8888888888888888,
              "#fdca26"
             ],
             [
              1,
              "#f0f921"
             ]
            ],
            "type": "histogram2d"
           }
          ],
          "histogram2dcontour": [
           {
            "colorbar": {
             "outlinewidth": 0,
             "ticks": ""
            },
            "colorscale": [
             [
              0,
              "#0d0887"
             ],
             [
              0.1111111111111111,
              "#46039f"
             ],
             [
              0.2222222222222222,
              "#7201a8"
             ],
             [
              0.3333333333333333,
              "#9c179e"
             ],
             [
              0.4444444444444444,
              "#bd3786"
             ],
             [
              0.5555555555555556,
              "#d8576b"
             ],
             [
              0.6666666666666666,
              "#ed7953"
             ],
             [
              0.7777777777777778,
              "#fb9f3a"
             ],
             [
              0.8888888888888888,
              "#fdca26"
             ],
             [
              1,
              "#f0f921"
             ]
            ],
            "type": "histogram2dcontour"
           }
          ],
          "mesh3d": [
           {
            "colorbar": {
             "outlinewidth": 0,
             "ticks": ""
            },
            "type": "mesh3d"
           }
          ],
          "parcoords": [
           {
            "line": {
             "colorbar": {
              "outlinewidth": 0,
              "ticks": ""
             }
            },
            "type": "parcoords"
           }
          ],
          "pie": [
           {
            "automargin": true,
            "type": "pie"
           }
          ],
          "scatter": [
           {
            "fillpattern": {
             "fillmode": "overlay",
             "size": 10,
             "solidity": 0.2
            },
            "type": "scatter"
           }
          ],
          "scatter3d": [
           {
            "line": {
             "colorbar": {
              "outlinewidth": 0,
              "ticks": ""
             }
            },
            "marker": {
             "colorbar": {
              "outlinewidth": 0,
              "ticks": ""
             }
            },
            "type": "scatter3d"
           }
          ],
          "scattercarpet": [
           {
            "marker": {
             "colorbar": {
              "outlinewidth": 0,
              "ticks": ""
             }
            },
            "type": "scattercarpet"
           }
          ],
          "scattergeo": [
           {
            "marker": {
             "colorbar": {
              "outlinewidth": 0,
              "ticks": ""
             }
            },
            "type": "scattergeo"
           }
          ],
          "scattergl": [
           {
            "marker": {
             "colorbar": {
              "outlinewidth": 0,
              "ticks": ""
             }
            },
            "type": "scattergl"
           }
          ],
          "scattermapbox": [
           {
            "marker": {
             "colorbar": {
              "outlinewidth": 0,
              "ticks": ""
             }
            },
            "type": "scattermapbox"
           }
          ],
          "scatterpolar": [
           {
            "marker": {
             "colorbar": {
              "outlinewidth": 0,
              "ticks": ""
             }
            },
            "type": "scatterpolar"
           }
          ],
          "scatterpolargl": [
           {
            "marker": {
             "colorbar": {
              "outlinewidth": 0,
              "ticks": ""
             }
            },
            "type": "scatterpolargl"
           }
          ],
          "scatterternary": [
           {
            "marker": {
             "colorbar": {
              "outlinewidth": 0,
              "ticks": ""
             }
            },
            "type": "scatterternary"
           }
          ],
          "surface": [
           {
            "colorbar": {
             "outlinewidth": 0,
             "ticks": ""
            },
            "colorscale": [
             [
              0,
              "#0d0887"
             ],
             [
              0.1111111111111111,
              "#46039f"
             ],
             [
              0.2222222222222222,
              "#7201a8"
             ],
             [
              0.3333333333333333,
              "#9c179e"
             ],
             [
              0.4444444444444444,
              "#bd3786"
             ],
             [
              0.5555555555555556,
              "#d8576b"
             ],
             [
              0.6666666666666666,
              "#ed7953"
             ],
             [
              0.7777777777777778,
              "#fb9f3a"
             ],
             [
              0.8888888888888888,
              "#fdca26"
             ],
             [
              1,
              "#f0f921"
             ]
            ],
            "type": "surface"
           }
          ],
          "table": [
           {
            "cells": {
             "fill": {
              "color": "#EBF0F8"
             },
             "line": {
              "color": "white"
             }
            },
            "header": {
             "fill": {
              "color": "#C8D4E3"
             },
             "line": {
              "color": "white"
             }
            },
            "type": "table"
           }
          ]
         },
         "layout": {
          "annotationdefaults": {
           "arrowcolor": "#2a3f5f",
           "arrowhead": 0,
           "arrowwidth": 1
          },
          "autotypenumbers": "strict",
          "coloraxis": {
           "colorbar": {
            "outlinewidth": 0,
            "ticks": ""
           }
          },
          "colorscale": {
           "diverging": [
            [
             0,
             "#8e0152"
            ],
            [
             0.1,
             "#c51b7d"
            ],
            [
             0.2,
             "#de77ae"
            ],
            [
             0.3,
             "#f1b6da"
            ],
            [
             0.4,
             "#fde0ef"
            ],
            [
             0.5,
             "#f7f7f7"
            ],
            [
             0.6,
             "#e6f5d0"
            ],
            [
             0.7,
             "#b8e186"
            ],
            [
             0.8,
             "#7fbc41"
            ],
            [
             0.9,
             "#4d9221"
            ],
            [
             1,
             "#276419"
            ]
           ],
           "sequential": [
            [
             0,
             "#0d0887"
            ],
            [
             0.1111111111111111,
             "#46039f"
            ],
            [
             0.2222222222222222,
             "#7201a8"
            ],
            [
             0.3333333333333333,
             "#9c179e"
            ],
            [
             0.4444444444444444,
             "#bd3786"
            ],
            [
             0.5555555555555556,
             "#d8576b"
            ],
            [
             0.6666666666666666,
             "#ed7953"
            ],
            [
             0.7777777777777778,
             "#fb9f3a"
            ],
            [
             0.8888888888888888,
             "#fdca26"
            ],
            [
             1,
             "#f0f921"
            ]
           ],
           "sequentialminus": [
            [
             0,
             "#0d0887"
            ],
            [
             0.1111111111111111,
             "#46039f"
            ],
            [
             0.2222222222222222,
             "#7201a8"
            ],
            [
             0.3333333333333333,
             "#9c179e"
            ],
            [
             0.4444444444444444,
             "#bd3786"
            ],
            [
             0.5555555555555556,
             "#d8576b"
            ],
            [
             0.6666666666666666,
             "#ed7953"
            ],
            [
             0.7777777777777778,
             "#fb9f3a"
            ],
            [
             0.8888888888888888,
             "#fdca26"
            ],
            [
             1,
             "#f0f921"
            ]
           ]
          },
          "colorway": [
           "#636efa",
           "#EF553B",
           "#00cc96",
           "#ab63fa",
           "#FFA15A",
           "#19d3f3",
           "#FF6692",
           "#B6E880",
           "#FF97FF",
           "#FECB52"
          ],
          "font": {
           "color": "#2a3f5f"
          },
          "geo": {
           "bgcolor": "white",
           "lakecolor": "white",
           "landcolor": "#E5ECF6",
           "showlakes": true,
           "showland": true,
           "subunitcolor": "white"
          },
          "hoverlabel": {
           "align": "left"
          },
          "hovermode": "closest",
          "mapbox": {
           "style": "light"
          },
          "paper_bgcolor": "white",
          "plot_bgcolor": "#E5ECF6",
          "polar": {
           "angularaxis": {
            "gridcolor": "white",
            "linecolor": "white",
            "ticks": ""
           },
           "bgcolor": "#E5ECF6",
           "radialaxis": {
            "gridcolor": "white",
            "linecolor": "white",
            "ticks": ""
           }
          },
          "scene": {
           "xaxis": {
            "backgroundcolor": "#E5ECF6",
            "gridcolor": "white",
            "gridwidth": 2,
            "linecolor": "white",
            "showbackground": true,
            "ticks": "",
            "zerolinecolor": "white"
           },
           "yaxis": {
            "backgroundcolor": "#E5ECF6",
            "gridcolor": "white",
            "gridwidth": 2,
            "linecolor": "white",
            "showbackground": true,
            "ticks": "",
            "zerolinecolor": "white"
           },
           "zaxis": {
            "backgroundcolor": "#E5ECF6",
            "gridcolor": "white",
            "gridwidth": 2,
            "linecolor": "white",
            "showbackground": true,
            "ticks": "",
            "zerolinecolor": "white"
           }
          },
          "shapedefaults": {
           "line": {
            "color": "#2a3f5f"
           }
          },
          "ternary": {
           "aaxis": {
            "gridcolor": "white",
            "linecolor": "white",
            "ticks": ""
           },
           "baxis": {
            "gridcolor": "white",
            "linecolor": "white",
            "ticks": ""
           },
           "bgcolor": "#E5ECF6",
           "caxis": {
            "gridcolor": "white",
            "linecolor": "white",
            "ticks": ""
           }
          },
          "title": {
           "x": 0.05
          },
          "xaxis": {
           "automargin": true,
           "gridcolor": "white",
           "linecolor": "white",
           "ticks": "",
           "title": {
            "standoff": 15
           },
           "zerolinecolor": "white",
           "zerolinewidth": 2
          },
          "yaxis": {
           "automargin": true,
           "gridcolor": "white",
           "linecolor": "white",
           "ticks": "",
           "title": {
            "standoff": 15
           },
           "zerolinecolor": "white",
           "zerolinewidth": 2
          }
         }
        },
        "title": {
         "text": "Значения коэффициента благополучия стран"
        },
        "width": 1000
       }
      }
     },
     "metadata": {},
     "output_type": "display_data"
    },
    {
     "data": {
      "text/html": [
       "<img src=\"../plotly/positive_coef_earh.png\" /><br />"
      ],
      "text/plain": [
       "<IPython.core.display.HTML object>"
      ]
     },
     "metadata": {},
     "output_type": "display_data"
    },
    {
     "data": {
      "text/html": [
       "<em>html графика в файле <a href=\"../plotly/positive_coef_earh.html\" target=\"_blank\">../plotly/positive_coef_earh.html</a></em>"
      ],
      "text/plain": [
       "<IPython.core.display.HTML object>"
      ]
     },
     "metadata": {},
     "output_type": "display_data"
    }
   ],
   "source": [
    "# Отобразим график \n",
    "fig = px.choropleth(\n",
    "    scaled_mean_data, \n",
    "    locations=F.SpatialDimValueCode.value, \n",
    "    color=F.PositiveCoef.value,\n",
    "    hover_name=F.Location.value,\n",
    "    projection='natural earth',\n",
    "    width=1000,\n",
    "    height=700,\n",
    "    title='Значения коэффициента благополучия стран',\n",
    ")\n",
    "\n",
    "show_and_save_fig(fig, 'positive_coef_earh')"
   ]
  },
  {
   "cell_type": "markdown",
   "metadata": {},
   "source": [
    "Визуально график похож на ранее построенный график со значениями ожидаемой продолжительности жизни.\\\n",
    "Неблагоприятная ситуаця в странах Африки, благоприятная в Японии и Европе.\\\n",
    "И средняя в России.\n",
    "\n",
    "Теперь отобразим на графике значения коэффициента неблагополучия стран."
   ]
  },
  {
   "cell_type": "code",
   "execution_count": 25,
   "metadata": {},
   "outputs": [
    {
     "data": {
      "application/vnd.plotly.v1+json": {
       "config": {
        "plotlyServerURL": "https://plot.ly"
       },
       "data": [
        {
         "coloraxis": "coloraxis",
         "geo": "geo",
         "hovertemplate": "<b>%{hovertext}</b><br><br>SpatialDimValueCode=%{location}<br>NegativeCoef=%{z}<extra></extra>",
         "hovertext": [
          "Afghanistan",
          "Angola",
          "Albania",
          "United Arab Emirates",
          "Argentina",
          "Armenia",
          "Antigua and Barbuda",
          "Australia",
          "Austria",
          "Azerbaijan",
          "Burundi",
          "Belgium",
          "Benin",
          "Burkina Faso",
          "Bangladesh",
          "Bulgaria",
          "Bahrain",
          "Bahamas",
          "Bosnia and Herzegovina",
          "Belarus",
          "Belize",
          "Bolivia (Plurinational State of)",
          "Brazil",
          "Barbados",
          "Brunei Darussalam",
          "Bhutan",
          "Botswana",
          "Central African Republic",
          "Canada",
          "Switzerland",
          "Chile",
          "China",
          "Cote d'Ivoire",
          "Cameroon",
          "Democratic Republic of the Congo",
          "Congo",
          "Colombia",
          "Comoros",
          "Cabo Verde",
          "Costa Rica",
          "Cuba",
          "Cyprus",
          "Czechia",
          "Germany",
          "Djibouti",
          "Denmark",
          "Dominican Republic",
          "Algeria",
          "Ecuador",
          "Egypt",
          "Eritrea",
          "Spain",
          "Estonia",
          "Ethiopia",
          "Finland",
          "Fiji",
          "France",
          "Micronesia (Federated States of)",
          "Gabon",
          "United Kingdom of Great Britain and Northern Ireland",
          "Georgia",
          "Ghana",
          "Guinea",
          "Gambia",
          "Guinea-Bissau",
          "Equatorial Guinea",
          "Greece",
          "Grenada",
          "Guatemala",
          "Guyana",
          "Honduras",
          "Croatia",
          "Haiti",
          "Hungary",
          "Indonesia",
          "India",
          "Ireland",
          "Iran (Islamic Republic of)",
          "Iraq",
          "Iceland",
          "Israel",
          "Italy",
          "Jamaica",
          "Jordan",
          "Japan",
          "Kazakhstan",
          "Kenya",
          "Kyrgyzstan",
          "Cambodia",
          "Kiribati",
          "Republic of Korea",
          "Kuwait",
          "Lao People's Democratic Republic",
          "Lebanon",
          "Liberia",
          "Libya",
          "Saint Lucia",
          "Sri Lanka",
          "Lesotho",
          "Lithuania",
          "Luxembourg",
          "Latvia",
          "Morocco",
          "Republic of Moldova",
          "Madagascar",
          "Maldives",
          "Mexico",
          "North Macedonia",
          "Mali",
          "Malta",
          "Myanmar",
          "Montenegro",
          "Mongolia",
          "Mozambique",
          "Mauritania",
          "Mauritius",
          "Malawi",
          "Malaysia",
          "Namibia",
          "Niger",
          "Nigeria",
          "Nicaragua",
          "Netherlands (Kingdom of the)",
          "Norway",
          "Nepal",
          "New Zealand",
          "Oman",
          "Pakistan",
          "Panama",
          "Peru",
          "Philippines",
          "Papua New Guinea",
          "Poland",
          "Portugal",
          "Paraguay",
          "Qatar",
          "Romania",
          "Russian Federation",
          "Rwanda",
          "Saudi Arabia",
          "Sudan",
          "Senegal",
          "Singapore",
          "Solomon Islands",
          "Sierra Leone",
          "El Salvador",
          "Somalia",
          "Serbia",
          "Sao Tome and Principe",
          "Suriname",
          "Slovakia",
          "Slovenia",
          "Sweden",
          "Eswatini",
          "Seychelles",
          "Syrian Arab Republic",
          "Chad",
          "Togo",
          "Thailand",
          "Tajikistan",
          "Turkmenistan",
          "Timor-Leste",
          "Tonga",
          "Trinidad and Tobago",
          "Tunisia",
          "Türkiye",
          "United Republic of Tanzania",
          "Uganda",
          "Ukraine",
          "Uruguay",
          "United States of America",
          "Uzbekistan",
          "Saint Vincent and the Grenadines",
          "Venezuela (Bolivarian Republic of)",
          "Viet Nam",
          "Vanuatu",
          "Samoa",
          "Yemen",
          "South Africa",
          "Zambia",
          "Zimbabwe"
         ],
         "locations": [
          "AFG",
          "AGO",
          "ALB",
          "ARE",
          "ARG",
          "ARM",
          "ATG",
          "AUS",
          "AUT",
          "AZE",
          "BDI",
          "BEL",
          "BEN",
          "BFA",
          "BGD",
          "BGR",
          "BHR",
          "BHS",
          "BIH",
          "BLR",
          "BLZ",
          "BOL",
          "BRA",
          "BRB",
          "BRN",
          "BTN",
          "BWA",
          "CAF",
          "CAN",
          "CHE",
          "CHL",
          "CHN",
          "CIV",
          "CMR",
          "COD",
          "COG",
          "COL",
          "COM",
          "CPV",
          "CRI",
          "CUB",
          "CYP",
          "CZE",
          "DEU",
          "DJI",
          "DNK",
          "DOM",
          "DZA",
          "ECU",
          "EGY",
          "ERI",
          "ESP",
          "EST",
          "ETH",
          "FIN",
          "FJI",
          "FRA",
          "FSM",
          "GAB",
          "GBR",
          "GEO",
          "GHA",
          "GIN",
          "GMB",
          "GNB",
          "GNQ",
          "GRC",
          "GRD",
          "GTM",
          "GUY",
          "HND",
          "HRV",
          "HTI",
          "HUN",
          "IDN",
          "IND",
          "IRL",
          "IRN",
          "IRQ",
          "ISL",
          "ISR",
          "ITA",
          "JAM",
          "JOR",
          "JPN",
          "KAZ",
          "KEN",
          "KGZ",
          "KHM",
          "KIR",
          "KOR",
          "KWT",
          "LAO",
          "LBN",
          "LBR",
          "LBY",
          "LCA",
          "LKA",
          "LSO",
          "LTU",
          "LUX",
          "LVA",
          "MAR",
          "MDA",
          "MDG",
          "MDV",
          "MEX",
          "MKD",
          "MLI",
          "MLT",
          "MMR",
          "MNE",
          "MNG",
          "MOZ",
          "MRT",
          "MUS",
          "MWI",
          "MYS",
          "NAM",
          "NER",
          "NGA",
          "NIC",
          "NLD",
          "NOR",
          "NPL",
          "NZL",
          "OMN",
          "PAK",
          "PAN",
          "PER",
          "PHL",
          "PNG",
          "POL",
          "PRT",
          "PRY",
          "QAT",
          "ROU",
          "RUS",
          "RWA",
          "SAU",
          "SDN",
          "SEN",
          "SGP",
          "SLB",
          "SLE",
          "SLV",
          "SOM",
          "SRB",
          "STP",
          "SUR",
          "SVK",
          "SVN",
          "SWE",
          "SWZ",
          "SYC",
          "SYR",
          "TCD",
          "TGO",
          "THA",
          "TJK",
          "TKM",
          "TLS",
          "TON",
          "TTO",
          "TUN",
          "TUR",
          "TZA",
          "UGA",
          "UKR",
          "URY",
          "USA",
          "UZB",
          "VCT",
          "VEN",
          "VNM",
          "VUT",
          "WSM",
          "YEM",
          "ZAF",
          "ZMB",
          "ZWE"
         ],
         "name": "",
         "type": "choropleth",
         "z": [
          0.8725892250838388,
          0.8740807547535856,
          0.7256114852597649,
          0.7162888664834551,
          0.766349417298875,
          0.6485638804953802,
          0.7427428633166346,
          0.7025185511551569,
          0.7634135623254482,
          0.6444733422840432,
          0.8928746987116893,
          0.731823608469859,
          0.8479942603149802,
          0.8848136451886617,
          0.8046762940932458,
          0.6510282788029502,
          0.7293132893965352,
          0.6885415426755792,
          0.7096321658551652,
          0.6365756140142445,
          0.6597911554653448,
          0.7656901966356469,
          0.6384362668017451,
          0.765675597293228,
          0.7637794425127094,
          0.8144756218349011,
          0.9017346746889364,
          0.9297369293644443,
          0.7572682234558528,
          0.662908703572076,
          0.750322731969296,
          0.7919799432297766,
          0.8769305924256335,
          0.8457171154604446,
          0.9012556088165015,
          0.8808753596115783,
          0.4113630060602562,
          0.803912513042063,
          0.8543592559180956,
          0.7938450080831495,
          0.8322057488944931,
          0.8504306325688888,
          0.7404240608820363,
          0.724447056664402,
          0.8501800468393508,
          0.7449010613776293,
          0.786872775223452,
          0.8516220677236338,
          0.76522389048541,
          0.5665907963303214,
          0.9148435712663118,
          0.7876134541082637,
          0.729752857108583,
          0.8943865933900681,
          0.7013367718744635,
          0.6224431423252322,
          0.8134587348871816,
          0.5768633448706969,
          0.8175292853489218,
          0.7628632719248526,
          0.6631640790022967,
          0.8482043034378104,
          0.8789464765582052,
          0.8903891433410962,
          0.8881290454407911,
          0.8457971632723983,
          0.7511752857345398,
          0.7075658841234932,
          0.6386962247835672,
          0.8140215115130511,
          0.4844165657351402,
          0.7025399870125014,
          0.8259972799345251,
          0.6719796613896846,
          0.7859062125534251,
          0.8220693990795652,
          0.6963508188623889,
          0.785715255460067,
          0.7120178452109934,
          0.7012252352516315,
          0.7882925824078453,
          0.8161095721020982,
          0.5027290338931109,
          0.7378711490221548,
          0.6314528536129232,
          0.7145970902042122,
          0.866351236035296,
          0.7132627955823004,
          0.8072666803558415,
          0.6125169535109787,
          0.6788711854893613,
          0.7725836576590309,
          0.7986343855873095,
          0.799494834957147,
          0.833990428131784,
          0.7963705661017936,
          0.7689749872252446,
          0.7475473924389234,
          0.8827621049466907,
          0.6424756064672776,
          0.762281149736495,
          0.683400446005292,
          0.7958201544000352,
          0.583251923770553,
          0.8705069898765387,
          0.7016598110079697,
          0.7120300617509775,
          0.6845262709732339,
          0.8795695679010532,
          0.7599668024099827,
          0.8553317853410642,
          0.6591948751906161,
          0.6807126635624795,
          0.8255546163473256,
          0.8382344779755991,
          0.7707722975856206,
          0.8068335356534038,
          0.7923601523408842,
          0.9132791284360774,
          0.9049843301078602,
          0.8588101913212061,
          0.8270222825288074,
          0.7174944991983897,
          0.689042596852194,
          0.8517885048226281,
          0.6807787667518705,
          0.7429193720582793,
          0.8622122575342994,
          0.7076122109553356,
          0.7735470153773107,
          0.7689483408686767,
          0.6912358820629012,
          0.7257918746923401,
          0.768570984287863,
          0.7574150711780501,
          0.7083030877631522,
          0.7264190039923882,
          0.6703536461197517,
          0.8485699340730423,
          0.7202124866533552,
          0.8590525707316617,
          0.8960396409492601,
          0.7314410246360636,
          0.7014901310924925,
          0.8470086504816783,
          0.4093328496647712,
          0.8833791610251083,
          0.6540083337892729,
          0.6970690896963648,
          0.8490962642091882,
          0.7214429689033232,
          0.7162992117615178,
          0.6732249101029911,
          0.8424685669799041,
          0.7904710699236892,
          0.6972551989193565,
          0.8915281655244242,
          0.8645423874868282,
          0.8286862255805637,
          0.7310910152096413,
          0.6804664069434614,
          0.8262085457394094,
          0.5460131704579095,
          0.759900214408664,
          0.8093308599159736,
          0.6753792446566487,
          0.8400349944588785,
          0.8704311255033339,
          0.6827505453539192,
          0.7150238404389047,
          0.7436448751745858,
          0.5804560257483616,
          0.7005625101698886,
          0.4996626004003682,
          0.7883414026377802,
          0.6730206768046303,
          0.5455186019450696,
          0.8423654720595208,
          0.8007719137493665,
          0.8344627346020025,
          0.8728689243922343
         ]
        }
       ],
       "layout": {
        "coloraxis": {
         "colorbar": {
          "title": {
           "text": "NegativeCoef"
          }
         },
         "colorscale": [
          [
           0,
           "#0d0887"
          ],
          [
           0.1111111111111111,
           "#46039f"
          ],
          [
           0.2222222222222222,
           "#7201a8"
          ],
          [
           0.3333333333333333,
           "#9c179e"
          ],
          [
           0.4444444444444444,
           "#bd3786"
          ],
          [
           0.5555555555555556,
           "#d8576b"
          ],
          [
           0.6666666666666666,
           "#ed7953"
          ],
          [
           0.7777777777777778,
           "#fb9f3a"
          ],
          [
           0.8888888888888888,
           "#fdca26"
          ],
          [
           1,
           "#f0f921"
          ]
         ]
        },
        "geo": {
         "center": {},
         "domain": {
          "x": [
           0,
           1
          ],
          "y": [
           0,
           1
          ]
         },
         "projection": {
          "type": "natural earth"
         }
        },
        "height": 700,
        "legend": {
         "tracegroupgap": 0
        },
        "template": {
         "data": {
          "bar": [
           {
            "error_x": {
             "color": "#2a3f5f"
            },
            "error_y": {
             "color": "#2a3f5f"
            },
            "marker": {
             "line": {
              "color": "#E5ECF6",
              "width": 0.5
             },
             "pattern": {
              "fillmode": "overlay",
              "size": 10,
              "solidity": 0.2
             }
            },
            "type": "bar"
           }
          ],
          "barpolar": [
           {
            "marker": {
             "line": {
              "color": "#E5ECF6",
              "width": 0.5
             },
             "pattern": {
              "fillmode": "overlay",
              "size": 10,
              "solidity": 0.2
             }
            },
            "type": "barpolar"
           }
          ],
          "carpet": [
           {
            "aaxis": {
             "endlinecolor": "#2a3f5f",
             "gridcolor": "white",
             "linecolor": "white",
             "minorgridcolor": "white",
             "startlinecolor": "#2a3f5f"
            },
            "baxis": {
             "endlinecolor": "#2a3f5f",
             "gridcolor": "white",
             "linecolor": "white",
             "minorgridcolor": "white",
             "startlinecolor": "#2a3f5f"
            },
            "type": "carpet"
           }
          ],
          "choropleth": [
           {
            "colorbar": {
             "outlinewidth": 0,
             "ticks": ""
            },
            "type": "choropleth"
           }
          ],
          "contour": [
           {
            "colorbar": {
             "outlinewidth": 0,
             "ticks": ""
            },
            "colorscale": [
             [
              0,
              "#0d0887"
             ],
             [
              0.1111111111111111,
              "#46039f"
             ],
             [
              0.2222222222222222,
              "#7201a8"
             ],
             [
              0.3333333333333333,
              "#9c179e"
             ],
             [
              0.4444444444444444,
              "#bd3786"
             ],
             [
              0.5555555555555556,
              "#d8576b"
             ],
             [
              0.6666666666666666,
              "#ed7953"
             ],
             [
              0.7777777777777778,
              "#fb9f3a"
             ],
             [
              0.8888888888888888,
              "#fdca26"
             ],
             [
              1,
              "#f0f921"
             ]
            ],
            "type": "contour"
           }
          ],
          "contourcarpet": [
           {
            "colorbar": {
             "outlinewidth": 0,
             "ticks": ""
            },
            "type": "contourcarpet"
           }
          ],
          "heatmap": [
           {
            "colorbar": {
             "outlinewidth": 0,
             "ticks": ""
            },
            "colorscale": [
             [
              0,
              "#0d0887"
             ],
             [
              0.1111111111111111,
              "#46039f"
             ],
             [
              0.2222222222222222,
              "#7201a8"
             ],
             [
              0.3333333333333333,
              "#9c179e"
             ],
             [
              0.4444444444444444,
              "#bd3786"
             ],
             [
              0.5555555555555556,
              "#d8576b"
             ],
             [
              0.6666666666666666,
              "#ed7953"
             ],
             [
              0.7777777777777778,
              "#fb9f3a"
             ],
             [
              0.8888888888888888,
              "#fdca26"
             ],
             [
              1,
              "#f0f921"
             ]
            ],
            "type": "heatmap"
           }
          ],
          "heatmapgl": [
           {
            "colorbar": {
             "outlinewidth": 0,
             "ticks": ""
            },
            "colorscale": [
             [
              0,
              "#0d0887"
             ],
             [
              0.1111111111111111,
              "#46039f"
             ],
             [
              0.2222222222222222,
              "#7201a8"
             ],
             [
              0.3333333333333333,
              "#9c179e"
             ],
             [
              0.4444444444444444,
              "#bd3786"
             ],
             [
              0.5555555555555556,
              "#d8576b"
             ],
             [
              0.6666666666666666,
              "#ed7953"
             ],
             [
              0.7777777777777778,
              "#fb9f3a"
             ],
             [
              0.8888888888888888,
              "#fdca26"
             ],
             [
              1,
              "#f0f921"
             ]
            ],
            "type": "heatmapgl"
           }
          ],
          "histogram": [
           {
            "marker": {
             "pattern": {
              "fillmode": "overlay",
              "size": 10,
              "solidity": 0.2
             }
            },
            "type": "histogram"
           }
          ],
          "histogram2d": [
           {
            "colorbar": {
             "outlinewidth": 0,
             "ticks": ""
            },
            "colorscale": [
             [
              0,
              "#0d0887"
             ],
             [
              0.1111111111111111,
              "#46039f"
             ],
             [
              0.2222222222222222,
              "#7201a8"
             ],
             [
              0.3333333333333333,
              "#9c179e"
             ],
             [
              0.4444444444444444,
              "#bd3786"
             ],
             [
              0.5555555555555556,
              "#d8576b"
             ],
             [
              0.6666666666666666,
              "#ed7953"
             ],
             [
              0.7777777777777778,
              "#fb9f3a"
             ],
             [
              0.8888888888888888,
              "#fdca26"
             ],
             [
              1,
              "#f0f921"
             ]
            ],
            "type": "histogram2d"
           }
          ],
          "histogram2dcontour": [
           {
            "colorbar": {
             "outlinewidth": 0,
             "ticks": ""
            },
            "colorscale": [
             [
              0,
              "#0d0887"
             ],
             [
              0.1111111111111111,
              "#46039f"
             ],
             [
              0.2222222222222222,
              "#7201a8"
             ],
             [
              0.3333333333333333,
              "#9c179e"
             ],
             [
              0.4444444444444444,
              "#bd3786"
             ],
             [
              0.5555555555555556,
              "#d8576b"
             ],
             [
              0.6666666666666666,
              "#ed7953"
             ],
             [
              0.7777777777777778,
              "#fb9f3a"
             ],
             [
              0.8888888888888888,
              "#fdca26"
             ],
             [
              1,
              "#f0f921"
             ]
            ],
            "type": "histogram2dcontour"
           }
          ],
          "mesh3d": [
           {
            "colorbar": {
             "outlinewidth": 0,
             "ticks": ""
            },
            "type": "mesh3d"
           }
          ],
          "parcoords": [
           {
            "line": {
             "colorbar": {
              "outlinewidth": 0,
              "ticks": ""
             }
            },
            "type": "parcoords"
           }
          ],
          "pie": [
           {
            "automargin": true,
            "type": "pie"
           }
          ],
          "scatter": [
           {
            "fillpattern": {
             "fillmode": "overlay",
             "size": 10,
             "solidity": 0.2
            },
            "type": "scatter"
           }
          ],
          "scatter3d": [
           {
            "line": {
             "colorbar": {
              "outlinewidth": 0,
              "ticks": ""
             }
            },
            "marker": {
             "colorbar": {
              "outlinewidth": 0,
              "ticks": ""
             }
            },
            "type": "scatter3d"
           }
          ],
          "scattercarpet": [
           {
            "marker": {
             "colorbar": {
              "outlinewidth": 0,
              "ticks": ""
             }
            },
            "type": "scattercarpet"
           }
          ],
          "scattergeo": [
           {
            "marker": {
             "colorbar": {
              "outlinewidth": 0,
              "ticks": ""
             }
            },
            "type": "scattergeo"
           }
          ],
          "scattergl": [
           {
            "marker": {
             "colorbar": {
              "outlinewidth": 0,
              "ticks": ""
             }
            },
            "type": "scattergl"
           }
          ],
          "scattermapbox": [
           {
            "marker": {
             "colorbar": {
              "outlinewidth": 0,
              "ticks": ""
             }
            },
            "type": "scattermapbox"
           }
          ],
          "scatterpolar": [
           {
            "marker": {
             "colorbar": {
              "outlinewidth": 0,
              "ticks": ""
             }
            },
            "type": "scatterpolar"
           }
          ],
          "scatterpolargl": [
           {
            "marker": {
             "colorbar": {
              "outlinewidth": 0,
              "ticks": ""
             }
            },
            "type": "scatterpolargl"
           }
          ],
          "scatterternary": [
           {
            "marker": {
             "colorbar": {
              "outlinewidth": 0,
              "ticks": ""
             }
            },
            "type": "scatterternary"
           }
          ],
          "surface": [
           {
            "colorbar": {
             "outlinewidth": 0,
             "ticks": ""
            },
            "colorscale": [
             [
              0,
              "#0d0887"
             ],
             [
              0.1111111111111111,
              "#46039f"
             ],
             [
              0.2222222222222222,
              "#7201a8"
             ],
             [
              0.3333333333333333,
              "#9c179e"
             ],
             [
              0.4444444444444444,
              "#bd3786"
             ],
             [
              0.5555555555555556,
              "#d8576b"
             ],
             [
              0.6666666666666666,
              "#ed7953"
             ],
             [
              0.7777777777777778,
              "#fb9f3a"
             ],
             [
              0.8888888888888888,
              "#fdca26"
             ],
             [
              1,
              "#f0f921"
             ]
            ],
            "type": "surface"
           }
          ],
          "table": [
           {
            "cells": {
             "fill": {
              "color": "#EBF0F8"
             },
             "line": {
              "color": "white"
             }
            },
            "header": {
             "fill": {
              "color": "#C8D4E3"
             },
             "line": {
              "color": "white"
             }
            },
            "type": "table"
           }
          ]
         },
         "layout": {
          "annotationdefaults": {
           "arrowcolor": "#2a3f5f",
           "arrowhead": 0,
           "arrowwidth": 1
          },
          "autotypenumbers": "strict",
          "coloraxis": {
           "colorbar": {
            "outlinewidth": 0,
            "ticks": ""
           }
          },
          "colorscale": {
           "diverging": [
            [
             0,
             "#8e0152"
            ],
            [
             0.1,
             "#c51b7d"
            ],
            [
             0.2,
             "#de77ae"
            ],
            [
             0.3,
             "#f1b6da"
            ],
            [
             0.4,
             "#fde0ef"
            ],
            [
             0.5,
             "#f7f7f7"
            ],
            [
             0.6,
             "#e6f5d0"
            ],
            [
             0.7,
             "#b8e186"
            ],
            [
             0.8,
             "#7fbc41"
            ],
            [
             0.9,
             "#4d9221"
            ],
            [
             1,
             "#276419"
            ]
           ],
           "sequential": [
            [
             0,
             "#0d0887"
            ],
            [
             0.1111111111111111,
             "#46039f"
            ],
            [
             0.2222222222222222,
             "#7201a8"
            ],
            [
             0.3333333333333333,
             "#9c179e"
            ],
            [
             0.4444444444444444,
             "#bd3786"
            ],
            [
             0.5555555555555556,
             "#d8576b"
            ],
            [
             0.6666666666666666,
             "#ed7953"
            ],
            [
             0.7777777777777778,
             "#fb9f3a"
            ],
            [
             0.8888888888888888,
             "#fdca26"
            ],
            [
             1,
             "#f0f921"
            ]
           ],
           "sequentialminus": [
            [
             0,
             "#0d0887"
            ],
            [
             0.1111111111111111,
             "#46039f"
            ],
            [
             0.2222222222222222,
             "#7201a8"
            ],
            [
             0.3333333333333333,
             "#9c179e"
            ],
            [
             0.4444444444444444,
             "#bd3786"
            ],
            [
             0.5555555555555556,
             "#d8576b"
            ],
            [
             0.6666666666666666,
             "#ed7953"
            ],
            [
             0.7777777777777778,
             "#fb9f3a"
            ],
            [
             0.8888888888888888,
             "#fdca26"
            ],
            [
             1,
             "#f0f921"
            ]
           ]
          },
          "colorway": [
           "#636efa",
           "#EF553B",
           "#00cc96",
           "#ab63fa",
           "#FFA15A",
           "#19d3f3",
           "#FF6692",
           "#B6E880",
           "#FF97FF",
           "#FECB52"
          ],
          "font": {
           "color": "#2a3f5f"
          },
          "geo": {
           "bgcolor": "white",
           "lakecolor": "white",
           "landcolor": "#E5ECF6",
           "showlakes": true,
           "showland": true,
           "subunitcolor": "white"
          },
          "hoverlabel": {
           "align": "left"
          },
          "hovermode": "closest",
          "mapbox": {
           "style": "light"
          },
          "paper_bgcolor": "white",
          "plot_bgcolor": "#E5ECF6",
          "polar": {
           "angularaxis": {
            "gridcolor": "white",
            "linecolor": "white",
            "ticks": ""
           },
           "bgcolor": "#E5ECF6",
           "radialaxis": {
            "gridcolor": "white",
            "linecolor": "white",
            "ticks": ""
           }
          },
          "scene": {
           "xaxis": {
            "backgroundcolor": "#E5ECF6",
            "gridcolor": "white",
            "gridwidth": 2,
            "linecolor": "white",
            "showbackground": true,
            "ticks": "",
            "zerolinecolor": "white"
           },
           "yaxis": {
            "backgroundcolor": "#E5ECF6",
            "gridcolor": "white",
            "gridwidth": 2,
            "linecolor": "white",
            "showbackground": true,
            "ticks": "",
            "zerolinecolor": "white"
           },
           "zaxis": {
            "backgroundcolor": "#E5ECF6",
            "gridcolor": "white",
            "gridwidth": 2,
            "linecolor": "white",
            "showbackground": true,
            "ticks": "",
            "zerolinecolor": "white"
           }
          },
          "shapedefaults": {
           "line": {
            "color": "#2a3f5f"
           }
          },
          "ternary": {
           "aaxis": {
            "gridcolor": "white",
            "linecolor": "white",
            "ticks": ""
           },
           "baxis": {
            "gridcolor": "white",
            "linecolor": "white",
            "ticks": ""
           },
           "bgcolor": "#E5ECF6",
           "caxis": {
            "gridcolor": "white",
            "linecolor": "white",
            "ticks": ""
           }
          },
          "title": {
           "x": 0.05
          },
          "xaxis": {
           "automargin": true,
           "gridcolor": "white",
           "linecolor": "white",
           "ticks": "",
           "title": {
            "standoff": 15
           },
           "zerolinecolor": "white",
           "zerolinewidth": 2
          },
          "yaxis": {
           "automargin": true,
           "gridcolor": "white",
           "linecolor": "white",
           "ticks": "",
           "title": {
            "standoff": 15
           },
           "zerolinecolor": "white",
           "zerolinewidth": 2
          }
         }
        },
        "title": {
         "text": "Значения коэффициента неблагополучия стран"
        },
        "width": 1000
       }
      }
     },
     "metadata": {},
     "output_type": "display_data"
    },
    {
     "data": {
      "text/html": [
       "<img src=\"../plotly/negative_coef_earh.png\" /><br />"
      ],
      "text/plain": [
       "<IPython.core.display.HTML object>"
      ]
     },
     "metadata": {},
     "output_type": "display_data"
    },
    {
     "data": {
      "text/html": [
       "<em>html графика в файле <a href=\"../plotly/negative_coef_earh.html\" target=\"_blank\">../plotly/negative_coef_earh.html</a></em>"
      ],
      "text/plain": [
       "<IPython.core.display.HTML object>"
      ]
     },
     "metadata": {},
     "output_type": "display_data"
    }
   ],
   "source": [
    "# Отобразим график \n",
    "fig = px.choropleth(\n",
    "    scaled_mean_data, \n",
    "    locations=F.SpatialDimValueCode.value, \n",
    "    color=F.NegativeCoef.value,\n",
    "    hover_name=F.Location.value,\n",
    "    projection='natural earth',\n",
    "    width=1000,\n",
    "    height=700,\n",
    "    title='Значения коэффициента неблагополучия стран',\n",
    ")\n",
    "\n",
    "show_and_save_fig(fig, 'negative_coef_earh')"
   ]
  },
  {
   "cell_type": "markdown",
   "metadata": {},
   "source": [
    "Наибольшая степень неблагополучия все так же в Африке."
   ]
  },
  {
   "cell_type": "markdown",
   "metadata": {},
   "source": [
    "## Добавление коэффициентов в основную таблицу"
   ]
  },
  {
   "cell_type": "code",
   "execution_count": 26,
   "metadata": {},
   "outputs": [
    {
     "data": {
      "text/html": [
       "<div>\n",
       "<style scoped>\n",
       "    .dataframe tbody tr th:only-of-type {\n",
       "        vertical-align: middle;\n",
       "    }\n",
       "\n",
       "    .dataframe tbody tr th {\n",
       "        vertical-align: top;\n",
       "    }\n",
       "\n",
       "    .dataframe thead th {\n",
       "        text-align: right;\n",
       "    }\n",
       "</style>\n",
       "<table border=\"1\" class=\"dataframe\">\n",
       "  <thead>\n",
       "    <tr style=\"text-align: right;\">\n",
       "      <th></th>\n",
       "      <th>ParentLocationCode</th>\n",
       "      <th>ParentLocation</th>\n",
       "      <th>SpatialDimValueCode</th>\n",
       "      <th>Location</th>\n",
       "      <th>Period</th>\n",
       "      <th>AdultMortality</th>\n",
       "      <th>Homicides</th>\n",
       "      <th>MaternalMortality</th>\n",
       "      <th>AdultNcdMortality</th>\n",
       "      <th>AdultNcdMortality117</th>\n",
       "      <th>...</th>\n",
       "      <th>HealthCareCosts</th>\n",
       "      <th>HealthCareCostsGdp</th>\n",
       "      <th>HealthCareCostsPerCapita</th>\n",
       "      <th>GdpPerCapita</th>\n",
       "      <th>Population</th>\n",
       "      <th>Schooling</th>\n",
       "      <th>ClusterKMeans</th>\n",
       "      <th>PositiveCoef</th>\n",
       "      <th>NegativeCoef</th>\n",
       "      <th>LifeExpectancy</th>\n",
       "    </tr>\n",
       "  </thead>\n",
       "  <tbody>\n",
       "    <tr>\n",
       "      <th>0</th>\n",
       "      <td>AFR</td>\n",
       "      <td>Africa</td>\n",
       "      <td>AGO</td>\n",
       "      <td>Angola</td>\n",
       "      <td>2000</td>\n",
       "      <td>34.56</td>\n",
       "      <td>0.01331</td>\n",
       "      <td>0.859921</td>\n",
       "      <td>30.5</td>\n",
       "      <td>0.028126</td>\n",
       "      <td>...</td>\n",
       "      <td>2.74</td>\n",
       "      <td>1.11</td>\n",
       "      <td>7.66</td>\n",
       "      <td>563.733796</td>\n",
       "      <td>16194869.0</td>\n",
       "      <td>5.027188</td>\n",
       "      <td>1</td>\n",
       "      <td>0.8266</td>\n",
       "      <td>0.874081</td>\n",
       "      <td>49.37</td>\n",
       "    </tr>\n",
       "    <tr>\n",
       "      <th>1</th>\n",
       "      <td>AFR</td>\n",
       "      <td>Africa</td>\n",
       "      <td>AGO</td>\n",
       "      <td>Angola</td>\n",
       "      <td>2001</td>\n",
       "      <td>33.86</td>\n",
       "      <td>0.01310</td>\n",
       "      <td>0.799641</td>\n",
       "      <td>29.7</td>\n",
       "      <td>0.027503</td>\n",
       "      <td>...</td>\n",
       "      <td>5.97</td>\n",
       "      <td>2.05</td>\n",
       "      <td>13.35</td>\n",
       "      <td>533.586202</td>\n",
       "      <td>16747208.0</td>\n",
       "      <td>5.092250</td>\n",
       "      <td>1</td>\n",
       "      <td>0.8266</td>\n",
       "      <td>0.874081</td>\n",
       "      <td>50.06</td>\n",
       "    </tr>\n",
       "    <tr>\n",
       "      <th>2</th>\n",
       "      <td>AFR</td>\n",
       "      <td>Africa</td>\n",
       "      <td>AGO</td>\n",
       "      <td>Angola</td>\n",
       "      <td>2002</td>\n",
       "      <td>32.51</td>\n",
       "      <td>0.01288</td>\n",
       "      <td>0.758272</td>\n",
       "      <td>29.4</td>\n",
       "      <td>0.027049</td>\n",
       "      <td>...</td>\n",
       "      <td>4.19</td>\n",
       "      <td>1.31</td>\n",
       "      <td>11.54</td>\n",
       "      <td>882.147847</td>\n",
       "      <td>17327699.0</td>\n",
       "      <td>5.157312</td>\n",
       "      <td>1</td>\n",
       "      <td>0.8266</td>\n",
       "      <td>0.874081</td>\n",
       "      <td>51.06</td>\n",
       "    </tr>\n",
       "    <tr>\n",
       "      <th>3</th>\n",
       "      <td>AFR</td>\n",
       "      <td>Africa</td>\n",
       "      <td>AGO</td>\n",
       "      <td>Angola</td>\n",
       "      <td>2003</td>\n",
       "      <td>32.16</td>\n",
       "      <td>0.01265</td>\n",
       "      <td>0.676496</td>\n",
       "      <td>29.3</td>\n",
       "      <td>0.026962</td>\n",
       "      <td>...</td>\n",
       "      <td>4.26</td>\n",
       "      <td>1.47</td>\n",
       "      <td>14.55</td>\n",
       "      <td>992.698979</td>\n",
       "      <td>17943712.0</td>\n",
       "      <td>5.222375</td>\n",
       "      <td>1</td>\n",
       "      <td>0.8266</td>\n",
       "      <td>0.874081</td>\n",
       "      <td>51.74</td>\n",
       "    </tr>\n",
       "    <tr>\n",
       "      <th>4</th>\n",
       "      <td>AFR</td>\n",
       "      <td>Africa</td>\n",
       "      <td>AGO</td>\n",
       "      <td>Angola</td>\n",
       "      <td>2004</td>\n",
       "      <td>32.24</td>\n",
       "      <td>0.01229</td>\n",
       "      <td>0.594192</td>\n",
       "      <td>29.0</td>\n",
       "      <td>0.026300</td>\n",
       "      <td>...</td>\n",
       "      <td>5.66</td>\n",
       "      <td>1.69</td>\n",
       "      <td>21.36</td>\n",
       "      <td>1266.210864</td>\n",
       "      <td>18600423.0</td>\n",
       "      <td>5.287437</td>\n",
       "      <td>1</td>\n",
       "      <td>0.8266</td>\n",
       "      <td>0.874081</td>\n",
       "      <td>52.36</td>\n",
       "    </tr>\n",
       "  </tbody>\n",
       "</table>\n",
       "<p>5 rows × 42 columns</p>\n",
       "</div>"
      ],
      "text/plain": [
       "  ParentLocationCode ParentLocation SpatialDimValueCode Location  Period  \\\n",
       "0                AFR         Africa                 AGO   Angola    2000   \n",
       "1                AFR         Africa                 AGO   Angola    2001   \n",
       "2                AFR         Africa                 AGO   Angola    2002   \n",
       "3                AFR         Africa                 AGO   Angola    2003   \n",
       "4                AFR         Africa                 AGO   Angola    2004   \n",
       "\n",
       "   AdultMortality  Homicides  MaternalMortality  AdultNcdMortality  \\\n",
       "0           34.56    0.01331           0.859921               30.5   \n",
       "1           33.86    0.01310           0.799641               29.7   \n",
       "2           32.51    0.01288           0.758272               29.4   \n",
       "3           32.16    0.01265           0.676496               29.3   \n",
       "4           32.24    0.01229           0.594192               29.0   \n",
       "\n",
       "   AdultNcdMortality117  ...  HealthCareCosts  HealthCareCostsGdp  \\\n",
       "0              0.028126  ...             2.74                1.11   \n",
       "1              0.027503  ...             5.97                2.05   \n",
       "2              0.027049  ...             4.19                1.31   \n",
       "3              0.026962  ...             4.26                1.47   \n",
       "4              0.026300  ...             5.66                1.69   \n",
       "\n",
       "   HealthCareCostsPerCapita  GdpPerCapita  Population  Schooling  \\\n",
       "0                      7.66    563.733796  16194869.0   5.027188   \n",
       "1                     13.35    533.586202  16747208.0   5.092250   \n",
       "2                     11.54    882.147847  17327699.0   5.157312   \n",
       "3                     14.55    992.698979  17943712.0   5.222375   \n",
       "4                     21.36   1266.210864  18600423.0   5.287437   \n",
       "\n",
       "   ClusterKMeans  PositiveCoef  NegativeCoef  LifeExpectancy  \n",
       "0              1        0.8266      0.874081           49.37  \n",
       "1              1        0.8266      0.874081           50.06  \n",
       "2              1        0.8266      0.874081           51.06  \n",
       "3              1        0.8266      0.874081           51.74  \n",
       "4              1        0.8266      0.874081           52.36  \n",
       "\n",
       "[5 rows x 42 columns]"
      ]
     },
     "execution_count": 26,
     "metadata": {},
     "output_type": "execute_result"
    }
   ],
   "source": [
    "# Добавим полученные коэффициенты в основную таблицу\n",
    "data = data.merge(\n",
    "    scaled_mean_data[[\n",
    "        F.SpatialDimValueCode.value, F.PositiveCoef.value, F.NegativeCoef.value\n",
    "    ]],\n",
    "    on=F.SpatialDimValueCode.value,\n",
    "    how='left',\n",
    ")\n",
    "# Переставим столбец с таргетом в конец таблицы\n",
    "data = move_column_to_end_table(data, F.LifeExpectancy.value)\n",
    "\n",
    "data.head()"
   ]
  },
  {
   "cell_type": "markdown",
   "metadata": {},
   "source": [
    "## Корреляция коэффициентов с целевой переменной"
   ]
  },
  {
   "cell_type": "markdown",
   "metadata": {},
   "source": [
    "Теперь посмотрим, как созданные коэффициенты коррелируют с целевой переменной."
   ]
  },
  {
   "cell_type": "code",
   "execution_count": 27,
   "metadata": {},
   "outputs": [
    {
     "data": {
      "image/png": "[encoded data removed]",
      "text/plain": [
       "<Figure size 1440x576 with 1 Axes>"
      ]
     },
     "metadata": {
      "needs_background": "light"
     },
     "output_type": "display_data"
    },
    {
     "data": {
      "text/html": [
       "<div style=\"margin-left: 45px\"}><font color=\"LightCoral\"><strong>Положительная корреляция</strong></font><br /><font color=\"DodgerBlue\"><strong>Отрицательная корреляция</strong></font></div>"
      ],
      "text/plain": [
       "<IPython.core.display.HTML object>"
      ]
     },
     "metadata": {},
     "output_type": "display_data"
    }
   ],
   "source": [
    "display_corellation_by_target(data, figsize=(20, 8))"
   ]
  },
  {
   "cell_type": "markdown",
   "metadata": {},
   "source": [
    "Признак `PositiveCoef` имеет положительную корреляцию с целевой переменной, близкую к 0.8. \\\n",
    "А  `NegativeCoef` - отрицательную корреляцию, близкую к 0.5."
   ]
  },
  {
   "cell_type": "markdown",
   "metadata": {},
   "source": [
    "> Логика создания коэффициентов продублирована в классе [LocationCoef](../classes/LocationCoef.py) из папки [classes](../classes/).\\\n",
    "В основную таблицу добавлять их будем непосредственно перед прогнозом отдельно в тренировочные и тестовые данные."
   ]
  }
 ],
 "metadata": {
  "kernelspec": {
   "display_name": "Python 3",
   "language": "python",
   "name": "python3"
  },
  "language_info": {
   "codemirror_mode": {
    "name": "ipython",
    "version": 3
   },
   "file_extension": ".py",
   "mimetype": "text/x-python",
   "name": "python",
   "nbconvert_exporter": "python",
   "pygments_lexer": "ipython3",
   "version": "3.9.10"
  }
 },
 "nbformat": 4,
 "nbformat_minor": 2
}
