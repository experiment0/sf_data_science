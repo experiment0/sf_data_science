{
 "cells": [
  {
   "cell_type": "markdown",
   "metadata": {},
   "source": [
    "# Исследование факторов, связанных с отклонениями индекса массы тела и употреблением алгоголя"
   ]
  },
  {
   "cell_type": "code",
   "execution_count": 73,
   "metadata": {},
   "outputs": [],
   "source": [
    "import sys\n",
    "# Добавим папку проекта в список системных директорий, чтобы Python видел путь к папке utils\n",
    "sys.path.append('..')"
   ]
  },
  {
   "cell_type": "code",
   "execution_count": 74,
   "metadata": {},
   "outputs": [],
   "source": [
    "import pandas as pd\n",
    "import matplotlib.pyplot as plt \n",
    "import seaborn as sns \n",
    "\n",
    "from utils.constants import (\n",
    "    F, \n",
    "    FieldSemanticCategory,\n",
    ")\n",
    "from utils.graphics import (\n",
    "    display_corellation_by_target,\n",
    "    display_clusters_profiles,\n",
    ")\n",
    "from utils.display_content import (\n",
    "    dislay_some_fields_description,\n",
    "    display_field_description,\n",
    ")\n",
    "from utils.prepare_data import (\n",
    "    get_fields_by_semantic_category,\n",
    "    get_temp_rename_dict,\n",
    "    add_child_mortality_data,\n",
    "    get_scaled_data,\n",
    ")\n",
    "\n",
    "from warnings import simplefilter\n",
    "simplefilter('ignore')"
   ]
  },
  {
   "cell_type": "code",
   "execution_count": 75,
   "metadata": {},
   "outputs": [
    {
     "data": {
      "text/html": [
       "<div>\n",
       "<style scoped>\n",
       "    .dataframe tbody tr th:only-of-type {\n",
       "        vertical-align: middle;\n",
       "    }\n",
       "\n",
       "    .dataframe tbody tr th {\n",
       "        vertical-align: top;\n",
       "    }\n",
       "\n",
       "    .dataframe thead th {\n",
       "        text-align: right;\n",
       "    }\n",
       "</style>\n",
       "<table border=\"1\" class=\"dataframe\">\n",
       "  <thead>\n",
       "    <tr style=\"text-align: right;\">\n",
       "      <th></th>\n",
       "      <th>ParentLocationCode</th>\n",
       "      <th>ParentLocation</th>\n",
       "      <th>SpatialDimValueCode</th>\n",
       "      <th>Location</th>\n",
       "      <th>Period</th>\n",
       "      <th>AdultMortality</th>\n",
       "      <th>Homicides</th>\n",
       "      <th>MaternalMortality</th>\n",
       "      <th>AdultNcdMortality</th>\n",
       "      <th>AdultNcdMortality117</th>\n",
       "      <th>...</th>\n",
       "      <th>Sanitation</th>\n",
       "      <th>DrinkingWater</th>\n",
       "      <th>HealthCareCosts</th>\n",
       "      <th>HealthCareCostsGdp</th>\n",
       "      <th>HealthCareCostsPerCapita</th>\n",
       "      <th>GdpPerCapita</th>\n",
       "      <th>Population</th>\n",
       "      <th>Schooling</th>\n",
       "      <th>ClusterKMeans</th>\n",
       "      <th>LifeExpectancy</th>\n",
       "    </tr>\n",
       "  </thead>\n",
       "  <tbody>\n",
       "    <tr>\n",
       "      <th>0</th>\n",
       "      <td>AFR</td>\n",
       "      <td>Africa</td>\n",
       "      <td>AGO</td>\n",
       "      <td>Angola</td>\n",
       "      <td>2000</td>\n",
       "      <td>34.56</td>\n",
       "      <td>0.01331</td>\n",
       "      <td>0.859921</td>\n",
       "      <td>30.5</td>\n",
       "      <td>0.028126</td>\n",
       "      <td>...</td>\n",
       "      <td>27.56</td>\n",
       "      <td>41.14</td>\n",
       "      <td>2.74</td>\n",
       "      <td>1.11</td>\n",
       "      <td>7.66</td>\n",
       "      <td>563.733796</td>\n",
       "      <td>16194869.0</td>\n",
       "      <td>5.027188</td>\n",
       "      <td>1</td>\n",
       "      <td>49.37</td>\n",
       "    </tr>\n",
       "    <tr>\n",
       "      <th>1</th>\n",
       "      <td>AFR</td>\n",
       "      <td>Africa</td>\n",
       "      <td>AGO</td>\n",
       "      <td>Angola</td>\n",
       "      <td>2001</td>\n",
       "      <td>33.86</td>\n",
       "      <td>0.01310</td>\n",
       "      <td>0.799641</td>\n",
       "      <td>29.7</td>\n",
       "      <td>0.027503</td>\n",
       "      <td>...</td>\n",
       "      <td>28.99</td>\n",
       "      <td>42.25</td>\n",
       "      <td>5.97</td>\n",
       "      <td>2.05</td>\n",
       "      <td>13.35</td>\n",
       "      <td>533.586202</td>\n",
       "      <td>16747208.0</td>\n",
       "      <td>5.092250</td>\n",
       "      <td>1</td>\n",
       "      <td>50.06</td>\n",
       "    </tr>\n",
       "    <tr>\n",
       "      <th>2</th>\n",
       "      <td>AFR</td>\n",
       "      <td>Africa</td>\n",
       "      <td>AGO</td>\n",
       "      <td>Angola</td>\n",
       "      <td>2002</td>\n",
       "      <td>32.51</td>\n",
       "      <td>0.01288</td>\n",
       "      <td>0.758272</td>\n",
       "      <td>29.4</td>\n",
       "      <td>0.027049</td>\n",
       "      <td>...</td>\n",
       "      <td>30.42</td>\n",
       "      <td>43.38</td>\n",
       "      <td>4.19</td>\n",
       "      <td>1.31</td>\n",
       "      <td>11.54</td>\n",
       "      <td>882.147847</td>\n",
       "      <td>17327699.0</td>\n",
       "      <td>5.157312</td>\n",
       "      <td>1</td>\n",
       "      <td>51.06</td>\n",
       "    </tr>\n",
       "    <tr>\n",
       "      <th>3</th>\n",
       "      <td>AFR</td>\n",
       "      <td>Africa</td>\n",
       "      <td>AGO</td>\n",
       "      <td>Angola</td>\n",
       "      <td>2003</td>\n",
       "      <td>32.16</td>\n",
       "      <td>0.01265</td>\n",
       "      <td>0.676496</td>\n",
       "      <td>29.3</td>\n",
       "      <td>0.026962</td>\n",
       "      <td>...</td>\n",
       "      <td>31.86</td>\n",
       "      <td>44.36</td>\n",
       "      <td>4.26</td>\n",
       "      <td>1.47</td>\n",
       "      <td>14.55</td>\n",
       "      <td>992.698979</td>\n",
       "      <td>17943712.0</td>\n",
       "      <td>5.222375</td>\n",
       "      <td>1</td>\n",
       "      <td>51.74</td>\n",
       "    </tr>\n",
       "    <tr>\n",
       "      <th>4</th>\n",
       "      <td>AFR</td>\n",
       "      <td>Africa</td>\n",
       "      <td>AGO</td>\n",
       "      <td>Angola</td>\n",
       "      <td>2004</td>\n",
       "      <td>32.24</td>\n",
       "      <td>0.01229</td>\n",
       "      <td>0.594192</td>\n",
       "      <td>29.0</td>\n",
       "      <td>0.026300</td>\n",
       "      <td>...</td>\n",
       "      <td>33.29</td>\n",
       "      <td>45.35</td>\n",
       "      <td>5.66</td>\n",
       "      <td>1.69</td>\n",
       "      <td>21.36</td>\n",
       "      <td>1266.210864</td>\n",
       "      <td>18600423.0</td>\n",
       "      <td>5.287437</td>\n",
       "      <td>1</td>\n",
       "      <td>52.36</td>\n",
       "    </tr>\n",
       "  </tbody>\n",
       "</table>\n",
       "<p>5 rows × 40 columns</p>\n",
       "</div>"
      ],
      "text/plain": [
       "  ParentLocationCode ParentLocation SpatialDimValueCode Location  Period  \\\n",
       "0                AFR         Africa                 AGO   Angola    2000   \n",
       "1                AFR         Africa                 AGO   Angola    2001   \n",
       "2                AFR         Africa                 AGO   Angola    2002   \n",
       "3                AFR         Africa                 AGO   Angola    2003   \n",
       "4                AFR         Africa                 AGO   Angola    2004   \n",
       "\n",
       "   AdultMortality  Homicides  MaternalMortality  AdultNcdMortality  \\\n",
       "0           34.56    0.01331           0.859921               30.5   \n",
       "1           33.86    0.01310           0.799641               29.7   \n",
       "2           32.51    0.01288           0.758272               29.4   \n",
       "3           32.16    0.01265           0.676496               29.3   \n",
       "4           32.24    0.01229           0.594192               29.0   \n",
       "\n",
       "   AdultNcdMortality117  ...  Sanitation  DrinkingWater  HealthCareCosts  \\\n",
       "0              0.028126  ...       27.56          41.14             2.74   \n",
       "1              0.027503  ...       28.99          42.25             5.97   \n",
       "2              0.027049  ...       30.42          43.38             4.19   \n",
       "3              0.026962  ...       31.86          44.36             4.26   \n",
       "4              0.026300  ...       33.29          45.35             5.66   \n",
       "\n",
       "   HealthCareCostsGdp  HealthCareCostsPerCapita  GdpPerCapita  Population  \\\n",
       "0                1.11                      7.66    563.733796  16194869.0   \n",
       "1                2.05                     13.35    533.586202  16747208.0   \n",
       "2                1.31                     11.54    882.147847  17327699.0   \n",
       "3                1.47                     14.55    992.698979  17943712.0   \n",
       "4                1.69                     21.36   1266.210864  18600423.0   \n",
       "\n",
       "   Schooling  ClusterKMeans  LifeExpectancy  \n",
       "0   5.027188              1           49.37  \n",
       "1   5.092250              1           50.06  \n",
       "2   5.157312              1           51.06  \n",
       "3   5.222375              1           51.74  \n",
       "4   5.287437              1           52.36  \n",
       "\n",
       "[5 rows x 40 columns]"
      ]
     },
     "execution_count": 75,
     "metadata": {},
     "output_type": "execute_result"
    }
   ],
   "source": [
    "# Загрузим таблицу\n",
    "data_source = pd.read_csv('../data/cumulative_life_expectancy_prepared.csv')\n",
    "\n",
    "data_source.head()"
   ]
  },
  {
   "cell_type": "markdown",
   "metadata": {},
   "source": [
    "Оставим в таблице только те поля, которые будем рассматривать."
   ]
  },
  {
   "cell_type": "code",
   "execution_count": 76,
   "metadata": {},
   "outputs": [
    {
     "data": {
      "text/html": [
       "<div>\n",
       "<style scoped>\n",
       "    .dataframe tbody tr th:only-of-type {\n",
       "        vertical-align: middle;\n",
       "    }\n",
       "\n",
       "    .dataframe tbody tr th {\n",
       "        vertical-align: top;\n",
       "    }\n",
       "\n",
       "    .dataframe thead th {\n",
       "        text-align: right;\n",
       "    }\n",
       "</style>\n",
       "<table border=\"1\" class=\"dataframe\">\n",
       "  <thead>\n",
       "    <tr style=\"text-align: right;\">\n",
       "      <th></th>\n",
       "      <th>AlcoholСonsumption</th>\n",
       "      <th>BmiAdultUnderweight</th>\n",
       "      <th>BmiAdultOverweight25</th>\n",
       "      <th>BmiAdultOverweight30</th>\n",
       "      <th>BmiChildThinness</th>\n",
       "      <th>BmiTeenagerThinness</th>\n",
       "      <th>BmiChildOverweight1</th>\n",
       "      <th>BmiTeenagerOverweight1</th>\n",
       "      <th>BmiChildOverweight2</th>\n",
       "      <th>BmiTeenagerOverweight2</th>\n",
       "      <th>ClusterKMeans</th>\n",
       "      <th>LifeExpectancy</th>\n",
       "    </tr>\n",
       "  </thead>\n",
       "  <tbody>\n",
       "    <tr>\n",
       "      <th>0</th>\n",
       "      <td>4.24</td>\n",
       "      <td>14.17</td>\n",
       "      <td>19.92</td>\n",
       "      <td>5.30</td>\n",
       "      <td>7.92</td>\n",
       "      <td>10.57</td>\n",
       "      <td>5.43</td>\n",
       "      <td>5.26</td>\n",
       "      <td>1.49</td>\n",
       "      <td>0.99</td>\n",
       "      <td>1</td>\n",
       "      <td>49.37</td>\n",
       "    </tr>\n",
       "    <tr>\n",
       "      <th>1</th>\n",
       "      <td>4.24</td>\n",
       "      <td>13.97</td>\n",
       "      <td>20.59</td>\n",
       "      <td>5.59</td>\n",
       "      <td>7.76</td>\n",
       "      <td>10.37</td>\n",
       "      <td>5.72</td>\n",
       "      <td>5.51</td>\n",
       "      <td>1.60</td>\n",
       "      <td>1.07</td>\n",
       "      <td>1</td>\n",
       "      <td>50.06</td>\n",
       "    </tr>\n",
       "    <tr>\n",
       "      <th>2</th>\n",
       "      <td>4.47</td>\n",
       "      <td>13.75</td>\n",
       "      <td>21.26</td>\n",
       "      <td>5.88</td>\n",
       "      <td>7.60</td>\n",
       "      <td>10.17</td>\n",
       "      <td>6.02</td>\n",
       "      <td>5.77</td>\n",
       "      <td>1.71</td>\n",
       "      <td>1.14</td>\n",
       "      <td>1</td>\n",
       "      <td>51.06</td>\n",
       "    </tr>\n",
       "    <tr>\n",
       "      <th>3</th>\n",
       "      <td>4.62</td>\n",
       "      <td>13.53</td>\n",
       "      <td>21.93</td>\n",
       "      <td>6.17</td>\n",
       "      <td>7.44</td>\n",
       "      <td>9.97</td>\n",
       "      <td>6.33</td>\n",
       "      <td>6.04</td>\n",
       "      <td>1.83</td>\n",
       "      <td>1.22</td>\n",
       "      <td>1</td>\n",
       "      <td>51.74</td>\n",
       "    </tr>\n",
       "    <tr>\n",
       "      <th>4</th>\n",
       "      <td>5.12</td>\n",
       "      <td>13.31</td>\n",
       "      <td>22.58</td>\n",
       "      <td>6.46</td>\n",
       "      <td>7.28</td>\n",
       "      <td>9.76</td>\n",
       "      <td>6.65</td>\n",
       "      <td>6.31</td>\n",
       "      <td>1.96</td>\n",
       "      <td>1.31</td>\n",
       "      <td>1</td>\n",
       "      <td>52.36</td>\n",
       "    </tr>\n",
       "  </tbody>\n",
       "</table>\n",
       "</div>"
      ],
      "text/plain": [
       "   AlcoholСonsumption  BmiAdultUnderweight  BmiAdultOverweight25  \\\n",
       "0                4.24                14.17                 19.92   \n",
       "1                4.24                13.97                 20.59   \n",
       "2                4.47                13.75                 21.26   \n",
       "3                4.62                13.53                 21.93   \n",
       "4                5.12                13.31                 22.58   \n",
       "\n",
       "   BmiAdultOverweight30  BmiChildThinness  BmiTeenagerThinness  \\\n",
       "0                  5.30              7.92                10.57   \n",
       "1                  5.59              7.76                10.37   \n",
       "2                  5.88              7.60                10.17   \n",
       "3                  6.17              7.44                 9.97   \n",
       "4                  6.46              7.28                 9.76   \n",
       "\n",
       "   BmiChildOverweight1  BmiTeenagerOverweight1  BmiChildOverweight2  \\\n",
       "0                 5.43                    5.26                 1.49   \n",
       "1                 5.72                    5.51                 1.60   \n",
       "2                 6.02                    5.77                 1.71   \n",
       "3                 6.33                    6.04                 1.83   \n",
       "4                 6.65                    6.31                 1.96   \n",
       "\n",
       "   BmiTeenagerOverweight2  ClusterKMeans  LifeExpectancy  \n",
       "0                    0.99              1           49.37  \n",
       "1                    1.07              1           50.06  \n",
       "2                    1.14              1           51.06  \n",
       "3                    1.22              1           51.74  \n",
       "4                    1.31              1           52.36  "
      ]
     },
     "execution_count": 76,
     "metadata": {},
     "output_type": "execute_result"
    }
   ],
   "source": [
    "# Поля с данными индекса массы тела и употребления алкоголя\n",
    "health_fields = get_fields_by_semantic_category(\n",
    "    FieldSemanticCategory.HEALTH.value\n",
    ")\n",
    "\n",
    "# Оставим в таблице только рассматриваемые поля\n",
    "field_names = health_fields + [F.ClusterKMeans.value, F.LifeExpectancy.value]\n",
    "\n",
    "data = data_source[field_names]\n",
    "\n",
    "data.head()"
   ]
  },
  {
   "cell_type": "code",
   "execution_count": 77,
   "metadata": {},
   "outputs": [
    {
     "data": {
      "text/markdown": [
       "**Описание полей:**"
      ],
      "text/plain": [
       "<IPython.core.display.Markdown object>"
      ]
     },
     "metadata": {},
     "output_type": "display_data"
    },
    {
     "data": {
      "text/markdown": [
       "- `AlcoholСonsumption` - Потребление алкоголя на душу населения (15+) (в литрах чистого алкоголя)"
      ],
      "text/plain": [
       "<IPython.core.display.Markdown object>"
      ]
     },
     "metadata": {},
     "output_type": "display_data"
    },
    {
     "data": {
      "text/markdown": [
       "- `BmiAdultUnderweight` - Распространенность недостаточного веса среди взрослых, ИМТ < 18,5 (стандартизированная по возрасту оценка) (%)"
      ],
      "text/plain": [
       "<IPython.core.display.Markdown object>"
      ]
     },
     "metadata": {},
     "output_type": "display_data"
    },
    {
     "data": {
      "text/markdown": [
       "- `BmiAdultOverweight25` - Распространенность избыточного веса среди взрослых, ИМТ >= 25 (стандартизированная по возрасту оценка) (%)"
      ],
      "text/plain": [
       "<IPython.core.display.Markdown object>"
      ]
     },
     "metadata": {},
     "output_type": "display_data"
    },
    {
     "data": {
      "text/markdown": [
       "- `BmiAdultOverweight30` - Распространенность ожирения среди взрослых, ИМТ >= 30 (стандартизированная по возрасту оценка) (%)"
      ],
      "text/plain": [
       "<IPython.core.display.Markdown object>"
      ]
     },
     "metadata": {},
     "output_type": "display_data"
    },
    {
     "data": {
      "text/markdown": [
       "- `BmiChildThinness` - Распространенность худобы среди детей 5-9 лет, ИМТ < -2 стандартных отклонений ниже медианы (грубая оценка) (%)"
      ],
      "text/plain": [
       "<IPython.core.display.Markdown object>"
      ]
     },
     "metadata": {},
     "output_type": "display_data"
    },
    {
     "data": {
      "text/markdown": [
       "- `BmiTeenagerThinness` - Распространенность худобы среди подростков 10-19 лет, ИМТ < -2 стандартных отклонений ниже медианы (грубая оценка) (%)"
      ],
      "text/plain": [
       "<IPython.core.display.Markdown object>"
      ]
     },
     "metadata": {},
     "output_type": "display_data"
    },
    {
     "data": {
      "text/markdown": [
       "- `BmiChildOverweight1` - Распространенность избыточного веса среди детей 5-9 лет, ИМТ > +1 стандартного отклонения выше медианы (грубая оценка) (%)"
      ],
      "text/plain": [
       "<IPython.core.display.Markdown object>"
      ]
     },
     "metadata": {},
     "output_type": "display_data"
    },
    {
     "data": {
      "text/markdown": [
       "- `BmiTeenagerOverweight1` - Распространенность избыточного веса среди подростков 10-19 лет, ИМТ > +1 стандартного отклонения выше медианы (грубая оценка) (%)"
      ],
      "text/plain": [
       "<IPython.core.display.Markdown object>"
      ]
     },
     "metadata": {},
     "output_type": "display_data"
    },
    {
     "data": {
      "text/markdown": [
       "- `BmiChildOverweight2` - Распространенность ожирения среди детей 5-9 лет, ИМТ > +2 стандартных отклонений выше медианы (грубая оценка) (%)"
      ],
      "text/plain": [
       "<IPython.core.display.Markdown object>"
      ]
     },
     "metadata": {},
     "output_type": "display_data"
    },
    {
     "data": {
      "text/markdown": [
       "- `BmiTeenagerOverweight2` - Распространенность ожирения среди подростков 10-19 лет, ИМТ > +2 стандартных отклонений выше медианы (грубая оценка) (%)"
      ],
      "text/plain": [
       "<IPython.core.display.Markdown object>"
      ]
     },
     "metadata": {},
     "output_type": "display_data"
    },
    {
     "data": {
      "text/markdown": [
       "- `ClusterKMeans` - Кластер страны, определенный с помощью k-means"
      ],
      "text/plain": [
       "<IPython.core.display.Markdown object>"
      ]
     },
     "metadata": {},
     "output_type": "display_data"
    },
    {
     "data": {
      "text/markdown": [
       "- `LifeExpectancy` - Ожидаемая продоложительность жизни"
      ],
      "text/plain": [
       "<IPython.core.display.Markdown object>"
      ]
     },
     "metadata": {},
     "output_type": "display_data"
    }
   ],
   "source": [
    "dislay_some_fields_description(field_names)"
   ]
  },
  {
   "cell_type": "markdown",
   "metadata": {},
   "source": [
    "## Сравнение средних показателей индекса массы тела и употребления алкоголя в кластерах стран"
   ]
  },
  {
   "cell_type": "code",
   "execution_count": 78,
   "metadata": {},
   "outputs": [],
   "source": [
    "# Для большей наглядности возьмем среднее по признакам повышенного и пониженного BMI\n",
    "\n",
    "# Среднее по факторам повышенного BMI\n",
    "data['BmiOverweightMean'] = data[[\n",
    "    F.BmiChildOverweight1.value,\n",
    "    F.BmiChildOverweight2.value,\n",
    "    F.BmiTeenagerOverweight1.value,\n",
    "    F.BmiTeenagerOverweight2.value,\n",
    "    F.BmiAdultOverweight25.value,\n",
    "    F.BmiAdultOverweight30.value,\n",
    "]].mean(axis=1)\n",
    "\n",
    "# Среднее по факторам пониженного BMI\n",
    "data['BmiUnderweightMean'] = data[[\n",
    "    F.BmiAdultUnderweight.value,\n",
    "    F.BmiChildThinness.value,\n",
    "    F.BmiTeenagerThinness.value,\n",
    "]].mean(axis=1)\n",
    "\n",
    "health_data = data[[\n",
    "    'BmiOverweightMean', \n",
    "    'BmiUnderweightMean', \n",
    "    F.AlcoholСonsumption.value,\n",
    "    F.ClusterKMeans.value, \n",
    "    F.LifeExpectancy.value,\n",
    "]]"
   ]
  },
  {
   "cell_type": "code",
   "execution_count": 79,
   "metadata": {},
   "outputs": [
    {
     "data": {
      "application/vnd.plotly.v1+json": {
       "config": {
        "plotlyServerURL": "https://plot.ly"
       },
       "data": [
        {
         "fill": "toself",
         "name": "Cluster 0",
         "r": [
          0.4369045979950565,
          0.09669729659420383,
          0.3411583695659711,
          0.7875475175251463
         ],
         "theta": [
          "BmiOverweightMean",
          "BmiUnderweightMean",
          "AlcoholСonsumption",
          "LifeExpectancy"
         ],
         "type": "scatterpolar"
        },
        {
         "fill": "toself",
         "name": "Cluster 1",
         "r": [
          0.15405322381391157,
          0.3160045409916544,
          0.14344214176496287,
          0.4680395760093748
         ],
         "theta": [
          "BmiOverweightMean",
          "BmiUnderweightMean",
          "AlcoholСonsumption",
          "LifeExpectancy"
         ],
         "type": "scatterpolar"
        }
       ],
       "layout": {
        "showlegend": true,
        "template": {
         "data": {
          "bar": [
           {
            "error_x": {
             "color": "#2a3f5f"
            },
            "error_y": {
             "color": "#2a3f5f"
            },
            "marker": {
             "line": {
              "color": "#E5ECF6",
              "width": 0.5
             },
             "pattern": {
              "fillmode": "overlay",
              "size": 10,
              "solidity": 0.2
             }
            },
            "type": "bar"
           }
          ],
          "barpolar": [
           {
            "marker": {
             "line": {
              "color": "#E5ECF6",
              "width": 0.5
             },
             "pattern": {
              "fillmode": "overlay",
              "size": 10,
              "solidity": 0.2
             }
            },
            "type": "barpolar"
           }
          ],
          "carpet": [
           {
            "aaxis": {
             "endlinecolor": "#2a3f5f",
             "gridcolor": "white",
             "linecolor": "white",
             "minorgridcolor": "white",
             "startlinecolor": "#2a3f5f"
            },
            "baxis": {
             "endlinecolor": "#2a3f5f",
             "gridcolor": "white",
             "linecolor": "white",
             "minorgridcolor": "white",
             "startlinecolor": "#2a3f5f"
            },
            "type": "carpet"
           }
          ],
          "choropleth": [
           {
            "colorbar": {
             "outlinewidth": 0,
             "ticks": ""
            },
            "type": "choropleth"
           }
          ],
          "contour": [
           {
            "colorbar": {
             "outlinewidth": 0,
             "ticks": ""
            },
            "colorscale": [
             [
              0,
              "#0d0887"
             ],
             [
              0.1111111111111111,
              "#46039f"
             ],
             [
              0.2222222222222222,
              "#7201a8"
             ],
             [
              0.3333333333333333,
              "#9c179e"
             ],
             [
              0.4444444444444444,
              "#bd3786"
             ],
             [
              0.5555555555555556,
              "#d8576b"
             ],
             [
              0.6666666666666666,
              "#ed7953"
             ],
             [
              0.7777777777777778,
              "#fb9f3a"
             ],
             [
              0.8888888888888888,
              "#fdca26"
             ],
             [
              1,
              "#f0f921"
             ]
            ],
            "type": "contour"
           }
          ],
          "contourcarpet": [
           {
            "colorbar": {
             "outlinewidth": 0,
             "ticks": ""
            },
            "type": "contourcarpet"
           }
          ],
          "heatmap": [
           {
            "colorbar": {
             "outlinewidth": 0,
             "ticks": ""
            },
            "colorscale": [
             [
              0,
              "#0d0887"
             ],
             [
              0.1111111111111111,
              "#46039f"
             ],
             [
              0.2222222222222222,
              "#7201a8"
             ],
             [
              0.3333333333333333,
              "#9c179e"
             ],
             [
              0.4444444444444444,
              "#bd3786"
             ],
             [
              0.5555555555555556,
              "#d8576b"
             ],
             [
              0.6666666666666666,
              "#ed7953"
             ],
             [
              0.7777777777777778,
              "#fb9f3a"
             ],
             [
              0.8888888888888888,
              "#fdca26"
             ],
             [
              1,
              "#f0f921"
             ]
            ],
            "type": "heatmap"
           }
          ],
          "heatmapgl": [
           {
            "colorbar": {
             "outlinewidth": 0,
             "ticks": ""
            },
            "colorscale": [
             [
              0,
              "#0d0887"
             ],
             [
              0.1111111111111111,
              "#46039f"
             ],
             [
              0.2222222222222222,
              "#7201a8"
             ],
             [
              0.3333333333333333,
              "#9c179e"
             ],
             [
              0.4444444444444444,
              "#bd3786"
             ],
             [
              0.5555555555555556,
              "#d8576b"
             ],
             [
              0.6666666666666666,
              "#ed7953"
             ],
             [
              0.7777777777777778,
              "#fb9f3a"
             ],
             [
              0.8888888888888888,
              "#fdca26"
             ],
             [
              1,
              "#f0f921"
             ]
            ],
            "type": "heatmapgl"
           }
          ],
          "histogram": [
           {
            "marker": {
             "pattern": {
              "fillmode": "overlay",
              "size": 10,
              "solidity": 0.2
             }
            },
            "type": "histogram"
           }
          ],
          "histogram2d": [
           {
            "colorbar": {
             "outlinewidth": 0,
             "ticks": ""
            },
            "colorscale": [
             [
              0,
              "#0d0887"
             ],
             [
              0.1111111111111111,
              "#46039f"
             ],
             [
              0.2222222222222222,
              "#7201a8"
             ],
             [
              0.3333333333333333,
              "#9c179e"
             ],
             [
              0.4444444444444444,
              "#bd3786"
             ],
             [
              0.5555555555555556,
              "#d8576b"
             ],
             [
              0.6666666666666666,
              "#ed7953"
             ],
             [
              0.7777777777777778,
              "#fb9f3a"
             ],
             [
              0.8888888888888888,
              "#fdca26"
             ],
             [
              1,
              "#f0f921"
             ]
            ],
            "type": "histogram2d"
           }
          ],
          "histogram2dcontour": [
           {
            "colorbar": {
             "outlinewidth": 0,
             "ticks": ""
            },
            "colorscale": [
             [
              0,
              "#0d0887"
             ],
             [
              0.1111111111111111,
              "#46039f"
             ],
             [
              0.2222222222222222,
              "#7201a8"
             ],
             [
              0.3333333333333333,
              "#9c179e"
             ],
             [
              0.4444444444444444,
              "#bd3786"
             ],
             [
              0.5555555555555556,
              "#d8576b"
             ],
             [
              0.6666666666666666,
              "#ed7953"
             ],
             [
              0.7777777777777778,
              "#fb9f3a"
             ],
             [
              0.8888888888888888,
              "#fdca26"
             ],
             [
              1,
              "#f0f921"
             ]
            ],
            "type": "histogram2dcontour"
           }
          ],
          "mesh3d": [
           {
            "colorbar": {
             "outlinewidth": 0,
             "ticks": ""
            },
            "type": "mesh3d"
           }
          ],
          "parcoords": [
           {
            "line": {
             "colorbar": {
              "outlinewidth": 0,
              "ticks": ""
             }
            },
            "type": "parcoords"
           }
          ],
          "pie": [
           {
            "automargin": true,
            "type": "pie"
           }
          ],
          "scatter": [
           {
            "fillpattern": {
             "fillmode": "overlay",
             "size": 10,
             "solidity": 0.2
            },
            "type": "scatter"
           }
          ],
          "scatter3d": [
           {
            "line": {
             "colorbar": {
              "outlinewidth": 0,
              "ticks": ""
             }
            },
            "marker": {
             "colorbar": {
              "outlinewidth": 0,
              "ticks": ""
             }
            },
            "type": "scatter3d"
           }
          ],
          "scattercarpet": [
           {
            "marker": {
             "colorbar": {
              "outlinewidth": 0,
              "ticks": ""
             }
            },
            "type": "scattercarpet"
           }
          ],
          "scattergeo": [
           {
            "marker": {
             "colorbar": {
              "outlinewidth": 0,
              "ticks": ""
             }
            },
            "type": "scattergeo"
           }
          ],
          "scattergl": [
           {
            "marker": {
             "colorbar": {
              "outlinewidth": 0,
              "ticks": ""
             }
            },
            "type": "scattergl"
           }
          ],
          "scattermapbox": [
           {
            "marker": {
             "colorbar": {
              "outlinewidth": 0,
              "ticks": ""
             }
            },
            "type": "scattermapbox"
           }
          ],
          "scatterpolar": [
           {
            "marker": {
             "colorbar": {
              "outlinewidth": 0,
              "ticks": ""
             }
            },
            "type": "scatterpolar"
           }
          ],
          "scatterpolargl": [
           {
            "marker": {
             "colorbar": {
              "outlinewidth": 0,
              "ticks": ""
             }
            },
            "type": "scatterpolargl"
           }
          ],
          "scatterternary": [
           {
            "marker": {
             "colorbar": {
              "outlinewidth": 0,
              "ticks": ""
             }
            },
            "type": "scatterternary"
           }
          ],
          "surface": [
           {
            "colorbar": {
             "outlinewidth": 0,
             "ticks": ""
            },
            "colorscale": [
             [
              0,
              "#0d0887"
             ],
             [
              0.1111111111111111,
              "#46039f"
             ],
             [
              0.2222222222222222,
              "#7201a8"
             ],
             [
              0.3333333333333333,
              "#9c179e"
             ],
             [
              0.4444444444444444,
              "#bd3786"
             ],
             [
              0.5555555555555556,
              "#d8576b"
             ],
             [
              0.6666666666666666,
              "#ed7953"
             ],
             [
              0.7777777777777778,
              "#fb9f3a"
             ],
             [
              0.8888888888888888,
              "#fdca26"
             ],
             [
              1,
              "#f0f921"
             ]
            ],
            "type": "surface"
           }
          ],
          "table": [
           {
            "cells": {
             "fill": {
              "color": "#EBF0F8"
             },
             "line": {
              "color": "white"
             }
            },
            "header": {
             "fill": {
              "color": "#C8D4E3"
             },
             "line": {
              "color": "white"
             }
            },
            "type": "table"
           }
          ]
         },
         "layout": {
          "annotationdefaults": {
           "arrowcolor": "#2a3f5f",
           "arrowhead": 0,
           "arrowwidth": 1
          },
          "autotypenumbers": "strict",
          "coloraxis": {
           "colorbar": {
            "outlinewidth": 0,
            "ticks": ""
           }
          },
          "colorscale": {
           "diverging": [
            [
             0,
             "#8e0152"
            ],
            [
             0.1,
             "#c51b7d"
            ],
            [
             0.2,
             "#de77ae"
            ],
            [
             0.3,
             "#f1b6da"
            ],
            [
             0.4,
             "#fde0ef"
            ],
            [
             0.5,
             "#f7f7f7"
            ],
            [
             0.6,
             "#e6f5d0"
            ],
            [
             0.7,
             "#b8e186"
            ],
            [
             0.8,
             "#7fbc41"
            ],
            [
             0.9,
             "#4d9221"
            ],
            [
             1,
             "#276419"
            ]
           ],
           "sequential": [
            [
             0,
             "#0d0887"
            ],
            [
             0.1111111111111111,
             "#46039f"
            ],
            [
             0.2222222222222222,
             "#7201a8"
            ],
            [
             0.3333333333333333,
             "#9c179e"
            ],
            [
             0.4444444444444444,
             "#bd3786"
            ],
            [
             0.5555555555555556,
             "#d8576b"
            ],
            [
             0.6666666666666666,
             "#ed7953"
            ],
            [
             0.7777777777777778,
             "#fb9f3a"
            ],
            [
             0.8888888888888888,
             "#fdca26"
            ],
            [
             1,
             "#f0f921"
            ]
           ],
           "sequentialminus": [
            [
             0,
             "#0d0887"
            ],
            [
             0.1111111111111111,
             "#46039f"
            ],
            [
             0.2222222222222222,
             "#7201a8"
            ],
            [
             0.3333333333333333,
             "#9c179e"
            ],
            [
             0.4444444444444444,
             "#bd3786"
            ],
            [
             0.5555555555555556,
             "#d8576b"
            ],
            [
             0.6666666666666666,
             "#ed7953"
            ],
            [
             0.7777777777777778,
             "#fb9f3a"
            ],
            [
             0.8888888888888888,
             "#fdca26"
            ],
            [
             1,
             "#f0f921"
            ]
           ]
          },
          "colorway": [
           "#636efa",
           "#EF553B",
           "#00cc96",
           "#ab63fa",
           "#FFA15A",
           "#19d3f3",
           "#FF6692",
           "#B6E880",
           "#FF97FF",
           "#FECB52"
          ],
          "font": {
           "color": "#2a3f5f"
          },
          "geo": {
           "bgcolor": "white",
           "lakecolor": "white",
           "landcolor": "#E5ECF6",
           "showlakes": true,
           "showland": true,
           "subunitcolor": "white"
          },
          "hoverlabel": {
           "align": "left"
          },
          "hovermode": "closest",
          "mapbox": {
           "style": "light"
          },
          "paper_bgcolor": "white",
          "plot_bgcolor": "#E5ECF6",
          "polar": {
           "angularaxis": {
            "gridcolor": "white",
            "linecolor": "white",
            "ticks": ""
           },
           "bgcolor": "#E5ECF6",
           "radialaxis": {
            "gridcolor": "white",
            "linecolor": "white",
            "ticks": ""
           }
          },
          "scene": {
           "xaxis": {
            "backgroundcolor": "#E5ECF6",
            "gridcolor": "white",
            "gridwidth": 2,
            "linecolor": "white",
            "showbackground": true,
            "ticks": "",
            "zerolinecolor": "white"
           },
           "yaxis": {
            "backgroundcolor": "#E5ECF6",
            "gridcolor": "white",
            "gridwidth": 2,
            "linecolor": "white",
            "showbackground": true,
            "ticks": "",
            "zerolinecolor": "white"
           },
           "zaxis": {
            "backgroundcolor": "#E5ECF6",
            "gridcolor": "white",
            "gridwidth": 2,
            "linecolor": "white",
            "showbackground": true,
            "ticks": "",
            "zerolinecolor": "white"
           }
          },
          "shapedefaults": {
           "line": {
            "color": "#2a3f5f"
           }
          },
          "ternary": {
           "aaxis": {
            "gridcolor": "white",
            "linecolor": "white",
            "ticks": ""
           },
           "baxis": {
            "gridcolor": "white",
            "linecolor": "white",
            "ticks": ""
           },
           "bgcolor": "#E5ECF6",
           "caxis": {
            "gridcolor": "white",
            "linecolor": "white",
            "ticks": ""
           }
          },
          "title": {
           "x": 0.05
          },
          "xaxis": {
           "automargin": true,
           "gridcolor": "white",
           "linecolor": "white",
           "ticks": "",
           "title": {
            "standoff": 15
           },
           "zerolinecolor": "white",
           "zerolinewidth": 2
          },
          "yaxis": {
           "automargin": true,
           "gridcolor": "white",
           "linecolor": "white",
           "ticks": "",
           "title": {
            "standoff": 15
           },
           "zerolinecolor": "white",
           "zerolinewidth": 2
          }
         }
        },
        "title": {
         "text": "Сравнение средних показателей отклонения индекса массы тела и употребления алкоголя в кластерах стран"
        }
       }
      }
     },
     "metadata": {},
     "output_type": "display_data"
    }
   ],
   "source": [
    "# Для построения графика масштабируем данные\n",
    "health_scaled_data = get_scaled_data(health_data)\n",
    "\n",
    "# Построим полярную диаграмму\n",
    "display_clusters_profiles(    \n",
    "    health_scaled_data.groupby(F.ClusterKMeans.value).agg('mean'),\n",
    "    title='Сравнение средних показателей отклонения индекса массы тела и употребления алкоголя в кластерах стран',\n",
    "    should_display_table=False,\n",
    "    is_custom_size=False,\n",
    ")"
   ]
  },
  {
   "cell_type": "markdown",
   "metadata": {},
   "source": [
    "В странах с большей продолжительностью жизни (кластер 0) \n",
    "- больше людей имеют избыточный вес \n",
    "- и больше употребляют алкоголя.\n",
    "\n",
    "В странах с меньшей продолжительностью жизни (кластер 1) \n",
    "- больше людей имеют недостаточный вес. "
   ]
  },
  {
   "cell_type": "markdown",
   "metadata": {},
   "source": [
    "### Сравнение типов отклонений индекса массы тела в кластерах стран"
   ]
  },
  {
   "cell_type": "code",
   "execution_count": 80,
   "metadata": {},
   "outputs": [
    {
     "data": {
      "text/html": [
       "<div>\n",
       "<style scoped>\n",
       "    .dataframe tbody tr th:only-of-type {\n",
       "        vertical-align: middle;\n",
       "    }\n",
       "\n",
       "    .dataframe tbody tr th {\n",
       "        vertical-align: top;\n",
       "    }\n",
       "\n",
       "    .dataframe thead th {\n",
       "        text-align: right;\n",
       "    }\n",
       "</style>\n",
       "<table border=\"1\" class=\"dataframe\">\n",
       "  <thead>\n",
       "    <tr style=\"text-align: right;\">\n",
       "      <th></th>\n",
       "      <th>ClusterKMeans</th>\n",
       "      <th>BmiChildOverweight1</th>\n",
       "      <th>BmiChildOverweight2</th>\n",
       "      <th>BmiTeenagerOverweight1</th>\n",
       "      <th>BmiTeenagerOverweight2</th>\n",
       "      <th>BmiAdultOverweight25</th>\n",
       "      <th>BmiAdultOverweight30</th>\n",
       "      <th>BmiChildThinness</th>\n",
       "      <th>BmiTeenagerThinness</th>\n",
       "      <th>BmiAdultUnderweight</th>\n",
       "    </tr>\n",
       "  </thead>\n",
       "  <tbody>\n",
       "    <tr>\n",
       "      <th>0</th>\n",
       "      <td>0</td>\n",
       "      <td>26.393834</td>\n",
       "      <td>10.963989</td>\n",
       "      <td>24.943297</td>\n",
       "      <td>8.523073</td>\n",
       "      <td>54.719076</td>\n",
       "      <td>22.133716</td>\n",
       "      <td>3.309829</td>\n",
       "      <td>3.586927</td>\n",
       "      <td>3.502882</td>\n",
       "    </tr>\n",
       "    <tr>\n",
       "      <th>1</th>\n",
       "      <td>1</td>\n",
       "      <td>9.961369</td>\n",
       "      <td>3.469167</td>\n",
       "      <td>9.368914</td>\n",
       "      <td>2.213527</td>\n",
       "      <td>25.487917</td>\n",
       "      <td>8.154278</td>\n",
       "      <td>7.961741</td>\n",
       "      <td>10.329137</td>\n",
       "      <td>13.381562</td>\n",
       "    </tr>\n",
       "  </tbody>\n",
       "</table>\n",
       "</div>"
      ],
      "text/plain": [
       "   ClusterKMeans  BmiChildOverweight1  BmiChildOverweight2  \\\n",
       "0              0            26.393834            10.963989   \n",
       "1              1             9.961369             3.469167   \n",
       "\n",
       "   BmiTeenagerOverweight1  BmiTeenagerOverweight2  BmiAdultOverweight25  \\\n",
       "0               24.943297                8.523073             54.719076   \n",
       "1                9.368914                2.213527             25.487917   \n",
       "\n",
       "   BmiAdultOverweight30  BmiChildThinness  BmiTeenagerThinness  \\\n",
       "0             22.133716          3.309829             3.586927   \n",
       "1              8.154278          7.961741            10.329137   \n",
       "\n",
       "   BmiAdultUnderweight  \n",
       "0             3.502882  \n",
       "1            13.381562  "
      ]
     },
     "execution_count": 80,
     "metadata": {},
     "output_type": "execute_result"
    }
   ],
   "source": [
    "# Поля с факторами отклонений BMI\n",
    "bmi_fields = [\n",
    "    # Факторы повышенного BMI\n",
    "    F.BmiChildOverweight1.value,\n",
    "    F.BmiChildOverweight2.value,\n",
    "    F.BmiTeenagerOverweight1.value,\n",
    "    F.BmiTeenagerOverweight2.value,\n",
    "    F.BmiAdultOverweight25.value,\n",
    "    F.BmiAdultOverweight30.value,\n",
    "    # Факторы пониженного BMI\n",
    "    F.BmiChildThinness.value,\n",
    "    F.BmiTeenagerThinness.value,\n",
    "    F.BmiAdultUnderweight.value,\n",
    "]\n",
    "\n",
    "# Возьмем среднее по показателям BMI по кластерам стран\n",
    "bmi_data = data[bmi_fields + [F.ClusterKMeans.value]] \\\n",
    "    .groupby(F.ClusterKMeans.value) \\\n",
    "    .agg('mean') \\\n",
    "    .reset_index() \\\n",
    "    .rename(columns={'index': F.ClusterKMeans.value}) \\\n",
    "\n",
    "bmi_data"
   ]
  },
  {
   "cell_type": "code",
   "execution_count": 81,
   "metadata": {},
   "outputs": [
    {
     "data": {
      "text/html": [
       "<div>\n",
       "<style scoped>\n",
       "    .dataframe tbody tr th:only-of-type {\n",
       "        vertical-align: middle;\n",
       "    }\n",
       "\n",
       "    .dataframe tbody tr th {\n",
       "        vertical-align: top;\n",
       "    }\n",
       "\n",
       "    .dataframe thead th {\n",
       "        text-align: right;\n",
       "    }\n",
       "</style>\n",
       "<table border=\"1\" class=\"dataframe\">\n",
       "  <thead>\n",
       "    <tr style=\"text-align: right;\">\n",
       "      <th></th>\n",
       "      <th>ClusterKMeans</th>\n",
       "      <th>BmiType</th>\n",
       "      <th>Mean</th>\n",
       "    </tr>\n",
       "  </thead>\n",
       "  <tbody>\n",
       "    <tr>\n",
       "      <th>0</th>\n",
       "      <td>0</td>\n",
       "      <td>BmiChildOverweight1</td>\n",
       "      <td>26.393834</td>\n",
       "    </tr>\n",
       "    <tr>\n",
       "      <th>1</th>\n",
       "      <td>1</td>\n",
       "      <td>BmiChildOverweight1</td>\n",
       "      <td>9.961369</td>\n",
       "    </tr>\n",
       "    <tr>\n",
       "      <th>2</th>\n",
       "      <td>0</td>\n",
       "      <td>BmiChildOverweight2</td>\n",
       "      <td>10.963989</td>\n",
       "    </tr>\n",
       "    <tr>\n",
       "      <th>3</th>\n",
       "      <td>1</td>\n",
       "      <td>BmiChildOverweight2</td>\n",
       "      <td>3.469167</td>\n",
       "    </tr>\n",
       "    <tr>\n",
       "      <th>4</th>\n",
       "      <td>0</td>\n",
       "      <td>BmiTeenagerOverweight1</td>\n",
       "      <td>24.943297</td>\n",
       "    </tr>\n",
       "  </tbody>\n",
       "</table>\n",
       "</div>"
      ],
      "text/plain": [
       "   ClusterKMeans                 BmiType       Mean\n",
       "0              0     BmiChildOverweight1  26.393834\n",
       "1              1     BmiChildOverweight1   9.961369\n",
       "2              0     BmiChildOverweight2  10.963989\n",
       "3              1     BmiChildOverweight2   3.469167\n",
       "4              0  BmiTeenagerOverweight1  24.943297"
      ]
     },
     "execution_count": 81,
     "metadata": {},
     "output_type": "execute_result"
    }
   ],
   "source": [
    "# Для построения графика переведем столбцы в строки\n",
    "bmi_data = bmi_data.melt(\n",
    "    id_vars=[F.ClusterKMeans.value], \n",
    "    var_name='BmiType', \n",
    "    value_name='Mean'\n",
    ")\n",
    "\n",
    "bmi_data.head()"
   ]
  },
  {
   "cell_type": "code",
   "execution_count": 82,
   "metadata": {},
   "outputs": [
    {
     "data": {
      "image/png": "[encoded data removed]",
      "text/plain": [
       "<Figure size 720x504 with 1 Axes>"
      ]
     },
     "metadata": {
      "needs_background": "light"
     },
     "output_type": "display_data"
    }
   ],
   "source": [
    "# Построим график\n",
    "fig = plt.figure(figsize=(10, 7))\n",
    "barplot = sns.barplot(\n",
    "    data=bmi_data,\n",
    "    x='BmiType',\n",
    "    y='Mean',\n",
    "    hue=F.ClusterKMeans.value,\n",
    ")\n",
    "barplot.set_xlabel('Варианты отклонений индекса массы тела')\n",
    "barplot.set_ylabel('Среднее по кластеру')\n",
    "barplot.tick_params(axis='x', rotation=90)\n",
    "barplot.set_title('Сравнение показателей отклонения индекса массы тела в кластерах стран');"
   ]
  },
  {
   "cell_type": "code",
   "execution_count": 83,
   "metadata": {},
   "outputs": [
    {
     "data": {
      "text/markdown": [
       "**Варианты отклонений индекса массы тела:**"
      ],
      "text/plain": [
       "<IPython.core.display.Markdown object>"
      ]
     },
     "metadata": {},
     "output_type": "display_data"
    },
    {
     "data": {
      "text/markdown": [
       "- `BmiChildOverweight1` - Распространенность избыточного веса среди детей 5-9 лет, ИМТ > +1 стандартного отклонения выше медианы (грубая оценка) (%)"
      ],
      "text/plain": [
       "<IPython.core.display.Markdown object>"
      ]
     },
     "metadata": {},
     "output_type": "display_data"
    },
    {
     "data": {
      "text/markdown": [
       "- `BmiChildOverweight2` - Распространенность ожирения среди детей 5-9 лет, ИМТ > +2 стандартных отклонений выше медианы (грубая оценка) (%)"
      ],
      "text/plain": [
       "<IPython.core.display.Markdown object>"
      ]
     },
     "metadata": {},
     "output_type": "display_data"
    },
    {
     "data": {
      "text/markdown": [
       "- `BmiTeenagerOverweight1` - Распространенность избыточного веса среди подростков 10-19 лет, ИМТ > +1 стандартного отклонения выше медианы (грубая оценка) (%)"
      ],
      "text/plain": [
       "<IPython.core.display.Markdown object>"
      ]
     },
     "metadata": {},
     "output_type": "display_data"
    },
    {
     "data": {
      "text/markdown": [
       "- `BmiTeenagerOverweight2` - Распространенность ожирения среди подростков 10-19 лет, ИМТ > +2 стандартных отклонений выше медианы (грубая оценка) (%)"
      ],
      "text/plain": [
       "<IPython.core.display.Markdown object>"
      ]
     },
     "metadata": {},
     "output_type": "display_data"
    },
    {
     "data": {
      "text/markdown": [
       "- `BmiAdultOverweight25` - Распространенность избыточного веса среди взрослых, ИМТ >= 25 (стандартизированная по возрасту оценка) (%)"
      ],
      "text/plain": [
       "<IPython.core.display.Markdown object>"
      ]
     },
     "metadata": {},
     "output_type": "display_data"
    },
    {
     "data": {
      "text/markdown": [
       "- `BmiAdultOverweight30` - Распространенность ожирения среди взрослых, ИМТ >= 30 (стандартизированная по возрасту оценка) (%)"
      ],
      "text/plain": [
       "<IPython.core.display.Markdown object>"
      ]
     },
     "metadata": {},
     "output_type": "display_data"
    },
    {
     "data": {
      "text/markdown": [
       "- `BmiChildThinness` - Распространенность худобы среди детей 5-9 лет, ИМТ < -2 стандартных отклонений ниже медианы (грубая оценка) (%)"
      ],
      "text/plain": [
       "<IPython.core.display.Markdown object>"
      ]
     },
     "metadata": {},
     "output_type": "display_data"
    },
    {
     "data": {
      "text/markdown": [
       "- `BmiTeenagerThinness` - Распространенность худобы среди подростков 10-19 лет, ИМТ < -2 стандартных отклонений ниже медианы (грубая оценка) (%)"
      ],
      "text/plain": [
       "<IPython.core.display.Markdown object>"
      ]
     },
     "metadata": {},
     "output_type": "display_data"
    },
    {
     "data": {
      "text/markdown": [
       "- `BmiAdultUnderweight` - Распространенность недостаточного веса среди взрослых, ИМТ < 18,5 (стандартизированная по возрасту оценка) (%)"
      ],
      "text/plain": [
       "<IPython.core.display.Markdown object>"
      ]
     },
     "metadata": {},
     "output_type": "display_data"
    }
   ],
   "source": [
    "dislay_some_fields_description(\n",
    "    bmi_fields, \n",
    "    title='Варианты отклонений индекса массы тела'\n",
    ")"
   ]
  },
  {
   "cell_type": "markdown",
   "metadata": {},
   "source": [
    "По графику видно, что\n",
    "\n",
    "- Во всех случаях с избыточным весом \\\n",
    "отклонений, находящихся в первой стадии (менее выраженной) \\\n",
    "больше, чем во второй стадии (более выраженной).\n",
    "\n",
    "- Для стран из кластера 0 (с большей продолжительностью жизни) больше отклонений в сторону избыточного веса.\\\n",
    "Для стран из кластера 1 (с меньшей продолжительностью жизни) больше отклонений в сторону недостаточного веса."
   ]
  },
  {
   "cell_type": "markdown",
   "metadata": {},
   "source": [
    "## Исследование корреляции отклонений индекса массы тела со смертностью от диабета"
   ]
  },
  {
   "cell_type": "markdown",
   "metadata": {},
   "source": [
    "Есть предположение, что признак избыточного веса должен коррелировать со смертностью от сахарного диабета.\\\n",
    "Проверим это отдельно для каждого кластера."
   ]
  },
  {
   "cell_type": "code",
   "execution_count": 84,
   "metadata": {},
   "outputs": [
    {
     "data": {
      "text/markdown": [
       "`AdultNcdMortality080` - Смертность взрослых от неинфекционных заболеваний (%). Сахарный диабет"
      ],
      "text/plain": [
       "<IPython.core.display.Markdown object>"
      ]
     },
     "metadata": {},
     "output_type": "display_data"
    }
   ],
   "source": [
    "display_field_description(F.AdultNcdMortality080.value)"
   ]
  },
  {
   "cell_type": "code",
   "execution_count": 85,
   "metadata": {},
   "outputs": [],
   "source": [
    "# Данные кластера 0\n",
    "cluster_0_data = data_source[data_source[F.ClusterKMeans.value] == 0]\n",
    "# Данные кластера 1\n",
    "cluster_1_data = data_source[data_source[F.ClusterKMeans.value] == 1]\n",
    "\n",
    "# Поля, которые будем рассматривать\n",
    "bmi_diabetes_fields = bmi_fields + [F.AdultNcdMortality080.value]"
   ]
  },
  {
   "cell_type": "markdown",
   "metadata": {},
   "source": [
    "### Корреляция для стран кластера 0 (с большей продолжительностью жизни)"
   ]
  },
  {
   "cell_type": "code",
   "execution_count": 86,
   "metadata": {},
   "outputs": [
    {
     "data": {
      "image/png": "[encoded data removed]",
      "text/plain": [
       "<Figure size 720x360 with 1 Axes>"
      ]
     },
     "metadata": {
      "needs_background": "light"
     },
     "output_type": "display_data"
    },
    {
     "data": {
      "text/html": [
       "<div style=\"margin-left: 45px\"}><font color=\"LightCoral\"><strong>Положительная корреляция</strong></font><br /><font color=\"DodgerBlue\"><strong>Отрицательная корреляция</strong></font></div>"
      ],
      "text/plain": [
       "<IPython.core.display.HTML object>"
      ]
     },
     "metadata": {},
     "output_type": "display_data"
    }
   ],
   "source": [
    "# Построим график для кластера 0\n",
    "display_corellation_by_target(\n",
    "    cluster_0_data[bmi_diabetes_fields],\n",
    "    figsize=(10, 5),\n",
    "    target_feature_name=F.AdultNcdMortality080.value,\n",
    "    title='Корреляция отклонений индекса массы тела со смертностью от диабета для стран кластера 0',\n",
    "    xlabel='Варианты отклонения индекса массы тела',\n",
    "    ylabel='Коэффициент корреляции',\n",
    ")"
   ]
  },
  {
   "cell_type": "markdown",
   "metadata": {},
   "source": [
    "В странах из кластера 0 корреляция признаков избыточного веса со смертностью от диабета небольшая, около 0.3 и ее можно считать незначительной."
   ]
  },
  {
   "cell_type": "markdown",
   "metadata": {},
   "source": [
    "### Корреляция для стран кластера 1 (с меньшей продолжительностью жизни)"
   ]
  },
  {
   "cell_type": "code",
   "execution_count": 87,
   "metadata": {},
   "outputs": [
    {
     "data": {
      "image/png": "[encoded data removed]",
      "text/plain": [
       "<Figure size 720x360 with 1 Axes>"
      ]
     },
     "metadata": {
      "needs_background": "light"
     },
     "output_type": "display_data"
    },
    {
     "data": {
      "text/html": [
       "<div style=\"margin-left: 45px\"}><font color=\"LightCoral\"><strong>Положительная корреляция</strong></font><br /><font color=\"DodgerBlue\"><strong>Отрицательная корреляция</strong></font></div>"
      ],
      "text/plain": [
       "<IPython.core.display.HTML object>"
      ]
     },
     "metadata": {},
     "output_type": "display_data"
    }
   ],
   "source": [
    "display_corellation_by_target(\n",
    "    cluster_1_data[bmi_diabetes_fields],\n",
    "    figsize=(10, 5),\n",
    "    target_feature_name=F.AdultNcdMortality080.value,\n",
    "    title='Корреляция отклонений индекса массы тела со смертностью от диабета для стран кластера 1',\n",
    "    xlabel='Варианты отклонения индекса массы тела',\n",
    "    ylabel='Коэффициент корреляции',\n",
    ")"
   ]
  },
  {
   "cell_type": "markdown",
   "metadata": {},
   "source": [
    "В странах из кластера 1 корреляция признаков избыточного веса со смертностью от диабета средняя и составляет около 0.5."
   ]
  },
  {
   "cell_type": "markdown",
   "metadata": {},
   "source": [
    "## Исследование корреляции количества употребляемого алгоколя с причинами смертности"
   ]
  },
  {
   "cell_type": "markdown",
   "metadata": {},
   "source": [
    "Также посмотрим эту корреляцию отдельно для двух кластеров стран."
   ]
  },
  {
   "cell_type": "code",
   "execution_count": 88,
   "metadata": {},
   "outputs": [],
   "source": [
    "# Добавим в основную таблицу данные о детской смертности\n",
    "cumulative_data = add_child_mortality_data(data_source)\n",
    "\n",
    "# Данные стран кластера 0\n",
    "cluster_0_data = cumulative_data[cumulative_data[F.ClusterKMeans.value] == 0]\n",
    "# Данные стран кластера 1\n",
    "cluster_1_data = cumulative_data[cumulative_data[F.ClusterKMeans.value] == 1]\n",
    "\n",
    "# Поля с факторами взрослой смертности\n",
    "adult_mortality_fields = get_fields_by_semantic_category(FieldSemanticCategory.ADULT_MORTALITY.value)\n",
    "# Поля с факторами детской смертности\n",
    "child_mortality_fields = get_fields_by_semantic_category(FieldSemanticCategory.CHILD_MORTALITY.value)\n",
    "\n",
    "# Список полей, которые будем рассматривать\n",
    "alcohol_mortality_fields = \\\n",
    "    child_mortality_fields + adult_mortality_fields + [F.AlcoholСonsumption.value]\n",
    "\n",
    "# Оставим только нужные поля\n",
    "cluster_0_data = cluster_0_data[alcohol_mortality_fields]\n",
    "cluster_1_data = cluster_1_data[alcohol_mortality_fields]\n",
    "\n",
    "# Словарь для переименования признаков\n",
    "rename_dict = get_temp_rename_dict(cluster_0_data)"
   ]
  },
  {
   "cell_type": "markdown",
   "metadata": {},
   "source": [
    "### Корреляция для стран кластера 0 (с большей продолжительностью жизни)"
   ]
  },
  {
   "cell_type": "code",
   "execution_count": 89,
   "metadata": {},
   "outputs": [
    {
     "data": {
      "image/png": "[encoded data removed]",
      "text/plain": [
       "<Figure size 1152x432 with 1 Axes>"
      ]
     },
     "metadata": {
      "needs_background": "light"
     },
     "output_type": "display_data"
    },
    {
     "data": {
      "text/html": [
       "<div style=\"margin-left: 45px\"}><font color=\"LightCoral\"><strong>Положительная корреляция</strong></font><br /><font color=\"DodgerBlue\"><strong>Отрицательная корреляция</strong></font></div>"
      ],
      "text/plain": [
       "<IPython.core.display.HTML object>"
      ]
     },
     "metadata": {},
     "output_type": "display_data"
    }
   ],
   "source": [
    "display_corellation_by_target(\n",
    "    cluster_0_data.rename(columns=rename_dict),\n",
    "    figsize=(16, 6),\n",
    "    target_feature_name=F.AlcoholСonsumption.value,\n",
    "    title='Корреляция количества употребляемого алкоголя с причинами смертности в странах кластера 0',\n",
    ")"
   ]
  },
  {
   "cell_type": "markdown",
   "metadata": {},
   "source": [
    "Для стран кластера 0 у признака количества употребляемого алкоголя\n",
    "- Наибольшая корреляция со смертностью от злокачественных новообразований и смертностью от неинфекционных заболеваний."
   ]
  },
  {
   "cell_type": "markdown",
   "metadata": {},
   "source": [
    "### Корреляция для стран кластера 1 (с меньшей продолжительностью жизни)"
   ]
  },
  {
   "cell_type": "code",
   "execution_count": 90,
   "metadata": {},
   "outputs": [
    {
     "data": {
      "image/png": "[encoded data removed]",
      "text/plain": [
       "<Figure size 1152x432 with 1 Axes>"
      ]
     },
     "metadata": {
      "needs_background": "light"
     },
     "output_type": "display_data"
    },
    {
     "data": {
      "text/html": [
       "<div style=\"margin-left: 45px\"}><font color=\"LightCoral\"><strong>Положительная корреляция</strong></font><br /><font color=\"DodgerBlue\"><strong>Отрицательная корреляция</strong></font></div>"
      ],
      "text/plain": [
       "<IPython.core.display.HTML object>"
      ]
     },
     "metadata": {},
     "output_type": "display_data"
    }
   ],
   "source": [
    "display_corellation_by_target(\n",
    "    cluster_1_data.rename(columns=rename_dict),\n",
    "    figsize=(16, 6),\n",
    "    target_feature_name=F.AlcoholСonsumption.value,\n",
    "    title='Корреляция количества употребляемого алкоголя с причинами смертности в странах кластера 1',\n",
    ")"
   ]
  },
  {
   "cell_type": "markdown",
   "metadata": {},
   "source": [
    "Для стран кластера 1 у признака количества употребляемого алкоголя\n",
    "- Наибольшая корреляция со смертностью от ВИЧ/СПИД."
   ]
  },
  {
   "cell_type": "markdown",
   "metadata": {},
   "source": [
    "## Выводы"
   ]
  },
  {
   "cell_type": "markdown",
   "metadata": {},
   "source": [
    "- В странах с большей продолжительностью жизни (кластер 0) \\\n",
    "больше людей имеют избыточный вес и больше употребляют алкоголя.\n",
    "\n",
    "- В странах с меньшей продолжительностью жизни (кластер 1) больше людей имеют недостаточный вес. \n",
    "\n",
    "- Во всех случаях с избыточным весом отклонений, находящихся в первой стадии (менее выраженной) \\\n",
    "больше, чем во второй стадии (более выраженной).\n",
    "\n",
    "- Факторы отлонения индекса массы тела в сторону избыточного веса \\\n",
    "имеют слабую корреляцию со смертностью от диабета для стран кластера 0 \\\n",
    "и среднюю (около 0.5) для стран кластера 1.\n",
    "\n",
    "- Фактор количества употребляемого алкоголя \\\n",
    "имеет наибольшую корреляцию со смертностью от злокачественных новообразований (0.78) и неинфеционных заболеваний (0.6) для стран кластера 0\\\n",
    "и со смертностью от ВИЧ/СПИД для стран кластера 1 (0.4)."
   ]
  }
 ],
 "metadata": {
  "kernelspec": {
   "display_name": "Python 3",
   "language": "python",
   "name": "python3"
  },
  "language_info": {
   "codemirror_mode": {
    "name": "ipython",
    "version": 3
   },
   "file_extension": ".py",
   "mimetype": "text/x-python",
   "name": "python",
   "nbconvert_exporter": "python",
   "pygments_lexer": "ipython3",
   "version": "3.9.10"
  }
 },
 "nbformat": 4,
 "nbformat_minor": 2
}
