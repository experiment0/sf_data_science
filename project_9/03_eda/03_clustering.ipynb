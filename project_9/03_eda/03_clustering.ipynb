{
 "cells": [
  {
   "cell_type": "markdown",
   "metadata": {},
   "source": [
    "# Кластеризация стран"
   ]
  },
  {
   "cell_type": "markdown",
   "metadata": {},
   "source": [
    "Произведем кластеризацию стран по имеющимся у них признакам.\\\n",
    "При этом учтем признаки, связанные с причинами детской смертности, которые представлены только до 2017 г.\\\n",
    "Наличие кластера помогает более наглядно представить результаты исследования.\\\n",
    "Поэтому добавление этого признака вынесено в раздел исследования данных.\n",
    "\n",
    "Для предсказания целевой переменной данные о причинах детской смертности использоваться не будут\\\n",
    "(так как они представлены только до 2017 г.)\\\n",
    "И далее мы сформируем новый признак кластера без них.\\\n",
    "Сейчас же наличие кластера поможет более наглядно показать распределение данных."
   ]
  },
  {
   "cell_type": "code",
   "execution_count": 1,
   "metadata": {},
   "outputs": [],
   "source": [
    "import sys\n",
    "# Добавим папку проекта в список системных директорий, чтобы Python видел путь к папке utils\n",
    "sys.path.append('..')"
   ]
  },
  {
   "cell_type": "code",
   "execution_count": 2,
   "metadata": {},
   "outputs": [],
   "source": [
    "from enum import Enum\n",
    "import pandas as pd\n",
    "\n",
    "from sklearn.preprocessing import MinMaxScaler\n",
    "from sklearn.cluster import KMeans, AgglomerativeClustering\n",
    "from sklearn.mixture import GaussianMixture\n",
    "from sklearn.decomposition import PCA\n",
    "\n",
    "from scipy.stats import shapiro\n",
    "\n",
    "import plotly.express as px\n",
    "\n",
    "from utils.constants import (\n",
    "    F, \n",
    "    RANDOM_STATE,\n",
    "    ClusteringAlgorithm,\n",
    ")\n",
    "from utils.graphics import (\n",
    "    display_corellation_by_target,\n",
    "    display_inertia,\n",
    "    display_silhouette,\n",
    "    dislay_correlation_matrix,\n",
    "    display_clusters_profiles,\n",
    "    show_and_save_fig,\n",
    ")\n",
    "from utils.display_content import (\n",
    "    dislay_some_fields_description,\n",
    ")\n",
    "from utils.prepare_data import (\n",
    "    move_column_to_end_table,\n",
    "    get_temp_rename_dict,\n",
    "    add_child_mortality_data,\n",
    "    move_column_to_end_table,\n",
    ")\n",
    "\n",
    "# Имена полей с номером кластера для разных алгоритмов\n",
    "class FCluster(Enum):\n",
    "    K_MEANS = 'ClusterKMeans'\n",
    "    K_MEANS_PCA = 'ClusterKMeansPCA'\n",
    "    EM = 'ClusterEM'\n",
    "    AC = 'ClusterAC'\n",
    "\n",
    "from warnings import simplefilter\n",
    "simplefilter('ignore')"
   ]
  },
  {
   "cell_type": "code",
   "execution_count": 3,
   "metadata": {},
   "outputs": [
    {
     "data": {
      "text/html": [
       "<div>\n",
       "<style scoped>\n",
       "    .dataframe tbody tr th:only-of-type {\n",
       "        vertical-align: middle;\n",
       "    }\n",
       "\n",
       "    .dataframe tbody tr th {\n",
       "        vertical-align: top;\n",
       "    }\n",
       "\n",
       "    .dataframe thead th {\n",
       "        text-align: right;\n",
       "    }\n",
       "</style>\n",
       "<table border=\"1\" class=\"dataframe\">\n",
       "  <thead>\n",
       "    <tr style=\"text-align: right;\">\n",
       "      <th></th>\n",
       "      <th>ParentLocationCode</th>\n",
       "      <th>ParentLocation</th>\n",
       "      <th>SpatialDimValueCode</th>\n",
       "      <th>Location</th>\n",
       "      <th>Period</th>\n",
       "      <th>AdultMortality</th>\n",
       "      <th>Homicides</th>\n",
       "      <th>MaternalMortality</th>\n",
       "      <th>AdultNcdMortality</th>\n",
       "      <th>AdultNcdMortality117</th>\n",
       "      <th>...</th>\n",
       "      <th>BmiTeenagerOverweight2</th>\n",
       "      <th>Sanitation</th>\n",
       "      <th>DrinkingWater</th>\n",
       "      <th>HealthCareCosts</th>\n",
       "      <th>HealthCareCostsGdp</th>\n",
       "      <th>HealthCareCostsPerCapita</th>\n",
       "      <th>GdpPerCapita</th>\n",
       "      <th>Population</th>\n",
       "      <th>Schooling</th>\n",
       "      <th>LifeExpectancy</th>\n",
       "    </tr>\n",
       "  </thead>\n",
       "  <tbody>\n",
       "    <tr>\n",
       "      <th>0</th>\n",
       "      <td>AFR</td>\n",
       "      <td>Africa</td>\n",
       "      <td>AGO</td>\n",
       "      <td>Angola</td>\n",
       "      <td>2000</td>\n",
       "      <td>34.56</td>\n",
       "      <td>0.01331</td>\n",
       "      <td>0.859921</td>\n",
       "      <td>30.5</td>\n",
       "      <td>0.028126</td>\n",
       "      <td>...</td>\n",
       "      <td>0.99</td>\n",
       "      <td>27.56</td>\n",
       "      <td>41.14</td>\n",
       "      <td>2.74</td>\n",
       "      <td>1.11</td>\n",
       "      <td>7.66</td>\n",
       "      <td>563.733796</td>\n",
       "      <td>16194869.0</td>\n",
       "      <td>5.027188</td>\n",
       "      <td>49.37</td>\n",
       "    </tr>\n",
       "    <tr>\n",
       "      <th>1</th>\n",
       "      <td>AFR</td>\n",
       "      <td>Africa</td>\n",
       "      <td>AGO</td>\n",
       "      <td>Angola</td>\n",
       "      <td>2001</td>\n",
       "      <td>33.86</td>\n",
       "      <td>0.01310</td>\n",
       "      <td>0.799641</td>\n",
       "      <td>29.7</td>\n",
       "      <td>0.027503</td>\n",
       "      <td>...</td>\n",
       "      <td>1.07</td>\n",
       "      <td>28.99</td>\n",
       "      <td>42.25</td>\n",
       "      <td>5.97</td>\n",
       "      <td>2.05</td>\n",
       "      <td>13.35</td>\n",
       "      <td>533.586202</td>\n",
       "      <td>16747208.0</td>\n",
       "      <td>5.092250</td>\n",
       "      <td>50.06</td>\n",
       "    </tr>\n",
       "    <tr>\n",
       "      <th>2</th>\n",
       "      <td>AFR</td>\n",
       "      <td>Africa</td>\n",
       "      <td>AGO</td>\n",
       "      <td>Angola</td>\n",
       "      <td>2002</td>\n",
       "      <td>32.51</td>\n",
       "      <td>0.01288</td>\n",
       "      <td>0.758272</td>\n",
       "      <td>29.4</td>\n",
       "      <td>0.027049</td>\n",
       "      <td>...</td>\n",
       "      <td>1.14</td>\n",
       "      <td>30.42</td>\n",
       "      <td>43.38</td>\n",
       "      <td>4.19</td>\n",
       "      <td>1.31</td>\n",
       "      <td>11.54</td>\n",
       "      <td>882.147847</td>\n",
       "      <td>17327699.0</td>\n",
       "      <td>5.157312</td>\n",
       "      <td>51.06</td>\n",
       "    </tr>\n",
       "    <tr>\n",
       "      <th>3</th>\n",
       "      <td>AFR</td>\n",
       "      <td>Africa</td>\n",
       "      <td>AGO</td>\n",
       "      <td>Angola</td>\n",
       "      <td>2003</td>\n",
       "      <td>32.16</td>\n",
       "      <td>0.01265</td>\n",
       "      <td>0.676496</td>\n",
       "      <td>29.3</td>\n",
       "      <td>0.026962</td>\n",
       "      <td>...</td>\n",
       "      <td>1.22</td>\n",
       "      <td>31.86</td>\n",
       "      <td>44.36</td>\n",
       "      <td>4.26</td>\n",
       "      <td>1.47</td>\n",
       "      <td>14.55</td>\n",
       "      <td>992.698979</td>\n",
       "      <td>17943712.0</td>\n",
       "      <td>5.222375</td>\n",
       "      <td>51.74</td>\n",
       "    </tr>\n",
       "    <tr>\n",
       "      <th>4</th>\n",
       "      <td>AFR</td>\n",
       "      <td>Africa</td>\n",
       "      <td>AGO</td>\n",
       "      <td>Angola</td>\n",
       "      <td>2004</td>\n",
       "      <td>32.24</td>\n",
       "      <td>0.01229</td>\n",
       "      <td>0.594192</td>\n",
       "      <td>29.0</td>\n",
       "      <td>0.026300</td>\n",
       "      <td>...</td>\n",
       "      <td>1.31</td>\n",
       "      <td>33.29</td>\n",
       "      <td>45.35</td>\n",
       "      <td>5.66</td>\n",
       "      <td>1.69</td>\n",
       "      <td>21.36</td>\n",
       "      <td>1266.210864</td>\n",
       "      <td>18600423.0</td>\n",
       "      <td>5.287437</td>\n",
       "      <td>52.36</td>\n",
       "    </tr>\n",
       "  </tbody>\n",
       "</table>\n",
       "<p>5 rows × 39 columns</p>\n",
       "</div>"
      ],
      "text/plain": [
       "  ParentLocationCode ParentLocation SpatialDimValueCode Location  Period  \\\n",
       "0                AFR         Africa                 AGO   Angola    2000   \n",
       "1                AFR         Africa                 AGO   Angola    2001   \n",
       "2                AFR         Africa                 AGO   Angola    2002   \n",
       "3                AFR         Africa                 AGO   Angola    2003   \n",
       "4                AFR         Africa                 AGO   Angola    2004   \n",
       "\n",
       "   AdultMortality  Homicides  MaternalMortality  AdultNcdMortality  \\\n",
       "0           34.56    0.01331           0.859921               30.5   \n",
       "1           33.86    0.01310           0.799641               29.7   \n",
       "2           32.51    0.01288           0.758272               29.4   \n",
       "3           32.16    0.01265           0.676496               29.3   \n",
       "4           32.24    0.01229           0.594192               29.0   \n",
       "\n",
       "   AdultNcdMortality117  ...  BmiTeenagerOverweight2  Sanitation  \\\n",
       "0              0.028126  ...                    0.99       27.56   \n",
       "1              0.027503  ...                    1.07       28.99   \n",
       "2              0.027049  ...                    1.14       30.42   \n",
       "3              0.026962  ...                    1.22       31.86   \n",
       "4              0.026300  ...                    1.31       33.29   \n",
       "\n",
       "   DrinkingWater  HealthCareCosts  HealthCareCostsGdp  \\\n",
       "0          41.14             2.74                1.11   \n",
       "1          42.25             5.97                2.05   \n",
       "2          43.38             4.19                1.31   \n",
       "3          44.36             4.26                1.47   \n",
       "4          45.35             5.66                1.69   \n",
       "\n",
       "   HealthCareCostsPerCapita  GdpPerCapita  Population  Schooling  \\\n",
       "0                      7.66    563.733796  16194869.0   5.027188   \n",
       "1                     13.35    533.586202  16747208.0   5.092250   \n",
       "2                     11.54    882.147847  17327699.0   5.157312   \n",
       "3                     14.55    992.698979  17943712.0   5.222375   \n",
       "4                     21.36   1266.210864  18600423.0   5.287437   \n",
       "\n",
       "   LifeExpectancy  \n",
       "0           49.37  \n",
       "1           50.06  \n",
       "2           51.06  \n",
       "3           51.74  \n",
       "4           52.36  \n",
       "\n",
       "[5 rows x 39 columns]"
      ]
     },
     "execution_count": 3,
     "metadata": {},
     "output_type": "execute_result"
    }
   ],
   "source": [
    "# Загрузим таблицу\n",
    "data_source = pd.read_csv('../data/cumulative_life_expectancy_prepared.csv')\n",
    "\n",
    "# Удалим столбец с кластером на тот случай, если код файла будет запущен после его добавления\n",
    "if (F.ClusterKMeans.value in list(data_source.columns)):\n",
    "    data = data_source.drop(columns=[F.ClusterKMeans.value])\n",
    "else:\n",
    "    data = data_source\n",
    "\n",
    "data.head()"
   ]
  },
  {
   "cell_type": "markdown",
   "metadata": {},
   "source": [
    "Добавим в таблицу данные о детской смертности.\\\n",
    "Поскольку данные эти есть только до 2017 года, после добавления в таблице остануться данные за 2000-2017 гг."
   ]
  },
  {
   "cell_type": "code",
   "execution_count": 4,
   "metadata": {},
   "outputs": [
    {
     "data": {
      "text/html": [
       "<div>\n",
       "<style scoped>\n",
       "    .dataframe tbody tr th:only-of-type {\n",
       "        vertical-align: middle;\n",
       "    }\n",
       "\n",
       "    .dataframe tbody tr th {\n",
       "        vertical-align: top;\n",
       "    }\n",
       "\n",
       "    .dataframe thead th {\n",
       "        text-align: right;\n",
       "    }\n",
       "</style>\n",
       "<table border=\"1\" class=\"dataframe\">\n",
       "  <thead>\n",
       "    <tr style=\"text-align: right;\">\n",
       "      <th></th>\n",
       "      <th>ParentLocationCode</th>\n",
       "      <th>ParentLocation</th>\n",
       "      <th>SpatialDimValueCode</th>\n",
       "      <th>Location</th>\n",
       "      <th>Period</th>\n",
       "      <th>AdultMortality</th>\n",
       "      <th>Homicides</th>\n",
       "      <th>MaternalMortality</th>\n",
       "      <th>AdultNcdMortality</th>\n",
       "      <th>AdultNcdMortality117</th>\n",
       "      <th>...</th>\n",
       "      <th>ChildUnder5Mortality12</th>\n",
       "      <th>ChildUnder5Mortality3</th>\n",
       "      <th>ChildUnder5Mortality11</th>\n",
       "      <th>ChildUnder5Mortality13</th>\n",
       "      <th>ChildUnder5Mortality17</th>\n",
       "      <th>ChildUnder5Mortality9</th>\n",
       "      <th>ChildUnder5Mortality16</th>\n",
       "      <th>ChildUnder5Mortality15</th>\n",
       "      <th>ChildUnder5Mortality10</th>\n",
       "      <th>LifeExpectancy</th>\n",
       "    </tr>\n",
       "  </thead>\n",
       "  <tbody>\n",
       "    <tr>\n",
       "      <th>0</th>\n",
       "      <td>AFR</td>\n",
       "      <td>Africa</td>\n",
       "      <td>AGO</td>\n",
       "      <td>Angola</td>\n",
       "      <td>2000</td>\n",
       "      <td>34.56</td>\n",
       "      <td>0.01331</td>\n",
       "      <td>0.859921</td>\n",
       "      <td>30.5</td>\n",
       "      <td>0.028126</td>\n",
       "      <td>...</td>\n",
       "      <td>0.029</td>\n",
       "      <td>0.20</td>\n",
       "      <td>0.095</td>\n",
       "      <td>0.091</td>\n",
       "      <td>0.036</td>\n",
       "      <td>0.21</td>\n",
       "      <td>0.027</td>\n",
       "      <td>0.038</td>\n",
       "      <td>0.087</td>\n",
       "      <td>49.37</td>\n",
       "    </tr>\n",
       "    <tr>\n",
       "      <th>1</th>\n",
       "      <td>AFR</td>\n",
       "      <td>Africa</td>\n",
       "      <td>AGO</td>\n",
       "      <td>Angola</td>\n",
       "      <td>2001</td>\n",
       "      <td>33.86</td>\n",
       "      <td>0.01310</td>\n",
       "      <td>0.799641</td>\n",
       "      <td>29.7</td>\n",
       "      <td>0.027503</td>\n",
       "      <td>...</td>\n",
       "      <td>0.030</td>\n",
       "      <td>0.19</td>\n",
       "      <td>0.093</td>\n",
       "      <td>0.090</td>\n",
       "      <td>0.035</td>\n",
       "      <td>0.20</td>\n",
       "      <td>0.027</td>\n",
       "      <td>0.037</td>\n",
       "      <td>0.087</td>\n",
       "      <td>50.06</td>\n",
       "    </tr>\n",
       "    <tr>\n",
       "      <th>2</th>\n",
       "      <td>AFR</td>\n",
       "      <td>Africa</td>\n",
       "      <td>AGO</td>\n",
       "      <td>Angola</td>\n",
       "      <td>2002</td>\n",
       "      <td>32.51</td>\n",
       "      <td>0.01288</td>\n",
       "      <td>0.758272</td>\n",
       "      <td>29.4</td>\n",
       "      <td>0.027049</td>\n",
       "      <td>...</td>\n",
       "      <td>0.032</td>\n",
       "      <td>0.18</td>\n",
       "      <td>0.093</td>\n",
       "      <td>0.092</td>\n",
       "      <td>0.037</td>\n",
       "      <td>0.21</td>\n",
       "      <td>0.028</td>\n",
       "      <td>0.037</td>\n",
       "      <td>0.087</td>\n",
       "      <td>51.06</td>\n",
       "    </tr>\n",
       "    <tr>\n",
       "      <th>3</th>\n",
       "      <td>AFR</td>\n",
       "      <td>Africa</td>\n",
       "      <td>AGO</td>\n",
       "      <td>Angola</td>\n",
       "      <td>2003</td>\n",
       "      <td>32.16</td>\n",
       "      <td>0.01265</td>\n",
       "      <td>0.676496</td>\n",
       "      <td>29.3</td>\n",
       "      <td>0.026962</td>\n",
       "      <td>...</td>\n",
       "      <td>0.034</td>\n",
       "      <td>0.18</td>\n",
       "      <td>0.099</td>\n",
       "      <td>0.097</td>\n",
       "      <td>0.039</td>\n",
       "      <td>0.21</td>\n",
       "      <td>0.029</td>\n",
       "      <td>0.039</td>\n",
       "      <td>0.091</td>\n",
       "      <td>51.74</td>\n",
       "    </tr>\n",
       "    <tr>\n",
       "      <th>4</th>\n",
       "      <td>AFR</td>\n",
       "      <td>Africa</td>\n",
       "      <td>AGO</td>\n",
       "      <td>Angola</td>\n",
       "      <td>2004</td>\n",
       "      <td>32.24</td>\n",
       "      <td>0.01229</td>\n",
       "      <td>0.594192</td>\n",
       "      <td>29.0</td>\n",
       "      <td>0.026300</td>\n",
       "      <td>...</td>\n",
       "      <td>0.036</td>\n",
       "      <td>0.18</td>\n",
       "      <td>0.100</td>\n",
       "      <td>0.100</td>\n",
       "      <td>0.041</td>\n",
       "      <td>0.22</td>\n",
       "      <td>0.030</td>\n",
       "      <td>0.040</td>\n",
       "      <td>0.094</td>\n",
       "      <td>52.36</td>\n",
       "    </tr>\n",
       "  </tbody>\n",
       "</table>\n",
       "<p>5 rows × 53 columns</p>\n",
       "</div>"
      ],
      "text/plain": [
       "  ParentLocationCode ParentLocation SpatialDimValueCode Location  Period  \\\n",
       "0                AFR         Africa                 AGO   Angola    2000   \n",
       "1                AFR         Africa                 AGO   Angola    2001   \n",
       "2                AFR         Africa                 AGO   Angola    2002   \n",
       "3                AFR         Africa                 AGO   Angola    2003   \n",
       "4                AFR         Africa                 AGO   Angola    2004   \n",
       "\n",
       "   AdultMortality  Homicides  MaternalMortality  AdultNcdMortality  \\\n",
       "0           34.56    0.01331           0.859921               30.5   \n",
       "1           33.86    0.01310           0.799641               29.7   \n",
       "2           32.51    0.01288           0.758272               29.4   \n",
       "3           32.16    0.01265           0.676496               29.3   \n",
       "4           32.24    0.01229           0.594192               29.0   \n",
       "\n",
       "   AdultNcdMortality117  ...  ChildUnder5Mortality12  ChildUnder5Mortality3  \\\n",
       "0              0.028126  ...                   0.029                   0.20   \n",
       "1              0.027503  ...                   0.030                   0.19   \n",
       "2              0.027049  ...                   0.032                   0.18   \n",
       "3              0.026962  ...                   0.034                   0.18   \n",
       "4              0.026300  ...                   0.036                   0.18   \n",
       "\n",
       "   ChildUnder5Mortality11  ChildUnder5Mortality13  ChildUnder5Mortality17  \\\n",
       "0                   0.095                   0.091                   0.036   \n",
       "1                   0.093                   0.090                   0.035   \n",
       "2                   0.093                   0.092                   0.037   \n",
       "3                   0.099                   0.097                   0.039   \n",
       "4                   0.100                   0.100                   0.041   \n",
       "\n",
       "   ChildUnder5Mortality9  ChildUnder5Mortality16  ChildUnder5Mortality15  \\\n",
       "0                   0.21                   0.027                   0.038   \n",
       "1                   0.20                   0.027                   0.037   \n",
       "2                   0.21                   0.028                   0.037   \n",
       "3                   0.21                   0.029                   0.039   \n",
       "4                   0.22                   0.030                   0.040   \n",
       "\n",
       "   ChildUnder5Mortality10  LifeExpectancy  \n",
       "0                   0.087           49.37  \n",
       "1                   0.087           50.06  \n",
       "2                   0.087           51.06  \n",
       "3                   0.091           51.74  \n",
       "4                   0.094           52.36  \n",
       "\n",
       "[5 rows x 53 columns]"
      ]
     },
     "execution_count": 4,
     "metadata": {},
     "output_type": "execute_result"
    }
   ],
   "source": [
    "# Добавим данные о детской смертности\n",
    "cumulative_data = add_child_mortality_data(data)\n",
    "\n",
    "# Переставим столбец с таргетом в конец таблицы\n",
    "cumulative_data = move_column_to_end_table(cumulative_data, F.LifeExpectancy.value)\n",
    "\n",
    "cumulative_data.head()"
   ]
  },
  {
   "cell_type": "code",
   "execution_count": 5,
   "metadata": {},
   "outputs": [
    {
     "data": {
      "text/markdown": [
       "**Описание полей:**"
      ],
      "text/plain": [
       "<IPython.core.display.Markdown object>"
      ]
     },
     "metadata": {},
     "output_type": "display_data"
    },
    {
     "data": {
      "text/markdown": [
       "- `ParentLocationCode` - Код региона"
      ],
      "text/plain": [
       "<IPython.core.display.Markdown object>"
      ]
     },
     "metadata": {},
     "output_type": "display_data"
    },
    {
     "data": {
      "text/markdown": [
       "- `ParentLocation` - Название региона"
      ],
      "text/plain": [
       "<IPython.core.display.Markdown object>"
      ]
     },
     "metadata": {},
     "output_type": "display_data"
    },
    {
     "data": {
      "text/markdown": [
       "- `SpatialDimValueCode` - Код страны"
      ],
      "text/plain": [
       "<IPython.core.display.Markdown object>"
      ]
     },
     "metadata": {},
     "output_type": "display_data"
    },
    {
     "data": {
      "text/markdown": [
       "- `Location` - Название страны"
      ],
      "text/plain": [
       "<IPython.core.display.Markdown object>"
      ]
     },
     "metadata": {},
     "output_type": "display_data"
    },
    {
     "data": {
      "text/markdown": [
       "- `Period` - Год"
      ],
      "text/plain": [
       "<IPython.core.display.Markdown object>"
      ]
     },
     "metadata": {},
     "output_type": "display_data"
    },
    {
     "data": {
      "text/markdown": [
       "- `AdultMortality` - Смертность среди взрослого населения от 15 до 60 лет (в % от численности населения)"
      ],
      "text/plain": [
       "<IPython.core.display.Markdown object>"
      ]
     },
     "metadata": {},
     "output_type": "display_data"
    },
    {
     "data": {
      "text/markdown": [
       "- `Homicides` - Оценка уровня убийств (%)"
      ],
      "text/plain": [
       "<IPython.core.display.Markdown object>"
      ]
     },
     "metadata": {},
     "output_type": "display_data"
    },
    {
     "data": {
      "text/markdown": [
       "- `MaternalMortality` - Коэффициент материнской смертности (%)"
      ],
      "text/plain": [
       "<IPython.core.display.Markdown object>"
      ]
     },
     "metadata": {},
     "output_type": "display_data"
    },
    {
     "data": {
      "text/markdown": [
       "- `AdultNcdMortality` - Вероятность (в %) смерти в возрасте от 30 до 70 лет от сердечно-сосудистых заболеваний, рака, диабета или хронических респираторных заболеваний"
      ],
      "text/plain": [
       "<IPython.core.display.Markdown object>"
      ]
     },
     "metadata": {},
     "output_type": "display_data"
    },
    {
     "data": {
      "text/markdown": [
       "- `AdultNcdMortality117` - Смертность взрослых от неинфекционных заболеваний (%). Респираторные заболевания"
      ],
      "text/plain": [
       "<IPython.core.display.Markdown object>"
      ]
     },
     "metadata": {},
     "output_type": "display_data"
    },
    {
     "data": {
      "text/markdown": [
       "- `AdultNcdMortality110` - Смертность взрослых от неинфекционных заболеваний (%). Сердечно-сосудистые заболевания"
      ],
      "text/plain": [
       "<IPython.core.display.Markdown object>"
      ]
     },
     "metadata": {},
     "output_type": "display_data"
    },
    {
     "data": {
      "text/markdown": [
       "- `AdultNcdMortality080` - Смертность взрослых от неинфекционных заболеваний (%). Сахарный диабет"
      ],
      "text/plain": [
       "<IPython.core.display.Markdown object>"
      ]
     },
     "metadata": {},
     "output_type": "display_data"
    },
    {
     "data": {
      "text/markdown": [
       "- `AdultNcdMortality061` - Смертность взрослых от неинфекционных заболеваний (%). Злокачественные новообразования"
      ],
      "text/plain": [
       "<IPython.core.display.Markdown object>"
      ]
     },
     "metadata": {},
     "output_type": "display_data"
    },
    {
     "data": {
      "text/markdown": [
       "- `AdultNcdMortalitySum` - Сумма причин (в %) смертности взрослых от неинфекционных заболеваний."
      ],
      "text/plain": [
       "<IPython.core.display.Markdown object>"
      ]
     },
     "metadata": {},
     "output_type": "display_data"
    },
    {
     "data": {
      "text/markdown": [
       "- `PoisoningMortality` - Уровень смертности от непреднамеренного отравления (%)"
      ],
      "text/plain": [
       "<IPython.core.display.Markdown object>"
      ]
     },
     "metadata": {},
     "output_type": "display_data"
    },
    {
     "data": {
      "text/markdown": [
       "- `SuicideMortality` - Стандартизированные по возрасту показатели самоубийств (%)"
      ],
      "text/plain": [
       "<IPython.core.display.Markdown object>"
      ]
     },
     "metadata": {},
     "output_type": "display_data"
    },
    {
     "data": {
      "text/markdown": [
       "- `AlcoholСonsumption` - Потребление алкоголя на душу населения (15+) (в литрах чистого алкоголя)"
      ],
      "text/plain": [
       "<IPython.core.display.Markdown object>"
      ]
     },
     "metadata": {},
     "output_type": "display_data"
    },
    {
     "data": {
      "text/markdown": [
       "- `HepatitisBImmunization` - Охват иммунизацией детей в возрасте 1 года против гепатита В (ГепВ3) (%)"
      ],
      "text/plain": [
       "<IPython.core.display.Markdown object>"
      ]
     },
     "metadata": {},
     "output_type": "display_data"
    },
    {
     "data": {
      "text/markdown": [
       "- `MeaslesImmunization` - Охват первой дозой вакцины, содержащей коревой компонент (MCV1), среди детей в возрасте 1 года (%)"
      ],
      "text/plain": [
       "<IPython.core.display.Markdown object>"
      ]
     },
     "metadata": {},
     "output_type": "display_data"
    },
    {
     "data": {
      "text/markdown": [
       "- `PolioImmunization` - Охват иммунизацией от полиомиелита (Pol3) среди детей в возрасте 1 года (%)"
      ],
      "text/plain": [
       "<IPython.core.display.Markdown object>"
      ]
     },
     "metadata": {},
     "output_type": "display_data"
    },
    {
     "data": {
      "text/markdown": [
       "- `DiphtheriaImmunization` - Охват иммунизацией детей в возрасте 1 года дифтерийно-столбнячным анатоксином и коклюшем (АКДС3) (%)"
      ],
      "text/plain": [
       "<IPython.core.display.Markdown object>"
      ]
     },
     "metadata": {},
     "output_type": "display_data"
    },
    {
     "data": {
      "text/markdown": [
       "- `BmiAdultUnderweight` - Распространенность недостаточного веса среди взрослых, ИМТ < 18,5 (стандартизированная по возрасту оценка) (%)"
      ],
      "text/plain": [
       "<IPython.core.display.Markdown object>"
      ]
     },
     "metadata": {},
     "output_type": "display_data"
    },
    {
     "data": {
      "text/markdown": [
       "- `BmiAdultOverweight25` - Распространенность избыточного веса среди взрослых, ИМТ >= 25 (стандартизированная по возрасту оценка) (%)"
      ],
      "text/plain": [
       "<IPython.core.display.Markdown object>"
      ]
     },
     "metadata": {},
     "output_type": "display_data"
    },
    {
     "data": {
      "text/markdown": [
       "- `BmiAdultOverweight30` - Распространенность ожирения среди взрослых, ИМТ >= 30 (стандартизированная по возрасту оценка) (%)"
      ],
      "text/plain": [
       "<IPython.core.display.Markdown object>"
      ]
     },
     "metadata": {},
     "output_type": "display_data"
    },
    {
     "data": {
      "text/markdown": [
       "- `BmiChildThinness` - Распространенность худобы среди детей 5-9 лет, ИМТ < -2 стандартных отклонений ниже медианы (грубая оценка) (%)"
      ],
      "text/plain": [
       "<IPython.core.display.Markdown object>"
      ]
     },
     "metadata": {},
     "output_type": "display_data"
    },
    {
     "data": {
      "text/markdown": [
       "- `BmiTeenagerThinness` - Распространенность худобы среди подростков 10-19 лет, ИМТ < -2 стандартных отклонений ниже медианы (грубая оценка) (%)"
      ],
      "text/plain": [
       "<IPython.core.display.Markdown object>"
      ]
     },
     "metadata": {},
     "output_type": "display_data"
    },
    {
     "data": {
      "text/markdown": [
       "- `BmiChildOverweight1` - Распространенность избыточного веса среди детей 5-9 лет, ИМТ > +1 стандартного отклонения выше медианы (грубая оценка) (%)"
      ],
      "text/plain": [
       "<IPython.core.display.Markdown object>"
      ]
     },
     "metadata": {},
     "output_type": "display_data"
    },
    {
     "data": {
      "text/markdown": [
       "- `BmiTeenagerOverweight1` - Распространенность избыточного веса среди подростков 10-19 лет, ИМТ > +1 стандартного отклонения выше медианы (грубая оценка) (%)"
      ],
      "text/plain": [
       "<IPython.core.display.Markdown object>"
      ]
     },
     "metadata": {},
     "output_type": "display_data"
    },
    {
     "data": {
      "text/markdown": [
       "- `BmiChildOverweight2` - Распространенность ожирения среди детей 5-9 лет, ИМТ > +2 стандартных отклонений выше медианы (грубая оценка) (%)"
      ],
      "text/plain": [
       "<IPython.core.display.Markdown object>"
      ]
     },
     "metadata": {},
     "output_type": "display_data"
    },
    {
     "data": {
      "text/markdown": [
       "- `BmiTeenagerOverweight2` - Распространенность ожирения среди подростков 10-19 лет, ИМТ > +2 стандартных отклонений выше медианы (грубая оценка) (%)"
      ],
      "text/plain": [
       "<IPython.core.display.Markdown object>"
      ]
     },
     "metadata": {},
     "output_type": "display_data"
    },
    {
     "data": {
      "text/markdown": [
       "- `Sanitation` - Население, пользующееся как минимум базовыми услугами санитарии (%)"
      ],
      "text/plain": [
       "<IPython.core.display.Markdown object>"
      ]
     },
     "metadata": {},
     "output_type": "display_data"
    },
    {
     "data": {
      "text/markdown": [
       "- `DrinkingWater` - Население, пользующееся по крайней мере базовыми услугами питьевого водоснабжения (%)"
      ],
      "text/plain": [
       "<IPython.core.display.Markdown object>"
      ]
     },
     "metadata": {},
     "output_type": "display_data"
    },
    {
     "data": {
      "text/markdown": [
       "- `HealthCareCosts` - Общие внутренние государственные расходы на здравоохранение в процентах от общих государственных расходов (%)"
      ],
      "text/plain": [
       "<IPython.core.display.Markdown object>"
      ]
     },
     "metadata": {},
     "output_type": "display_data"
    },
    {
     "data": {
      "text/markdown": [
       "- `HealthCareCostsGdp` - Общие внутренние государственные расходы на здравоохранение в процентах от валового внутреннего продукта (ВВП) (%)"
      ],
      "text/plain": [
       "<IPython.core.display.Markdown object>"
      ]
     },
     "metadata": {},
     "output_type": "display_data"
    },
    {
     "data": {
      "text/markdown": [
       "- `HealthCareCostsPerCapita` - Общие внутренние государственные расходы на здравоохранение на душу населения в долларах США"
      ],
      "text/plain": [
       "<IPython.core.display.Markdown object>"
      ]
     },
     "metadata": {},
     "output_type": "display_data"
    },
    {
     "data": {
      "text/markdown": [
       "- `GdpPerCapita` - ВВП на душу населения (в долл. США)"
      ],
      "text/plain": [
       "<IPython.core.display.Markdown object>"
      ]
     },
     "metadata": {},
     "output_type": "display_data"
    },
    {
     "data": {
      "text/markdown": [
       "- `Population` - Общая численность населения"
      ],
      "text/plain": [
       "<IPython.core.display.Markdown object>"
      ]
     },
     "metadata": {},
     "output_type": "display_data"
    },
    {
     "data": {
      "text/markdown": [
       "- `Schooling` - Средняя продолжительность формального образования для лиц в возрасте 15–64 лет"
      ],
      "text/plain": [
       "<IPython.core.display.Markdown object>"
      ]
     },
     "metadata": {},
     "output_type": "display_data"
    },
    {
     "data": {
      "text/markdown": [
       "- `ChildUnder5Mortality2` - Распределение причин смерти среди детей в возрасте до 5 лет (%). ВИЧ/СПИД."
      ],
      "text/plain": [
       "<IPython.core.display.Markdown object>"
      ]
     },
     "metadata": {},
     "output_type": "display_data"
    },
    {
     "data": {
      "text/markdown": [
       "- `ChildUnder5Mortality5` - Распределение причин смерти среди детей в возрасте до 5 лет (%). Столбняк."
      ],
      "text/plain": [
       "<IPython.core.display.Markdown object>"
      ]
     },
     "metadata": {},
     "output_type": "display_data"
    },
    {
     "data": {
      "text/markdown": [
       "- `ChildUnder5Mortality6` - Распределение причин смерти среди детей в возрасте до 5 лет (%). Корь."
      ],
      "text/plain": [
       "<IPython.core.display.Markdown object>"
      ]
     },
     "metadata": {},
     "output_type": "display_data"
    },
    {
     "data": {
      "text/markdown": [
       "- `ChildUnder5Mortality7` - Распределение причин смерти среди детей в возрасте до 5 лет (%). Менингит/энцефалит."
      ],
      "text/plain": [
       "<IPython.core.display.Markdown object>"
      ]
     },
     "metadata": {},
     "output_type": "display_data"
    },
    {
     "data": {
      "text/markdown": [
       "- `ChildUnder5Mortality8` - Распределение причин смерти среди детей в возрасте до 5 лет (%). Малярия."
      ],
      "text/plain": [
       "<IPython.core.display.Markdown object>"
      ]
     },
     "metadata": {},
     "output_type": "display_data"
    },
    {
     "data": {
      "text/markdown": [
       "- `ChildUnder5Mortality12` - Распределение причин смерти среди детей в возрасте до 5 лет (%). Сепсис и другие инфекционные состояния новорожденных."
      ],
      "text/plain": [
       "<IPython.core.display.Markdown object>"
      ]
     },
     "metadata": {},
     "output_type": "display_data"
    },
    {
     "data": {
      "text/markdown": [
       "- `ChildUnder5Mortality3` - Распределение причин смерти среди детей в возрасте до 5 лет (%). Диарейные заболевания."
      ],
      "text/plain": [
       "<IPython.core.display.Markdown object>"
      ]
     },
     "metadata": {},
     "output_type": "display_data"
    },
    {
     "data": {
      "text/markdown": [
       "- `ChildUnder5Mortality11` - Распределение причин смерти среди детей в возрасте до 5 лет (%). Родовая асфиксия и родовая травма."
      ],
      "text/plain": [
       "<IPython.core.display.Markdown object>"
      ]
     },
     "metadata": {},
     "output_type": "display_data"
    },
    {
     "data": {
      "text/markdown": [
       "- `ChildUnder5Mortality13` - Распределение причин смерти среди детей в возрасте до 5 лет (%). Другие инфекционные, перинатальные и алиментарные состояния."
      ],
      "text/plain": [
       "<IPython.core.display.Markdown object>"
      ]
     },
     "metadata": {},
     "output_type": "display_data"
    },
    {
     "data": {
      "text/markdown": [
       "- `ChildUnder5Mortality17` - Распределение причин смерти среди детей в возрасте до 5 лет (%). Травмы."
      ],
      "text/plain": [
       "<IPython.core.display.Markdown object>"
      ]
     },
     "metadata": {},
     "output_type": "display_data"
    },
    {
     "data": {
      "text/markdown": [
       "- `ChildUnder5Mortality9` - Распределение причин смерти среди детей в возрасте до 5 лет (%). Острые инфекции нижних дыхательных путей."
      ],
      "text/plain": [
       "<IPython.core.display.Markdown object>"
      ]
     },
     "metadata": {},
     "output_type": "display_data"
    },
    {
     "data": {
      "text/markdown": [
       "- `ChildUnder5Mortality16` - Распределение причин смерти среди детей в возрасте до 5 лет (%). Другие неинфекционные заболевания."
      ],
      "text/plain": [
       "<IPython.core.display.Markdown object>"
      ]
     },
     "metadata": {},
     "output_type": "display_data"
    },
    {
     "data": {
      "text/markdown": [
       "- `ChildUnder5Mortality15` - Распределение причин смерти среди детей в возрасте до 5 лет (%). Врожденные аномалии."
      ],
      "text/plain": [
       "<IPython.core.display.Markdown object>"
      ]
     },
     "metadata": {},
     "output_type": "display_data"
    },
    {
     "data": {
      "text/markdown": [
       "- `ChildUnder5Mortality10` - Распределение причин смерти среди детей в возрасте до 5 лет (%). Недоношенность."
      ],
      "text/plain": [
       "<IPython.core.display.Markdown object>"
      ]
     },
     "metadata": {},
     "output_type": "display_data"
    },
    {
     "data": {
      "text/markdown": [
       "- `LifeExpectancy` - Ожидаемая продоложительность жизни"
      ],
      "text/plain": [
       "<IPython.core.display.Markdown object>"
      ]
     },
     "metadata": {},
     "output_type": "display_data"
    }
   ],
   "source": [
    "# Выведем описание полей\n",
    "dislay_some_fields_description(list(cumulative_data.columns))"
   ]
  },
  {
   "cell_type": "markdown",
   "metadata": {},
   "source": [
    "## Корреляция признаков с целевой переменной"
   ]
  },
  {
   "cell_type": "markdown",
   "metadata": {},
   "source": [
    "Построим график корреляции всех признаков с целевой переменной."
   ]
  },
  {
   "cell_type": "code",
   "execution_count": 6,
   "metadata": {},
   "outputs": [
    {
     "data": {
      "image/png": "[encoded data removed]",
      "text/plain": [
       "<Figure size 1440x576 with 1 Axes>"
      ]
     },
     "metadata": {
      "needs_background": "light"
     },
     "output_type": "display_data"
    },
    {
     "data": {
      "text/html": [
       "<div style=\"margin-left: 45px\"}><font color=\"LightCoral\"><strong>Положительная корреляция</strong></font><br /><font color=\"DodgerBlue\"><strong>Отрицательная корреляция</strong></font></div>"
      ],
      "text/plain": [
       "<IPython.core.display.HTML object>"
      ]
     },
     "metadata": {},
     "output_type": "display_data"
    }
   ],
   "source": [
    "# Для удобства чтения графика сделаем переименование признаков с кодами в названиях\n",
    "rename_dict = get_temp_rename_dict(cumulative_data)\n",
    "\n",
    "# Построим график\n",
    "display_corellation_by_target(\n",
    "    cumulative_data.rename(columns=rename_dict), \n",
    "    figsize=(20, 8)\n",
    ")"
   ]
  },
  {
   "cell_type": "markdown",
   "metadata": {},
   "source": [
    "Признаки, имеющие **отрицательную корреляцию с целевой переменной**,\\\n",
    "можно отнести к **факторам неблагополучия стран**. \\\n",
    "То есть, они не способствуют увеличению продолжительности жизни.\\\n",
    "Эти факторы коррелируют также между собой.\n",
    "\n",
    "Признаки, имеющие **положительную корреляцию с целевой переменной**,\\\n",
    "можно разделить на 2 вида.\n",
    "- Одни признаки являются **факторами явного благополучия** \\\n",
    "(например, уровень санитарии, доступ к питьевой воде, ВВП на душу населения и др.)\n",
    "- Другие признаки являются скорее **проблемами развитых стран**. \\\n",
    "Например, врожденные аномалии, недоношенность, злокачественные новообразования и др.\\\n",
    "Они могут проявляться с одной стороны от плохой экологии. \\\n",
    "И с другой стороны эти проблемы проявляются, если смертность благодаря медицине \\\n",
    "не наступает раньше, как в неблагополучных странах.\n",
    "\n",
    "Признаки из этой группы также коррелируют между собой.\n",
    "\n",
    "Посмотрим, как по этим признакам разделятся страны с помощью кластеризации."
   ]
  },
  {
   "cell_type": "markdown",
   "metadata": {},
   "source": [
    "## Кластеризация с помощью k-means"
   ]
  },
  {
   "cell_type": "code",
   "execution_count": 7,
   "metadata": {},
   "outputs": [
    {
     "data": {
      "text/html": [
       "<div>\n",
       "<style scoped>\n",
       "    .dataframe tbody tr th:only-of-type {\n",
       "        vertical-align: middle;\n",
       "    }\n",
       "\n",
       "    .dataframe tbody tr th {\n",
       "        vertical-align: top;\n",
       "    }\n",
       "\n",
       "    .dataframe thead th {\n",
       "        text-align: right;\n",
       "    }\n",
       "</style>\n",
       "<table border=\"1\" class=\"dataframe\">\n",
       "  <thead>\n",
       "    <tr style=\"text-align: right;\">\n",
       "      <th></th>\n",
       "      <th>AdultMortality</th>\n",
       "      <th>Homicides</th>\n",
       "      <th>MaternalMortality</th>\n",
       "      <th>AdultNcdMortality</th>\n",
       "      <th>AdultNcdMortality117</th>\n",
       "      <th>AdultNcdMortality110</th>\n",
       "      <th>AdultNcdMortality080</th>\n",
       "      <th>AdultNcdMortality061</th>\n",
       "      <th>AdultNcdMortalitySum</th>\n",
       "      <th>PoisoningMortality</th>\n",
       "      <th>...</th>\n",
       "      <th>ChildUnder5Mortality12</th>\n",
       "      <th>ChildUnder5Mortality3</th>\n",
       "      <th>ChildUnder5Mortality11</th>\n",
       "      <th>ChildUnder5Mortality13</th>\n",
       "      <th>ChildUnder5Mortality17</th>\n",
       "      <th>ChildUnder5Mortality9</th>\n",
       "      <th>ChildUnder5Mortality16</th>\n",
       "      <th>ChildUnder5Mortality15</th>\n",
       "      <th>ChildUnder5Mortality10</th>\n",
       "      <th>LifeExpectancy</th>\n",
       "    </tr>\n",
       "    <tr>\n",
       "      <th>Location</th>\n",
       "      <th></th>\n",
       "      <th></th>\n",
       "      <th></th>\n",
       "      <th></th>\n",
       "      <th></th>\n",
       "      <th></th>\n",
       "      <th></th>\n",
       "      <th></th>\n",
       "      <th></th>\n",
       "      <th></th>\n",
       "      <th></th>\n",
       "      <th></th>\n",
       "      <th></th>\n",
       "      <th></th>\n",
       "      <th></th>\n",
       "      <th></th>\n",
       "      <th></th>\n",
       "      <th></th>\n",
       "      <th></th>\n",
       "      <th></th>\n",
       "      <th></th>\n",
       "    </tr>\n",
       "  </thead>\n",
       "  <tbody>\n",
       "    <tr>\n",
       "      <th>Afghanistan</th>\n",
       "      <td>32.970556</td>\n",
       "      <td>0.009232</td>\n",
       "      <td>0.982397</td>\n",
       "      <td>39.088889</td>\n",
       "      <td>0.026521</td>\n",
       "      <td>0.204127</td>\n",
       "      <td>0.018473</td>\n",
       "      <td>0.041092</td>\n",
       "      <td>0.290212</td>\n",
       "      <td>0.001766</td>\n",
       "      <td>...</td>\n",
       "      <td>0.071444</td>\n",
       "      <td>0.101222</td>\n",
       "      <td>0.152222</td>\n",
       "      <td>0.076111</td>\n",
       "      <td>0.049889</td>\n",
       "      <td>0.178333</td>\n",
       "      <td>0.049000</td>\n",
       "      <td>0.050333</td>\n",
       "      <td>0.158333</td>\n",
       "      <td>57.991111</td>\n",
       "    </tr>\n",
       "    <tr>\n",
       "      <th>Albania</th>\n",
       "      <td>9.098222</td>\n",
       "      <td>0.004934</td>\n",
       "      <td>0.009525</td>\n",
       "      <td>16.522222</td>\n",
       "      <td>0.024715</td>\n",
       "      <td>0.363957</td>\n",
       "      <td>0.006429</td>\n",
       "      <td>0.155068</td>\n",
       "      <td>0.550169</td>\n",
       "      <td>0.000501</td>\n",
       "      <td>...</td>\n",
       "      <td>0.022111</td>\n",
       "      <td>0.014833</td>\n",
       "      <td>0.070556</td>\n",
       "      <td>0.058556</td>\n",
       "      <td>0.097056</td>\n",
       "      <td>0.140333</td>\n",
       "      <td>0.086222</td>\n",
       "      <td>0.243889</td>\n",
       "      <td>0.228889</td>\n",
       "      <td>76.033889</td>\n",
       "    </tr>\n",
       "    <tr>\n",
       "      <th>Algeria</th>\n",
       "      <td>9.686222</td>\n",
       "      <td>0.001636</td>\n",
       "      <td>0.119624</td>\n",
       "      <td>15.827778</td>\n",
       "      <td>0.014885</td>\n",
       "      <td>0.189440</td>\n",
       "      <td>0.012545</td>\n",
       "      <td>0.059538</td>\n",
       "      <td>0.276407</td>\n",
       "      <td>0.000891</td>\n",
       "      <td>...</td>\n",
       "      <td>0.081333</td>\n",
       "      <td>0.059278</td>\n",
       "      <td>0.140000</td>\n",
       "      <td>0.050278</td>\n",
       "      <td>0.055333</td>\n",
       "      <td>0.135556</td>\n",
       "      <td>0.076389</td>\n",
       "      <td>0.142222</td>\n",
       "      <td>0.229444</td>\n",
       "      <td>74.729444</td>\n",
       "    </tr>\n",
       "    <tr>\n",
       "      <th>Angola</th>\n",
       "      <td>29.310000</td>\n",
       "      <td>0.011315</td>\n",
       "      <td>0.468428</td>\n",
       "      <td>26.222222</td>\n",
       "      <td>0.021080</td>\n",
       "      <td>0.107075</td>\n",
       "      <td>0.017522</td>\n",
       "      <td>0.033227</td>\n",
       "      <td>0.178904</td>\n",
       "      <td>0.003071</td>\n",
       "      <td>...</td>\n",
       "      <td>0.045222</td>\n",
       "      <td>0.147278</td>\n",
       "      <td>0.112222</td>\n",
       "      <td>0.106667</td>\n",
       "      <td>0.049778</td>\n",
       "      <td>0.200000</td>\n",
       "      <td>0.032222</td>\n",
       "      <td>0.049611</td>\n",
       "      <td>0.102611</td>\n",
       "      <td>56.326111</td>\n",
       "    </tr>\n",
       "    <tr>\n",
       "      <th>Antigua and Barbuda</th>\n",
       "      <td>11.518333</td>\n",
       "      <td>0.003739</td>\n",
       "      <td>0.034403</td>\n",
       "      <td>17.966667</td>\n",
       "      <td>0.023250</td>\n",
       "      <td>0.213579</td>\n",
       "      <td>0.063271</td>\n",
       "      <td>0.116369</td>\n",
       "      <td>0.416470</td>\n",
       "      <td>0.000600</td>\n",
       "      <td>...</td>\n",
       "      <td>0.018611</td>\n",
       "      <td>0.002944</td>\n",
       "      <td>0.115778</td>\n",
       "      <td>0.081389</td>\n",
       "      <td>0.052944</td>\n",
       "      <td>0.041222</td>\n",
       "      <td>0.189889</td>\n",
       "      <td>0.242222</td>\n",
       "      <td>0.245000</td>\n",
       "      <td>75.344444</td>\n",
       "    </tr>\n",
       "  </tbody>\n",
       "</table>\n",
       "<p>5 rows × 48 columns</p>\n",
       "</div>"
      ],
      "text/plain": [
       "                     AdultMortality  Homicides  MaternalMortality  \\\n",
       "Location                                                            \n",
       "Afghanistan               32.970556   0.009232           0.982397   \n",
       "Albania                    9.098222   0.004934           0.009525   \n",
       "Algeria                    9.686222   0.001636           0.119624   \n",
       "Angola                    29.310000   0.011315           0.468428   \n",
       "Antigua and Barbuda       11.518333   0.003739           0.034403   \n",
       "\n",
       "                     AdultNcdMortality  AdultNcdMortality117  \\\n",
       "Location                                                       \n",
       "Afghanistan                  39.088889              0.026521   \n",
       "Albania                      16.522222              0.024715   \n",
       "Algeria                      15.827778              0.014885   \n",
       "Angola                       26.222222              0.021080   \n",
       "Antigua and Barbuda          17.966667              0.023250   \n",
       "\n",
       "                     AdultNcdMortality110  AdultNcdMortality080  \\\n",
       "Location                                                          \n",
       "Afghanistan                      0.204127              0.018473   \n",
       "Albania                          0.363957              0.006429   \n",
       "Algeria                          0.189440              0.012545   \n",
       "Angola                           0.107075              0.017522   \n",
       "Antigua and Barbuda              0.213579              0.063271   \n",
       "\n",
       "                     AdultNcdMortality061  AdultNcdMortalitySum  \\\n",
       "Location                                                          \n",
       "Afghanistan                      0.041092              0.290212   \n",
       "Albania                          0.155068              0.550169   \n",
       "Algeria                          0.059538              0.276407   \n",
       "Angola                           0.033227              0.178904   \n",
       "Antigua and Barbuda              0.116369              0.416470   \n",
       "\n",
       "                     PoisoningMortality  ...  ChildUnder5Mortality12  \\\n",
       "Location                                 ...                           \n",
       "Afghanistan                    0.001766  ...                0.071444   \n",
       "Albania                        0.000501  ...                0.022111   \n",
       "Algeria                        0.000891  ...                0.081333   \n",
       "Angola                         0.003071  ...                0.045222   \n",
       "Antigua and Barbuda            0.000600  ...                0.018611   \n",
       "\n",
       "                     ChildUnder5Mortality3  ChildUnder5Mortality11  \\\n",
       "Location                                                             \n",
       "Afghanistan                       0.101222                0.152222   \n",
       "Albania                           0.014833                0.070556   \n",
       "Algeria                           0.059278                0.140000   \n",
       "Angola                            0.147278                0.112222   \n",
       "Antigua and Barbuda               0.002944                0.115778   \n",
       "\n",
       "                     ChildUnder5Mortality13  ChildUnder5Mortality17  \\\n",
       "Location                                                              \n",
       "Afghanistan                        0.076111                0.049889   \n",
       "Albania                            0.058556                0.097056   \n",
       "Algeria                            0.050278                0.055333   \n",
       "Angola                             0.106667                0.049778   \n",
       "Antigua and Barbuda                0.081389                0.052944   \n",
       "\n",
       "                     ChildUnder5Mortality9  ChildUnder5Mortality16  \\\n",
       "Location                                                             \n",
       "Afghanistan                       0.178333                0.049000   \n",
       "Albania                           0.140333                0.086222   \n",
       "Algeria                           0.135556                0.076389   \n",
       "Angola                            0.200000                0.032222   \n",
       "Antigua and Barbuda               0.041222                0.189889   \n",
       "\n",
       "                     ChildUnder5Mortality15  ChildUnder5Mortality10  \\\n",
       "Location                                                              \n",
       "Afghanistan                        0.050333                0.158333   \n",
       "Albania                            0.243889                0.228889   \n",
       "Algeria                            0.142222                0.229444   \n",
       "Angola                             0.049611                0.102611   \n",
       "Antigua and Barbuda                0.242222                0.245000   \n",
       "\n",
       "                     LifeExpectancy  \n",
       "Location                             \n",
       "Afghanistan               57.991111  \n",
       "Albania                   76.033889  \n",
       "Algeria                   74.729444  \n",
       "Angola                    56.326111  \n",
       "Antigua and Barbuda       75.344444  \n",
       "\n",
       "[5 rows x 48 columns]"
      ]
     },
     "execution_count": 7,
     "metadata": {},
     "output_type": "execute_result"
    }
   ],
   "source": [
    "columns_to_drop = [\n",
    "    F.Period.value, F.ParentLocationCode.value, \n",
    "    F.ParentLocation.value, F.SpatialDimValueCode.value,\n",
    "]\n",
    "\n",
    "# Посчитаем средние значения признаков по всем странам\n",
    "cumulative_mean_data = cumulative_data \\\n",
    "    .drop(columns=columns_to_drop) \\\n",
    "    .groupby(F.Location.value) \\\n",
    "    .agg('mean')\n",
    "    \n",
    "cumulative_mean_data.head()"
   ]
  },
  {
   "cell_type": "markdown",
   "metadata": {},
   "source": [
    "Проверим, нормально ли распределены данные.\\\n",
    "Для проверки воспользуемся тестом Шапиро-Уилка.\\\n",
    "Уровень значимости возьмем равным $\\alpha=0.05$ "
   ]
  },
  {
   "cell_type": "code",
   "execution_count": 8,
   "metadata": {},
   "outputs": [
    {
     "data": {
      "text/plain": [
       "is_normal\n",
       "False    47\n",
       "True      1\n",
       "Name: count, dtype: int64"
      ]
     },
     "execution_count": 8,
     "metadata": {},
     "output_type": "execute_result"
    }
   ],
   "source": [
    "# Имена столбцов\n",
    "columns = list(cumulative_mean_data.columns)\n",
    "# Значения pvalue теста Шапиро-Уилка для признаков\n",
    "shapiro_pvalues = []\n",
    "\n",
    "# Уровень значимости\n",
    "alpha = 0.05 \n",
    "\n",
    "for column_name in columns:  \n",
    "    # Вычисляем результат теста Шапиро-Уилка\n",
    "    shapiro_result = shapiro(cumulative_mean_data[column_name])\n",
    "    # Сохраняем pvalue\n",
    "    shapiro_pvalues.append(shapiro_result.pvalue)\n",
    "\n",
    "# Соберем данные в таблицу\n",
    "shapiro_data = pd.DataFrame({'feature': columns, 'shapiro_pvalue': shapiro_pvalues})\n",
    "# Добавим флаг, нормальное ли распределение\n",
    "shapiro_data['is_normal'] = shapiro_data['shapiro_pvalue'] > alpha\n",
    "\n",
    "# Посмотрим сколько признаков как распределено\n",
    "shapiro_data['is_normal'].value_counts()"
   ]
  },
  {
   "cell_type": "markdown",
   "metadata": {},
   "source": [
    "Только один признак распределен нормально.\\\n",
    "Поэтому поэтому приведем данные к единому масштабу с помощью `MinMaxScaler`."
   ]
  },
  {
   "cell_type": "code",
   "execution_count": 9,
   "metadata": {},
   "outputs": [
    {
     "data": {
      "text/html": [
       "<div>\n",
       "<style scoped>\n",
       "    .dataframe tbody tr th:only-of-type {\n",
       "        vertical-align: middle;\n",
       "    }\n",
       "\n",
       "    .dataframe tbody tr th {\n",
       "        vertical-align: top;\n",
       "    }\n",
       "\n",
       "    .dataframe thead th {\n",
       "        text-align: right;\n",
       "    }\n",
       "</style>\n",
       "<table border=\"1\" class=\"dataframe\">\n",
       "  <thead>\n",
       "    <tr style=\"text-align: right;\">\n",
       "      <th></th>\n",
       "      <th>AdultMortality</th>\n",
       "      <th>Homicides</th>\n",
       "      <th>MaternalMortality</th>\n",
       "      <th>AdultNcdMortality</th>\n",
       "      <th>AdultNcdMortality117</th>\n",
       "      <th>AdultNcdMortality110</th>\n",
       "      <th>AdultNcdMortality080</th>\n",
       "      <th>AdultNcdMortality061</th>\n",
       "      <th>AdultNcdMortalitySum</th>\n",
       "      <th>PoisoningMortality</th>\n",
       "      <th>...</th>\n",
       "      <th>ChildUnder5Mortality12</th>\n",
       "      <th>ChildUnder5Mortality3</th>\n",
       "      <th>ChildUnder5Mortality11</th>\n",
       "      <th>ChildUnder5Mortality13</th>\n",
       "      <th>ChildUnder5Mortality17</th>\n",
       "      <th>ChildUnder5Mortality9</th>\n",
       "      <th>ChildUnder5Mortality16</th>\n",
       "      <th>ChildUnder5Mortality15</th>\n",
       "      <th>ChildUnder5Mortality10</th>\n",
       "      <th>LifeExpectancy</th>\n",
       "    </tr>\n",
       "  </thead>\n",
       "  <tbody>\n",
       "    <tr>\n",
       "      <th>count</th>\n",
       "      <td>181.000000</td>\n",
       "      <td>181.000000</td>\n",
       "      <td>181.000000</td>\n",
       "      <td>181.000000</td>\n",
       "      <td>181.000000</td>\n",
       "      <td>181.000000</td>\n",
       "      <td>181.000000</td>\n",
       "      <td>181.000000</td>\n",
       "      <td>181.000000</td>\n",
       "      <td>181.000000</td>\n",
       "      <td>...</td>\n",
       "      <td>181.000000</td>\n",
       "      <td>181.000000</td>\n",
       "      <td>181.000000</td>\n",
       "      <td>181.000000</td>\n",
       "      <td>181.000000</td>\n",
       "      <td>181.000000</td>\n",
       "      <td>181.000000</td>\n",
       "      <td>181.000000</td>\n",
       "      <td>181.000000</td>\n",
       "      <td>181.000000</td>\n",
       "    </tr>\n",
       "    <tr>\n",
       "      <th>mean</th>\n",
       "      <td>0.230048</td>\n",
       "      <td>0.125176</td>\n",
       "      <td>0.152080</td>\n",
       "      <td>0.372312</td>\n",
       "      <td>0.361619</td>\n",
       "      <td>0.204713</td>\n",
       "      <td>0.143448</td>\n",
       "      <td>0.306293</td>\n",
       "      <td>0.265582</td>\n",
       "      <td>0.203418</td>\n",
       "      <td>...</td>\n",
       "      <td>0.415847</td>\n",
       "      <td>0.356511</td>\n",
       "      <td>0.222758</td>\n",
       "      <td>0.239241</td>\n",
       "      <td>0.334780</td>\n",
       "      <td>0.371260</td>\n",
       "      <td>0.224461</td>\n",
       "      <td>0.368228</td>\n",
       "      <td>0.301074</td>\n",
       "      <td>0.635860</td>\n",
       "    </tr>\n",
       "    <tr>\n",
       "      <th>std</th>\n",
       "      <td>0.191322</td>\n",
       "      <td>0.165714</td>\n",
       "      <td>0.211266</td>\n",
       "      <td>0.216735</td>\n",
       "      <td>0.229569</td>\n",
       "      <td>0.210816</td>\n",
       "      <td>0.149564</td>\n",
       "      <td>0.267695</td>\n",
       "      <td>0.223215</td>\n",
       "      <td>0.211052</td>\n",
       "      <td>...</td>\n",
       "      <td>0.212146</td>\n",
       "      <td>0.299131</td>\n",
       "      <td>0.114970</td>\n",
       "      <td>0.112688</td>\n",
       "      <td>0.162110</td>\n",
       "      <td>0.208899</td>\n",
       "      <td>0.164313</td>\n",
       "      <td>0.266947</td>\n",
       "      <td>0.187703</td>\n",
       "      <td>0.237739</td>\n",
       "    </tr>\n",
       "    <tr>\n",
       "      <th>min</th>\n",
       "      <td>0.000000</td>\n",
       "      <td>0.000000</td>\n",
       "      <td>0.000000</td>\n",
       "      <td>0.000000</td>\n",
       "      <td>0.000000</td>\n",
       "      <td>0.000000</td>\n",
       "      <td>0.000000</td>\n",
       "      <td>0.000000</td>\n",
       "      <td>0.000000</td>\n",
       "      <td>0.000000</td>\n",
       "      <td>...</td>\n",
       "      <td>0.000000</td>\n",
       "      <td>0.000000</td>\n",
       "      <td>0.000000</td>\n",
       "      <td>0.000000</td>\n",
       "      <td>0.000000</td>\n",
       "      <td>0.000000</td>\n",
       "      <td>0.000000</td>\n",
       "      <td>0.000000</td>\n",
       "      <td>0.000000</td>\n",
       "      <td>0.000000</td>\n",
       "    </tr>\n",
       "    <tr>\n",
       "      <th>25%</th>\n",
       "      <td>0.082869</td>\n",
       "      <td>0.026530</td>\n",
       "      <td>0.009002</td>\n",
       "      <td>0.214690</td>\n",
       "      <td>0.188807</td>\n",
       "      <td>0.070358</td>\n",
       "      <td>0.060502</td>\n",
       "      <td>0.090947</td>\n",
       "      <td>0.101006</td>\n",
       "      <td>0.048224</td>\n",
       "      <td>...</td>\n",
       "      <td>0.252336</td>\n",
       "      <td>0.058582</td>\n",
       "      <td>0.148101</td>\n",
       "      <td>0.165051</td>\n",
       "      <td>0.225721</td>\n",
       "      <td>0.176842</td>\n",
       "      <td>0.078424</td>\n",
       "      <td>0.083574</td>\n",
       "      <td>0.148942</td>\n",
       "      <td>0.470947</td>\n",
       "    </tr>\n",
       "    <tr>\n",
       "      <th>50%</th>\n",
       "      <td>0.180571</td>\n",
       "      <td>0.074204</td>\n",
       "      <td>0.044617</td>\n",
       "      <td>0.371586</td>\n",
       "      <td>0.322161</td>\n",
       "      <td>0.138958</td>\n",
       "      <td>0.096529</td>\n",
       "      <td>0.181081</td>\n",
       "      <td>0.188624</td>\n",
       "      <td>0.103426</td>\n",
       "      <td>...</td>\n",
       "      <td>0.406267</td>\n",
       "      <td>0.342910</td>\n",
       "      <td>0.220615</td>\n",
       "      <td>0.244646</td>\n",
       "      <td>0.311836</td>\n",
       "      <td>0.410466</td>\n",
       "      <td>0.195480</td>\n",
       "      <td>0.374914</td>\n",
       "      <td>0.301941</td>\n",
       "      <td>0.712074</td>\n",
       "    </tr>\n",
       "    <tr>\n",
       "      <th>75%</th>\n",
       "      <td>0.328147</td>\n",
       "      <td>0.153163</td>\n",
       "      <td>0.254926</td>\n",
       "      <td>0.497335</td>\n",
       "      <td>0.472823</td>\n",
       "      <td>0.246064</td>\n",
       "      <td>0.174395</td>\n",
       "      <td>0.523296</td>\n",
       "      <td>0.369665</td>\n",
       "      <td>0.338231</td>\n",
       "      <td>...</td>\n",
       "      <td>0.556350</td>\n",
       "      <td>0.612313</td>\n",
       "      <td>0.298373</td>\n",
       "      <td>0.290707</td>\n",
       "      <td>0.405539</td>\n",
       "      <td>0.528670</td>\n",
       "      <td>0.338613</td>\n",
       "      <td>0.575933</td>\n",
       "      <td>0.407418</td>\n",
       "      <td>0.805180</td>\n",
       "    </tr>\n",
       "    <tr>\n",
       "      <th>max</th>\n",
       "      <td>1.000000</td>\n",
       "      <td>1.000000</td>\n",
       "      <td>1.000000</td>\n",
       "      <td>1.000000</td>\n",
       "      <td>1.000000</td>\n",
       "      <td>1.000000</td>\n",
       "      <td>1.000000</td>\n",
       "      <td>1.000000</td>\n",
       "      <td>1.000000</td>\n",
       "      <td>1.000000</td>\n",
       "      <td>...</td>\n",
       "      <td>1.000000</td>\n",
       "      <td>1.000000</td>\n",
       "      <td>1.000000</td>\n",
       "      <td>1.000000</td>\n",
       "      <td>1.000000</td>\n",
       "      <td>1.000000</td>\n",
       "      <td>1.000000</td>\n",
       "      <td>1.000000</td>\n",
       "      <td>1.000000</td>\n",
       "      <td>1.000000</td>\n",
       "    </tr>\n",
       "  </tbody>\n",
       "</table>\n",
       "<p>8 rows × 48 columns</p>\n",
       "</div>"
      ],
      "text/plain": [
       "       AdultMortality   Homicides  MaternalMortality  AdultNcdMortality  \\\n",
       "count      181.000000  181.000000         181.000000         181.000000   \n",
       "mean         0.230048    0.125176           0.152080           0.372312   \n",
       "std          0.191322    0.165714           0.211266           0.216735   \n",
       "min          0.000000    0.000000           0.000000           0.000000   \n",
       "25%          0.082869    0.026530           0.009002           0.214690   \n",
       "50%          0.180571    0.074204           0.044617           0.371586   \n",
       "75%          0.328147    0.153163           0.254926           0.497335   \n",
       "max          1.000000    1.000000           1.000000           1.000000   \n",
       "\n",
       "       AdultNcdMortality117  AdultNcdMortality110  AdultNcdMortality080  \\\n",
       "count            181.000000            181.000000            181.000000   \n",
       "mean               0.361619              0.204713              0.143448   \n",
       "std                0.229569              0.210816              0.149564   \n",
       "min                0.000000              0.000000              0.000000   \n",
       "25%                0.188807              0.070358              0.060502   \n",
       "50%                0.322161              0.138958              0.096529   \n",
       "75%                0.472823              0.246064              0.174395   \n",
       "max                1.000000              1.000000              1.000000   \n",
       "\n",
       "       AdultNcdMortality061  AdultNcdMortalitySum  PoisoningMortality  ...  \\\n",
       "count            181.000000            181.000000          181.000000  ...   \n",
       "mean               0.306293              0.265582            0.203418  ...   \n",
       "std                0.267695              0.223215            0.211052  ...   \n",
       "min                0.000000              0.000000            0.000000  ...   \n",
       "25%                0.090947              0.101006            0.048224  ...   \n",
       "50%                0.181081              0.188624            0.103426  ...   \n",
       "75%                0.523296              0.369665            0.338231  ...   \n",
       "max                1.000000              1.000000            1.000000  ...   \n",
       "\n",
       "       ChildUnder5Mortality12  ChildUnder5Mortality3  ChildUnder5Mortality11  \\\n",
       "count              181.000000             181.000000              181.000000   \n",
       "mean                 0.415847               0.356511                0.222758   \n",
       "std                  0.212146               0.299131                0.114970   \n",
       "min                  0.000000               0.000000                0.000000   \n",
       "25%                  0.252336               0.058582                0.148101   \n",
       "50%                  0.406267               0.342910                0.220615   \n",
       "75%                  0.556350               0.612313                0.298373   \n",
       "max                  1.000000               1.000000                1.000000   \n",
       "\n",
       "       ChildUnder5Mortality13  ChildUnder5Mortality17  ChildUnder5Mortality9  \\\n",
       "count              181.000000              181.000000             181.000000   \n",
       "mean                 0.239241                0.334780               0.371260   \n",
       "std                  0.112688                0.162110               0.208899   \n",
       "min                  0.000000                0.000000               0.000000   \n",
       "25%                  0.165051                0.225721               0.176842   \n",
       "50%                  0.244646                0.311836               0.410466   \n",
       "75%                  0.290707                0.405539               0.528670   \n",
       "max                  1.000000                1.000000               1.000000   \n",
       "\n",
       "       ChildUnder5Mortality16  ChildUnder5Mortality15  ChildUnder5Mortality10  \\\n",
       "count              181.000000              181.000000              181.000000   \n",
       "mean                 0.224461                0.368228                0.301074   \n",
       "std                  0.164313                0.266947                0.187703   \n",
       "min                  0.000000                0.000000                0.000000   \n",
       "25%                  0.078424                0.083574                0.148942   \n",
       "50%                  0.195480                0.374914                0.301941   \n",
       "75%                  0.338613                0.575933                0.407418   \n",
       "max                  1.000000                1.000000                1.000000   \n",
       "\n",
       "       LifeExpectancy  \n",
       "count      181.000000  \n",
       "mean         0.635860  \n",
       "std          0.237739  \n",
       "min          0.000000  \n",
       "25%          0.470947  \n",
       "50%          0.712074  \n",
       "75%          0.805180  \n",
       "max          1.000000  \n",
       "\n",
       "[8 rows x 48 columns]"
      ]
     },
     "execution_count": 9,
     "metadata": {},
     "output_type": "execute_result"
    }
   ],
   "source": [
    "# Сохраним названия стран из индекса, которые теряются при преобразовании\n",
    "locations_index = list(cumulative_mean_data.index)\n",
    "\n",
    "# Инициализируем нормализатор MinMaxScaler\n",
    "mm_scaler = MinMaxScaler()\n",
    "\n",
    "# Кодируем исходный датасет\n",
    "cumulative_scaled_data = mm_scaler.fit_transform(cumulative_mean_data)\n",
    "\n",
    "# Добавим имена столбцов и индекс, которые потерялись при преобразовании\n",
    "cumulative_scaled_data = pd.DataFrame(cumulative_scaled_data, columns=columns, index=locations_index)\n",
    "\n",
    "# Посмотрим на характеристики распределения\n",
    "cumulative_scaled_data.describe()"
   ]
  },
  {
   "cell_type": "markdown",
   "metadata": {},
   "source": [
    "Минимальное значение теперь у всех признаков в нуле, максимальное в единице.\\\n",
    "Попробуем определить оптимальное количество кластеров с помощью метода локтя."
   ]
  },
  {
   "cell_type": "code",
   "execution_count": 10,
   "metadata": {},
   "outputs": [
    {
     "data": {
      "image/png": "[encoded data removed]",
      "text/plain": [
       "<Figure size 720x360 with 1 Axes>"
      ]
     },
     "metadata": {
      "needs_background": "light"
     },
     "output_type": "display_data"
    },
    {
     "data": {
      "text/html": [
       "<div>\n",
       "<style scoped>\n",
       "    .dataframe tbody tr th:only-of-type {\n",
       "        vertical-align: middle;\n",
       "    }\n",
       "\n",
       "    .dataframe tbody tr th {\n",
       "        vertical-align: top;\n",
       "    }\n",
       "\n",
       "    .dataframe thead th {\n",
       "        text-align: right;\n",
       "    }\n",
       "</style>\n",
       "<table border=\"1\" class=\"dataframe\">\n",
       "  <thead>\n",
       "    <tr style=\"text-align: right;\">\n",
       "      <th></th>\n",
       "      <th>inertia</th>\n",
       "      <th>clusters_count</th>\n",
       "    </tr>\n",
       "  </thead>\n",
       "  <tbody>\n",
       "    <tr>\n",
       "      <th>0</th>\n",
       "      <td>212.900525</td>\n",
       "      <td>2</td>\n",
       "    </tr>\n",
       "    <tr>\n",
       "      <th>1</th>\n",
       "      <td>177.339734</td>\n",
       "      <td>3</td>\n",
       "    </tr>\n",
       "    <tr>\n",
       "      <th>2</th>\n",
       "      <td>163.031935</td>\n",
       "      <td>4</td>\n",
       "    </tr>\n",
       "    <tr>\n",
       "      <th>3</th>\n",
       "      <td>149.674820</td>\n",
       "      <td>5</td>\n",
       "    </tr>\n",
       "    <tr>\n",
       "      <th>4</th>\n",
       "      <td>140.530885</td>\n",
       "      <td>6</td>\n",
       "    </tr>\n",
       "    <tr>\n",
       "      <th>5</th>\n",
       "      <td>133.180522</td>\n",
       "      <td>7</td>\n",
       "    </tr>\n",
       "    <tr>\n",
       "      <th>6</th>\n",
       "      <td>127.478120</td>\n",
       "      <td>8</td>\n",
       "    </tr>\n",
       "    <tr>\n",
       "      <th>7</th>\n",
       "      <td>121.109726</td>\n",
       "      <td>9</td>\n",
       "    </tr>\n",
       "    <tr>\n",
       "      <th>8</th>\n",
       "      <td>115.848947</td>\n",
       "      <td>10</td>\n",
       "    </tr>\n",
       "  </tbody>\n",
       "</table>\n",
       "</div>"
      ],
      "text/plain": [
       "      inertia  clusters_count\n",
       "0  212.900525               2\n",
       "1  177.339734               3\n",
       "2  163.031935               4\n",
       "3  149.674820               5\n",
       "4  140.530885               6\n",
       "5  133.180522               7\n",
       "6  127.478120               8\n",
       "7  121.109726               9\n",
       "8  115.848947              10"
      ]
     },
     "metadata": {},
     "output_type": "display_data"
    }
   ],
   "source": [
    "# Построим график зависимости значения инерции от количества кластеров\n",
    "display_inertia(cumulative_scaled_data, 2, 10)"
   ]
  },
  {
   "cell_type": "markdown",
   "metadata": {},
   "source": [
    "Похоже, что оптимальное количество кластеров равно 3-м.\\\n",
    "Так как начиная с этой точки инерция уменьшается менее интенсивно.\n",
    "\n",
    "Попробуем подобрать оптимальное количество кластеров с помощью коэффициента силуэта."
   ]
  },
  {
   "cell_type": "code",
   "execution_count": 11,
   "metadata": {},
   "outputs": [
    {
     "data": {
      "image/png": "[encoded data removed]",
      "text/plain": [
       "<Figure size 720x360 with 1 Axes>"
      ]
     },
     "metadata": {
      "needs_background": "light"
     },
     "output_type": "display_data"
    },
    {
     "data": {
      "text/html": [
       "<div>\n",
       "<style scoped>\n",
       "    .dataframe tbody tr th:only-of-type {\n",
       "        vertical-align: middle;\n",
       "    }\n",
       "\n",
       "    .dataframe tbody tr th {\n",
       "        vertical-align: top;\n",
       "    }\n",
       "\n",
       "    .dataframe thead th {\n",
       "        text-align: right;\n",
       "    }\n",
       "</style>\n",
       "<table border=\"1\" class=\"dataframe\">\n",
       "  <thead>\n",
       "    <tr style=\"text-align: right;\">\n",
       "      <th></th>\n",
       "      <th>silhouette</th>\n",
       "      <th>clusters_count</th>\n",
       "    </tr>\n",
       "  </thead>\n",
       "  <tbody>\n",
       "    <tr>\n",
       "      <th>0</th>\n",
       "      <td>0.356054</td>\n",
       "      <td>2</td>\n",
       "    </tr>\n",
       "    <tr>\n",
       "      <th>1</th>\n",
       "      <td>0.255518</td>\n",
       "      <td>3</td>\n",
       "    </tr>\n",
       "    <tr>\n",
       "      <th>3</th>\n",
       "      <td>0.210186</td>\n",
       "      <td>5</td>\n",
       "    </tr>\n",
       "    <tr>\n",
       "      <th>2</th>\n",
       "      <td>0.206993</td>\n",
       "      <td>4</td>\n",
       "    </tr>\n",
       "    <tr>\n",
       "      <th>4</th>\n",
       "      <td>0.172841</td>\n",
       "      <td>6</td>\n",
       "    </tr>\n",
       "    <tr>\n",
       "      <th>7</th>\n",
       "      <td>0.172163</td>\n",
       "      <td>9</td>\n",
       "    </tr>\n",
       "    <tr>\n",
       "      <th>6</th>\n",
       "      <td>0.167504</td>\n",
       "      <td>8</td>\n",
       "    </tr>\n",
       "    <tr>\n",
       "      <th>5</th>\n",
       "      <td>0.164952</td>\n",
       "      <td>7</td>\n",
       "    </tr>\n",
       "    <tr>\n",
       "      <th>8</th>\n",
       "      <td>0.150877</td>\n",
       "      <td>10</td>\n",
       "    </tr>\n",
       "  </tbody>\n",
       "</table>\n",
       "</div>"
      ],
      "text/plain": [
       "   silhouette  clusters_count\n",
       "0    0.356054               2\n",
       "1    0.255518               3\n",
       "3    0.210186               5\n",
       "2    0.206993               4\n",
       "4    0.172841               6\n",
       "7    0.172163               9\n",
       "6    0.167504               8\n",
       "5    0.164952               7\n",
       "8    0.150877              10"
      ]
     },
     "metadata": {},
     "output_type": "display_data"
    }
   ],
   "source": [
    "display_silhouette(cumulative_scaled_data, 2, 10)"
   ]
  },
  {
   "cell_type": "code",
   "execution_count": 12,
   "metadata": {},
   "outputs": [],
   "source": [
    "# Константа с оптимальным количеством кластеров\n",
    "K_MEANS_CLUSTERS_COUNT = 2"
   ]
  },
  {
   "cell_type": "code",
   "execution_count": 13,
   "metadata": {},
   "outputs": [
    {
     "name": "stdout",
     "output_type": "stream",
     "text": [
      "Наибольшее значение метрики получаем для 2-х кластеров.\n",
      "Поэтому разделим страны на 2 кластера.\n"
     ]
    }
   ],
   "source": [
    "print(f'Наибольшее значение метрики получаем для {K_MEANS_CLUSTERS_COUNT}-х кластеров.')\n",
    "print(f'Поэтому разделим страны на {K_MEANS_CLUSTERS_COUNT} кластера.')"
   ]
  },
  {
   "cell_type": "code",
   "execution_count": 14,
   "metadata": {},
   "outputs": [
    {
     "data": {
      "text/html": [
       "<div>\n",
       "<style scoped>\n",
       "    .dataframe tbody tr th:only-of-type {\n",
       "        vertical-align: middle;\n",
       "    }\n",
       "\n",
       "    .dataframe tbody tr th {\n",
       "        vertical-align: top;\n",
       "    }\n",
       "\n",
       "    .dataframe thead th {\n",
       "        text-align: right;\n",
       "    }\n",
       "</style>\n",
       "<table border=\"1\" class=\"dataframe\">\n",
       "  <thead>\n",
       "    <tr style=\"text-align: right;\">\n",
       "      <th></th>\n",
       "      <th>AdultMortality</th>\n",
       "      <th>Homicides</th>\n",
       "      <th>MaternalMortality</th>\n",
       "      <th>AdultNcdMortality</th>\n",
       "      <th>AdultNcdMortality117</th>\n",
       "      <th>AdultNcdMortality110</th>\n",
       "      <th>AdultNcdMortality080</th>\n",
       "      <th>AdultNcdMortality061</th>\n",
       "      <th>AdultNcdMortalitySum</th>\n",
       "      <th>PoisoningMortality</th>\n",
       "      <th>...</th>\n",
       "      <th>ChildUnder5Mortality3</th>\n",
       "      <th>ChildUnder5Mortality11</th>\n",
       "      <th>ChildUnder5Mortality13</th>\n",
       "      <th>ChildUnder5Mortality17</th>\n",
       "      <th>ChildUnder5Mortality9</th>\n",
       "      <th>ChildUnder5Mortality16</th>\n",
       "      <th>ChildUnder5Mortality15</th>\n",
       "      <th>ChildUnder5Mortality10</th>\n",
       "      <th>LifeExpectancy</th>\n",
       "      <th>ClusterKMeans</th>\n",
       "    </tr>\n",
       "  </thead>\n",
       "  <tbody>\n",
       "    <tr>\n",
       "      <th>Afghanistan</th>\n",
       "      <td>0.460669</td>\n",
       "      <td>0.125335</td>\n",
       "      <td>0.790629</td>\n",
       "      <td>0.897069</td>\n",
       "      <td>0.266824</td>\n",
       "      <td>0.154748</td>\n",
       "      <td>0.074657</td>\n",
       "      <td>0.075262</td>\n",
       "      <td>0.151883</td>\n",
       "      <td>0.251004</td>\n",
       "      <td>...</td>\n",
       "      <td>0.679851</td>\n",
       "      <td>0.394213</td>\n",
       "      <td>0.218182</td>\n",
       "      <td>0.236722</td>\n",
       "      <td>0.582483</td>\n",
       "      <td>0.107978</td>\n",
       "      <td>0.056313</td>\n",
       "      <td>0.195885</td>\n",
       "      <td>0.311479</td>\n",
       "      <td>1</td>\n",
       "    </tr>\n",
       "    <tr>\n",
       "      <th>Albania</th>\n",
       "      <td>0.063786</td>\n",
       "      <td>0.064135</td>\n",
       "      <td>0.004763</td>\n",
       "      <td>0.220520</td>\n",
       "      <td>0.246645</td>\n",
       "      <td>0.326583</td>\n",
       "      <td>0.003352</td>\n",
       "      <td>0.441515</td>\n",
       "      <td>0.365338</td>\n",
       "      <td>0.067698</td>\n",
       "      <td>...</td>\n",
       "      <td>0.099627</td>\n",
       "      <td>0.128391</td>\n",
       "      <td>0.154343</td>\n",
       "      <td>0.558801</td>\n",
       "      <td>0.455558</td>\n",
       "      <td>0.237396</td>\n",
       "      <td>0.536004</td>\n",
       "      <td>0.379890</td>\n",
       "      <td>0.809799</td>\n",
       "      <td>0</td>\n",
       "    </tr>\n",
       "    <tr>\n",
       "      <th>Algeria</th>\n",
       "      <td>0.073562</td>\n",
       "      <td>0.017173</td>\n",
       "      <td>0.093699</td>\n",
       "      <td>0.199700</td>\n",
       "      <td>0.136751</td>\n",
       "      <td>0.138958</td>\n",
       "      <td>0.039564</td>\n",
       "      <td>0.134536</td>\n",
       "      <td>0.140548</td>\n",
       "      <td>0.124267</td>\n",
       "      <td>...</td>\n",
       "      <td>0.398134</td>\n",
       "      <td>0.354430</td>\n",
       "      <td>0.124242</td>\n",
       "      <td>0.273900</td>\n",
       "      <td>0.439599</td>\n",
       "      <td>0.203206</td>\n",
       "      <td>0.284042</td>\n",
       "      <td>0.381339</td>\n",
       "      <td>0.773771</td>\n",
       "      <td>0</td>\n",
       "    </tr>\n",
       "    <tr>\n",
       "      <th>Angola</th>\n",
       "      <td>0.399811</td>\n",
       "      <td>0.154990</td>\n",
       "      <td>0.375455</td>\n",
       "      <td>0.511326</td>\n",
       "      <td>0.206003</td>\n",
       "      <td>0.050407</td>\n",
       "      <td>0.069031</td>\n",
       "      <td>0.049990</td>\n",
       "      <td>0.060486</td>\n",
       "      <td>0.439943</td>\n",
       "      <td>...</td>\n",
       "      <td>0.989179</td>\n",
       "      <td>0.264014</td>\n",
       "      <td>0.329293</td>\n",
       "      <td>0.235964</td>\n",
       "      <td>0.654852</td>\n",
       "      <td>0.049643</td>\n",
       "      <td>0.054523</td>\n",
       "      <td>0.050565</td>\n",
       "      <td>0.265493</td>\n",
       "      <td>1</td>\n",
       "    </tr>\n",
       "    <tr>\n",
       "      <th>Antigua and Barbuda</th>\n",
       "      <td>0.104021</td>\n",
       "      <td>0.047128</td>\n",
       "      <td>0.024859</td>\n",
       "      <td>0.263824</td>\n",
       "      <td>0.230266</td>\n",
       "      <td>0.164910</td>\n",
       "      <td>0.339895</td>\n",
       "      <td>0.317160</td>\n",
       "      <td>0.255555</td>\n",
       "      <td>0.082134</td>\n",
       "      <td>...</td>\n",
       "      <td>0.019776</td>\n",
       "      <td>0.275588</td>\n",
       "      <td>0.237374</td>\n",
       "      <td>0.257587</td>\n",
       "      <td>0.124513</td>\n",
       "      <td>0.597837</td>\n",
       "      <td>0.531874</td>\n",
       "      <td>0.421907</td>\n",
       "      <td>0.790757</td>\n",
       "      <td>0</td>\n",
       "    </tr>\n",
       "  </tbody>\n",
       "</table>\n",
       "<p>5 rows × 49 columns</p>\n",
       "</div>"
      ],
      "text/plain": [
       "                     AdultMortality  Homicides  MaternalMortality  \\\n",
       "Afghanistan                0.460669   0.125335           0.790629   \n",
       "Albania                    0.063786   0.064135           0.004763   \n",
       "Algeria                    0.073562   0.017173           0.093699   \n",
       "Angola                     0.399811   0.154990           0.375455   \n",
       "Antigua and Barbuda        0.104021   0.047128           0.024859   \n",
       "\n",
       "                     AdultNcdMortality  AdultNcdMortality117  \\\n",
       "Afghanistan                   0.897069              0.266824   \n",
       "Albania                       0.220520              0.246645   \n",
       "Algeria                       0.199700              0.136751   \n",
       "Angola                        0.511326              0.206003   \n",
       "Antigua and Barbuda           0.263824              0.230266   \n",
       "\n",
       "                     AdultNcdMortality110  AdultNcdMortality080  \\\n",
       "Afghanistan                      0.154748              0.074657   \n",
       "Albania                          0.326583              0.003352   \n",
       "Algeria                          0.138958              0.039564   \n",
       "Angola                           0.050407              0.069031   \n",
       "Antigua and Barbuda              0.164910              0.339895   \n",
       "\n",
       "                     AdultNcdMortality061  AdultNcdMortalitySum  \\\n",
       "Afghanistan                      0.075262              0.151883   \n",
       "Albania                          0.441515              0.365338   \n",
       "Algeria                          0.134536              0.140548   \n",
       "Angola                           0.049990              0.060486   \n",
       "Antigua and Barbuda              0.317160              0.255555   \n",
       "\n",
       "                     PoisoningMortality  ...  ChildUnder5Mortality3  \\\n",
       "Afghanistan                    0.251004  ...               0.679851   \n",
       "Albania                        0.067698  ...               0.099627   \n",
       "Algeria                        0.124267  ...               0.398134   \n",
       "Angola                         0.439943  ...               0.989179   \n",
       "Antigua and Barbuda            0.082134  ...               0.019776   \n",
       "\n",
       "                     ChildUnder5Mortality11  ChildUnder5Mortality13  \\\n",
       "Afghanistan                        0.394213                0.218182   \n",
       "Albania                            0.128391                0.154343   \n",
       "Algeria                            0.354430                0.124242   \n",
       "Angola                             0.264014                0.329293   \n",
       "Antigua and Barbuda                0.275588                0.237374   \n",
       "\n",
       "                     ChildUnder5Mortality17  ChildUnder5Mortality9  \\\n",
       "Afghanistan                        0.236722               0.582483   \n",
       "Albania                            0.558801               0.455558   \n",
       "Algeria                            0.273900               0.439599   \n",
       "Angola                             0.235964               0.654852   \n",
       "Antigua and Barbuda                0.257587               0.124513   \n",
       "\n",
       "                     ChildUnder5Mortality16  ChildUnder5Mortality15  \\\n",
       "Afghanistan                        0.107978                0.056313   \n",
       "Albania                            0.237396                0.536004   \n",
       "Algeria                            0.203206                0.284042   \n",
       "Angola                             0.049643                0.054523   \n",
       "Antigua and Barbuda                0.597837                0.531874   \n",
       "\n",
       "                     ChildUnder5Mortality10  LifeExpectancy  ClusterKMeans  \n",
       "Afghanistan                        0.195885        0.311479              1  \n",
       "Albania                            0.379890        0.809799              0  \n",
       "Algeria                            0.381339        0.773771              0  \n",
       "Angola                             0.050565        0.265493              1  \n",
       "Antigua and Barbuda                0.421907        0.790757              0  \n",
       "\n",
       "[5 rows x 49 columns]"
      ]
     },
     "execution_count": 14,
     "metadata": {},
     "output_type": "execute_result"
    }
   ],
   "source": [
    "# Создадим объект модели\n",
    "k_means_model = KMeans(n_clusters=K_MEANS_CLUSTERS_COUNT, random_state=RANDOM_STATE)\n",
    "# Обучим модель\n",
    "k_means_model.fit_predict(cumulative_scaled_data)\n",
    "# Создадим столбец с метками кластеров\n",
    "cumulative_scaled_data[FCluster.K_MEANS.value] = k_means_model.labels_\n",
    "\n",
    "cumulative_scaled_data.head()"
   ]
  },
  {
   "cell_type": "markdown",
   "metadata": {},
   "source": [
    "Отобразим на карте полученные кластеры."
   ]
  },
  {
   "cell_type": "code",
   "execution_count": 15,
   "metadata": {},
   "outputs": [
    {
     "data": {
      "text/html": [
       "<div>\n",
       "<style scoped>\n",
       "    .dataframe tbody tr th:only-of-type {\n",
       "        vertical-align: middle;\n",
       "    }\n",
       "\n",
       "    .dataframe tbody tr th {\n",
       "        vertical-align: top;\n",
       "    }\n",
       "\n",
       "    .dataframe thead th {\n",
       "        text-align: right;\n",
       "    }\n",
       "</style>\n",
       "<table border=\"1\" class=\"dataframe\">\n",
       "  <thead>\n",
       "    <tr style=\"text-align: right;\">\n",
       "      <th></th>\n",
       "      <th>ParentLocationCode</th>\n",
       "      <th>ParentLocation</th>\n",
       "      <th>SpatialDimValueCode</th>\n",
       "      <th>Location</th>\n",
       "    </tr>\n",
       "  </thead>\n",
       "  <tbody>\n",
       "    <tr>\n",
       "      <th>0</th>\n",
       "      <td>AFR</td>\n",
       "      <td>Africa</td>\n",
       "      <td>AGO</td>\n",
       "      <td>Angola</td>\n",
       "    </tr>\n",
       "    <tr>\n",
       "      <th>1</th>\n",
       "      <td>AFR</td>\n",
       "      <td>Africa</td>\n",
       "      <td>BDI</td>\n",
       "      <td>Burundi</td>\n",
       "    </tr>\n",
       "    <tr>\n",
       "      <th>2</th>\n",
       "      <td>AFR</td>\n",
       "      <td>Africa</td>\n",
       "      <td>BEN</td>\n",
       "      <td>Benin</td>\n",
       "    </tr>\n",
       "    <tr>\n",
       "      <th>3</th>\n",
       "      <td>AFR</td>\n",
       "      <td>Africa</td>\n",
       "      <td>BFA</td>\n",
       "      <td>Burkina Faso</td>\n",
       "    </tr>\n",
       "    <tr>\n",
       "      <th>4</th>\n",
       "      <td>AFR</td>\n",
       "      <td>Africa</td>\n",
       "      <td>BWA</td>\n",
       "      <td>Botswana</td>\n",
       "    </tr>\n",
       "  </tbody>\n",
       "</table>\n",
       "</div>"
      ],
      "text/plain": [
       "  ParentLocationCode ParentLocation SpatialDimValueCode      Location\n",
       "0                AFR         Africa                 AGO        Angola\n",
       "1                AFR         Africa                 BDI       Burundi\n",
       "2                AFR         Africa                 BEN         Benin\n",
       "3                AFR         Africa                 BFA  Burkina Faso\n",
       "4                AFR         Africa                 BWA      Botswana"
      ]
     },
     "execution_count": 15,
     "metadata": {},
     "output_type": "execute_result"
    }
   ],
   "source": [
    "# Загрузим таблицу с кодами стран\n",
    "regions_and_locations_data = pd.read_csv(\n",
    "    '../data/regions_and_locations.csv'\n",
    ")\n",
    "regions_and_locations_data.head()"
   ]
  },
  {
   "cell_type": "code",
   "execution_count": 16,
   "metadata": {},
   "outputs": [
    {
     "data": {
      "text/html": [
       "<div>\n",
       "<style scoped>\n",
       "    .dataframe tbody tr th:only-of-type {\n",
       "        vertical-align: middle;\n",
       "    }\n",
       "\n",
       "    .dataframe tbody tr th {\n",
       "        vertical-align: top;\n",
       "    }\n",
       "\n",
       "    .dataframe thead th {\n",
       "        text-align: right;\n",
       "    }\n",
       "</style>\n",
       "<table border=\"1\" class=\"dataframe\">\n",
       "  <thead>\n",
       "    <tr style=\"text-align: right;\">\n",
       "      <th></th>\n",
       "      <th>Location</th>\n",
       "      <th>ParentLocationCode</th>\n",
       "      <th>ParentLocation</th>\n",
       "      <th>SpatialDimValueCode</th>\n",
       "      <th>ClusterKMeans</th>\n",
       "    </tr>\n",
       "  </thead>\n",
       "  <tbody>\n",
       "    <tr>\n",
       "      <th>0</th>\n",
       "      <td>Afghanistan</td>\n",
       "      <td>EMR</td>\n",
       "      <td>Eastern Mediterranean</td>\n",
       "      <td>AFG</td>\n",
       "      <td>1</td>\n",
       "    </tr>\n",
       "    <tr>\n",
       "      <th>1</th>\n",
       "      <td>Albania</td>\n",
       "      <td>EUR</td>\n",
       "      <td>Europe</td>\n",
       "      <td>ALB</td>\n",
       "      <td>0</td>\n",
       "    </tr>\n",
       "    <tr>\n",
       "      <th>2</th>\n",
       "      <td>Algeria</td>\n",
       "      <td>AFR</td>\n",
       "      <td>Africa</td>\n",
       "      <td>DZA</td>\n",
       "      <td>0</td>\n",
       "    </tr>\n",
       "    <tr>\n",
       "      <th>3</th>\n",
       "      <td>Angola</td>\n",
       "      <td>AFR</td>\n",
       "      <td>Africa</td>\n",
       "      <td>AGO</td>\n",
       "      <td>1</td>\n",
       "    </tr>\n",
       "    <tr>\n",
       "      <th>4</th>\n",
       "      <td>Antigua and Barbuda</td>\n",
       "      <td>AMR</td>\n",
       "      <td>Americas</td>\n",
       "      <td>ATG</td>\n",
       "      <td>0</td>\n",
       "    </tr>\n",
       "  </tbody>\n",
       "</table>\n",
       "</div>"
      ],
      "text/plain": [
       "              Location ParentLocationCode         ParentLocation  \\\n",
       "0          Afghanistan                EMR  Eastern Mediterranean   \n",
       "1              Albania                EUR                 Europe   \n",
       "2              Algeria                AFR                 Africa   \n",
       "3               Angola                AFR                 Africa   \n",
       "4  Antigua and Barbuda                AMR               Americas   \n",
       "\n",
       "  SpatialDimValueCode  ClusterKMeans  \n",
       "0                 AFG              1  \n",
       "1                 ALB              0  \n",
       "2                 DZA              0  \n",
       "3                 AGO              1  \n",
       "4                 ATG              0  "
      ]
     },
     "execution_count": 16,
     "metadata": {},
     "output_type": "execute_result"
    }
   ],
   "source": [
    "# Создадим таблицу для отображения кластеров стран на карте\n",
    "location_clusters_data = cumulative_scaled_data[[FCluster.K_MEANS.value]] \\\n",
    "    .reset_index() \\\n",
    "    .rename(columns={'index': F.Location.value})\n",
    "    \n",
    "location_clusters_data = location_clusters_data.merge(\n",
    "    regions_and_locations_data,\n",
    "    on=[F.Location.value],\n",
    "    how='left',\n",
    ")\n",
    "location_clusters_data = move_column_to_end_table(location_clusters_data, FCluster.K_MEANS.value)\n",
    "\n",
    "location_clusters_data.head()"
   ]
  },
  {
   "cell_type": "code",
   "execution_count": 17,
   "metadata": {},
   "outputs": [],
   "source": [
    "# Удалим из основной таблицы столбец с кластерами\n",
    "cumulative_scaled_data.drop(columns=[FCluster.K_MEANS.value], inplace=True)"
   ]
  },
  {
   "cell_type": "code",
   "execution_count": 18,
   "metadata": {},
   "outputs": [
    {
     "data": {
      "application/vnd.plotly.v1+json": {
       "config": {
        "plotlyServerURL": "https://plot.ly"
       },
       "data": [
        {
         "coloraxis": "coloraxis",
         "geo": "geo",
         "hovertemplate": "<b>%{hovertext}</b><br><br>SpatialDimValueCode=%{location}<br>ClusterKMeans=%{z}<extra></extra>",
         "hovertext": [
          "Afghanistan",
          "Albania",
          "Algeria",
          "Angola",
          "Antigua and Barbuda",
          "Argentina",
          "Armenia",
          "Australia",
          "Austria",
          "Azerbaijan",
          "Bahamas",
          "Bahrain",
          "Bangladesh",
          "Barbados",
          "Belarus",
          "Belgium",
          "Belize",
          "Benin",
          "Bhutan",
          "Bolivia (Plurinational State of)",
          "Bosnia and Herzegovina",
          "Botswana",
          "Brazil",
          "Brunei Darussalam",
          "Bulgaria",
          "Burkina Faso",
          "Burundi",
          "Cabo Verde",
          "Cambodia",
          "Cameroon",
          "Canada",
          "Central African Republic",
          "Chad",
          "Chile",
          "China",
          "Colombia",
          "Comoros",
          "Congo",
          "Costa Rica",
          "Cote d'Ivoire",
          "Croatia",
          "Cuba",
          "Cyprus",
          "Czechia",
          "Democratic Republic of the Congo",
          "Denmark",
          "Djibouti",
          "Dominican Republic",
          "Ecuador",
          "Egypt",
          "El Salvador",
          "Equatorial Guinea",
          "Eritrea",
          "Estonia",
          "Eswatini",
          "Ethiopia",
          "Fiji",
          "Finland",
          "France",
          "Gabon",
          "Gambia",
          "Georgia",
          "Germany",
          "Ghana",
          "Greece",
          "Grenada",
          "Guatemala",
          "Guinea",
          "Guinea-Bissau",
          "Guyana",
          "Haiti",
          "Honduras",
          "Hungary",
          "Iceland",
          "India",
          "Indonesia",
          "Iran (Islamic Republic of)",
          "Iraq",
          "Ireland",
          "Israel",
          "Italy",
          "Jamaica",
          "Japan",
          "Jordan",
          "Kazakhstan",
          "Kenya",
          "Kiribati",
          "Kuwait",
          "Kyrgyzstan",
          "Lao People's Democratic Republic",
          "Latvia",
          "Lebanon",
          "Lesotho",
          "Liberia",
          "Libya",
          "Lithuania",
          "Luxembourg",
          "Madagascar",
          "Malawi",
          "Malaysia",
          "Maldives",
          "Mali",
          "Malta",
          "Mauritania",
          "Mauritius",
          "Mexico",
          "Micronesia (Federated States of)",
          "Mongolia",
          "Montenegro",
          "Morocco",
          "Mozambique",
          "Myanmar",
          "Namibia",
          "Nepal",
          "Netherlands (Kingdom of the)",
          "New Zealand",
          "Nicaragua",
          "Niger",
          "Nigeria",
          "North Macedonia",
          "Norway",
          "Oman",
          "Pakistan",
          "Panama",
          "Papua New Guinea",
          "Paraguay",
          "Peru",
          "Philippines",
          "Poland",
          "Portugal",
          "Qatar",
          "Republic of Korea",
          "Republic of Moldova",
          "Romania",
          "Russian Federation",
          "Rwanda",
          "Saint Lucia",
          "Saint Vincent and the Grenadines",
          "Samoa",
          "Sao Tome and Principe",
          "Saudi Arabia",
          "Senegal",
          "Serbia",
          "Seychelles",
          "Sierra Leone",
          "Singapore",
          "Slovakia",
          "Slovenia",
          "Solomon Islands",
          "Somalia",
          "South Africa",
          "Spain",
          "Sri Lanka",
          "Sudan",
          "Suriname",
          "Sweden",
          "Switzerland",
          "Syrian Arab Republic",
          "Tajikistan",
          "Thailand",
          "Timor-Leste",
          "Togo",
          "Tonga",
          "Trinidad and Tobago",
          "Tunisia",
          "Turkmenistan",
          "Türkiye",
          "Uganda",
          "Ukraine",
          "United Arab Emirates",
          "United Kingdom of Great Britain and Northern Ireland",
          "United Republic of Tanzania",
          "United States of America",
          "Uruguay",
          "Uzbekistan",
          "Vanuatu",
          "Venezuela (Bolivarian Republic of)",
          "Viet Nam",
          "Yemen",
          "Zambia",
          "Zimbabwe"
         ],
         "locations": [
          "AFG",
          "ALB",
          "DZA",
          "AGO",
          "ATG",
          "ARG",
          "ARM",
          "AUS",
          "AUT",
          "AZE",
          "BHS",
          "BHR",
          "BGD",
          "BRB",
          "BLR",
          "BEL",
          "BLZ",
          "BEN",
          "BTN",
          "BOL",
          "BIH",
          "BWA",
          "BRA",
          "BRN",
          "BGR",
          "BFA",
          "BDI",
          "CPV",
          "KHM",
          "CMR",
          "CAN",
          "CAF",
          "TCD",
          "CHL",
          "CHN",
          "COL",
          "COM",
          "COG",
          "CRI",
          "CIV",
          "HRV",
          "CUB",
          "CYP",
          "CZE",
          "COD",
          "DNK",
          "DJI",
          "DOM",
          "ECU",
          "EGY",
          "SLV",
          "GNQ",
          "ERI",
          "EST",
          "SWZ",
          "ETH",
          "FJI",
          "FIN",
          "FRA",
          "GAB",
          "GMB",
          "GEO",
          "DEU",
          "GHA",
          "GRC",
          "GRD",
          "GTM",
          "GIN",
          "GNB",
          "GUY",
          "HTI",
          "HND",
          "HUN",
          "ISL",
          "IND",
          "IDN",
          "IRN",
          "IRQ",
          "IRL",
          "ISR",
          "ITA",
          "JAM",
          "JPN",
          "JOR",
          "KAZ",
          "KEN",
          "KIR",
          "KWT",
          "KGZ",
          "LAO",
          "LVA",
          "LBN",
          "LSO",
          "LBR",
          "LBY",
          "LTU",
          "LUX",
          "MDG",
          "MWI",
          "MYS",
          "MDV",
          "MLI",
          "MLT",
          "MRT",
          "MUS",
          "MEX",
          "FSM",
          "MNG",
          "MNE",
          "MAR",
          "MOZ",
          "MMR",
          "NAM",
          "NPL",
          "NLD",
          "NZL",
          "NIC",
          "NER",
          "NGA",
          "MKD",
          "NOR",
          "OMN",
          "PAK",
          "PAN",
          "PNG",
          "PRY",
          "PER",
          "PHL",
          "POL",
          "PRT",
          "QAT",
          "KOR",
          "MDA",
          "ROU",
          "RUS",
          "RWA",
          "LCA",
          "VCT",
          "WSM",
          "STP",
          "SAU",
          "SEN",
          "SRB",
          "SYC",
          "SLE",
          "SGP",
          "SVK",
          "SVN",
          "SLB",
          "SOM",
          "ZAF",
          "ESP",
          "LKA",
          "SDN",
          "SUR",
          "SWE",
          "CHE",
          "SYR",
          "TJK",
          "THA",
          "TLS",
          "TGO",
          "TON",
          "TTO",
          "TUN",
          "TKM",
          "TUR",
          "UGA",
          "UKR",
          "ARE",
          "GBR",
          "TZA",
          "USA",
          "URY",
          "UZB",
          "VUT",
          "VEN",
          "VNM",
          "YEM",
          "ZMB",
          "ZWE"
         ],
         "name": "",
         "type": "choropleth",
         "z": [
          1,
          0,
          0,
          1,
          0,
          0,
          0,
          0,
          0,
          0,
          0,
          0,
          1,
          0,
          0,
          0,
          0,
          1,
          1,
          0,
          0,
          1,
          0,
          0,
          0,
          1,
          1,
          0,
          1,
          1,
          0,
          1,
          1,
          0,
          0,
          0,
          1,
          1,
          0,
          1,
          0,
          0,
          0,
          0,
          1,
          0,
          1,
          0,
          0,
          0,
          0,
          1,
          1,
          0,
          1,
          1,
          0,
          0,
          0,
          1,
          1,
          0,
          0,
          1,
          0,
          0,
          0,
          1,
          1,
          0,
          1,
          0,
          0,
          0,
          1,
          1,
          0,
          0,
          0,
          0,
          0,
          0,
          0,
          0,
          0,
          1,
          0,
          0,
          0,
          1,
          0,
          0,
          1,
          1,
          0,
          0,
          0,
          1,
          1,
          0,
          0,
          1,
          0,
          1,
          0,
          0,
          0,
          0,
          0,
          0,
          1,
          1,
          1,
          1,
          0,
          0,
          0,
          1,
          1,
          0,
          0,
          0,
          1,
          0,
          1,
          0,
          0,
          1,
          0,
          0,
          0,
          0,
          0,
          0,
          0,
          1,
          0,
          0,
          0,
          1,
          0,
          1,
          0,
          0,
          1,
          0,
          0,
          0,
          1,
          1,
          1,
          0,
          0,
          1,
          0,
          0,
          0,
          0,
          1,
          0,
          1,
          1,
          0,
          0,
          0,
          0,
          0,
          1,
          0,
          0,
          0,
          1,
          0,
          0,
          0,
          1,
          0,
          1,
          1,
          1,
          1
         ]
        }
       ],
       "layout": {
        "coloraxis": {
         "colorbar": {
          "title": {
           "text": "ClusterKMeans"
          }
         },
         "colorscale": [
          [
           0,
           "#0d0887"
          ],
          [
           0.1111111111111111,
           "#46039f"
          ],
          [
           0.2222222222222222,
           "#7201a8"
          ],
          [
           0.3333333333333333,
           "#9c179e"
          ],
          [
           0.4444444444444444,
           "#bd3786"
          ],
          [
           0.5555555555555556,
           "#d8576b"
          ],
          [
           0.6666666666666666,
           "#ed7953"
          ],
          [
           0.7777777777777778,
           "#fb9f3a"
          ],
          [
           0.8888888888888888,
           "#fdca26"
          ],
          [
           1,
           "#f0f921"
          ]
         ]
        },
        "geo": {
         "center": {},
         "domain": {
          "x": [
           0,
           1
          ],
          "y": [
           0,
           1
          ]
         },
         "projection": {
          "type": "natural earth"
         }
        },
        "height": 700,
        "legend": {
         "tracegroupgap": 0
        },
        "template": {
         "data": {
          "bar": [
           {
            "error_x": {
             "color": "#2a3f5f"
            },
            "error_y": {
             "color": "#2a3f5f"
            },
            "marker": {
             "line": {
              "color": "#E5ECF6",
              "width": 0.5
             },
             "pattern": {
              "fillmode": "overlay",
              "size": 10,
              "solidity": 0.2
             }
            },
            "type": "bar"
           }
          ],
          "barpolar": [
           {
            "marker": {
             "line": {
              "color": "#E5ECF6",
              "width": 0.5
             },
             "pattern": {
              "fillmode": "overlay",
              "size": 10,
              "solidity": 0.2
             }
            },
            "type": "barpolar"
           }
          ],
          "carpet": [
           {
            "aaxis": {
             "endlinecolor": "#2a3f5f",
             "gridcolor": "white",
             "linecolor": "white",
             "minorgridcolor": "white",
             "startlinecolor": "#2a3f5f"
            },
            "baxis": {
             "endlinecolor": "#2a3f5f",
             "gridcolor": "white",
             "linecolor": "white",
             "minorgridcolor": "white",
             "startlinecolor": "#2a3f5f"
            },
            "type": "carpet"
           }
          ],
          "choropleth": [
           {
            "colorbar": {
             "outlinewidth": 0,
             "ticks": ""
            },
            "type": "choropleth"
           }
          ],
          "contour": [
           {
            "colorbar": {
             "outlinewidth": 0,
             "ticks": ""
            },
            "colorscale": [
             [
              0,
              "#0d0887"
             ],
             [
              0.1111111111111111,
              "#46039f"
             ],
             [
              0.2222222222222222,
              "#7201a8"
             ],
             [
              0.3333333333333333,
              "#9c179e"
             ],
             [
              0.4444444444444444,
              "#bd3786"
             ],
             [
              0.5555555555555556,
              "#d8576b"
             ],
             [
              0.6666666666666666,
              "#ed7953"
             ],
             [
              0.7777777777777778,
              "#fb9f3a"
             ],
             [
              0.8888888888888888,
              "#fdca26"
             ],
             [
              1,
              "#f0f921"
             ]
            ],
            "type": "contour"
           }
          ],
          "contourcarpet": [
           {
            "colorbar": {
             "outlinewidth": 0,
             "ticks": ""
            },
            "type": "contourcarpet"
           }
          ],
          "heatmap": [
           {
            "colorbar": {
             "outlinewidth": 0,
             "ticks": ""
            },
            "colorscale": [
             [
              0,
              "#0d0887"
             ],
             [
              0.1111111111111111,
              "#46039f"
             ],
             [
              0.2222222222222222,
              "#7201a8"
             ],
             [
              0.3333333333333333,
              "#9c179e"
             ],
             [
              0.4444444444444444,
              "#bd3786"
             ],
             [
              0.5555555555555556,
              "#d8576b"
             ],
             [
              0.6666666666666666,
              "#ed7953"
             ],
             [
              0.7777777777777778,
              "#fb9f3a"
             ],
             [
              0.8888888888888888,
              "#fdca26"
             ],
             [
              1,
              "#f0f921"
             ]
            ],
            "type": "heatmap"
           }
          ],
          "heatmapgl": [
           {
            "colorbar": {
             "outlinewidth": 0,
             "ticks": ""
            },
            "colorscale": [
             [
              0,
              "#0d0887"
             ],
             [
              0.1111111111111111,
              "#46039f"
             ],
             [
              0.2222222222222222,
              "#7201a8"
             ],
             [
              0.3333333333333333,
              "#9c179e"
             ],
             [
              0.4444444444444444,
              "#bd3786"
             ],
             [
              0.5555555555555556,
              "#d8576b"
             ],
             [
              0.6666666666666666,
              "#ed7953"
             ],
             [
              0.7777777777777778,
              "#fb9f3a"
             ],
             [
              0.8888888888888888,
              "#fdca26"
             ],
             [
              1,
              "#f0f921"
             ]
            ],
            "type": "heatmapgl"
           }
          ],
          "histogram": [
           {
            "marker": {
             "pattern": {
              "fillmode": "overlay",
              "size": 10,
              "solidity": 0.2
             }
            },
            "type": "histogram"
           }
          ],
          "histogram2d": [
           {
            "colorbar": {
             "outlinewidth": 0,
             "ticks": ""
            },
            "colorscale": [
             [
              0,
              "#0d0887"
             ],
             [
              0.1111111111111111,
              "#46039f"
             ],
             [
              0.2222222222222222,
              "#7201a8"
             ],
             [
              0.3333333333333333,
              "#9c179e"
             ],
             [
              0.4444444444444444,
              "#bd3786"
             ],
             [
              0.5555555555555556,
              "#d8576b"
             ],
             [
              0.6666666666666666,
              "#ed7953"
             ],
             [
              0.7777777777777778,
              "#fb9f3a"
             ],
             [
              0.8888888888888888,
              "#fdca26"
             ],
             [
              1,
              "#f0f921"
             ]
            ],
            "type": "histogram2d"
           }
          ],
          "histogram2dcontour": [
           {
            "colorbar": {
             "outlinewidth": 0,
             "ticks": ""
            },
            "colorscale": [
             [
              0,
              "#0d0887"
             ],
             [
              0.1111111111111111,
              "#46039f"
             ],
             [
              0.2222222222222222,
              "#7201a8"
             ],
             [
              0.3333333333333333,
              "#9c179e"
             ],
             [
              0.4444444444444444,
              "#bd3786"
             ],
             [
              0.5555555555555556,
              "#d8576b"
             ],
             [
              0.6666666666666666,
              "#ed7953"
             ],
             [
              0.7777777777777778,
              "#fb9f3a"
             ],
             [
              0.8888888888888888,
              "#fdca26"
             ],
             [
              1,
              "#f0f921"
             ]
            ],
            "type": "histogram2dcontour"
           }
          ],
          "mesh3d": [
           {
            "colorbar": {
             "outlinewidth": 0,
             "ticks": ""
            },
            "type": "mesh3d"
           }
          ],
          "parcoords": [
           {
            "line": {
             "colorbar": {
              "outlinewidth": 0,
              "ticks": ""
             }
            },
            "type": "parcoords"
           }
          ],
          "pie": [
           {
            "automargin": true,
            "type": "pie"
           }
          ],
          "scatter": [
           {
            "fillpattern": {
             "fillmode": "overlay",
             "size": 10,
             "solidity": 0.2
            },
            "type": "scatter"
           }
          ],
          "scatter3d": [
           {
            "line": {
             "colorbar": {
              "outlinewidth": 0,
              "ticks": ""
             }
            },
            "marker": {
             "colorbar": {
              "outlinewidth": 0,
              "ticks": ""
             }
            },
            "type": "scatter3d"
           }
          ],
          "scattercarpet": [
           {
            "marker": {
             "colorbar": {
              "outlinewidth": 0,
              "ticks": ""
             }
            },
            "type": "scattercarpet"
           }
          ],
          "scattergeo": [
           {
            "marker": {
             "colorbar": {
              "outlinewidth": 0,
              "ticks": ""
             }
            },
            "type": "scattergeo"
           }
          ],
          "scattergl": [
           {
            "marker": {
             "colorbar": {
              "outlinewidth": 0,
              "ticks": ""
             }
            },
            "type": "scattergl"
           }
          ],
          "scattermapbox": [
           {
            "marker": {
             "colorbar": {
              "outlinewidth": 0,
              "ticks": ""
             }
            },
            "type": "scattermapbox"
           }
          ],
          "scatterpolar": [
           {
            "marker": {
             "colorbar": {
              "outlinewidth": 0,
              "ticks": ""
             }
            },
            "type": "scatterpolar"
           }
          ],
          "scatterpolargl": [
           {
            "marker": {
             "colorbar": {
              "outlinewidth": 0,
              "ticks": ""
             }
            },
            "type": "scatterpolargl"
           }
          ],
          "scatterternary": [
           {
            "marker": {
             "colorbar": {
              "outlinewidth": 0,
              "ticks": ""
             }
            },
            "type": "scatterternary"
           }
          ],
          "surface": [
           {
            "colorbar": {
             "outlinewidth": 0,
             "ticks": ""
            },
            "colorscale": [
             [
              0,
              "#0d0887"
             ],
             [
              0.1111111111111111,
              "#46039f"
             ],
             [
              0.2222222222222222,
              "#7201a8"
             ],
             [
              0.3333333333333333,
              "#9c179e"
             ],
             [
              0.4444444444444444,
              "#bd3786"
             ],
             [
              0.5555555555555556,
              "#d8576b"
             ],
             [
              0.6666666666666666,
              "#ed7953"
             ],
             [
              0.7777777777777778,
              "#fb9f3a"
             ],
             [
              0.8888888888888888,
              "#fdca26"
             ],
             [
              1,
              "#f0f921"
             ]
            ],
            "type": "surface"
           }
          ],
          "table": [
           {
            "cells": {
             "fill": {
              "color": "#EBF0F8"
             },
             "line": {
              "color": "white"
             }
            },
            "header": {
             "fill": {
              "color": "#C8D4E3"
             },
             "line": {
              "color": "white"
             }
            },
            "type": "table"
           }
          ]
         },
         "layout": {
          "annotationdefaults": {
           "arrowcolor": "#2a3f5f",
           "arrowhead": 0,
           "arrowwidth": 1
          },
          "autotypenumbers": "strict",
          "coloraxis": {
           "colorbar": {
            "outlinewidth": 0,
            "ticks": ""
           }
          },
          "colorscale": {
           "diverging": [
            [
             0,
             "#8e0152"
            ],
            [
             0.1,
             "#c51b7d"
            ],
            [
             0.2,
             "#de77ae"
            ],
            [
             0.3,
             "#f1b6da"
            ],
            [
             0.4,
             "#fde0ef"
            ],
            [
             0.5,
             "#f7f7f7"
            ],
            [
             0.6,
             "#e6f5d0"
            ],
            [
             0.7,
             "#b8e186"
            ],
            [
             0.8,
             "#7fbc41"
            ],
            [
             0.9,
             "#4d9221"
            ],
            [
             1,
             "#276419"
            ]
           ],
           "sequential": [
            [
             0,
             "#0d0887"
            ],
            [
             0.1111111111111111,
             "#46039f"
            ],
            [
             0.2222222222222222,
             "#7201a8"
            ],
            [
             0.3333333333333333,
             "#9c179e"
            ],
            [
             0.4444444444444444,
             "#bd3786"
            ],
            [
             0.5555555555555556,
             "#d8576b"
            ],
            [
             0.6666666666666666,
             "#ed7953"
            ],
            [
             0.7777777777777778,
             "#fb9f3a"
            ],
            [
             0.8888888888888888,
             "#fdca26"
            ],
            [
             1,
             "#f0f921"
            ]
           ],
           "sequentialminus": [
            [
             0,
             "#0d0887"
            ],
            [
             0.1111111111111111,
             "#46039f"
            ],
            [
             0.2222222222222222,
             "#7201a8"
            ],
            [
             0.3333333333333333,
             "#9c179e"
            ],
            [
             0.4444444444444444,
             "#bd3786"
            ],
            [
             0.5555555555555556,
             "#d8576b"
            ],
            [
             0.6666666666666666,
             "#ed7953"
            ],
            [
             0.7777777777777778,
             "#fb9f3a"
            ],
            [
             0.8888888888888888,
             "#fdca26"
            ],
            [
             1,
             "#f0f921"
            ]
           ]
          },
          "colorway": [
           "#636efa",
           "#EF553B",
           "#00cc96",
           "#ab63fa",
           "#FFA15A",
           "#19d3f3",
           "#FF6692",
           "#B6E880",
           "#FF97FF",
           "#FECB52"
          ],
          "font": {
           "color": "#2a3f5f"
          },
          "geo": {
           "bgcolor": "white",
           "lakecolor": "white",
           "landcolor": "#E5ECF6",
           "showlakes": true,
           "showland": true,
           "subunitcolor": "white"
          },
          "hoverlabel": {
           "align": "left"
          },
          "hovermode": "closest",
          "mapbox": {
           "style": "light"
          },
          "paper_bgcolor": "white",
          "plot_bgcolor": "#E5ECF6",
          "polar": {
           "angularaxis": {
            "gridcolor": "white",
            "linecolor": "white",
            "ticks": ""
           },
           "bgcolor": "#E5ECF6",
           "radialaxis": {
            "gridcolor": "white",
            "linecolor": "white",
            "ticks": ""
           }
          },
          "scene": {
           "xaxis": {
            "backgroundcolor": "#E5ECF6",
            "gridcolor": "white",
            "gridwidth": 2,
            "linecolor": "white",
            "showbackground": true,
            "ticks": "",
            "zerolinecolor": "white"
           },
           "yaxis": {
            "backgroundcolor": "#E5ECF6",
            "gridcolor": "white",
            "gridwidth": 2,
            "linecolor": "white",
            "showbackground": true,
            "ticks": "",
            "zerolinecolor": "white"
           },
           "zaxis": {
            "backgroundcolor": "#E5ECF6",
            "gridcolor": "white",
            "gridwidth": 2,
            "linecolor": "white",
            "showbackground": true,
            "ticks": "",
            "zerolinecolor": "white"
           }
          },
          "shapedefaults": {
           "line": {
            "color": "#2a3f5f"
           }
          },
          "ternary": {
           "aaxis": {
            "gridcolor": "white",
            "linecolor": "white",
            "ticks": ""
           },
           "baxis": {
            "gridcolor": "white",
            "linecolor": "white",
            "ticks": ""
           },
           "bgcolor": "#E5ECF6",
           "caxis": {
            "gridcolor": "white",
            "linecolor": "white",
            "ticks": ""
           }
          },
          "title": {
           "x": 0.05
          },
          "xaxis": {
           "automargin": true,
           "gridcolor": "white",
           "linecolor": "white",
           "ticks": "",
           "title": {
            "standoff": 15
           },
           "zerolinecolor": "white",
           "zerolinewidth": 2
          },
          "yaxis": {
           "automargin": true,
           "gridcolor": "white",
           "linecolor": "white",
           "ticks": "",
           "title": {
            "standoff": 15
           },
           "zerolinecolor": "white",
           "zerolinewidth": 2
          }
         }
        },
        "title": {
         "text": "Разделение стран на 2 кластера с помощью k-means"
        },
        "width": 1000
       }
      }
     },
     "metadata": {},
     "output_type": "display_data"
    },
    {
     "data": {
      "text/html": [
       "<img src=\"../plotly/locations_clusters_kmeans_1.png\" /><br />"
      ],
      "text/plain": [
       "<IPython.core.display.HTML object>"
      ]
     },
     "metadata": {},
     "output_type": "display_data"
    },
    {
     "data": {
      "text/html": [
       "<em>html графика в файле <a href=\"../plotly/locations_clusters_kmeans_1.html\" target=\"_blank\">../plotly/locations_clusters_kmeans_1.html</a></em>"
      ],
      "text/plain": [
       "<IPython.core.display.HTML object>"
      ]
     },
     "metadata": {},
     "output_type": "display_data"
    }
   ],
   "source": [
    "# Отобразим график с кластерами стран\n",
    "fig = px.choropleth(\n",
    "    location_clusters_data, \n",
    "    locations=F.SpatialDimValueCode.value, \n",
    "    color=FCluster.K_MEANS.value,\n",
    "    hover_name=F.Location.value,\n",
    "    projection='natural earth',\n",
    "    width=1000,\n",
    "    height=700,\n",
    "    title=f'Разделение стран на {K_MEANS_CLUSTERS_COUNT} кластера с помощью k-means',\n",
    ")\n",
    "\n",
    "show_and_save_fig(fig, 'locations_clusters_kmeans_1')"
   ]
  },
  {
   "cell_type": "markdown",
   "metadata": {},
   "source": [
    "На графике видно, что страны с одинаковыми кластерами находятся территориально близко друг к другу.\\\n",
    "По данным предыдущих исследований можно предположить, \\\n",
    "что к кластеру 1 отнесены страны с неблагополучными условиями жизни,\\\n",
    "а к кластеру 0 с более благополучными."
   ]
  },
  {
   "cell_type": "markdown",
   "metadata": {},
   "source": [
    "## Кластеризация с помощью EM-алгоритма"
   ]
  },
  {
   "cell_type": "markdown",
   "metadata": {},
   "source": [
    "С помощью метрики силуэта определим, на какое количество кластеров лучше разделить данные."
   ]
  },
  {
   "cell_type": "code",
   "execution_count": 19,
   "metadata": {},
   "outputs": [
    {
     "data": {
      "image/png": "[encoded data removed]",
      "text/plain": [
       "<Figure size 720x360 with 1 Axes>"
      ]
     },
     "metadata": {
      "needs_background": "light"
     },
     "output_type": "display_data"
    },
    {
     "data": {
      "text/html": [
       "<div>\n",
       "<style scoped>\n",
       "    .dataframe tbody tr th:only-of-type {\n",
       "        vertical-align: middle;\n",
       "    }\n",
       "\n",
       "    .dataframe tbody tr th {\n",
       "        vertical-align: top;\n",
       "    }\n",
       "\n",
       "    .dataframe thead th {\n",
       "        text-align: right;\n",
       "    }\n",
       "</style>\n",
       "<table border=\"1\" class=\"dataframe\">\n",
       "  <thead>\n",
       "    <tr style=\"text-align: right;\">\n",
       "      <th></th>\n",
       "      <th>silhouette</th>\n",
       "      <th>clusters_count</th>\n",
       "    </tr>\n",
       "  </thead>\n",
       "  <tbody>\n",
       "    <tr>\n",
       "      <th>0</th>\n",
       "      <td>0.356054</td>\n",
       "      <td>2</td>\n",
       "    </tr>\n",
       "    <tr>\n",
       "      <th>1</th>\n",
       "      <td>0.254229</td>\n",
       "      <td>3</td>\n",
       "    </tr>\n",
       "    <tr>\n",
       "      <th>2</th>\n",
       "      <td>0.187222</td>\n",
       "      <td>4</td>\n",
       "    </tr>\n",
       "    <tr>\n",
       "      <th>3</th>\n",
       "      <td>0.185644</td>\n",
       "      <td>5</td>\n",
       "    </tr>\n",
       "    <tr>\n",
       "      <th>5</th>\n",
       "      <td>0.158650</td>\n",
       "      <td>7</td>\n",
       "    </tr>\n",
       "    <tr>\n",
       "      <th>4</th>\n",
       "      <td>0.153509</td>\n",
       "      <td>6</td>\n",
       "    </tr>\n",
       "    <tr>\n",
       "      <th>6</th>\n",
       "      <td>0.150297</td>\n",
       "      <td>8</td>\n",
       "    </tr>\n",
       "    <tr>\n",
       "      <th>7</th>\n",
       "      <td>0.140200</td>\n",
       "      <td>9</td>\n",
       "    </tr>\n",
       "    <tr>\n",
       "      <th>8</th>\n",
       "      <td>0.130701</td>\n",
       "      <td>10</td>\n",
       "    </tr>\n",
       "  </tbody>\n",
       "</table>\n",
       "</div>"
      ],
      "text/plain": [
       "   silhouette  clusters_count\n",
       "0    0.356054               2\n",
       "1    0.254229               3\n",
       "2    0.187222               4\n",
       "3    0.185644               5\n",
       "5    0.158650               7\n",
       "4    0.153509               6\n",
       "6    0.150297               8\n",
       "7    0.140200               9\n",
       "8    0.130701              10"
      ]
     },
     "metadata": {},
     "output_type": "display_data"
    }
   ],
   "source": [
    "# Построим график зависимости значения коэффициента силуэта от количества кластеров\n",
    "display_silhouette(\n",
    "    cumulative_scaled_data, \n",
    "    2, \n",
    "    10, \n",
    "    ClusteringAlgorithm.EM.value,\n",
    ")"
   ]
  },
  {
   "cell_type": "code",
   "execution_count": 20,
   "metadata": {},
   "outputs": [],
   "source": [
    "# Оптимальное количество кластеров\n",
    "EM_CLUSTERS_COUNT = 2"
   ]
  },
  {
   "cell_type": "code",
   "execution_count": 21,
   "metadata": {},
   "outputs": [
    {
     "name": "stdout",
     "output_type": "stream",
     "text": [
      "Наибольшее значение метрика силуэта принимает для 2-х кластеров.\n",
      "Разделим страны на 2 кластера.\n"
     ]
    }
   ],
   "source": [
    "print(f'Наибольшее значение метрика силуэта принимает для {EM_CLUSTERS_COUNT}-х кластеров.')\n",
    "print(f'Разделим страны на {EM_CLUSTERS_COUNT} кластера.')"
   ]
  },
  {
   "cell_type": "code",
   "execution_count": 22,
   "metadata": {},
   "outputs": [
    {
     "data": {
      "text/html": [
       "<div>\n",
       "<style scoped>\n",
       "    .dataframe tbody tr th:only-of-type {\n",
       "        vertical-align: middle;\n",
       "    }\n",
       "\n",
       "    .dataframe tbody tr th {\n",
       "        vertical-align: top;\n",
       "    }\n",
       "\n",
       "    .dataframe thead th {\n",
       "        text-align: right;\n",
       "    }\n",
       "</style>\n",
       "<table border=\"1\" class=\"dataframe\">\n",
       "  <thead>\n",
       "    <tr style=\"text-align: right;\">\n",
       "      <th></th>\n",
       "      <th>AdultMortality</th>\n",
       "      <th>Homicides</th>\n",
       "      <th>MaternalMortality</th>\n",
       "      <th>AdultNcdMortality</th>\n",
       "      <th>AdultNcdMortality117</th>\n",
       "      <th>AdultNcdMortality110</th>\n",
       "      <th>AdultNcdMortality080</th>\n",
       "      <th>AdultNcdMortality061</th>\n",
       "      <th>AdultNcdMortalitySum</th>\n",
       "      <th>PoisoningMortality</th>\n",
       "      <th>...</th>\n",
       "      <th>ChildUnder5Mortality3</th>\n",
       "      <th>ChildUnder5Mortality11</th>\n",
       "      <th>ChildUnder5Mortality13</th>\n",
       "      <th>ChildUnder5Mortality17</th>\n",
       "      <th>ChildUnder5Mortality9</th>\n",
       "      <th>ChildUnder5Mortality16</th>\n",
       "      <th>ChildUnder5Mortality15</th>\n",
       "      <th>ChildUnder5Mortality10</th>\n",
       "      <th>LifeExpectancy</th>\n",
       "      <th>ClusterEM</th>\n",
       "    </tr>\n",
       "  </thead>\n",
       "  <tbody>\n",
       "    <tr>\n",
       "      <th>Afghanistan</th>\n",
       "      <td>0.460669</td>\n",
       "      <td>0.125335</td>\n",
       "      <td>0.790629</td>\n",
       "      <td>0.897069</td>\n",
       "      <td>0.266824</td>\n",
       "      <td>0.154748</td>\n",
       "      <td>0.074657</td>\n",
       "      <td>0.075262</td>\n",
       "      <td>0.151883</td>\n",
       "      <td>0.251004</td>\n",
       "      <td>...</td>\n",
       "      <td>0.679851</td>\n",
       "      <td>0.394213</td>\n",
       "      <td>0.218182</td>\n",
       "      <td>0.236722</td>\n",
       "      <td>0.582483</td>\n",
       "      <td>0.107978</td>\n",
       "      <td>0.056313</td>\n",
       "      <td>0.195885</td>\n",
       "      <td>0.311479</td>\n",
       "      <td>1</td>\n",
       "    </tr>\n",
       "    <tr>\n",
       "      <th>Albania</th>\n",
       "      <td>0.063786</td>\n",
       "      <td>0.064135</td>\n",
       "      <td>0.004763</td>\n",
       "      <td>0.220520</td>\n",
       "      <td>0.246645</td>\n",
       "      <td>0.326583</td>\n",
       "      <td>0.003352</td>\n",
       "      <td>0.441515</td>\n",
       "      <td>0.365338</td>\n",
       "      <td>0.067698</td>\n",
       "      <td>...</td>\n",
       "      <td>0.099627</td>\n",
       "      <td>0.128391</td>\n",
       "      <td>0.154343</td>\n",
       "      <td>0.558801</td>\n",
       "      <td>0.455558</td>\n",
       "      <td>0.237396</td>\n",
       "      <td>0.536004</td>\n",
       "      <td>0.379890</td>\n",
       "      <td>0.809799</td>\n",
       "      <td>0</td>\n",
       "    </tr>\n",
       "    <tr>\n",
       "      <th>Algeria</th>\n",
       "      <td>0.073562</td>\n",
       "      <td>0.017173</td>\n",
       "      <td>0.093699</td>\n",
       "      <td>0.199700</td>\n",
       "      <td>0.136751</td>\n",
       "      <td>0.138958</td>\n",
       "      <td>0.039564</td>\n",
       "      <td>0.134536</td>\n",
       "      <td>0.140548</td>\n",
       "      <td>0.124267</td>\n",
       "      <td>...</td>\n",
       "      <td>0.398134</td>\n",
       "      <td>0.354430</td>\n",
       "      <td>0.124242</td>\n",
       "      <td>0.273900</td>\n",
       "      <td>0.439599</td>\n",
       "      <td>0.203206</td>\n",
       "      <td>0.284042</td>\n",
       "      <td>0.381339</td>\n",
       "      <td>0.773771</td>\n",
       "      <td>0</td>\n",
       "    </tr>\n",
       "    <tr>\n",
       "      <th>Angola</th>\n",
       "      <td>0.399811</td>\n",
       "      <td>0.154990</td>\n",
       "      <td>0.375455</td>\n",
       "      <td>0.511326</td>\n",
       "      <td>0.206003</td>\n",
       "      <td>0.050407</td>\n",
       "      <td>0.069031</td>\n",
       "      <td>0.049990</td>\n",
       "      <td>0.060486</td>\n",
       "      <td>0.439943</td>\n",
       "      <td>...</td>\n",
       "      <td>0.989179</td>\n",
       "      <td>0.264014</td>\n",
       "      <td>0.329293</td>\n",
       "      <td>0.235964</td>\n",
       "      <td>0.654852</td>\n",
       "      <td>0.049643</td>\n",
       "      <td>0.054523</td>\n",
       "      <td>0.050565</td>\n",
       "      <td>0.265493</td>\n",
       "      <td>1</td>\n",
       "    </tr>\n",
       "    <tr>\n",
       "      <th>Antigua and Barbuda</th>\n",
       "      <td>0.104021</td>\n",
       "      <td>0.047128</td>\n",
       "      <td>0.024859</td>\n",
       "      <td>0.263824</td>\n",
       "      <td>0.230266</td>\n",
       "      <td>0.164910</td>\n",
       "      <td>0.339895</td>\n",
       "      <td>0.317160</td>\n",
       "      <td>0.255555</td>\n",
       "      <td>0.082134</td>\n",
       "      <td>...</td>\n",
       "      <td>0.019776</td>\n",
       "      <td>0.275588</td>\n",
       "      <td>0.237374</td>\n",
       "      <td>0.257587</td>\n",
       "      <td>0.124513</td>\n",
       "      <td>0.597837</td>\n",
       "      <td>0.531874</td>\n",
       "      <td>0.421907</td>\n",
       "      <td>0.790757</td>\n",
       "      <td>0</td>\n",
       "    </tr>\n",
       "  </tbody>\n",
       "</table>\n",
       "<p>5 rows × 49 columns</p>\n",
       "</div>"
      ],
      "text/plain": [
       "                     AdultMortality  Homicides  MaternalMortality  \\\n",
       "Afghanistan                0.460669   0.125335           0.790629   \n",
       "Albania                    0.063786   0.064135           0.004763   \n",
       "Algeria                    0.073562   0.017173           0.093699   \n",
       "Angola                     0.399811   0.154990           0.375455   \n",
       "Antigua and Barbuda        0.104021   0.047128           0.024859   \n",
       "\n",
       "                     AdultNcdMortality  AdultNcdMortality117  \\\n",
       "Afghanistan                   0.897069              0.266824   \n",
       "Albania                       0.220520              0.246645   \n",
       "Algeria                       0.199700              0.136751   \n",
       "Angola                        0.511326              0.206003   \n",
       "Antigua and Barbuda           0.263824              0.230266   \n",
       "\n",
       "                     AdultNcdMortality110  AdultNcdMortality080  \\\n",
       "Afghanistan                      0.154748              0.074657   \n",
       "Albania                          0.326583              0.003352   \n",
       "Algeria                          0.138958              0.039564   \n",
       "Angola                           0.050407              0.069031   \n",
       "Antigua and Barbuda              0.164910              0.339895   \n",
       "\n",
       "                     AdultNcdMortality061  AdultNcdMortalitySum  \\\n",
       "Afghanistan                      0.075262              0.151883   \n",
       "Albania                          0.441515              0.365338   \n",
       "Algeria                          0.134536              0.140548   \n",
       "Angola                           0.049990              0.060486   \n",
       "Antigua and Barbuda              0.317160              0.255555   \n",
       "\n",
       "                     PoisoningMortality  ...  ChildUnder5Mortality3  \\\n",
       "Afghanistan                    0.251004  ...               0.679851   \n",
       "Albania                        0.067698  ...               0.099627   \n",
       "Algeria                        0.124267  ...               0.398134   \n",
       "Angola                         0.439943  ...               0.989179   \n",
       "Antigua and Barbuda            0.082134  ...               0.019776   \n",
       "\n",
       "                     ChildUnder5Mortality11  ChildUnder5Mortality13  \\\n",
       "Afghanistan                        0.394213                0.218182   \n",
       "Albania                            0.128391                0.154343   \n",
       "Algeria                            0.354430                0.124242   \n",
       "Angola                             0.264014                0.329293   \n",
       "Antigua and Barbuda                0.275588                0.237374   \n",
       "\n",
       "                     ChildUnder5Mortality17  ChildUnder5Mortality9  \\\n",
       "Afghanistan                        0.236722               0.582483   \n",
       "Albania                            0.558801               0.455558   \n",
       "Algeria                            0.273900               0.439599   \n",
       "Angola                             0.235964               0.654852   \n",
       "Antigua and Barbuda                0.257587               0.124513   \n",
       "\n",
       "                     ChildUnder5Mortality16  ChildUnder5Mortality15  \\\n",
       "Afghanistan                        0.107978                0.056313   \n",
       "Albania                            0.237396                0.536004   \n",
       "Algeria                            0.203206                0.284042   \n",
       "Angola                             0.049643                0.054523   \n",
       "Antigua and Barbuda                0.597837                0.531874   \n",
       "\n",
       "                     ChildUnder5Mortality10  LifeExpectancy  ClusterEM  \n",
       "Afghanistan                        0.195885        0.311479          1  \n",
       "Albania                            0.379890        0.809799          0  \n",
       "Algeria                            0.381339        0.773771          0  \n",
       "Angola                             0.050565        0.265493          1  \n",
       "Antigua and Barbuda                0.421907        0.790757          0  \n",
       "\n",
       "[5 rows x 49 columns]"
      ]
     },
     "execution_count": 22,
     "metadata": {},
     "output_type": "execute_result"
    }
   ],
   "source": [
    "gm_model = GaussianMixture(n_components=EM_CLUSTERS_COUNT, random_state=RANDOM_STATE)\n",
    "\n",
    "gm_clusters = gm_model.fit_predict(cumulative_scaled_data)\n",
    "\n",
    "cumulative_scaled_data[FCluster.EM.value] = gm_clusters\n",
    "\n",
    "cumulative_scaled_data.head()"
   ]
  },
  {
   "cell_type": "markdown",
   "metadata": {},
   "source": [
    "Также отобразим полученные кластеры на карте."
   ]
  },
  {
   "cell_type": "code",
   "execution_count": 23,
   "metadata": {},
   "outputs": [
    {
     "data": {
      "text/html": [
       "<div>\n",
       "<style scoped>\n",
       "    .dataframe tbody tr th:only-of-type {\n",
       "        vertical-align: middle;\n",
       "    }\n",
       "\n",
       "    .dataframe tbody tr th {\n",
       "        vertical-align: top;\n",
       "    }\n",
       "\n",
       "    .dataframe thead th {\n",
       "        text-align: right;\n",
       "    }\n",
       "</style>\n",
       "<table border=\"1\" class=\"dataframe\">\n",
       "  <thead>\n",
       "    <tr style=\"text-align: right;\">\n",
       "      <th></th>\n",
       "      <th>Location</th>\n",
       "      <th>ParentLocationCode</th>\n",
       "      <th>ParentLocation</th>\n",
       "      <th>SpatialDimValueCode</th>\n",
       "      <th>ClusterKMeans</th>\n",
       "      <th>ClusterEM</th>\n",
       "    </tr>\n",
       "  </thead>\n",
       "  <tbody>\n",
       "    <tr>\n",
       "      <th>0</th>\n",
       "      <td>Afghanistan</td>\n",
       "      <td>EMR</td>\n",
       "      <td>Eastern Mediterranean</td>\n",
       "      <td>AFG</td>\n",
       "      <td>1</td>\n",
       "      <td>1</td>\n",
       "    </tr>\n",
       "    <tr>\n",
       "      <th>1</th>\n",
       "      <td>Albania</td>\n",
       "      <td>EUR</td>\n",
       "      <td>Europe</td>\n",
       "      <td>ALB</td>\n",
       "      <td>0</td>\n",
       "      <td>0</td>\n",
       "    </tr>\n",
       "    <tr>\n",
       "      <th>2</th>\n",
       "      <td>Algeria</td>\n",
       "      <td>AFR</td>\n",
       "      <td>Africa</td>\n",
       "      <td>DZA</td>\n",
       "      <td>0</td>\n",
       "      <td>0</td>\n",
       "    </tr>\n",
       "    <tr>\n",
       "      <th>3</th>\n",
       "      <td>Angola</td>\n",
       "      <td>AFR</td>\n",
       "      <td>Africa</td>\n",
       "      <td>AGO</td>\n",
       "      <td>1</td>\n",
       "      <td>1</td>\n",
       "    </tr>\n",
       "    <tr>\n",
       "      <th>4</th>\n",
       "      <td>Antigua and Barbuda</td>\n",
       "      <td>AMR</td>\n",
       "      <td>Americas</td>\n",
       "      <td>ATG</td>\n",
       "      <td>0</td>\n",
       "      <td>0</td>\n",
       "    </tr>\n",
       "  </tbody>\n",
       "</table>\n",
       "</div>"
      ],
      "text/plain": [
       "              Location ParentLocationCode         ParentLocation  \\\n",
       "0          Afghanistan                EMR  Eastern Mediterranean   \n",
       "1              Albania                EUR                 Europe   \n",
       "2              Algeria                AFR                 Africa   \n",
       "3               Angola                AFR                 Africa   \n",
       "4  Antigua and Barbuda                AMR               Americas   \n",
       "\n",
       "  SpatialDimValueCode  ClusterKMeans  ClusterEM  \n",
       "0                 AFG              1          1  \n",
       "1                 ALB              0          0  \n",
       "2                 DZA              0          0  \n",
       "3                 AGO              1          1  \n",
       "4                 ATG              0          0  "
      ]
     },
     "execution_count": 23,
     "metadata": {},
     "output_type": "execute_result"
    }
   ],
   "source": [
    "# Добавим столбец с кластерами, определенными EM алгоритмом в таблицу location_clusters_data\n",
    "location_clusters_em_data = cumulative_scaled_data[[FCluster.EM.value]] \\\n",
    "    .reset_index() \\\n",
    "    .rename(columns={'index': F.Location.value})\n",
    "    \n",
    "location_clusters_data = location_clusters_data.merge(\n",
    "    location_clusters_em_data,\n",
    "    on=[F.Location.value],\n",
    "    how='left',\n",
    ")\n",
    "\n",
    "location_clusters_data.head()"
   ]
  },
  {
   "cell_type": "code",
   "execution_count": 24,
   "metadata": {},
   "outputs": [],
   "source": [
    "# Удалим из основной таблицы столбец с кластерами\n",
    "cumulative_scaled_data.drop(columns=[FCluster.EM.value], inplace=True)"
   ]
  },
  {
   "cell_type": "code",
   "execution_count": 25,
   "metadata": {},
   "outputs": [
    {
     "data": {
      "application/vnd.plotly.v1+json": {
       "config": {
        "plotlyServerURL": "https://plot.ly"
       },
       "data": [
        {
         "coloraxis": "coloraxis",
         "geo": "geo",
         "hovertemplate": "<b>%{hovertext}</b><br><br>SpatialDimValueCode=%{location}<br>ClusterEM=%{z}<extra></extra>",
         "hovertext": [
          "Afghanistan",
          "Albania",
          "Algeria",
          "Angola",
          "Antigua and Barbuda",
          "Argentina",
          "Armenia",
          "Australia",
          "Austria",
          "Azerbaijan",
          "Bahamas",
          "Bahrain",
          "Bangladesh",
          "Barbados",
          "Belarus",
          "Belgium",
          "Belize",
          "Benin",
          "Bhutan",
          "Bolivia (Plurinational State of)",
          "Bosnia and Herzegovina",
          "Botswana",
          "Brazil",
          "Brunei Darussalam",
          "Bulgaria",
          "Burkina Faso",
          "Burundi",
          "Cabo Verde",
          "Cambodia",
          "Cameroon",
          "Canada",
          "Central African Republic",
          "Chad",
          "Chile",
          "China",
          "Colombia",
          "Comoros",
          "Congo",
          "Costa Rica",
          "Cote d'Ivoire",
          "Croatia",
          "Cuba",
          "Cyprus",
          "Czechia",
          "Democratic Republic of the Congo",
          "Denmark",
          "Djibouti",
          "Dominican Republic",
          "Ecuador",
          "Egypt",
          "El Salvador",
          "Equatorial Guinea",
          "Eritrea",
          "Estonia",
          "Eswatini",
          "Ethiopia",
          "Fiji",
          "Finland",
          "France",
          "Gabon",
          "Gambia",
          "Georgia",
          "Germany",
          "Ghana",
          "Greece",
          "Grenada",
          "Guatemala",
          "Guinea",
          "Guinea-Bissau",
          "Guyana",
          "Haiti",
          "Honduras",
          "Hungary",
          "Iceland",
          "India",
          "Indonesia",
          "Iran (Islamic Republic of)",
          "Iraq",
          "Ireland",
          "Israel",
          "Italy",
          "Jamaica",
          "Japan",
          "Jordan",
          "Kazakhstan",
          "Kenya",
          "Kiribati",
          "Kuwait",
          "Kyrgyzstan",
          "Lao People's Democratic Republic",
          "Latvia",
          "Lebanon",
          "Lesotho",
          "Liberia",
          "Libya",
          "Lithuania",
          "Luxembourg",
          "Madagascar",
          "Malawi",
          "Malaysia",
          "Maldives",
          "Mali",
          "Malta",
          "Mauritania",
          "Mauritius",
          "Mexico",
          "Micronesia (Federated States of)",
          "Mongolia",
          "Montenegro",
          "Morocco",
          "Mozambique",
          "Myanmar",
          "Namibia",
          "Nepal",
          "Netherlands (Kingdom of the)",
          "New Zealand",
          "Nicaragua",
          "Niger",
          "Nigeria",
          "North Macedonia",
          "Norway",
          "Oman",
          "Pakistan",
          "Panama",
          "Papua New Guinea",
          "Paraguay",
          "Peru",
          "Philippines",
          "Poland",
          "Portugal",
          "Qatar",
          "Republic of Korea",
          "Republic of Moldova",
          "Romania",
          "Russian Federation",
          "Rwanda",
          "Saint Lucia",
          "Saint Vincent and the Grenadines",
          "Samoa",
          "Sao Tome and Principe",
          "Saudi Arabia",
          "Senegal",
          "Serbia",
          "Seychelles",
          "Sierra Leone",
          "Singapore",
          "Slovakia",
          "Slovenia",
          "Solomon Islands",
          "Somalia",
          "South Africa",
          "Spain",
          "Sri Lanka",
          "Sudan",
          "Suriname",
          "Sweden",
          "Switzerland",
          "Syrian Arab Republic",
          "Tajikistan",
          "Thailand",
          "Timor-Leste",
          "Togo",
          "Tonga",
          "Trinidad and Tobago",
          "Tunisia",
          "Turkmenistan",
          "Türkiye",
          "Uganda",
          "Ukraine",
          "United Arab Emirates",
          "United Kingdom of Great Britain and Northern Ireland",
          "United Republic of Tanzania",
          "United States of America",
          "Uruguay",
          "Uzbekistan",
          "Vanuatu",
          "Venezuela (Bolivarian Republic of)",
          "Viet Nam",
          "Yemen",
          "Zambia",
          "Zimbabwe"
         ],
         "locations": [
          "AFG",
          "ALB",
          "DZA",
          "AGO",
          "ATG",
          "ARG",
          "ARM",
          "AUS",
          "AUT",
          "AZE",
          "BHS",
          "BHR",
          "BGD",
          "BRB",
          "BLR",
          "BEL",
          "BLZ",
          "BEN",
          "BTN",
          "BOL",
          "BIH",
          "BWA",
          "BRA",
          "BRN",
          "BGR",
          "BFA",
          "BDI",
          "CPV",
          "KHM",
          "CMR",
          "CAN",
          "CAF",
          "TCD",
          "CHL",
          "CHN",
          "COL",
          "COM",
          "COG",
          "CRI",
          "CIV",
          "HRV",
          "CUB",
          "CYP",
          "CZE",
          "COD",
          "DNK",
          "DJI",
          "DOM",
          "ECU",
          "EGY",
          "SLV",
          "GNQ",
          "ERI",
          "EST",
          "SWZ",
          "ETH",
          "FJI",
          "FIN",
          "FRA",
          "GAB",
          "GMB",
          "GEO",
          "DEU",
          "GHA",
          "GRC",
          "GRD",
          "GTM",
          "GIN",
          "GNB",
          "GUY",
          "HTI",
          "HND",
          "HUN",
          "ISL",
          "IND",
          "IDN",
          "IRN",
          "IRQ",
          "IRL",
          "ISR",
          "ITA",
          "JAM",
          "JPN",
          "JOR",
          "KAZ",
          "KEN",
          "KIR",
          "KWT",
          "KGZ",
          "LAO",
          "LVA",
          "LBN",
          "LSO",
          "LBR",
          "LBY",
          "LTU",
          "LUX",
          "MDG",
          "MWI",
          "MYS",
          "MDV",
          "MLI",
          "MLT",
          "MRT",
          "MUS",
          "MEX",
          "FSM",
          "MNG",
          "MNE",
          "MAR",
          "MOZ",
          "MMR",
          "NAM",
          "NPL",
          "NLD",
          "NZL",
          "NIC",
          "NER",
          "NGA",
          "MKD",
          "NOR",
          "OMN",
          "PAK",
          "PAN",
          "PNG",
          "PRY",
          "PER",
          "PHL",
          "POL",
          "PRT",
          "QAT",
          "KOR",
          "MDA",
          "ROU",
          "RUS",
          "RWA",
          "LCA",
          "VCT",
          "WSM",
          "STP",
          "SAU",
          "SEN",
          "SRB",
          "SYC",
          "SLE",
          "SGP",
          "SVK",
          "SVN",
          "SLB",
          "SOM",
          "ZAF",
          "ESP",
          "LKA",
          "SDN",
          "SUR",
          "SWE",
          "CHE",
          "SYR",
          "TJK",
          "THA",
          "TLS",
          "TGO",
          "TON",
          "TTO",
          "TUN",
          "TKM",
          "TUR",
          "UGA",
          "UKR",
          "ARE",
          "GBR",
          "TZA",
          "USA",
          "URY",
          "UZB",
          "VUT",
          "VEN",
          "VNM",
          "YEM",
          "ZMB",
          "ZWE"
         ],
         "name": "",
         "type": "choropleth",
         "z": [
          1,
          0,
          0,
          1,
          0,
          0,
          0,
          0,
          0,
          0,
          0,
          0,
          1,
          0,
          0,
          0,
          0,
          1,
          1,
          0,
          0,
          1,
          0,
          0,
          0,
          1,
          1,
          0,
          1,
          1,
          0,
          1,
          1,
          0,
          0,
          0,
          1,
          1,
          0,
          1,
          0,
          0,
          0,
          0,
          1,
          0,
          1,
          0,
          0,
          0,
          0,
          1,
          1,
          0,
          1,
          1,
          0,
          0,
          0,
          1,
          1,
          0,
          0,
          1,
          0,
          0,
          0,
          1,
          1,
          0,
          1,
          0,
          0,
          0,
          1,
          1,
          0,
          0,
          0,
          0,
          0,
          0,
          0,
          0,
          0,
          1,
          0,
          0,
          0,
          1,
          0,
          0,
          1,
          1,
          0,
          0,
          0,
          1,
          1,
          0,
          0,
          1,
          0,
          1,
          0,
          0,
          0,
          0,
          0,
          0,
          1,
          1,
          1,
          1,
          0,
          0,
          0,
          1,
          1,
          0,
          0,
          0,
          1,
          0,
          1,
          0,
          0,
          1,
          0,
          0,
          0,
          0,
          0,
          0,
          0,
          1,
          0,
          0,
          0,
          1,
          0,
          1,
          0,
          0,
          1,
          0,
          0,
          0,
          1,
          1,
          1,
          0,
          0,
          1,
          0,
          0,
          0,
          0,
          1,
          0,
          1,
          1,
          0,
          0,
          0,
          0,
          0,
          1,
          0,
          0,
          0,
          1,
          0,
          0,
          0,
          1,
          0,
          1,
          1,
          1,
          1
         ]
        }
       ],
       "layout": {
        "coloraxis": {
         "colorbar": {
          "title": {
           "text": "ClusterEM"
          }
         },
         "colorscale": [
          [
           0,
           "#0d0887"
          ],
          [
           0.1111111111111111,
           "#46039f"
          ],
          [
           0.2222222222222222,
           "#7201a8"
          ],
          [
           0.3333333333333333,
           "#9c179e"
          ],
          [
           0.4444444444444444,
           "#bd3786"
          ],
          [
           0.5555555555555556,
           "#d8576b"
          ],
          [
           0.6666666666666666,
           "#ed7953"
          ],
          [
           0.7777777777777778,
           "#fb9f3a"
          ],
          [
           0.8888888888888888,
           "#fdca26"
          ],
          [
           1,
           "#f0f921"
          ]
         ]
        },
        "geo": {
         "center": {},
         "domain": {
          "x": [
           0,
           1
          ],
          "y": [
           0,
           1
          ]
         },
         "projection": {
          "type": "natural earth"
         }
        },
        "height": 700,
        "legend": {
         "tracegroupgap": 0
        },
        "template": {
         "data": {
          "bar": [
           {
            "error_x": {
             "color": "#2a3f5f"
            },
            "error_y": {
             "color": "#2a3f5f"
            },
            "marker": {
             "line": {
              "color": "#E5ECF6",
              "width": 0.5
             },
             "pattern": {
              "fillmode": "overlay",
              "size": 10,
              "solidity": 0.2
             }
            },
            "type": "bar"
           }
          ],
          "barpolar": [
           {
            "marker": {
             "line": {
              "color": "#E5ECF6",
              "width": 0.5
             },
             "pattern": {
              "fillmode": "overlay",
              "size": 10,
              "solidity": 0.2
             }
            },
            "type": "barpolar"
           }
          ],
          "carpet": [
           {
            "aaxis": {
             "endlinecolor": "#2a3f5f",
             "gridcolor": "white",
             "linecolor": "white",
             "minorgridcolor": "white",
             "startlinecolor": "#2a3f5f"
            },
            "baxis": {
             "endlinecolor": "#2a3f5f",
             "gridcolor": "white",
             "linecolor": "white",
             "minorgridcolor": "white",
             "startlinecolor": "#2a3f5f"
            },
            "type": "carpet"
           }
          ],
          "choropleth": [
           {
            "colorbar": {
             "outlinewidth": 0,
             "ticks": ""
            },
            "type": "choropleth"
           }
          ],
          "contour": [
           {
            "colorbar": {
             "outlinewidth": 0,
             "ticks": ""
            },
            "colorscale": [
             [
              0,
              "#0d0887"
             ],
             [
              0.1111111111111111,
              "#46039f"
             ],
             [
              0.2222222222222222,
              "#7201a8"
             ],
             [
              0.3333333333333333,
              "#9c179e"
             ],
             [
              0.4444444444444444,
              "#bd3786"
             ],
             [
              0.5555555555555556,
              "#d8576b"
             ],
             [
              0.6666666666666666,
              "#ed7953"
             ],
             [
              0.7777777777777778,
              "#fb9f3a"
             ],
             [
              0.8888888888888888,
              "#fdca26"
             ],
             [
              1,
              "#f0f921"
             ]
            ],
            "type": "contour"
           }
          ],
          "contourcarpet": [
           {
            "colorbar": {
             "outlinewidth": 0,
             "ticks": ""
            },
            "type": "contourcarpet"
           }
          ],
          "heatmap": [
           {
            "colorbar": {
             "outlinewidth": 0,
             "ticks": ""
            },
            "colorscale": [
             [
              0,
              "#0d0887"
             ],
             [
              0.1111111111111111,
              "#46039f"
             ],
             [
              0.2222222222222222,
              "#7201a8"
             ],
             [
              0.3333333333333333,
              "#9c179e"
             ],
             [
              0.4444444444444444,
              "#bd3786"
             ],
             [
              0.5555555555555556,
              "#d8576b"
             ],
             [
              0.6666666666666666,
              "#ed7953"
             ],
             [
              0.7777777777777778,
              "#fb9f3a"
             ],
             [
              0.8888888888888888,
              "#fdca26"
             ],
             [
              1,
              "#f0f921"
             ]
            ],
            "type": "heatmap"
           }
          ],
          "heatmapgl": [
           {
            "colorbar": {
             "outlinewidth": 0,
             "ticks": ""
            },
            "colorscale": [
             [
              0,
              "#0d0887"
             ],
             [
              0.1111111111111111,
              "#46039f"
             ],
             [
              0.2222222222222222,
              "#7201a8"
             ],
             [
              0.3333333333333333,
              "#9c179e"
             ],
             [
              0.4444444444444444,
              "#bd3786"
             ],
             [
              0.5555555555555556,
              "#d8576b"
             ],
             [
              0.6666666666666666,
              "#ed7953"
             ],
             [
              0.7777777777777778,
              "#fb9f3a"
             ],
             [
              0.8888888888888888,
              "#fdca26"
             ],
             [
              1,
              "#f0f921"
             ]
            ],
            "type": "heatmapgl"
           }
          ],
          "histogram": [
           {
            "marker": {
             "pattern": {
              "fillmode": "overlay",
              "size": 10,
              "solidity": 0.2
             }
            },
            "type": "histogram"
           }
          ],
          "histogram2d": [
           {
            "colorbar": {
             "outlinewidth": 0,
             "ticks": ""
            },
            "colorscale": [
             [
              0,
              "#0d0887"
             ],
             [
              0.1111111111111111,
              "#46039f"
             ],
             [
              0.2222222222222222,
              "#7201a8"
             ],
             [
              0.3333333333333333,
              "#9c179e"
             ],
             [
              0.4444444444444444,
              "#bd3786"
             ],
             [
              0.5555555555555556,
              "#d8576b"
             ],
             [
              0.6666666666666666,
              "#ed7953"
             ],
             [
              0.7777777777777778,
              "#fb9f3a"
             ],
             [
              0.8888888888888888,
              "#fdca26"
             ],
             [
              1,
              "#f0f921"
             ]
            ],
            "type": "histogram2d"
           }
          ],
          "histogram2dcontour": [
           {
            "colorbar": {
             "outlinewidth": 0,
             "ticks": ""
            },
            "colorscale": [
             [
              0,
              "#0d0887"
             ],
             [
              0.1111111111111111,
              "#46039f"
             ],
             [
              0.2222222222222222,
              "#7201a8"
             ],
             [
              0.3333333333333333,
              "#9c179e"
             ],
             [
              0.4444444444444444,
              "#bd3786"
             ],
             [
              0.5555555555555556,
              "#d8576b"
             ],
             [
              0.6666666666666666,
              "#ed7953"
             ],
             [
              0.7777777777777778,
              "#fb9f3a"
             ],
             [
              0.8888888888888888,
              "#fdca26"
             ],
             [
              1,
              "#f0f921"
             ]
            ],
            "type": "histogram2dcontour"
           }
          ],
          "mesh3d": [
           {
            "colorbar": {
             "outlinewidth": 0,
             "ticks": ""
            },
            "type": "mesh3d"
           }
          ],
          "parcoords": [
           {
            "line": {
             "colorbar": {
              "outlinewidth": 0,
              "ticks": ""
             }
            },
            "type": "parcoords"
           }
          ],
          "pie": [
           {
            "automargin": true,
            "type": "pie"
           }
          ],
          "scatter": [
           {
            "fillpattern": {
             "fillmode": "overlay",
             "size": 10,
             "solidity": 0.2
            },
            "type": "scatter"
           }
          ],
          "scatter3d": [
           {
            "line": {
             "colorbar": {
              "outlinewidth": 0,
              "ticks": ""
             }
            },
            "marker": {
             "colorbar": {
              "outlinewidth": 0,
              "ticks": ""
             }
            },
            "type": "scatter3d"
           }
          ],
          "scattercarpet": [
           {
            "marker": {
             "colorbar": {
              "outlinewidth": 0,
              "ticks": ""
             }
            },
            "type": "scattercarpet"
           }
          ],
          "scattergeo": [
           {
            "marker": {
             "colorbar": {
              "outlinewidth": 0,
              "ticks": ""
             }
            },
            "type": "scattergeo"
           }
          ],
          "scattergl": [
           {
            "marker": {
             "colorbar": {
              "outlinewidth": 0,
              "ticks": ""
             }
            },
            "type": "scattergl"
           }
          ],
          "scattermapbox": [
           {
            "marker": {
             "colorbar": {
              "outlinewidth": 0,
              "ticks": ""
             }
            },
            "type": "scattermapbox"
           }
          ],
          "scatterpolar": [
           {
            "marker": {
             "colorbar": {
              "outlinewidth": 0,
              "ticks": ""
             }
            },
            "type": "scatterpolar"
           }
          ],
          "scatterpolargl": [
           {
            "marker": {
             "colorbar": {
              "outlinewidth": 0,
              "ticks": ""
             }
            },
            "type": "scatterpolargl"
           }
          ],
          "scatterternary": [
           {
            "marker": {
             "colorbar": {
              "outlinewidth": 0,
              "ticks": ""
             }
            },
            "type": "scatterternary"
           }
          ],
          "surface": [
           {
            "colorbar": {
             "outlinewidth": 0,
             "ticks": ""
            },
            "colorscale": [
             [
              0,
              "#0d0887"
             ],
             [
              0.1111111111111111,
              "#46039f"
             ],
             [
              0.2222222222222222,
              "#7201a8"
             ],
             [
              0.3333333333333333,
              "#9c179e"
             ],
             [
              0.4444444444444444,
              "#bd3786"
             ],
             [
              0.5555555555555556,
              "#d8576b"
             ],
             [
              0.6666666666666666,
              "#ed7953"
             ],
             [
              0.7777777777777778,
              "#fb9f3a"
             ],
             [
              0.8888888888888888,
              "#fdca26"
             ],
             [
              1,
              "#f0f921"
             ]
            ],
            "type": "surface"
           }
          ],
          "table": [
           {
            "cells": {
             "fill": {
              "color": "#EBF0F8"
             },
             "line": {
              "color": "white"
             }
            },
            "header": {
             "fill": {
              "color": "#C8D4E3"
             },
             "line": {
              "color": "white"
             }
            },
            "type": "table"
           }
          ]
         },
         "layout": {
          "annotationdefaults": {
           "arrowcolor": "#2a3f5f",
           "arrowhead": 0,
           "arrowwidth": 1
          },
          "autotypenumbers": "strict",
          "coloraxis": {
           "colorbar": {
            "outlinewidth": 0,
            "ticks": ""
           }
          },
          "colorscale": {
           "diverging": [
            [
             0,
             "#8e0152"
            ],
            [
             0.1,
             "#c51b7d"
            ],
            [
             0.2,
             "#de77ae"
            ],
            [
             0.3,
             "#f1b6da"
            ],
            [
             0.4,
             "#fde0ef"
            ],
            [
             0.5,
             "#f7f7f7"
            ],
            [
             0.6,
             "#e6f5d0"
            ],
            [
             0.7,
             "#b8e186"
            ],
            [
             0.8,
             "#7fbc41"
            ],
            [
             0.9,
             "#4d9221"
            ],
            [
             1,
             "#276419"
            ]
           ],
           "sequential": [
            [
             0,
             "#0d0887"
            ],
            [
             0.1111111111111111,
             "#46039f"
            ],
            [
             0.2222222222222222,
             "#7201a8"
            ],
            [
             0.3333333333333333,
             "#9c179e"
            ],
            [
             0.4444444444444444,
             "#bd3786"
            ],
            [
             0.5555555555555556,
             "#d8576b"
            ],
            [
             0.6666666666666666,
             "#ed7953"
            ],
            [
             0.7777777777777778,
             "#fb9f3a"
            ],
            [
             0.8888888888888888,
             "#fdca26"
            ],
            [
             1,
             "#f0f921"
            ]
           ],
           "sequentialminus": [
            [
             0,
             "#0d0887"
            ],
            [
             0.1111111111111111,
             "#46039f"
            ],
            [
             0.2222222222222222,
             "#7201a8"
            ],
            [
             0.3333333333333333,
             "#9c179e"
            ],
            [
             0.4444444444444444,
             "#bd3786"
            ],
            [
             0.5555555555555556,
             "#d8576b"
            ],
            [
             0.6666666666666666,
             "#ed7953"
            ],
            [
             0.7777777777777778,
             "#fb9f3a"
            ],
            [
             0.8888888888888888,
             "#fdca26"
            ],
            [
             1,
             "#f0f921"
            ]
           ]
          },
          "colorway": [
           "#636efa",
           "#EF553B",
           "#00cc96",
           "#ab63fa",
           "#FFA15A",
           "#19d3f3",
           "#FF6692",
           "#B6E880",
           "#FF97FF",
           "#FECB52"
          ],
          "font": {
           "color": "#2a3f5f"
          },
          "geo": {
           "bgcolor": "white",
           "lakecolor": "white",
           "landcolor": "#E5ECF6",
           "showlakes": true,
           "showland": true,
           "subunitcolor": "white"
          },
          "hoverlabel": {
           "align": "left"
          },
          "hovermode": "closest",
          "mapbox": {
           "style": "light"
          },
          "paper_bgcolor": "white",
          "plot_bgcolor": "#E5ECF6",
          "polar": {
           "angularaxis": {
            "gridcolor": "white",
            "linecolor": "white",
            "ticks": ""
           },
           "bgcolor": "#E5ECF6",
           "radialaxis": {
            "gridcolor": "white",
            "linecolor": "white",
            "ticks": ""
           }
          },
          "scene": {
           "xaxis": {
            "backgroundcolor": "#E5ECF6",
            "gridcolor": "white",
            "gridwidth": 2,
            "linecolor": "white",
            "showbackground": true,
            "ticks": "",
            "zerolinecolor": "white"
           },
           "yaxis": {
            "backgroundcolor": "#E5ECF6",
            "gridcolor": "white",
            "gridwidth": 2,
            "linecolor": "white",
            "showbackground": true,
            "ticks": "",
            "zerolinecolor": "white"
           },
           "zaxis": {
            "backgroundcolor": "#E5ECF6",
            "gridcolor": "white",
            "gridwidth": 2,
            "linecolor": "white",
            "showbackground": true,
            "ticks": "",
            "zerolinecolor": "white"
           }
          },
          "shapedefaults": {
           "line": {
            "color": "#2a3f5f"
           }
          },
          "ternary": {
           "aaxis": {
            "gridcolor": "white",
            "linecolor": "white",
            "ticks": ""
           },
           "baxis": {
            "gridcolor": "white",
            "linecolor": "white",
            "ticks": ""
           },
           "bgcolor": "#E5ECF6",
           "caxis": {
            "gridcolor": "white",
            "linecolor": "white",
            "ticks": ""
           }
          },
          "title": {
           "x": 0.05
          },
          "xaxis": {
           "automargin": true,
           "gridcolor": "white",
           "linecolor": "white",
           "ticks": "",
           "title": {
            "standoff": 15
           },
           "zerolinecolor": "white",
           "zerolinewidth": 2
          },
          "yaxis": {
           "automargin": true,
           "gridcolor": "white",
           "linecolor": "white",
           "ticks": "",
           "title": {
            "standoff": 15
           },
           "zerolinecolor": "white",
           "zerolinewidth": 2
          }
         }
        },
        "title": {
         "text": "Разделение стран на 2 кластера с помощью EM-алгоритма"
        },
        "width": 1000
       }
      }
     },
     "metadata": {},
     "output_type": "display_data"
    },
    {
     "data": {
      "text/html": [
       "<img src=\"../plotly/locations_clusters_em.png\" /><br />"
      ],
      "text/plain": [
       "<IPython.core.display.HTML object>"
      ]
     },
     "metadata": {},
     "output_type": "display_data"
    },
    {
     "data": {
      "text/html": [
       "<em>html графика в файле <a href=\"../plotly/locations_clusters_em.html\" target=\"_blank\">../plotly/locations_clusters_em.html</a></em>"
      ],
      "text/plain": [
       "<IPython.core.display.HTML object>"
      ]
     },
     "metadata": {},
     "output_type": "display_data"
    }
   ],
   "source": [
    "# Отобразим график с кластерами стран\n",
    "fig = px.choropleth(\n",
    "    location_clusters_data, \n",
    "    locations=F.SpatialDimValueCode.value, \n",
    "    color=FCluster.EM.value,\n",
    "    hover_name=F.Location.value,\n",
    "    projection='natural earth',\n",
    "    width=1000,\n",
    "    height=700,\n",
    "    title=f'Разделение стран на {EM_CLUSTERS_COUNT} кластера с помощью EM-алгоритма',\n",
    ")\n",
    "\n",
    "show_and_save_fig(fig, 'locations_clusters_em')"
   ]
  },
  {
   "cell_type": "markdown",
   "metadata": {},
   "source": [
    "Судя по карте, разделение очень похоже на предыдущее.\\\n",
    "Посмотрим, в каких странах есть различия по определенными кластерам."
   ]
  },
  {
   "cell_type": "code",
   "execution_count": 26,
   "metadata": {},
   "outputs": [
    {
     "data": {
      "text/html": [
       "<div>\n",
       "<style scoped>\n",
       "    .dataframe tbody tr th:only-of-type {\n",
       "        vertical-align: middle;\n",
       "    }\n",
       "\n",
       "    .dataframe tbody tr th {\n",
       "        vertical-align: top;\n",
       "    }\n",
       "\n",
       "    .dataframe thead th {\n",
       "        text-align: right;\n",
       "    }\n",
       "</style>\n",
       "<table border=\"1\" class=\"dataframe\">\n",
       "  <thead>\n",
       "    <tr style=\"text-align: right;\">\n",
       "      <th></th>\n",
       "      <th>Location</th>\n",
       "      <th>ParentLocationCode</th>\n",
       "      <th>ParentLocation</th>\n",
       "      <th>SpatialDimValueCode</th>\n",
       "      <th>ClusterKMeans</th>\n",
       "      <th>ClusterEM</th>\n",
       "      <th>VariousClusters</th>\n",
       "    </tr>\n",
       "  </thead>\n",
       "  <tbody>\n",
       "  </tbody>\n",
       "</table>\n",
       "</div>"
      ],
      "text/plain": [
       "Empty DataFrame\n",
       "Columns: [Location, ParentLocationCode, ParentLocation, SpatialDimValueCode, ClusterKMeans, ClusterEM, VariousClusters]\n",
       "Index: []"
      ]
     },
     "execution_count": 26,
     "metadata": {},
     "output_type": "execute_result"
    }
   ],
   "source": [
    "location_clusters_data['VariousClusters'] = location_clusters_data \\\n",
    "    .apply(lambda row: 0 if row[FCluster.K_MEANS.value] == row[FCluster.EM.value] else 1, axis=1)\n",
    "\n",
    "mask = location_clusters_data['VariousClusters'] == 1\n",
    "\n",
    "location_clusters_data[mask]"
   ]
  },
  {
   "cell_type": "code",
   "execution_count": 27,
   "metadata": {},
   "outputs": [
    {
     "name": "stdout",
     "output_type": "stream",
     "text": [
      "Два алгоритма одинаково разделили страны на 2 кластера.\n"
     ]
    }
   ],
   "source": [
    "if (location_clusters_data[mask].shape[0] == 0):\n",
    "    print(f'Два алгоритма одинаково разделили страны на {EM_CLUSTERS_COUNT} кластера.')"
   ]
  },
  {
   "cell_type": "code",
   "execution_count": 28,
   "metadata": {},
   "outputs": [],
   "source": [
    "# Удалим столбец VariousClusters\n",
    "location_clusters_data.drop(columns=['VariousClusters'], inplace=True)"
   ]
  },
  {
   "cell_type": "markdown",
   "metadata": {},
   "source": [
    "## Агломеративная иерархическая кластеризация"
   ]
  },
  {
   "cell_type": "markdown",
   "metadata": {},
   "source": [
    "С помощью метрики силуэта определим, на какое количество кластеров лучше разделить данные."
   ]
  },
  {
   "cell_type": "code",
   "execution_count": 29,
   "metadata": {},
   "outputs": [
    {
     "data": {
      "image/png": "[encoded data removed]",
      "text/plain": [
       "<Figure size 720x360 with 1 Axes>"
      ]
     },
     "metadata": {
      "needs_background": "light"
     },
     "output_type": "display_data"
    },
    {
     "data": {
      "text/html": [
       "<div>\n",
       "<style scoped>\n",
       "    .dataframe tbody tr th:only-of-type {\n",
       "        vertical-align: middle;\n",
       "    }\n",
       "\n",
       "    .dataframe tbody tr th {\n",
       "        vertical-align: top;\n",
       "    }\n",
       "\n",
       "    .dataframe thead th {\n",
       "        text-align: right;\n",
       "    }\n",
       "</style>\n",
       "<table border=\"1\" class=\"dataframe\">\n",
       "  <thead>\n",
       "    <tr style=\"text-align: right;\">\n",
       "      <th></th>\n",
       "      <th>silhouette</th>\n",
       "      <th>clusters_count</th>\n",
       "    </tr>\n",
       "  </thead>\n",
       "  <tbody>\n",
       "    <tr>\n",
       "      <th>0</th>\n",
       "      <td>0.345642</td>\n",
       "      <td>2</td>\n",
       "    </tr>\n",
       "    <tr>\n",
       "      <th>1</th>\n",
       "      <td>0.242695</td>\n",
       "      <td>3</td>\n",
       "    </tr>\n",
       "    <tr>\n",
       "      <th>2</th>\n",
       "      <td>0.233644</td>\n",
       "      <td>4</td>\n",
       "    </tr>\n",
       "    <tr>\n",
       "      <th>3</th>\n",
       "      <td>0.203521</td>\n",
       "      <td>5</td>\n",
       "    </tr>\n",
       "    <tr>\n",
       "      <th>4</th>\n",
       "      <td>0.173712</td>\n",
       "      <td>6</td>\n",
       "    </tr>\n",
       "    <tr>\n",
       "      <th>6</th>\n",
       "      <td>0.153188</td>\n",
       "      <td>8</td>\n",
       "    </tr>\n",
       "    <tr>\n",
       "      <th>7</th>\n",
       "      <td>0.151466</td>\n",
       "      <td>9</td>\n",
       "    </tr>\n",
       "    <tr>\n",
       "      <th>8</th>\n",
       "      <td>0.145755</td>\n",
       "      <td>10</td>\n",
       "    </tr>\n",
       "    <tr>\n",
       "      <th>5</th>\n",
       "      <td>0.141206</td>\n",
       "      <td>7</td>\n",
       "    </tr>\n",
       "  </tbody>\n",
       "</table>\n",
       "</div>"
      ],
      "text/plain": [
       "   silhouette  clusters_count\n",
       "0    0.345642               2\n",
       "1    0.242695               3\n",
       "2    0.233644               4\n",
       "3    0.203521               5\n",
       "4    0.173712               6\n",
       "6    0.153188               8\n",
       "7    0.151466               9\n",
       "8    0.145755              10\n",
       "5    0.141206               7"
      ]
     },
     "metadata": {},
     "output_type": "display_data"
    }
   ],
   "source": [
    "# Построим график зависимости значения коэффициента силуэта от количества кластеров\n",
    "display_silhouette(\n",
    "    cumulative_scaled_data, \n",
    "    2, \n",
    "    10, \n",
    "    ClusteringAlgorithm.AC.value,\n",
    ")"
   ]
  },
  {
   "cell_type": "code",
   "execution_count": 30,
   "metadata": {},
   "outputs": [],
   "source": [
    "# Оптимальное количество кластеров\n",
    "AC_CLUSTERS_COUNT = 2"
   ]
  },
  {
   "cell_type": "code",
   "execution_count": 31,
   "metadata": {},
   "outputs": [
    {
     "name": "stdout",
     "output_type": "stream",
     "text": [
      "Наибольшее значение метрика силуэта принимает для 2-х кластеров.\n",
      "Разделим страны на 2 кластера.\n"
     ]
    }
   ],
   "source": [
    "print(f'Наибольшее значение метрика силуэта принимает для {AC_CLUSTERS_COUNT}-х кластеров.')\n",
    "print(f'Разделим страны на {AC_CLUSTERS_COUNT} кластера.')"
   ]
  },
  {
   "cell_type": "code",
   "execution_count": 32,
   "metadata": {},
   "outputs": [
    {
     "data": {
      "text/html": [
       "<div>\n",
       "<style scoped>\n",
       "    .dataframe tbody tr th:only-of-type {\n",
       "        vertical-align: middle;\n",
       "    }\n",
       "\n",
       "    .dataframe tbody tr th {\n",
       "        vertical-align: top;\n",
       "    }\n",
       "\n",
       "    .dataframe thead th {\n",
       "        text-align: right;\n",
       "    }\n",
       "</style>\n",
       "<table border=\"1\" class=\"dataframe\">\n",
       "  <thead>\n",
       "    <tr style=\"text-align: right;\">\n",
       "      <th></th>\n",
       "      <th>AdultMortality</th>\n",
       "      <th>Homicides</th>\n",
       "      <th>MaternalMortality</th>\n",
       "      <th>AdultNcdMortality</th>\n",
       "      <th>AdultNcdMortality117</th>\n",
       "      <th>AdultNcdMortality110</th>\n",
       "      <th>AdultNcdMortality080</th>\n",
       "      <th>AdultNcdMortality061</th>\n",
       "      <th>AdultNcdMortalitySum</th>\n",
       "      <th>PoisoningMortality</th>\n",
       "      <th>...</th>\n",
       "      <th>ChildUnder5Mortality3</th>\n",
       "      <th>ChildUnder5Mortality11</th>\n",
       "      <th>ChildUnder5Mortality13</th>\n",
       "      <th>ChildUnder5Mortality17</th>\n",
       "      <th>ChildUnder5Mortality9</th>\n",
       "      <th>ChildUnder5Mortality16</th>\n",
       "      <th>ChildUnder5Mortality15</th>\n",
       "      <th>ChildUnder5Mortality10</th>\n",
       "      <th>LifeExpectancy</th>\n",
       "      <th>ClusterAC</th>\n",
       "    </tr>\n",
       "  </thead>\n",
       "  <tbody>\n",
       "    <tr>\n",
       "      <th>Afghanistan</th>\n",
       "      <td>0.460669</td>\n",
       "      <td>0.125335</td>\n",
       "      <td>0.790629</td>\n",
       "      <td>0.897069</td>\n",
       "      <td>0.266824</td>\n",
       "      <td>0.154748</td>\n",
       "      <td>0.074657</td>\n",
       "      <td>0.075262</td>\n",
       "      <td>0.151883</td>\n",
       "      <td>0.251004</td>\n",
       "      <td>...</td>\n",
       "      <td>0.679851</td>\n",
       "      <td>0.394213</td>\n",
       "      <td>0.218182</td>\n",
       "      <td>0.236722</td>\n",
       "      <td>0.582483</td>\n",
       "      <td>0.107978</td>\n",
       "      <td>0.056313</td>\n",
       "      <td>0.195885</td>\n",
       "      <td>0.311479</td>\n",
       "      <td>1</td>\n",
       "    </tr>\n",
       "    <tr>\n",
       "      <th>Albania</th>\n",
       "      <td>0.063786</td>\n",
       "      <td>0.064135</td>\n",
       "      <td>0.004763</td>\n",
       "      <td>0.220520</td>\n",
       "      <td>0.246645</td>\n",
       "      <td>0.326583</td>\n",
       "      <td>0.003352</td>\n",
       "      <td>0.441515</td>\n",
       "      <td>0.365338</td>\n",
       "      <td>0.067698</td>\n",
       "      <td>...</td>\n",
       "      <td>0.099627</td>\n",
       "      <td>0.128391</td>\n",
       "      <td>0.154343</td>\n",
       "      <td>0.558801</td>\n",
       "      <td>0.455558</td>\n",
       "      <td>0.237396</td>\n",
       "      <td>0.536004</td>\n",
       "      <td>0.379890</td>\n",
       "      <td>0.809799</td>\n",
       "      <td>0</td>\n",
       "    </tr>\n",
       "    <tr>\n",
       "      <th>Algeria</th>\n",
       "      <td>0.073562</td>\n",
       "      <td>0.017173</td>\n",
       "      <td>0.093699</td>\n",
       "      <td>0.199700</td>\n",
       "      <td>0.136751</td>\n",
       "      <td>0.138958</td>\n",
       "      <td>0.039564</td>\n",
       "      <td>0.134536</td>\n",
       "      <td>0.140548</td>\n",
       "      <td>0.124267</td>\n",
       "      <td>...</td>\n",
       "      <td>0.398134</td>\n",
       "      <td>0.354430</td>\n",
       "      <td>0.124242</td>\n",
       "      <td>0.273900</td>\n",
       "      <td>0.439599</td>\n",
       "      <td>0.203206</td>\n",
       "      <td>0.284042</td>\n",
       "      <td>0.381339</td>\n",
       "      <td>0.773771</td>\n",
       "      <td>0</td>\n",
       "    </tr>\n",
       "    <tr>\n",
       "      <th>Angola</th>\n",
       "      <td>0.399811</td>\n",
       "      <td>0.154990</td>\n",
       "      <td>0.375455</td>\n",
       "      <td>0.511326</td>\n",
       "      <td>0.206003</td>\n",
       "      <td>0.050407</td>\n",
       "      <td>0.069031</td>\n",
       "      <td>0.049990</td>\n",
       "      <td>0.060486</td>\n",
       "      <td>0.439943</td>\n",
       "      <td>...</td>\n",
       "      <td>0.989179</td>\n",
       "      <td>0.264014</td>\n",
       "      <td>0.329293</td>\n",
       "      <td>0.235964</td>\n",
       "      <td>0.654852</td>\n",
       "      <td>0.049643</td>\n",
       "      <td>0.054523</td>\n",
       "      <td>0.050565</td>\n",
       "      <td>0.265493</td>\n",
       "      <td>1</td>\n",
       "    </tr>\n",
       "    <tr>\n",
       "      <th>Antigua and Barbuda</th>\n",
       "      <td>0.104021</td>\n",
       "      <td>0.047128</td>\n",
       "      <td>0.024859</td>\n",
       "      <td>0.263824</td>\n",
       "      <td>0.230266</td>\n",
       "      <td>0.164910</td>\n",
       "      <td>0.339895</td>\n",
       "      <td>0.317160</td>\n",
       "      <td>0.255555</td>\n",
       "      <td>0.082134</td>\n",
       "      <td>...</td>\n",
       "      <td>0.019776</td>\n",
       "      <td>0.275588</td>\n",
       "      <td>0.237374</td>\n",
       "      <td>0.257587</td>\n",
       "      <td>0.124513</td>\n",
       "      <td>0.597837</td>\n",
       "      <td>0.531874</td>\n",
       "      <td>0.421907</td>\n",
       "      <td>0.790757</td>\n",
       "      <td>0</td>\n",
       "    </tr>\n",
       "  </tbody>\n",
       "</table>\n",
       "<p>5 rows × 49 columns</p>\n",
       "</div>"
      ],
      "text/plain": [
       "                     AdultMortality  Homicides  MaternalMortality  \\\n",
       "Afghanistan                0.460669   0.125335           0.790629   \n",
       "Albania                    0.063786   0.064135           0.004763   \n",
       "Algeria                    0.073562   0.017173           0.093699   \n",
       "Angola                     0.399811   0.154990           0.375455   \n",
       "Antigua and Barbuda        0.104021   0.047128           0.024859   \n",
       "\n",
       "                     AdultNcdMortality  AdultNcdMortality117  \\\n",
       "Afghanistan                   0.897069              0.266824   \n",
       "Albania                       0.220520              0.246645   \n",
       "Algeria                       0.199700              0.136751   \n",
       "Angola                        0.511326              0.206003   \n",
       "Antigua and Barbuda           0.263824              0.230266   \n",
       "\n",
       "                     AdultNcdMortality110  AdultNcdMortality080  \\\n",
       "Afghanistan                      0.154748              0.074657   \n",
       "Albania                          0.326583              0.003352   \n",
       "Algeria                          0.138958              0.039564   \n",
       "Angola                           0.050407              0.069031   \n",
       "Antigua and Barbuda              0.164910              0.339895   \n",
       "\n",
       "                     AdultNcdMortality061  AdultNcdMortalitySum  \\\n",
       "Afghanistan                      0.075262              0.151883   \n",
       "Albania                          0.441515              0.365338   \n",
       "Algeria                          0.134536              0.140548   \n",
       "Angola                           0.049990              0.060486   \n",
       "Antigua and Barbuda              0.317160              0.255555   \n",
       "\n",
       "                     PoisoningMortality  ...  ChildUnder5Mortality3  \\\n",
       "Afghanistan                    0.251004  ...               0.679851   \n",
       "Albania                        0.067698  ...               0.099627   \n",
       "Algeria                        0.124267  ...               0.398134   \n",
       "Angola                         0.439943  ...               0.989179   \n",
       "Antigua and Barbuda            0.082134  ...               0.019776   \n",
       "\n",
       "                     ChildUnder5Mortality11  ChildUnder5Mortality13  \\\n",
       "Afghanistan                        0.394213                0.218182   \n",
       "Albania                            0.128391                0.154343   \n",
       "Algeria                            0.354430                0.124242   \n",
       "Angola                             0.264014                0.329293   \n",
       "Antigua and Barbuda                0.275588                0.237374   \n",
       "\n",
       "                     ChildUnder5Mortality17  ChildUnder5Mortality9  \\\n",
       "Afghanistan                        0.236722               0.582483   \n",
       "Albania                            0.558801               0.455558   \n",
       "Algeria                            0.273900               0.439599   \n",
       "Angola                             0.235964               0.654852   \n",
       "Antigua and Barbuda                0.257587               0.124513   \n",
       "\n",
       "                     ChildUnder5Mortality16  ChildUnder5Mortality15  \\\n",
       "Afghanistan                        0.107978                0.056313   \n",
       "Albania                            0.237396                0.536004   \n",
       "Algeria                            0.203206                0.284042   \n",
       "Angola                             0.049643                0.054523   \n",
       "Antigua and Barbuda                0.597837                0.531874   \n",
       "\n",
       "                     ChildUnder5Mortality10  LifeExpectancy  ClusterAC  \n",
       "Afghanistan                        0.195885        0.311479          1  \n",
       "Albania                            0.379890        0.809799          0  \n",
       "Algeria                            0.381339        0.773771          0  \n",
       "Angola                             0.050565        0.265493          1  \n",
       "Antigua and Barbuda                0.421907        0.790757          0  \n",
       "\n",
       "[5 rows x 49 columns]"
      ]
     },
     "execution_count": 32,
     "metadata": {},
     "output_type": "execute_result"
    }
   ],
   "source": [
    "ac_model = AgglomerativeClustering(n_clusters=AC_CLUSTERS_COUNT)\n",
    "\n",
    "ac_model.fit(cumulative_scaled_data)\n",
    "\n",
    "cumulative_scaled_data[FCluster.AC.value] = ac_model.labels_\n",
    "\n",
    "cumulative_scaled_data.head()"
   ]
  },
  {
   "cell_type": "markdown",
   "metadata": {},
   "source": [
    "Отобразим полученные кластеры на карте."
   ]
  },
  {
   "cell_type": "code",
   "execution_count": 33,
   "metadata": {},
   "outputs": [
    {
     "data": {
      "text/html": [
       "<div>\n",
       "<style scoped>\n",
       "    .dataframe tbody tr th:only-of-type {\n",
       "        vertical-align: middle;\n",
       "    }\n",
       "\n",
       "    .dataframe tbody tr th {\n",
       "        vertical-align: top;\n",
       "    }\n",
       "\n",
       "    .dataframe thead th {\n",
       "        text-align: right;\n",
       "    }\n",
       "</style>\n",
       "<table border=\"1\" class=\"dataframe\">\n",
       "  <thead>\n",
       "    <tr style=\"text-align: right;\">\n",
       "      <th></th>\n",
       "      <th>Location</th>\n",
       "      <th>ParentLocationCode</th>\n",
       "      <th>ParentLocation</th>\n",
       "      <th>SpatialDimValueCode</th>\n",
       "      <th>ClusterKMeans</th>\n",
       "      <th>ClusterEM</th>\n",
       "      <th>ClusterAC</th>\n",
       "    </tr>\n",
       "  </thead>\n",
       "  <tbody>\n",
       "    <tr>\n",
       "      <th>0</th>\n",
       "      <td>Afghanistan</td>\n",
       "      <td>EMR</td>\n",
       "      <td>Eastern Mediterranean</td>\n",
       "      <td>AFG</td>\n",
       "      <td>1</td>\n",
       "      <td>1</td>\n",
       "      <td>1</td>\n",
       "    </tr>\n",
       "    <tr>\n",
       "      <th>1</th>\n",
       "      <td>Albania</td>\n",
       "      <td>EUR</td>\n",
       "      <td>Europe</td>\n",
       "      <td>ALB</td>\n",
       "      <td>0</td>\n",
       "      <td>0</td>\n",
       "      <td>0</td>\n",
       "    </tr>\n",
       "    <tr>\n",
       "      <th>2</th>\n",
       "      <td>Algeria</td>\n",
       "      <td>AFR</td>\n",
       "      <td>Africa</td>\n",
       "      <td>DZA</td>\n",
       "      <td>0</td>\n",
       "      <td>0</td>\n",
       "      <td>0</td>\n",
       "    </tr>\n",
       "    <tr>\n",
       "      <th>3</th>\n",
       "      <td>Angola</td>\n",
       "      <td>AFR</td>\n",
       "      <td>Africa</td>\n",
       "      <td>AGO</td>\n",
       "      <td>1</td>\n",
       "      <td>1</td>\n",
       "      <td>1</td>\n",
       "    </tr>\n",
       "    <tr>\n",
       "      <th>4</th>\n",
       "      <td>Antigua and Barbuda</td>\n",
       "      <td>AMR</td>\n",
       "      <td>Americas</td>\n",
       "      <td>ATG</td>\n",
       "      <td>0</td>\n",
       "      <td>0</td>\n",
       "      <td>0</td>\n",
       "    </tr>\n",
       "  </tbody>\n",
       "</table>\n",
       "</div>"
      ],
      "text/plain": [
       "              Location ParentLocationCode         ParentLocation  \\\n",
       "0          Afghanistan                EMR  Eastern Mediterranean   \n",
       "1              Albania                EUR                 Europe   \n",
       "2              Algeria                AFR                 Africa   \n",
       "3               Angola                AFR                 Africa   \n",
       "4  Antigua and Barbuda                AMR               Americas   \n",
       "\n",
       "  SpatialDimValueCode  ClusterKMeans  ClusterEM  ClusterAC  \n",
       "0                 AFG              1          1          1  \n",
       "1                 ALB              0          0          0  \n",
       "2                 DZA              0          0          0  \n",
       "3                 AGO              1          1          1  \n",
       "4                 ATG              0          0          0  "
      ]
     },
     "execution_count": 33,
     "metadata": {},
     "output_type": "execute_result"
    }
   ],
   "source": [
    "# Добавим столбец с кластерами, определенными алгоритмом в таблицу location_clusters_data\n",
    "location_clusters_ac_data = cumulative_scaled_data[[FCluster.AC.value]] \\\n",
    "    .reset_index() \\\n",
    "    .rename(columns={'index': F.Location.value})\n",
    "    \n",
    "location_clusters_data = location_clusters_data.merge(\n",
    "    location_clusters_ac_data,\n",
    "    on=[F.Location.value],\n",
    "    how='left',\n",
    ")\n",
    "\n",
    "location_clusters_data.head()"
   ]
  },
  {
   "cell_type": "code",
   "execution_count": 34,
   "metadata": {},
   "outputs": [],
   "source": [
    "# Удалим из основной таблицы столбец с кластерами\n",
    "cumulative_scaled_data.drop(columns=[FCluster.AC.value], inplace=True)"
   ]
  },
  {
   "cell_type": "code",
   "execution_count": 35,
   "metadata": {},
   "outputs": [
    {
     "data": {
      "application/vnd.plotly.v1+json": {
       "config": {
        "plotlyServerURL": "https://plot.ly"
       },
       "data": [
        {
         "coloraxis": "coloraxis",
         "geo": "geo",
         "hovertemplate": "<b>%{hovertext}</b><br><br>SpatialDimValueCode=%{location}<br>ClusterAC=%{z}<extra></extra>",
         "hovertext": [
          "Afghanistan",
          "Albania",
          "Algeria",
          "Angola",
          "Antigua and Barbuda",
          "Argentina",
          "Armenia",
          "Australia",
          "Austria",
          "Azerbaijan",
          "Bahamas",
          "Bahrain",
          "Bangladesh",
          "Barbados",
          "Belarus",
          "Belgium",
          "Belize",
          "Benin",
          "Bhutan",
          "Bolivia (Plurinational State of)",
          "Bosnia and Herzegovina",
          "Botswana",
          "Brazil",
          "Brunei Darussalam",
          "Bulgaria",
          "Burkina Faso",
          "Burundi",
          "Cabo Verde",
          "Cambodia",
          "Cameroon",
          "Canada",
          "Central African Republic",
          "Chad",
          "Chile",
          "China",
          "Colombia",
          "Comoros",
          "Congo",
          "Costa Rica",
          "Cote d'Ivoire",
          "Croatia",
          "Cuba",
          "Cyprus",
          "Czechia",
          "Democratic Republic of the Congo",
          "Denmark",
          "Djibouti",
          "Dominican Republic",
          "Ecuador",
          "Egypt",
          "El Salvador",
          "Equatorial Guinea",
          "Eritrea",
          "Estonia",
          "Eswatini",
          "Ethiopia",
          "Fiji",
          "Finland",
          "France",
          "Gabon",
          "Gambia",
          "Georgia",
          "Germany",
          "Ghana",
          "Greece",
          "Grenada",
          "Guatemala",
          "Guinea",
          "Guinea-Bissau",
          "Guyana",
          "Haiti",
          "Honduras",
          "Hungary",
          "Iceland",
          "India",
          "Indonesia",
          "Iran (Islamic Republic of)",
          "Iraq",
          "Ireland",
          "Israel",
          "Italy",
          "Jamaica",
          "Japan",
          "Jordan",
          "Kazakhstan",
          "Kenya",
          "Kiribati",
          "Kuwait",
          "Kyrgyzstan",
          "Lao People's Democratic Republic",
          "Latvia",
          "Lebanon",
          "Lesotho",
          "Liberia",
          "Libya",
          "Lithuania",
          "Luxembourg",
          "Madagascar",
          "Malawi",
          "Malaysia",
          "Maldives",
          "Mali",
          "Malta",
          "Mauritania",
          "Mauritius",
          "Mexico",
          "Micronesia (Federated States of)",
          "Mongolia",
          "Montenegro",
          "Morocco",
          "Mozambique",
          "Myanmar",
          "Namibia",
          "Nepal",
          "Netherlands (Kingdom of the)",
          "New Zealand",
          "Nicaragua",
          "Niger",
          "Nigeria",
          "North Macedonia",
          "Norway",
          "Oman",
          "Pakistan",
          "Panama",
          "Papua New Guinea",
          "Paraguay",
          "Peru",
          "Philippines",
          "Poland",
          "Portugal",
          "Qatar",
          "Republic of Korea",
          "Republic of Moldova",
          "Romania",
          "Russian Federation",
          "Rwanda",
          "Saint Lucia",
          "Saint Vincent and the Grenadines",
          "Samoa",
          "Sao Tome and Principe",
          "Saudi Arabia",
          "Senegal",
          "Serbia",
          "Seychelles",
          "Sierra Leone",
          "Singapore",
          "Slovakia",
          "Slovenia",
          "Solomon Islands",
          "Somalia",
          "South Africa",
          "Spain",
          "Sri Lanka",
          "Sudan",
          "Suriname",
          "Sweden",
          "Switzerland",
          "Syrian Arab Republic",
          "Tajikistan",
          "Thailand",
          "Timor-Leste",
          "Togo",
          "Tonga",
          "Trinidad and Tobago",
          "Tunisia",
          "Turkmenistan",
          "Türkiye",
          "Uganda",
          "Ukraine",
          "United Arab Emirates",
          "United Kingdom of Great Britain and Northern Ireland",
          "United Republic of Tanzania",
          "United States of America",
          "Uruguay",
          "Uzbekistan",
          "Vanuatu",
          "Venezuela (Bolivarian Republic of)",
          "Viet Nam",
          "Yemen",
          "Zambia",
          "Zimbabwe"
         ],
         "locations": [
          "AFG",
          "ALB",
          "DZA",
          "AGO",
          "ATG",
          "ARG",
          "ARM",
          "AUS",
          "AUT",
          "AZE",
          "BHS",
          "BHR",
          "BGD",
          "BRB",
          "BLR",
          "BEL",
          "BLZ",
          "BEN",
          "BTN",
          "BOL",
          "BIH",
          "BWA",
          "BRA",
          "BRN",
          "BGR",
          "BFA",
          "BDI",
          "CPV",
          "KHM",
          "CMR",
          "CAN",
          "CAF",
          "TCD",
          "CHL",
          "CHN",
          "COL",
          "COM",
          "COG",
          "CRI",
          "CIV",
          "HRV",
          "CUB",
          "CYP",
          "CZE",
          "COD",
          "DNK",
          "DJI",
          "DOM",
          "ECU",
          "EGY",
          "SLV",
          "GNQ",
          "ERI",
          "EST",
          "SWZ",
          "ETH",
          "FJI",
          "FIN",
          "FRA",
          "GAB",
          "GMB",
          "GEO",
          "DEU",
          "GHA",
          "GRC",
          "GRD",
          "GTM",
          "GIN",
          "GNB",
          "GUY",
          "HTI",
          "HND",
          "HUN",
          "ISL",
          "IND",
          "IDN",
          "IRN",
          "IRQ",
          "IRL",
          "ISR",
          "ITA",
          "JAM",
          "JPN",
          "JOR",
          "KAZ",
          "KEN",
          "KIR",
          "KWT",
          "KGZ",
          "LAO",
          "LVA",
          "LBN",
          "LSO",
          "LBR",
          "LBY",
          "LTU",
          "LUX",
          "MDG",
          "MWI",
          "MYS",
          "MDV",
          "MLI",
          "MLT",
          "MRT",
          "MUS",
          "MEX",
          "FSM",
          "MNG",
          "MNE",
          "MAR",
          "MOZ",
          "MMR",
          "NAM",
          "NPL",
          "NLD",
          "NZL",
          "NIC",
          "NER",
          "NGA",
          "MKD",
          "NOR",
          "OMN",
          "PAK",
          "PAN",
          "PNG",
          "PRY",
          "PER",
          "PHL",
          "POL",
          "PRT",
          "QAT",
          "KOR",
          "MDA",
          "ROU",
          "RUS",
          "RWA",
          "LCA",
          "VCT",
          "WSM",
          "STP",
          "SAU",
          "SEN",
          "SRB",
          "SYC",
          "SLE",
          "SGP",
          "SVK",
          "SVN",
          "SLB",
          "SOM",
          "ZAF",
          "ESP",
          "LKA",
          "SDN",
          "SUR",
          "SWE",
          "CHE",
          "SYR",
          "TJK",
          "THA",
          "TLS",
          "TGO",
          "TON",
          "TTO",
          "TUN",
          "TKM",
          "TUR",
          "UGA",
          "UKR",
          "ARE",
          "GBR",
          "TZA",
          "USA",
          "URY",
          "UZB",
          "VUT",
          "VEN",
          "VNM",
          "YEM",
          "ZMB",
          "ZWE"
         ],
         "name": "",
         "type": "choropleth",
         "z": [
          1,
          0,
          0,
          1,
          0,
          0,
          0,
          0,
          0,
          0,
          0,
          0,
          1,
          0,
          0,
          0,
          0,
          1,
          0,
          0,
          0,
          1,
          0,
          0,
          0,
          1,
          1,
          0,
          1,
          1,
          0,
          1,
          1,
          0,
          0,
          0,
          1,
          1,
          0,
          1,
          0,
          0,
          0,
          0,
          1,
          0,
          1,
          0,
          0,
          0,
          0,
          1,
          1,
          0,
          1,
          1,
          0,
          0,
          0,
          1,
          1,
          0,
          0,
          1,
          0,
          0,
          0,
          1,
          1,
          0,
          1,
          0,
          0,
          0,
          1,
          1,
          0,
          0,
          0,
          0,
          0,
          0,
          0,
          0,
          0,
          1,
          1,
          0,
          0,
          1,
          0,
          0,
          1,
          1,
          0,
          0,
          0,
          1,
          1,
          0,
          0,
          1,
          0,
          1,
          0,
          0,
          1,
          0,
          0,
          0,
          1,
          1,
          1,
          1,
          0,
          0,
          0,
          1,
          1,
          0,
          0,
          0,
          1,
          0,
          1,
          0,
          0,
          1,
          0,
          0,
          0,
          0,
          0,
          0,
          0,
          1,
          0,
          0,
          1,
          1,
          0,
          1,
          0,
          0,
          1,
          0,
          0,
          0,
          1,
          1,
          1,
          0,
          0,
          1,
          0,
          0,
          0,
          0,
          0,
          0,
          1,
          1,
          0,
          0,
          0,
          0,
          0,
          1,
          0,
          0,
          0,
          1,
          0,
          0,
          0,
          1,
          0,
          0,
          1,
          1,
          1
         ]
        }
       ],
       "layout": {
        "coloraxis": {
         "colorbar": {
          "title": {
           "text": "ClusterAC"
          }
         },
         "colorscale": [
          [
           0,
           "#0d0887"
          ],
          [
           0.1111111111111111,
           "#46039f"
          ],
          [
           0.2222222222222222,
           "#7201a8"
          ],
          [
           0.3333333333333333,
           "#9c179e"
          ],
          [
           0.4444444444444444,
           "#bd3786"
          ],
          [
           0.5555555555555556,
           "#d8576b"
          ],
          [
           0.6666666666666666,
           "#ed7953"
          ],
          [
           0.7777777777777778,
           "#fb9f3a"
          ],
          [
           0.8888888888888888,
           "#fdca26"
          ],
          [
           1,
           "#f0f921"
          ]
         ]
        },
        "geo": {
         "center": {},
         "domain": {
          "x": [
           0,
           1
          ],
          "y": [
           0,
           1
          ]
         },
         "projection": {
          "type": "natural earth"
         }
        },
        "height": 700,
        "legend": {
         "tracegroupgap": 0
        },
        "template": {
         "data": {
          "bar": [
           {
            "error_x": {
             "color": "#2a3f5f"
            },
            "error_y": {
             "color": "#2a3f5f"
            },
            "marker": {
             "line": {
              "color": "#E5ECF6",
              "width": 0.5
             },
             "pattern": {
              "fillmode": "overlay",
              "size": 10,
              "solidity": 0.2
             }
            },
            "type": "bar"
           }
          ],
          "barpolar": [
           {
            "marker": {
             "line": {
              "color": "#E5ECF6",
              "width": 0.5
             },
             "pattern": {
              "fillmode": "overlay",
              "size": 10,
              "solidity": 0.2
             }
            },
            "type": "barpolar"
           }
          ],
          "carpet": [
           {
            "aaxis": {
             "endlinecolor": "#2a3f5f",
             "gridcolor": "white",
             "linecolor": "white",
             "minorgridcolor": "white",
             "startlinecolor": "#2a3f5f"
            },
            "baxis": {
             "endlinecolor": "#2a3f5f",
             "gridcolor": "white",
             "linecolor": "white",
             "minorgridcolor": "white",
             "startlinecolor": "#2a3f5f"
            },
            "type": "carpet"
           }
          ],
          "choropleth": [
           {
            "colorbar": {
             "outlinewidth": 0,
             "ticks": ""
            },
            "type": "choropleth"
           }
          ],
          "contour": [
           {
            "colorbar": {
             "outlinewidth": 0,
             "ticks": ""
            },
            "colorscale": [
             [
              0,
              "#0d0887"
             ],
             [
              0.1111111111111111,
              "#46039f"
             ],
             [
              0.2222222222222222,
              "#7201a8"
             ],
             [
              0.3333333333333333,
              "#9c179e"
             ],
             [
              0.4444444444444444,
              "#bd3786"
             ],
             [
              0.5555555555555556,
              "#d8576b"
             ],
             [
              0.6666666666666666,
              "#ed7953"
             ],
             [
              0.7777777777777778,
              "#fb9f3a"
             ],
             [
              0.8888888888888888,
              "#fdca26"
             ],
             [
              1,
              "#f0f921"
             ]
            ],
            "type": "contour"
           }
          ],
          "contourcarpet": [
           {
            "colorbar": {
             "outlinewidth": 0,
             "ticks": ""
            },
            "type": "contourcarpet"
           }
          ],
          "heatmap": [
           {
            "colorbar": {
             "outlinewidth": 0,
             "ticks": ""
            },
            "colorscale": [
             [
              0,
              "#0d0887"
             ],
             [
              0.1111111111111111,
              "#46039f"
             ],
             [
              0.2222222222222222,
              "#7201a8"
             ],
             [
              0.3333333333333333,
              "#9c179e"
             ],
             [
              0.4444444444444444,
              "#bd3786"
             ],
             [
              0.5555555555555556,
              "#d8576b"
             ],
             [
              0.6666666666666666,
              "#ed7953"
             ],
             [
              0.7777777777777778,
              "#fb9f3a"
             ],
             [
              0.8888888888888888,
              "#fdca26"
             ],
             [
              1,
              "#f0f921"
             ]
            ],
            "type": "heatmap"
           }
          ],
          "heatmapgl": [
           {
            "colorbar": {
             "outlinewidth": 0,
             "ticks": ""
            },
            "colorscale": [
             [
              0,
              "#0d0887"
             ],
             [
              0.1111111111111111,
              "#46039f"
             ],
             [
              0.2222222222222222,
              "#7201a8"
             ],
             [
              0.3333333333333333,
              "#9c179e"
             ],
             [
              0.4444444444444444,
              "#bd3786"
             ],
             [
              0.5555555555555556,
              "#d8576b"
             ],
             [
              0.6666666666666666,
              "#ed7953"
             ],
             [
              0.7777777777777778,
              "#fb9f3a"
             ],
             [
              0.8888888888888888,
              "#fdca26"
             ],
             [
              1,
              "#f0f921"
             ]
            ],
            "type": "heatmapgl"
           }
          ],
          "histogram": [
           {
            "marker": {
             "pattern": {
              "fillmode": "overlay",
              "size": 10,
              "solidity": 0.2
             }
            },
            "type": "histogram"
           }
          ],
          "histogram2d": [
           {
            "colorbar": {
             "outlinewidth": 0,
             "ticks": ""
            },
            "colorscale": [
             [
              0,
              "#0d0887"
             ],
             [
              0.1111111111111111,
              "#46039f"
             ],
             [
              0.2222222222222222,
              "#7201a8"
             ],
             [
              0.3333333333333333,
              "#9c179e"
             ],
             [
              0.4444444444444444,
              "#bd3786"
             ],
             [
              0.5555555555555556,
              "#d8576b"
             ],
             [
              0.6666666666666666,
              "#ed7953"
             ],
             [
              0.7777777777777778,
              "#fb9f3a"
             ],
             [
              0.8888888888888888,
              "#fdca26"
             ],
             [
              1,
              "#f0f921"
             ]
            ],
            "type": "histogram2d"
           }
          ],
          "histogram2dcontour": [
           {
            "colorbar": {
             "outlinewidth": 0,
             "ticks": ""
            },
            "colorscale": [
             [
              0,
              "#0d0887"
             ],
             [
              0.1111111111111111,
              "#46039f"
             ],
             [
              0.2222222222222222,
              "#7201a8"
             ],
             [
              0.3333333333333333,
              "#9c179e"
             ],
             [
              0.4444444444444444,
              "#bd3786"
             ],
             [
              0.5555555555555556,
              "#d8576b"
             ],
             [
              0.6666666666666666,
              "#ed7953"
             ],
             [
              0.7777777777777778,
              "#fb9f3a"
             ],
             [
              0.8888888888888888,
              "#fdca26"
             ],
             [
              1,
              "#f0f921"
             ]
            ],
            "type": "histogram2dcontour"
           }
          ],
          "mesh3d": [
           {
            "colorbar": {
             "outlinewidth": 0,
             "ticks": ""
            },
            "type": "mesh3d"
           }
          ],
          "parcoords": [
           {
            "line": {
             "colorbar": {
              "outlinewidth": 0,
              "ticks": ""
             }
            },
            "type": "parcoords"
           }
          ],
          "pie": [
           {
            "automargin": true,
            "type": "pie"
           }
          ],
          "scatter": [
           {
            "fillpattern": {
             "fillmode": "overlay",
             "size": 10,
             "solidity": 0.2
            },
            "type": "scatter"
           }
          ],
          "scatter3d": [
           {
            "line": {
             "colorbar": {
              "outlinewidth": 0,
              "ticks": ""
             }
            },
            "marker": {
             "colorbar": {
              "outlinewidth": 0,
              "ticks": ""
             }
            },
            "type": "scatter3d"
           }
          ],
          "scattercarpet": [
           {
            "marker": {
             "colorbar": {
              "outlinewidth": 0,
              "ticks": ""
             }
            },
            "type": "scattercarpet"
           }
          ],
          "scattergeo": [
           {
            "marker": {
             "colorbar": {
              "outlinewidth": 0,
              "ticks": ""
             }
            },
            "type": "scattergeo"
           }
          ],
          "scattergl": [
           {
            "marker": {
             "colorbar": {
              "outlinewidth": 0,
              "ticks": ""
             }
            },
            "type": "scattergl"
           }
          ],
          "scattermapbox": [
           {
            "marker": {
             "colorbar": {
              "outlinewidth": 0,
              "ticks": ""
             }
            },
            "type": "scattermapbox"
           }
          ],
          "scatterpolar": [
           {
            "marker": {
             "colorbar": {
              "outlinewidth": 0,
              "ticks": ""
             }
            },
            "type": "scatterpolar"
           }
          ],
          "scatterpolargl": [
           {
            "marker": {
             "colorbar": {
              "outlinewidth": 0,
              "ticks": ""
             }
            },
            "type": "scatterpolargl"
           }
          ],
          "scatterternary": [
           {
            "marker": {
             "colorbar": {
              "outlinewidth": 0,
              "ticks": ""
             }
            },
            "type": "scatterternary"
           }
          ],
          "surface": [
           {
            "colorbar": {
             "outlinewidth": 0,
             "ticks": ""
            },
            "colorscale": [
             [
              0,
              "#0d0887"
             ],
             [
              0.1111111111111111,
              "#46039f"
             ],
             [
              0.2222222222222222,
              "#7201a8"
             ],
             [
              0.3333333333333333,
              "#9c179e"
             ],
             [
              0.4444444444444444,
              "#bd3786"
             ],
             [
              0.5555555555555556,
              "#d8576b"
             ],
             [
              0.6666666666666666,
              "#ed7953"
             ],
             [
              0.7777777777777778,
              "#fb9f3a"
             ],
             [
              0.8888888888888888,
              "#fdca26"
             ],
             [
              1,
              "#f0f921"
             ]
            ],
            "type": "surface"
           }
          ],
          "table": [
           {
            "cells": {
             "fill": {
              "color": "#EBF0F8"
             },
             "line": {
              "color": "white"
             }
            },
            "header": {
             "fill": {
              "color": "#C8D4E3"
             },
             "line": {
              "color": "white"
             }
            },
            "type": "table"
           }
          ]
         },
         "layout": {
          "annotationdefaults": {
           "arrowcolor": "#2a3f5f",
           "arrowhead": 0,
           "arrowwidth": 1
          },
          "autotypenumbers": "strict",
          "coloraxis": {
           "colorbar": {
            "outlinewidth": 0,
            "ticks": ""
           }
          },
          "colorscale": {
           "diverging": [
            [
             0,
             "#8e0152"
            ],
            [
             0.1,
             "#c51b7d"
            ],
            [
             0.2,
             "#de77ae"
            ],
            [
             0.3,
             "#f1b6da"
            ],
            [
             0.4,
             "#fde0ef"
            ],
            [
             0.5,
             "#f7f7f7"
            ],
            [
             0.6,
             "#e6f5d0"
            ],
            [
             0.7,
             "#b8e186"
            ],
            [
             0.8,
             "#7fbc41"
            ],
            [
             0.9,
             "#4d9221"
            ],
            [
             1,
             "#276419"
            ]
           ],
           "sequential": [
            [
             0,
             "#0d0887"
            ],
            [
             0.1111111111111111,
             "#46039f"
            ],
            [
             0.2222222222222222,
             "#7201a8"
            ],
            [
             0.3333333333333333,
             "#9c179e"
            ],
            [
             0.4444444444444444,
             "#bd3786"
            ],
            [
             0.5555555555555556,
             "#d8576b"
            ],
            [
             0.6666666666666666,
             "#ed7953"
            ],
            [
             0.7777777777777778,
             "#fb9f3a"
            ],
            [
             0.8888888888888888,
             "#fdca26"
            ],
            [
             1,
             "#f0f921"
            ]
           ],
           "sequentialminus": [
            [
             0,
             "#0d0887"
            ],
            [
             0.1111111111111111,
             "#46039f"
            ],
            [
             0.2222222222222222,
             "#7201a8"
            ],
            [
             0.3333333333333333,
             "#9c179e"
            ],
            [
             0.4444444444444444,
             "#bd3786"
            ],
            [
             0.5555555555555556,
             "#d8576b"
            ],
            [
             0.6666666666666666,
             "#ed7953"
            ],
            [
             0.7777777777777778,
             "#fb9f3a"
            ],
            [
             0.8888888888888888,
             "#fdca26"
            ],
            [
             1,
             "#f0f921"
            ]
           ]
          },
          "colorway": [
           "#636efa",
           "#EF553B",
           "#00cc96",
           "#ab63fa",
           "#FFA15A",
           "#19d3f3",
           "#FF6692",
           "#B6E880",
           "#FF97FF",
           "#FECB52"
          ],
          "font": {
           "color": "#2a3f5f"
          },
          "geo": {
           "bgcolor": "white",
           "lakecolor": "white",
           "landcolor": "#E5ECF6",
           "showlakes": true,
           "showland": true,
           "subunitcolor": "white"
          },
          "hoverlabel": {
           "align": "left"
          },
          "hovermode": "closest",
          "mapbox": {
           "style": "light"
          },
          "paper_bgcolor": "white",
          "plot_bgcolor": "#E5ECF6",
          "polar": {
           "angularaxis": {
            "gridcolor": "white",
            "linecolor": "white",
            "ticks": ""
           },
           "bgcolor": "#E5ECF6",
           "radialaxis": {
            "gridcolor": "white",
            "linecolor": "white",
            "ticks": ""
           }
          },
          "scene": {
           "xaxis": {
            "backgroundcolor": "#E5ECF6",
            "gridcolor": "white",
            "gridwidth": 2,
            "linecolor": "white",
            "showbackground": true,
            "ticks": "",
            "zerolinecolor": "white"
           },
           "yaxis": {
            "backgroundcolor": "#E5ECF6",
            "gridcolor": "white",
            "gridwidth": 2,
            "linecolor": "white",
            "showbackground": true,
            "ticks": "",
            "zerolinecolor": "white"
           },
           "zaxis": {
            "backgroundcolor": "#E5ECF6",
            "gridcolor": "white",
            "gridwidth": 2,
            "linecolor": "white",
            "showbackground": true,
            "ticks": "",
            "zerolinecolor": "white"
           }
          },
          "shapedefaults": {
           "line": {
            "color": "#2a3f5f"
           }
          },
          "ternary": {
           "aaxis": {
            "gridcolor": "white",
            "linecolor": "white",
            "ticks": ""
           },
           "baxis": {
            "gridcolor": "white",
            "linecolor": "white",
            "ticks": ""
           },
           "bgcolor": "#E5ECF6",
           "caxis": {
            "gridcolor": "white",
            "linecolor": "white",
            "ticks": ""
           }
          },
          "title": {
           "x": 0.05
          },
          "xaxis": {
           "automargin": true,
           "gridcolor": "white",
           "linecolor": "white",
           "ticks": "",
           "title": {
            "standoff": 15
           },
           "zerolinecolor": "white",
           "zerolinewidth": 2
          },
          "yaxis": {
           "automargin": true,
           "gridcolor": "white",
           "linecolor": "white",
           "ticks": "",
           "title": {
            "standoff": 15
           },
           "zerolinecolor": "white",
           "zerolinewidth": 2
          }
         }
        },
        "title": {
         "text": "Разделение стран на 2 кластера с помощью агломеративной иерархической кластеризации"
        },
        "width": 1000
       }
      }
     },
     "metadata": {},
     "output_type": "display_data"
    },
    {
     "data": {
      "text/html": [
       "<img src=\"../plotly/locations_clusters_ac.png\" /><br />"
      ],
      "text/plain": [
       "<IPython.core.display.HTML object>"
      ]
     },
     "metadata": {},
     "output_type": "display_data"
    },
    {
     "data": {
      "text/html": [
       "<em>html графика в файле <a href=\"../plotly/locations_clusters_ac.html\" target=\"_blank\">../plotly/locations_clusters_ac.html</a></em>"
      ],
      "text/plain": [
       "<IPython.core.display.HTML object>"
      ]
     },
     "metadata": {},
     "output_type": "display_data"
    }
   ],
   "source": [
    "# Отобразим график с кластерами стран\n",
    "fig = px.choropleth(\n",
    "    location_clusters_data, \n",
    "    locations=F.SpatialDimValueCode.value, \n",
    "    color=FCluster.AC.value,\n",
    "    hover_name=F.Location.value,\n",
    "    projection='natural earth',\n",
    "    width=1000,\n",
    "    height=700,\n",
    "    title=f'Разделение стран на {AC_CLUSTERS_COUNT} кластера с помощью агломеративной иерархической кластеризации',\n",
    ")\n",
    "\n",
    "show_and_save_fig(fig, 'locations_clusters_ac')"
   ]
  },
  {
   "cell_type": "markdown",
   "metadata": {},
   "source": [
    "Судя по карте, разделение очень похоже на разделение с помощью k-means и EM-алгоритма.\\\n",
    "Посмотрим, в каких странах есть различия по определенными кластерам."
   ]
  },
  {
   "cell_type": "code",
   "execution_count": 36,
   "metadata": {},
   "outputs": [
    {
     "data": {
      "text/html": [
       "<div>\n",
       "<style scoped>\n",
       "    .dataframe tbody tr th:only-of-type {\n",
       "        vertical-align: middle;\n",
       "    }\n",
       "\n",
       "    .dataframe tbody tr th {\n",
       "        vertical-align: top;\n",
       "    }\n",
       "\n",
       "    .dataframe thead th {\n",
       "        text-align: right;\n",
       "    }\n",
       "</style>\n",
       "<table border=\"1\" class=\"dataframe\">\n",
       "  <thead>\n",
       "    <tr style=\"text-align: right;\">\n",
       "      <th></th>\n",
       "      <th>Location</th>\n",
       "      <th>ClusterKMeans</th>\n",
       "      <th>ClusterAC</th>\n",
       "    </tr>\n",
       "  </thead>\n",
       "  <tbody>\n",
       "    <tr>\n",
       "      <th>18</th>\n",
       "      <td>Bhutan</td>\n",
       "      <td>1</td>\n",
       "      <td>0</td>\n",
       "    </tr>\n",
       "    <tr>\n",
       "      <th>86</th>\n",
       "      <td>Kiribati</td>\n",
       "      <td>0</td>\n",
       "      <td>1</td>\n",
       "    </tr>\n",
       "    <tr>\n",
       "      <th>106</th>\n",
       "      <td>Micronesia (Federated States of)</td>\n",
       "      <td>0</td>\n",
       "      <td>1</td>\n",
       "    </tr>\n",
       "    <tr>\n",
       "      <th>138</th>\n",
       "      <td>Samoa</td>\n",
       "      <td>0</td>\n",
       "      <td>1</td>\n",
       "    </tr>\n",
       "    <tr>\n",
       "      <th>158</th>\n",
       "      <td>Tajikistan</td>\n",
       "      <td>1</td>\n",
       "      <td>0</td>\n",
       "    </tr>\n",
       "    <tr>\n",
       "      <th>177</th>\n",
       "      <td>Viet Nam</td>\n",
       "      <td>1</td>\n",
       "      <td>0</td>\n",
       "    </tr>\n",
       "  </tbody>\n",
       "</table>\n",
       "</div>"
      ],
      "text/plain": [
       "                             Location  ClusterKMeans  ClusterAC\n",
       "18                             Bhutan              1          0\n",
       "86                           Kiribati              0          1\n",
       "106  Micronesia (Federated States of)              0          1\n",
       "138                             Samoa              0          1\n",
       "158                        Tajikistan              1          0\n",
       "177                          Viet Nam              1          0"
      ]
     },
     "execution_count": 36,
     "metadata": {},
     "output_type": "execute_result"
    }
   ],
   "source": [
    "location_clusters_data['VariousClusters'] = location_clusters_data \\\n",
    "    .apply(lambda row: 0 if row[FCluster.K_MEANS.value] == row[FCluster.AC.value] else 1, axis=1)\n",
    "\n",
    "mask = location_clusters_data['VariousClusters'] == 1\n",
    "\n",
    "location_clusters_data[mask][[F.Location.value, FCluster.K_MEANS.value, FCluster.AC.value]]"
   ]
  },
  {
   "cell_type": "code",
   "execution_count": 37,
   "metadata": {},
   "outputs": [
    {
     "name": "stdout",
     "output_type": "stream",
     "text": [
      "Расхождение только по 6 странам.\n"
     ]
    }
   ],
   "source": [
    "print(f'Расхождение только по {location_clusters_data[mask].shape[0]} странам.')"
   ]
  },
  {
   "cell_type": "code",
   "execution_count": 38,
   "metadata": {},
   "outputs": [],
   "source": [
    "# Удалим столбец VariousClusters\n",
    "location_clusters_data.drop(columns=['VariousClusters'], inplace=True)"
   ]
  },
  {
   "cell_type": "markdown",
   "metadata": {},
   "source": [
    "## Снижение размерности данных с помощью PCA"
   ]
  },
  {
   "cell_type": "markdown",
   "metadata": {},
   "source": [
    "Снизим размерность данных с помощью алгоритма\\\n",
    "**PCA (Principal Component Analysis, метод главных компонент)**\\\n",
    "А затем кластеризуем полученные данные с помощью k-means и посмотрим на результат."
   ]
  },
  {
   "cell_type": "markdown",
   "metadata": {},
   "source": [
    "Найдем минимальное число компонент, которые смогут объяснить как минимум 90% данных."
   ]
  },
  {
   "cell_type": "code",
   "execution_count": 39,
   "metadata": {},
   "outputs": [
    {
     "name": "stdout",
     "output_type": "stream",
     "text": [
      "Количество полученных компонент: 14\n"
     ]
    }
   ],
   "source": [
    "# Создаем объект класса PCA\n",
    "pca = PCA(n_components=0.9)\n",
    "\n",
    "# Обучаем на наших масштабированных данных и получаем данные главных компонент\n",
    "principal_components = pca.fit_transform(cumulative_scaled_data)\n",
    "\n",
    "# Количество полученных компонент\n",
    "components_count = principal_components.shape[1]\n",
    "print(f'Количество полученных компонент: {components_count}')"
   ]
  },
  {
   "cell_type": "markdown",
   "metadata": {},
   "source": [
    "Объединим полученные компоненты в таблицу."
   ]
  },
  {
   "cell_type": "code",
   "execution_count": 40,
   "metadata": {},
   "outputs": [
    {
     "data": {
      "text/html": [
       "<div>\n",
       "<style scoped>\n",
       "    .dataframe tbody tr th:only-of-type {\n",
       "        vertical-align: middle;\n",
       "    }\n",
       "\n",
       "    .dataframe tbody tr th {\n",
       "        vertical-align: top;\n",
       "    }\n",
       "\n",
       "    .dataframe thead th {\n",
       "        text-align: right;\n",
       "    }\n",
       "</style>\n",
       "<table border=\"1\" class=\"dataframe\">\n",
       "  <thead>\n",
       "    <tr style=\"text-align: right;\">\n",
       "      <th></th>\n",
       "      <th>c_1</th>\n",
       "      <th>c_2</th>\n",
       "      <th>c_3</th>\n",
       "      <th>c_4</th>\n",
       "      <th>c_5</th>\n",
       "      <th>c_6</th>\n",
       "      <th>c_7</th>\n",
       "      <th>c_8</th>\n",
       "      <th>c_9</th>\n",
       "      <th>c_10</th>\n",
       "      <th>c_11</th>\n",
       "      <th>c_12</th>\n",
       "      <th>c_13</th>\n",
       "      <th>c_14</th>\n",
       "    </tr>\n",
       "  </thead>\n",
       "  <tbody>\n",
       "    <tr>\n",
       "      <th>Afghanistan</th>\n",
       "      <td>1.735500</td>\n",
       "      <td>-0.069228</td>\n",
       "      <td>-0.153722</td>\n",
       "      <td>-0.302940</td>\n",
       "      <td>-0.556906</td>\n",
       "      <td>0.016841</td>\n",
       "      <td>0.127899</td>\n",
       "      <td>0.059145</td>\n",
       "      <td>-0.010883</td>\n",
       "      <td>0.035597</td>\n",
       "      <td>0.050951</td>\n",
       "      <td>-0.427524</td>\n",
       "      <td>0.430419</td>\n",
       "      <td>-0.006857</td>\n",
       "    </tr>\n",
       "    <tr>\n",
       "      <th>Albania</th>\n",
       "      <td>-0.607620</td>\n",
       "      <td>0.051466</td>\n",
       "      <td>0.182195</td>\n",
       "      <td>0.210228</td>\n",
       "      <td>-0.090655</td>\n",
       "      <td>-0.428494</td>\n",
       "      <td>0.057893</td>\n",
       "      <td>-0.159558</td>\n",
       "      <td>0.018945</td>\n",
       "      <td>-0.055383</td>\n",
       "      <td>-0.129379</td>\n",
       "      <td>0.182435</td>\n",
       "      <td>0.120801</td>\n",
       "      <td>0.033360</td>\n",
       "    </tr>\n",
       "    <tr>\n",
       "      <th>Algeria</th>\n",
       "      <td>-0.105882</td>\n",
       "      <td>0.584212</td>\n",
       "      <td>-0.020569</td>\n",
       "      <td>0.147681</td>\n",
       "      <td>-0.141197</td>\n",
       "      <td>-0.009723</td>\n",
       "      <td>-0.171178</td>\n",
       "      <td>-0.167047</td>\n",
       "      <td>-0.041931</td>\n",
       "      <td>-0.120281</td>\n",
       "      <td>-0.024508</td>\n",
       "      <td>-0.183331</td>\n",
       "      <td>-0.052655</td>\n",
       "      <td>-0.174942</td>\n",
       "    </tr>\n",
       "    <tr>\n",
       "      <th>Angola</th>\n",
       "      <td>1.635088</td>\n",
       "      <td>-0.275037</td>\n",
       "      <td>-0.392003</td>\n",
       "      <td>-0.518873</td>\n",
       "      <td>-0.173357</td>\n",
       "      <td>-0.105809</td>\n",
       "      <td>-0.158263</td>\n",
       "      <td>-0.119869</td>\n",
       "      <td>0.279363</td>\n",
       "      <td>0.122421</td>\n",
       "      <td>0.029670</td>\n",
       "      <td>0.172086</td>\n",
       "      <td>0.096874</td>\n",
       "      <td>-0.008702</td>\n",
       "    </tr>\n",
       "    <tr>\n",
       "      <th>Antigua and Barbuda</th>\n",
       "      <td>-0.929006</td>\n",
       "      <td>0.407103</td>\n",
       "      <td>-0.051219</td>\n",
       "      <td>-0.167321</td>\n",
       "      <td>0.119160</td>\n",
       "      <td>-0.162593</td>\n",
       "      <td>0.024377</td>\n",
       "      <td>0.315507</td>\n",
       "      <td>-0.264028</td>\n",
       "      <td>0.087895</td>\n",
       "      <td>0.164017</td>\n",
       "      <td>0.057267</td>\n",
       "      <td>0.231613</td>\n",
       "      <td>-0.106137</td>\n",
       "    </tr>\n",
       "  </tbody>\n",
       "</table>\n",
       "</div>"
      ],
      "text/plain": [
       "                          c_1       c_2       c_3       c_4       c_5  \\\n",
       "Afghanistan          1.735500 -0.069228 -0.153722 -0.302940 -0.556906   \n",
       "Albania             -0.607620  0.051466  0.182195  0.210228 -0.090655   \n",
       "Algeria             -0.105882  0.584212 -0.020569  0.147681 -0.141197   \n",
       "Angola               1.635088 -0.275037 -0.392003 -0.518873 -0.173357   \n",
       "Antigua and Barbuda -0.929006  0.407103 -0.051219 -0.167321  0.119160   \n",
       "\n",
       "                          c_6       c_7       c_8       c_9      c_10  \\\n",
       "Afghanistan          0.016841  0.127899  0.059145 -0.010883  0.035597   \n",
       "Albania             -0.428494  0.057893 -0.159558  0.018945 -0.055383   \n",
       "Algeria             -0.009723 -0.171178 -0.167047 -0.041931 -0.120281   \n",
       "Angola              -0.105809 -0.158263 -0.119869  0.279363  0.122421   \n",
       "Antigua and Barbuda -0.162593  0.024377  0.315507 -0.264028  0.087895   \n",
       "\n",
       "                         c_11      c_12      c_13      c_14  \n",
       "Afghanistan          0.050951 -0.427524  0.430419 -0.006857  \n",
       "Albania             -0.129379  0.182435  0.120801  0.033360  \n",
       "Algeria             -0.024508 -0.183331 -0.052655 -0.174942  \n",
       "Angola               0.029670  0.172086  0.096874 -0.008702  \n",
       "Antigua and Barbuda  0.164017  0.057267  0.231613 -0.106137  "
      ]
     },
     "execution_count": 40,
     "metadata": {},
     "output_type": "execute_result"
    }
   ],
   "source": [
    "# Имена колонок таблицы с компонентами\n",
    "columns_pc = ['c_' + str(i) for i in range(1, components_count + 1)]\n",
    "\n",
    "# Таблица с компонентами\n",
    "principal_components_data = pd.DataFrame(\n",
    "    principal_components, \n",
    "    columns=columns_pc,\n",
    "    index=locations_index\n",
    ")\n",
    "principal_components_data.head()"
   ]
  },
  {
   "cell_type": "markdown",
   "metadata": {},
   "source": [
    "Посмотрим, какую долю дисперсии объясняет каждая компонента."
   ]
  },
  {
   "cell_type": "code",
   "execution_count": 41,
   "metadata": {},
   "outputs": [
    {
     "data": {
      "text/plain": [
       "array([0.50523785, 0.09111594, 0.05975463, 0.0552828 , 0.03804096,\n",
       "       0.02994721, 0.02520264, 0.02225443, 0.01826752, 0.01520454,\n",
       "       0.01462695, 0.01188686, 0.00988594, 0.00870754])"
      ]
     },
     "execution_count": 41,
     "metadata": {},
     "output_type": "execute_result"
    }
   ],
   "source": [
    "pca.explained_variance_ratio_"
   ]
  },
  {
   "cell_type": "markdown",
   "metadata": {},
   "source": [
    "Первая компонента объясняет приблизительно 51%.\\\n",
    "Посмотрим на сумму значений, она должна дать примерно 90%."
   ]
  },
  {
   "cell_type": "code",
   "execution_count": 42,
   "metadata": {},
   "outputs": [
    {
     "data": {
      "text/plain": [
       "0.9054158034945109"
      ]
     },
     "execution_count": 42,
     "metadata": {},
     "output_type": "execute_result"
    }
   ],
   "source": [
    "pca.explained_variance_ratio_.sum()"
   ]
  },
  {
   "cell_type": "markdown",
   "metadata": {},
   "source": [
    "Так и есть, сумма объясненной дисперсии составляет приблизительно 90%."
   ]
  },
  {
   "cell_type": "markdown",
   "metadata": {},
   "source": [
    "При создании компонент с помощью PCA они должны получиться независимыми.\\\n",
    "Посмотрим на коэффициенты корреляции между компонентами."
   ]
  },
  {
   "cell_type": "code",
   "execution_count": 43,
   "metadata": {},
   "outputs": [
    {
     "data": {
      "image/png": "[encoded data removed]",
      "text/plain": [
       "<Figure size 1008x720 with 2 Axes>"
      ]
     },
     "metadata": {
      "needs_background": "light"
     },
     "output_type": "display_data"
    }
   ],
   "source": [
    "dislay_correlation_matrix(principal_components_data, (14, 10))"
   ]
  },
  {
   "cell_type": "markdown",
   "metadata": {},
   "source": [
    "Так и есть, компоненты независимы и не имеют корреляции между собой.\\\n",
    "Теперь на полученных признаках компонент реализуем кластеризацию с помощью k-means."
   ]
  },
  {
   "cell_type": "markdown",
   "metadata": {},
   "source": [
    "### Кластеризация с помощью k-means на признаках главных компонент"
   ]
  },
  {
   "cell_type": "markdown",
   "metadata": {},
   "source": [
    "Определим оптимальное количество кластеров.\\\n",
    "Сначала посмотрим на значение инерции."
   ]
  },
  {
   "cell_type": "code",
   "execution_count": 44,
   "metadata": {},
   "outputs": [
    {
     "data": {
      "image/png": "[encoded data removed]",
      "text/plain": [
       "<Figure size 720x360 with 1 Axes>"
      ]
     },
     "metadata": {
      "needs_background": "light"
     },
     "output_type": "display_data"
    },
    {
     "data": {
      "text/html": [
       "<div>\n",
       "<style scoped>\n",
       "    .dataframe tbody tr th:only-of-type {\n",
       "        vertical-align: middle;\n",
       "    }\n",
       "\n",
       "    .dataframe tbody tr th {\n",
       "        vertical-align: top;\n",
       "    }\n",
       "\n",
       "    .dataframe thead th {\n",
       "        text-align: right;\n",
       "    }\n",
       "</style>\n",
       "<table border=\"1\" class=\"dataframe\">\n",
       "  <thead>\n",
       "    <tr style=\"text-align: right;\">\n",
       "      <th></th>\n",
       "      <th>inertia</th>\n",
       "      <th>clusters_count</th>\n",
       "    </tr>\n",
       "  </thead>\n",
       "  <tbody>\n",
       "    <tr>\n",
       "      <th>0</th>\n",
       "      <td>179.074287</td>\n",
       "      <td>2</td>\n",
       "    </tr>\n",
       "    <tr>\n",
       "      <th>1</th>\n",
       "      <td>143.577070</td>\n",
       "      <td>3</td>\n",
       "    </tr>\n",
       "    <tr>\n",
       "      <th>2</th>\n",
       "      <td>129.224430</td>\n",
       "      <td>4</td>\n",
       "    </tr>\n",
       "    <tr>\n",
       "      <th>3</th>\n",
       "      <td>115.778794</td>\n",
       "      <td>5</td>\n",
       "    </tr>\n",
       "    <tr>\n",
       "      <th>4</th>\n",
       "      <td>107.113807</td>\n",
       "      <td>6</td>\n",
       "    </tr>\n",
       "    <tr>\n",
       "      <th>5</th>\n",
       "      <td>100.067465</td>\n",
       "      <td>7</td>\n",
       "    </tr>\n",
       "    <tr>\n",
       "      <th>6</th>\n",
       "      <td>93.409291</td>\n",
       "      <td>8</td>\n",
       "    </tr>\n",
       "    <tr>\n",
       "      <th>7</th>\n",
       "      <td>88.809113</td>\n",
       "      <td>9</td>\n",
       "    </tr>\n",
       "    <tr>\n",
       "      <th>8</th>\n",
       "      <td>83.235375</td>\n",
       "      <td>10</td>\n",
       "    </tr>\n",
       "  </tbody>\n",
       "</table>\n",
       "</div>"
      ],
      "text/plain": [
       "      inertia  clusters_count\n",
       "0  179.074287               2\n",
       "1  143.577070               3\n",
       "2  129.224430               4\n",
       "3  115.778794               5\n",
       "4  107.113807               6\n",
       "5  100.067465               7\n",
       "6   93.409291               8\n",
       "7   88.809113               9\n",
       "8   83.235375              10"
      ]
     },
     "metadata": {},
     "output_type": "display_data"
    }
   ],
   "source": [
    "# Построим график зависимости значения инерции от количества кластеров\n",
    "display_inertia(principal_components_data, 2, 10)"
   ]
  },
  {
   "cell_type": "markdown",
   "metadata": {},
   "source": [
    "На первый взгляд кажется, что можно взять 3 кластера, так как, начиная с этого значения,\\\n",
    "инерция уменьшается медленнее.\n",
    "\n",
    "Посмотрим на изменение метрики силуэта."
   ]
  },
  {
   "cell_type": "code",
   "execution_count": 45,
   "metadata": {},
   "outputs": [
    {
     "data": {
      "image/png": "[encoded data removed]",
      "text/plain": [
       "<Figure size 720x360 with 1 Axes>"
      ]
     },
     "metadata": {
      "needs_background": "light"
     },
     "output_type": "display_data"
    },
    {
     "data": {
      "text/html": [
       "<div>\n",
       "<style scoped>\n",
       "    .dataframe tbody tr th:only-of-type {\n",
       "        vertical-align: middle;\n",
       "    }\n",
       "\n",
       "    .dataframe tbody tr th {\n",
       "        vertical-align: top;\n",
       "    }\n",
       "\n",
       "    .dataframe thead th {\n",
       "        text-align: right;\n",
       "    }\n",
       "</style>\n",
       "<table border=\"1\" class=\"dataframe\">\n",
       "  <thead>\n",
       "    <tr style=\"text-align: right;\">\n",
       "      <th></th>\n",
       "      <th>silhouette</th>\n",
       "      <th>clusters_count</th>\n",
       "    </tr>\n",
       "  </thead>\n",
       "  <tbody>\n",
       "    <tr>\n",
       "      <th>0</th>\n",
       "      <td>0.392484</td>\n",
       "      <td>2</td>\n",
       "    </tr>\n",
       "    <tr>\n",
       "      <th>1</th>\n",
       "      <td>0.294214</td>\n",
       "      <td>3</td>\n",
       "    </tr>\n",
       "    <tr>\n",
       "      <th>3</th>\n",
       "      <td>0.256603</td>\n",
       "      <td>5</td>\n",
       "    </tr>\n",
       "    <tr>\n",
       "      <th>2</th>\n",
       "      <td>0.248552</td>\n",
       "      <td>4</td>\n",
       "    </tr>\n",
       "    <tr>\n",
       "      <th>6</th>\n",
       "      <td>0.224142</td>\n",
       "      <td>8</td>\n",
       "    </tr>\n",
       "    <tr>\n",
       "      <th>7</th>\n",
       "      <td>0.220559</td>\n",
       "      <td>9</td>\n",
       "    </tr>\n",
       "    <tr>\n",
       "      <th>4</th>\n",
       "      <td>0.217468</td>\n",
       "      <td>6</td>\n",
       "    </tr>\n",
       "    <tr>\n",
       "      <th>5</th>\n",
       "      <td>0.205748</td>\n",
       "      <td>7</td>\n",
       "    </tr>\n",
       "    <tr>\n",
       "      <th>8</th>\n",
       "      <td>0.197485</td>\n",
       "      <td>10</td>\n",
       "    </tr>\n",
       "  </tbody>\n",
       "</table>\n",
       "</div>"
      ],
      "text/plain": [
       "   silhouette  clusters_count\n",
       "0    0.392484               2\n",
       "1    0.294214               3\n",
       "3    0.256603               5\n",
       "2    0.248552               4\n",
       "6    0.224142               8\n",
       "7    0.220559               9\n",
       "4    0.217468               6\n",
       "5    0.205748               7\n",
       "8    0.197485              10"
      ]
     },
     "metadata": {},
     "output_type": "display_data"
    }
   ],
   "source": [
    "display_silhouette(principal_components_data, 2, 10)"
   ]
  },
  {
   "cell_type": "code",
   "execution_count": 46,
   "metadata": {},
   "outputs": [],
   "source": [
    "# Константа с оптимальным количеством кластеров\n",
    "K_MEANS_PCA_CLUSTERS_COUNT = 2"
   ]
  },
  {
   "cell_type": "code",
   "execution_count": 47,
   "metadata": {},
   "outputs": [
    {
     "name": "stdout",
     "output_type": "stream",
     "text": [
      "Наибольшее значение метрики получаем для 2-х кластеров.\n",
      "Поэтому разделим данные на 2 кластера.\n"
     ]
    }
   ],
   "source": [
    "print(f'Наибольшее значение метрики получаем для {K_MEANS_PCA_CLUSTERS_COUNT}-х кластеров.')\n",
    "print(f'Поэтому разделим данные на {K_MEANS_PCA_CLUSTERS_COUNT} кластера.')"
   ]
  },
  {
   "cell_type": "code",
   "execution_count": 48,
   "metadata": {},
   "outputs": [
    {
     "data": {
      "text/html": [
       "<div>\n",
       "<style scoped>\n",
       "    .dataframe tbody tr th:only-of-type {\n",
       "        vertical-align: middle;\n",
       "    }\n",
       "\n",
       "    .dataframe tbody tr th {\n",
       "        vertical-align: top;\n",
       "    }\n",
       "\n",
       "    .dataframe thead th {\n",
       "        text-align: right;\n",
       "    }\n",
       "</style>\n",
       "<table border=\"1\" class=\"dataframe\">\n",
       "  <thead>\n",
       "    <tr style=\"text-align: right;\">\n",
       "      <th></th>\n",
       "      <th>c_1</th>\n",
       "      <th>c_2</th>\n",
       "      <th>c_3</th>\n",
       "      <th>c_4</th>\n",
       "      <th>c_5</th>\n",
       "      <th>c_6</th>\n",
       "      <th>c_7</th>\n",
       "      <th>c_8</th>\n",
       "      <th>c_9</th>\n",
       "      <th>c_10</th>\n",
       "      <th>c_11</th>\n",
       "      <th>c_12</th>\n",
       "      <th>c_13</th>\n",
       "      <th>c_14</th>\n",
       "      <th>ClusterKMeansPCA</th>\n",
       "    </tr>\n",
       "  </thead>\n",
       "  <tbody>\n",
       "    <tr>\n",
       "      <th>Afghanistan</th>\n",
       "      <td>1.735500</td>\n",
       "      <td>-0.069228</td>\n",
       "      <td>-0.153722</td>\n",
       "      <td>-0.302940</td>\n",
       "      <td>-0.556906</td>\n",
       "      <td>0.016841</td>\n",
       "      <td>0.127899</td>\n",
       "      <td>0.059145</td>\n",
       "      <td>-0.010883</td>\n",
       "      <td>0.035597</td>\n",
       "      <td>0.050951</td>\n",
       "      <td>-0.427524</td>\n",
       "      <td>0.430419</td>\n",
       "      <td>-0.006857</td>\n",
       "      <td>1</td>\n",
       "    </tr>\n",
       "    <tr>\n",
       "      <th>Albania</th>\n",
       "      <td>-0.607620</td>\n",
       "      <td>0.051466</td>\n",
       "      <td>0.182195</td>\n",
       "      <td>0.210228</td>\n",
       "      <td>-0.090655</td>\n",
       "      <td>-0.428494</td>\n",
       "      <td>0.057893</td>\n",
       "      <td>-0.159558</td>\n",
       "      <td>0.018945</td>\n",
       "      <td>-0.055383</td>\n",
       "      <td>-0.129379</td>\n",
       "      <td>0.182435</td>\n",
       "      <td>0.120801</td>\n",
       "      <td>0.033360</td>\n",
       "      <td>0</td>\n",
       "    </tr>\n",
       "    <tr>\n",
       "      <th>Algeria</th>\n",
       "      <td>-0.105882</td>\n",
       "      <td>0.584212</td>\n",
       "      <td>-0.020569</td>\n",
       "      <td>0.147681</td>\n",
       "      <td>-0.141197</td>\n",
       "      <td>-0.009723</td>\n",
       "      <td>-0.171178</td>\n",
       "      <td>-0.167047</td>\n",
       "      <td>-0.041931</td>\n",
       "      <td>-0.120281</td>\n",
       "      <td>-0.024508</td>\n",
       "      <td>-0.183331</td>\n",
       "      <td>-0.052655</td>\n",
       "      <td>-0.174942</td>\n",
       "      <td>0</td>\n",
       "    </tr>\n",
       "    <tr>\n",
       "      <th>Angola</th>\n",
       "      <td>1.635088</td>\n",
       "      <td>-0.275037</td>\n",
       "      <td>-0.392003</td>\n",
       "      <td>-0.518873</td>\n",
       "      <td>-0.173357</td>\n",
       "      <td>-0.105809</td>\n",
       "      <td>-0.158263</td>\n",
       "      <td>-0.119869</td>\n",
       "      <td>0.279363</td>\n",
       "      <td>0.122421</td>\n",
       "      <td>0.029670</td>\n",
       "      <td>0.172086</td>\n",
       "      <td>0.096874</td>\n",
       "      <td>-0.008702</td>\n",
       "      <td>1</td>\n",
       "    </tr>\n",
       "    <tr>\n",
       "      <th>Antigua and Barbuda</th>\n",
       "      <td>-0.929006</td>\n",
       "      <td>0.407103</td>\n",
       "      <td>-0.051219</td>\n",
       "      <td>-0.167321</td>\n",
       "      <td>0.119160</td>\n",
       "      <td>-0.162593</td>\n",
       "      <td>0.024377</td>\n",
       "      <td>0.315507</td>\n",
       "      <td>-0.264028</td>\n",
       "      <td>0.087895</td>\n",
       "      <td>0.164017</td>\n",
       "      <td>0.057267</td>\n",
       "      <td>0.231613</td>\n",
       "      <td>-0.106137</td>\n",
       "      <td>0</td>\n",
       "    </tr>\n",
       "  </tbody>\n",
       "</table>\n",
       "</div>"
      ],
      "text/plain": [
       "                          c_1       c_2       c_3       c_4       c_5  \\\n",
       "Afghanistan          1.735500 -0.069228 -0.153722 -0.302940 -0.556906   \n",
       "Albania             -0.607620  0.051466  0.182195  0.210228 -0.090655   \n",
       "Algeria             -0.105882  0.584212 -0.020569  0.147681 -0.141197   \n",
       "Angola               1.635088 -0.275037 -0.392003 -0.518873 -0.173357   \n",
       "Antigua and Barbuda -0.929006  0.407103 -0.051219 -0.167321  0.119160   \n",
       "\n",
       "                          c_6       c_7       c_8       c_9      c_10  \\\n",
       "Afghanistan          0.016841  0.127899  0.059145 -0.010883  0.035597   \n",
       "Albania             -0.428494  0.057893 -0.159558  0.018945 -0.055383   \n",
       "Algeria             -0.009723 -0.171178 -0.167047 -0.041931 -0.120281   \n",
       "Angola              -0.105809 -0.158263 -0.119869  0.279363  0.122421   \n",
       "Antigua and Barbuda -0.162593  0.024377  0.315507 -0.264028  0.087895   \n",
       "\n",
       "                         c_11      c_12      c_13      c_14  ClusterKMeansPCA  \n",
       "Afghanistan          0.050951 -0.427524  0.430419 -0.006857                 1  \n",
       "Albania             -0.129379  0.182435  0.120801  0.033360                 0  \n",
       "Algeria             -0.024508 -0.183331 -0.052655 -0.174942                 0  \n",
       "Angola               0.029670  0.172086  0.096874 -0.008702                 1  \n",
       "Antigua and Barbuda  0.164017  0.057267  0.231613 -0.106137                 0  "
      ]
     },
     "execution_count": 48,
     "metadata": {},
     "output_type": "execute_result"
    }
   ],
   "source": [
    "# Создадим объект модели\n",
    "k_means_model = KMeans(n_clusters=K_MEANS_PCA_CLUSTERS_COUNT, random_state=RANDOM_STATE)\n",
    "# Обучим модель\n",
    "k_means_model.fit_predict(principal_components_data)\n",
    "# Создадим столбец с метками кластеров\n",
    "principal_components_data[FCluster.K_MEANS_PCA.value] = k_means_model.labels_\n",
    "\n",
    "principal_components_data.head()"
   ]
  },
  {
   "cell_type": "markdown",
   "metadata": {},
   "source": [
    "Отобразим полученные кластеры на карте."
   ]
  },
  {
   "cell_type": "code",
   "execution_count": 49,
   "metadata": {},
   "outputs": [
    {
     "data": {
      "text/html": [
       "<div>\n",
       "<style scoped>\n",
       "    .dataframe tbody tr th:only-of-type {\n",
       "        vertical-align: middle;\n",
       "    }\n",
       "\n",
       "    .dataframe tbody tr th {\n",
       "        vertical-align: top;\n",
       "    }\n",
       "\n",
       "    .dataframe thead th {\n",
       "        text-align: right;\n",
       "    }\n",
       "</style>\n",
       "<table border=\"1\" class=\"dataframe\">\n",
       "  <thead>\n",
       "    <tr style=\"text-align: right;\">\n",
       "      <th></th>\n",
       "      <th>Location</th>\n",
       "      <th>ParentLocationCode</th>\n",
       "      <th>ParentLocation</th>\n",
       "      <th>SpatialDimValueCode</th>\n",
       "      <th>ClusterKMeans</th>\n",
       "      <th>ClusterEM</th>\n",
       "      <th>ClusterAC</th>\n",
       "      <th>ClusterKMeansPCA</th>\n",
       "    </tr>\n",
       "  </thead>\n",
       "  <tbody>\n",
       "    <tr>\n",
       "      <th>0</th>\n",
       "      <td>Afghanistan</td>\n",
       "      <td>EMR</td>\n",
       "      <td>Eastern Mediterranean</td>\n",
       "      <td>AFG</td>\n",
       "      <td>1</td>\n",
       "      <td>1</td>\n",
       "      <td>1</td>\n",
       "      <td>1</td>\n",
       "    </tr>\n",
       "    <tr>\n",
       "      <th>1</th>\n",
       "      <td>Albania</td>\n",
       "      <td>EUR</td>\n",
       "      <td>Europe</td>\n",
       "      <td>ALB</td>\n",
       "      <td>0</td>\n",
       "      <td>0</td>\n",
       "      <td>0</td>\n",
       "      <td>0</td>\n",
       "    </tr>\n",
       "    <tr>\n",
       "      <th>2</th>\n",
       "      <td>Algeria</td>\n",
       "      <td>AFR</td>\n",
       "      <td>Africa</td>\n",
       "      <td>DZA</td>\n",
       "      <td>0</td>\n",
       "      <td>0</td>\n",
       "      <td>0</td>\n",
       "      <td>0</td>\n",
       "    </tr>\n",
       "    <tr>\n",
       "      <th>3</th>\n",
       "      <td>Angola</td>\n",
       "      <td>AFR</td>\n",
       "      <td>Africa</td>\n",
       "      <td>AGO</td>\n",
       "      <td>1</td>\n",
       "      <td>1</td>\n",
       "      <td>1</td>\n",
       "      <td>1</td>\n",
       "    </tr>\n",
       "    <tr>\n",
       "      <th>4</th>\n",
       "      <td>Antigua and Barbuda</td>\n",
       "      <td>AMR</td>\n",
       "      <td>Americas</td>\n",
       "      <td>ATG</td>\n",
       "      <td>0</td>\n",
       "      <td>0</td>\n",
       "      <td>0</td>\n",
       "      <td>0</td>\n",
       "    </tr>\n",
       "  </tbody>\n",
       "</table>\n",
       "</div>"
      ],
      "text/plain": [
       "              Location ParentLocationCode         ParentLocation  \\\n",
       "0          Afghanistan                EMR  Eastern Mediterranean   \n",
       "1              Albania                EUR                 Europe   \n",
       "2              Algeria                AFR                 Africa   \n",
       "3               Angola                AFR                 Africa   \n",
       "4  Antigua and Barbuda                AMR               Americas   \n",
       "\n",
       "  SpatialDimValueCode  ClusterKMeans  ClusterEM  ClusterAC  ClusterKMeansPCA  \n",
       "0                 AFG              1          1          1                 1  \n",
       "1                 ALB              0          0          0                 0  \n",
       "2                 DZA              0          0          0                 0  \n",
       "3                 AGO              1          1          1                 1  \n",
       "4                 ATG              0          0          0                 0  "
      ]
     },
     "execution_count": 49,
     "metadata": {},
     "output_type": "execute_result"
    }
   ],
   "source": [
    "# Добавим столбец с кластерами в таблицу location_clusters_data\n",
    "location_clusters_pca_data = principal_components_data[[FCluster.K_MEANS_PCA.value]] \\\n",
    "    .reset_index() \\\n",
    "    .rename(columns={'index': F.Location.value})\n",
    "    \n",
    "location_clusters_data = location_clusters_data.merge(\n",
    "    location_clusters_pca_data,\n",
    "    on=[F.Location.value],\n",
    "    how='left',\n",
    ")\n",
    "\n",
    "location_clusters_data.head()"
   ]
  },
  {
   "cell_type": "code",
   "execution_count": 50,
   "metadata": {},
   "outputs": [],
   "source": [
    "# Удалим из таблицы с компонентами столбец с кластерами\n",
    "principal_components_data.drop(columns=[FCluster.K_MEANS_PCA.value], inplace=True)"
   ]
  },
  {
   "cell_type": "code",
   "execution_count": 51,
   "metadata": {},
   "outputs": [
    {
     "data": {
      "application/vnd.plotly.v1+json": {
       "config": {
        "plotlyServerURL": "https://plot.ly"
       },
       "data": [
        {
         "coloraxis": "coloraxis",
         "geo": "geo",
         "hovertemplate": "<b>%{hovertext}</b><br><br>SpatialDimValueCode=%{location}<br>ClusterKMeansPCA=%{z}<extra></extra>",
         "hovertext": [
          "Afghanistan",
          "Albania",
          "Algeria",
          "Angola",
          "Antigua and Barbuda",
          "Argentina",
          "Armenia",
          "Australia",
          "Austria",
          "Azerbaijan",
          "Bahamas",
          "Bahrain",
          "Bangladesh",
          "Barbados",
          "Belarus",
          "Belgium",
          "Belize",
          "Benin",
          "Bhutan",
          "Bolivia (Plurinational State of)",
          "Bosnia and Herzegovina",
          "Botswana",
          "Brazil",
          "Brunei Darussalam",
          "Bulgaria",
          "Burkina Faso",
          "Burundi",
          "Cabo Verde",
          "Cambodia",
          "Cameroon",
          "Canada",
          "Central African Republic",
          "Chad",
          "Chile",
          "China",
          "Colombia",
          "Comoros",
          "Congo",
          "Costa Rica",
          "Cote d'Ivoire",
          "Croatia",
          "Cuba",
          "Cyprus",
          "Czechia",
          "Democratic Republic of the Congo",
          "Denmark",
          "Djibouti",
          "Dominican Republic",
          "Ecuador",
          "Egypt",
          "El Salvador",
          "Equatorial Guinea",
          "Eritrea",
          "Estonia",
          "Eswatini",
          "Ethiopia",
          "Fiji",
          "Finland",
          "France",
          "Gabon",
          "Gambia",
          "Georgia",
          "Germany",
          "Ghana",
          "Greece",
          "Grenada",
          "Guatemala",
          "Guinea",
          "Guinea-Bissau",
          "Guyana",
          "Haiti",
          "Honduras",
          "Hungary",
          "Iceland",
          "India",
          "Indonesia",
          "Iran (Islamic Republic of)",
          "Iraq",
          "Ireland",
          "Israel",
          "Italy",
          "Jamaica",
          "Japan",
          "Jordan",
          "Kazakhstan",
          "Kenya",
          "Kiribati",
          "Kuwait",
          "Kyrgyzstan",
          "Lao People's Democratic Republic",
          "Latvia",
          "Lebanon",
          "Lesotho",
          "Liberia",
          "Libya",
          "Lithuania",
          "Luxembourg",
          "Madagascar",
          "Malawi",
          "Malaysia",
          "Maldives",
          "Mali",
          "Malta",
          "Mauritania",
          "Mauritius",
          "Mexico",
          "Micronesia (Federated States of)",
          "Mongolia",
          "Montenegro",
          "Morocco",
          "Mozambique",
          "Myanmar",
          "Namibia",
          "Nepal",
          "Netherlands (Kingdom of the)",
          "New Zealand",
          "Nicaragua",
          "Niger",
          "Nigeria",
          "North Macedonia",
          "Norway",
          "Oman",
          "Pakistan",
          "Panama",
          "Papua New Guinea",
          "Paraguay",
          "Peru",
          "Philippines",
          "Poland",
          "Portugal",
          "Qatar",
          "Republic of Korea",
          "Republic of Moldova",
          "Romania",
          "Russian Federation",
          "Rwanda",
          "Saint Lucia",
          "Saint Vincent and the Grenadines",
          "Samoa",
          "Sao Tome and Principe",
          "Saudi Arabia",
          "Senegal",
          "Serbia",
          "Seychelles",
          "Sierra Leone",
          "Singapore",
          "Slovakia",
          "Slovenia",
          "Solomon Islands",
          "Somalia",
          "South Africa",
          "Spain",
          "Sri Lanka",
          "Sudan",
          "Suriname",
          "Sweden",
          "Switzerland",
          "Syrian Arab Republic",
          "Tajikistan",
          "Thailand",
          "Timor-Leste",
          "Togo",
          "Tonga",
          "Trinidad and Tobago",
          "Tunisia",
          "Turkmenistan",
          "Türkiye",
          "Uganda",
          "Ukraine",
          "United Arab Emirates",
          "United Kingdom of Great Britain and Northern Ireland",
          "United Republic of Tanzania",
          "United States of America",
          "Uruguay",
          "Uzbekistan",
          "Vanuatu",
          "Venezuela (Bolivarian Republic of)",
          "Viet Nam",
          "Yemen",
          "Zambia",
          "Zimbabwe"
         ],
         "locations": [
          "AFG",
          "ALB",
          "DZA",
          "AGO",
          "ATG",
          "ARG",
          "ARM",
          "AUS",
          "AUT",
          "AZE",
          "BHS",
          "BHR",
          "BGD",
          "BRB",
          "BLR",
          "BEL",
          "BLZ",
          "BEN",
          "BTN",
          "BOL",
          "BIH",
          "BWA",
          "BRA",
          "BRN",
          "BGR",
          "BFA",
          "BDI",
          "CPV",
          "KHM",
          "CMR",
          "CAN",
          "CAF",
          "TCD",
          "CHL",
          "CHN",
          "COL",
          "COM",
          "COG",
          "CRI",
          "CIV",
          "HRV",
          "CUB",
          "CYP",
          "CZE",
          "COD",
          "DNK",
          "DJI",
          "DOM",
          "ECU",
          "EGY",
          "SLV",
          "GNQ",
          "ERI",
          "EST",
          "SWZ",
          "ETH",
          "FJI",
          "FIN",
          "FRA",
          "GAB",
          "GMB",
          "GEO",
          "DEU",
          "GHA",
          "GRC",
          "GRD",
          "GTM",
          "GIN",
          "GNB",
          "GUY",
          "HTI",
          "HND",
          "HUN",
          "ISL",
          "IND",
          "IDN",
          "IRN",
          "IRQ",
          "IRL",
          "ISR",
          "ITA",
          "JAM",
          "JPN",
          "JOR",
          "KAZ",
          "KEN",
          "KIR",
          "KWT",
          "KGZ",
          "LAO",
          "LVA",
          "LBN",
          "LSO",
          "LBR",
          "LBY",
          "LTU",
          "LUX",
          "MDG",
          "MWI",
          "MYS",
          "MDV",
          "MLI",
          "MLT",
          "MRT",
          "MUS",
          "MEX",
          "FSM",
          "MNG",
          "MNE",
          "MAR",
          "MOZ",
          "MMR",
          "NAM",
          "NPL",
          "NLD",
          "NZL",
          "NIC",
          "NER",
          "NGA",
          "MKD",
          "NOR",
          "OMN",
          "PAK",
          "PAN",
          "PNG",
          "PRY",
          "PER",
          "PHL",
          "POL",
          "PRT",
          "QAT",
          "KOR",
          "MDA",
          "ROU",
          "RUS",
          "RWA",
          "LCA",
          "VCT",
          "WSM",
          "STP",
          "SAU",
          "SEN",
          "SRB",
          "SYC",
          "SLE",
          "SGP",
          "SVK",
          "SVN",
          "SLB",
          "SOM",
          "ZAF",
          "ESP",
          "LKA",
          "SDN",
          "SUR",
          "SWE",
          "CHE",
          "SYR",
          "TJK",
          "THA",
          "TLS",
          "TGO",
          "TON",
          "TTO",
          "TUN",
          "TKM",
          "TUR",
          "UGA",
          "UKR",
          "ARE",
          "GBR",
          "TZA",
          "USA",
          "URY",
          "UZB",
          "VUT",
          "VEN",
          "VNM",
          "YEM",
          "ZMB",
          "ZWE"
         ],
         "name": "",
         "type": "choropleth",
         "z": [
          1,
          0,
          0,
          1,
          0,
          0,
          0,
          0,
          0,
          0,
          0,
          0,
          1,
          0,
          0,
          0,
          0,
          1,
          1,
          0,
          0,
          1,
          0,
          0,
          0,
          1,
          1,
          0,
          1,
          1,
          0,
          1,
          1,
          0,
          0,
          0,
          1,
          1,
          0,
          1,
          0,
          0,
          0,
          0,
          1,
          0,
          1,
          0,
          0,
          0,
          0,
          1,
          1,
          0,
          1,
          1,
          0,
          0,
          0,
          1,
          1,
          0,
          0,
          1,
          0,
          0,
          0,
          1,
          1,
          0,
          1,
          0,
          0,
          0,
          1,
          1,
          0,
          0,
          0,
          0,
          0,
          0,
          0,
          0,
          0,
          1,
          0,
          0,
          0,
          1,
          0,
          0,
          1,
          1,
          0,
          0,
          0,
          1,
          1,
          0,
          0,
          1,
          0,
          1,
          0,
          0,
          0,
          0,
          0,
          0,
          1,
          1,
          1,
          1,
          0,
          0,
          0,
          1,
          1,
          0,
          0,
          0,
          1,
          0,
          1,
          0,
          0,
          1,
          0,
          0,
          0,
          0,
          0,
          0,
          0,
          1,
          0,
          0,
          0,
          1,
          0,
          1,
          0,
          0,
          1,
          0,
          0,
          0,
          1,
          1,
          1,
          0,
          0,
          1,
          0,
          0,
          0,
          0,
          1,
          0,
          1,
          1,
          0,
          0,
          0,
          0,
          0,
          1,
          0,
          0,
          0,
          1,
          0,
          0,
          0,
          1,
          0,
          1,
          1,
          1,
          1
         ]
        }
       ],
       "layout": {
        "coloraxis": {
         "colorbar": {
          "title": {
           "text": "ClusterKMeansPCA"
          }
         },
         "colorscale": [
          [
           0,
           "#0d0887"
          ],
          [
           0.1111111111111111,
           "#46039f"
          ],
          [
           0.2222222222222222,
           "#7201a8"
          ],
          [
           0.3333333333333333,
           "#9c179e"
          ],
          [
           0.4444444444444444,
           "#bd3786"
          ],
          [
           0.5555555555555556,
           "#d8576b"
          ],
          [
           0.6666666666666666,
           "#ed7953"
          ],
          [
           0.7777777777777778,
           "#fb9f3a"
          ],
          [
           0.8888888888888888,
           "#fdca26"
          ],
          [
           1,
           "#f0f921"
          ]
         ]
        },
        "geo": {
         "center": {},
         "domain": {
          "x": [
           0,
           1
          ],
          "y": [
           0,
           1
          ]
         },
         "projection": {
          "type": "natural earth"
         }
        },
        "height": 700,
        "legend": {
         "tracegroupgap": 0
        },
        "template": {
         "data": {
          "bar": [
           {
            "error_x": {
             "color": "#2a3f5f"
            },
            "error_y": {
             "color": "#2a3f5f"
            },
            "marker": {
             "line": {
              "color": "#E5ECF6",
              "width": 0.5
             },
             "pattern": {
              "fillmode": "overlay",
              "size": 10,
              "solidity": 0.2
             }
            },
            "type": "bar"
           }
          ],
          "barpolar": [
           {
            "marker": {
             "line": {
              "color": "#E5ECF6",
              "width": 0.5
             },
             "pattern": {
              "fillmode": "overlay",
              "size": 10,
              "solidity": 0.2
             }
            },
            "type": "barpolar"
           }
          ],
          "carpet": [
           {
            "aaxis": {
             "endlinecolor": "#2a3f5f",
             "gridcolor": "white",
             "linecolor": "white",
             "minorgridcolor": "white",
             "startlinecolor": "#2a3f5f"
            },
            "baxis": {
             "endlinecolor": "#2a3f5f",
             "gridcolor": "white",
             "linecolor": "white",
             "minorgridcolor": "white",
             "startlinecolor": "#2a3f5f"
            },
            "type": "carpet"
           }
          ],
          "choropleth": [
           {
            "colorbar": {
             "outlinewidth": 0,
             "ticks": ""
            },
            "type": "choropleth"
           }
          ],
          "contour": [
           {
            "colorbar": {
             "outlinewidth": 0,
             "ticks": ""
            },
            "colorscale": [
             [
              0,
              "#0d0887"
             ],
             [
              0.1111111111111111,
              "#46039f"
             ],
             [
              0.2222222222222222,
              "#7201a8"
             ],
             [
              0.3333333333333333,
              "#9c179e"
             ],
             [
              0.4444444444444444,
              "#bd3786"
             ],
             [
              0.5555555555555556,
              "#d8576b"
             ],
             [
              0.6666666666666666,
              "#ed7953"
             ],
             [
              0.7777777777777778,
              "#fb9f3a"
             ],
             [
              0.8888888888888888,
              "#fdca26"
             ],
             [
              1,
              "#f0f921"
             ]
            ],
            "type": "contour"
           }
          ],
          "contourcarpet": [
           {
            "colorbar": {
             "outlinewidth": 0,
             "ticks": ""
            },
            "type": "contourcarpet"
           }
          ],
          "heatmap": [
           {
            "colorbar": {
             "outlinewidth": 0,
             "ticks": ""
            },
            "colorscale": [
             [
              0,
              "#0d0887"
             ],
             [
              0.1111111111111111,
              "#46039f"
             ],
             [
              0.2222222222222222,
              "#7201a8"
             ],
             [
              0.3333333333333333,
              "#9c179e"
             ],
             [
              0.4444444444444444,
              "#bd3786"
             ],
             [
              0.5555555555555556,
              "#d8576b"
             ],
             [
              0.6666666666666666,
              "#ed7953"
             ],
             [
              0.7777777777777778,
              "#fb9f3a"
             ],
             [
              0.8888888888888888,
              "#fdca26"
             ],
             [
              1,
              "#f0f921"
             ]
            ],
            "type": "heatmap"
           }
          ],
          "heatmapgl": [
           {
            "colorbar": {
             "outlinewidth": 0,
             "ticks": ""
            },
            "colorscale": [
             [
              0,
              "#0d0887"
             ],
             [
              0.1111111111111111,
              "#46039f"
             ],
             [
              0.2222222222222222,
              "#7201a8"
             ],
             [
              0.3333333333333333,
              "#9c179e"
             ],
             [
              0.4444444444444444,
              "#bd3786"
             ],
             [
              0.5555555555555556,
              "#d8576b"
             ],
             [
              0.6666666666666666,
              "#ed7953"
             ],
             [
              0.7777777777777778,
              "#fb9f3a"
             ],
             [
              0.8888888888888888,
              "#fdca26"
             ],
             [
              1,
              "#f0f921"
             ]
            ],
            "type": "heatmapgl"
           }
          ],
          "histogram": [
           {
            "marker": {
             "pattern": {
              "fillmode": "overlay",
              "size": 10,
              "solidity": 0.2
             }
            },
            "type": "histogram"
           }
          ],
          "histogram2d": [
           {
            "colorbar": {
             "outlinewidth": 0,
             "ticks": ""
            },
            "colorscale": [
             [
              0,
              "#0d0887"
             ],
             [
              0.1111111111111111,
              "#46039f"
             ],
             [
              0.2222222222222222,
              "#7201a8"
             ],
             [
              0.3333333333333333,
              "#9c179e"
             ],
             [
              0.4444444444444444,
              "#bd3786"
             ],
             [
              0.5555555555555556,
              "#d8576b"
             ],
             [
              0.6666666666666666,
              "#ed7953"
             ],
             [
              0.7777777777777778,
              "#fb9f3a"
             ],
             [
              0.8888888888888888,
              "#fdca26"
             ],
             [
              1,
              "#f0f921"
             ]
            ],
            "type": "histogram2d"
           }
          ],
          "histogram2dcontour": [
           {
            "colorbar": {
             "outlinewidth": 0,
             "ticks": ""
            },
            "colorscale": [
             [
              0,
              "#0d0887"
             ],
             [
              0.1111111111111111,
              "#46039f"
             ],
             [
              0.2222222222222222,
              "#7201a8"
             ],
             [
              0.3333333333333333,
              "#9c179e"
             ],
             [
              0.4444444444444444,
              "#bd3786"
             ],
             [
              0.5555555555555556,
              "#d8576b"
             ],
             [
              0.6666666666666666,
              "#ed7953"
             ],
             [
              0.7777777777777778,
              "#fb9f3a"
             ],
             [
              0.8888888888888888,
              "#fdca26"
             ],
             [
              1,
              "#f0f921"
             ]
            ],
            "type": "histogram2dcontour"
           }
          ],
          "mesh3d": [
           {
            "colorbar": {
             "outlinewidth": 0,
             "ticks": ""
            },
            "type": "mesh3d"
           }
          ],
          "parcoords": [
           {
            "line": {
             "colorbar": {
              "outlinewidth": 0,
              "ticks": ""
             }
            },
            "type": "parcoords"
           }
          ],
          "pie": [
           {
            "automargin": true,
            "type": "pie"
           }
          ],
          "scatter": [
           {
            "fillpattern": {
             "fillmode": "overlay",
             "size": 10,
             "solidity": 0.2
            },
            "type": "scatter"
           }
          ],
          "scatter3d": [
           {
            "line": {
             "colorbar": {
              "outlinewidth": 0,
              "ticks": ""
             }
            },
            "marker": {
             "colorbar": {
              "outlinewidth": 0,
              "ticks": ""
             }
            },
            "type": "scatter3d"
           }
          ],
          "scattercarpet": [
           {
            "marker": {
             "colorbar": {
              "outlinewidth": 0,
              "ticks": ""
             }
            },
            "type": "scattercarpet"
           }
          ],
          "scattergeo": [
           {
            "marker": {
             "colorbar": {
              "outlinewidth": 0,
              "ticks": ""
             }
            },
            "type": "scattergeo"
           }
          ],
          "scattergl": [
           {
            "marker": {
             "colorbar": {
              "outlinewidth": 0,
              "ticks": ""
             }
            },
            "type": "scattergl"
           }
          ],
          "scattermapbox": [
           {
            "marker": {
             "colorbar": {
              "outlinewidth": 0,
              "ticks": ""
             }
            },
            "type": "scattermapbox"
           }
          ],
          "scatterpolar": [
           {
            "marker": {
             "colorbar": {
              "outlinewidth": 0,
              "ticks": ""
             }
            },
            "type": "scatterpolar"
           }
          ],
          "scatterpolargl": [
           {
            "marker": {
             "colorbar": {
              "outlinewidth": 0,
              "ticks": ""
             }
            },
            "type": "scatterpolargl"
           }
          ],
          "scatterternary": [
           {
            "marker": {
             "colorbar": {
              "outlinewidth": 0,
              "ticks": ""
             }
            },
            "type": "scatterternary"
           }
          ],
          "surface": [
           {
            "colorbar": {
             "outlinewidth": 0,
             "ticks": ""
            },
            "colorscale": [
             [
              0,
              "#0d0887"
             ],
             [
              0.1111111111111111,
              "#46039f"
             ],
             [
              0.2222222222222222,
              "#7201a8"
             ],
             [
              0.3333333333333333,
              "#9c179e"
             ],
             [
              0.4444444444444444,
              "#bd3786"
             ],
             [
              0.5555555555555556,
              "#d8576b"
             ],
             [
              0.6666666666666666,
              "#ed7953"
             ],
             [
              0.7777777777777778,
              "#fb9f3a"
             ],
             [
              0.8888888888888888,
              "#fdca26"
             ],
             [
              1,
              "#f0f921"
             ]
            ],
            "type": "surface"
           }
          ],
          "table": [
           {
            "cells": {
             "fill": {
              "color": "#EBF0F8"
             },
             "line": {
              "color": "white"
             }
            },
            "header": {
             "fill": {
              "color": "#C8D4E3"
             },
             "line": {
              "color": "white"
             }
            },
            "type": "table"
           }
          ]
         },
         "layout": {
          "annotationdefaults": {
           "arrowcolor": "#2a3f5f",
           "arrowhead": 0,
           "arrowwidth": 1
          },
          "autotypenumbers": "strict",
          "coloraxis": {
           "colorbar": {
            "outlinewidth": 0,
            "ticks": ""
           }
          },
          "colorscale": {
           "diverging": [
            [
             0,
             "#8e0152"
            ],
            [
             0.1,
             "#c51b7d"
            ],
            [
             0.2,
             "#de77ae"
            ],
            [
             0.3,
             "#f1b6da"
            ],
            [
             0.4,
             "#fde0ef"
            ],
            [
             0.5,
             "#f7f7f7"
            ],
            [
             0.6,
             "#e6f5d0"
            ],
            [
             0.7,
             "#b8e186"
            ],
            [
             0.8,
             "#7fbc41"
            ],
            [
             0.9,
             "#4d9221"
            ],
            [
             1,
             "#276419"
            ]
           ],
           "sequential": [
            [
             0,
             "#0d0887"
            ],
            [
             0.1111111111111111,
             "#46039f"
            ],
            [
             0.2222222222222222,
             "#7201a8"
            ],
            [
             0.3333333333333333,
             "#9c179e"
            ],
            [
             0.4444444444444444,
             "#bd3786"
            ],
            [
             0.5555555555555556,
             "#d8576b"
            ],
            [
             0.6666666666666666,
             "#ed7953"
            ],
            [
             0.7777777777777778,
             "#fb9f3a"
            ],
            [
             0.8888888888888888,
             "#fdca26"
            ],
            [
             1,
             "#f0f921"
            ]
           ],
           "sequentialminus": [
            [
             0,
             "#0d0887"
            ],
            [
             0.1111111111111111,
             "#46039f"
            ],
            [
             0.2222222222222222,
             "#7201a8"
            ],
            [
             0.3333333333333333,
             "#9c179e"
            ],
            [
             0.4444444444444444,
             "#bd3786"
            ],
            [
             0.5555555555555556,
             "#d8576b"
            ],
            [
             0.6666666666666666,
             "#ed7953"
            ],
            [
             0.7777777777777778,
             "#fb9f3a"
            ],
            [
             0.8888888888888888,
             "#fdca26"
            ],
            [
             1,
             "#f0f921"
            ]
           ]
          },
          "colorway": [
           "#636efa",
           "#EF553B",
           "#00cc96",
           "#ab63fa",
           "#FFA15A",
           "#19d3f3",
           "#FF6692",
           "#B6E880",
           "#FF97FF",
           "#FECB52"
          ],
          "font": {
           "color": "#2a3f5f"
          },
          "geo": {
           "bgcolor": "white",
           "lakecolor": "white",
           "landcolor": "#E5ECF6",
           "showlakes": true,
           "showland": true,
           "subunitcolor": "white"
          },
          "hoverlabel": {
           "align": "left"
          },
          "hovermode": "closest",
          "mapbox": {
           "style": "light"
          },
          "paper_bgcolor": "white",
          "plot_bgcolor": "#E5ECF6",
          "polar": {
           "angularaxis": {
            "gridcolor": "white",
            "linecolor": "white",
            "ticks": ""
           },
           "bgcolor": "#E5ECF6",
           "radialaxis": {
            "gridcolor": "white",
            "linecolor": "white",
            "ticks": ""
           }
          },
          "scene": {
           "xaxis": {
            "backgroundcolor": "#E5ECF6",
            "gridcolor": "white",
            "gridwidth": 2,
            "linecolor": "white",
            "showbackground": true,
            "ticks": "",
            "zerolinecolor": "white"
           },
           "yaxis": {
            "backgroundcolor": "#E5ECF6",
            "gridcolor": "white",
            "gridwidth": 2,
            "linecolor": "white",
            "showbackground": true,
            "ticks": "",
            "zerolinecolor": "white"
           },
           "zaxis": {
            "backgroundcolor": "#E5ECF6",
            "gridcolor": "white",
            "gridwidth": 2,
            "linecolor": "white",
            "showbackground": true,
            "ticks": "",
            "zerolinecolor": "white"
           }
          },
          "shapedefaults": {
           "line": {
            "color": "#2a3f5f"
           }
          },
          "ternary": {
           "aaxis": {
            "gridcolor": "white",
            "linecolor": "white",
            "ticks": ""
           },
           "baxis": {
            "gridcolor": "white",
            "linecolor": "white",
            "ticks": ""
           },
           "bgcolor": "#E5ECF6",
           "caxis": {
            "gridcolor": "white",
            "linecolor": "white",
            "ticks": ""
           }
          },
          "title": {
           "x": 0.05
          },
          "xaxis": {
           "automargin": true,
           "gridcolor": "white",
           "linecolor": "white",
           "ticks": "",
           "title": {
            "standoff": 15
           },
           "zerolinecolor": "white",
           "zerolinewidth": 2
          },
          "yaxis": {
           "automargin": true,
           "gridcolor": "white",
           "linecolor": "white",
           "ticks": "",
           "title": {
            "standoff": 15
           },
           "zerolinecolor": "white",
           "zerolinewidth": 2
          }
         }
        },
        "title": {
         "text": "Разделение стран на 2 кластера с помощью k-means на главных компонентах"
        },
        "width": 1000
       }
      }
     },
     "metadata": {},
     "output_type": "display_data"
    },
    {
     "data": {
      "text/html": [
       "<img src=\"../plotly/locations_clusters_kmeans_pca.png\" /><br />"
      ],
      "text/plain": [
       "<IPython.core.display.HTML object>"
      ]
     },
     "metadata": {},
     "output_type": "display_data"
    },
    {
     "data": {
      "text/html": [
       "<em>html графика в файле <a href=\"../plotly/locations_clusters_kmeans_pca.html\" target=\"_blank\">../plotly/locations_clusters_kmeans_pca.html</a></em>"
      ],
      "text/plain": [
       "<IPython.core.display.HTML object>"
      ]
     },
     "metadata": {},
     "output_type": "display_data"
    }
   ],
   "source": [
    "# Отобразим график с кластерами стран\n",
    "fig = px.choropleth(\n",
    "    location_clusters_data, \n",
    "    locations=F.SpatialDimValueCode.value, \n",
    "    color=FCluster.K_MEANS_PCA.value,\n",
    "    hover_name=F.Location.value,\n",
    "    projection='natural earth',\n",
    "    width=1000,\n",
    "    height=700,\n",
    "    title=f'Разделение стран на {K_MEANS_PCA_CLUSTERS_COUNT} кластера с помощью k-means на главных компонентах',\n",
    ")\n",
    "\n",
    "show_and_save_fig(fig, 'locations_clusters_kmeans_pca')"
   ]
  },
  {
   "cell_type": "markdown",
   "metadata": {},
   "source": [
    "График очень похож на предыдущий результат кластеризации с помощью k-means.\\\n",
    "Посмотрим, есть ли различия в определении кластеров."
   ]
  },
  {
   "cell_type": "code",
   "execution_count": 52,
   "metadata": {},
   "outputs": [
    {
     "data": {
      "text/html": [
       "<div>\n",
       "<style scoped>\n",
       "    .dataframe tbody tr th:only-of-type {\n",
       "        vertical-align: middle;\n",
       "    }\n",
       "\n",
       "    .dataframe tbody tr th {\n",
       "        vertical-align: top;\n",
       "    }\n",
       "\n",
       "    .dataframe thead th {\n",
       "        text-align: right;\n",
       "    }\n",
       "</style>\n",
       "<table border=\"1\" class=\"dataframe\">\n",
       "  <thead>\n",
       "    <tr style=\"text-align: right;\">\n",
       "      <th></th>\n",
       "      <th>Location</th>\n",
       "      <th>ParentLocationCode</th>\n",
       "      <th>ParentLocation</th>\n",
       "      <th>SpatialDimValueCode</th>\n",
       "      <th>ClusterKMeans</th>\n",
       "      <th>ClusterEM</th>\n",
       "      <th>ClusterAC</th>\n",
       "      <th>ClusterKMeansPCA</th>\n",
       "      <th>VariousClusters</th>\n",
       "    </tr>\n",
       "  </thead>\n",
       "  <tbody>\n",
       "  </tbody>\n",
       "</table>\n",
       "</div>"
      ],
      "text/plain": [
       "Empty DataFrame\n",
       "Columns: [Location, ParentLocationCode, ParentLocation, SpatialDimValueCode, ClusterKMeans, ClusterEM, ClusterAC, ClusterKMeansPCA, VariousClusters]\n",
       "Index: []"
      ]
     },
     "execution_count": 52,
     "metadata": {},
     "output_type": "execute_result"
    }
   ],
   "source": [
    "location_clusters_data['VariousClusters'] = location_clusters_data \\\n",
    "    .apply(lambda row: 0 if row[FCluster.K_MEANS.value] == row[FCluster.K_MEANS_PCA.value] else 1, axis=1)\n",
    "\n",
    "mask = location_clusters_data['VariousClusters'] == 1\n",
    "\n",
    "location_clusters_data[mask]"
   ]
  },
  {
   "cell_type": "code",
   "execution_count": 53,
   "metadata": {},
   "outputs": [
    {
     "name": "stdout",
     "output_type": "stream",
     "text": [
      "Оба способа одинаково разделили страны на 2 кластера.\n"
     ]
    }
   ],
   "source": [
    "if (location_clusters_data[mask].shape[0] == 0):\n",
    "    print(f'Оба способа одинаково разделили страны на {K_MEANS_PCA_CLUSTERS_COUNT} кластера.')"
   ]
  },
  {
   "cell_type": "code",
   "execution_count": 54,
   "metadata": {},
   "outputs": [],
   "source": [
    "# Удалим столбец VariousClusters\n",
    "location_clusters_data.drop(columns=['VariousClusters'], inplace=True)"
   ]
  },
  {
   "cell_type": "markdown",
   "metadata": {},
   "source": [
    "## Диаграмма рассеяния для результата кластеризации с помощью k-means"
   ]
  },
  {
   "cell_type": "markdown",
   "metadata": {},
   "source": [
    "Пока лучшее значение метрики мы получили для результата кластеризации с помощью k-means.\\\n",
    "Построим диаграмму рассеяния полученных классов по двум признакам:\n",
    "- ожидаемая продолжительность жизни\n",
    "- процент людей, имеющих возможность пользоваться базовыми услугами санитарии"
   ]
  },
  {
   "cell_type": "code",
   "execution_count": 55,
   "metadata": {},
   "outputs": [
    {
     "data": {
      "text/html": [
       "<div>\n",
       "<style scoped>\n",
       "    .dataframe tbody tr th:only-of-type {\n",
       "        vertical-align: middle;\n",
       "    }\n",
       "\n",
       "    .dataframe tbody tr th {\n",
       "        vertical-align: top;\n",
       "    }\n",
       "\n",
       "    .dataframe thead th {\n",
       "        text-align: right;\n",
       "    }\n",
       "</style>\n",
       "<table border=\"1\" class=\"dataframe\">\n",
       "  <thead>\n",
       "    <tr style=\"text-align: right;\">\n",
       "      <th></th>\n",
       "      <th>Location</th>\n",
       "      <th>Sanitation</th>\n",
       "      <th>LifeExpectancy</th>\n",
       "      <th>ClusterKMeans</th>\n",
       "    </tr>\n",
       "  </thead>\n",
       "  <tbody>\n",
       "    <tr>\n",
       "      <th>0</th>\n",
       "      <td>Afghanistan</td>\n",
       "      <td>33.236667</td>\n",
       "      <td>57.991111</td>\n",
       "      <td>1</td>\n",
       "    </tr>\n",
       "    <tr>\n",
       "      <th>1</th>\n",
       "      <td>Albania</td>\n",
       "      <td>94.208889</td>\n",
       "      <td>76.033889</td>\n",
       "      <td>0</td>\n",
       "    </tr>\n",
       "    <tr>\n",
       "      <th>2</th>\n",
       "      <td>Algeria</td>\n",
       "      <td>86.195556</td>\n",
       "      <td>74.729444</td>\n",
       "      <td>0</td>\n",
       "    </tr>\n",
       "    <tr>\n",
       "      <th>3</th>\n",
       "      <td>Angola</td>\n",
       "      <td>39.013333</td>\n",
       "      <td>56.326111</td>\n",
       "      <td>1</td>\n",
       "    </tr>\n",
       "    <tr>\n",
       "      <th>4</th>\n",
       "      <td>Antigua and Barbuda</td>\n",
       "      <td>88.130049</td>\n",
       "      <td>75.344444</td>\n",
       "      <td>0</td>\n",
       "    </tr>\n",
       "  </tbody>\n",
       "</table>\n",
       "</div>"
      ],
      "text/plain": [
       "              Location  Sanitation  LifeExpectancy ClusterKMeans\n",
       "0          Afghanistan   33.236667       57.991111             1\n",
       "1              Albania   94.208889       76.033889             0\n",
       "2              Algeria   86.195556       74.729444             0\n",
       "3               Angola   39.013333       56.326111             1\n",
       "4  Antigua and Barbuda   88.130049       75.344444             0"
      ]
     },
     "execution_count": 55,
     "metadata": {},
     "output_type": "execute_result"
    }
   ],
   "source": [
    "# Создадим таблицу для построения графика\n",
    "kmeans_clusters_data = cumulative_mean_data[[\n",
    "    F.Sanitation.value, F.LifeExpectancy.value\n",
    "]].reset_index().rename(columns={ 'index': F.Location.value })\n",
    "\n",
    "kmeans_clusters_data = kmeans_clusters_data.merge(\n",
    "    location_clusters_data[[F.Location.value, FCluster.K_MEANS.value]],\n",
    "    on=[F.Location.value],\n",
    "    how='left',\n",
    ")\n",
    "\n",
    "# Переведем признак с кластером в строковый для более удобного отображения на графике\n",
    "kmeans_clusters_data[FCluster.K_MEANS.value] = kmeans_clusters_data[FCluster.K_MEANS.value].astype(str)\n",
    "\n",
    "kmeans_clusters_data.head()"
   ]
  },
  {
   "cell_type": "code",
   "execution_count": 56,
   "metadata": {},
   "outputs": [
    {
     "data": {
      "application/vnd.plotly.v1+json": {
       "config": {
        "plotlyServerURL": "https://plot.ly"
       },
       "data": [
        {
         "hovertemplate": "<b>%{hovertext}</b><br><br>ClusterKMeans=1<br>LifeExpectancy=%{x}<br>Sanitation=%{y}<extra></extra>",
         "hovertext": [
          "Afghanistan",
          "Angola",
          "Bangladesh",
          "Benin",
          "Bhutan",
          "Botswana",
          "Burkina Faso",
          "Burundi",
          "Cambodia",
          "Cameroon",
          "Central African Republic",
          "Chad",
          "Comoros",
          "Congo",
          "Cote d'Ivoire",
          "Democratic Republic of the Congo",
          "Djibouti",
          "Equatorial Guinea",
          "Eritrea",
          "Eswatini",
          "Ethiopia",
          "Gabon",
          "Gambia",
          "Ghana",
          "Guinea",
          "Guinea-Bissau",
          "Haiti",
          "India",
          "Indonesia",
          "Kenya",
          "Lao People's Democratic Republic",
          "Lesotho",
          "Liberia",
          "Madagascar",
          "Malawi",
          "Mali",
          "Mauritania",
          "Mozambique",
          "Myanmar",
          "Namibia",
          "Nepal",
          "Niger",
          "Nigeria",
          "Pakistan",
          "Papua New Guinea",
          "Philippines",
          "Rwanda",
          "Sao Tome and Principe",
          "Senegal",
          "Sierra Leone",
          "Solomon Islands",
          "Somalia",
          "South Africa",
          "Sudan",
          "Tajikistan",
          "Timor-Leste",
          "Togo",
          "Uganda",
          "United Republic of Tanzania",
          "Vanuatu",
          "Viet Nam",
          "Yemen",
          "Zambia",
          "Zimbabwe"
         ],
         "legendgroup": "1",
         "marker": {
          "color": "#636efa",
          "symbol": "circle"
         },
         "mode": "markers",
         "name": "1",
         "orientation": "v",
         "showlegend": true,
         "type": "scatter",
         "x": [
          57.99111111111111,
          56.32611111111111,
          69.63166666666666,
          60.486111111111114,
          70.67388888888888,
          55.74888888888889,
          57.23722222222222,
          55.989444444444445,
          65.26388888888889,
          56.04611111111112,
          47.91222222222222,
          54.805,
          65.24166666666666,
          58.56333333333334,
          56.41,
          56.648888888888884,
          61.611666666666665,
          58.56444444444445,
          59.65944444444444,
          46.71333333333334,
          60.78555555555555,
          61.076666666666675,
          61.757222222222225,
          61.66722222222222,
          57.46444444444445,
          54.34888888888889,
          58.94277777777778,
          66.77000000000001,
          68.93055555555556,
          59.63277777777777,
          63.33111111111111,
          47.17055555555556,
          58.50277777777777,
          61.669444444444444,
          54.28722222222222,
          57.54055555555556,
          67.2188888888889,
          53.33277777777778,
          63.388888888888886,
          57.515,
          68.73055555555555,
          56.443333333333335,
          58.61944444444445,
          63.765,
          64.59833333333333,
          69.53444444444443,
          60.25277777777777,
          67.75055555555555,
          64.09611111111111,
          54.18055555555556,
          64.23277777777778,
          50.45777777777778,
          57.36055555555556,
          65.99888888888889,
          69.53333333333333,
          66.21555555555555,
          58.73833333333333,
          57.87444444444444,
          59.94166666666667,
          65.87111111111112,
          72.49555555555555,
          66.65166666666667,
          54.16166666666666,
          50.56666666666667
         ],
         "xaxis": "x",
         "y": [
          33.236666666666665,
          39.013333333333335,
          38.17055555555556,
          12.719444444444443,
          59.93555555555555,
          64.44666666666666,
          16.276666666666667,
          45.815,
          33.90888888888889,
          39.904444444444444,
          18.36111111111111,
          10.56388888888889,
          33.452777777777776,
          15.512222222222224,
          26.579444444444444,
          20.198888888888888,
          53.69388888888889,
          60.33613636363637,
          13.493249890206412,
          55.36388888888889,
          5.413333333333333,
          42.31444444444444,
          47.163333333333334,
          13.725000000000001,
          16.655555555555555,
          12.143333333333334,
          25.676111111111112,
          38.52166666666667,
          58.63666666666667,
          31.199444444444445,
          52.095555555555556,
          26.899444444444445,
          15.44111111111111,
          7.8805555555555555,
          20.752222222222223,
          27.723333333333333,
          30.596666666666668,
          19.827222222222222,
          67.97277777777778,
          31.429444444444446,
          38.30222222222222,
          9.7,
          33.80444444444444,
          46.656666666666666,
          18.508333333333333,
          70.28444444444443,
          56.885,
          31.28888888888889,
          45.843333333333334,
          12.18388888888889,
          25.915555555555557,
          27.424999999999997,
          66.8338888888889,
          27.095000000000002,
          92.91888888888889,
          45.05611111111111,
          12.987222222222222,
          18.205555555555556,
          16.689444444444447,
          53.291666666666664,
          66.42777777777778,
          48.98111111111111,
          27.08,
          41.72388888888889
         ],
         "yaxis": "y"
        },
        {
         "hovertemplate": "<b>%{hovertext}</b><br><br>ClusterKMeans=0<br>LifeExpectancy=%{x}<br>Sanitation=%{y}<extra></extra>",
         "hovertext": [
          "Albania",
          "Algeria",
          "Antigua and Barbuda",
          "Argentina",
          "Armenia",
          "Australia",
          "Austria",
          "Azerbaijan",
          "Bahamas",
          "Bahrain",
          "Barbados",
          "Belarus",
          "Belgium",
          "Belize",
          "Bolivia (Plurinational State of)",
          "Bosnia and Herzegovina",
          "Brazil",
          "Brunei Darussalam",
          "Bulgaria",
          "Cabo Verde",
          "Canada",
          "Chile",
          "China",
          "Colombia",
          "Costa Rica",
          "Croatia",
          "Cuba",
          "Cyprus",
          "Czechia",
          "Denmark",
          "Dominican Republic",
          "Ecuador",
          "Egypt",
          "El Salvador",
          "Estonia",
          "Fiji",
          "Finland",
          "France",
          "Georgia",
          "Germany",
          "Greece",
          "Grenada",
          "Guatemala",
          "Guyana",
          "Honduras",
          "Hungary",
          "Iceland",
          "Iran (Islamic Republic of)",
          "Iraq",
          "Ireland",
          "Israel",
          "Italy",
          "Jamaica",
          "Japan",
          "Jordan",
          "Kazakhstan",
          "Kiribati",
          "Kuwait",
          "Kyrgyzstan",
          "Latvia",
          "Lebanon",
          "Libya",
          "Lithuania",
          "Luxembourg",
          "Malaysia",
          "Maldives",
          "Malta",
          "Mauritius",
          "Mexico",
          "Micronesia (Federated States of)",
          "Mongolia",
          "Montenegro",
          "Morocco",
          "Netherlands (Kingdom of the)",
          "New Zealand",
          "Nicaragua",
          "North Macedonia",
          "Norway",
          "Oman",
          "Panama",
          "Paraguay",
          "Peru",
          "Poland",
          "Portugal",
          "Qatar",
          "Republic of Korea",
          "Republic of Moldova",
          "Romania",
          "Russian Federation",
          "Saint Lucia",
          "Saint Vincent and the Grenadines",
          "Samoa",
          "Saudi Arabia",
          "Serbia",
          "Seychelles",
          "Singapore",
          "Slovakia",
          "Slovenia",
          "Spain",
          "Sri Lanka",
          "Suriname",
          "Sweden",
          "Switzerland",
          "Syrian Arab Republic",
          "Thailand",
          "Tonga",
          "Trinidad and Tobago",
          "Tunisia",
          "Turkmenistan",
          "Türkiye",
          "Ukraine",
          "United Arab Emirates",
          "United Kingdom of Great Britain and Northern Ireland",
          "United States of America",
          "Uruguay",
          "Uzbekistan",
          "Venezuela (Bolivarian Republic of)"
         ],
         "legendgroup": "0",
         "marker": {
          "color": "#EF553B",
          "symbol": "circle"
         },
         "mode": "markers",
         "name": "0",
         "orientation": "v",
         "showlegend": true,
         "type": "scatter",
         "x": [
          76.03388888888888,
          74.72944444444445,
          75.34444444444445,
          75.51555555555555,
          72.93444444444444,
          81.4538888888889,
          80.03277777777777,
          69.62611111111111,
          72.50611111111112,
          73.02055555555555,
          75.55666666666667,
          70.66222222222223,
          79.54888888888888,
          73.03333333333333,
          69.72888888888889,
          76.7038888888889,
          73.51611111111112,
          76.47555555555556,
          73.36111111111111,
          73.625,
          80.64833333333334,
          78.78,
          74.02166666666668,
          75.44055555555556,
          79.71388888888889,
          76.47222222222223,
          77.79388888888889,
          80.52555555555556,
          77.05611111111111,
          78.88277777777778,
          73.33888888888889,
          74.97888888888889,
          69.77166666666666,
          73.65277777777777,
          74.53944444444444,
          67.17555555555556,
          79.63166666666666,
          80.78055555555555,
          71.87722222222222,
          79.72888888888889,
          79.85111111111111,
          71.59111111111112,
          70.68277777777777,
          65.85111111111111,
          70.32,
          74.05222222222223,
          81.30388888888889,
          75.78777777777778,
          70.06722222222223,
          79.50666666666666,
          80.58055555555556,
          81.2811111111111,
          72.68111111111111,
          82.92055555555555,
          75.69166666666666,
          67.93166666666667,
          61.18833333333334,
          79.9361111111111,
          68.81111111111112,
          72.29555555555555,
          77.54277777777777,
          73.59833333333333,
          72.74111111111111,
          80.62222222222222,
          74.11666666666666,
          74.15,
          80.03611111111111,
          72.88666666666667,
          75.24888888888889,
          64.57,
          66.65555555555555,
          75.17222222222222,
          71.97944444444445,
          80.07777777777778,
          80.23277777777778,
          76.79,
          74.35666666666667,
          80.55833333333334,
          73.23222222222222,
          77.08777777777777,
          74.95944444444444,
          78.1711111111111,
          75.7838888888889,
          79.16444444444444,
          73.42277777777777,
          79.80111111111111,
          68.48611111111111,
          73.23666666666666,
          68.11277777777778,
          75.1861111111111,
          72.77111111111111,
          70.08166666666666,
          73.97,
          73.86,
          72.71833333333333,
          81.21277777777777,
          75.17,
          78.67500000000001,
          81.07222222222222,
          74.05944444444444,
          72.07333333333332,
          80.94166666666666,
          81.7011111111111,
          69.04777777777777,
          74.44,
          71.84777777777778,
          72.6861111111111,
          75.86666666666666,
          67.44055555555556,
          76.09833333333333,
          69.44277777777778,
          79.91444444444444,
          79.63333333333334,
          77.96555555555557,
          76.11333333333333,
          65.81277777777778,
          74.14944444444444
         ],
         "xaxis": "x",
         "y": [
          94.2088888888889,
          86.19555555555556,
          88.13004901960784,
          90.57615907653384,
          90.28722222222223,
          99.99499999999999,
          99.98777777777778,
          80.75722222222223,
          91.845,
          99.97277777777778,
          93.0988888888889,
          94.61166666666666,
          99.48833333333333,
          85.15333333333334,
          46.375,
          95.20111111111112,
          80.51722222222222,
          83.055,
          85.915,
          56.10111111111111,
          99.54722222222223,
          96.33888888888889,
          72.56666666666666,
          82.9661111111111,
          95.59333333333333,
          97.12666666666667,
          85.6711111111111,
          99.59944444444444,
          99.12722222222222,
          99.6,
          81.62833333333333,
          78.85888888888888,
          93.89611111111111,
          83.2038888888889,
          99.35888888888888,
          90.56666666666666,
          99.45,
          98.6561111111111,
          88.11111111111111,
          99.22055555555556,
          98.39666666666668,
          91.0436917562724,
          64.70444444444445,
          82.87944444444445,
          72.495,
          98.01555555555555,
          98.78722222222223,
          84.045,
          81.15166666666667,
          89.98055555555555,
          99.99,
          99.89,
          84.37833333333333,
          99.97722222222222,
          98.09944444444444,
          97.29944444444445,
          38.861111111111114,
          100,
          94.79833333333333,
          89.73,
          85.65055555555556,
          91.27,
          88.51777777777778,
          97.65222222222222,
          94.46833333333333,
          85.86333333333333,
          99.96222222222222,
          90.14613636363636,
          83.83277777777778,
          59.56777777777778,
          54.37166666666667,
          93.87824220713927,
          76.34777777777778,
          97.85611111111112,
          100,
          65.39944444444444,
          91.69,
          98.06388888888888,
          94.79166666666667,
          71.39277777777778,
          80.33611111111111,
          70.11166666666666,
          93.27666666666667,
          98.56722222222223,
          99.94,
          99.96388888888889,
          76.1738888888889,
          79.40470588235294,
          86.39,
          83.96833333333333,
          79.94388888888889,
          93.31833333333333,
          95.23777777777778,
          96.35166666666667,
          97.45277777777778,
          100,
          98.62277777777778,
          98.91444444444444,
          99.86611111111111,
          83.69555555555556,
          82.4061111111111,
          99.07277777777777,
          99.885,
          90.61555555555555,
          94.98833333333333,
          91.03833333333334,
          92.12055555555555,
          85.24722222222222,
          95.08777777777777,
          92.11166666666666,
          95.94944444444444,
          99.13,
          99.12,
          99.83611111111111,
          94.86888888888889,
          94.60055555555556,
          91.03444444444443
         ],
         "yaxis": "y"
        }
       ],
       "layout": {
        "legend": {
         "title": {
          "text": "ClusterKMeans"
         },
         "tracegroupgap": 0
        },
        "margin": {
         "t": 60
        },
        "template": {
         "data": {
          "bar": [
           {
            "error_x": {
             "color": "#2a3f5f"
            },
            "error_y": {
             "color": "#2a3f5f"
            },
            "marker": {
             "line": {
              "color": "#E5ECF6",
              "width": 0.5
             },
             "pattern": {
              "fillmode": "overlay",
              "size": 10,
              "solidity": 0.2
             }
            },
            "type": "bar"
           }
          ],
          "barpolar": [
           {
            "marker": {
             "line": {
              "color": "#E5ECF6",
              "width": 0.5
             },
             "pattern": {
              "fillmode": "overlay",
              "size": 10,
              "solidity": 0.2
             }
            },
            "type": "barpolar"
           }
          ],
          "carpet": [
           {
            "aaxis": {
             "endlinecolor": "#2a3f5f",
             "gridcolor": "white",
             "linecolor": "white",
             "minorgridcolor": "white",
             "startlinecolor": "#2a3f5f"
            },
            "baxis": {
             "endlinecolor": "#2a3f5f",
             "gridcolor": "white",
             "linecolor": "white",
             "minorgridcolor": "white",
             "startlinecolor": "#2a3f5f"
            },
            "type": "carpet"
           }
          ],
          "choropleth": [
           {
            "colorbar": {
             "outlinewidth": 0,
             "ticks": ""
            },
            "type": "choropleth"
           }
          ],
          "contour": [
           {
            "colorbar": {
             "outlinewidth": 0,
             "ticks": ""
            },
            "colorscale": [
             [
              0,
              "#0d0887"
             ],
             [
              0.1111111111111111,
              "#46039f"
             ],
             [
              0.2222222222222222,
              "#7201a8"
             ],
             [
              0.3333333333333333,
              "#9c179e"
             ],
             [
              0.4444444444444444,
              "#bd3786"
             ],
             [
              0.5555555555555556,
              "#d8576b"
             ],
             [
              0.6666666666666666,
              "#ed7953"
             ],
             [
              0.7777777777777778,
              "#fb9f3a"
             ],
             [
              0.8888888888888888,
              "#fdca26"
             ],
             [
              1,
              "#f0f921"
             ]
            ],
            "type": "contour"
           }
          ],
          "contourcarpet": [
           {
            "colorbar": {
             "outlinewidth": 0,
             "ticks": ""
            },
            "type": "contourcarpet"
           }
          ],
          "heatmap": [
           {
            "colorbar": {
             "outlinewidth": 0,
             "ticks": ""
            },
            "colorscale": [
             [
              0,
              "#0d0887"
             ],
             [
              0.1111111111111111,
              "#46039f"
             ],
             [
              0.2222222222222222,
              "#7201a8"
             ],
             [
              0.3333333333333333,
              "#9c179e"
             ],
             [
              0.4444444444444444,
              "#bd3786"
             ],
             [
              0.5555555555555556,
              "#d8576b"
             ],
             [
              0.6666666666666666,
              "#ed7953"
             ],
             [
              0.7777777777777778,
              "#fb9f3a"
             ],
             [
              0.8888888888888888,
              "#fdca26"
             ],
             [
              1,
              "#f0f921"
             ]
            ],
            "type": "heatmap"
           }
          ],
          "heatmapgl": [
           {
            "colorbar": {
             "outlinewidth": 0,
             "ticks": ""
            },
            "colorscale": [
             [
              0,
              "#0d0887"
             ],
             [
              0.1111111111111111,
              "#46039f"
             ],
             [
              0.2222222222222222,
              "#7201a8"
             ],
             [
              0.3333333333333333,
              "#9c179e"
             ],
             [
              0.4444444444444444,
              "#bd3786"
             ],
             [
              0.5555555555555556,
              "#d8576b"
             ],
             [
              0.6666666666666666,
              "#ed7953"
             ],
             [
              0.7777777777777778,
              "#fb9f3a"
             ],
             [
              0.8888888888888888,
              "#fdca26"
             ],
             [
              1,
              "#f0f921"
             ]
            ],
            "type": "heatmapgl"
           }
          ],
          "histogram": [
           {
            "marker": {
             "pattern": {
              "fillmode": "overlay",
              "size": 10,
              "solidity": 0.2
             }
            },
            "type": "histogram"
           }
          ],
          "histogram2d": [
           {
            "colorbar": {
             "outlinewidth": 0,
             "ticks": ""
            },
            "colorscale": [
             [
              0,
              "#0d0887"
             ],
             [
              0.1111111111111111,
              "#46039f"
             ],
             [
              0.2222222222222222,
              "#7201a8"
             ],
             [
              0.3333333333333333,
              "#9c179e"
             ],
             [
              0.4444444444444444,
              "#bd3786"
             ],
             [
              0.5555555555555556,
              "#d8576b"
             ],
             [
              0.6666666666666666,
              "#ed7953"
             ],
             [
              0.7777777777777778,
              "#fb9f3a"
             ],
             [
              0.8888888888888888,
              "#fdca26"
             ],
             [
              1,
              "#f0f921"
             ]
            ],
            "type": "histogram2d"
           }
          ],
          "histogram2dcontour": [
           {
            "colorbar": {
             "outlinewidth": 0,
             "ticks": ""
            },
            "colorscale": [
             [
              0,
              "#0d0887"
             ],
             [
              0.1111111111111111,
              "#46039f"
             ],
             [
              0.2222222222222222,
              "#7201a8"
             ],
             [
              0.3333333333333333,
              "#9c179e"
             ],
             [
              0.4444444444444444,
              "#bd3786"
             ],
             [
              0.5555555555555556,
              "#d8576b"
             ],
             [
              0.6666666666666666,
              "#ed7953"
             ],
             [
              0.7777777777777778,
              "#fb9f3a"
             ],
             [
              0.8888888888888888,
              "#fdca26"
             ],
             [
              1,
              "#f0f921"
             ]
            ],
            "type": "histogram2dcontour"
           }
          ],
          "mesh3d": [
           {
            "colorbar": {
             "outlinewidth": 0,
             "ticks": ""
            },
            "type": "mesh3d"
           }
          ],
          "parcoords": [
           {
            "line": {
             "colorbar": {
              "outlinewidth": 0,
              "ticks": ""
             }
            },
            "type": "parcoords"
           }
          ],
          "pie": [
           {
            "automargin": true,
            "type": "pie"
           }
          ],
          "scatter": [
           {
            "fillpattern": {
             "fillmode": "overlay",
             "size": 10,
             "solidity": 0.2
            },
            "type": "scatter"
           }
          ],
          "scatter3d": [
           {
            "line": {
             "colorbar": {
              "outlinewidth": 0,
              "ticks": ""
             }
            },
            "marker": {
             "colorbar": {
              "outlinewidth": 0,
              "ticks": ""
             }
            },
            "type": "scatter3d"
           }
          ],
          "scattercarpet": [
           {
            "marker": {
             "colorbar": {
              "outlinewidth": 0,
              "ticks": ""
             }
            },
            "type": "scattercarpet"
           }
          ],
          "scattergeo": [
           {
            "marker": {
             "colorbar": {
              "outlinewidth": 0,
              "ticks": ""
             }
            },
            "type": "scattergeo"
           }
          ],
          "scattergl": [
           {
            "marker": {
             "colorbar": {
              "outlinewidth": 0,
              "ticks": ""
             }
            },
            "type": "scattergl"
           }
          ],
          "scattermapbox": [
           {
            "marker": {
             "colorbar": {
              "outlinewidth": 0,
              "ticks": ""
             }
            },
            "type": "scattermapbox"
           }
          ],
          "scatterpolar": [
           {
            "marker": {
             "colorbar": {
              "outlinewidth": 0,
              "ticks": ""
             }
            },
            "type": "scatterpolar"
           }
          ],
          "scatterpolargl": [
           {
            "marker": {
             "colorbar": {
              "outlinewidth": 0,
              "ticks": ""
             }
            },
            "type": "scatterpolargl"
           }
          ],
          "scatterternary": [
           {
            "marker": {
             "colorbar": {
              "outlinewidth": 0,
              "ticks": ""
             }
            },
            "type": "scatterternary"
           }
          ],
          "surface": [
           {
            "colorbar": {
             "outlinewidth": 0,
             "ticks": ""
            },
            "colorscale": [
             [
              0,
              "#0d0887"
             ],
             [
              0.1111111111111111,
              "#46039f"
             ],
             [
              0.2222222222222222,
              "#7201a8"
             ],
             [
              0.3333333333333333,
              "#9c179e"
             ],
             [
              0.4444444444444444,
              "#bd3786"
             ],
             [
              0.5555555555555556,
              "#d8576b"
             ],
             [
              0.6666666666666666,
              "#ed7953"
             ],
             [
              0.7777777777777778,
              "#fb9f3a"
             ],
             [
              0.8888888888888888,
              "#fdca26"
             ],
             [
              1,
              "#f0f921"
             ]
            ],
            "type": "surface"
           }
          ],
          "table": [
           {
            "cells": {
             "fill": {
              "color": "#EBF0F8"
             },
             "line": {
              "color": "white"
             }
            },
            "header": {
             "fill": {
              "color": "#C8D4E3"
             },
             "line": {
              "color": "white"
             }
            },
            "type": "table"
           }
          ]
         },
         "layout": {
          "annotationdefaults": {
           "arrowcolor": "#2a3f5f",
           "arrowhead": 0,
           "arrowwidth": 1
          },
          "autotypenumbers": "strict",
          "coloraxis": {
           "colorbar": {
            "outlinewidth": 0,
            "ticks": ""
           }
          },
          "colorscale": {
           "diverging": [
            [
             0,
             "#8e0152"
            ],
            [
             0.1,
             "#c51b7d"
            ],
            [
             0.2,
             "#de77ae"
            ],
            [
             0.3,
             "#f1b6da"
            ],
            [
             0.4,
             "#fde0ef"
            ],
            [
             0.5,
             "#f7f7f7"
            ],
            [
             0.6,
             "#e6f5d0"
            ],
            [
             0.7,
             "#b8e186"
            ],
            [
             0.8,
             "#7fbc41"
            ],
            [
             0.9,
             "#4d9221"
            ],
            [
             1,
             "#276419"
            ]
           ],
           "sequential": [
            [
             0,
             "#0d0887"
            ],
            [
             0.1111111111111111,
             "#46039f"
            ],
            [
             0.2222222222222222,
             "#7201a8"
            ],
            [
             0.3333333333333333,
             "#9c179e"
            ],
            [
             0.4444444444444444,
             "#bd3786"
            ],
            [
             0.5555555555555556,
             "#d8576b"
            ],
            [
             0.6666666666666666,
             "#ed7953"
            ],
            [
             0.7777777777777778,
             "#fb9f3a"
            ],
            [
             0.8888888888888888,
             "#fdca26"
            ],
            [
             1,
             "#f0f921"
            ]
           ],
           "sequentialminus": [
            [
             0,
             "#0d0887"
            ],
            [
             0.1111111111111111,
             "#46039f"
            ],
            [
             0.2222222222222222,
             "#7201a8"
            ],
            [
             0.3333333333333333,
             "#9c179e"
            ],
            [
             0.4444444444444444,
             "#bd3786"
            ],
            [
             0.5555555555555556,
             "#d8576b"
            ],
            [
             0.6666666666666666,
             "#ed7953"
            ],
            [
             0.7777777777777778,
             "#fb9f3a"
            ],
            [
             0.8888888888888888,
             "#fdca26"
            ],
            [
             1,
             "#f0f921"
            ]
           ]
          },
          "colorway": [
           "#636efa",
           "#EF553B",
           "#00cc96",
           "#ab63fa",
           "#FFA15A",
           "#19d3f3",
           "#FF6692",
           "#B6E880",
           "#FF97FF",
           "#FECB52"
          ],
          "font": {
           "color": "#2a3f5f"
          },
          "geo": {
           "bgcolor": "white",
           "lakecolor": "white",
           "landcolor": "#E5ECF6",
           "showlakes": true,
           "showland": true,
           "subunitcolor": "white"
          },
          "hoverlabel": {
           "align": "left"
          },
          "hovermode": "closest",
          "mapbox": {
           "style": "light"
          },
          "paper_bgcolor": "white",
          "plot_bgcolor": "#E5ECF6",
          "polar": {
           "angularaxis": {
            "gridcolor": "white",
            "linecolor": "white",
            "ticks": ""
           },
           "bgcolor": "#E5ECF6",
           "radialaxis": {
            "gridcolor": "white",
            "linecolor": "white",
            "ticks": ""
           }
          },
          "scene": {
           "xaxis": {
            "backgroundcolor": "#E5ECF6",
            "gridcolor": "white",
            "gridwidth": 2,
            "linecolor": "white",
            "showbackground": true,
            "ticks": "",
            "zerolinecolor": "white"
           },
           "yaxis": {
            "backgroundcolor": "#E5ECF6",
            "gridcolor": "white",
            "gridwidth": 2,
            "linecolor": "white",
            "showbackground": true,
            "ticks": "",
            "zerolinecolor": "white"
           },
           "zaxis": {
            "backgroundcolor": "#E5ECF6",
            "gridcolor": "white",
            "gridwidth": 2,
            "linecolor": "white",
            "showbackground": true,
            "ticks": "",
            "zerolinecolor": "white"
           }
          },
          "shapedefaults": {
           "line": {
            "color": "#2a3f5f"
           }
          },
          "ternary": {
           "aaxis": {
            "gridcolor": "white",
            "linecolor": "white",
            "ticks": ""
           },
           "baxis": {
            "gridcolor": "white",
            "linecolor": "white",
            "ticks": ""
           },
           "bgcolor": "#E5ECF6",
           "caxis": {
            "gridcolor": "white",
            "linecolor": "white",
            "ticks": ""
           }
          },
          "title": {
           "x": 0.05
          },
          "xaxis": {
           "automargin": true,
           "gridcolor": "white",
           "linecolor": "white",
           "ticks": "",
           "title": {
            "standoff": 15
           },
           "zerolinecolor": "white",
           "zerolinewidth": 2
          },
          "yaxis": {
           "automargin": true,
           "gridcolor": "white",
           "linecolor": "white",
           "ticks": "",
           "title": {
            "standoff": 15
           },
           "zerolinecolor": "white",
           "zerolinewidth": 2
          }
         }
        },
        "title": {
         "text": "Распределение стран по кластерам"
        },
        "xaxis": {
         "anchor": "y",
         "domain": [
          0,
          1
         ],
         "title": {
          "text": "Ожидаемая продолжительность жизни"
         }
        },
        "yaxis": {
         "anchor": "x",
         "domain": [
          0,
          1
         ],
         "title": {
          "text": "Доступ к услугам санитарии (%)"
         }
        }
       }
      }
     },
     "metadata": {},
     "output_type": "display_data"
    },
    {
     "data": {
      "text/html": [
       "<img src=\"../plotly/locations_clusters_kmeans_2.png\" /><br />"
      ],
      "text/plain": [
       "<IPython.core.display.HTML object>"
      ]
     },
     "metadata": {},
     "output_type": "display_data"
    },
    {
     "data": {
      "text/html": [
       "<em>html графика в файле <a href=\"../plotly/locations_clusters_kmeans_2.html\" target=\"_blank\">../plotly/locations_clusters_kmeans_2.html</a></em>"
      ],
      "text/plain": [
       "<IPython.core.display.HTML object>"
      ]
     },
     "metadata": {},
     "output_type": "display_data"
    }
   ],
   "source": [
    "# Отобразим данные на графике\n",
    "fig = px.scatter(\n",
    "    kmeans_clusters_data,\n",
    "    x=F.LifeExpectancy.value, \n",
    "    y=F.Sanitation.value,\n",
    "    hover_name=F.Location.value,\n",
    "    color=FCluster.K_MEANS.value,\n",
    ")\n",
    "\n",
    "fig.update_layout(\n",
    "    title='Распределение стран по кластерам',\n",
    "    xaxis_title='Ожидаемая продолжительность жизни',\n",
    "    yaxis_title='Доступ к услугам санитарии (%)',\n",
    ")\n",
    "\n",
    "show_and_save_fig(fig, 'locations_clusters_kmeans_2')"
   ]
  },
  {
   "cell_type": "markdown",
   "metadata": {},
   "source": [
    "По графику видно, что в кластер 0 определились страны с большей продолжительностью жизни и лучшим уровнем санитарии.\\\n",
    "В кластер 1 - страны с соответственно меньшими значениями.\\\n",
    "Есть исключения в обоих классах. \\\n",
    "Например, страна Кибарити, находится среди точек кластера 1, но принадлежит к кластеру 0.\\\n",
    "Вероятно, ее отношение к кластеру 0 определяется другими признаками.\n",
    "\n",
    "Но разделение на классы прослеживается довольно четкое по расположению точек на плоскости и на карте."
   ]
  },
  {
   "cell_type": "markdown",
   "metadata": {},
   "source": [
    "## Диаграмма профилей кластеров"
   ]
  },
  {
   "cell_type": "markdown",
   "metadata": {},
   "source": [
    "Для полученных двух кластеров найдем среднее по признакам:"
   ]
  },
  {
   "cell_type": "code",
   "execution_count": 57,
   "metadata": {},
   "outputs": [
    {
     "data": {
      "text/markdown": [
       "**Описание полей:**"
      ],
      "text/plain": [
       "<IPython.core.display.Markdown object>"
      ]
     },
     "metadata": {},
     "output_type": "display_data"
    },
    {
     "data": {
      "text/markdown": [
       "- `LifeExpectancy` - Ожидаемая продоложительность жизни"
      ],
      "text/plain": [
       "<IPython.core.display.Markdown object>"
      ]
     },
     "metadata": {},
     "output_type": "display_data"
    },
    {
     "data": {
      "text/markdown": [
       "- `Sanitation` - Население, пользующееся как минимум базовыми услугами санитарии (%)"
      ],
      "text/plain": [
       "<IPython.core.display.Markdown object>"
      ]
     },
     "metadata": {},
     "output_type": "display_data"
    },
    {
     "data": {
      "text/markdown": [
       "- `MaternalMortality` - Коэффициент материнской смертности (%)"
      ],
      "text/plain": [
       "<IPython.core.display.Markdown object>"
      ]
     },
     "metadata": {},
     "output_type": "display_data"
    },
    {
     "data": {
      "text/markdown": [
       "- `Schooling` - Средняя продолжительность формального образования для лиц в возрасте 15–64 лет"
      ],
      "text/plain": [
       "<IPython.core.display.Markdown object>"
      ]
     },
     "metadata": {},
     "output_type": "display_data"
    }
   ],
   "source": [
    "dislay_some_fields_description([\n",
    "    F.LifeExpectancy.value,\n",
    "    F.Sanitation.value,\n",
    "    F.MaternalMortality.value,\n",
    "    F.Schooling.value,\n",
    "])"
   ]
  },
  {
   "cell_type": "markdown",
   "metadata": {},
   "source": [
    "А также посчитаем среднее по факторам иммунизации:"
   ]
  },
  {
   "cell_type": "code",
   "execution_count": 58,
   "metadata": {},
   "outputs": [
    {
     "data": {
      "text/markdown": [
       "**Описание полей:**"
      ],
      "text/plain": [
       "<IPython.core.display.Markdown object>"
      ]
     },
     "metadata": {},
     "output_type": "display_data"
    },
    {
     "data": {
      "text/markdown": [
       "- `MeaslesImmunization` - Охват первой дозой вакцины, содержащей коревой компонент (MCV1), среди детей в возрасте 1 года (%)"
      ],
      "text/plain": [
       "<IPython.core.display.Markdown object>"
      ]
     },
     "metadata": {},
     "output_type": "display_data"
    },
    {
     "data": {
      "text/markdown": [
       "- `PolioImmunization` - Охват иммунизацией от полиомиелита (Pol3) среди детей в возрасте 1 года (%)"
      ],
      "text/plain": [
       "<IPython.core.display.Markdown object>"
      ]
     },
     "metadata": {},
     "output_type": "display_data"
    },
    {
     "data": {
      "text/markdown": [
       "- `DiphtheriaImmunization` - Охват иммунизацией детей в возрасте 1 года дифтерийно-столбнячным анатоксином и коклюшем (АКДС3) (%)"
      ],
      "text/plain": [
       "<IPython.core.display.Markdown object>"
      ]
     },
     "metadata": {},
     "output_type": "display_data"
    }
   ],
   "source": [
    "dislay_some_fields_description([\n",
    "    F.MeaslesImmunization.value,\n",
    "    F.PolioImmunization.value,\n",
    "    F.DiphtheriaImmunization.value,\n",
    "])"
   ]
  },
  {
   "cell_type": "code",
   "execution_count": 59,
   "metadata": {},
   "outputs": [
    {
     "data": {
      "text/html": [
       "<div>\n",
       "<style scoped>\n",
       "    .dataframe tbody tr th:only-of-type {\n",
       "        vertical-align: middle;\n",
       "    }\n",
       "\n",
       "    .dataframe tbody tr th {\n",
       "        vertical-align: top;\n",
       "    }\n",
       "\n",
       "    .dataframe thead th {\n",
       "        text-align: right;\n",
       "    }\n",
       "</style>\n",
       "<table border=\"1\" class=\"dataframe\">\n",
       "  <thead>\n",
       "    <tr style=\"text-align: right;\">\n",
       "      <th></th>\n",
       "      <th>Location</th>\n",
       "      <th>LifeExpectancy</th>\n",
       "      <th>Sanitation</th>\n",
       "      <th>MaternalMortality</th>\n",
       "      <th>Schooling</th>\n",
       "      <th>MeaslesImmunization</th>\n",
       "      <th>PolioImmunization</th>\n",
       "      <th>DiphtheriaImmunization</th>\n",
       "      <th>ClusterKMeans</th>\n",
       "    </tr>\n",
       "  </thead>\n",
       "  <tbody>\n",
       "    <tr>\n",
       "      <th>0</th>\n",
       "      <td>Afghanistan</td>\n",
       "      <td>0.311479</td>\n",
       "      <td>0.294157</td>\n",
       "      <td>0.790629</td>\n",
       "      <td>0.174072</td>\n",
       "      <td>0.260947</td>\n",
       "      <td>0.312102</td>\n",
       "      <td>0.357973</td>\n",
       "      <td>1</td>\n",
       "    </tr>\n",
       "    <tr>\n",
       "      <th>1</th>\n",
       "      <td>Albania</td>\n",
       "      <td>0.809799</td>\n",
       "      <td>0.938775</td>\n",
       "      <td>0.004763</td>\n",
       "      <td>0.734675</td>\n",
       "      <td>0.963360</td>\n",
       "      <td>0.987261</td>\n",
       "      <td>0.986711</td>\n",
       "      <td>0</td>\n",
       "    </tr>\n",
       "    <tr>\n",
       "      <th>2</th>\n",
       "      <td>Algeria</td>\n",
       "      <td>0.773771</td>\n",
       "      <td>0.854055</td>\n",
       "      <td>0.093699</td>\n",
       "      <td>0.438705</td>\n",
       "      <td>0.843610</td>\n",
       "      <td>0.880801</td>\n",
       "      <td>0.892027</td>\n",
       "      <td>0</td>\n",
       "    </tr>\n",
       "    <tr>\n",
       "      <th>3</th>\n",
       "      <td>Angola</td>\n",
       "      <td>0.265493</td>\n",
       "      <td>0.355230</td>\n",
       "      <td>0.375455</td>\n",
       "      <td>0.327758</td>\n",
       "      <td>0.184093</td>\n",
       "      <td>0.000000</td>\n",
       "      <td>0.259136</td>\n",
       "      <td>1</td>\n",
       "    </tr>\n",
       "    <tr>\n",
       "      <th>4</th>\n",
       "      <td>Antigua and Barbuda</td>\n",
       "      <td>0.790757</td>\n",
       "      <td>0.874507</td>\n",
       "      <td>0.024859</td>\n",
       "      <td>0.615322</td>\n",
       "      <td>0.966041</td>\n",
       "      <td>0.955414</td>\n",
       "      <td>0.981728</td>\n",
       "      <td>0</td>\n",
       "    </tr>\n",
       "  </tbody>\n",
       "</table>\n",
       "</div>"
      ],
      "text/plain": [
       "              Location  LifeExpectancy  Sanitation  MaternalMortality  \\\n",
       "0          Afghanistan        0.311479    0.294157           0.790629   \n",
       "1              Albania        0.809799    0.938775           0.004763   \n",
       "2              Algeria        0.773771    0.854055           0.093699   \n",
       "3               Angola        0.265493    0.355230           0.375455   \n",
       "4  Antigua and Barbuda        0.790757    0.874507           0.024859   \n",
       "\n",
       "   Schooling  MeaslesImmunization  PolioImmunization  DiphtheriaImmunization  \\\n",
       "0   0.174072             0.260947           0.312102                0.357973   \n",
       "1   0.734675             0.963360           0.987261                0.986711   \n",
       "2   0.438705             0.843610           0.880801                0.892027   \n",
       "3   0.327758             0.184093           0.000000                0.259136   \n",
       "4   0.615322             0.966041           0.955414                0.981728   \n",
       "\n",
       "   ClusterKMeans  \n",
       "0              1  \n",
       "1              0  \n",
       "2              0  \n",
       "3              1  \n",
       "4              0  "
      ]
     },
     "execution_count": 59,
     "metadata": {},
     "output_type": "execute_result"
    }
   ],
   "source": [
    "# Признаки, которые будем рассматривать для построения диаграмм\n",
    "columns_profiles = [\n",
    "    F.LifeExpectancy.value,\n",
    "    F.Sanitation.value,\n",
    "    F.MaternalMortality.value,\n",
    "    F.Schooling.value,\n",
    "    F.MeaslesImmunization.value,\n",
    "    F.PolioImmunization.value,\n",
    "    F.DiphtheriaImmunization.value,\n",
    "]\n",
    "\n",
    "# Создадим таблицу с нужными столбцами\n",
    "profiles_data = cumulative_scaled_data[columns_profiles]\n",
    "# Переведем названия стран из индекса в столбец\n",
    "profiles_data = profiles_data.reset_index().rename(columns={'index': F.Location.value})\n",
    "# Добавим номер кластера\n",
    "profiles_data = profiles_data.merge(\n",
    "    location_clusters_data[[F.Location.value, FCluster.K_MEANS.value]],\n",
    "    on=F.Location.value,\n",
    "    how='left'\n",
    ")\n",
    "\n",
    "profiles_data.head()"
   ]
  },
  {
   "cell_type": "code",
   "execution_count": 60,
   "metadata": {},
   "outputs": [
    {
     "data": {
      "text/html": [
       "<div>\n",
       "<style scoped>\n",
       "    .dataframe tbody tr th:only-of-type {\n",
       "        vertical-align: middle;\n",
       "    }\n",
       "\n",
       "    .dataframe tbody tr th {\n",
       "        vertical-align: top;\n",
       "    }\n",
       "\n",
       "    .dataframe thead th {\n",
       "        text-align: right;\n",
       "    }\n",
       "</style>\n",
       "<table border=\"1\" class=\"dataframe\">\n",
       "  <thead>\n",
       "    <tr style=\"text-align: right;\">\n",
       "      <th></th>\n",
       "      <th>LifeExpectancy</th>\n",
       "      <th>Sanitation</th>\n",
       "      <th>MaternalMortality</th>\n",
       "      <th>Schooling</th>\n",
       "      <th>Immunization</th>\n",
       "    </tr>\n",
       "    <tr>\n",
       "      <th>ClusterKMeans</th>\n",
       "      <th></th>\n",
       "      <th></th>\n",
       "      <th></th>\n",
       "      <th></th>\n",
       "      <th></th>\n",
       "    </tr>\n",
       "  </thead>\n",
       "  <tbody>\n",
       "    <tr>\n",
       "      <th>0</th>\n",
       "      <td>0.779425</td>\n",
       "      <td>0.889438</td>\n",
       "      <td>0.029524</td>\n",
       "      <td>0.707315</td>\n",
       "      <td>0.905983</td>\n",
       "    </tr>\n",
       "    <tr>\n",
       "      <th>1</th>\n",
       "      <td>0.373404</td>\n",
       "      <td>0.309023</td>\n",
       "      <td>0.376128</td>\n",
       "      <td>0.342315</td>\n",
       "      <td>0.604153</td>\n",
       "    </tr>\n",
       "  </tbody>\n",
       "</table>\n",
       "</div>"
      ],
      "text/plain": [
       "               LifeExpectancy  Sanitation  MaternalMortality  Schooling  \\\n",
       "ClusterKMeans                                                             \n",
       "0                    0.779425    0.889438           0.029524   0.707315   \n",
       "1                    0.373404    0.309023           0.376128   0.342315   \n",
       "\n",
       "               Immunization  \n",
       "ClusterKMeans                \n",
       "0                  0.905983  \n",
       "1                  0.604153  "
      ]
     },
     "execution_count": 60,
     "metadata": {},
     "output_type": "execute_result"
    }
   ],
   "source": [
    "# Сгруппируем данные по кластерам и возьмем среднее по всем признакам\n",
    "profiles_clusters_data = profiles_data \\\n",
    "    .drop(columns=[F.Location.value]) \\\n",
    "    .groupby(FCluster.K_MEANS.value) \\\n",
    "    .agg('mean')\n",
    "\n",
    "# Возьмем среднее по факторам иммунизации\n",
    "profiles_clusters_data['Immunization'] = \\\n",
    "    profiles_clusters_data[[\n",
    "        F.MeaslesImmunization.value,\n",
    "        F.PolioImmunization.value,\n",
    "        F.DiphtheriaImmunization.value,\n",
    "    ]].mean(axis=1)\n",
    "\n",
    "# Удалим лишние столбцы\n",
    "profiles_clusters_data.drop(columns=[\n",
    "    F.MeaslesImmunization.value,\n",
    "    F.PolioImmunization.value,\n",
    "    F.DiphtheriaImmunization.value,\n",
    "], inplace=True)\n",
    "\n",
    "profiles_clusters_data.head()"
   ]
  },
  {
   "cell_type": "code",
   "execution_count": 61,
   "metadata": {},
   "outputs": [
    {
     "data": {
      "application/vnd.plotly.v1+json": {
       "config": {
        "plotlyServerURL": "https://plot.ly"
       },
       "data": [
        {
         "fill": "toself",
         "name": "Cluster 0",
         "r": [
          0.7794253322616295,
          0.8894383466260349,
          0.029524408082978876,
          0.7073151787790135,
          0.9059829341174003
         ],
         "theta": [
          "LifeExpectancy",
          "Sanitation",
          "MaternalMortality",
          "Schooling",
          "Immunization"
         ],
         "type": "scatterpolar"
        },
        {
         "fill": "toself",
         "name": "Cluster 1",
         "r": [
          0.3734042471575651,
          0.30902296534858875,
          0.3761280768398802,
          0.34231467425806955,
          0.6041530805765779
         ],
         "theta": [
          "LifeExpectancy",
          "Sanitation",
          "MaternalMortality",
          "Schooling",
          "Immunization"
         ],
         "type": "scatterpolar"
        }
       ],
       "layout": {
        "showlegend": true,
        "template": {
         "data": {
          "bar": [
           {
            "error_x": {
             "color": "#2a3f5f"
            },
            "error_y": {
             "color": "#2a3f5f"
            },
            "marker": {
             "line": {
              "color": "#E5ECF6",
              "width": 0.5
             },
             "pattern": {
              "fillmode": "overlay",
              "size": 10,
              "solidity": 0.2
             }
            },
            "type": "bar"
           }
          ],
          "barpolar": [
           {
            "marker": {
             "line": {
              "color": "#E5ECF6",
              "width": 0.5
             },
             "pattern": {
              "fillmode": "overlay",
              "size": 10,
              "solidity": 0.2
             }
            },
            "type": "barpolar"
           }
          ],
          "carpet": [
           {
            "aaxis": {
             "endlinecolor": "#2a3f5f",
             "gridcolor": "white",
             "linecolor": "white",
             "minorgridcolor": "white",
             "startlinecolor": "#2a3f5f"
            },
            "baxis": {
             "endlinecolor": "#2a3f5f",
             "gridcolor": "white",
             "linecolor": "white",
             "minorgridcolor": "white",
             "startlinecolor": "#2a3f5f"
            },
            "type": "carpet"
           }
          ],
          "choropleth": [
           {
            "colorbar": {
             "outlinewidth": 0,
             "ticks": ""
            },
            "type": "choropleth"
           }
          ],
          "contour": [
           {
            "colorbar": {
             "outlinewidth": 0,
             "ticks": ""
            },
            "colorscale": [
             [
              0,
              "#0d0887"
             ],
             [
              0.1111111111111111,
              "#46039f"
             ],
             [
              0.2222222222222222,
              "#7201a8"
             ],
             [
              0.3333333333333333,
              "#9c179e"
             ],
             [
              0.4444444444444444,
              "#bd3786"
             ],
             [
              0.5555555555555556,
              "#d8576b"
             ],
             [
              0.6666666666666666,
              "#ed7953"
             ],
             [
              0.7777777777777778,
              "#fb9f3a"
             ],
             [
              0.8888888888888888,
              "#fdca26"
             ],
             [
              1,
              "#f0f921"
             ]
            ],
            "type": "contour"
           }
          ],
          "contourcarpet": [
           {
            "colorbar": {
             "outlinewidth": 0,
             "ticks": ""
            },
            "type": "contourcarpet"
           }
          ],
          "heatmap": [
           {
            "colorbar": {
             "outlinewidth": 0,
             "ticks": ""
            },
            "colorscale": [
             [
              0,
              "#0d0887"
             ],
             [
              0.1111111111111111,
              "#46039f"
             ],
             [
              0.2222222222222222,
              "#7201a8"
             ],
             [
              0.3333333333333333,
              "#9c179e"
             ],
             [
              0.4444444444444444,
              "#bd3786"
             ],
             [
              0.5555555555555556,
              "#d8576b"
             ],
             [
              0.6666666666666666,
              "#ed7953"
             ],
             [
              0.7777777777777778,
              "#fb9f3a"
             ],
             [
              0.8888888888888888,
              "#fdca26"
             ],
             [
              1,
              "#f0f921"
             ]
            ],
            "type": "heatmap"
           }
          ],
          "heatmapgl": [
           {
            "colorbar": {
             "outlinewidth": 0,
             "ticks": ""
            },
            "colorscale": [
             [
              0,
              "#0d0887"
             ],
             [
              0.1111111111111111,
              "#46039f"
             ],
             [
              0.2222222222222222,
              "#7201a8"
             ],
             [
              0.3333333333333333,
              "#9c179e"
             ],
             [
              0.4444444444444444,
              "#bd3786"
             ],
             [
              0.5555555555555556,
              "#d8576b"
             ],
             [
              0.6666666666666666,
              "#ed7953"
             ],
             [
              0.7777777777777778,
              "#fb9f3a"
             ],
             [
              0.8888888888888888,
              "#fdca26"
             ],
             [
              1,
              "#f0f921"
             ]
            ],
            "type": "heatmapgl"
           }
          ],
          "histogram": [
           {
            "marker": {
             "pattern": {
              "fillmode": "overlay",
              "size": 10,
              "solidity": 0.2
             }
            },
            "type": "histogram"
           }
          ],
          "histogram2d": [
           {
            "colorbar": {
             "outlinewidth": 0,
             "ticks": ""
            },
            "colorscale": [
             [
              0,
              "#0d0887"
             ],
             [
              0.1111111111111111,
              "#46039f"
             ],
             [
              0.2222222222222222,
              "#7201a8"
             ],
             [
              0.3333333333333333,
              "#9c179e"
             ],
             [
              0.4444444444444444,
              "#bd3786"
             ],
             [
              0.5555555555555556,
              "#d8576b"
             ],
             [
              0.6666666666666666,
              "#ed7953"
             ],
             [
              0.7777777777777778,
              "#fb9f3a"
             ],
             [
              0.8888888888888888,
              "#fdca26"
             ],
             [
              1,
              "#f0f921"
             ]
            ],
            "type": "histogram2d"
           }
          ],
          "histogram2dcontour": [
           {
            "colorbar": {
             "outlinewidth": 0,
             "ticks": ""
            },
            "colorscale": [
             [
              0,
              "#0d0887"
             ],
             [
              0.1111111111111111,
              "#46039f"
             ],
             [
              0.2222222222222222,
              "#7201a8"
             ],
             [
              0.3333333333333333,
              "#9c179e"
             ],
             [
              0.4444444444444444,
              "#bd3786"
             ],
             [
              0.5555555555555556,
              "#d8576b"
             ],
             [
              0.6666666666666666,
              "#ed7953"
             ],
             [
              0.7777777777777778,
              "#fb9f3a"
             ],
             [
              0.8888888888888888,
              "#fdca26"
             ],
             [
              1,
              "#f0f921"
             ]
            ],
            "type": "histogram2dcontour"
           }
          ],
          "mesh3d": [
           {
            "colorbar": {
             "outlinewidth": 0,
             "ticks": ""
            },
            "type": "mesh3d"
           }
          ],
          "parcoords": [
           {
            "line": {
             "colorbar": {
              "outlinewidth": 0,
              "ticks": ""
             }
            },
            "type": "parcoords"
           }
          ],
          "pie": [
           {
            "automargin": true,
            "type": "pie"
           }
          ],
          "scatter": [
           {
            "fillpattern": {
             "fillmode": "overlay",
             "size": 10,
             "solidity": 0.2
            },
            "type": "scatter"
           }
          ],
          "scatter3d": [
           {
            "line": {
             "colorbar": {
              "outlinewidth": 0,
              "ticks": ""
             }
            },
            "marker": {
             "colorbar": {
              "outlinewidth": 0,
              "ticks": ""
             }
            },
            "type": "scatter3d"
           }
          ],
          "scattercarpet": [
           {
            "marker": {
             "colorbar": {
              "outlinewidth": 0,
              "ticks": ""
             }
            },
            "type": "scattercarpet"
           }
          ],
          "scattergeo": [
           {
            "marker": {
             "colorbar": {
              "outlinewidth": 0,
              "ticks": ""
             }
            },
            "type": "scattergeo"
           }
          ],
          "scattergl": [
           {
            "marker": {
             "colorbar": {
              "outlinewidth": 0,
              "ticks": ""
             }
            },
            "type": "scattergl"
           }
          ],
          "scattermapbox": [
           {
            "marker": {
             "colorbar": {
              "outlinewidth": 0,
              "ticks": ""
             }
            },
            "type": "scattermapbox"
           }
          ],
          "scatterpolar": [
           {
            "marker": {
             "colorbar": {
              "outlinewidth": 0,
              "ticks": ""
             }
            },
            "type": "scatterpolar"
           }
          ],
          "scatterpolargl": [
           {
            "marker": {
             "colorbar": {
              "outlinewidth": 0,
              "ticks": ""
             }
            },
            "type": "scatterpolargl"
           }
          ],
          "scatterternary": [
           {
            "marker": {
             "colorbar": {
              "outlinewidth": 0,
              "ticks": ""
             }
            },
            "type": "scatterternary"
           }
          ],
          "surface": [
           {
            "colorbar": {
             "outlinewidth": 0,
             "ticks": ""
            },
            "colorscale": [
             [
              0,
              "#0d0887"
             ],
             [
              0.1111111111111111,
              "#46039f"
             ],
             [
              0.2222222222222222,
              "#7201a8"
             ],
             [
              0.3333333333333333,
              "#9c179e"
             ],
             [
              0.4444444444444444,
              "#bd3786"
             ],
             [
              0.5555555555555556,
              "#d8576b"
             ],
             [
              0.6666666666666666,
              "#ed7953"
             ],
             [
              0.7777777777777778,
              "#fb9f3a"
             ],
             [
              0.8888888888888888,
              "#fdca26"
             ],
             [
              1,
              "#f0f921"
             ]
            ],
            "type": "surface"
           }
          ],
          "table": [
           {
            "cells": {
             "fill": {
              "color": "#EBF0F8"
             },
             "line": {
              "color": "white"
             }
            },
            "header": {
             "fill": {
              "color": "#C8D4E3"
             },
             "line": {
              "color": "white"
             }
            },
            "type": "table"
           }
          ]
         },
         "layout": {
          "annotationdefaults": {
           "arrowcolor": "#2a3f5f",
           "arrowhead": 0,
           "arrowwidth": 1
          },
          "autotypenumbers": "strict",
          "coloraxis": {
           "colorbar": {
            "outlinewidth": 0,
            "ticks": ""
           }
          },
          "colorscale": {
           "diverging": [
            [
             0,
             "#8e0152"
            ],
            [
             0.1,
             "#c51b7d"
            ],
            [
             0.2,
             "#de77ae"
            ],
            [
             0.3,
             "#f1b6da"
            ],
            [
             0.4,
             "#fde0ef"
            ],
            [
             0.5,
             "#f7f7f7"
            ],
            [
             0.6,
             "#e6f5d0"
            ],
            [
             0.7,
             "#b8e186"
            ],
            [
             0.8,
             "#7fbc41"
            ],
            [
             0.9,
             "#4d9221"
            ],
            [
             1,
             "#276419"
            ]
           ],
           "sequential": [
            [
             0,
             "#0d0887"
            ],
            [
             0.1111111111111111,
             "#46039f"
            ],
            [
             0.2222222222222222,
             "#7201a8"
            ],
            [
             0.3333333333333333,
             "#9c179e"
            ],
            [
             0.4444444444444444,
             "#bd3786"
            ],
            [
             0.5555555555555556,
             "#d8576b"
            ],
            [
             0.6666666666666666,
             "#ed7953"
            ],
            [
             0.7777777777777778,
             "#fb9f3a"
            ],
            [
             0.8888888888888888,
             "#fdca26"
            ],
            [
             1,
             "#f0f921"
            ]
           ],
           "sequentialminus": [
            [
             0,
             "#0d0887"
            ],
            [
             0.1111111111111111,
             "#46039f"
            ],
            [
             0.2222222222222222,
             "#7201a8"
            ],
            [
             0.3333333333333333,
             "#9c179e"
            ],
            [
             0.4444444444444444,
             "#bd3786"
            ],
            [
             0.5555555555555556,
             "#d8576b"
            ],
            [
             0.6666666666666666,
             "#ed7953"
            ],
            [
             0.7777777777777778,
             "#fb9f3a"
            ],
            [
             0.8888888888888888,
             "#fdca26"
            ],
            [
             1,
             "#f0f921"
            ]
           ]
          },
          "colorway": [
           "#636efa",
           "#EF553B",
           "#00cc96",
           "#ab63fa",
           "#FFA15A",
           "#19d3f3",
           "#FF6692",
           "#B6E880",
           "#FF97FF",
           "#FECB52"
          ],
          "font": {
           "color": "#2a3f5f"
          },
          "geo": {
           "bgcolor": "white",
           "lakecolor": "white",
           "landcolor": "#E5ECF6",
           "showlakes": true,
           "showland": true,
           "subunitcolor": "white"
          },
          "hoverlabel": {
           "align": "left"
          },
          "hovermode": "closest",
          "mapbox": {
           "style": "light"
          },
          "paper_bgcolor": "white",
          "plot_bgcolor": "#E5ECF6",
          "polar": {
           "angularaxis": {
            "gridcolor": "white",
            "linecolor": "white",
            "ticks": ""
           },
           "bgcolor": "#E5ECF6",
           "radialaxis": {
            "gridcolor": "white",
            "linecolor": "white",
            "ticks": ""
           }
          },
          "scene": {
           "xaxis": {
            "backgroundcolor": "#E5ECF6",
            "gridcolor": "white",
            "gridwidth": 2,
            "linecolor": "white",
            "showbackground": true,
            "ticks": "",
            "zerolinecolor": "white"
           },
           "yaxis": {
            "backgroundcolor": "#E5ECF6",
            "gridcolor": "white",
            "gridwidth": 2,
            "linecolor": "white",
            "showbackground": true,
            "ticks": "",
            "zerolinecolor": "white"
           },
           "zaxis": {
            "backgroundcolor": "#E5ECF6",
            "gridcolor": "white",
            "gridwidth": 2,
            "linecolor": "white",
            "showbackground": true,
            "ticks": "",
            "zerolinecolor": "white"
           }
          },
          "shapedefaults": {
           "line": {
            "color": "#2a3f5f"
           }
          },
          "ternary": {
           "aaxis": {
            "gridcolor": "white",
            "linecolor": "white",
            "ticks": ""
           },
           "baxis": {
            "gridcolor": "white",
            "linecolor": "white",
            "ticks": ""
           },
           "bgcolor": "#E5ECF6",
           "caxis": {
            "gridcolor": "white",
            "linecolor": "white",
            "ticks": ""
           }
          },
          "title": {
           "x": 0.05
          },
          "xaxis": {
           "automargin": true,
           "gridcolor": "white",
           "linecolor": "white",
           "ticks": "",
           "title": {
            "standoff": 15
           },
           "zerolinecolor": "white",
           "zerolinewidth": 2
          },
          "yaxis": {
           "automargin": true,
           "gridcolor": "white",
           "linecolor": "white",
           "ticks": "",
           "title": {
            "standoff": 15
           },
           "zerolinecolor": "white",
           "zerolinewidth": 2
          }
         }
        },
        "title": {
         "text": "Сравнение средних значений признаков в кластерах стран"
        }
       }
      }
     },
     "metadata": {},
     "output_type": "display_data"
    },
    {
     "data": {
      "text/html": [
       "<img src=\"../plotly/clusters_profiles_03.png\" /><br />"
      ],
      "text/plain": [
       "<IPython.core.display.HTML object>"
      ]
     },
     "metadata": {},
     "output_type": "display_data"
    },
    {
     "data": {
      "text/html": [
       "<em>html графика в файле <a href=\"../plotly/clusters_profiles_03.html\" target=\"_blank\">../plotly/clusters_profiles_03.html</a></em>"
      ],
      "text/plain": [
       "<IPython.core.display.HTML object>"
      ]
     },
     "metadata": {},
     "output_type": "display_data"
    }
   ],
   "source": [
    "# Выведем полярную диаграмму с данными кластеров\n",
    "display_clusters_profiles(\n",
    "    profiles_clusters_data, \n",
    "    file_name='clusters_profiles_03', \n",
    "    should_display_table=False, \n",
    "    is_custom_size=False,\n",
    ")"
   ]
  },
  {
   "cell_type": "markdown",
   "metadata": {},
   "source": [
    "По диаграмме видно, что в **кластере 0** больше значения признаков:\n",
    "- Процент населения, имеющий доступ к базовым услугам санитарии\n",
    "- Ожидаемая продолжительность жизни\n",
    "- Иммунизация\n",
    "- Время обучения\n",
    "\n",
    "И практически в нуле материнская смертность.\n",
    "\n",
    "В **кластере 1** выше материнская смертность.\\\n",
    "А все остальные показатели, соответственно, ниже.\n",
    "\n",
    "Таким образом, страны с более благоприятными условиями для жизни попали в кластер 0,\\\n",
    "а с менее благоприятными - в кластер 1."
   ]
  },
  {
   "cell_type": "markdown",
   "metadata": {},
   "source": [
    "## Добавление признака кластера в исходную таблицу"
   ]
  },
  {
   "cell_type": "markdown",
   "metadata": {},
   "source": [
    "Добавим признак кластера в исходную таблицу."
   ]
  },
  {
   "cell_type": "code",
   "execution_count": 62,
   "metadata": {},
   "outputs": [
    {
     "data": {
      "text/html": [
       "<div>\n",
       "<style scoped>\n",
       "    .dataframe tbody tr th:only-of-type {\n",
       "        vertical-align: middle;\n",
       "    }\n",
       "\n",
       "    .dataframe tbody tr th {\n",
       "        vertical-align: top;\n",
       "    }\n",
       "\n",
       "    .dataframe thead th {\n",
       "        text-align: right;\n",
       "    }\n",
       "</style>\n",
       "<table border=\"1\" class=\"dataframe\">\n",
       "  <thead>\n",
       "    <tr style=\"text-align: right;\">\n",
       "      <th></th>\n",
       "      <th>ParentLocationCode</th>\n",
       "      <th>ParentLocation</th>\n",
       "      <th>SpatialDimValueCode</th>\n",
       "      <th>Location</th>\n",
       "      <th>Period</th>\n",
       "      <th>AdultMortality</th>\n",
       "      <th>Homicides</th>\n",
       "      <th>MaternalMortality</th>\n",
       "      <th>AdultNcdMortality</th>\n",
       "      <th>AdultNcdMortality117</th>\n",
       "      <th>...</th>\n",
       "      <th>Sanitation</th>\n",
       "      <th>DrinkingWater</th>\n",
       "      <th>HealthCareCosts</th>\n",
       "      <th>HealthCareCostsGdp</th>\n",
       "      <th>HealthCareCostsPerCapita</th>\n",
       "      <th>GdpPerCapita</th>\n",
       "      <th>Population</th>\n",
       "      <th>Schooling</th>\n",
       "      <th>ClusterKMeans</th>\n",
       "      <th>LifeExpectancy</th>\n",
       "    </tr>\n",
       "  </thead>\n",
       "  <tbody>\n",
       "    <tr>\n",
       "      <th>0</th>\n",
       "      <td>AFR</td>\n",
       "      <td>Africa</td>\n",
       "      <td>AGO</td>\n",
       "      <td>Angola</td>\n",
       "      <td>2000</td>\n",
       "      <td>34.56</td>\n",
       "      <td>0.01331</td>\n",
       "      <td>0.859921</td>\n",
       "      <td>30.5</td>\n",
       "      <td>0.028126</td>\n",
       "      <td>...</td>\n",
       "      <td>27.56</td>\n",
       "      <td>41.14</td>\n",
       "      <td>2.74</td>\n",
       "      <td>1.11</td>\n",
       "      <td>7.66</td>\n",
       "      <td>563.733796</td>\n",
       "      <td>16194869.0</td>\n",
       "      <td>5.027188</td>\n",
       "      <td>1</td>\n",
       "      <td>49.37</td>\n",
       "    </tr>\n",
       "    <tr>\n",
       "      <th>1</th>\n",
       "      <td>AFR</td>\n",
       "      <td>Africa</td>\n",
       "      <td>AGO</td>\n",
       "      <td>Angola</td>\n",
       "      <td>2001</td>\n",
       "      <td>33.86</td>\n",
       "      <td>0.01310</td>\n",
       "      <td>0.799641</td>\n",
       "      <td>29.7</td>\n",
       "      <td>0.027503</td>\n",
       "      <td>...</td>\n",
       "      <td>28.99</td>\n",
       "      <td>42.25</td>\n",
       "      <td>5.97</td>\n",
       "      <td>2.05</td>\n",
       "      <td>13.35</td>\n",
       "      <td>533.586202</td>\n",
       "      <td>16747208.0</td>\n",
       "      <td>5.092250</td>\n",
       "      <td>1</td>\n",
       "      <td>50.06</td>\n",
       "    </tr>\n",
       "    <tr>\n",
       "      <th>2</th>\n",
       "      <td>AFR</td>\n",
       "      <td>Africa</td>\n",
       "      <td>AGO</td>\n",
       "      <td>Angola</td>\n",
       "      <td>2002</td>\n",
       "      <td>32.51</td>\n",
       "      <td>0.01288</td>\n",
       "      <td>0.758272</td>\n",
       "      <td>29.4</td>\n",
       "      <td>0.027049</td>\n",
       "      <td>...</td>\n",
       "      <td>30.42</td>\n",
       "      <td>43.38</td>\n",
       "      <td>4.19</td>\n",
       "      <td>1.31</td>\n",
       "      <td>11.54</td>\n",
       "      <td>882.147847</td>\n",
       "      <td>17327699.0</td>\n",
       "      <td>5.157312</td>\n",
       "      <td>1</td>\n",
       "      <td>51.06</td>\n",
       "    </tr>\n",
       "    <tr>\n",
       "      <th>3</th>\n",
       "      <td>AFR</td>\n",
       "      <td>Africa</td>\n",
       "      <td>AGO</td>\n",
       "      <td>Angola</td>\n",
       "      <td>2003</td>\n",
       "      <td>32.16</td>\n",
       "      <td>0.01265</td>\n",
       "      <td>0.676496</td>\n",
       "      <td>29.3</td>\n",
       "      <td>0.026962</td>\n",
       "      <td>...</td>\n",
       "      <td>31.86</td>\n",
       "      <td>44.36</td>\n",
       "      <td>4.26</td>\n",
       "      <td>1.47</td>\n",
       "      <td>14.55</td>\n",
       "      <td>992.698979</td>\n",
       "      <td>17943712.0</td>\n",
       "      <td>5.222375</td>\n",
       "      <td>1</td>\n",
       "      <td>51.74</td>\n",
       "    </tr>\n",
       "    <tr>\n",
       "      <th>4</th>\n",
       "      <td>AFR</td>\n",
       "      <td>Africa</td>\n",
       "      <td>AGO</td>\n",
       "      <td>Angola</td>\n",
       "      <td>2004</td>\n",
       "      <td>32.24</td>\n",
       "      <td>0.01229</td>\n",
       "      <td>0.594192</td>\n",
       "      <td>29.0</td>\n",
       "      <td>0.026300</td>\n",
       "      <td>...</td>\n",
       "      <td>33.29</td>\n",
       "      <td>45.35</td>\n",
       "      <td>5.66</td>\n",
       "      <td>1.69</td>\n",
       "      <td>21.36</td>\n",
       "      <td>1266.210864</td>\n",
       "      <td>18600423.0</td>\n",
       "      <td>5.287437</td>\n",
       "      <td>1</td>\n",
       "      <td>52.36</td>\n",
       "    </tr>\n",
       "  </tbody>\n",
       "</table>\n",
       "<p>5 rows × 40 columns</p>\n",
       "</div>"
      ],
      "text/plain": [
       "  ParentLocationCode ParentLocation SpatialDimValueCode Location  Period  \\\n",
       "0                AFR         Africa                 AGO   Angola    2000   \n",
       "1                AFR         Africa                 AGO   Angola    2001   \n",
       "2                AFR         Africa                 AGO   Angola    2002   \n",
       "3                AFR         Africa                 AGO   Angola    2003   \n",
       "4                AFR         Africa                 AGO   Angola    2004   \n",
       "\n",
       "   AdultMortality  Homicides  MaternalMortality  AdultNcdMortality  \\\n",
       "0           34.56    0.01331           0.859921               30.5   \n",
       "1           33.86    0.01310           0.799641               29.7   \n",
       "2           32.51    0.01288           0.758272               29.4   \n",
       "3           32.16    0.01265           0.676496               29.3   \n",
       "4           32.24    0.01229           0.594192               29.0   \n",
       "\n",
       "   AdultNcdMortality117  ...  Sanitation  DrinkingWater  HealthCareCosts  \\\n",
       "0              0.028126  ...       27.56          41.14             2.74   \n",
       "1              0.027503  ...       28.99          42.25             5.97   \n",
       "2              0.027049  ...       30.42          43.38             4.19   \n",
       "3              0.026962  ...       31.86          44.36             4.26   \n",
       "4              0.026300  ...       33.29          45.35             5.66   \n",
       "\n",
       "   HealthCareCostsGdp  HealthCareCostsPerCapita  GdpPerCapita  Population  \\\n",
       "0                1.11                      7.66    563.733796  16194869.0   \n",
       "1                2.05                     13.35    533.586202  16747208.0   \n",
       "2                1.31                     11.54    882.147847  17327699.0   \n",
       "3                1.47                     14.55    992.698979  17943712.0   \n",
       "4                1.69                     21.36   1266.210864  18600423.0   \n",
       "\n",
       "   Schooling  ClusterKMeans  LifeExpectancy  \n",
       "0   5.027188              1           49.37  \n",
       "1   5.092250              1           50.06  \n",
       "2   5.157312              1           51.06  \n",
       "3   5.222375              1           51.74  \n",
       "4   5.287437              1           52.36  \n",
       "\n",
       "[5 rows x 40 columns]"
      ]
     },
     "execution_count": 62,
     "metadata": {},
     "output_type": "execute_result"
    }
   ],
   "source": [
    "# Если кластер еще не был добавлен в исходную таблицу\n",
    "if (not F.ClusterKMeans.value in list(data_source.columns)):   \n",
    "    data_source = data_source.merge(\n",
    "        location_clusters_data[[F.SpatialDimValueCode.value, FCluster.K_MEANS.value]],\n",
    "        on=F.SpatialDimValueCode.value,\n",
    "        how='left',\n",
    "    )\n",
    "    data_source = move_column_to_end_table(data_source, F.LifeExpectancy.value)\n",
    "    \n",
    "    # Сохраним полученную таблицу для дальнейшего использования\n",
    "    data_source.to_csv('../data/cumulative_life_expectancy_prepared.csv', index=False)\n",
    "\n",
    "data_source.head()"
   ]
  },
  {
   "cell_type": "markdown",
   "metadata": {},
   "source": [
    "## Корреляция признака кластера с целевой переменной"
   ]
  },
  {
   "cell_type": "markdown",
   "metadata": {},
   "source": [
    "Посмотрим, какую корреляцию с целевой переменной дает новый признак."
   ]
  },
  {
   "cell_type": "code",
   "execution_count": 63,
   "metadata": {},
   "outputs": [
    {
     "data": {
      "image/png": "[encoded data removed]",
      "text/plain": [
       "<Figure size 1440x576 with 1 Axes>"
      ]
     },
     "metadata": {
      "needs_background": "light"
     },
     "output_type": "display_data"
    },
    {
     "data": {
      "text/html": [
       "<div style=\"margin-left: 45px\"}><font color=\"LightCoral\"><strong>Положительная корреляция</strong></font><br /><font color=\"DodgerBlue\"><strong>Отрицательная корреляция</strong></font></div>"
      ],
      "text/plain": [
       "<IPython.core.display.HTML object>"
      ]
     },
     "metadata": {},
     "output_type": "display_data"
    }
   ],
   "source": [
    "display_corellation_by_target(data_source, figsize=(20, 8))"
   ]
  },
  {
   "cell_type": "markdown",
   "metadata": {},
   "source": [
    "Признак кластера имеет коэффициент корреляции с целевым близкий к 0.8, что неплохо.\n",
    "\n",
    "Также признак имеет отрицательную корреляцию с ожидаемой продолжительностью жизни.\n",
    "\n",
    "Поскольку в кластер 0 попали страны с более благополучными условиями, а в кластер 1 с менее, то получается, \\\n",
    "что чем меньше значение кластера (0), тем больше ожидаемая продолжительность жизни\\\n",
    "а чем больше значение кластера (1), тем меньше ожидаемая продолжительность жизни.\n",
    "\n",
    "Поэтому корреляция отрицательная."
   ]
  },
  {
   "cell_type": "markdown",
   "metadata": {},
   "source": [
    "> Логика создания признака кластера продублирована в классе [LocationCluster](../classes/LocationCluster.py) из папки [classes](../classes/)."
   ]
  }
 ],
 "metadata": {
  "kernelspec": {
   "display_name": "Python 3",
   "language": "python",
   "name": "python3"
  },
  "language_info": {
   "codemirror_mode": {
    "name": "ipython",
    "version": 3
   },
   "file_extension": ".py",
   "mimetype": "text/x-python",
   "name": "python",
   "nbconvert_exporter": "python",
   "pygments_lexer": "ipython3",
   "version": "3.9.10"
  }
 },
 "nbformat": 4,
 "nbformat_minor": 2
}
