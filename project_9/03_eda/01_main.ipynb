{
 "cells": [
  {
   "cell_type": "markdown",
   "metadata": {},
   "source": [
    "# Исследование данных"
   ]
  },
  {
   "cell_type": "code",
   "execution_count": 6,
   "metadata": {},
   "outputs": [],
   "source": [
    "import sys\n",
    "# Добавим папку проекта в список системных директорий, чтобы Python видел путь к папке utils\n",
    "sys.path.append('..')"
   ]
  },
  {
   "cell_type": "code",
   "execution_count": 7,
   "metadata": {},
   "outputs": [],
   "source": [
    "import pandas as pd\n",
    "\n",
    "from utils.constants import F\n",
    "from utils.display_content import (\n",
    "    display_base_fields_description,\n",
    ")\n",
    "\n",
    "from warnings import simplefilter\n",
    "simplefilter('ignore')"
   ]
  },
  {
   "cell_type": "code",
   "execution_count": 8,
   "metadata": {},
   "outputs": [
    {
     "data": {
      "text/html": [
       "<div>\n",
       "<style scoped>\n",
       "    .dataframe tbody tr th:only-of-type {\n",
       "        vertical-align: middle;\n",
       "    }\n",
       "\n",
       "    .dataframe tbody tr th {\n",
       "        vertical-align: top;\n",
       "    }\n",
       "\n",
       "    .dataframe thead th {\n",
       "        text-align: right;\n",
       "    }\n",
       "</style>\n",
       "<table border=\"1\" class=\"dataframe\">\n",
       "  <thead>\n",
       "    <tr style=\"text-align: right;\">\n",
       "      <th></th>\n",
       "      <th>ParentLocationCode</th>\n",
       "      <th>ParentLocation</th>\n",
       "      <th>SpatialDimValueCode</th>\n",
       "      <th>Location</th>\n",
       "      <th>Period</th>\n",
       "      <th>AdultMortality</th>\n",
       "      <th>Homicides</th>\n",
       "      <th>MaternalMortality</th>\n",
       "      <th>AdultNcdMortality</th>\n",
       "      <th>AdultNcdMortality117</th>\n",
       "      <th>...</th>\n",
       "      <th>BmiTeenagerOverweight2</th>\n",
       "      <th>Sanitation</th>\n",
       "      <th>DrinkingWater</th>\n",
       "      <th>HealthCareCosts</th>\n",
       "      <th>HealthCareCostsGdp</th>\n",
       "      <th>HealthCareCostsPerCapita</th>\n",
       "      <th>GdpPerCapita</th>\n",
       "      <th>Population</th>\n",
       "      <th>Schooling</th>\n",
       "      <th>LifeExpectancy</th>\n",
       "    </tr>\n",
       "  </thead>\n",
       "  <tbody>\n",
       "    <tr>\n",
       "      <th>0</th>\n",
       "      <td>AFR</td>\n",
       "      <td>Africa</td>\n",
       "      <td>AGO</td>\n",
       "      <td>Angola</td>\n",
       "      <td>2000</td>\n",
       "      <td>34.56</td>\n",
       "      <td>0.01331</td>\n",
       "      <td>0.859921</td>\n",
       "      <td>30.5</td>\n",
       "      <td>0.028126</td>\n",
       "      <td>...</td>\n",
       "      <td>0.99</td>\n",
       "      <td>27.56</td>\n",
       "      <td>41.14</td>\n",
       "      <td>2.74</td>\n",
       "      <td>1.11</td>\n",
       "      <td>7.66</td>\n",
       "      <td>563.733796</td>\n",
       "      <td>16194869.0</td>\n",
       "      <td>5.027188</td>\n",
       "      <td>49.37</td>\n",
       "    </tr>\n",
       "    <tr>\n",
       "      <th>1</th>\n",
       "      <td>AFR</td>\n",
       "      <td>Africa</td>\n",
       "      <td>AGO</td>\n",
       "      <td>Angola</td>\n",
       "      <td>2001</td>\n",
       "      <td>33.86</td>\n",
       "      <td>0.01310</td>\n",
       "      <td>0.799641</td>\n",
       "      <td>29.7</td>\n",
       "      <td>0.027503</td>\n",
       "      <td>...</td>\n",
       "      <td>1.07</td>\n",
       "      <td>28.99</td>\n",
       "      <td>42.25</td>\n",
       "      <td>5.97</td>\n",
       "      <td>2.05</td>\n",
       "      <td>13.35</td>\n",
       "      <td>533.586202</td>\n",
       "      <td>16747208.0</td>\n",
       "      <td>5.092250</td>\n",
       "      <td>50.06</td>\n",
       "    </tr>\n",
       "    <tr>\n",
       "      <th>2</th>\n",
       "      <td>AFR</td>\n",
       "      <td>Africa</td>\n",
       "      <td>AGO</td>\n",
       "      <td>Angola</td>\n",
       "      <td>2002</td>\n",
       "      <td>32.51</td>\n",
       "      <td>0.01288</td>\n",
       "      <td>0.758272</td>\n",
       "      <td>29.4</td>\n",
       "      <td>0.027049</td>\n",
       "      <td>...</td>\n",
       "      <td>1.14</td>\n",
       "      <td>30.42</td>\n",
       "      <td>43.38</td>\n",
       "      <td>4.19</td>\n",
       "      <td>1.31</td>\n",
       "      <td>11.54</td>\n",
       "      <td>882.147847</td>\n",
       "      <td>17327699.0</td>\n",
       "      <td>5.157312</td>\n",
       "      <td>51.06</td>\n",
       "    </tr>\n",
       "    <tr>\n",
       "      <th>3</th>\n",
       "      <td>AFR</td>\n",
       "      <td>Africa</td>\n",
       "      <td>AGO</td>\n",
       "      <td>Angola</td>\n",
       "      <td>2003</td>\n",
       "      <td>32.16</td>\n",
       "      <td>0.01265</td>\n",
       "      <td>0.676496</td>\n",
       "      <td>29.3</td>\n",
       "      <td>0.026962</td>\n",
       "      <td>...</td>\n",
       "      <td>1.22</td>\n",
       "      <td>31.86</td>\n",
       "      <td>44.36</td>\n",
       "      <td>4.26</td>\n",
       "      <td>1.47</td>\n",
       "      <td>14.55</td>\n",
       "      <td>992.698979</td>\n",
       "      <td>17943712.0</td>\n",
       "      <td>5.222375</td>\n",
       "      <td>51.74</td>\n",
       "    </tr>\n",
       "    <tr>\n",
       "      <th>4</th>\n",
       "      <td>AFR</td>\n",
       "      <td>Africa</td>\n",
       "      <td>AGO</td>\n",
       "      <td>Angola</td>\n",
       "      <td>2004</td>\n",
       "      <td>32.24</td>\n",
       "      <td>0.01229</td>\n",
       "      <td>0.594192</td>\n",
       "      <td>29.0</td>\n",
       "      <td>0.026300</td>\n",
       "      <td>...</td>\n",
       "      <td>1.31</td>\n",
       "      <td>33.29</td>\n",
       "      <td>45.35</td>\n",
       "      <td>5.66</td>\n",
       "      <td>1.69</td>\n",
       "      <td>21.36</td>\n",
       "      <td>1266.210864</td>\n",
       "      <td>18600423.0</td>\n",
       "      <td>5.287437</td>\n",
       "      <td>52.36</td>\n",
       "    </tr>\n",
       "  </tbody>\n",
       "</table>\n",
       "<p>5 rows × 39 columns</p>\n",
       "</div>"
      ],
      "text/plain": [
       "  ParentLocationCode ParentLocation SpatialDimValueCode Location  Period  \\\n",
       "0                AFR         Africa                 AGO   Angola    2000   \n",
       "1                AFR         Africa                 AGO   Angola    2001   \n",
       "2                AFR         Africa                 AGO   Angola    2002   \n",
       "3                AFR         Africa                 AGO   Angola    2003   \n",
       "4                AFR         Africa                 AGO   Angola    2004   \n",
       "\n",
       "   AdultMortality  Homicides  MaternalMortality  AdultNcdMortality  \\\n",
       "0           34.56    0.01331           0.859921               30.5   \n",
       "1           33.86    0.01310           0.799641               29.7   \n",
       "2           32.51    0.01288           0.758272               29.4   \n",
       "3           32.16    0.01265           0.676496               29.3   \n",
       "4           32.24    0.01229           0.594192               29.0   \n",
       "\n",
       "   AdultNcdMortality117  ...  BmiTeenagerOverweight2  Sanitation  \\\n",
       "0              0.028126  ...                    0.99       27.56   \n",
       "1              0.027503  ...                    1.07       28.99   \n",
       "2              0.027049  ...                    1.14       30.42   \n",
       "3              0.026962  ...                    1.22       31.86   \n",
       "4              0.026300  ...                    1.31       33.29   \n",
       "\n",
       "   DrinkingWater  HealthCareCosts  HealthCareCostsGdp  \\\n",
       "0          41.14             2.74                1.11   \n",
       "1          42.25             5.97                2.05   \n",
       "2          43.38             4.19                1.31   \n",
       "3          44.36             4.26                1.47   \n",
       "4          45.35             5.66                1.69   \n",
       "\n",
       "   HealthCareCostsPerCapita  GdpPerCapita  Population  Schooling  \\\n",
       "0                      7.66    563.733796  16194869.0   5.027188   \n",
       "1                     13.35    533.586202  16747208.0   5.092250   \n",
       "2                     11.54    882.147847  17327699.0   5.157312   \n",
       "3                     14.55    992.698979  17943712.0   5.222375   \n",
       "4                     21.36   1266.210864  18600423.0   5.287437   \n",
       "\n",
       "   LifeExpectancy  \n",
       "0           49.37  \n",
       "1           50.06  \n",
       "2           51.06  \n",
       "3           51.74  \n",
       "4           52.36  \n",
       "\n",
       "[5 rows x 39 columns]"
      ]
     },
     "execution_count": 8,
     "metadata": {},
     "output_type": "execute_result"
    }
   ],
   "source": [
    "# Загрузим таблицу\n",
    "data = pd.read_csv('../data/cumulative_life_expectancy_prepared.csv')\n",
    "\n",
    "data.head()"
   ]
  },
  {
   "cell_type": "code",
   "execution_count": 9,
   "metadata": {},
   "outputs": [
    {
     "data": {
      "text/markdown": [
       "### Описание полей таблицы"
      ],
      "text/plain": [
       "<IPython.core.display.Markdown object>"
      ]
     },
     "metadata": {},
     "output_type": "display_data"
    },
    {
     "data": {
      "text/html": [
       "<strong>Средняя продолжительность жизни в стране (целевая переменная)</strong>"
      ],
      "text/plain": [
       "<IPython.core.display.HTML object>"
      ]
     },
     "metadata": {},
     "output_type": "display_data"
    },
    {
     "data": {
      "text/html": [
       "<ul><li><code>LifeExpectancy</code> - Ожидаемая продоложительность жизни</li></ul>"
      ],
      "text/plain": [
       "<IPython.core.display.HTML object>"
      ]
     },
     "metadata": {},
     "output_type": "display_data"
    },
    {
     "data": {
      "text/html": [
       "<strong>Время измерений</strong>"
      ],
      "text/plain": [
       "<IPython.core.display.HTML object>"
      ]
     },
     "metadata": {},
     "output_type": "display_data"
    },
    {
     "data": {
      "text/html": [
       "<ul><li><code>Period</code> - Год</li></ul>"
      ],
      "text/plain": [
       "<IPython.core.display.HTML object>"
      ]
     },
     "metadata": {},
     "output_type": "display_data"
    },
    {
     "data": {
      "text/html": [
       "<strong>Названия и коды страны и ее региона</strong>"
      ],
      "text/plain": [
       "<IPython.core.display.HTML object>"
      ]
     },
     "metadata": {},
     "output_type": "display_data"
    },
    {
     "data": {
      "text/html": [
       "<ul><li><code>ParentLocationCode</code> - Код региона</li><li><code>ParentLocation</code> - Название региона</li><li><code>SpatialDimValueCode</code> - Код страны</li><li><code>Location</code> - Название страны</li></ul>"
      ],
      "text/plain": [
       "<IPython.core.display.HTML object>"
      ]
     },
     "metadata": {},
     "output_type": "display_data"
    },
    {
     "data": {
      "text/html": [
       "<strong>Основные показатели страны (ВВП, численность населения и пр.)</strong>"
      ],
      "text/plain": [
       "<IPython.core.display.HTML object>"
      ]
     },
     "metadata": {},
     "output_type": "display_data"
    },
    {
     "data": {
      "text/html": [
       "<ul><li><code>GdpPerCapita</code> - ВВП на душу населения (в долл. США)</li><li><code>Population</code> - Общая численность населения</li><li><code>Schooling</code> - Средняя продолжительность формального образования для лиц в возрасте 15–64 лет</li></ul>"
      ],
      "text/plain": [
       "<IPython.core.display.HTML object>"
      ]
     },
     "metadata": {},
     "output_type": "display_data"
    },
    {
     "data": {
      "text/html": [
       "<strong>Факторы, связанные с медициной и санитарией в стране</strong>"
      ],
      "text/plain": [
       "<IPython.core.display.HTML object>"
      ]
     },
     "metadata": {},
     "output_type": "display_data"
    },
    {
     "data": {
      "text/html": [
       "<ul><li><code>Sanitation</code> - Население, пользующееся как минимум базовыми услугами санитарии (%)</li><li><code>DrinkingWater</code> - Население, пользующееся по крайней мере базовыми услугами питьевого водоснабжения (%)</li><li><code>HealthCareCosts</code> - Общие внутренние государственные расходы на здравоохранение в процентах от общих государственных расходов (%)</li><li><code>HealthCareCostsGdp</code> - Общие внутренние государственные расходы на здравоохранение в процентах от валового внутреннего продукта (ВВП) (%)</li><li><code>HealthCareCostsPerCapita</code> - Общие внутренние государственные расходы на здравоохранение на душу населения в долларах США</li></ul>"
      ],
      "text/plain": [
       "<IPython.core.display.HTML object>"
      ]
     },
     "metadata": {},
     "output_type": "display_data"
    },
    {
     "data": {
      "text/html": [
       "<strong>Иммунизация населения различными способами</strong>"
      ],
      "text/plain": [
       "<IPython.core.display.HTML object>"
      ]
     },
     "metadata": {},
     "output_type": "display_data"
    },
    {
     "data": {
      "text/html": [
       "<ul><li><code>HepatitisBImmunization</code> - Охват иммунизацией детей в возрасте 1 года против гепатита В (ГепВ3) (%)</li><li><code>MeaslesImmunization</code> - Охват первой дозой вакцины, содержащей коревой компонент (MCV1), среди детей в возрасте 1 года (%)</li><li><code>PolioImmunization</code> - Охват иммунизацией от полиомиелита (Pol3) среди детей в возрасте 1 года (%)</li><li><code>DiphtheriaImmunization</code> - Охват иммунизацией детей в возрасте 1 года дифтерийно-столбнячным анатоксином и коклюшем (АКДС3) (%)</li></ul>"
      ],
      "text/plain": [
       "<IPython.core.display.HTML object>"
      ]
     },
     "metadata": {},
     "output_type": "display_data"
    },
    {
     "data": {
      "text/html": [
       "<strong>Коэффициенты взрослой смертности от разных причин</strong>"
      ],
      "text/plain": [
       "<IPython.core.display.HTML object>"
      ]
     },
     "metadata": {},
     "output_type": "display_data"
    },
    {
     "data": {
      "text/html": [
       "<ul><li><code>AdultMortality</code> - Смертность среди взрослого населения от 15 до 60 лет (в % от численности населения)</li><li><code>Homicides</code> - Оценка уровня убийств (%)</li><li><code>MaternalMortality</code> - Коэффициент материнской смертности (%)</li><li><code>AdultNcdMortality</code> - Вероятность (в %) смерти в возрасте от 30 до 70 лет от сердечно-сосудистых заболеваний, рака, диабета или хронических респираторных заболеваний</li><li><code>AdultNcdMortality061</code> - Смертность взрослых от неинфекционных заболеваний (%). Злокачественные новообразования</li><li><code>AdultNcdMortality080</code> - Смертность взрослых от неинфекционных заболеваний (%). Сахарный диабет</li><li><code>AdultNcdMortality110</code> - Смертность взрослых от неинфекционных заболеваний (%). Сердечно-сосудистые заболевания</li><li><code>AdultNcdMortality117</code> - Смертность взрослых от неинфекционных заболеваний (%). Респираторные заболевания</li><li><code>AdultNcdMortalitySum</code> - Сумма причин (в %) смертности взрослых от неинфекционных заболеваний.</li><li><code>PoisoningMortality</code> - Уровень смертности от непреднамеренного отравления (%)</li><li><code>SuicideMortality</code> - Стандартизированные по возрасту показатели самоубийств (%)</li></ul>"
      ],
      "text/plain": [
       "<IPython.core.display.HTML object>"
      ]
     },
     "metadata": {},
     "output_type": "display_data"
    },
    {
     "data": {
      "text/html": [
       "<strong>Показатели здорового (или нет) образа жизни населения</strong>"
      ],
      "text/plain": [
       "<IPython.core.display.HTML object>"
      ]
     },
     "metadata": {},
     "output_type": "display_data"
    },
    {
     "data": {
      "text/html": [
       "<ul><li><code>AlcoholСonsumption</code> - Потребление алкоголя на душу населения (15+) (в литрах чистого алкоголя)</li><li><code>BmiAdultUnderweight</code> - Распространенность недостаточного веса среди взрослых, ИМТ < 18,5 (стандартизированная по возрасту оценка) (%)</li><li><code>BmiAdultOverweight25</code> - Распространенность избыточного веса среди взрослых, ИМТ >= 25 (стандартизированная по возрасту оценка) (%)</li><li><code>BmiAdultOverweight30</code> - Распространенность ожирения среди взрослых, ИМТ >= 30 (стандартизированная по возрасту оценка) (%)</li><li><code>BmiChildThinness</code> - Распространенность худобы среди детей 5-9 лет, ИМТ < -2 стандартных отклонений ниже медианы (грубая оценка) (%)</li><li><code>BmiTeenagerThinness</code> - Распространенность худобы среди подростков 10-19 лет, ИМТ < -2 стандартных отклонений ниже медианы (грубая оценка) (%)</li><li><code>BmiChildOverweight1</code> - Распространенность избыточного веса среди детей 5-9 лет, ИМТ > +1 стандартного отклонения выше медианы (грубая оценка) (%)</li><li><code>BmiTeenagerOverweight1</code> - Распространенность избыточного веса среди подростков 10-19 лет, ИМТ > +1 стандартного отклонения выше медианы (грубая оценка) (%)</li><li><code>BmiChildOverweight2</code> - Распространенность ожирения среди детей 5-9 лет, ИМТ > +2 стандартных отклонений выше медианы (грубая оценка) (%)</li><li><code>BmiTeenagerOverweight2</code> - Распространенность ожирения среди подростков 10-19 лет, ИМТ > +2 стандартных отклонений выше медианы (грубая оценка) (%)</li></ul>"
      ],
      "text/plain": [
       "<IPython.core.display.HTML object>"
      ]
     },
     "metadata": {},
     "output_type": "display_data"
    }
   ],
   "source": [
    "# Выведем описание полей таблицы\n",
    "display_base_fields_description()"
   ]
  },
  {
   "cell_type": "markdown",
   "metadata": {},
   "source": [
    "Посмотрим на основные характеристики данных."
   ]
  },
  {
   "cell_type": "code",
   "execution_count": 10,
   "metadata": {},
   "outputs": [
    {
     "name": "stdout",
     "output_type": "stream",
     "text": [
      "Количество регионов: 6\n",
      "Количество стран: 181\n",
      "Данные представлены за 2000 - 2020 гг.\n",
      "Ожидаемая продолжительность жизни 39.96 - 84.66 лет\n"
     ]
    }
   ],
   "source": [
    "print(f\"Количество регионов: {data[F.ParentLocationCode.value].nunique()}\")\n",
    "\n",
    "print(f\"Количество стран: {data[F.SpatialDimValueCode.value].nunique()}\")\n",
    "\n",
    "year_min = data[F.Period.value].min()\n",
    "year_max = data[F.Period.value].max()\n",
    "print(f\"Данные представлены за {year_min} - {year_max} гг.\")\n",
    "\n",
    "print(f\"Ожидаемая продолжительность жизни \\\n",
    "{data[F.LifeExpectancy.value].min()} - {data[F.LifeExpectancy.value].max()} лет\")"
   ]
  },
  {
   "cell_type": "markdown",
   "metadata": {},
   "source": [
    "## Исследование распределения ожидаемой продолжительности жизни"
   ]
  },
  {
   "cell_type": "markdown",
   "metadata": {},
   "source": [
    "Исследование вынесено в файл [02_target.ipynb](./02_target.ipynb), здесь продублируем выводы.\n",
    "\n",
    "- Есть тенденция к росту средней ожидаемой продолжительности жизни за рассматриваемый период.\n",
    "- Наименьшая продолжительность жизни наблюдается в Африке и наибольшая в Европе.\n",
    "- Среди стран по наибольшей продолжительности жизни лидирует Япония.\n",
    "- Наибольшую корреляцию с целевой переменной имеет поле `Sanitation` (население, пользующееся как минимум базовыми услугами санитарии (%)) и составляет примерно 0.8.\n",
    "- Отрицательную корреляцию с ожидаемой продолжительностью жизни имеют признаки, связанные с недостаточной массой тела."
   ]
  },
  {
   "cell_type": "markdown",
   "metadata": {},
   "source": [
    "## Кластеризация стран"
   ]
  },
  {
   "cell_type": "markdown",
   "metadata": {},
   "source": [
    "Поскольку наличие кластера помогает в исследовании данных, \\\n",
    "этот раздел вынесен в блок EDA (исследование данных), \\\n",
    "а не в последующий Feature inginiring (создание признаков).\n",
    "\n",
    "Описание кластеризации вынесено в файл [03_clustering.ipynb](./03_clustering.ipynb). \\\n",
    "По итогу исследования страны были разделены на два кластера\n",
    "\n",
    "- В кластер 0 попали страны с более благоприятными условиями \\\n",
    "и соответственно большей продолжительностью жизни.\n",
    "- А в кластер 1 попапли страны с менее благоприятными условиями \\\n",
    "и меньшей продолжительностью жизни.\n",
    "\n",
    "Номер кластера занесен в новое поле `ClusterKMeans` \\\n",
    "в основную таблицу `cumulative_life_expectancy_prepared.csv`.\n",
    "\n",
    "Новый признак кластера имеет корреляцию с целевым близкую к 0.8."
   ]
  },
  {
   "cell_type": "markdown",
   "metadata": {},
   "source": [
    "## Исследование влияния факторов, связанных с уровнем санитарии и финансированием медицины на продолжительность жизни"
   ]
  },
  {
   "cell_type": "markdown",
   "metadata": {},
   "source": [
    "Исследование вынесено в файл [04_medicine.ipynb](./04_medicine.ipynb), здесь продублируем выводы.\n",
    "\n",
    "- Из рассмотренных признаков на продолжительность жизни наиболее сильно влияет процент населения, у которого есть возможность пользоваться базовыми услугами санитарии (признак `Sanitation`).\\\n",
    "Чем больше этот процент, тем больше продолжительность жизни.\n",
    "\n",
    "- В среднем по странам процент населения, имеющего доступ к базовым услугам санитарии, увеличивается с течением лет.\n",
    "\n",
    "- Есть положительная корреляция между расходами на здравоохранение и продолжительностью жизни.\n",
    "\n",
    "- Процент расходов (от ВВП) на здравоохранение увеличивается с годами.\n",
    "\n",
    "- Прослеживается закономерность, что чем выше ВВП страны, тем больше она тратит на здравоохранение.\\\n",
    "И тем больше продолжительность жизни в стране. Но есть исключения.\n",
    "\n",
    "- Чем больше процент расходов на здравоохранение, тем лучше санитарная обстановка в стране.\\\n",
    "Но опять же, есть исключения.\n",
    "\n",
    "- В странах с более благоприятными условиями жизни (кластер 0) значения всех рассматриваемых показателей больше, чем в странах из кластера 0 (страны с менее благоприятными условиями)."
   ]
  },
  {
   "cell_type": "markdown",
   "metadata": {},
   "source": [
    "## Исследование связи факторов иммунизациии населения с продолжительностью жизни и причинами детской смертности"
   ]
  },
  {
   "cell_type": "markdown",
   "metadata": {},
   "source": [
    "Исследование вынесено в файл [05_immunization.ipynb](./05_immunization.ipynb), здесь продублируем выводы.\n",
    "\n",
    "- Факторы иммунизации имеют отрицательную корреляцию с детской смертностью от инфекционных заболеваний.\\\n",
    "То есть, уменьшают ее.\\\n",
    "Также иммунизация имеет положительную корреляцию с продолжительностью жизни.\n",
    "\n",
    "- Факторы иммунизации имеют слабую корреляцию с факторами финансирования здравоохранения."
   ]
  },
  {
   "cell_type": "markdown",
   "metadata": {},
   "source": [
    "## Исследование факторов, связанных с показателями смертности от разных причин"
   ]
  },
  {
   "cell_type": "markdown",
   "metadata": {},
   "source": [
    "Исследование вынесено в файл [06_mortality.ipynb](./06_mortality.ipynb), здесь продублируем выводы.\n",
    "\n",
    "- В странах **кластера 0** выше показатели детской и взрослой смертности от неинфекционных заболеваний.\\\n",
    "Причинами детской смертности преимущественно являются врожденные аномалии и недоношенность.\n",
    "\n",
    "- В странах **кластера 1** выше показатели материнской смертности и отравлений, а также детской смертности от инфекционных заболеваний.\\\n",
    "Самыми частыми причинами детской смертности являются острые инфекции нижних дыхательных путей, недоношенность, родовая травма и диарея.\\\n",
    "Детская смертность от ВИЧ/CПИД положительно коррелирует со следующими факторами взрослой смертности:\n",
    "    - Смертность в возрасте от 15 до 60 лет\n",
    "    - Убийства, самоубийства и сахарный диабет\n",
    "\n",
    "Для **обоих кластеров**:\n",
    "- Среди неинфекционных заболеваний самая частая причина смертности - от сердечно-сосудистых заболеваний.\n",
    "- Материнская смертность положительно коррелирует с детской смертностью от инфекционных заболеваний."
   ]
  },
  {
   "cell_type": "markdown",
   "metadata": {},
   "source": [
    "## Исследование факторов, связанных с отклонениями индекса массы тела и употреблением алгоголя"
   ]
  },
  {
   "cell_type": "markdown",
   "metadata": {},
   "source": [
    "Исследование вынесено в файл [07_health.ipynb](./07_health.ipynb), здесь продублируем выводы.\n",
    "\n",
    "- В странах с большей продолжительностью жизни (кластер 0) \\\n",
    "больше людей имеют избыточный вес и больше употребляют алкоголя.\n",
    "\n",
    "- В странах с меньшей продолжительностью жизни (кластер 1) больше людей имеют недостаточный вес. \n",
    "\n",
    "- Во всех случаях с избыточным весом отклонений, находящихся в первой стадии (менее выраженной) \\\n",
    "больше, чем во второй стадии (более выраженной).\n",
    "\n",
    "- Факторы отлонения индекса массы тела в сторону избыточного веса \\\n",
    "имеют слабую корреляцию со смертностью от диабета для стран кластера 0 \\\n",
    "и среднюю (около 0.5) для стран кластера 1.\n",
    "\n",
    "- Фактор количества употребляемого алкоголя \\\n",
    "имеет наибольшую корреляцию со смертностью от злокачественных новообразований (0.78) и неинфеционных заболеваний (0.6) для стран кластера 0\\\n",
    "и со смертностью от ВИЧ/СПИД для стран кластера 1 (0.4)."
   ]
  },
  {
   "cell_type": "markdown",
   "metadata": {},
   "source": [
    "## Исследование временных рядов ожидаемой продолжительности жизни по странам"
   ]
  },
  {
   "cell_type": "markdown",
   "metadata": {},
   "source": [
    "### Декомпозиция "
   ]
  },
  {
   "cell_type": "markdown",
   "metadata": {},
   "source": [
    "Поскольку данные ожидаемой продолжительности жизни в каждой стране за рассматриваемые годы являются временным рядом, посмотрим на декомпозицию этих временных рядов.\\\n",
    "Построение графиков с декомпозицией вынесено в файл [08_decomposition.ipynb](./08_decomposition.ipynb).\\\n",
    "Здесь отметим, что ряды имеют только тренд и преимущественно возрастающий."
   ]
  },
  {
   "cell_type": "markdown",
   "metadata": {},
   "source": [
    "### Определение стационарности и порядка интегрирования "
   ]
  },
  {
   "cell_type": "markdown",
   "metadata": {},
   "source": [
    "Определение стационарности и порядка интегрирования вынесено в файл [09_stationarity.ipynb](./09_stationarity.ipynb).\\\n",
    "С помощью теста Квятковского-Филлипса-Шмидта-Шина (KPSS-тест) определено, что стационарными являются 15 рядов и их графики не являются поступательно-возрастающими, как у большинства стран.\\\n",
    "Путем последовательного дифференцирования определен порядок интергирования рядов и полученные данные сохранены в таблицу `integration_order.csv`."
   ]
  },
  {
   "cell_type": "markdown",
   "metadata": {},
   "source": [
    "### Автокорреляция"
   ]
  },
  {
   "cell_type": "markdown",
   "metadata": {},
   "source": [
    "Построение графиков автокорреляции рядов вынесено в файл [10_autocorrelation.ipynb](./10_autocorrelation.ipynb).\\\n",
    "Для большинства рядов наблюдается наибольшая корреляция для первого лага, что говорит о том, что ряды имеют только тренд.\\\n",
    "Для некоторых стран, ряды продолжительности жизни которых стационарны, явно выделяющихся лагов не наблюдается.\\\n",
    "Это говорит о том, что их значения не зависят от себя в прошлом."
   ]
  },
  {
   "cell_type": "markdown",
   "metadata": {},
   "source": [
    "### Автокорреляция и частичная автокорреляция рядов, приведенных к стационарным"
   ]
  },
  {
   "cell_type": "markdown",
   "metadata": {},
   "source": [
    "Построение графиков вынесено в файл [11_partial_autocorrelation.ipynb](./11_partial_autocorrelation.ipynb).\\\n",
    "Поскольку ряды короткие (а дифференцирование делает ряд еще короче) и ряды не имеют сезонности,\\\n",
    "результат основывается на малом количестве данных.\\\n",
    "Поэтому закономерность в большинстве случаев не улавливается.\\\n",
    "У многих рядов нет явно выступающего лага в обоих графиках.\\\n",
    "Но если он есть, то это преимущественно 1-й лаг."
   ]
  }
 ],
 "metadata": {
  "kernelspec": {
   "display_name": "Python 3",
   "language": "python",
   "name": "python3"
  },
  "language_info": {
   "codemirror_mode": {
    "name": "ipython",
    "version": 3
   },
   "file_extension": ".py",
   "mimetype": "text/x-python",
   "name": "python",
   "nbconvert_exporter": "python",
   "pygments_lexer": "ipython3",
   "version": "3.9.10"
  }
 },
 "nbformat": 4,
 "nbformat_minor": 2
}
