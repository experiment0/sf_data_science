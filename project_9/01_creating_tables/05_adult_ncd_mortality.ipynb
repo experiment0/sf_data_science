{
 "cells": [
  {
   "cell_type": "markdown",
   "metadata": {},
   "source": [
    "# Вероятность (в процентах) смерти в возрасте от 30 до 70 лет от сердечно-сосудистых заболеваний, рака, диабета или хронических респираторных заболеваний"
   ]
  },
  {
   "cell_type": "code",
   "execution_count": 1,
   "metadata": {},
   "outputs": [],
   "source": [
    "import pandas as pd\n",
    "\n",
    "from warnings import simplefilter\n",
    "simplefilter('ignore')"
   ]
  },
  {
   "cell_type": "markdown",
   "metadata": {},
   "source": [
    "Эти данные можно найти на сайте ВОЗ по ссылке\n",
    "\n",
    "https://www.who.int/data/gho/data/indicators/indicator-details/GHO/probability-of-dying-between-exact-ages-30-and-70-from-any-of-cardiovascular-disease-cancer-diabetes-or-chronic-respiratory-(-)"
   ]
  },
  {
   "cell_type": "code",
   "execution_count": 2,
   "metadata": {},
   "outputs": [
    {
     "data": {
      "text/html": [
       "<div>\n",
       "<style scoped>\n",
       "    .dataframe tbody tr th:only-of-type {\n",
       "        vertical-align: middle;\n",
       "    }\n",
       "\n",
       "    .dataframe tbody tr th {\n",
       "        vertical-align: top;\n",
       "    }\n",
       "\n",
       "    .dataframe thead th {\n",
       "        text-align: right;\n",
       "    }\n",
       "</style>\n",
       "<table border=\"1\" class=\"dataframe\">\n",
       "  <thead>\n",
       "    <tr style=\"text-align: right;\">\n",
       "      <th></th>\n",
       "      <th>IndicatorCode</th>\n",
       "      <th>Indicator</th>\n",
       "      <th>ValueType</th>\n",
       "      <th>ParentLocationCode</th>\n",
       "      <th>ParentLocation</th>\n",
       "      <th>Location type</th>\n",
       "      <th>SpatialDimValueCode</th>\n",
       "      <th>Location</th>\n",
       "      <th>Period type</th>\n",
       "      <th>Period</th>\n",
       "      <th>...</th>\n",
       "      <th>FactValueUoM</th>\n",
       "      <th>FactValueNumericLowPrefix</th>\n",
       "      <th>FactValueNumericLow</th>\n",
       "      <th>FactValueNumericHighPrefix</th>\n",
       "      <th>FactValueNumericHigh</th>\n",
       "      <th>Value</th>\n",
       "      <th>FactValueTranslationID</th>\n",
       "      <th>FactComments</th>\n",
       "      <th>Language</th>\n",
       "      <th>DateModified</th>\n",
       "    </tr>\n",
       "  </thead>\n",
       "  <tbody>\n",
       "    <tr>\n",
       "      <th>0</th>\n",
       "      <td>NCDMORT3070</td>\n",
       "      <td>Probability (%) of dying between age 30 and ex...</td>\n",
       "      <td>text</td>\n",
       "      <td>EUR</td>\n",
       "      <td>Europe</td>\n",
       "      <td>Country</td>\n",
       "      <td>FRA</td>\n",
       "      <td>France</td>\n",
       "      <td>Year</td>\n",
       "      <td>2020</td>\n",
       "      <td>...</td>\n",
       "      <td>NaN</td>\n",
       "      <td>NaN</td>\n",
       "      <td>8.0</td>\n",
       "      <td>NaN</td>\n",
       "      <td>11.8</td>\n",
       "      <td>10.0 [8.0-11.8]</td>\n",
       "      <td>NaN</td>\n",
       "      <td>NaN</td>\n",
       "      <td>EN</td>\n",
       "      <td>2024-12-17T21:00:00.000Z</td>\n",
       "    </tr>\n",
       "    <tr>\n",
       "      <th>1</th>\n",
       "      <td>NCDMORT3070</td>\n",
       "      <td>Probability (%) of dying between age 30 and ex...</td>\n",
       "      <td>text</td>\n",
       "      <td>AMR</td>\n",
       "      <td>Americas</td>\n",
       "      <td>Country</td>\n",
       "      <td>CAN</td>\n",
       "      <td>Canada</td>\n",
       "      <td>Year</td>\n",
       "      <td>2020</td>\n",
       "      <td>...</td>\n",
       "      <td>NaN</td>\n",
       "      <td>NaN</td>\n",
       "      <td>8.4</td>\n",
       "      <td>NaN</td>\n",
       "      <td>11.7</td>\n",
       "      <td>10.0 [8.4-11.7]</td>\n",
       "      <td>NaN</td>\n",
       "      <td>NaN</td>\n",
       "      <td>EN</td>\n",
       "      <td>2024-12-17T21:00:00.000Z</td>\n",
       "    </tr>\n",
       "  </tbody>\n",
       "</table>\n",
       "<p>2 rows × 34 columns</p>\n",
       "</div>"
      ],
      "text/plain": [
       "  IndicatorCode                                          Indicator ValueType  \\\n",
       "0   NCDMORT3070  Probability (%) of dying between age 30 and ex...      text   \n",
       "1   NCDMORT3070  Probability (%) of dying between age 30 and ex...      text   \n",
       "\n",
       "  ParentLocationCode ParentLocation Location type SpatialDimValueCode  \\\n",
       "0                EUR         Europe       Country                 FRA   \n",
       "1                AMR       Americas       Country                 CAN   \n",
       "\n",
       "  Location Period type  Period  ...  FactValueUoM FactValueNumericLowPrefix  \\\n",
       "0   France        Year    2020  ...           NaN                       NaN   \n",
       "1   Canada        Year    2020  ...           NaN                       NaN   \n",
       "\n",
       "  FactValueNumericLow FactValueNumericHighPrefix FactValueNumericHigh  \\\n",
       "0                 8.0                        NaN                 11.8   \n",
       "1                 8.4                        NaN                 11.7   \n",
       "\n",
       "             Value FactValueTranslationID  FactComments  Language  \\\n",
       "0  10.0 [8.0-11.8]                    NaN           NaN        EN   \n",
       "1  10.0 [8.4-11.7]                    NaN           NaN        EN   \n",
       "\n",
       "               DateModified  \n",
       "0  2024-12-17T21:00:00.000Z  \n",
       "1  2024-12-17T21:00:00.000Z  \n",
       "\n",
       "[2 rows x 34 columns]"
      ]
     },
     "execution_count": 2,
     "metadata": {},
     "output_type": "execute_result"
    }
   ],
   "source": [
    "data = pd.read_csv('../data/who_adult_ncd_mortality.csv')\n",
    "\n",
    "data.head(2)"
   ]
  },
  {
   "cell_type": "markdown",
   "metadata": {},
   "source": [
    "В этом наборе даных нам нужны 3 столбца:\n",
    "\n",
    "- `SpatialDimValueCode` - код страны\n",
    "- `Period` - год\n",
    "- `FactValueNumeric` - вероятность (в процентах) смерти в возрасте от 30 до 70 лет от неинфекционных заболеваний"
   ]
  },
  {
   "cell_type": "code",
   "execution_count": 3,
   "metadata": {},
   "outputs": [
    {
     "data": {
      "text/html": [
       "<div>\n",
       "<style scoped>\n",
       "    .dataframe tbody tr th:only-of-type {\n",
       "        vertical-align: middle;\n",
       "    }\n",
       "\n",
       "    .dataframe tbody tr th {\n",
       "        vertical-align: top;\n",
       "    }\n",
       "\n",
       "    .dataframe thead th {\n",
       "        text-align: right;\n",
       "    }\n",
       "</style>\n",
       "<table border=\"1\" class=\"dataframe\">\n",
       "  <thead>\n",
       "    <tr style=\"text-align: right;\">\n",
       "      <th></th>\n",
       "      <th>SpatialDimValueCode</th>\n",
       "      <th>Period</th>\n",
       "      <th>AdultNcdMortality</th>\n",
       "    </tr>\n",
       "  </thead>\n",
       "  <tbody>\n",
       "    <tr>\n",
       "      <th>0</th>\n",
       "      <td>FRA</td>\n",
       "      <td>2020</td>\n",
       "      <td>10.0</td>\n",
       "    </tr>\n",
       "    <tr>\n",
       "      <th>1</th>\n",
       "      <td>CAN</td>\n",
       "      <td>2020</td>\n",
       "      <td>10.0</td>\n",
       "    </tr>\n",
       "    <tr>\n",
       "      <th>2</th>\n",
       "      <td>NZL</td>\n",
       "      <td>2020</td>\n",
       "      <td>10.0</td>\n",
       "    </tr>\n",
       "    <tr>\n",
       "      <th>3</th>\n",
       "      <td>PAN</td>\n",
       "      <td>2020</td>\n",
       "      <td>10.1</td>\n",
       "    </tr>\n",
       "    <tr>\n",
       "      <th>4</th>\n",
       "      <td>CRI</td>\n",
       "      <td>2020</td>\n",
       "      <td>10.1</td>\n",
       "    </tr>\n",
       "  </tbody>\n",
       "</table>\n",
       "</div>"
      ],
      "text/plain": [
       "  SpatialDimValueCode  Period  AdultNcdMortality\n",
       "0                 FRA    2020               10.0\n",
       "1                 CAN    2020               10.0\n",
       "2                 NZL    2020               10.0\n",
       "3                 PAN    2020               10.1\n",
       "4                 CRI    2020               10.1"
      ]
     },
     "execution_count": 3,
     "metadata": {},
     "output_type": "execute_result"
    }
   ],
   "source": [
    "data = data[['SpatialDimValueCode', 'Period', 'FactValueNumeric']]\n",
    "\n",
    "# Переименуем поле FactValueNumeric в AdultNcdMortality\n",
    "data.rename(\n",
    "    columns={'FactValueNumeric': 'AdultNcdMortality'},\n",
    "    inplace=True,\n",
    ")\n",
    "\n",
    "data.head()"
   ]
  },
  {
   "cell_type": "code",
   "execution_count": 4,
   "metadata": {},
   "outputs": [
    {
     "data": {
      "text/plain": [
       "0"
      ]
     },
     "execution_count": 4,
     "metadata": {},
     "output_type": "execute_result"
    }
   ],
   "source": [
    "# Проверим наличие пропусков.\n",
    "data.isna().sum().sum()"
   ]
  },
  {
   "cell_type": "code",
   "execution_count": 5,
   "metadata": {},
   "outputs": [],
   "source": [
    "# Сохраним таблицу для дальнейшего использования\n",
    "data.to_csv('../data/who_adult_ncd_mortality_prepared.csv', index=False)"
   ]
  }
 ],
 "metadata": {
  "kernelspec": {
   "display_name": "Python 3",
   "language": "python",
   "name": "python3"
  },
  "language_info": {
   "codemirror_mode": {
    "name": "ipython",
    "version": 3
   },
   "file_extension": ".py",
   "mimetype": "text/x-python",
   "name": "python",
   "nbconvert_exporter": "python",
   "pygments_lexer": "ipython3",
   "version": "3.9.10"
  }
 },
 "nbformat": 4,
 "nbformat_minor": 2
}
