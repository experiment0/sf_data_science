{
 "cells": [
  {
   "cell_type": "markdown",
   "metadata": {},
   "source": [
    "# Средняя продолжительность формального образования для лиц в возрасте 15–64 лет"
   ]
  },
  {
   "cell_type": "code",
   "execution_count": 147,
   "metadata": {},
   "outputs": [],
   "source": [
    "import pandas as pd\n",
    "import numpy as np \n",
    "\n",
    "from helpers import (\n",
    "    get_data_with_full_locations_and_years, \n",
    "    get_omissions, \n",
    "    print_difference_of_sets,\n",
    ")\n",
    "\n",
    "from warnings import simplefilter\n",
    "simplefilter('ignore')"
   ]
  },
  {
   "cell_type": "markdown",
   "metadata": {},
   "source": [
    "Эти данные можно найти на сайте \"Наш мир в данных\" по ссылке\n",
    "\n",
    "https://ourworldindata.org/grapher/mean-years-of-schooling-long-run\n",
    "\n",
    "> **Источники данных:**\n",
    "> [Барро и Ли (2015)](http://www.barrolee.com/);\n",
    "> [Ли и Ли (2016)](https://barrolee.github.io/BarroLeeDataSet/DataLeeLee.html) - \n",
    "> с обработкой [Our World In Data](https://ourworldindata.org/grapher/mean-years-of-schooling-long-run). \\\n",
    "> **Руководство по цитированию:** Пожалуйста, укажите все источники, перечисленные выше. \\\n",
    "> Данные, предоставленные  сторонними источниками через Our World in Data, \\\n",
    "> остаются подпадающими под условия лицензии исходных поставщиков."
   ]
  },
  {
   "cell_type": "code",
   "execution_count": 148,
   "metadata": {},
   "outputs": [
    {
     "data": {
      "text/html": [
       "<div>\n",
       "<style scoped>\n",
       "    .dataframe tbody tr th:only-of-type {\n",
       "        vertical-align: middle;\n",
       "    }\n",
       "\n",
       "    .dataframe tbody tr th {\n",
       "        vertical-align: top;\n",
       "    }\n",
       "\n",
       "    .dataframe thead th {\n",
       "        text-align: right;\n",
       "    }\n",
       "</style>\n",
       "<table border=\"1\" class=\"dataframe\">\n",
       "  <thead>\n",
       "    <tr style=\"text-align: right;\">\n",
       "      <th></th>\n",
       "      <th>Entity</th>\n",
       "      <th>Code</th>\n",
       "      <th>Year</th>\n",
       "      <th>Combined - average years of education for 15-64 years male and female youth and adults</th>\n",
       "    </tr>\n",
       "  </thead>\n",
       "  <tbody>\n",
       "    <tr>\n",
       "      <th>0</th>\n",
       "      <td>Afghanistan</td>\n",
       "      <td>AFG</td>\n",
       "      <td>2000</td>\n",
       "      <td>3.03</td>\n",
       "    </tr>\n",
       "    <tr>\n",
       "      <th>1</th>\n",
       "      <td>Afghanistan</td>\n",
       "      <td>AFG</td>\n",
       "      <td>2005</td>\n",
       "      <td>3.32</td>\n",
       "    </tr>\n",
       "    <tr>\n",
       "      <th>2</th>\n",
       "      <td>Afghanistan</td>\n",
       "      <td>AFG</td>\n",
       "      <td>2010</td>\n",
       "      <td>3.93</td>\n",
       "    </tr>\n",
       "    <tr>\n",
       "      <th>3</th>\n",
       "      <td>Afghanistan</td>\n",
       "      <td>AFG</td>\n",
       "      <td>2015</td>\n",
       "      <td>4.81</td>\n",
       "    </tr>\n",
       "    <tr>\n",
       "      <th>4</th>\n",
       "      <td>Afghanistan</td>\n",
       "      <td>AFG</td>\n",
       "      <td>2020</td>\n",
       "      <td>5.69</td>\n",
       "    </tr>\n",
       "  </tbody>\n",
       "</table>\n",
       "</div>"
      ],
      "text/plain": [
       "        Entity Code  Year  \\\n",
       "0  Afghanistan  AFG  2000   \n",
       "1  Afghanistan  AFG  2005   \n",
       "2  Afghanistan  AFG  2010   \n",
       "3  Afghanistan  AFG  2015   \n",
       "4  Afghanistan  AFG  2020   \n",
       "\n",
       "   Combined - average years of education for 15-64 years male and female youth and adults  \n",
       "0                                               3.03                                       \n",
       "1                                               3.32                                       \n",
       "2                                               3.93                                       \n",
       "3                                               4.81                                       \n",
       "4                                               5.69                                       "
      ]
     },
     "execution_count": 148,
     "metadata": {},
     "output_type": "execute_result"
    }
   ],
   "source": [
    "# Загрузим таблицу c данными об образовании\n",
    "data = pd.read_csv('../data/ourworldindata_schooling.csv')\n",
    "\n",
    "data.head()"
   ]
  },
  {
   "cell_type": "markdown",
   "metadata": {},
   "source": [
    "Описание полей:\n",
    "\n",
    "- `Entity` - название страны\n",
    "- `Code` - код страны\n",
    "- `Year` - год\n",
    "- `Combined - average years of education for 15-64 years male and female youth and adults` - средняя продолжительность обучения для мужчин и женщин в возрасте 15-64 лет, молодых и взрослых"
   ]
  },
  {
   "cell_type": "code",
   "execution_count": 149,
   "metadata": {},
   "outputs": [
    {
     "data": {
      "text/html": [
       "<div>\n",
       "<style scoped>\n",
       "    .dataframe tbody tr th:only-of-type {\n",
       "        vertical-align: middle;\n",
       "    }\n",
       "\n",
       "    .dataframe tbody tr th {\n",
       "        vertical-align: top;\n",
       "    }\n",
       "\n",
       "    .dataframe thead th {\n",
       "        text-align: right;\n",
       "    }\n",
       "</style>\n",
       "<table border=\"1\" class=\"dataframe\">\n",
       "  <thead>\n",
       "    <tr style=\"text-align: right;\">\n",
       "      <th></th>\n",
       "      <th>ParentLocationCode</th>\n",
       "      <th>ParentLocation</th>\n",
       "      <th>SpatialDimValueCode</th>\n",
       "      <th>Location</th>\n",
       "    </tr>\n",
       "  </thead>\n",
       "  <tbody>\n",
       "    <tr>\n",
       "      <th>0</th>\n",
       "      <td>AFR</td>\n",
       "      <td>Africa</td>\n",
       "      <td>AGO</td>\n",
       "      <td>Angola</td>\n",
       "    </tr>\n",
       "    <tr>\n",
       "      <th>1</th>\n",
       "      <td>AFR</td>\n",
       "      <td>Africa</td>\n",
       "      <td>BDI</td>\n",
       "      <td>Burundi</td>\n",
       "    </tr>\n",
       "    <tr>\n",
       "      <th>2</th>\n",
       "      <td>AFR</td>\n",
       "      <td>Africa</td>\n",
       "      <td>BEN</td>\n",
       "      <td>Benin</td>\n",
       "    </tr>\n",
       "    <tr>\n",
       "      <th>3</th>\n",
       "      <td>AFR</td>\n",
       "      <td>Africa</td>\n",
       "      <td>BFA</td>\n",
       "      <td>Burkina Faso</td>\n",
       "    </tr>\n",
       "    <tr>\n",
       "      <th>4</th>\n",
       "      <td>AFR</td>\n",
       "      <td>Africa</td>\n",
       "      <td>BWA</td>\n",
       "      <td>Botswana</td>\n",
       "    </tr>\n",
       "  </tbody>\n",
       "</table>\n",
       "</div>"
      ],
      "text/plain": [
       "  ParentLocationCode ParentLocation SpatialDimValueCode      Location\n",
       "0                AFR         Africa                 AGO        Angola\n",
       "1                AFR         Africa                 BDI       Burundi\n",
       "2                AFR         Africa                 BEN         Benin\n",
       "3                AFR         Africa                 BFA  Burkina Faso\n",
       "4                AFR         Africa                 BWA      Botswana"
      ]
     },
     "execution_count": 149,
     "metadata": {},
     "output_type": "execute_result"
    }
   ],
   "source": [
    "# Загрузим также таблицу с данными стран и регионов\n",
    "regions_and_locations_data = pd.read_csv(\n",
    "    '../data/regions_and_locations.csv'\n",
    ")\n",
    "\n",
    "regions_and_locations_data.head()"
   ]
  },
  {
   "cell_type": "code",
   "execution_count": 150,
   "metadata": {},
   "outputs": [
    {
     "data": {
      "text/plain": [
       "array([2000, 2005, 2010, 2015, 2020], dtype=int64)"
      ]
     },
     "execution_count": 150,
     "metadata": {},
     "output_type": "execute_result"
    }
   ],
   "source": [
    "# Посмотрим, за какие годы представлены данные\n",
    "data['Year'].unique()"
   ]
  },
  {
   "cell_type": "markdown",
   "metadata": {},
   "source": [
    "Данные представлены с промежутком в 5 лет, это нужно будет учесть."
   ]
  },
  {
   "cell_type": "code",
   "execution_count": 151,
   "metadata": {},
   "outputs": [
    {
     "name": "stdout",
     "output_type": "stream",
     "text": [
      "<class 'pandas.core.frame.DataFrame'>\n",
      "RangeIndex: 660 entries, 0 to 659\n",
      "Data columns (total 4 columns):\n",
      " #   Column     Non-Null Count  Dtype  \n",
      "---  ------     --------------  -----  \n",
      " 0   Entity     660 non-null    object \n",
      " 1   Code       630 non-null    object \n",
      " 2   Year       660 non-null    int64  \n",
      " 3   Schooling  660 non-null    float64\n",
      "dtypes: float64(1), int64(1), object(2)\n",
      "memory usage: 20.8+ KB\n"
     ]
    }
   ],
   "source": [
    "# Переименуем последний столбец\n",
    "data.rename(\n",
    "    columns={\n",
    "        'Combined - average years of education for 15-64 years male and female youth and adults': 'Schooling',\n",
    "    },\n",
    "    inplace=True,\n",
    ")\n",
    "\n",
    "# Посмотрим на информацию о столбцах\n",
    "data.info()"
   ]
  },
  {
   "cell_type": "markdown",
   "metadata": {},
   "source": [
    "Типы столбцов соответствуют содержимому.\\\n",
    "В столбце с кодами стран `Code` есть пропуски, позже разберемся с ними."
   ]
  },
  {
   "cell_type": "code",
   "execution_count": 152,
   "metadata": {},
   "outputs": [
    {
     "name": "stdout",
     "output_type": "stream",
     "text": [
      "Элементы, которые есть в первом множестве, но отсутствуют во втором: \n",
      " {'DJI', 'GIN', 'SOM', 'KIR', 'SYC', 'MNE', 'BIH', 'GEO', 'BHS', 'COM', 'MKD', 'BFA', 'ERI', 'SLB', 'AGO', 'ETH', 'LBN', 'GRD', 'GNB', 'SUR', 'TLS', 'TKM', 'WSM', 'ATG', 'VUT', 'GNQ', 'AZE', 'BTN', 'STP', 'VCT', 'NGA', 'UZB', 'CPV', 'MDG', 'OMN', 'LCA', 'BLR', 'FSM', 'TCD'}\n",
      "\n",
      "Элементы, которые есть во втором множестве, но отсутствуют в первом: \n",
      " {nan, 'TWN', 'OWID_WRL', 'HKG', 'REU', 'MAC'}\n",
      "\n"
     ]
    }
   ],
   "source": [
    "# Посмотрим на соответствия стран в таблицах\n",
    "print_difference_of_sets(\n",
    "    regions_and_locations_data['SpatialDimValueCode'].unique(),\n",
    "    data['Code'].unique()\n",
    ")"
   ]
  },
  {
   "cell_type": "markdown",
   "metadata": {},
   "source": [
    "Данные по отсутсвующим странам заполним средним по региону.\n",
    "\n",
    "А пока оставим в таблице `data` только те страны, которые есть в `regions_and_locations_data`."
   ]
  },
  {
   "cell_type": "code",
   "execution_count": 153,
   "metadata": {},
   "outputs": [
    {
     "data": {
      "text/plain": [
       "Entity       0\n",
       "Code         0\n",
       "Year         0\n",
       "Schooling    0\n",
       "dtype: int64"
      ]
     },
     "execution_count": 153,
     "metadata": {},
     "output_type": "execute_result"
    }
   ],
   "source": [
    "# Коды рассматриваемых стран\n",
    "location_codes = list(regions_and_locations_data['SpatialDimValueCode'].unique())\n",
    "\n",
    "# Маска принадлежности страны к заданному множеству\n",
    "mask = data['Code'].isin(location_codes)\n",
    "# Удалим записи, которые не подходят под маску\n",
    "data.drop(data[~mask].index, inplace=True)\n",
    "\n",
    "# Посмотрим, остались ли пропуски\n",
    "data.isna().sum()"
   ]
  },
  {
   "cell_type": "markdown",
   "metadata": {},
   "source": [
    "Пропусков больше нет."
   ]
  },
  {
   "cell_type": "code",
   "execution_count": 154,
   "metadata": {},
   "outputs": [
    {
     "data": {
      "text/html": [
       "<div>\n",
       "<style scoped>\n",
       "    .dataframe tbody tr th:only-of-type {\n",
       "        vertical-align: middle;\n",
       "    }\n",
       "\n",
       "    .dataframe tbody tr th {\n",
       "        vertical-align: top;\n",
       "    }\n",
       "\n",
       "    .dataframe thead th {\n",
       "        text-align: right;\n",
       "    }\n",
       "</style>\n",
       "<table border=\"1\" class=\"dataframe\">\n",
       "  <thead>\n",
       "    <tr style=\"text-align: right;\">\n",
       "      <th></th>\n",
       "      <th>SpatialDimValueCode</th>\n",
       "      <th>Period</th>\n",
       "      <th>Schooling</th>\n",
       "    </tr>\n",
       "  </thead>\n",
       "  <tbody>\n",
       "    <tr>\n",
       "      <th>0</th>\n",
       "      <td>AFG</td>\n",
       "      <td>2000</td>\n",
       "      <td>3.03</td>\n",
       "    </tr>\n",
       "    <tr>\n",
       "      <th>1</th>\n",
       "      <td>AFG</td>\n",
       "      <td>2005</td>\n",
       "      <td>3.32</td>\n",
       "    </tr>\n",
       "    <tr>\n",
       "      <th>2</th>\n",
       "      <td>AFG</td>\n",
       "      <td>2010</td>\n",
       "      <td>3.93</td>\n",
       "    </tr>\n",
       "    <tr>\n",
       "      <th>3</th>\n",
       "      <td>AFG</td>\n",
       "      <td>2015</td>\n",
       "      <td>4.81</td>\n",
       "    </tr>\n",
       "    <tr>\n",
       "      <th>4</th>\n",
       "      <td>AFG</td>\n",
       "      <td>2020</td>\n",
       "      <td>5.69</td>\n",
       "    </tr>\n",
       "  </tbody>\n",
       "</table>\n",
       "</div>"
      ],
      "text/plain": [
       "  SpatialDimValueCode  Period  Schooling\n",
       "0                 AFG    2000       3.03\n",
       "1                 AFG    2005       3.32\n",
       "2                 AFG    2010       3.93\n",
       "3                 AFG    2015       4.81\n",
       "4                 AFG    2020       5.69"
      ]
     },
     "execution_count": 154,
     "metadata": {},
     "output_type": "execute_result"
    }
   ],
   "source": [
    "# Уберем поле с названием страны\n",
    "data.drop(columns=['Entity'], inplace=True)\n",
    "\n",
    "# Переименуем столбцы\n",
    "data.rename(\n",
    "    columns={\n",
    "        'Code': 'SpatialDimValueCode',\n",
    "        'Year': 'Period',\n",
    "    },\n",
    "    inplace=True,\n",
    ")\n",
    "\n",
    "data.head()"
   ]
  },
  {
   "cell_type": "markdown",
   "metadata": {},
   "source": [
    "Добавим в таблицу столбец с кодом региона."
   ]
  },
  {
   "cell_type": "code",
   "execution_count": 155,
   "metadata": {},
   "outputs": [
    {
     "data": {
      "text/html": [
       "<div>\n",
       "<style scoped>\n",
       "    .dataframe tbody tr th:only-of-type {\n",
       "        vertical-align: middle;\n",
       "    }\n",
       "\n",
       "    .dataframe tbody tr th {\n",
       "        vertical-align: top;\n",
       "    }\n",
       "\n",
       "    .dataframe thead th {\n",
       "        text-align: right;\n",
       "    }\n",
       "</style>\n",
       "<table border=\"1\" class=\"dataframe\">\n",
       "  <thead>\n",
       "    <tr style=\"text-align: right;\">\n",
       "      <th></th>\n",
       "      <th>ParentLocationCode</th>\n",
       "      <th>SpatialDimValueCode</th>\n",
       "      <th>Period</th>\n",
       "      <th>Schooling</th>\n",
       "    </tr>\n",
       "  </thead>\n",
       "  <tbody>\n",
       "    <tr>\n",
       "      <th>0</th>\n",
       "      <td>EMR</td>\n",
       "      <td>AFG</td>\n",
       "      <td>2000</td>\n",
       "      <td>3.03</td>\n",
       "    </tr>\n",
       "    <tr>\n",
       "      <th>1</th>\n",
       "      <td>EMR</td>\n",
       "      <td>AFG</td>\n",
       "      <td>2005</td>\n",
       "      <td>3.32</td>\n",
       "    </tr>\n",
       "    <tr>\n",
       "      <th>2</th>\n",
       "      <td>EMR</td>\n",
       "      <td>AFG</td>\n",
       "      <td>2010</td>\n",
       "      <td>3.93</td>\n",
       "    </tr>\n",
       "    <tr>\n",
       "      <th>3</th>\n",
       "      <td>EMR</td>\n",
       "      <td>AFG</td>\n",
       "      <td>2015</td>\n",
       "      <td>4.81</td>\n",
       "    </tr>\n",
       "    <tr>\n",
       "      <th>4</th>\n",
       "      <td>EMR</td>\n",
       "      <td>AFG</td>\n",
       "      <td>2020</td>\n",
       "      <td>5.69</td>\n",
       "    </tr>\n",
       "  </tbody>\n",
       "</table>\n",
       "</div>"
      ],
      "text/plain": [
       "  ParentLocationCode SpatialDimValueCode  Period  Schooling\n",
       "0                EMR                 AFG    2000       3.03\n",
       "1                EMR                 AFG    2005       3.32\n",
       "2                EMR                 AFG    2010       3.93\n",
       "3                EMR                 AFG    2015       4.81\n",
       "4                EMR                 AFG    2020       5.69"
      ]
     },
     "execution_count": 155,
     "metadata": {},
     "output_type": "execute_result"
    }
   ],
   "source": [
    "# Таблица с кодами стран и регионов\n",
    "regions_codes = regions_and_locations_data[['ParentLocationCode', 'SpatialDimValueCode']]\n",
    "\n",
    "# Смержим ее с основной\n",
    "data = data.merge(\n",
    "    regions_codes,\n",
    "    on='SpatialDimValueCode',\n",
    "    how='left',\n",
    ")\n",
    "\n",
    "# Переставим столбцы\n",
    "data = data.reindex(\n",
    "    columns=['ParentLocationCode', 'SpatialDimValueCode', 'Period', 'Schooling'],\n",
    ")\n",
    "\n",
    "data.head()"
   ]
  },
  {
   "cell_type": "code",
   "execution_count": 156,
   "metadata": {},
   "outputs": [
    {
     "data": {
      "text/plain": [
       "0"
      ]
     },
     "execution_count": 156,
     "metadata": {},
     "output_type": "execute_result"
    }
   ],
   "source": [
    "# Убедимся, что нет пропусков\n",
    "data.isna().sum().sum()"
   ]
  },
  {
   "cell_type": "code",
   "execution_count": 157,
   "metadata": {},
   "outputs": [
    {
     "data": {
      "text/plain": [
       "Period\n",
       "2015    142\n",
       "2020    142\n",
       "2000    108\n",
       "2005    108\n",
       "2010    108\n",
       "Name: count, dtype: int64"
      ]
     },
     "execution_count": 157,
     "metadata": {},
     "output_type": "execute_result"
    }
   ],
   "source": [
    "# Посмотрим, как распределены данные по годам\n",
    "data['Period'].value_counts()"
   ]
  },
  {
   "cell_type": "markdown",
   "metadata": {},
   "source": [
    "Данные по странам представлены не за все года, добавим строки по отсутствующм годам, чтобы явно увидеть пропуски."
   ]
  },
  {
   "cell_type": "code",
   "execution_count": 158,
   "metadata": {},
   "outputs": [
    {
     "data": {
      "text/plain": [
       "ParentLocationCode       0\n",
       "SpatialDimValueCode      0\n",
       "Period                   0\n",
       "Schooling              102\n",
       "dtype: int64"
      ]
     },
     "execution_count": 158,
     "metadata": {},
     "output_type": "execute_result"
    }
   ],
   "source": [
    "data = get_data_with_full_locations_and_years(\n",
    "    data,\n",
    "    {\n",
    "        'region_code': 'ParentLocationCode',\n",
    "        'location_code': 'SpatialDimValueCode',\n",
    "        'year': 'Period',\n",
    "    }\n",
    ")\n",
    "\n",
    "data.isna().sum()"
   ]
  },
  {
   "cell_type": "markdown",
   "metadata": {},
   "source": [
    "Исследуем эти пропуски и по итогу решим, как их заполнить."
   ]
  },
  {
   "cell_type": "code",
   "execution_count": 159,
   "metadata": {},
   "outputs": [
    {
     "data": {
      "text/html": [
       "<div>\n",
       "<style scoped>\n",
       "    .dataframe tbody tr th:only-of-type {\n",
       "        vertical-align: middle;\n",
       "    }\n",
       "\n",
       "    .dataframe tbody tr th {\n",
       "        vertical-align: top;\n",
       "    }\n",
       "\n",
       "    .dataframe thead th {\n",
       "        text-align: right;\n",
       "    }\n",
       "</style>\n",
       "<table border=\"1\" class=\"dataframe\">\n",
       "  <thead>\n",
       "    <tr style=\"text-align: right;\">\n",
       "      <th></th>\n",
       "      <th>ParentLocationCode</th>\n",
       "      <th>SpatialDimValueCode</th>\n",
       "      <th>Period</th>\n",
       "      <th>Schooling</th>\n",
       "    </tr>\n",
       "  </thead>\n",
       "  <tbody>\n",
       "    <tr>\n",
       "      <th>4</th>\n",
       "      <td>EUR</td>\n",
       "      <td>ARM</td>\n",
       "      <td>2000</td>\n",
       "      <td>NaN</td>\n",
       "    </tr>\n",
       "    <tr>\n",
       "      <th>7</th>\n",
       "      <td>EMR</td>\n",
       "      <td>BHR</td>\n",
       "      <td>2000</td>\n",
       "      <td>NaN</td>\n",
       "    </tr>\n",
       "    <tr>\n",
       "      <th>14</th>\n",
       "      <td>AFR</td>\n",
       "      <td>BWA</td>\n",
       "      <td>2000</td>\n",
       "      <td>NaN</td>\n",
       "    </tr>\n",
       "    <tr>\n",
       "      <th>16</th>\n",
       "      <td>WPR</td>\n",
       "      <td>BRN</td>\n",
       "      <td>2000</td>\n",
       "      <td>NaN</td>\n",
       "    </tr>\n",
       "    <tr>\n",
       "      <th>18</th>\n",
       "      <td>AFR</td>\n",
       "      <td>BDI</td>\n",
       "      <td>2000</td>\n",
       "      <td>NaN</td>\n",
       "    </tr>\n",
       "  </tbody>\n",
       "</table>\n",
       "</div>"
      ],
      "text/plain": [
       "   ParentLocationCode SpatialDimValueCode Period  Schooling\n",
       "4                 EUR                 ARM   2000        NaN\n",
       "7                 EMR                 BHR   2000        NaN\n",
       "14                AFR                 BWA   2000        NaN\n",
       "16                WPR                 BRN   2000        NaN\n",
       "18                AFR                 BDI   2000        NaN"
      ]
     },
     "execution_count": 159,
     "metadata": {},
     "output_type": "execute_result"
    }
   ],
   "source": [
    "# Сформируем таблицу с пропущенными строками\n",
    "omission_data = get_omissions(data)\n",
    "\n",
    "omission_data.head()"
   ]
  },
  {
   "cell_type": "code",
   "execution_count": 160,
   "metadata": {},
   "outputs": [
    {
     "data": {
      "text/plain": [
       "Period\n",
       "2000    34\n",
       "2005    34\n",
       "2010    34\n",
       "Name: count, dtype: int64"
      ]
     },
     "execution_count": 160,
     "metadata": {},
     "output_type": "execute_result"
    }
   ],
   "source": [
    "# Посмотрим, за какие года нет данны\n",
    "omission_data['Period'].value_counts()"
   ]
  },
  {
   "cell_type": "markdown",
   "metadata": {},
   "source": [
    "То есть, 2015 и 2020 у всех стран заполнены.\\\n",
    "Не заполнены только начальные года.\\\n",
    "И за каждый год не заполнено одинаковое количество стран.\n",
    "\n",
    "Отсортируем данные в исходной таблице так, чтобы первыми шли года с заполненными значениями `Schooling`.\\\n",
    "И заполним пропуски с помощью интерполяции."
   ]
  },
  {
   "cell_type": "code",
   "execution_count": 161,
   "metadata": {},
   "outputs": [
    {
     "data": {
      "text/html": [
       "<div>\n",
       "<style scoped>\n",
       "    .dataframe tbody tr th:only-of-type {\n",
       "        vertical-align: middle;\n",
       "    }\n",
       "\n",
       "    .dataframe tbody tr th {\n",
       "        vertical-align: top;\n",
       "    }\n",
       "\n",
       "    .dataframe thead th {\n",
       "        text-align: right;\n",
       "    }\n",
       "</style>\n",
       "<table border=\"1\" class=\"dataframe\">\n",
       "  <thead>\n",
       "    <tr style=\"text-align: right;\">\n",
       "      <th></th>\n",
       "      <th>ParentLocationCode</th>\n",
       "      <th>SpatialDimValueCode</th>\n",
       "      <th>Period</th>\n",
       "      <th>Schooling</th>\n",
       "    </tr>\n",
       "  </thead>\n",
       "  <tbody>\n",
       "    <tr>\n",
       "      <th>0</th>\n",
       "      <td>AFR</td>\n",
       "      <td>ZWE</td>\n",
       "      <td>2020</td>\n",
       "      <td>8.32</td>\n",
       "    </tr>\n",
       "    <tr>\n",
       "      <th>1</th>\n",
       "      <td>AFR</td>\n",
       "      <td>ZWE</td>\n",
       "      <td>2015</td>\n",
       "      <td>8.03</td>\n",
       "    </tr>\n",
       "    <tr>\n",
       "      <th>2</th>\n",
       "      <td>AFR</td>\n",
       "      <td>ZWE</td>\n",
       "      <td>2010</td>\n",
       "      <td>7.86</td>\n",
       "    </tr>\n",
       "    <tr>\n",
       "      <th>3</th>\n",
       "      <td>AFR</td>\n",
       "      <td>ZWE</td>\n",
       "      <td>2005</td>\n",
       "      <td>7.65</td>\n",
       "    </tr>\n",
       "    <tr>\n",
       "      <th>4</th>\n",
       "      <td>AFR</td>\n",
       "      <td>ZWE</td>\n",
       "      <td>2000</td>\n",
       "      <td>7.26</td>\n",
       "    </tr>\n",
       "  </tbody>\n",
       "</table>\n",
       "</div>"
      ],
      "text/plain": [
       "  ParentLocationCode SpatialDimValueCode Period  Schooling\n",
       "0                AFR                 ZWE   2020       8.32\n",
       "1                AFR                 ZWE   2015       8.03\n",
       "2                AFR                 ZWE   2010       7.86\n",
       "3                AFR                 ZWE   2005       7.65\n",
       "4                AFR                 ZWE   2000       7.26"
      ]
     },
     "execution_count": 161,
     "metadata": {},
     "output_type": "execute_result"
    }
   ],
   "source": [
    "# Выполним сотрировку\n",
    "data = data.sort_values(by=['SpatialDimValueCode', 'Period'], ascending=False)\n",
    "data.reset_index(inplace=True)\n",
    "data.drop(columns=['index'], inplace=True)\n",
    "data.head()"
   ]
  },
  {
   "cell_type": "code",
   "execution_count": 162,
   "metadata": {},
   "outputs": [
    {
     "data": {
      "text/plain": [
       "ParentLocationCode     0\n",
       "SpatialDimValueCode    0\n",
       "Period                 0\n",
       "Schooling              0\n",
       "dtype: int64"
      ]
     },
     "execution_count": 162,
     "metadata": {},
     "output_type": "execute_result"
    }
   ],
   "source": [
    "# Заполним пропуски с помощью интерполяции\n",
    "data = data.groupby(by=['SpatialDimValueCode']).apply(\n",
    "    lambda group: group.interpolate(method='index')\n",
    ")\n",
    "\n",
    "# Убедимся, что нет пропусков\n",
    "data.isna().sum()"
   ]
  },
  {
   "cell_type": "markdown",
   "metadata": {},
   "source": [
    "Теперь выполним сортировку, чтобы года шли по возрастанию."
   ]
  },
  {
   "cell_type": "code",
   "execution_count": 163,
   "metadata": {},
   "outputs": [
    {
     "data": {
      "text/html": [
       "<div>\n",
       "<style scoped>\n",
       "    .dataframe tbody tr th:only-of-type {\n",
       "        vertical-align: middle;\n",
       "    }\n",
       "\n",
       "    .dataframe tbody tr th {\n",
       "        vertical-align: top;\n",
       "    }\n",
       "\n",
       "    .dataframe thead th {\n",
       "        text-align: right;\n",
       "    }\n",
       "</style>\n",
       "<table border=\"1\" class=\"dataframe\">\n",
       "  <thead>\n",
       "    <tr style=\"text-align: right;\">\n",
       "      <th></th>\n",
       "      <th>ParentLocationCode</th>\n",
       "      <th>SpatialDimValueCode</th>\n",
       "      <th>Period</th>\n",
       "      <th>Schooling</th>\n",
       "    </tr>\n",
       "  </thead>\n",
       "  <tbody>\n",
       "    <tr>\n",
       "      <th>4</th>\n",
       "      <td>EMR</td>\n",
       "      <td>AFG</td>\n",
       "      <td>2000</td>\n",
       "      <td>3.03</td>\n",
       "    </tr>\n",
       "    <tr>\n",
       "      <th>3</th>\n",
       "      <td>EMR</td>\n",
       "      <td>AFG</td>\n",
       "      <td>2005</td>\n",
       "      <td>3.32</td>\n",
       "    </tr>\n",
       "    <tr>\n",
       "      <th>2</th>\n",
       "      <td>EMR</td>\n",
       "      <td>AFG</td>\n",
       "      <td>2010</td>\n",
       "      <td>3.93</td>\n",
       "    </tr>\n",
       "    <tr>\n",
       "      <th>1</th>\n",
       "      <td>EMR</td>\n",
       "      <td>AFG</td>\n",
       "      <td>2015</td>\n",
       "      <td>4.81</td>\n",
       "    </tr>\n",
       "    <tr>\n",
       "      <th>0</th>\n",
       "      <td>EMR</td>\n",
       "      <td>AFG</td>\n",
       "      <td>2020</td>\n",
       "      <td>5.69</td>\n",
       "    </tr>\n",
       "  </tbody>\n",
       "</table>\n",
       "</div>"
      ],
      "text/plain": [
       "  ParentLocationCode SpatialDimValueCode Period  Schooling\n",
       "4                EMR                 AFG   2000       3.03\n",
       "3                EMR                 AFG   2005       3.32\n",
       "2                EMR                 AFG   2010       3.93\n",
       "1                EMR                 AFG   2015       4.81\n",
       "0                EMR                 AFG   2020       5.69"
      ]
     },
     "execution_count": 163,
     "metadata": {},
     "output_type": "execute_result"
    }
   ],
   "source": [
    "data = data.reset_index(drop=True)\n",
    "data = data.sort_values(by=['SpatialDimValueCode', 'Period'])\n",
    "data.head()"
   ]
  },
  {
   "cell_type": "markdown",
   "metadata": {},
   "source": [
    "В основной таблице, которая формируется в файле [01_main.ipynb](./01_main.ipynb),\\\n",
    "мы рассматриваем данные за каждый год с 2000 по 2020.\\\n",
    "Добавим в данную таблицу строки со всеми годами."
   ]
  },
  {
   "cell_type": "code",
   "execution_count": 164,
   "metadata": {},
   "outputs": [
    {
     "data": {
      "text/html": [
       "<div>\n",
       "<style scoped>\n",
       "    .dataframe tbody tr th:only-of-type {\n",
       "        vertical-align: middle;\n",
       "    }\n",
       "\n",
       "    .dataframe tbody tr th {\n",
       "        vertical-align: top;\n",
       "    }\n",
       "\n",
       "    .dataframe thead th {\n",
       "        text-align: right;\n",
       "    }\n",
       "</style>\n",
       "<table border=\"1\" class=\"dataframe\">\n",
       "  <thead>\n",
       "    <tr style=\"text-align: right;\">\n",
       "      <th></th>\n",
       "      <th>ParentLocationCode</th>\n",
       "      <th>SpatialDimValueCode</th>\n",
       "      <th>Period</th>\n",
       "      <th>Schooling</th>\n",
       "    </tr>\n",
       "  </thead>\n",
       "  <tbody>\n",
       "    <tr>\n",
       "      <th>0</th>\n",
       "      <td>EMR</td>\n",
       "      <td>AFG</td>\n",
       "      <td>2000</td>\n",
       "      <td>3.03</td>\n",
       "    </tr>\n",
       "    <tr>\n",
       "      <th>1</th>\n",
       "      <td>EUR</td>\n",
       "      <td>ALB</td>\n",
       "      <td>2000</td>\n",
       "      <td>9.93</td>\n",
       "    </tr>\n",
       "    <tr>\n",
       "      <th>2</th>\n",
       "      <td>EMR</td>\n",
       "      <td>ARE</td>\n",
       "      <td>2000</td>\n",
       "      <td>9.35</td>\n",
       "    </tr>\n",
       "    <tr>\n",
       "      <th>3</th>\n",
       "      <td>AMR</td>\n",
       "      <td>ARG</td>\n",
       "      <td>2000</td>\n",
       "      <td>9.08</td>\n",
       "    </tr>\n",
       "    <tr>\n",
       "      <th>4</th>\n",
       "      <td>EUR</td>\n",
       "      <td>ARM</td>\n",
       "      <td>2000</td>\n",
       "      <td>10.45</td>\n",
       "    </tr>\n",
       "  </tbody>\n",
       "</table>\n",
       "</div>"
      ],
      "text/plain": [
       "  ParentLocationCode SpatialDimValueCode Period  Schooling\n",
       "0                EMR                 AFG   2000       3.03\n",
       "1                EUR                 ALB   2000       9.93\n",
       "2                EMR                 ARE   2000       9.35\n",
       "3                AMR                 ARG   2000       9.08\n",
       "4                EUR                 ARM   2000      10.45"
      ]
     },
     "execution_count": 164,
     "metadata": {},
     "output_type": "execute_result"
    }
   ],
   "source": [
    "data = get_data_with_full_locations_and_years(\n",
    "    data,\n",
    "    {\n",
    "        'region_code': 'ParentLocationCode',\n",
    "        'location_code': 'SpatialDimValueCode',\n",
    "        'year': 'Period',\n",
    "    },\n",
    "    1\n",
    ")\n",
    "\n",
    "data.head()"
   ]
  },
  {
   "cell_type": "code",
   "execution_count": 165,
   "metadata": {},
   "outputs": [
    {
     "data": {
      "text/plain": [
       "ParentLocationCode        0\n",
       "SpatialDimValueCode       0\n",
       "Period                    0\n",
       "Schooling              2272\n",
       "dtype: int64"
      ]
     },
     "execution_count": 165,
     "metadata": {},
     "output_type": "execute_result"
    }
   ],
   "source": [
    "# Посмотрим на количество пропусков\n",
    "data.isna().sum()"
   ]
  },
  {
   "cell_type": "markdown",
   "metadata": {},
   "source": [
    "Заполним пропуски за отстутствующие года с помощью интерполяции."
   ]
  },
  {
   "cell_type": "code",
   "execution_count": 166,
   "metadata": {},
   "outputs": [
    {
     "data": {
      "text/html": [
       "<div>\n",
       "<style scoped>\n",
       "    .dataframe tbody tr th:only-of-type {\n",
       "        vertical-align: middle;\n",
       "    }\n",
       "\n",
       "    .dataframe tbody tr th {\n",
       "        vertical-align: top;\n",
       "    }\n",
       "\n",
       "    .dataframe thead th {\n",
       "        text-align: right;\n",
       "    }\n",
       "</style>\n",
       "<table border=\"1\" class=\"dataframe\">\n",
       "  <thead>\n",
       "    <tr style=\"text-align: right;\">\n",
       "      <th></th>\n",
       "      <th>ParentLocationCode</th>\n",
       "      <th>SpatialDimValueCode</th>\n",
       "      <th>Period</th>\n",
       "      <th>Schooling</th>\n",
       "    </tr>\n",
       "  </thead>\n",
       "  <tbody>\n",
       "    <tr>\n",
       "      <th>0</th>\n",
       "      <td>EMR</td>\n",
       "      <td>AFG</td>\n",
       "      <td>2000</td>\n",
       "      <td>3.03</td>\n",
       "    </tr>\n",
       "    <tr>\n",
       "      <th>1</th>\n",
       "      <td>EMR</td>\n",
       "      <td>AFG</td>\n",
       "      <td>2001</td>\n",
       "      <td>NaN</td>\n",
       "    </tr>\n",
       "    <tr>\n",
       "      <th>2</th>\n",
       "      <td>EMR</td>\n",
       "      <td>AFG</td>\n",
       "      <td>2002</td>\n",
       "      <td>NaN</td>\n",
       "    </tr>\n",
       "    <tr>\n",
       "      <th>3</th>\n",
       "      <td>EMR</td>\n",
       "      <td>AFG</td>\n",
       "      <td>2003</td>\n",
       "      <td>NaN</td>\n",
       "    </tr>\n",
       "    <tr>\n",
       "      <th>4</th>\n",
       "      <td>EMR</td>\n",
       "      <td>AFG</td>\n",
       "      <td>2004</td>\n",
       "      <td>NaN</td>\n",
       "    </tr>\n",
       "  </tbody>\n",
       "</table>\n",
       "</div>"
      ],
      "text/plain": [
       "  ParentLocationCode SpatialDimValueCode Period  Schooling\n",
       "0                EMR                 AFG   2000       3.03\n",
       "1                EMR                 AFG   2001        NaN\n",
       "2                EMR                 AFG   2002        NaN\n",
       "3                EMR                 AFG   2003        NaN\n",
       "4                EMR                 AFG   2004        NaN"
      ]
     },
     "execution_count": 166,
     "metadata": {},
     "output_type": "execute_result"
    }
   ],
   "source": [
    "# Для этого снова отсортируем данные таблицы\n",
    "data = data.sort_values(by=['SpatialDimValueCode', 'Period'])\n",
    "data.reset_index(inplace=True)\n",
    "data.drop(columns=['index'], inplace=True)\n",
    "data.head()"
   ]
  },
  {
   "cell_type": "code",
   "execution_count": 167,
   "metadata": {},
   "outputs": [
    {
     "data": {
      "text/html": [
       "<div>\n",
       "<style scoped>\n",
       "    .dataframe tbody tr th:only-of-type {\n",
       "        vertical-align: middle;\n",
       "    }\n",
       "\n",
       "    .dataframe tbody tr th {\n",
       "        vertical-align: top;\n",
       "    }\n",
       "\n",
       "    .dataframe thead th {\n",
       "        text-align: right;\n",
       "    }\n",
       "</style>\n",
       "<table border=\"1\" class=\"dataframe\">\n",
       "  <thead>\n",
       "    <tr style=\"text-align: right;\">\n",
       "      <th></th>\n",
       "      <th></th>\n",
       "      <th>ParentLocationCode</th>\n",
       "      <th>SpatialDimValueCode</th>\n",
       "      <th>Period</th>\n",
       "      <th>Schooling</th>\n",
       "    </tr>\n",
       "    <tr>\n",
       "      <th>SpatialDimValueCode</th>\n",
       "      <th></th>\n",
       "      <th></th>\n",
       "      <th></th>\n",
       "      <th></th>\n",
       "      <th></th>\n",
       "    </tr>\n",
       "  </thead>\n",
       "  <tbody>\n",
       "    <tr>\n",
       "      <th rowspan=\"5\" valign=\"top\">AFG</th>\n",
       "      <th>0</th>\n",
       "      <td>EMR</td>\n",
       "      <td>AFG</td>\n",
       "      <td>2000</td>\n",
       "      <td>3.030</td>\n",
       "    </tr>\n",
       "    <tr>\n",
       "      <th>1</th>\n",
       "      <td>EMR</td>\n",
       "      <td>AFG</td>\n",
       "      <td>2001</td>\n",
       "      <td>3.088</td>\n",
       "    </tr>\n",
       "    <tr>\n",
       "      <th>2</th>\n",
       "      <td>EMR</td>\n",
       "      <td>AFG</td>\n",
       "      <td>2002</td>\n",
       "      <td>3.146</td>\n",
       "    </tr>\n",
       "    <tr>\n",
       "      <th>3</th>\n",
       "      <td>EMR</td>\n",
       "      <td>AFG</td>\n",
       "      <td>2003</td>\n",
       "      <td>3.204</td>\n",
       "    </tr>\n",
       "    <tr>\n",
       "      <th>4</th>\n",
       "      <td>EMR</td>\n",
       "      <td>AFG</td>\n",
       "      <td>2004</td>\n",
       "      <td>3.262</td>\n",
       "    </tr>\n",
       "  </tbody>\n",
       "</table>\n",
       "</div>"
      ],
      "text/plain": [
       "                      ParentLocationCode SpatialDimValueCode Period  Schooling\n",
       "SpatialDimValueCode                                                           \n",
       "AFG                 0                EMR                 AFG   2000      3.030\n",
       "                    1                EMR                 AFG   2001      3.088\n",
       "                    2                EMR                 AFG   2002      3.146\n",
       "                    3                EMR                 AFG   2003      3.204\n",
       "                    4                EMR                 AFG   2004      3.262"
      ]
     },
     "execution_count": 167,
     "metadata": {},
     "output_type": "execute_result"
    }
   ],
   "source": [
    "# Заполним пропуски с помощью интерполяции\n",
    "data = data.groupby(by=['SpatialDimValueCode']).apply(\n",
    "    lambda group: group.interpolate(method='index')\n",
    ")\n",
    "\n",
    "data.head()"
   ]
  },
  {
   "cell_type": "code",
   "execution_count": 168,
   "metadata": {},
   "outputs": [
    {
     "data": {
      "text/plain": [
       "0"
      ]
     },
     "execution_count": 168,
     "metadata": {},
     "output_type": "execute_result"
    }
   ],
   "source": [
    "# Убедимся, что пропусков нет\n",
    "data.isna().sum().sum()"
   ]
  },
  {
   "cell_type": "markdown",
   "metadata": {},
   "source": [
    "Теперь добавим отсутствующие страны и заполним данные по ним средним по региону."
   ]
  },
  {
   "cell_type": "code",
   "execution_count": 169,
   "metadata": {},
   "outputs": [
    {
     "data": {
      "text/html": [
       "<div>\n",
       "<style scoped>\n",
       "    .dataframe tbody tr th:only-of-type {\n",
       "        vertical-align: middle;\n",
       "    }\n",
       "\n",
       "    .dataframe tbody tr th {\n",
       "        vertical-align: top;\n",
       "    }\n",
       "\n",
       "    .dataframe thead th {\n",
       "        text-align: right;\n",
       "    }\n",
       "</style>\n",
       "<table border=\"1\" class=\"dataframe\">\n",
       "  <thead>\n",
       "    <tr style=\"text-align: right;\">\n",
       "      <th></th>\n",
       "      <th>ParentLocationCode</th>\n",
       "      <th>SpatialDimValueCode</th>\n",
       "      <th>Period</th>\n",
       "      <th>Schooling</th>\n",
       "    </tr>\n",
       "  </thead>\n",
       "  <tbody>\n",
       "    <tr>\n",
       "      <th>0</th>\n",
       "      <td>AFR</td>\n",
       "      <td>AGO</td>\n",
       "      <td>2000</td>\n",
       "      <td>NaN</td>\n",
       "    </tr>\n",
       "    <tr>\n",
       "      <th>3</th>\n",
       "      <td>AFR</td>\n",
       "      <td>BFA</td>\n",
       "      <td>2000</td>\n",
       "      <td>NaN</td>\n",
       "    </tr>\n",
       "    <tr>\n",
       "      <th>10</th>\n",
       "      <td>AFR</td>\n",
       "      <td>COM</td>\n",
       "      <td>2000</td>\n",
       "      <td>NaN</td>\n",
       "    </tr>\n",
       "    <tr>\n",
       "      <th>11</th>\n",
       "      <td>AFR</td>\n",
       "      <td>CPV</td>\n",
       "      <td>2000</td>\n",
       "      <td>NaN</td>\n",
       "    </tr>\n",
       "    <tr>\n",
       "      <th>13</th>\n",
       "      <td>AFR</td>\n",
       "      <td>ERI</td>\n",
       "      <td>2000</td>\n",
       "      <td>NaN</td>\n",
       "    </tr>\n",
       "  </tbody>\n",
       "</table>\n",
       "</div>"
      ],
      "text/plain": [
       "   ParentLocationCode SpatialDimValueCode  Period  Schooling\n",
       "0                 AFR                 AGO    2000        NaN\n",
       "3                 AFR                 BFA    2000        NaN\n",
       "10                AFR                 COM    2000        NaN\n",
       "11                AFR                 CPV    2000        NaN\n",
       "13                AFR                 ERI    2000        NaN"
      ]
     },
     "execution_count": 169,
     "metadata": {},
     "output_type": "execute_result"
    }
   ],
   "source": [
    "# Соберем список с кодами отсутствующих стран\n",
    "mising_location_codes = \\\n",
    "    set(regions_and_locations_data['SpatialDimValueCode'].unique()) - \\\n",
    "    set(data['SpatialDimValueCode'].unique())\n",
    "    \n",
    "mising_location_codes = list(mising_location_codes)\n",
    "\n",
    "# Маска принадлежности кода страны к списку отсутствующих стран\n",
    "mask = regions_and_locations_data['SpatialDimValueCode'].isin(mising_location_codes)\n",
    "# Отфильтруем данные отсутствующих стран\n",
    "mising_locations_data = regions_and_locations_data[mask]\n",
    "# Оставим в данных только коды региона и страны\n",
    "mising_locations_data = mising_locations_data[['ParentLocationCode', 'SpatialDimValueCode']]\n",
    "# Поле с годом заполним начальным 2000-м\n",
    "mising_locations_data['Period'] = 2000\n",
    "# Значение поля с длительностью обучения мы пока не знаем, заполним его NaN\n",
    "mising_locations_data['Schooling'] = np.nan\n",
    "\n",
    "# Посмотрим на результат\n",
    "mising_locations_data.head()"
   ]
  },
  {
   "cell_type": "code",
   "execution_count": 170,
   "metadata": {},
   "outputs": [
    {
     "data": {
      "text/plain": [
       "0"
      ]
     },
     "execution_count": 170,
     "metadata": {},
     "output_type": "execute_result"
    }
   ],
   "source": [
    "# Присоединим его к основной таблице\n",
    "data = pd.concat([\n",
    "    data,\n",
    "    mising_locations_data,\n",
    "], ignore_index=True)\n",
    "\n",
    "# Для добавленных стран заполним строки с годами с 2001 по 2020\n",
    "data = get_data_with_full_locations_and_years(\n",
    "    data,\n",
    "    {\n",
    "        'region_code': 'ParentLocationCode',\n",
    "        'location_code': 'SpatialDimValueCode',\n",
    "        'year': 'Period',\n",
    "    },\n",
    ")\n",
    "\n",
    "# Заполним пропуски средним по региону\n",
    "data['Schooling'] = \\\n",
    "    data.groupby(['ParentLocationCode', 'Period'])['Schooling'] \\\n",
    "    .transform(lambda x: x.fillna(x.mean()));\n",
    "\n",
    "# Убедимся, что пропусков нет\n",
    "data.isna().sum().sum()"
   ]
  },
  {
   "cell_type": "code",
   "execution_count": 171,
   "metadata": {},
   "outputs": [],
   "source": [
    "# Удалим столбцы, которые больше не нужны\n",
    "data.drop(columns=['ParentLocationCode'], inplace=True)"
   ]
  },
  {
   "cell_type": "code",
   "execution_count": 172,
   "metadata": {},
   "outputs": [],
   "source": [
    "# Сохраним полученную таблицу для дальнейшего использования\n",
    "data.to_csv('../data/ourworldindata_schooling_prepared.csv', index=False)"
   ]
  }
 ],
 "metadata": {
  "kernelspec": {
   "display_name": "Python 3",
   "language": "python",
   "name": "python3"
  },
  "language_info": {
   "codemirror_mode": {
    "name": "ipython",
    "version": 3
   },
   "file_extension": ".py",
   "mimetype": "text/x-python",
   "name": "python",
   "nbconvert_exporter": "python",
   "pygments_lexer": "ipython3",
   "version": "3.9.10"
  }
 },
 "nbformat": 4,
 "nbformat_minor": 2
}
