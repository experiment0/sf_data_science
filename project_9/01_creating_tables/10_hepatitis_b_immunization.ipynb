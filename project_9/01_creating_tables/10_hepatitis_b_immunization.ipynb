{
 "cells": [
  {
   "cell_type": "markdown",
   "metadata": {},
   "source": [
    "# Охват иммунизацией детей в возрасте 1 года против гепатита В (ГепВ3) (%)"
   ]
  },
  {
   "cell_type": "code",
   "execution_count": 15,
   "metadata": {},
   "outputs": [],
   "source": [
    "import pandas as pd\n",
    "\n",
    "from helpers import get_data_with_full_locations_and_years\n",
    "\n",
    "from warnings import simplefilter\n",
    "simplefilter('ignore')"
   ]
  },
  {
   "cell_type": "markdown",
   "metadata": {},
   "source": [
    "Эти данные можно найти на сайте ВОЗ по ссылке:\n",
    "\n",
    "https://www.who.int/data/gho/data/indicators/indicator-details/GHO/hepatitis-b-(hepb3)-immunization-coverage-among-1-year-olds-(-)"
   ]
  },
  {
   "cell_type": "code",
   "execution_count": 16,
   "metadata": {},
   "outputs": [
    {
     "data": {
      "text/html": [
       "<div>\n",
       "<style scoped>\n",
       "    .dataframe tbody tr th:only-of-type {\n",
       "        vertical-align: middle;\n",
       "    }\n",
       "\n",
       "    .dataframe tbody tr th {\n",
       "        vertical-align: top;\n",
       "    }\n",
       "\n",
       "    .dataframe thead th {\n",
       "        text-align: right;\n",
       "    }\n",
       "</style>\n",
       "<table border=\"1\" class=\"dataframe\">\n",
       "  <thead>\n",
       "    <tr style=\"text-align: right;\">\n",
       "      <th></th>\n",
       "      <th>IndicatorCode</th>\n",
       "      <th>Indicator</th>\n",
       "      <th>ValueType</th>\n",
       "      <th>ParentLocationCode</th>\n",
       "      <th>ParentLocation</th>\n",
       "      <th>Location type</th>\n",
       "      <th>SpatialDimValueCode</th>\n",
       "      <th>Location</th>\n",
       "      <th>Period type</th>\n",
       "      <th>Period</th>\n",
       "      <th>...</th>\n",
       "      <th>FactValueUoM</th>\n",
       "      <th>FactValueNumericLowPrefix</th>\n",
       "      <th>FactValueNumericLow</th>\n",
       "      <th>FactValueNumericHighPrefix</th>\n",
       "      <th>FactValueNumericHigh</th>\n",
       "      <th>Value</th>\n",
       "      <th>FactValueTranslationID</th>\n",
       "      <th>FactComments</th>\n",
       "      <th>Language</th>\n",
       "      <th>DateModified</th>\n",
       "    </tr>\n",
       "  </thead>\n",
       "  <tbody>\n",
       "    <tr>\n",
       "      <th>0</th>\n",
       "      <td>WHS4_117</td>\n",
       "      <td>Hepatitis B (HepB3) immunization coverage amon...</td>\n",
       "      <td>numeric</td>\n",
       "      <td>WPR</td>\n",
       "      <td>Western Pacific</td>\n",
       "      <td>Country</td>\n",
       "      <td>PNG</td>\n",
       "      <td>Papua New Guinea</td>\n",
       "      <td>Year</td>\n",
       "      <td>2020</td>\n",
       "      <td>...</td>\n",
       "      <td>NaN</td>\n",
       "      <td>NaN</td>\n",
       "      <td>NaN</td>\n",
       "      <td>NaN</td>\n",
       "      <td>NaN</td>\n",
       "      <td>40</td>\n",
       "      <td>NaN</td>\n",
       "      <td>NaN</td>\n",
       "      <td>EN</td>\n",
       "      <td>2024-07-11T21:00:00.000Z</td>\n",
       "    </tr>\n",
       "    <tr>\n",
       "      <th>1</th>\n",
       "      <td>WHS4_117</td>\n",
       "      <td>Hepatitis B (HepB3) immunization coverage amon...</td>\n",
       "      <td>numeric</td>\n",
       "      <td>AFR</td>\n",
       "      <td>Africa</td>\n",
       "      <td>Country</td>\n",
       "      <td>CAF</td>\n",
       "      <td>Central African Republic</td>\n",
       "      <td>Year</td>\n",
       "      <td>2020</td>\n",
       "      <td>...</td>\n",
       "      <td>NaN</td>\n",
       "      <td>NaN</td>\n",
       "      <td>NaN</td>\n",
       "      <td>NaN</td>\n",
       "      <td>NaN</td>\n",
       "      <td>42</td>\n",
       "      <td>NaN</td>\n",
       "      <td>NaN</td>\n",
       "      <td>EN</td>\n",
       "      <td>2024-07-11T21:00:00.000Z</td>\n",
       "    </tr>\n",
       "  </tbody>\n",
       "</table>\n",
       "<p>2 rows × 34 columns</p>\n",
       "</div>"
      ],
      "text/plain": [
       "  IndicatorCode                                          Indicator ValueType  \\\n",
       "0      WHS4_117  Hepatitis B (HepB3) immunization coverage amon...   numeric   \n",
       "1      WHS4_117  Hepatitis B (HepB3) immunization coverage amon...   numeric   \n",
       "\n",
       "  ParentLocationCode   ParentLocation Location type SpatialDimValueCode  \\\n",
       "0                WPR  Western Pacific       Country                 PNG   \n",
       "1                AFR           Africa       Country                 CAF   \n",
       "\n",
       "                   Location Period type  Period  ...  FactValueUoM  \\\n",
       "0          Papua New Guinea        Year    2020  ...           NaN   \n",
       "1  Central African Republic        Year    2020  ...           NaN   \n",
       "\n",
       "   FactValueNumericLowPrefix  FactValueNumericLow  FactValueNumericHighPrefix  \\\n",
       "0                        NaN                  NaN                         NaN   \n",
       "1                        NaN                  NaN                         NaN   \n",
       "\n",
       "   FactValueNumericHigh  Value  FactValueTranslationID  FactComments  \\\n",
       "0                   NaN     40                     NaN           NaN   \n",
       "1                   NaN     42                     NaN           NaN   \n",
       "\n",
       "   Language              DateModified  \n",
       "0        EN  2024-07-11T21:00:00.000Z  \n",
       "1        EN  2024-07-11T21:00:00.000Z  \n",
       "\n",
       "[2 rows x 34 columns]"
      ]
     },
     "execution_count": 16,
     "metadata": {},
     "output_type": "execute_result"
    }
   ],
   "source": [
    "# Загрузим таблицу\n",
    "data = pd.read_csv('../data/who_hepatitis_b_immunization.csv')\n",
    "\n",
    "data.head(2)"
   ]
  },
  {
   "cell_type": "markdown",
   "metadata": {},
   "source": [
    "Описание нужных нам столбцов.\n",
    "\n",
    "- `ParentLocationCode` - код региона\n",
    "- `SpatialDimValueCode` - код страны\n",
    "- `Period` - год\n",
    "- `FactValueNumeric` - охват иммунизацией детей в возрасте 1 года против гепатита В (ГепВ3) (%)\n",
    "\n",
    "Оставим только их."
   ]
  },
  {
   "cell_type": "code",
   "execution_count": 17,
   "metadata": {},
   "outputs": [
    {
     "data": {
      "text/html": [
       "<div>\n",
       "<style scoped>\n",
       "    .dataframe tbody tr th:only-of-type {\n",
       "        vertical-align: middle;\n",
       "    }\n",
       "\n",
       "    .dataframe tbody tr th {\n",
       "        vertical-align: top;\n",
       "    }\n",
       "\n",
       "    .dataframe thead th {\n",
       "        text-align: right;\n",
       "    }\n",
       "</style>\n",
       "<table border=\"1\" class=\"dataframe\">\n",
       "  <thead>\n",
       "    <tr style=\"text-align: right;\">\n",
       "      <th></th>\n",
       "      <th>ParentLocationCode</th>\n",
       "      <th>SpatialDimValueCode</th>\n",
       "      <th>Period</th>\n",
       "      <th>HepatitisBImmunization</th>\n",
       "    </tr>\n",
       "  </thead>\n",
       "  <tbody>\n",
       "    <tr>\n",
       "      <th>0</th>\n",
       "      <td>WPR</td>\n",
       "      <td>PNG</td>\n",
       "      <td>2020</td>\n",
       "      <td>40</td>\n",
       "    </tr>\n",
       "    <tr>\n",
       "      <th>1</th>\n",
       "      <td>AFR</td>\n",
       "      <td>CAF</td>\n",
       "      <td>2020</td>\n",
       "      <td>42</td>\n",
       "    </tr>\n",
       "    <tr>\n",
       "      <th>2</th>\n",
       "      <td>EMR</td>\n",
       "      <td>SOM</td>\n",
       "      <td>2020</td>\n",
       "      <td>42</td>\n",
       "    </tr>\n",
       "    <tr>\n",
       "      <th>3</th>\n",
       "      <td>AFR</td>\n",
       "      <td>GIN</td>\n",
       "      <td>2020</td>\n",
       "      <td>47</td>\n",
       "    </tr>\n",
       "    <tr>\n",
       "      <th>4</th>\n",
       "      <td>AFR</td>\n",
       "      <td>AGO</td>\n",
       "      <td>2020</td>\n",
       "      <td>51</td>\n",
       "    </tr>\n",
       "  </tbody>\n",
       "</table>\n",
       "</div>"
      ],
      "text/plain": [
       "  ParentLocationCode SpatialDimValueCode  Period  HepatitisBImmunization\n",
       "0                WPR                 PNG    2020                      40\n",
       "1                AFR                 CAF    2020                      42\n",
       "2                EMR                 SOM    2020                      42\n",
       "3                AFR                 GIN    2020                      47\n",
       "4                AFR                 AGO    2020                      51"
      ]
     },
     "execution_count": 17,
     "metadata": {},
     "output_type": "execute_result"
    }
   ],
   "source": [
    "data = data[[\n",
    "    'ParentLocationCode', 'SpatialDimValueCode', 'Period', 'FactValueNumeric',\n",
    "]]\n",
    "\n",
    "# Заменим название столбца FactValueNumeric на HepatitisBImmunization\n",
    "data.rename(\n",
    "    columns={'FactValueNumeric': 'HepatitisBImmunization'},\n",
    "    inplace=True,\n",
    ")\n",
    "\n",
    "data.head()"
   ]
  },
  {
   "cell_type": "markdown",
   "metadata": {},
   "source": [
    "В таблице нет информации о следующих странах за все годы:\n",
    "\n",
    "- Венгрия (*Hungary*), код страны *HUN*, код региона *EUR*\n",
    "- Финляндия (*Finland*), код страны *FIN*, код региона *EUR*\n",
    "- Словения (*Slovenia*), код страны *SVN*, код региона *EUR*\n",
    "- Исландия (*Iceland*), код страны *ISL*, код региона *EUR*\n",
    "- Дания (*Denmark*), код страны *DNK*, код региона *EUR*\n",
    "\n",
    "Добавим строки с пустыми данными об этих странах для 2000 г."
   ]
  },
  {
   "cell_type": "code",
   "execution_count": 18,
   "metadata": {},
   "outputs": [],
   "source": [
    "# Создадим пустую таблицу с такими же колонками, как у исходной\n",
    "new_data = pd.DataFrame(columns=list(data.columns))\n",
    "\n",
    "# Заполним данные отсутствующих стран только для 2000 г.\n",
    "new_data['SpatialDimValueCode'] = ['HUN', 'FIN', 'SVN', 'ISL', 'DNK']\n",
    "new_data['ParentLocationCode'] = 'EUR'\n",
    "new_data['Period'] = 2000\n",
    "\n",
    "# Добавим их в исходную таблицу\n",
    "data = pd.concat([\n",
    "    data,\n",
    "    new_data,\n",
    "], ignore_index=True)"
   ]
  },
  {
   "cell_type": "markdown",
   "metadata": {},
   "source": [
    "Также в таблице представлены данные для стран не за все года.\\\n",
    "Это связано с тем, что данные о вакцинации в некоторых странах начинали фиксироваться позже 2000г.\\\n",
    "Дополним таблицу строками с отсутствующими годами, чтобы явно увидеть пропуски."
   ]
  },
  {
   "cell_type": "code",
   "execution_count": 19,
   "metadata": {},
   "outputs": [
    {
     "data": {
      "text/plain": [
       "ParentLocationCode          0\n",
       "SpatialDimValueCode         0\n",
       "Period                      0\n",
       "HepatitisBImmunization    601\n",
       "dtype: int64"
      ]
     },
     "execution_count": 19,
     "metadata": {},
     "output_type": "execute_result"
    }
   ],
   "source": [
    "data = get_data_with_full_locations_and_years(\n",
    "    data,\n",
    "    {\n",
    "        'region_code': 'ParentLocationCode',\n",
    "        'location_code': 'SpatialDimValueCode',\n",
    "        'year': 'Period',\n",
    "    }\n",
    ")\n",
    "\n",
    "# Посмотрим на пропуски\n",
    "data.isna().sum()"
   ]
  },
  {
   "cell_type": "markdown",
   "metadata": {},
   "source": [
    "Заполним пропуски в пропущенные года средним по региону."
   ]
  },
  {
   "cell_type": "code",
   "execution_count": 20,
   "metadata": {},
   "outputs": [
    {
     "data": {
      "text/plain": [
       "0"
      ]
     },
     "execution_count": 20,
     "metadata": {},
     "output_type": "execute_result"
    }
   ],
   "source": [
    "data['HepatitisBImmunization'] = \\\n",
    "    data.groupby(['ParentLocationCode', 'Period'])['HepatitisBImmunization'] \\\n",
    "    .transform(lambda x: x.fillna(x.mean()));\n",
    "\n",
    "# Убедимся, что пропусков нет\n",
    "data.isna().sum().sum()"
   ]
  },
  {
   "cell_type": "code",
   "execution_count": 21,
   "metadata": {},
   "outputs": [],
   "source": [
    "# Удалим столбцы, которые больше не нужны\n",
    "data.drop(columns=['ParentLocationCode'], inplace=True)"
   ]
  },
  {
   "cell_type": "code",
   "execution_count": 22,
   "metadata": {},
   "outputs": [],
   "source": [
    "# Сохраним полученную таблицу для дальнейшего использования\n",
    "data.to_csv('../data/who_hepatitis_b_immunization_prepared.csv', index=False)"
   ]
  }
 ],
 "metadata": {
  "kernelspec": {
   "display_name": "Python 3",
   "language": "python",
   "name": "python3"
  },
  "language_info": {
   "codemirror_mode": {
    "name": "ipython",
    "version": 3
   },
   "file_extension": ".py",
   "mimetype": "text/x-python",
   "name": "python",
   "nbconvert_exporter": "python",
   "pygments_lexer": "ipython3",
   "version": "3.9.10"
  }
 },
 "nbformat": 4,
 "nbformat_minor": 2
}
