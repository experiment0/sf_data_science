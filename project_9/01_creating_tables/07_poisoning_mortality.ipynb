{
 "cells": [
  {
   "cell_type": "markdown",
   "metadata": {},
   "source": [
    "# Уровень смертности от непреднамеренного отравления (на 100 000 населения)"
   ]
  },
  {
   "cell_type": "code",
   "execution_count": 1,
   "metadata": {},
   "outputs": [],
   "source": [
    "import pandas as pd\n",
    "\n",
    "from warnings import simplefilter\n",
    "simplefilter('ignore')"
   ]
  },
  {
   "cell_type": "markdown",
   "metadata": {},
   "source": [
    "Эти данные можно найти на сайте ВОЗ по ссылке \\\n",
    "https://www.who.int/data/gho/data/themes/topics/indicator-groups/poison-control-and-unintentional-poisoning"
   ]
  },
  {
   "cell_type": "code",
   "execution_count": 2,
   "metadata": {},
   "outputs": [
    {
     "data": {
      "text/html": [
       "<div>\n",
       "<style scoped>\n",
       "    .dataframe tbody tr th:only-of-type {\n",
       "        vertical-align: middle;\n",
       "    }\n",
       "\n",
       "    .dataframe tbody tr th {\n",
       "        vertical-align: top;\n",
       "    }\n",
       "\n",
       "    .dataframe thead th {\n",
       "        text-align: right;\n",
       "    }\n",
       "</style>\n",
       "<table border=\"1\" class=\"dataframe\">\n",
       "  <thead>\n",
       "    <tr style=\"text-align: right;\">\n",
       "      <th></th>\n",
       "      <th>IndicatorCode</th>\n",
       "      <th>Indicator</th>\n",
       "      <th>ValueType</th>\n",
       "      <th>ParentLocationCode</th>\n",
       "      <th>ParentLocation</th>\n",
       "      <th>Location type</th>\n",
       "      <th>SpatialDimValueCode</th>\n",
       "      <th>Location</th>\n",
       "      <th>Period type</th>\n",
       "      <th>Period</th>\n",
       "      <th>...</th>\n",
       "      <th>FactValueUoM</th>\n",
       "      <th>FactValueNumericLowPrefix</th>\n",
       "      <th>FactValueNumericLow</th>\n",
       "      <th>FactValueNumericHighPrefix</th>\n",
       "      <th>FactValueNumericHigh</th>\n",
       "      <th>Value</th>\n",
       "      <th>FactValueTranslationID</th>\n",
       "      <th>FactComments</th>\n",
       "      <th>Language</th>\n",
       "      <th>DateModified</th>\n",
       "    </tr>\n",
       "  </thead>\n",
       "  <tbody>\n",
       "    <tr>\n",
       "      <th>0</th>\n",
       "      <td>SDGPOISON</td>\n",
       "      <td>Mortality rate attributed to unintentional poi...</td>\n",
       "      <td>numeric</td>\n",
       "      <td>WPR</td>\n",
       "      <td>Western Pacific</td>\n",
       "      <td>Country</td>\n",
       "      <td>BRN</td>\n",
       "      <td>Brunei Darussalam</td>\n",
       "      <td>Year</td>\n",
       "      <td>2019</td>\n",
       "      <td>...</td>\n",
       "      <td>NaN</td>\n",
       "      <td>NaN</td>\n",
       "      <td>0.0005</td>\n",
       "      <td>NaN</td>\n",
       "      <td>0.002</td>\n",
       "      <td>0.0 [0.0-0.0]</td>\n",
       "      <td>NaN</td>\n",
       "      <td>NaN</td>\n",
       "      <td>EN</td>\n",
       "      <td>2021-02-08T21:00:00.000Z</td>\n",
       "    </tr>\n",
       "    <tr>\n",
       "      <th>1</th>\n",
       "      <td>SDGPOISON</td>\n",
       "      <td>Mortality rate attributed to unintentional poi...</td>\n",
       "      <td>numeric</td>\n",
       "      <td>AMR</td>\n",
       "      <td>Americas</td>\n",
       "      <td>Country</td>\n",
       "      <td>VCT</td>\n",
       "      <td>Saint Vincent and the Grenadines</td>\n",
       "      <td>Year</td>\n",
       "      <td>2019</td>\n",
       "      <td>...</td>\n",
       "      <td>NaN</td>\n",
       "      <td>NaN</td>\n",
       "      <td>0.0030</td>\n",
       "      <td>NaN</td>\n",
       "      <td>0.008</td>\n",
       "      <td>0.0 [0.0-0.0]</td>\n",
       "      <td>NaN</td>\n",
       "      <td>NaN</td>\n",
       "      <td>EN</td>\n",
       "      <td>2021-02-08T21:00:00.000Z</td>\n",
       "    </tr>\n",
       "  </tbody>\n",
       "</table>\n",
       "<p>2 rows × 34 columns</p>\n",
       "</div>"
      ],
      "text/plain": [
       "  IndicatorCode                                          Indicator ValueType  \\\n",
       "0     SDGPOISON  Mortality rate attributed to unintentional poi...   numeric   \n",
       "1     SDGPOISON  Mortality rate attributed to unintentional poi...   numeric   \n",
       "\n",
       "  ParentLocationCode   ParentLocation Location type SpatialDimValueCode  \\\n",
       "0                WPR  Western Pacific       Country                 BRN   \n",
       "1                AMR         Americas       Country                 VCT   \n",
       "\n",
       "                           Location Period type  Period  ...  FactValueUoM  \\\n",
       "0                 Brunei Darussalam        Year    2019  ...           NaN   \n",
       "1  Saint Vincent and the Grenadines        Year    2019  ...           NaN   \n",
       "\n",
       "  FactValueNumericLowPrefix FactValueNumericLow FactValueNumericHighPrefix  \\\n",
       "0                       NaN              0.0005                        NaN   \n",
       "1                       NaN              0.0030                        NaN   \n",
       "\n",
       "   FactValueNumericHigh          Value  FactValueTranslationID  FactComments  \\\n",
       "0                 0.002  0.0 [0.0-0.0]                     NaN           NaN   \n",
       "1                 0.008  0.0 [0.0-0.0]                     NaN           NaN   \n",
       "\n",
       "   Language              DateModified  \n",
       "0        EN  2021-02-08T21:00:00.000Z  \n",
       "1        EN  2021-02-08T21:00:00.000Z  \n",
       "\n",
       "[2 rows x 34 columns]"
      ]
     },
     "execution_count": 2,
     "metadata": {},
     "output_type": "execute_result"
    }
   ],
   "source": [
    "# Загрузим таблицу\n",
    "data = pd.read_csv('../data/who_poisoning_mortality.csv')\n",
    "\n",
    "data.head(2)"
   ]
  },
  {
   "cell_type": "markdown",
   "metadata": {},
   "source": [
    "Описание нужных нам столбцов.\n",
    "\n",
    "- `SpatialDimValueCode` - код страны\n",
    "- `Period` - год\n",
    "- `FactValueNumeric` - уровень смертности от непреднамеренного отравления (на 100 000 населения)\n",
    "\n",
    "Оставим только их."
   ]
  },
  {
   "cell_type": "code",
   "execution_count": 3,
   "metadata": {},
   "outputs": [
    {
     "data": {
      "text/html": [
       "<div>\n",
       "<style scoped>\n",
       "    .dataframe tbody tr th:only-of-type {\n",
       "        vertical-align: middle;\n",
       "    }\n",
       "\n",
       "    .dataframe tbody tr th {\n",
       "        vertical-align: top;\n",
       "    }\n",
       "\n",
       "    .dataframe thead th {\n",
       "        text-align: right;\n",
       "    }\n",
       "</style>\n",
       "<table border=\"1\" class=\"dataframe\">\n",
       "  <thead>\n",
       "    <tr style=\"text-align: right;\">\n",
       "      <th></th>\n",
       "      <th>SpatialDimValueCode</th>\n",
       "      <th>Period</th>\n",
       "      <th>PoisoningMortality</th>\n",
       "    </tr>\n",
       "  </thead>\n",
       "  <tbody>\n",
       "    <tr>\n",
       "      <th>0</th>\n",
       "      <td>BRN</td>\n",
       "      <td>2019</td>\n",
       "      <td>0.001</td>\n",
       "    </tr>\n",
       "    <tr>\n",
       "      <th>1</th>\n",
       "      <td>VCT</td>\n",
       "      <td>2019</td>\n",
       "      <td>0.005</td>\n",
       "    </tr>\n",
       "    <tr>\n",
       "      <th>2</th>\n",
       "      <td>SGP</td>\n",
       "      <td>2019</td>\n",
       "      <td>0.019</td>\n",
       "    </tr>\n",
       "    <tr>\n",
       "      <th>3</th>\n",
       "      <td>ISR</td>\n",
       "      <td>2019</td>\n",
       "      <td>0.047</td>\n",
       "    </tr>\n",
       "    <tr>\n",
       "      <th>4</th>\n",
       "      <td>MDV</td>\n",
       "      <td>2019</td>\n",
       "      <td>0.047</td>\n",
       "    </tr>\n",
       "  </tbody>\n",
       "</table>\n",
       "</div>"
      ],
      "text/plain": [
       "  SpatialDimValueCode  Period  PoisoningMortality\n",
       "0                 BRN    2019               0.001\n",
       "1                 VCT    2019               0.005\n",
       "2                 SGP    2019               0.019\n",
       "3                 ISR    2019               0.047\n",
       "4                 MDV    2019               0.047"
      ]
     },
     "execution_count": 3,
     "metadata": {},
     "output_type": "execute_result"
    }
   ],
   "source": [
    "data = data[['SpatialDimValueCode', 'Period', 'FactValueNumeric']]\n",
    "\n",
    "# Переименуем столбец FactValueNumeric в PoisoningMortality\n",
    "data.rename(\n",
    "    columns={'FactValueNumeric': 'PoisoningMortality'},\n",
    "    inplace=True,\n",
    ")\n",
    "\n",
    "data.head()"
   ]
  },
  {
   "cell_type": "code",
   "execution_count": 4,
   "metadata": {},
   "outputs": [
    {
     "data": {
      "text/plain": [
       "0"
      ]
     },
     "execution_count": 4,
     "metadata": {},
     "output_type": "execute_result"
    }
   ],
   "source": [
    "# Убедимся, что нет пропусков\n",
    "data.isna().sum().sum()"
   ]
  },
  {
   "cell_type": "code",
   "execution_count": 5,
   "metadata": {},
   "outputs": [
    {
     "name": "stdout",
     "output_type": "stream",
     "text": [
      "Диапазон лет: 2000 - 2019 гг.\n"
     ]
    }
   ],
   "source": [
    "print(f\"Диапазон лет: {data['Period'].min()} - {data['Period'].max()} гг.\")"
   ]
  },
  {
   "cell_type": "markdown",
   "metadata": {},
   "source": [
    "Данные за 2020 год заполним средним за последние 3 года по стране."
   ]
  },
  {
   "cell_type": "code",
   "execution_count": 6,
   "metadata": {},
   "outputs": [
    {
     "data": {
      "text/html": [
       "<div>\n",
       "<style scoped>\n",
       "    .dataframe tbody tr th:only-of-type {\n",
       "        vertical-align: middle;\n",
       "    }\n",
       "\n",
       "    .dataframe tbody tr th {\n",
       "        vertical-align: top;\n",
       "    }\n",
       "\n",
       "    .dataframe thead th {\n",
       "        text-align: right;\n",
       "    }\n",
       "</style>\n",
       "<table border=\"1\" class=\"dataframe\">\n",
       "  <thead>\n",
       "    <tr style=\"text-align: right;\">\n",
       "      <th></th>\n",
       "      <th>SpatialDimValueCode</th>\n",
       "      <th>Period</th>\n",
       "      <th>PoisoningMortality</th>\n",
       "    </tr>\n",
       "  </thead>\n",
       "  <tbody>\n",
       "    <tr>\n",
       "      <th>0</th>\n",
       "      <td>AFG</td>\n",
       "      <td>2020</td>\n",
       "      <td>1.020000</td>\n",
       "    </tr>\n",
       "    <tr>\n",
       "      <th>1</th>\n",
       "      <td>AGO</td>\n",
       "      <td>2020</td>\n",
       "      <td>2.053333</td>\n",
       "    </tr>\n",
       "    <tr>\n",
       "      <th>2</th>\n",
       "      <td>ALB</td>\n",
       "      <td>2020</td>\n",
       "      <td>0.320000</td>\n",
       "    </tr>\n",
       "    <tr>\n",
       "      <th>3</th>\n",
       "      <td>ARE</td>\n",
       "      <td>2020</td>\n",
       "      <td>0.350000</td>\n",
       "    </tr>\n",
       "    <tr>\n",
       "      <th>4</th>\n",
       "      <td>ARG</td>\n",
       "      <td>2020</td>\n",
       "      <td>0.470000</td>\n",
       "    </tr>\n",
       "  </tbody>\n",
       "</table>\n",
       "</div>"
      ],
      "text/plain": [
       "  SpatialDimValueCode  Period  PoisoningMortality\n",
       "0                 AFG    2020            1.020000\n",
       "1                 AGO    2020            2.053333\n",
       "2                 ALB    2020            0.320000\n",
       "3                 ARE    2020            0.350000\n",
       "4                 ARG    2020            0.470000"
      ]
     },
     "execution_count": 6,
     "metadata": {},
     "output_type": "execute_result"
    }
   ],
   "source": [
    "# Маска для последних 3-х лет\n",
    "mask = data['Period'].isin([2019, 2018, 2017])\n",
    "\n",
    "# Сгруппируем по коду страны и возьмем среднее\n",
    "mean_last_3_years_data = data[mask].groupby('SpatialDimValueCode').agg('mean')\n",
    "\n",
    "# Сбросим индекс\n",
    "mean_last_3_years_data.reset_index(inplace=True)\n",
    "\n",
    "# Проставим 2020 год\n",
    "mean_last_3_years_data['Period'] = 2020\n",
    "\n",
    "mean_last_3_years_data.head()"
   ]
  },
  {
   "cell_type": "markdown",
   "metadata": {},
   "source": [
    "Соединим данные за 2020 год с предыдущей таблицей."
   ]
  },
  {
   "cell_type": "code",
   "execution_count": 7,
   "metadata": {},
   "outputs": [
    {
     "data": {
      "text/html": [
       "<div>\n",
       "<style scoped>\n",
       "    .dataframe tbody tr th:only-of-type {\n",
       "        vertical-align: middle;\n",
       "    }\n",
       "\n",
       "    .dataframe tbody tr th {\n",
       "        vertical-align: top;\n",
       "    }\n",
       "\n",
       "    .dataframe thead th {\n",
       "        text-align: right;\n",
       "    }\n",
       "</style>\n",
       "<table border=\"1\" class=\"dataframe\">\n",
       "  <thead>\n",
       "    <tr style=\"text-align: right;\">\n",
       "      <th></th>\n",
       "      <th>SpatialDimValueCode</th>\n",
       "      <th>Period</th>\n",
       "      <th>PoisoningMortality</th>\n",
       "    </tr>\n",
       "  </thead>\n",
       "  <tbody>\n",
       "    <tr>\n",
       "      <th>0</th>\n",
       "      <td>BRN</td>\n",
       "      <td>2019</td>\n",
       "      <td>0.001</td>\n",
       "    </tr>\n",
       "    <tr>\n",
       "      <th>1</th>\n",
       "      <td>VCT</td>\n",
       "      <td>2019</td>\n",
       "      <td>0.005</td>\n",
       "    </tr>\n",
       "    <tr>\n",
       "      <th>2</th>\n",
       "      <td>SGP</td>\n",
       "      <td>2019</td>\n",
       "      <td>0.019</td>\n",
       "    </tr>\n",
       "    <tr>\n",
       "      <th>3</th>\n",
       "      <td>ISR</td>\n",
       "      <td>2019</td>\n",
       "      <td>0.047</td>\n",
       "    </tr>\n",
       "    <tr>\n",
       "      <th>4</th>\n",
       "      <td>MDV</td>\n",
       "      <td>2019</td>\n",
       "      <td>0.047</td>\n",
       "    </tr>\n",
       "  </tbody>\n",
       "</table>\n",
       "</div>"
      ],
      "text/plain": [
       "  SpatialDimValueCode  Period  PoisoningMortality\n",
       "0                 BRN    2019               0.001\n",
       "1                 VCT    2019               0.005\n",
       "2                 SGP    2019               0.019\n",
       "3                 ISR    2019               0.047\n",
       "4                 MDV    2019               0.047"
      ]
     },
     "execution_count": 7,
     "metadata": {},
     "output_type": "execute_result"
    }
   ],
   "source": [
    "data = pd.concat([\n",
    "    data,\n",
    "    mean_last_3_years_data,\n",
    "], ignore_index=True)\n",
    "\n",
    "data.head()"
   ]
  },
  {
   "cell_type": "code",
   "execution_count": 8,
   "metadata": {},
   "outputs": [],
   "source": [
    "# Сохраним полученную таблицу для дальнейшего использования\n",
    "data.to_csv('../data/who_poisoning_mortality_prepared.csv', index=False)"
   ]
  }
 ],
 "metadata": {
  "kernelspec": {
   "display_name": "Python 3",
   "language": "python",
   "name": "python3"
  },
  "language_info": {
   "codemirror_mode": {
    "name": "ipython",
    "version": 3
   },
   "file_extension": ".py",
   "mimetype": "text/x-python",
   "name": "python",
   "nbconvert_exporter": "python",
   "pygments_lexer": "ipython3",
   "version": "3.9.10"
  }
 },
 "nbformat": 4,
 "nbformat_minor": 2
}
